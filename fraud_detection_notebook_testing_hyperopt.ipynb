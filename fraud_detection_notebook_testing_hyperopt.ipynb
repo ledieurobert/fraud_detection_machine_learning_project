{
 "cells": [
  {
   "cell_type": "markdown",
   "id": "b20c50e2",
   "metadata": {},
   "source": [
    "# DETECTION DE FRAUDES__TEST HYPEROPT "
   ]
  },
  {
   "cell_type": "markdown",
   "id": "163c3cb3",
   "metadata": {},
   "source": [
    "Dans ce notebook nous allons essayer d'améliorer nos modèles en faisant différents tests et en utilisant hyperopt pour le tunning"
   ]
  },
  {
   "cell_type": "markdown",
   "id": "d979544f",
   "metadata": {},
   "source": [
    "**Problématique: developper un modèle de classification binaire de machine learning pour prédire si une transaction bancaire est une fraude ou non**"
   ]
  },
  {
   "cell_type": "markdown",
   "id": "b3794306",
   "metadata": {},
   "source": [
    "### import/preprocessing/definition des fonctions"
   ]
  },
  {
   "cell_type": "code",
   "execution_count": 11,
   "id": "544da479",
   "metadata": {},
   "outputs": [],
   "source": [
    "from IPython.display import Image\n",
    "import pandas as pd\n",
    "import os\n",
    "import numpy as np\n",
    "import matplotlib.pyplot as plt\n",
    "import seaborn as sns\n",
    "from sklearn.model_selection import train_test_split\n",
    "from sklearn.preprocessing import OneHotEncoder, LabelBinarizer,LabelEncoder,RobustScaler,PolynomialFeatures\n",
    "from sklearn.linear_model import SGDClassifier\n",
    "from sklearn import svm\n",
    "from sklearn.metrics import confusion_matrix,plot_confusion_matrix,ConfusionMatrixDisplay,precision_score,precision_recall_fscore_support,plot_precision_recall_curve,roc_curve,roc_auc_score,recall_score,f1_score,make_scorer,SCORERS,plot_roc_curve,roc_curve\n",
    "from sklearn.tree import DecisionTreeClassifier,export_graphviz,plot_tree\n",
    "from sklearn.ensemble import GradientBoostingClassifier\n",
    "from sklearn.linear_model import LogisticRegression\n",
    "from sklearn.neighbors import KNeighborsClassifier\n",
    "from sklearn.model_selection import GridSearchCV,RandomizedSearchCV\n",
    "from sklearn.pipeline import Pipeline, make_pipeline\n",
    "from sklearn.model_selection import learning_curve,cross_val_score,cross_validate\n",
    "from sklearn.compose import make_column_transformer\n",
    "from collections import Counter\n",
    "from sklearn.datasets import make_classification\n",
    "from imblearn.under_sampling import NearMiss \n",
    "from imblearn.over_sampling import SMOTE\n",
    "from imblearn.combine import SMOTEENN,SMOTETomek \n",
    "import pickle\n",
    "from sklearn.ensemble import AdaBoostClassifier,RandomForestClassifier,IsolationForest,ExtraTreesClassifier\n",
    "from sklearn.decomposition import PCA\n",
    "import graphviz\n",
    "from xgboost import XGBClassifier\n",
    "import warnings\n",
    "from catboost import CatBoostClassifier\n",
    "from sklearn.model_selection import StratifiedKFold\n",
    "\n",
    "\n",
    "from hyperopt import tpe, hp, fmin, STATUS_OK,Trials\n",
    "from hyperopt.pyll.base import scope\n"
   ]
  },
  {
   "cell_type": "code",
   "execution_count": 13,
   "id": "34fc45a5",
   "metadata": {
    "scrolled": true
   },
   "outputs": [
    {
     "data": {
      "text/html": [
       "<div>\n",
       "<style scoped>\n",
       "    .dataframe tbody tr th:only-of-type {\n",
       "        vertical-align: middle;\n",
       "    }\n",
       "\n",
       "    .dataframe tbody tr th {\n",
       "        vertical-align: top;\n",
       "    }\n",
       "\n",
       "    .dataframe thead th {\n",
       "        text-align: right;\n",
       "    }\n",
       "</style>\n",
       "<table border=\"1\" class=\"dataframe\">\n",
       "  <thead>\n",
       "    <tr style=\"text-align: right;\">\n",
       "      <th></th>\n",
       "      <th>step</th>\n",
       "      <th>type</th>\n",
       "      <th>amount</th>\n",
       "      <th>nameOrig</th>\n",
       "      <th>oldbalanceOrg</th>\n",
       "      <th>newbalanceOrig</th>\n",
       "      <th>nameDest</th>\n",
       "      <th>oldbalanceDest</th>\n",
       "      <th>newbalanceDest</th>\n",
       "      <th>isFraud</th>\n",
       "      <th>isFlaggedFraud</th>\n",
       "    </tr>\n",
       "  </thead>\n",
       "  <tbody>\n",
       "    <tr>\n",
       "      <th>0</th>\n",
       "      <td>1</td>\n",
       "      <td>PAYMENT</td>\n",
       "      <td>9839.64</td>\n",
       "      <td>C1231006815</td>\n",
       "      <td>170136.0</td>\n",
       "      <td>160296.36</td>\n",
       "      <td>M1979787155</td>\n",
       "      <td>0.0</td>\n",
       "      <td>0.0</td>\n",
       "      <td>0</td>\n",
       "      <td>0</td>\n",
       "    </tr>\n",
       "    <tr>\n",
       "      <th>1</th>\n",
       "      <td>1</td>\n",
       "      <td>PAYMENT</td>\n",
       "      <td>1864.28</td>\n",
       "      <td>C1666544295</td>\n",
       "      <td>21249.0</td>\n",
       "      <td>19384.72</td>\n",
       "      <td>M2044282225</td>\n",
       "      <td>0.0</td>\n",
       "      <td>0.0</td>\n",
       "      <td>0</td>\n",
       "      <td>0</td>\n",
       "    </tr>\n",
       "    <tr>\n",
       "      <th>2</th>\n",
       "      <td>1</td>\n",
       "      <td>TRANSFER</td>\n",
       "      <td>181.00</td>\n",
       "      <td>C1305486145</td>\n",
       "      <td>181.0</td>\n",
       "      <td>0.00</td>\n",
       "      <td>C553264065</td>\n",
       "      <td>0.0</td>\n",
       "      <td>0.0</td>\n",
       "      <td>1</td>\n",
       "      <td>0</td>\n",
       "    </tr>\n",
       "    <tr>\n",
       "      <th>3</th>\n",
       "      <td>1</td>\n",
       "      <td>CASH_OUT</td>\n",
       "      <td>181.00</td>\n",
       "      <td>C840083671</td>\n",
       "      <td>181.0</td>\n",
       "      <td>0.00</td>\n",
       "      <td>C38997010</td>\n",
       "      <td>21182.0</td>\n",
       "      <td>0.0</td>\n",
       "      <td>1</td>\n",
       "      <td>0</td>\n",
       "    </tr>\n",
       "    <tr>\n",
       "      <th>4</th>\n",
       "      <td>1</td>\n",
       "      <td>PAYMENT</td>\n",
       "      <td>11668.14</td>\n",
       "      <td>C2048537720</td>\n",
       "      <td>41554.0</td>\n",
       "      <td>29885.86</td>\n",
       "      <td>M1230701703</td>\n",
       "      <td>0.0</td>\n",
       "      <td>0.0</td>\n",
       "      <td>0</td>\n",
       "      <td>0</td>\n",
       "    </tr>\n",
       "  </tbody>\n",
       "</table>\n",
       "</div>"
      ],
      "text/plain": [
       "   step      type    amount     nameOrig  oldbalanceOrg  newbalanceOrig  \\\n",
       "0     1   PAYMENT   9839.64  C1231006815       170136.0       160296.36   \n",
       "1     1   PAYMENT   1864.28  C1666544295        21249.0        19384.72   \n",
       "2     1  TRANSFER    181.00  C1305486145          181.0            0.00   \n",
       "3     1  CASH_OUT    181.00   C840083671          181.0            0.00   \n",
       "4     1   PAYMENT  11668.14  C2048537720        41554.0        29885.86   \n",
       "\n",
       "      nameDest  oldbalanceDest  newbalanceDest  isFraud  isFlaggedFraud  \n",
       "0  M1979787155             0.0             0.0        0               0  \n",
       "1  M2044282225             0.0             0.0        0               0  \n",
       "2   C553264065             0.0             0.0        1               0  \n",
       "3    C38997010         21182.0             0.0        1               0  \n",
       "4  M1230701703             0.0             0.0        0               0  "
      ]
     },
     "execution_count": 13,
     "metadata": {},
     "output_type": "execute_result"
    }
   ],
   "source": [
    "os.chdir('C:\\\\Users\\\\USER\\\\jupyter codes')\n",
    "fraudes=pd.read_csv('fraudes_bancaires.csv')\n",
    "fraudes.head()"
   ]
  },
  {
   "cell_type": "code",
   "execution_count": 14,
   "id": "4334e23c",
   "metadata": {
    "scrolled": true
   },
   "outputs": [
    {
     "ename": "FileNotFoundError",
     "evalue": "[Errno 2] No such file or directory: 'X_train1'",
     "output_type": "error",
     "traceback": [
      "\u001b[1;31m---------------------------------------------------------------------------\u001b[0m",
      "\u001b[1;31mFileNotFoundError\u001b[0m                         Traceback (most recent call last)",
      "\u001b[1;32m<ipython-input-14-e8725b635f62>\u001b[0m in \u001b[0;36m<module>\u001b[1;34m\u001b[0m\n\u001b[0;32m      1\u001b[0m \u001b[1;31m#sans smote\u001b[0m\u001b[1;33m\u001b[0m\u001b[1;33m\u001b[0m\u001b[1;33m\u001b[0m\u001b[0m\n\u001b[1;32m----> 2\u001b[1;33m \u001b[1;32mwith\u001b[0m \u001b[0mopen\u001b[0m\u001b[1;33m(\u001b[0m\u001b[1;34m'X_train1'\u001b[0m\u001b[1;33m,\u001b[0m \u001b[1;34m'rb'\u001b[0m\u001b[1;33m)\u001b[0m \u001b[1;32mas\u001b[0m \u001b[0mf9\u001b[0m\u001b[1;33m:\u001b[0m\u001b[1;33m\u001b[0m\u001b[1;33m\u001b[0m\u001b[0m\n\u001b[0m\u001b[0;32m      3\u001b[0m     \u001b[0mX_train1\u001b[0m \u001b[1;33m=\u001b[0m \u001b[0mpickle\u001b[0m\u001b[1;33m.\u001b[0m\u001b[0mload\u001b[0m\u001b[1;33m(\u001b[0m\u001b[0mf9\u001b[0m\u001b[1;33m)\u001b[0m\u001b[1;33m\u001b[0m\u001b[1;33m\u001b[0m\u001b[0m\n\u001b[0;32m      4\u001b[0m \u001b[1;32mwith\u001b[0m \u001b[0mopen\u001b[0m\u001b[1;33m(\u001b[0m\u001b[1;34m'y_train1'\u001b[0m\u001b[1;33m,\u001b[0m \u001b[1;34m'rb'\u001b[0m\u001b[1;33m)\u001b[0m \u001b[1;32mas\u001b[0m \u001b[0mf10\u001b[0m\u001b[1;33m:\u001b[0m\u001b[1;33m\u001b[0m\u001b[1;33m\u001b[0m\u001b[0m\n\u001b[0;32m      5\u001b[0m     \u001b[0my_train1\u001b[0m \u001b[1;33m=\u001b[0m \u001b[0mpickle\u001b[0m\u001b[1;33m.\u001b[0m\u001b[0mload\u001b[0m\u001b[1;33m(\u001b[0m\u001b[0mf10\u001b[0m\u001b[1;33m)\u001b[0m\u001b[1;33m\u001b[0m\u001b[1;33m\u001b[0m\u001b[0m\n",
      "\u001b[1;31mFileNotFoundError\u001b[0m: [Errno 2] No such file or directory: 'X_train1'"
     ]
    }
   ],
   "source": [
    "#sans smote\n",
    "with open('X_train1', 'rb') as f9:\n",
    "    X_train1 = pickle.load(f9)\n",
    "with open('y_train1', 'rb') as f10:\n",
    "    y_train1 = pickle.load(f10)\n",
    "with open('X_test1', 'rb') as f11:\n",
    "    X_test1 = pickle.load(f11)\n",
    "with open('y_test1', 'rb') as f12:\n",
    "    y_test1 = pickle.load(f12)\n",
    "\n",
    "#smote simple\n",
    "with open('X_res_train', 'rb') as f13:\n",
    "    X_res_train = pickle.load(f13)\n",
    "with open('y_res_train', 'rb') as f14:\n",
    "    y_res_train = pickle.load(f14)\n",
    "with open('X_test4', 'rb') as f15:\n",
    "    X_test4 = pickle.load(f15)\n",
    "with open('y_test4', 'rb') as f16:\n",
    "    y_test4 = pickle.load(f16)\n",
    "\n",
    "# smote_ENN   \n",
    "with open('X_res_train2', 'rb') as f1:\n",
    "    X_res_train2 = pickle.load(f1)\n",
    "with open('y_res_train2', 'rb') as f2:\n",
    "    y_res_train2 = pickle.load(f2)\n",
    "with open('X_test5', 'rb') as f3:\n",
    "    X_test5 = pickle.load(f3)\n",
    "with open('y_test5', 'rb') as f4:\n",
    "    y_test5 = pickle.load(f4)\n",
    "\n",
    "#smote_Tomek    \n",
    "with open('X_res_train3', 'rb') as f5:\n",
    "    X_res_train3 = pickle.load(f5)\n",
    "with open('y_res_train3', 'rb') as f6:\n",
    "    y_res_train3 = pickle.load(f6)\n",
    "with open('X_test6', 'rb') as f7:\n",
    "    X_test6 = pickle.load(f7)\n",
    "with open('y_test6', 'rb') as f8:\n",
    "    y_test6 = pickle.load(f8)"
   ]
  },
  {
   "cell_type": "code",
   "execution_count": 4,
   "id": "de584584",
   "metadata": {},
   "outputs": [],
   "source": [
    "def encoder(df):\n",
    "    encodeur=LabelEncoder()\n",
    "    df['is_Cash_OUT']=encodeur.fit_transform(df['type'])\n",
    "    df=df.drop('type',axis=1)\n",
    "    return df\n",
    "def enlever_colonnes(df):\n",
    "    heures=df.step %24\n",
    "    df['heures']=heures\n",
    "    df.drop(['nameOrig','newbalanceOrig','newbalanceDest','isFlaggedFraud','step','nameDest'],axis=1, inplace=True)\n",
    "    return df\n",
    "def retirer_transactions(df):\n",
    "    fraudes_type=((fraudes['type']=='TRANSFER') |(fraudes['type']=='CASH_OUT'))\n",
    "    index_transfert=fraudes_type[fraudes_type==True].index\n",
    "    return fraudes.loc[index_transfert,:]\n",
    "def scaler(df):\n",
    "    scaler=RobustScaler()\n",
    "    df_continue=scaler.fit_transform(df.loc[:,['amount','oldbalanceOrg','oldbalanceDest','heures']])\n",
    "    df['amount']=df_continue[:,0]\n",
    "    df['oldbalanceOrg']=df_continue[:,1]\n",
    "    df['oldbalanceDest']=df_continue[:,2]\n",
    "    df['heures']=df_continue[:,3]\n",
    "    return df\n",
    "def test_model(modele,X_train,X_test,y_train,y_test):\n",
    "    modele.fit(X_train,y_train)\n",
    "    plot_confusion_matrix(modele,X_test,y_test)\n",
    "\n",
    "def métriques(predictions_simple,y_test1):\n",
    "    print('f1 score=',f1_score(y_test1,predictions_simple))\n",
    "    print('precision=',precision_score(y_test1,predictions_simple))\n",
    "    print('recall=',recall_score(y_test1,predictions_simple))   "
   ]
  },
  {
   "cell_type": "code",
   "execution_count": 5,
   "id": "72f72d0e",
   "metadata": {},
   "outputs": [],
   "source": [
    "arbre=DecisionTreeClassifier(random_state=0)\n",
    "sgd=SGDClassifier(random_state=0)\n",
    "logistique=LogisticRegression(random_state=0)\n",
    "voisins=KNeighborsClassifier()\n",
    "svc=svm.SVC(random_state=0)\n",
    "gradientboosting=GradientBoostingClassifier(random_state=0)\n",
    "ADAboost=AdaBoostClassifier(random_state=0)\n",
    "randomforest = RandomForestClassifier(random_state=0)\n",
    "isolationforest=IsolationForest(random_state=0)\n",
    "xgb=XGBClassifier(max_depth=40,random_state=0)\n",
    "extreme_tree=ExtraTreesClassifier(random_state=0)\n",
    "cad=CatBoostClassifier(random_state=0)\n",
    "\n",
    "randomforest_modifié1=RandomForestClassifier(max_depth= 30, min_samples_leaf= 5,random_state=0)\n",
    "randomforest_modifié2=RandomForestClassifier(max_depth= 15, min_samples_leaf= 3,random_state=0)"
   ]
  },
  {
   "cell_type": "markdown",
   "id": "5fe65c2a",
   "metadata": {},
   "source": [
    "## Test HYPEROPT sur un arbre de décision"
   ]
  },
  {
   "cell_type": "markdown",
   "id": "575c1f52",
   "metadata": {},
   "source": [
    "on va comparer le randomsearchCV avec Hyperopt pour évaluer l'éfficacité de ce dernier"
   ]
  },
  {
   "cell_type": "markdown",
   "id": "15c9b2b7",
   "metadata": {},
   "source": [
    "#### RandomizedSearchCV sur un arbre de decision"
   ]
  },
  {
   "cell_type": "markdown",
   "id": "4ee02440",
   "metadata": {},
   "source": [
    "Créons une grille aléatoire sur trois hyperparamètres et 100 tests.\n",
    "\n",
    "On fera ensuite de même avec hyperopt"
   ]
  },
  {
   "cell_type": "code",
   "execution_count": 6,
   "id": "a4a685bc",
   "metadata": {
    "scrolled": true
   },
   "outputs": [
    {
     "data": {
      "text/plain": [
       "RandomizedSearchCV(cv=3, estimator=DecisionTreeClassifier(), n_iter=100,\n",
       "                   param_distributions={'max_depth': array([ 1,  2,  3,  4,  5,  6,  7,  8,  9, 10, 11, 12, 13, 14]),\n",
       "                                        'min_samples_leaf': array([ 2,  5,  8, 11, 14, 17, 20, 23, 26, 29]),\n",
       "                                        'min_samples_split': array([ 2,  5,  8, 11, 14, 17, 20, 23, 26, 29])},\n",
       "                   scoring='roc_auc', verbose=3)"
      ]
     },
     "execution_count": 6,
     "metadata": {},
     "output_type": "execute_result"
    }
   ],
   "source": [
    "tree=DecisionTreeClassifier()\n",
    "param_distribution={'max_depth':np.arange(1,15,1),'min_samples_leaf':np.arange(2,32,3),'min_samples_split':np.arange(2,32,3)}\n",
    "random_grid=RandomizedSearchCV(tree,param_distribution,n_iter=100,cv=3,verbose=3,scoring=\"roc_auc\")\n",
    "random_grid"
   ]
  },
  {
   "cell_type": "markdown",
   "id": "f4464006",
   "metadata": {},
   "source": [
    "On optimise trois parametres: max_depth,min_samples_leaf,min_samples_split en testant 500 modèles avec des configurations différentes (+ cv=3)"
   ]
  },
  {
   "cell_type": "code",
   "execution_count": null,
   "id": "0d6867d7",
   "metadata": {},
   "outputs": [],
   "source": [
    "random_grid.fit(X_train1,y_train1)"
   ]
  },
  {
   "cell_type": "code",
   "execution_count": 19,
   "id": "f66f559a",
   "metadata": {
    "scrolled": true
   },
   "outputs": [
    {
     "data": {
      "text/html": [
       "<div>\n",
       "<style scoped>\n",
       "    .dataframe tbody tr th:only-of-type {\n",
       "        vertical-align: middle;\n",
       "    }\n",
       "\n",
       "    .dataframe tbody tr th {\n",
       "        vertical-align: top;\n",
       "    }\n",
       "\n",
       "    .dataframe thead th {\n",
       "        text-align: right;\n",
       "    }\n",
       "</style>\n",
       "<table border=\"1\" class=\"dataframe\">\n",
       "  <thead>\n",
       "    <tr style=\"text-align: right;\">\n",
       "      <th></th>\n",
       "      <th>mean_fit_time</th>\n",
       "      <th>std_fit_time</th>\n",
       "      <th>mean_score_time</th>\n",
       "      <th>std_score_time</th>\n",
       "      <th>param_min_samples_split</th>\n",
       "      <th>param_min_samples_leaf</th>\n",
       "      <th>param_max_depth</th>\n",
       "      <th>params</th>\n",
       "      <th>split0_test_score</th>\n",
       "      <th>split1_test_score</th>\n",
       "      <th>split2_test_score</th>\n",
       "      <th>mean_test_score</th>\n",
       "      <th>std_test_score</th>\n",
       "      <th>rank_test_score</th>\n",
       "    </tr>\n",
       "  </thead>\n",
       "  <tbody>\n",
       "    <tr>\n",
       "      <th>0</th>\n",
       "      <td>23.254070</td>\n",
       "      <td>0.809790</td>\n",
       "      <td>0.427243</td>\n",
       "      <td>0.015373</td>\n",
       "      <td>14</td>\n",
       "      <td>11</td>\n",
       "      <td>13</td>\n",
       "      <td>{'min_samples_split': 14, 'min_samples_leaf': ...</td>\n",
       "      <td>0.979503</td>\n",
       "      <td>0.972468</td>\n",
       "      <td>0.974716</td>\n",
       "      <td>0.975562</td>\n",
       "      <td>0.002934</td>\n",
       "      <td>38</td>\n",
       "    </tr>\n",
       "    <tr>\n",
       "      <th>1</th>\n",
       "      <td>6.247398</td>\n",
       "      <td>0.090585</td>\n",
       "      <td>0.403327</td>\n",
       "      <td>0.052745</td>\n",
       "      <td>11</td>\n",
       "      <td>20</td>\n",
       "      <td>3</td>\n",
       "      <td>{'min_samples_split': 11, 'min_samples_leaf': ...</td>\n",
       "      <td>0.854133</td>\n",
       "      <td>0.782632</td>\n",
       "      <td>0.769760</td>\n",
       "      <td>0.802175</td>\n",
       "      <td>0.037114</td>\n",
       "      <td>84</td>\n",
       "    </tr>\n",
       "    <tr>\n",
       "      <th>2</th>\n",
       "      <td>15.683951</td>\n",
       "      <td>0.272385</td>\n",
       "      <td>0.446147</td>\n",
       "      <td>0.007060</td>\n",
       "      <td>23</td>\n",
       "      <td>29</td>\n",
       "      <td>8</td>\n",
       "      <td>{'min_samples_split': 23, 'min_samples_leaf': ...</td>\n",
       "      <td>0.981988</td>\n",
       "      <td>0.967580</td>\n",
       "      <td>0.975702</td>\n",
       "      <td>0.975090</td>\n",
       "      <td>0.005898</td>\n",
       "      <td>43</td>\n",
       "    </tr>\n",
       "    <tr>\n",
       "      <th>3</th>\n",
       "      <td>2.208288</td>\n",
       "      <td>0.062479</td>\n",
       "      <td>0.331068</td>\n",
       "      <td>0.037571</td>\n",
       "      <td>2</td>\n",
       "      <td>29</td>\n",
       "      <td>1</td>\n",
       "      <td>{'min_samples_split': 2, 'min_samples_leaf': 2...</td>\n",
       "      <td>0.655373</td>\n",
       "      <td>0.633444</td>\n",
       "      <td>0.630783</td>\n",
       "      <td>0.639867</td>\n",
       "      <td>0.011018</td>\n",
       "      <td>92</td>\n",
       "    </tr>\n",
       "    <tr>\n",
       "      <th>4</th>\n",
       "      <td>6.126980</td>\n",
       "      <td>0.161355</td>\n",
       "      <td>0.369454</td>\n",
       "      <td>0.036114</td>\n",
       "      <td>17</td>\n",
       "      <td>2</td>\n",
       "      <td>3</td>\n",
       "      <td>{'min_samples_split': 17, 'min_samples_leaf': ...</td>\n",
       "      <td>0.854140</td>\n",
       "      <td>0.782635</td>\n",
       "      <td>0.769760</td>\n",
       "      <td>0.802178</td>\n",
       "      <td>0.037116</td>\n",
       "      <td>78</td>\n",
       "    </tr>\n",
       "    <tr>\n",
       "      <th>...</th>\n",
       "      <td>...</td>\n",
       "      <td>...</td>\n",
       "      <td>...</td>\n",
       "      <td>...</td>\n",
       "      <td>...</td>\n",
       "      <td>...</td>\n",
       "      <td>...</td>\n",
       "      <td>...</td>\n",
       "      <td>...</td>\n",
       "      <td>...</td>\n",
       "      <td>...</td>\n",
       "      <td>...</td>\n",
       "      <td>...</td>\n",
       "      <td>...</td>\n",
       "    </tr>\n",
       "    <tr>\n",
       "      <th>95</th>\n",
       "      <td>19.602170</td>\n",
       "      <td>0.100841</td>\n",
       "      <td>0.466151</td>\n",
       "      <td>0.003452</td>\n",
       "      <td>17</td>\n",
       "      <td>8</td>\n",
       "      <td>11</td>\n",
       "      <td>{'min_samples_split': 17, 'min_samples_leaf': ...</td>\n",
       "      <td>0.976587</td>\n",
       "      <td>0.977284</td>\n",
       "      <td>0.976582</td>\n",
       "      <td>0.976818</td>\n",
       "      <td>0.000330</td>\n",
       "      <td>37</td>\n",
       "    </tr>\n",
       "    <tr>\n",
       "      <th>96</th>\n",
       "      <td>7.891548</td>\n",
       "      <td>0.178597</td>\n",
       "      <td>0.389158</td>\n",
       "      <td>0.004496</td>\n",
       "      <td>8</td>\n",
       "      <td>20</td>\n",
       "      <td>4</td>\n",
       "      <td>{'min_samples_split': 8, 'min_samples_leaf': 2...</td>\n",
       "      <td>0.863052</td>\n",
       "      <td>0.850303</td>\n",
       "      <td>0.882555</td>\n",
       "      <td>0.865303</td>\n",
       "      <td>0.013263</td>\n",
       "      <td>75</td>\n",
       "    </tr>\n",
       "    <tr>\n",
       "      <th>97</th>\n",
       "      <td>5.496618</td>\n",
       "      <td>0.633741</td>\n",
       "      <td>0.420091</td>\n",
       "      <td>0.056893</td>\n",
       "      <td>26</td>\n",
       "      <td>5</td>\n",
       "      <td>3</td>\n",
       "      <td>{'min_samples_split': 26, 'min_samples_leaf': ...</td>\n",
       "      <td>0.854137</td>\n",
       "      <td>0.782635</td>\n",
       "      <td>0.769760</td>\n",
       "      <td>0.802178</td>\n",
       "      <td>0.037115</td>\n",
       "      <td>79</td>\n",
       "    </tr>\n",
       "    <tr>\n",
       "      <th>98</th>\n",
       "      <td>19.316242</td>\n",
       "      <td>0.176871</td>\n",
       "      <td>0.412587</td>\n",
       "      <td>0.008147</td>\n",
       "      <td>5</td>\n",
       "      <td>17</td>\n",
       "      <td>11</td>\n",
       "      <td>{'min_samples_split': 5, 'min_samples_leaf': 1...</td>\n",
       "      <td>0.978055</td>\n",
       "      <td>0.978876</td>\n",
       "      <td>0.981452</td>\n",
       "      <td>0.979461</td>\n",
       "      <td>0.001447</td>\n",
       "      <td>28</td>\n",
       "    </tr>\n",
       "    <tr>\n",
       "      <th>99</th>\n",
       "      <td>5.867021</td>\n",
       "      <td>0.165408</td>\n",
       "      <td>0.389893</td>\n",
       "      <td>0.030729</td>\n",
       "      <td>29</td>\n",
       "      <td>23</td>\n",
       "      <td>3</td>\n",
       "      <td>{'min_samples_split': 29, 'min_samples_leaf': ...</td>\n",
       "      <td>0.854133</td>\n",
       "      <td>0.782632</td>\n",
       "      <td>0.769760</td>\n",
       "      <td>0.802175</td>\n",
       "      <td>0.037114</td>\n",
       "      <td>84</td>\n",
       "    </tr>\n",
       "  </tbody>\n",
       "</table>\n",
       "<p>100 rows × 14 columns</p>\n",
       "</div>"
      ],
      "text/plain": [
       "    mean_fit_time  std_fit_time  mean_score_time  std_score_time  \\\n",
       "0       23.254070      0.809790         0.427243        0.015373   \n",
       "1        6.247398      0.090585         0.403327        0.052745   \n",
       "2       15.683951      0.272385         0.446147        0.007060   \n",
       "3        2.208288      0.062479         0.331068        0.037571   \n",
       "4        6.126980      0.161355         0.369454        0.036114   \n",
       "..            ...           ...              ...             ...   \n",
       "95      19.602170      0.100841         0.466151        0.003452   \n",
       "96       7.891548      0.178597         0.389158        0.004496   \n",
       "97       5.496618      0.633741         0.420091        0.056893   \n",
       "98      19.316242      0.176871         0.412587        0.008147   \n",
       "99       5.867021      0.165408         0.389893        0.030729   \n",
       "\n",
       "   param_min_samples_split param_min_samples_leaf param_max_depth  \\\n",
       "0                       14                     11              13   \n",
       "1                       11                     20               3   \n",
       "2                       23                     29               8   \n",
       "3                        2                     29               1   \n",
       "4                       17                      2               3   \n",
       "..                     ...                    ...             ...   \n",
       "95                      17                      8              11   \n",
       "96                       8                     20               4   \n",
       "97                      26                      5               3   \n",
       "98                       5                     17              11   \n",
       "99                      29                     23               3   \n",
       "\n",
       "                                               params  split0_test_score  \\\n",
       "0   {'min_samples_split': 14, 'min_samples_leaf': ...           0.979503   \n",
       "1   {'min_samples_split': 11, 'min_samples_leaf': ...           0.854133   \n",
       "2   {'min_samples_split': 23, 'min_samples_leaf': ...           0.981988   \n",
       "3   {'min_samples_split': 2, 'min_samples_leaf': 2...           0.655373   \n",
       "4   {'min_samples_split': 17, 'min_samples_leaf': ...           0.854140   \n",
       "..                                                ...                ...   \n",
       "95  {'min_samples_split': 17, 'min_samples_leaf': ...           0.976587   \n",
       "96  {'min_samples_split': 8, 'min_samples_leaf': 2...           0.863052   \n",
       "97  {'min_samples_split': 26, 'min_samples_leaf': ...           0.854137   \n",
       "98  {'min_samples_split': 5, 'min_samples_leaf': 1...           0.978055   \n",
       "99  {'min_samples_split': 29, 'min_samples_leaf': ...           0.854133   \n",
       "\n",
       "    split1_test_score  split2_test_score  mean_test_score  std_test_score  \\\n",
       "0            0.972468           0.974716         0.975562        0.002934   \n",
       "1            0.782632           0.769760         0.802175        0.037114   \n",
       "2            0.967580           0.975702         0.975090        0.005898   \n",
       "3            0.633444           0.630783         0.639867        0.011018   \n",
       "4            0.782635           0.769760         0.802178        0.037116   \n",
       "..                ...                ...              ...             ...   \n",
       "95           0.977284           0.976582         0.976818        0.000330   \n",
       "96           0.850303           0.882555         0.865303        0.013263   \n",
       "97           0.782635           0.769760         0.802178        0.037115   \n",
       "98           0.978876           0.981452         0.979461        0.001447   \n",
       "99           0.782632           0.769760         0.802175        0.037114   \n",
       "\n",
       "    rank_test_score  \n",
       "0                38  \n",
       "1                84  \n",
       "2                43  \n",
       "3                92  \n",
       "4                78  \n",
       "..              ...  \n",
       "95               37  \n",
       "96               75  \n",
       "97               79  \n",
       "98               28  \n",
       "99               84  \n",
       "\n",
       "[100 rows x 14 columns]"
      ]
     },
     "execution_count": 19,
     "metadata": {},
     "output_type": "execute_result"
    }
   ],
   "source": [
    "data=pd.DataFrame(random_grid.cv_results_)\n",
    "data"
   ]
  },
  {
   "cell_type": "code",
   "execution_count": 18,
   "id": "3616a8ba",
   "metadata": {},
   "outputs": [
    {
     "data": {
      "text/plain": [
       "(0.9837140571488252,\n",
       " {'min_samples_split': 26, 'min_samples_leaf': 26, 'max_depth': 10})"
      ]
     },
     "execution_count": 18,
     "metadata": {},
     "output_type": "execute_result"
    }
   ],
   "source": [
    "random_grid.best_score_,random_grid.best_params_"
   ]
  },
  {
   "cell_type": "markdown",
   "id": "f3be1226",
   "metadata": {},
   "source": [
    "Entrainons un modèle d'arbres avec cette configuration sur l'ensemble du trainset, et testons le sur le testset"
   ]
  },
  {
   "cell_type": "code",
   "execution_count": 20,
   "id": "2bf7e941",
   "metadata": {
    "scrolled": false
   },
   "outputs": [
    {
     "data": {
      "image/png": "[encoded data removed]",
      "text/plain": [
       "<Figure size 432x288 with 2 Axes>"
      ]
     },
     "metadata": {
      "needs_background": "light"
     },
     "output_type": "display_data"
    }
   ],
   "source": [
    "tree_parametré=DecisionTreeClassifier(min_samples_split= 26, min_samples_leaf= 26, max_depth= 10,random_state=0)\n",
    "test_model(tree_parametré,X_train1, X_test1, y_train1, y_test1)"
   ]
  },
  {
   "cell_type": "code",
   "execution_count": 21,
   "id": "faac2ec9",
   "metadata": {},
   "outputs": [],
   "source": [
    "predictions_simple0=tree_parametré.predict(X_test1)"
   ]
  },
  {
   "cell_type": "code",
   "execution_count": 22,
   "id": "b49d62ea",
   "metadata": {
    "scrolled": true
   },
   "outputs": [
    {
     "name": "stdout",
     "output_type": "stream",
     "text": [
      "f1 score= 0.6891942072038619\n",
      "precision= 0.9044834307992202\n",
      "recall= 0.5566886622675465\n"
     ]
    }
   ],
   "source": [
    "métriques(predictions_simple0,y_test1)"
   ]
  },
  {
   "cell_type": "markdown",
   "id": "c2e61342",
   "metadata": {},
   "source": [
    "arbre de decision sans optimisation: \n",
    "\n",
    "precision= 0.7321729365524986\n",
    "recall= 0.7822435512897421\n",
    "\n",
    "On a donc sacrifié du recall pour avoir plus de précision, mais le modèle obtenue ici semble tout de même globalement meilleur"
   ]
  },
  {
   "cell_type": "markdown",
   "id": "180af9a3",
   "metadata": {},
   "source": [
    "## Test de Hyperopt"
   ]
  },
  {
   "cell_type": "markdown",
   "id": "453f424d",
   "metadata": {},
   "source": [
    "On va maintenant utiliser Hyperopt avec les mêmes hyperparamètres dans la grille de recherche pour voir si les résultats sont les mêmes"
   ]
  },
  {
   "cell_type": "code",
   "execution_count": 8,
   "id": "a6c47338",
   "metadata": {
    "scrolled": true
   },
   "outputs": [],
   "source": [
    "space = {\n",
    "    \"min_samples_leaf\": hp.choice('min_samples_leaf',np.arange(2,32,3)),\n",
    "    \"max_depth\": hp.quniform(\"max_depth\", 1, 15,1),\n",
    "    \"min_samples_split\":hp.choice(\"min_samples_split\",np.arange(2,32,3))\n",
    "}"
   ]
  },
  {
   "cell_type": "code",
   "execution_count": 9,
   "id": "1217a2ff",
   "metadata": {},
   "outputs": [],
   "source": [
    "def hyperparameter_tuning(params):\n",
    "    clf = DecisionTreeClassifier(**params)\n",
    "    acc = cross_val_score(clf, X_train1, y_train1,scoring=\"roc_auc\").mean()\n",
    "    return {\"loss\": -acc, \"status\": STATUS_OK}"
   ]
  },
  {
   "cell_type": "code",
   "execution_count": 15,
   "id": "49a70d80",
   "metadata": {},
   "outputs": [
    {
     "name": "stdout",
     "output_type": "stream",
     "text": [
      "100%|██████████| 100/100 [4:16:43<00:00, 154.04s/trial, best loss: -0.9859143605321039]  \n",
      "Best: {'max_depth': 10.0, 'min_samples_leaf': 8, 'min_samples_split': 2}\n"
     ]
    }
   ],
   "source": [
    "trials = Trials()\n",
    "\n",
    "best = fmin(\n",
    "    fn=hyperparameter_tuning,\n",
    "    space = space, \n",
    "    algo=tpe.suggest, \n",
    "    max_evals=100, \n",
    "    trials=trials\n",
    ")\n",
    "\n",
    "print(\"Best: {}\".format(best))"
   ]
  },
  {
   "cell_type": "code",
   "execution_count": 7,
   "id": "b690ae1b",
   "metadata": {
    "scrolled": true
   },
   "outputs": [],
   "source": [
    "arbrehyper=DecisionTreeClassifier(max_depth= 10, min_samples_leaf= 8,min_samples_split= 2)"
   ]
  },
  {
   "cell_type": "code",
   "execution_count": 8,
   "id": "22f40c8d",
   "metadata": {
    "scrolled": false
   },
   "outputs": [
    {
     "data": {
      "image/png": "[encoded data removed]",
      "text/plain": [
       "<Figure size 432x288 with 2 Axes>"
      ]
     },
     "metadata": {
      "needs_background": "light"
     },
     "output_type": "display_data"
    }
   ],
   "source": [
    "test_model(arbrehyper,X_train1, X_test1, y_train1, y_test1)"
   ]
  },
  {
   "cell_type": "code",
   "execution_count": 9,
   "id": "1f050e40",
   "metadata": {},
   "outputs": [],
   "source": [
    "predictions_simple_hyper=arbrehyper.predict(X_test1)"
   ]
  },
  {
   "cell_type": "code",
   "execution_count": 10,
   "id": "907ed12f",
   "metadata": {
    "scrolled": false
   },
   "outputs": [
    {
     "name": "stdout",
     "output_type": "stream",
     "text": [
      "f1 score= 0.6957809030347891\n",
      "precision= 0.9082125603864735\n",
      "recall= 0.563887222555489\n"
     ]
    }
   ],
   "source": [
    "métriques(predictions_simple_hyper,y_test1)"
   ]
  },
  {
   "cell_type": "markdown",
   "id": "6d0b4c24",
   "metadata": {},
   "source": [
    "**hyperparamètre du randomgrid: **\n",
    "    \n",
    "    'min_samples_split': 26, 'min_samples_leaf': 26, 'max_depth': 10\n",
    "  \n",
    "  **hyperparamètre d'hyperopt: ** \n",
    "    \n",
    "    'min_samples_split': 2,  'min_samples_leaf': 8,  'max_depth': 10"
   ]
  },
  {
   "cell_type": "markdown",
   "id": "d08d8ba4",
   "metadata": {},
   "source": [
    "Les hyperparamètres 'min_samples_split' et 'min_samples_leaf' sont très différents, 'max_depth' est toujours à 10\n",
    "\n",
    "Les résultats sont très semblables mais Hyperopt semble se débrouiller légerement mieux. \n",
    "\n",
    "Pour expliquer ces résultats on peut faire l'hypothèse que 'min_samples_split' et 'min_samples_leaf' n'ont que très peu d'influence sur les résultats des modèles, contrairement à 'max_depth'. Les deux méthodes ont réussi à trouver le meilleur 'max_depth' mais contrairement à randomgridsearch, hyperopt est capable de savoir dans quelle \"direction\", il faut faire bouger les paramètres pour avoir les meilleurs scores. Il a donc pu arriver à une meilleur combinaison d'hyperparamètres en moins de 100 tests, là où il en aurait fallu beaucoup plus pour une grille totalement aléatoire\n"
   ]
  },
  {
   "cell_type": "markdown",
   "id": "fa6c16b7",
   "metadata": {},
   "source": [
    "### (test entre les deux)"
   ]
  },
  {
   "cell_type": "markdown",
   "id": "f29b0997",
   "metadata": {},
   "source": [
    "On essaye rapidements des hyperparamètres intérmédiaires entre ceux obtenues avec l'arbre de decision et cexu obtenues avec Hyperopt:"
   ]
  },
  {
   "cell_type": "code",
   "execution_count": 29,
   "id": "f6f4879f",
   "metadata": {},
   "outputs": [],
   "source": [
    "arbre_entre2=DecisionTreeClassifier(max_depth= 10, min_samples_leaf= 17,min_samples_split= 14)"
   ]
  },
  {
   "cell_type": "code",
   "execution_count": 30,
   "id": "d41cde1f",
   "metadata": {},
   "outputs": [
    {
     "data": {
      "image/png": "[encoded data removed]",
      "text/plain": [
       "<Figure size 432x288 with 2 Axes>"
      ]
     },
     "metadata": {
      "needs_background": "light"
     },
     "output_type": "display_data"
    }
   ],
   "source": [
    "test_model(arbre_entre2,X_train1, X_test1, y_train1, y_test1)"
   ]
  },
  {
   "cell_type": "code",
   "execution_count": 32,
   "id": "2b840cb6",
   "metadata": {},
   "outputs": [],
   "source": [
    "predictions_simple_entre2=arbre_entre2.predict(X_test1)"
   ]
  },
  {
   "cell_type": "code",
   "execution_count": 33,
   "id": "7a1b1103",
   "metadata": {},
   "outputs": [
    {
     "name": "stdout",
     "output_type": "stream",
     "text": [
      "f1 score= 0.6893239748799409\n",
      "precision= 0.8971153846153846\n",
      "recall= 0.5596880623875224\n"
     ]
    }
   ],
   "source": [
    "métriques(predictions_simple_entre2,y_test1)"
   ]
  },
  {
   "cell_type": "markdown",
   "id": "6cb3a2a1",
   "metadata": {},
   "source": [
    "Les résultats sont moins bons, rien de concluant donc"
   ]
  },
  {
   "cell_type": "markdown",
   "id": "776ce49b",
   "metadata": {},
   "source": [
    "# Hyperopt avec XGBoosting ( sans SMOTE)"
   ]
  },
  {
   "cell_type": "markdown",
   "id": "a80281cd",
   "metadata": {},
   "source": [
    "Nous allons optimiser nos hyperparamètres XGBoost en limitant la taille de notre trainset (10%) pour éviter que cela mette trop de temps"
   ]
  },
  {
   "cell_type": "markdown",
   "id": "223d954c",
   "metadata": {},
   "source": [
    "**création d'un dataset réduit**"
   ]
  },
  {
   "cell_type": "code",
   "execution_count": 7,
   "id": "8a5f7725",
   "metadata": {
    "scrolled": true
   },
   "outputs": [],
   "source": [
    "fraudes_1=fraudes.copy()\n",
    "fraudes_réduit=fraudes_1.sample(frac=0.1, random_state=1)"
   ]
  },
  {
   "cell_type": "code",
   "execution_count": 8,
   "id": "16c082f1",
   "metadata": {},
   "outputs": [],
   "source": [
    "def proprocess_reduit(df):\n",
    "    df=retirer_transactions(df)  \n",
    "    df=enlever_colonnes(df)\n",
    "    df=encoder(df)\n",
    "    df=scaler(df)\n",
    "\n",
    "    X_red=df.drop('isFraud',axis=1)\n",
    "    y_red=df['isFraud']\n",
    "    \n",
    "    X_train_red,X_test_red, y_train_red,y_test_red = train_test_split(X_red, y_red, test_size = 0.2, random_state = 15) \n",
    "    \n",
    "    return X_train_red,X_test_red, y_train_red,y_test_red"
   ]
  },
  {
   "cell_type": "code",
   "execution_count": 9,
   "id": "1803f9e7",
   "metadata": {
    "scrolled": true
   },
   "outputs": [],
   "source": [
    "X_train_red,X_test_red, y_train_red,y_test_red=proprocess_reduit(fraudes_réduit)"
   ]
  },
  {
   "cell_type": "markdown",
   "id": "12192172",
   "metadata": {},
   "source": [
    "Nous allons optimiser nos hyperparamètres par petits groupes, pour éviter que le nombre e combinaisons soit trop élevé et ne fasse explosé le temps d'éxecution:"
   ]
  },
  {
   "cell_type": "markdown",
   "id": "97731da8",
   "metadata": {},
   "source": [
    "**optimisation de max_depth et min_child_weight**"
   ]
  },
  {
   "cell_type": "code",
   "execution_count": 13,
   "id": "a3e2e85a",
   "metadata": {},
   "outputs": [],
   "source": [
    "space = {\n",
    "    \"max_depth\": hp.choice('max_depth',np.arange(3,15,1)),\n",
    "    'min_child_weight': hp.choice('min_child_weight',np.arange(1,10,1)),\n",
    "    'learning_rate':hp.choice('learning_rate',np.arange(0.01,0.3,0.04))\n",
    "                          \n",
    "        }"
   ]
  },
  {
   "cell_type": "code",
   "execution_count": 16,
   "id": "38f76358",
   "metadata": {},
   "outputs": [],
   "source": [
    "def métrique(params):\n",
    "    xgb_hyper = XGBClassifier(**params,gamma=0, subsample=0.8, colsample_bytree=0.8,\n",
    " objective= 'binary:logistic', nthread=4, scale_pos_weight=1,seed=27,n_estimators=100)\n",
    "    xgb_hyper.fit(X_train_red,y_train_red)\n",
    "    predict=xgb_hyper.predict(X_test_red)\n",
    "    acc = roc_auc_score(y_test_red,predict)\n",
    "    return {\"loss\": -acc, \"status\": STATUS_OK}"
   ]
  },
  {
   "cell_type": "code",
   "execution_count": null,
   "id": "ebef9024",
   "metadata": {},
   "outputs": [],
   "source": [
    "trials = Trials()\n",
    "\n",
    "best = fmin(\n",
    "    fn=métrique,\n",
    "    space = space, \n",
    "    algo=tpe.suggest, \n",
    "    max_evals=100, \n",
    "    trials=trials\n",
    ")\n",
    "\n",
    "print(\"Best: {}\".format(best))"
   ]
  },
  {
   "cell_type": "code",
   "execution_count": 5,
   "id": "07e3e040",
   "metadata": {},
   "outputs": [
    {
     "ename": "NameError",
     "evalue": "name 'trials' is not defined",
     "output_type": "error",
     "traceback": [
      "\u001b[1;31m---------------------------------------------------------------------------\u001b[0m",
      "\u001b[1;31mNameError\u001b[0m                                 Traceback (most recent call last)",
      "\u001b[1;32m<ipython-input-5-d16dca6328c4>\u001b[0m in \u001b[0;36m<module>\u001b[1;34m\u001b[0m\n\u001b[1;32m----> 1\u001b[1;33m \u001b[0mresultats\u001b[0m\u001b[1;33m=\u001b[0m\u001b[0mpd\u001b[0m\u001b[1;33m.\u001b[0m\u001b[0mDataFrame\u001b[0m\u001b[1;33m(\u001b[0m\u001b[0mtrials\u001b[0m\u001b[1;33m.\u001b[0m\u001b[0mtrials\u001b[0m\u001b[1;33m)\u001b[0m\u001b[1;33m\u001b[0m\u001b[1;33m\u001b[0m\u001b[0m\n\u001b[0m\u001b[0;32m      2\u001b[0m \u001b[0mresultats\u001b[0m\u001b[1;33m\u001b[0m\u001b[1;33m\u001b[0m\u001b[0m\n",
      "\u001b[1;31mNameError\u001b[0m: name 'trials' is not defined"
     ]
    }
   ],
   "source": [
    "resultats=pd.DataFrame(trials.trials)\n",
    "resultats.loc[5,'misc']"
   ]
  },
  {
   "cell_type": "markdown",
   "id": "7340c78b",
   "metadata": {},
   "source": [
    "**Best: {'learning_rate': 0.1 , 'max_depth': 9, 'min_child_weight': 1}**"
   ]
  },
  {
   "cell_type": "markdown",
   "id": "b3d27a22",
   "metadata": {},
   "source": [
    "**Optimisation du paramètre gamma**"
   ]
  },
  {
   "cell_type": "code",
   "execution_count": null,
   "id": "99af573b",
   "metadata": {},
   "outputs": [],
   "source": [
    "\n",
    "space2 = {\n",
    " 'gamma': hp.choice('gamma',[i/10.0 for i in range(0,5)]),\n",
    "    'subsample': hp.choice('subsample',[i/10.0 for i in range(6,10)]),\n",
    " 'colsample_bytree': hp.choice('colsample_bytree',[i/10.0 for i in range(6,10)])\n",
    "}\n",
    "\n",
    "def métrique2(params):\n",
    "    xgb_hyper = XGBClassifier(**params, learning_rate =0.1 , max_depth=9,\n",
    " min_child_weight=1,\n",
    " objective= 'binary:logistic', nthread=4, scale_pos_weight=1,seed=27,n_estimators=100)\n",
    "    xgb_hyper.fit(X_train_red,y_train_red)\n",
    "    predict=xgb_hyper.predict(X_test_red)\n",
    "    acc = roc_auc_score(y_test_red,predict)\n",
    "    return {\"loss\": -acc, \"status\": STATUS_OK}\n",
    "\n",
    "trials2 = Trials()\n",
    "\n",
    "best2 = fmin(\n",
    "    fn=métrique2,\n",
    "    space = space2, \n",
    "    algo=tpe.suggest, \n",
    "    max_evals=100, \n",
    "    trials=trials2\n",
    ")\n",
    "\n",
    "print(\"Best: {}\".format(best2))"
   ]
  },
  {
   "cell_type": "markdown",
   "id": "923178e7",
   "metadata": {},
   "source": [
    "**Best: {'colsample_bytree': 2, 'gamma': 3, 'subsample': 0}**"
   ]
  },
  {
   "cell_type": "markdown",
   "id": "f0935bd9",
   "metadata": {},
   "source": [
    "**reg_alpha**"
   ]
  },
  {
   "cell_type": "code",
   "execution_count": null,
   "id": "9d009393",
   "metadata": {},
   "outputs": [],
   "source": [
    "space4 = {\n",
    " 'reg_alpha':hp.choice('reg_alpha',[0.1, 0.2,0.5,0.8,1,1.2,1.5,2,3,5,10,20,50,100])\n",
    "}\n",
    "\n",
    "def métrique4(params):\n",
    "    xgb_hyper = XGBClassifier(**params, learning_rate =0.3, max_depth=9,\n",
    " min_child_weight=1,subsample=0.6, colsample_bytree=0.8,\n",
    " objective= 'binary:logistic', nthread=4, scale_pos_weight=1,seed=27,n_estimators=100)\n",
    "    xgb_hyper.fit(X_train_red,y_train_red)\n",
    "    predict=xgb_hyper.predict(X_test_red)\n",
    "    acc = roc_auc_score(y_test_red,predict)\n",
    "    return {\"loss\": -acc, \"status\": STATUS_OK}\n",
    "\n",
    "trials4 = Trials()\n",
    "\n",
    "best4 = fmin(\n",
    "    fn=métrique4,\n",
    "    space = space4, \n",
    "    algo=tpe.suggest, \n",
    "    max_evals=14, \n",
    "    trials=trials4\n",
    ")\n",
    "\n",
    "print(\"Best: {}\".format(best4))\n",
    "\n"
   ]
  },
  {
   "cell_type": "markdown",
   "id": "0feed7da",
   "metadata": {},
   "source": [
    "**reg alpha (plus précis)**"
   ]
  },
  {
   "cell_type": "code",
   "execution_count": 90,
   "id": "2470bf31",
   "metadata": {
    "scrolled": false
   },
   "outputs": [
    {
     "name": "stderr",
     "output_type": "stream",
     "text": [
      "C:\\Users\\matthias.picard\\Anaconda3\\lib\\site-packages\\xgboost\\sklearn.py:1146: UserWarning: The use of label encoder in XGBClassifier is deprecated and will be removed in a future release. To remove this warning, do the following: 1) Pass option use_label_encoder=False when constructing XGBClassifier object; and 2) Encode your labels (y) as integers starting with 0, i.e. 0, 1, 2, ..., [num_class - 1].\n",
      "  warnings.warn(label_encoder_deprecation_msg, UserWarning)\n"
     ]
    },
    {
     "name": "stdout",
     "output_type": "stream",
     "text": [
      "[19:25:45] WARNING: C:/Users/Administrator/workspace/xgboost-win64_release_1.4.0/src/learner.cc:1095: Starting in XGBoost 1.3.0, the default evaluation metric used with the objective 'binary:logistic' was changed from 'error' to 'logloss'. Explicitly set eval_metric if you'd like to restore the old behavior.\n"
     ]
    },
    {
     "data": {
      "text/plain": [
       "({'reg_alpha': 0.8}, 0.996877386749205)"
      ]
     },
     "execution_count": 90,
     "metadata": {},
     "output_type": "execute_result"
    }
   ],
   "source": [
    "space5 = {\n",
    " 'reg_alpha':hp.choice('reg_alpha',[0.1, 0.2,0.5,0.8,1,1.2,1.5,2,3,5,10,20,50,100])\n",
    "}\n",
    "def métriqu5(params):\n",
    "    xgb_hyper = XGBClassifier(**params, learning_rate =, n_estimators=100, max_depth=,\n",
    " min_child_weight=1,subsample=0.6, colsample_bytree=0.8,\n",
    " objective= 'binary:logistic', nthread=4, scale_pos_weight=1,seed=27,n_estimators=100)\n",
    "    xgb_hyper.fit(X_train_red,y_train_red)\n",
    "    predict=xgb_hyper.predict(X_test_red)\n",
    "    acc = roc_auc_score(y_test_red,predict)\n",
    "    return {\"loss\": -acc, \"status\": STATUS_OK}\n",
    "\n",
    "trials5 = Trials()\n",
    "\n",
    "best5 = fmin(\n",
    "    fn=métrique5,\n",
    "    space = space5, \n",
    "    algo=tpe.suggest, \n",
    "    max_evals=100, \n",
    "    trials=trials5\n",
    ")\n",
    "\n",
    "print(\"Best: {}\".format(best5))\n"
   ]
  },
  {
   "cell_type": "markdown",
   "id": "5f24ba17",
   "metadata": {},
   "source": [
    "**{'reg_alpha': 0.8},**"
   ]
  },
  {
   "cell_type": "markdown",
   "id": "2c8bd6dc",
   "metadata": {},
   "source": [
    "**test du modèle**"
   ]
  },
  {
   "cell_type": "code",
   "execution_count": 36,
   "id": "dd09db52",
   "metadata": {},
   "outputs": [
    {
     "name": "stderr",
     "output_type": "stream",
     "text": [
      "C:\\Users\\matthias.picard\\Anaconda3\\lib\\site-packages\\xgboost\\sklearn.py:1146: UserWarning: The use of label encoder in XGBClassifier is deprecated and will be removed in a future release. To remove this warning, do the following: 1) Pass option use_label_encoder=False when constructing XGBClassifier object; and 2) Encode your labels (y) as integers starting with 0, i.e. 0, 1, 2, ..., [num_class - 1].\n",
      "  warnings.warn(label_encoder_deprecation_msg, UserWarning)\n"
     ]
    },
    {
     "name": "stdout",
     "output_type": "stream",
     "text": [
      "[10:50:39] WARNING: C:/Users/Administrator/workspace/xgboost-win64_release_1.4.0/src/learner.cc:1095: Starting in XGBoost 1.3.0, the default evaluation metric used with the objective 'binary:logistic' was changed from 'error' to 'logloss'. Explicitly set eval_metric if you'd like to restore the old behavior.\n"
     ]
    },
    {
     "data": {
      "image/png": "[encoded data removed]",
      "text/plain": [
       "<Figure size 432x288 with 2 Axes>"
      ]
     },
     "metadata": {
      "needs_background": "light"
     },
     "output_type": "display_data"
    }
   ],
   "source": [
    "xgb_preprocessé=XGBClassifier( learning_rate =0.4, n_estimators=100, max_depth=9,\n",
    " min_child_weight=1, gamma=0.3, subsample=0.6, colsample_bytree=0.8,reg_alpha=0.8,\n",
    " objective= 'binary:logistic', nthread=4, scale_pos_weight=1,seed=27)\n",
    "\n",
    "test_model(xgb_preprocessé,X_train1,X_test1,y_train1,y_test1)"
   ]
  },
  {
   "cell_type": "code",
   "execution_count": 37,
   "id": "5c3c9f35",
   "metadata": {},
   "outputs": [
    {
     "name": "stdout",
     "output_type": "stream",
     "text": [
      "f1 score= 0.8767560664112387\n",
      "precision= 0.9372013651877134\n",
      "recall= 0.823635272945411\n"
     ]
    }
   ],
   "source": [
    "predictions_xgb_preprocessé=xgb_preprocessé.predict(X_test1)\n",
    "métriques(predictions_xgb_preprocessé,y_test1)"
   ]
  },
  {
   "cell_type": "markdown",
   "id": "5ec23def",
   "metadata": {},
   "source": [
    "de base:\n",
    "\n",
    "f1 score= 0.872\n",
    "precision= 0.929\n",
    "recall= 0.81\n",
    "\n",
    "learning rate=0,4\n",
    "\n",
    "f1 score= 0.8767560664112387\n",
    "precision= 0.9372013651877134\n",
    "recall= 0.823635272945411\n",
    "\n",
    "learning rate=0,3\n",
    "\n",
    "f1 score= 0.8746786632390746\n",
    "precision= 0.9418685121107266\n",
    "recall= 0.8164367126574685\n",
    "\n",
    "learning rate=0,1\n",
    "\n",
    "f1 score= 0.8384512683578105\n",
    "precision= 0.945071482317532\n",
    "recall= 0.7534493101379725\n",
    "\n",
    "learning rate=0,2\n",
    "\n",
    "f1 score= 0.8656330749354005\n",
    "precision= 0.9377186843946816\n",
    "recall= 0.8038392321535693"
   ]
  },
  {
   "cell_type": "code",
   "execution_count": 38,
   "id": "39e97590",
   "metadata": {},
   "outputs": [],
   "source": [
    "results=xgb_preprocessé.predict_proba(X_test1)"
   ]
  },
  {
   "cell_type": "code",
   "execution_count": 46,
   "id": "2ced23dc",
   "metadata": {
    "scrolled": true
   },
   "outputs": [],
   "source": [
    "seuil=0.015\n",
    "result_réajusté=(results[:,1]>seuil)"
   ]
  },
  {
   "cell_type": "code",
   "execution_count": 47,
   "id": "e2cdae1a",
   "metadata": {
    "scrolled": true
   },
   "outputs": [
    {
     "data": {
      "text/plain": [
       "<sklearn.metrics._plot.confusion_matrix.ConfusionMatrixDisplay at 0x1db3eddd640>"
      ]
     },
     "execution_count": 47,
     "metadata": {},
     "output_type": "execute_result"
    },
    {
     "data": {
      "image/png": "[encoded data removed]",
      "text/plain": [
       "<Figure size 432x288 with 2 Axes>"
      ]
     },
     "metadata": {
      "needs_background": "light"
     },
     "output_type": "display_data"
    }
   ],
   "source": [
    "matrice1=confusion_matrix(y_test1,result_réajusté)\n",
    "ConfusionMatrixDisplay(confusion_matrix=matrice1).plot()"
   ]
  },
  {
   "cell_type": "code",
   "execution_count": 48,
   "id": "7fe80c9c",
   "metadata": {
    "scrolled": false
   },
   "outputs": [
    {
     "name": "stdout",
     "output_type": "stream",
     "text": [
      "f1 score= 0.5631469979296067\n",
      "precision= 0.39525308791474933\n",
      "recall= 0.979004199160168\n"
     ]
    }
   ],
   "source": [
    "métriques(result_réajusté,y_test1)"
   ]
  },
  {
   "cell_type": "markdown",
   "id": "3e89e4fb",
   "metadata": {},
   "source": [
    "### Optimisation CATBoost"
   ]
  },
  {
   "cell_type": "markdown",
   "id": "75f0d390",
   "metadata": {},
   "source": [
    "On va faire la même chose avec CATboost"
   ]
  },
  {
   "cell_type": "code",
   "execution_count": 51,
   "id": "476e3668",
   "metadata": {},
   "outputs": [],
   "source": [
    "space_cat = {\n",
    "    \"depth\": hp.choice('depth',np.arange(3,15,1)),\n",
    "    'l2_leaf_reg': hp.choice('l2_leaf_reg',np.arange(1,100,1)),\n",
    "    'learning_rate':hp.choice('learning_rate',np.arange(0.01,0.3,0.04))\n",
    "                          \n",
    "        }"
   ]
  },
  {
   "cell_type": "code",
   "execution_count": 55,
   "id": "9eab22a0",
   "metadata": {},
   "outputs": [
    {
     "data": {
      "text/plain": [
       "array([0.01, 0.05, 0.09, 0.13, 0.17, 0.21, 0.25, 0.29])"
      ]
     },
     "execution_count": 55,
     "metadata": {},
     "output_type": "execute_result"
    }
   ],
   "source": [
    "np.arange(0.01,0.3,0.04)"
   ]
  },
  {
   "cell_type": "code",
   "execution_count": 52,
   "id": "5f941abc",
   "metadata": {},
   "outputs": [],
   "source": [
    "def métrique_cat(params):\n",
    "    xgb_hyper = CatBoostClassifier(**params)\n",
    "    xgb_hyper.fit(X_train_red,y_train_red)\n",
    "    predict=xgb_hyper.predict(X_test_red)\n",
    "    acc = roc_auc_score(y_test_red,predict)\n",
    "    return {\"loss\": -acc, \"status\": STATUS_OK}"
   ]
  },
  {
   "cell_type": "code",
   "execution_count": null,
   "id": "5db0b36b",
   "metadata": {},
   "outputs": [],
   "source": [
    "trials_cat = Trials()\n",
    "\n",
    "best_cat = fmin(\n",
    "    fn=métrique_cat,\n",
    "    space = space_cat, \n",
    "    algo=tpe.suggest, \n",
    "    max_evals=100, \n",
    "    trials=trials_cat\n",
    ")\n",
    "\n",
    "print(\"Best: {}\".format(best))"
   ]
  },
  {
   "cell_type": "code",
   "execution_count": 54,
   "id": "3a6b891e",
   "metadata": {},
   "outputs": [
    {
     "name": "stdout",
     "output_type": "stream",
     "text": [
      "Best: {'depth': 4, 'l2_leaf_reg': 6, 'learning_rate': 6}\n"
     ]
    }
   ],
   "source": [
    "print(\"Best: {}\".format(best_cat))"
   ]
  },
  {
   "cell_type": "code",
   "execution_count": 6,
   "id": "d0371a83",
   "metadata": {},
   "outputs": [],
   "source": [
    "cat_modifié=CatBoostClassifier(depth= 6, l2_leaf_reg=7, learning_rate=0.25)"
   ]
  },
  {
   "cell_type": "code",
   "execution_count": null,
   "id": "cb16e9c8",
   "metadata": {},
   "outputs": [],
   "source": [
    "test_model(cat_modifié,X_train1,X_test1,y_train1,y_test1)"
   ]
  },
  {
   "cell_type": "code",
   "execution_count": 8,
   "id": "0eb5ce03",
   "metadata": {
    "scrolled": true
   },
   "outputs": [
    {
     "name": "stdout",
     "output_type": "stream",
     "text": [
      "f1 score= 0.8827629911280102\n",
      "precision= 0.9355271994627267\n",
      "recall= 0.8356328734253149\n"
     ]
    }
   ],
   "source": [
    "predictions_cat_modifié=cat_modifié.predict(X_test1)\n",
    "métriques(predictions_cat_modifié,y_test1)"
   ]
  },
  {
   "cell_type": "markdown",
   "id": "08577790",
   "metadata": {},
   "source": [
    "sans tuning :\n",
    "\n",
    "précision:0,931\n",
    "f1score:0,884\n",
    "recall:0,842\n"
   ]
  },
  {
   "cell_type": "markdown",
   "id": "bcd8573a",
   "metadata": {},
   "source": [
    "les résultats sont donc très semblable"
   ]
  },
  {
   "cell_type": "markdown",
   "id": "9d888152",
   "metadata": {},
   "source": [
    "**compromis précision/recall**"
   ]
  },
  {
   "cell_type": "code",
   "execution_count": 9,
   "id": "155bbb6c",
   "metadata": {},
   "outputs": [],
   "source": [
    "results_cat=cat_modifié.predict_proba(X_test1)"
   ]
  },
  {
   "cell_type": "code",
   "execution_count": 20,
   "id": "51d46f71",
   "metadata": {
    "scrolled": true
   },
   "outputs": [],
   "source": [
    "seuil=0.025\n",
    "result_réajusté_cat=(results_cat[:,1]>seuil)"
   ]
  },
  {
   "cell_type": "code",
   "execution_count": 21,
   "id": "dd09e4c6",
   "metadata": {
    "scrolled": true
   },
   "outputs": [
    {
     "data": {
      "text/plain": [
       "<sklearn.metrics._plot.confusion_matrix.ConfusionMatrixDisplay at 0x1f462d4bb80>"
      ]
     },
     "execution_count": 21,
     "metadata": {},
     "output_type": "execute_result"
    },
    {
     "data": {
      "image/png": "[encoded data removed]",
      "text/plain": [
       "<Figure size 432x288 with 2 Axes>"
      ]
     },
     "metadata": {
      "needs_background": "light"
     },
     "output_type": "display_data"
    }
   ],
   "source": [
    "matrice1_cat=confusion_matrix(y_test1,result_réajusté_cat)\n",
    "ConfusionMatrixDisplay(confusion_matrix=matrice1_cat).plot()"
   ]
  },
  {
   "cell_type": "code",
   "execution_count": 22,
   "id": "ee48c116",
   "metadata": {
    "scrolled": true
   },
   "outputs": [
    {
     "name": "stdout",
     "output_type": "stream",
     "text": [
      "f1 score= 0.6050731346047028\n",
      "precision= 0.4376004284949116\n",
      "recall= 0.9802039592081584\n"
     ]
    }
   ],
   "source": [
    "métriques(result_réajusté_cat,y_test1)"
   ]
  }
 ],
 "metadata": {
  "kernelspec": {
   "display_name": "Python 3",
   "language": "python",
   "name": "python3"
  },
  "language_info": {
   "codemirror_mode": {
    "name": "ipython",
    "version": 3
   },
   "file_extension": ".py",
   "mimetype": "text/x-python",
   "name": "python",
   "nbconvert_exporter": "python",
   "pygments_lexer": "ipython3",
   "version": "3.8.10"
  }
 },
 "nbformat": 4,
 "nbformat_minor": 5
}
