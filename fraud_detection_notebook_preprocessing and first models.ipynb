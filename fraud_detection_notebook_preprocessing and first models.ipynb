{
 "cells": [
  {
   "cell_type": "markdown",
   "metadata": {},
   "source": [
    "# DETECTION DE FRAUDES__PREPROCESSING ET PREMIERS MODELES"
   ]
  },
  {
   "cell_type": "markdown",
   "metadata": {},
   "source": [
    "Ce notebook présente l'application du preprocessing ainsi que les mesures de performances de touts les modèles testés, avec et sans réequilibrages. Vous trouverez à la fin un tableau récapitulant tout les scores de chaques modèles"
   ]
  },
  {
   "cell_type": "markdown",
   "metadata": {},
   "source": [
    "**Problématique: developper un modèle de classification binaire de machine learning pour prédire si une transaction bancaire est une fraude ou non**"
   ]
  },
  {
   "cell_type": "markdown",
   "metadata": {},
   "source": [
    "i)import des bibilothèques\n",
    "\n",
    "ii)import du dataset\n",
    "\n",
    "iii)définition des fonctions\n",
    "\n",
    "iv)déclaration des modèles utilisés\n",
    "\n",
    "v)Ouverture des pickles de tout les tableaux utilisées\n",
    "\n",
    "#### A) PREPROCESSING et premiers modèles sans réequilibrages\n",
    "\n",
    "    1)preprocessing de base\n",
    "    2)creations test et train set\n",
    "    3)test des modèles\n",
    "    \n",
    "#### B) Modèles avec réequilibrage de nos données\n",
    "\n",
    "    1)définitions des fonctions preprocessing avec un SMOTE\n",
    "    2)Enregistrement des données preprocessés dans des pickles\n",
    "    3)Modèles avec preprocess_smote\n",
    "    4)Modèles avec preprocess_smote_ENN\n",
    "    5)Modèles avec preprocess_smote_tomek\n",
    "    \n",
    "#### VI) Recap\n",
    "    \n",
    "\n",
    "\n"
   ]
  },
  {
   "cell_type": "markdown",
   "metadata": {},
   "source": [
    "### import des bibliothèques"
   ]
  },
  {
   "cell_type": "markdown",
   "metadata": {},
   "source": [
    "Pour développer ce modèle, nous utiliserons principalement la bibliothèque scikit-learn ainsi que d'autres bibliothèques pour visualiser et manipuler nos données \n",
    "\n",
    "il faudra peut-être effectuer des pip install pour certains des packages ci-dessous"
   ]
  },
  {
   "cell_type": "code",
   "execution_count": 4,
   "metadata": {},
   "outputs": [],
   "source": [
    "import pandas as pd\n",
    "import os\n",
    "import numpy as np\n",
    "import matplotlib.pyplot as plt\n",
    "import seaborn as sns\n",
    "from sklearn.model_selection import train_test_split\n",
    "from sklearn.preprocessing import OneHotEncoder, LabelBinarizer,LabelEncoder,RobustScaler,PolynomialFeatures\n",
    "from sklearn.linear_model import SGDClassifier\n",
    "from sklearn import svm\n",
    "from sklearn.metrics import confusion_matrix,plot_confusion_matrix,precision_score,precision_recall_fscore_support,plot_precision_recall_curve,roc_curve,roc_auc_score,recall_score,f1_score,make_scorer,SCORERS,plot_roc_curve,roc_curve\n",
    "from sklearn.tree import DecisionTreeClassifier,export_graphviz,plot_tree\n",
    "from sklearn.ensemble import GradientBoostingClassifier\n",
    "from sklearn.linear_model import LogisticRegression\n",
    "from sklearn.neighbors import KNeighborsClassifier\n",
    "from sklearn.model_selection import GridSearchCV\n",
    "from sklearn.pipeline import Pipeline, make_pipeline\n",
    "from sklearn.model_selection import learning_curve,cross_val_score,cross_validate\n",
    "from sklearn.compose import make_column_transformer\n",
    "from collections import Counter\n",
    "from sklearn.datasets import make_classification\n",
    "from imblearn.under_sampling import NearMiss \n",
    "from imblearn.over_sampling import SMOTE\n",
    "from imblearn.combine import SMOTEENN,SMOTETomek \n",
    "import pickle\n",
    "from sklearn.ensemble import AdaBoostClassifier,RandomForestClassifier,IsolationForest,ExtraTreesClassifier\n",
    "from sklearn.decomposition import PCA\n",
    "from xgboost import XGBClassifier\n",
    "import warnings\n",
    "from catboost import CatBoostClassifier\n",
    "from sklearn.model_selection import StratifiedKFold\n",
    "warnings.filterwarnings(\"ignore\")"
   ]
  },
  {
   "cell_type": "markdown",
   "metadata": {},
   "source": [
    "### import du dataset"
   ]
  },
  {
   "cell_type": "markdown",
   "metadata": {},
   "source": [
    "On importe notre dataset grâce à pandas, tout au long du notebook,\n",
    "le dataset de base ( sans modifications) sera appelé **fraudes**"
   ]
  },
  {
   "cell_type": "code",
   "execution_count": 5,
   "metadata": {},
   "outputs": [
    {
     "data": {
      "text/html": [
       "<div>\n",
       "<style scoped>\n",
       "    .dataframe tbody tr th:only-of-type {\n",
       "        vertical-align: middle;\n",
       "    }\n",
       "\n",
       "    .dataframe tbody tr th {\n",
       "        vertical-align: top;\n",
       "    }\n",
       "\n",
       "    .dataframe thead th {\n",
       "        text-align: right;\n",
       "    }\n",
       "</style>\n",
       "<table border=\"1\" class=\"dataframe\">\n",
       "  <thead>\n",
       "    <tr style=\"text-align: right;\">\n",
       "      <th></th>\n",
       "      <th>step</th>\n",
       "      <th>type</th>\n",
       "      <th>amount</th>\n",
       "      <th>nameOrig</th>\n",
       "      <th>oldbalanceOrg</th>\n",
       "      <th>newbalanceOrig</th>\n",
       "      <th>nameDest</th>\n",
       "      <th>oldbalanceDest</th>\n",
       "      <th>newbalanceDest</th>\n",
       "      <th>isFraud</th>\n",
       "      <th>isFlaggedFraud</th>\n",
       "    </tr>\n",
       "  </thead>\n",
       "  <tbody>\n",
       "    <tr>\n",
       "      <th>0</th>\n",
       "      <td>1</td>\n",
       "      <td>PAYMENT</td>\n",
       "      <td>9839.64</td>\n",
       "      <td>C1231006815</td>\n",
       "      <td>170136.0</td>\n",
       "      <td>160296.36</td>\n",
       "      <td>M1979787155</td>\n",
       "      <td>0.0</td>\n",
       "      <td>0.0</td>\n",
       "      <td>0</td>\n",
       "      <td>0</td>\n",
       "    </tr>\n",
       "    <tr>\n",
       "      <th>1</th>\n",
       "      <td>1</td>\n",
       "      <td>PAYMENT</td>\n",
       "      <td>1864.28</td>\n",
       "      <td>C1666544295</td>\n",
       "      <td>21249.0</td>\n",
       "      <td>19384.72</td>\n",
       "      <td>M2044282225</td>\n",
       "      <td>0.0</td>\n",
       "      <td>0.0</td>\n",
       "      <td>0</td>\n",
       "      <td>0</td>\n",
       "    </tr>\n",
       "    <tr>\n",
       "      <th>2</th>\n",
       "      <td>1</td>\n",
       "      <td>TRANSFER</td>\n",
       "      <td>181.00</td>\n",
       "      <td>C1305486145</td>\n",
       "      <td>181.0</td>\n",
       "      <td>0.00</td>\n",
       "      <td>C553264065</td>\n",
       "      <td>0.0</td>\n",
       "      <td>0.0</td>\n",
       "      <td>1</td>\n",
       "      <td>0</td>\n",
       "    </tr>\n",
       "    <tr>\n",
       "      <th>3</th>\n",
       "      <td>1</td>\n",
       "      <td>CASH_OUT</td>\n",
       "      <td>181.00</td>\n",
       "      <td>C840083671</td>\n",
       "      <td>181.0</td>\n",
       "      <td>0.00</td>\n",
       "      <td>C38997010</td>\n",
       "      <td>21182.0</td>\n",
       "      <td>0.0</td>\n",
       "      <td>1</td>\n",
       "      <td>0</td>\n",
       "    </tr>\n",
       "    <tr>\n",
       "      <th>4</th>\n",
       "      <td>1</td>\n",
       "      <td>PAYMENT</td>\n",
       "      <td>11668.14</td>\n",
       "      <td>C2048537720</td>\n",
       "      <td>41554.0</td>\n",
       "      <td>29885.86</td>\n",
       "      <td>M1230701703</td>\n",
       "      <td>0.0</td>\n",
       "      <td>0.0</td>\n",
       "      <td>0</td>\n",
       "      <td>0</td>\n",
       "    </tr>\n",
       "  </tbody>\n",
       "</table>\n",
       "</div>"
      ],
      "text/plain": [
       "   step      type    amount     nameOrig  oldbalanceOrg  newbalanceOrig  \\\n",
       "0     1   PAYMENT   9839.64  C1231006815       170136.0       160296.36   \n",
       "1     1   PAYMENT   1864.28  C1666544295        21249.0        19384.72   \n",
       "2     1  TRANSFER    181.00  C1305486145          181.0            0.00   \n",
       "3     1  CASH_OUT    181.00   C840083671          181.0            0.00   \n",
       "4     1   PAYMENT  11668.14  C2048537720        41554.0        29885.86   \n",
       "\n",
       "      nameDest  oldbalanceDest  newbalanceDest  isFraud  isFlaggedFraud  \n",
       "0  M1979787155             0.0             0.0        0               0  \n",
       "1  M2044282225             0.0             0.0        0               0  \n",
       "2   C553264065             0.0             0.0        1               0  \n",
       "3    C38997010         21182.0             0.0        1               0  \n",
       "4  M1230701703             0.0             0.0        0               0  "
      ]
     },
     "execution_count": 5,
     "metadata": {},
     "output_type": "execute_result"
    }
   ],
   "source": [
    "os.chdir('C:\\\\Users\\\\matth\\\\jupyter codes')\n",
    "fraudes=pd.read_csv('fraudes_bancaires.csv')\n",
    "fraudes.head()"
   ]
  },
  {
   "cell_type": "markdown",
   "metadata": {},
   "source": [
    "### Définition des fonctions \n",
    "\n"
   ]
  },
  {
   "cell_type": "code",
   "execution_count": 7,
   "metadata": {},
   "outputs": [],
   "source": [
    "def encoder(df):\n",
    "    encodeur=LabelEncoder()\n",
    "    df['is_Cash_OUT']=encodeur.fit_transform(df['type'])\n",
    "    df=df.drop('type',axis=1)\n",
    "    return df\n",
    "# transforme la colonne 'type' en une colonne de booléen qui précise si la transaction est un cash_out ou non \n",
    "#( si il ne l'est pas, c'est un transfert). Cette fonction s'applique après la fonction 'retirer_transactions'\n",
    "\n",
    "def test_model(modele,X_train,X_test,y_train,y_test):\n",
    "    modele.fit(X_train,y_train)\n",
    "    plot_confusion_matrix(modele,X_test,y_test)\n",
    "#Fonction qui applique un modele passé en paramètre au dataset\n",
    "#et qui affiche la matrice de confusion correspondant aux prédictions.\n",
    "\n",
    "def enlever_colonnes(df):\n",
    "    heures=df.step %24\n",
    "    df['heures']=heures\n",
    "    df.drop(['nameOrig','newbalanceOrig','newbalanceDest','isFlaggedFraud','step','nameDest'],axis=1, inplace=True)\n",
    "    return df\n",
    "#Fonction qui enlève les colonnes inutiles pour notre modèle.\n",
    "\n",
    "def retirer_transactions(df):\n",
    "    fraudes_type=((fraudes['type']=='TRANSFER') |(fraudes['type']=='CASH_OUT'))\n",
    "    index_transfert=fraudes_type[fraudes_type==True].index\n",
    "    return fraudes.loc[index_transfert,:]\n",
    "#Enlève toutes les transactions qui n'ont aucunes chances d'être des fraudes ( cad CASH-IN, DEBIT et PAYMENT)\n",
    "\n",
    "def scaler(df):\n",
    "    scaler=RobustScaler()\n",
    "    df_continue=scaler.fit_transform(df.loc[:,['amount','oldbalanceOrg','oldbalanceDest','heures']])\n",
    "    df['amount']=df_continue[:,0]\n",
    "    df['oldbalanceOrg']=df_continue[:,1]\n",
    "    df['oldbalanceDest']=df_continue[:,2]\n",
    "    df['heures']=df_continue[:,3]\n",
    "    return df\n",
    "#Applique une standardisation sur les variables quantitatives du dataset. La standardisation est un RobustScaler(),\n",
    "#moins sensible aux valeurs extremes, très nombreuses dans notre dataset.\n",
    "\n",
    "def algo_smote(X_train4, y_train4):\n",
    "    sm = SMOTE()\n",
    "    X_res_train, y_res_train = sm.fit_resample(X_train4, y_train4)\n",
    "    return X_res_train, y_res_train \n",
    "#Applique un algorithme SMOTE à notre trainset, pour réequilibré les 2 classes de notre target.Pour cela on augmente\n",
    "#artificiellement le  nombre de fraudes (l'algorithme va regarder les propriétés des transactions les plus \"proches\"\n",
    "#de la transaction qu'elle va inventer et incorporer des valeurs relativement proches).\n",
    "\n",
    "def algo_smote_ENN(X_train4, y_train4):\n",
    "    sm = SMOTEENN()\n",
    "    X_res_train, y_res_train = sm.fit_resample(X_train4, y_train4)\n",
    "    return X_res_train, y_res_train \n",
    "#Applique un algo SMOTE, puis un algo ENN (qui enleve toutes observations telles que les n-plus proches voisins ne sont pas \n",
    "#majoritairement du même type que que l'observation)--> permet de distinguer plus clairement des groupes dans l'espaces des \n",
    "#variables\n",
    "\n",
    "def algo_smote_Tomek(X_train4, y_train4):\n",
    "    sm = SMOTETomek ()\n",
    "    X_res_train, y_res_train = sm.fit_resample(X_train4, y_train4)\n",
    "    return X_res_train, y_res_train \n",
    "#Applique un algo SMOTE, puis un algo Tomek (qui enleve toutes observations A telles que sont plus proche voisin B ne soit pas\n",
    "#de la même classe, et inversement)--> permet de distinguer plus clairement des groupes dans l'espaces des variables\n",
    "\n",
    "def PCA(df, nombre_composants):\n",
    "    pca=PCA(n_components=nombre_composants)\n",
    "    df_reduit=pca.fit_transform(df)\n",
    "    return df_reduit\n",
    "#réduit le nombre de dimensions de notre dataset à 'nombre_composants' dimensions\n",
    "\n",
    "def métriques(predictions_simple,y_test1):\n",
    "    print('f1 score=',f1_score(y_test1,predictions_simple))\n",
    "    print('precision=',precision_score(y_test1,predictions_simple))\n",
    "    print('recall=',recall_score(y_test1,predictions_simple))\n",
    "#affiche les différentes métriques utilisées dans ce notebook"
   ]
  },
  {
   "cell_type": "markdown",
   "metadata": {},
   "source": [
    "### Déclaration des modèles utilisée"
   ]
  },
  {
   "cell_type": "code",
   "execution_count": 35,
   "metadata": {},
   "outputs": [],
   "source": [
    "arbre=DecisionTreeClassifier(random_state=0)\n",
    "sgd=SGDClassifier(random_state=0)\n",
    "logistique=LogisticRegression(random_state=0)\n",
    "voisins=KNeighborsClassifier()\n",
    "svc=svm.SVC(random_state=0)\n",
    "gradientboosting=GradientBoostingClassifier(random_state=0)\n",
    "ADAboost=AdaBoostClassifier(random_state=0)\n",
    "randomforest = RandomForestClassifier(random_state=0)\n",
    "isolationforest=IsolationForest(random_state=0)\n",
    "xgb=XGBClassifier(max_depth=40,random_state=0)\n",
    "extreme_tree=ExtraTreesClassifier(random_state=0)\n",
    "cad=CatBoostClassifier(random_state=0)\n",
    "\n",
    "randomforest_modifié1=RandomForestClassifier(max_depth= 30, min_samples_leaf= 5,random_state=0)\n",
    "randomforest_modifié2=RandomForestClassifier(max_depth= 15, min_samples_leaf= 3,random_state=0)"
   ]
  },
  {
   "cell_type": "markdown",
   "metadata": {},
   "source": [
    "### Ouverture des pickles de tout les tableaux utilisées"
   ]
  },
  {
   "cell_type": "markdown",
   "metadata": {},
   "source": [
    "la cellule du dessous risque de faire une erreur si les tableaux n'ont encore jamais été crée! Il faut d'abord executer les cellules correspondantes plus bas"
   ]
  },
  {
   "cell_type": "code",
   "execution_count": 36,
   "metadata": {},
   "outputs": [],
   "source": [
    "#sans smote\n",
    "with open('X_train1', 'rb') as f9:\n",
    "    X_train1 = pickle.load(f9)\n",
    "with open('y_train1', 'rb') as f10:\n",
    "    y_train1 = pickle.load(f10)\n",
    "with open('X_test1', 'rb') as f11:\n",
    "    X_test1 = pickle.load(f11)\n",
    "with open('y_test1', 'rb') as f12:\n",
    "    y_test1 = pickle.load(f12)\n",
    "\n",
    "#smote simple\n",
    "with open('X_res_train', 'rb') as f13:\n",
    "    X_res_train = pickle.load(f13)\n",
    "with open('y_res_train', 'rb') as f14:\n",
    "    y_res_train = pickle.load(f14)\n",
    "with open('X_test4', 'rb') as f15:\n",
    "    X_test4 = pickle.load(f15)\n",
    "with open('y_test4', 'rb') as f16:\n",
    "    y_test4 = pickle.load(f16)\n",
    "\n",
    "# smote_ENN   \n",
    "with open('X_res_train2', 'rb') as f1:\n",
    "    X_res_train2 = pickle.load(f1)\n",
    "with open('y_res_train2', 'rb') as f2:\n",
    "    y_res_train2 = pickle.load(f2)\n",
    "with open('X_test5', 'rb') as f3:\n",
    "    X_test5 = pickle.load(f3)\n",
    "with open('y_test5', 'rb') as f4:\n",
    "    y_test5 = pickle.load(f4)\n",
    "\n",
    "#smote_Tomek    \n",
    "with open('X_res_train3', 'rb') as f5:\n",
    "    X_res_train3 = pickle.load(f5)\n",
    "with open('y_res_train3', 'rb') as f6:\n",
    "    y_res_train3 = pickle.load(f6)\n",
    "with open('X_test6', 'rb') as f7:\n",
    "    X_test6 = pickle.load(f7)\n",
    "with open('y_test6', 'rb') as f8:\n",
    "    y_test6 = pickle.load(f8)"
   ]
  },
  {
   "cell_type": "markdown",
   "metadata": {},
   "source": [
    "# PREPROCESSING et premiers modèles sans réequilibrages\n",
    "\n",
    "\n",
    "Dans cette phase nous allons commencer à modifier notre dataset pour optimiser l'implémentation de notre futur modèle\n"
   ]
  },
  {
   "cell_type": "markdown",
   "metadata": {},
   "source": [
    "### preprocessing de base"
   ]
  },
  {
   "cell_type": "markdown",
   "metadata": {},
   "source": [
    "On retire les transactions qui ne peuvent pas être des fraudes, on enlève les variables pas utile, on encode la variable type avec un LabelEncoder et on standardise nos données continue avec un Robust Scaler."
   ]
  },
  {
   "cell_type": "code",
   "execution_count": 25,
   "metadata": {},
   "outputs": [],
   "source": [
    "dataset_not_nameDest=fraudes.copy()"
   ]
  },
  {
   "cell_type": "code",
   "execution_count": 26,
   "metadata": {},
   "outputs": [],
   "source": [
    "dataset_not_nameDest=retirer_transactions(dataset_not_nameDest)\n",
    "dataset_not_nameDest=enlever_colonnes(dataset_not_nameDest)\n",
    "dataset_not_nameDest=encoder(dataset_not_nameDest)\n",
    "dataset_not_nameDest=scaler(dataset_not_nameDest)"
   ]
  },
  {
   "cell_type": "markdown",
   "metadata": {},
   "source": [
    "On obtient le dataset suivant:"
   ]
  },
  {
   "cell_type": "code",
   "execution_count": 27,
   "metadata": {
    "scrolled": false
   },
   "outputs": [
    {
     "data": {
      "text/html": [
       "<div>\n",
       "<style scoped>\n",
       "    .dataframe tbody tr th:only-of-type {\n",
       "        vertical-align: middle;\n",
       "    }\n",
       "\n",
       "    .dataframe tbody tr th {\n",
       "        vertical-align: top;\n",
       "    }\n",
       "\n",
       "    .dataframe thead th {\n",
       "        text-align: right;\n",
       "    }\n",
       "</style>\n",
       "<table border=\"1\" class=\"dataframe\">\n",
       "  <thead>\n",
       "    <tr style=\"text-align: right;\">\n",
       "      <th></th>\n",
       "      <th>amount</th>\n",
       "      <th>oldbalanceOrg</th>\n",
       "      <th>oldbalanceDest</th>\n",
       "      <th>isFraud</th>\n",
       "      <th>heures</th>\n",
       "      <th>is_Cash_OUT</th>\n",
       "    </tr>\n",
       "  </thead>\n",
       "  <tbody>\n",
       "    <tr>\n",
       "      <th>2</th>\n",
       "      <td>-0.764372</td>\n",
       "      <td>-0.003967</td>\n",
       "      <td>-0.345628</td>\n",
       "      <td>1</td>\n",
       "      <td>-2.142857</td>\n",
       "      <td>1</td>\n",
       "    </tr>\n",
       "    <tr>\n",
       "      <th>3</th>\n",
       "      <td>-0.764372</td>\n",
       "      <td>-0.003967</td>\n",
       "      <td>-0.332454</td>\n",
       "      <td>1</td>\n",
       "      <td>-2.142857</td>\n",
       "      <td>0</td>\n",
       "    </tr>\n",
       "    <tr>\n",
       "      <th>15</th>\n",
       "      <td>0.258572</td>\n",
       "      <td>0.484597</td>\n",
       "      <td>-0.342467</td>\n",
       "      <td>0</td>\n",
       "      <td>-2.142857</td>\n",
       "      <td>0</td>\n",
       "    </tr>\n",
       "    <tr>\n",
       "      <th>19</th>\n",
       "      <td>0.196809</td>\n",
       "      <td>0.012938</td>\n",
       "      <td>-0.331681</td>\n",
       "      <td>0</td>\n",
       "      <td>-2.142857</td>\n",
       "      <td>1</td>\n",
       "    </tr>\n",
       "    <tr>\n",
       "      <th>24</th>\n",
       "      <td>0.627408</td>\n",
       "      <td>0.339744</td>\n",
       "      <td>-0.341730</td>\n",
       "      <td>0</td>\n",
       "      <td>-2.142857</td>\n",
       "      <td>1</td>\n",
       "    </tr>\n",
       "    <tr>\n",
       "      <th>...</th>\n",
       "      <td>...</td>\n",
       "      <td>...</td>\n",
       "      <td>...</td>\n",
       "      <td>...</td>\n",
       "      <td>...</td>\n",
       "      <td>...</td>\n",
       "    </tr>\n",
       "    <tr>\n",
       "      <th>6362615</th>\n",
       "      <td>0.752493</td>\n",
       "      <td>10.948742</td>\n",
       "      <td>-0.345628</td>\n",
       "      <td>1</td>\n",
       "      <td>1.000000</td>\n",
       "      <td>0</td>\n",
       "    </tr>\n",
       "    <tr>\n",
       "      <th>6362616</th>\n",
       "      <td>27.433711</td>\n",
       "      <td>203.603746</td>\n",
       "      <td>-0.345628</td>\n",
       "      <td>1</td>\n",
       "      <td>1.000000</td>\n",
       "      <td>1</td>\n",
       "    </tr>\n",
       "    <tr>\n",
       "      <th>6362617</th>\n",
       "      <td>27.433711</td>\n",
       "      <td>203.603746</td>\n",
       "      <td>-0.303031</td>\n",
       "      <td>1</td>\n",
       "      <td>1.000000</td>\n",
       "      <td>0</td>\n",
       "    </tr>\n",
       "    <tr>\n",
       "      <th>6362618</th>\n",
       "      <td>3.032565</td>\n",
       "      <td>27.412284</td>\n",
       "      <td>-0.345628</td>\n",
       "      <td>1</td>\n",
       "      <td>1.000000</td>\n",
       "      <td>1</td>\n",
       "    </tr>\n",
       "    <tr>\n",
       "      <th>6362619</th>\n",
       "      <td>3.032565</td>\n",
       "      <td>27.412284</td>\n",
       "      <td>3.703377</td>\n",
       "      <td>1</td>\n",
       "      <td>1.000000</td>\n",
       "      <td>0</td>\n",
       "    </tr>\n",
       "  </tbody>\n",
       "</table>\n",
       "<p>2770409 rows × 6 columns</p>\n",
       "</div>"
      ],
      "text/plain": [
       "            amount  oldbalanceOrg  oldbalanceDest  isFraud    heures  \\\n",
       "2        -0.764372      -0.003967       -0.345628        1 -2.142857   \n",
       "3        -0.764372      -0.003967       -0.332454        1 -2.142857   \n",
       "15        0.258572       0.484597       -0.342467        0 -2.142857   \n",
       "19        0.196809       0.012938       -0.331681        0 -2.142857   \n",
       "24        0.627408       0.339744       -0.341730        0 -2.142857   \n",
       "...            ...            ...             ...      ...       ...   \n",
       "6362615   0.752493      10.948742       -0.345628        1  1.000000   \n",
       "6362616  27.433711     203.603746       -0.345628        1  1.000000   \n",
       "6362617  27.433711     203.603746       -0.303031        1  1.000000   \n",
       "6362618   3.032565      27.412284       -0.345628        1  1.000000   \n",
       "6362619   3.032565      27.412284        3.703377        1  1.000000   \n",
       "\n",
       "         is_Cash_OUT  \n",
       "2                  1  \n",
       "3                  0  \n",
       "15                 0  \n",
       "19                 1  \n",
       "24                 1  \n",
       "...              ...  \n",
       "6362615            0  \n",
       "6362616            1  \n",
       "6362617            0  \n",
       "6362618            1  \n",
       "6362619            0  \n",
       "\n",
       "[2770409 rows x 6 columns]"
      ]
     },
     "execution_count": 27,
     "metadata": {},
     "output_type": "execute_result"
    }
   ],
   "source": [
    "dataset_not_nameDest"
   ]
  },
  {
   "cell_type": "markdown",
   "metadata": {},
   "source": [
    " ### creations test et train set"
   ]
  },
  {
   "cell_type": "code",
   "execution_count": 28,
   "metadata": {},
   "outputs": [],
   "source": [
    "y_not_nameDest=dataset_not_nameDest['isFraud']\n",
    "X_not_nameDest=dataset_not_nameDest.drop('isFraud',axis=1)"
   ]
  },
  {
   "cell_type": "markdown",
   "metadata": {},
   "source": [
    "On récupère la colonne des target dans la variable **y_not_nameDest** et on l'enlève du dataset \n",
    "(on obtient alors le dataset **X_not_nameDest**."
   ]
  },
  {
   "cell_type": "code",
   "execution_count": 29,
   "metadata": {},
   "outputs": [],
   "source": [
    "X_train1, X_test1, y_train1, y_test1 = train_test_split(X_not_nameDest, y_not_nameDest, test_size = 0.2, random_state = 30) "
   ]
  },
  {
   "cell_type": "markdown",
   "metadata": {},
   "source": [
    "On découpe **X_not_nameDest** et **y_not_nameDest** en un trainset (80% du dataset **dataset_not_nameDest**) \n",
    "et un testset (20% de **dataset_not_nameDest**))"
   ]
  },
  {
   "cell_type": "markdown",
   "metadata": {},
   "source": [
    "**Nous mesurerons l'efficacité de nos modèles en calculant le score f1, le rappel et la precision qui sont des métriques mieux adapté aux dataset désequilibrés.**\n",
    "**Cependant, pour ce projet il est sans doute préferable que le modèle detecte le plus de fraudes possible, même si le risque de detecter des faux positifs augmentent. C'est pour cela que le rappel sera notre outil de mesure privilégié.**"
   ]
  },
  {
   "cell_type": "markdown",
   "metadata": {},
   "source": [
    "### Test des modèles"
   ]
  },
  {
   "cell_type": "markdown",
   "metadata": {},
   "source": [
    "#### modele arbres de decisions"
   ]
  },
  {
   "cell_type": "code",
   "execution_count": 28,
   "metadata": {
    "scrolled": true
   },
   "outputs": [
    {
     "data": {
      "image/png": "[encoded data removed]",
      "text/plain": [
       "<Figure size 432x288 with 2 Axes>"
      ]
     },
     "metadata": {
      "needs_background": "light"
     },
     "output_type": "display_data"
    }
   ],
   "source": [
    "test_model(arbre,X_train1,X_test1,y_train1,y_test1)"
   ]
  },
  {
   "cell_type": "code",
   "execution_count": 29,
   "metadata": {},
   "outputs": [],
   "source": [
    "predictions_simple0=arbre.predict(X_test1)"
   ]
  },
  {
   "cell_type": "code",
   "execution_count": 30,
   "metadata": {},
   "outputs": [
    {
     "name": "stdout",
     "output_type": "stream",
     "text": [
      "f1 score= 0.7563805104408353\n",
      "precision= 0.7321729365524986\n",
      "recall= 0.7822435512897421\n"
     ]
    }
   ],
   "source": [
    "métriques(predictions_simple0,y_test1)"
   ]
  },
  {
   "cell_type": "markdown",
   "metadata": {},
   "source": [
    "#### modele regression logistique"
   ]
  },
  {
   "cell_type": "code",
   "execution_count": 31,
   "metadata": {
    "scrolled": true
   },
   "outputs": [
    {
     "data": {
      "image/png": "[encoded data removed]",
      "text/plain": [
       "<Figure size 432x288 with 2 Axes>"
      ]
     },
     "metadata": {
      "needs_background": "light"
     },
     "output_type": "display_data"
    }
   ],
   "source": [
    "test_model(logistique,X_train1,X_test1,y_train1,y_test1)"
   ]
  },
  {
   "cell_type": "code",
   "execution_count": 32,
   "metadata": {},
   "outputs": [],
   "source": [
    "predictions_simple1=logistique.predict(X_test1)"
   ]
  },
  {
   "cell_type": "code",
   "execution_count": 33,
   "metadata": {},
   "outputs": [
    {
     "name": "stdout",
     "output_type": "stream",
     "text": [
      "f1 score= 0.3450834879406308\n",
      "precision= 0.7607361963190185\n",
      "recall= 0.22315536892621476\n"
     ]
    }
   ],
   "source": [
    "métriques(predictions_simple1,y_test1)"
   ]
  },
  {
   "cell_type": "markdown",
   "metadata": {},
   "source": [
    "#### modele  KNeighborsClassifier"
   ]
  },
  {
   "cell_type": "code",
   "execution_count": 34,
   "metadata": {
    "scrolled": true
   },
   "outputs": [
    {
     "data": {
      "image/png": "[encoded data removed]",
      "text/plain": [
       "<Figure size 432x288 with 2 Axes>"
      ]
     },
     "metadata": {
      "needs_background": "light"
     },
     "output_type": "display_data"
    }
   ],
   "source": [
    "test_model(voisins,X_train1,X_test1,y_train1,y_test1)"
   ]
  },
  {
   "cell_type": "code",
   "execution_count": 35,
   "metadata": {},
   "outputs": [],
   "source": [
    "predictions_simple2=voisins.predict(X_test1)"
   ]
  },
  {
   "cell_type": "code",
   "execution_count": 36,
   "metadata": {},
   "outputs": [
    {
     "name": "stdout",
     "output_type": "stream",
     "text": [
      "f1 score= 0.7425938117182358\n",
      "precision= 0.8227571115973742\n",
      "recall= 0.6766646670665867\n"
     ]
    }
   ],
   "source": [
    "métriques(predictions_simple2,y_test1)"
   ]
  },
  {
   "cell_type": "markdown",
   "metadata": {},
   "source": [
    "**randomforest**"
   ]
  },
  {
   "cell_type": "code",
   "execution_count": 37,
   "metadata": {
    "scrolled": true
   },
   "outputs": [
    {
     "data": {
      "image/png": "[encoded data removed]",
      "text/plain": [
       "<Figure size 432x288 with 2 Axes>"
      ]
     },
     "metadata": {
      "needs_background": "light"
     },
     "output_type": "display_data"
    }
   ],
   "source": [
    "test_model(randomforest,X_train1,X_test1,y_train1,y_test1)"
   ]
  },
  {
   "cell_type": "code",
   "execution_count": 38,
   "metadata": {},
   "outputs": [],
   "source": [
    "predictions_simple_randomf=randomforest.predict(X_test1)"
   ]
  },
  {
   "cell_type": "code",
   "execution_count": 39,
   "metadata": {
    "scrolled": true
   },
   "outputs": [
    {
     "name": "stdout",
     "output_type": "stream",
     "text": [
      "f1 score= 0.8224734042553192\n",
      "precision= 0.9224459358687547\n",
      "recall= 0.7420515896820636\n"
     ]
    }
   ],
   "source": [
    "métriques(predictions_simple_randomf,y_test1)"
   ]
  },
  {
   "cell_type": "markdown",
   "metadata": {},
   "source": [
    "**Xgboost**"
   ]
  },
  {
   "cell_type": "code",
   "execution_count": 40,
   "metadata": {
    "scrolled": true
   },
   "outputs": [
    {
     "name": "stdout",
     "output_type": "stream",
     "text": [
      "[13:26:00] WARNING: C:/Users/Administrator/workspace/xgboost-win64_release_1.4.0/src/learner.cc:1095: Starting in XGBoost 1.3.0, the default evaluation metric used with the objective 'binary:logistic' was changed from 'error' to 'logloss'. Explicitly set eval_metric if you'd like to restore the old behavior.\n"
     ]
    },
    {
     "data": {
      "image/png": "[encoded data removed]",
      "text/plain": [
       "<Figure size 432x288 with 2 Axes>"
      ]
     },
     "metadata": {
      "needs_background": "light"
     },
     "output_type": "display_data"
    }
   ],
   "source": [
    "test_model(xgb,X_train1,X_test1,y_train1,y_test1)"
   ]
  },
  {
   "cell_type": "code",
   "execution_count": 41,
   "metadata": {},
   "outputs": [],
   "source": [
    "predictions_simple_xgb=xgb.predict(X_test1)"
   ]
  },
  {
   "cell_type": "code",
   "execution_count": 42,
   "metadata": {
    "scrolled": true
   },
   "outputs": [
    {
     "name": "stdout",
     "output_type": "stream",
     "text": [
      "f1 score= 0.8719745222929937\n",
      "precision= 0.9293957909029192\n",
      "recall= 0.8212357528494301\n"
     ]
    }
   ],
   "source": [
    "métriques(predictions_simple_xgb,y_test1)"
   ]
  },
  {
   "cell_type": "markdown",
   "metadata": {},
   "source": [
    "**extreme_tree**"
   ]
  },
  {
   "cell_type": "code",
   "execution_count": 43,
   "metadata": {
    "scrolled": true
   },
   "outputs": [
    {
     "data": {
      "image/png": "[encoded data removed]",
      "text/plain": [
       "<Figure size 432x288 with 2 Axes>"
      ]
     },
     "metadata": {
      "needs_background": "light"
     },
     "output_type": "display_data"
    }
   ],
   "source": [
    "test_model(extreme_tree,X_train1,X_test1,y_train1,y_test1)"
   ]
  },
  {
   "cell_type": "code",
   "execution_count": 44,
   "metadata": {},
   "outputs": [],
   "source": [
    "predictions_simple_ext_tree=extreme_tree.predict(X_test1)"
   ]
  },
  {
   "cell_type": "code",
   "execution_count": 45,
   "metadata": {},
   "outputs": [
    {
     "name": "stdout",
     "output_type": "stream",
     "text": [
      "f1 score= 0.7977034785545423\n",
      "precision= 0.9126738794435858\n",
      "recall= 0.7084583083383323\n"
     ]
    }
   ],
   "source": [
    "métriques(predictions_simple_ext_tree,y_test1)"
   ]
  },
  {
   "cell_type": "markdown",
   "metadata": {},
   "source": [
    "**gradientboosting**"
   ]
  },
  {
   "cell_type": "code",
   "execution_count": 46,
   "metadata": {
    "scrolled": true
   },
   "outputs": [
    {
     "data": {
      "image/png": "[encoded data removed]",
      "text/plain": [
       "<Figure size 432x288 with 2 Axes>"
      ]
     },
     "metadata": {
      "needs_background": "light"
     },
     "output_type": "display_data"
    }
   ],
   "source": [
    "test_model(gradientboosting,X_train1,X_test1,y_train1,y_test1)"
   ]
  },
  {
   "cell_type": "code",
   "execution_count": 47,
   "metadata": {},
   "outputs": [],
   "source": [
    "predictions_simple_grad_boost=gradientboosting.predict(X_test1)"
   ]
  },
  {
   "cell_type": "code",
   "execution_count": 48,
   "metadata": {
    "scrolled": true
   },
   "outputs": [
    {
     "name": "stdout",
     "output_type": "stream",
     "text": [
      "f1 score= 0.6024182076813656\n",
      "precision= 0.7397379912663755\n",
      "recall= 0.5080983803239352\n"
     ]
    }
   ],
   "source": [
    "métriques(predictions_simple_grad_boost,y_test1)"
   ]
  },
  {
   "cell_type": "markdown",
   "metadata": {},
   "source": [
    "**Catboost**"
   ]
  },
  {
   "cell_type": "code",
   "execution_count": 90,
   "metadata": {
    "scrolled": true
   },
   "outputs": [
    {
     "name": "stdout",
     "output_type": "stream",
     "text": [
      "Learning rate set to 0.276388\n",
      "0:\tlearn: 0.1138332\ttotal: 603ms\tremaining: 10m 1s\n",
      "1:\tlearn: 0.0324308\ttotal: 1.22s\tremaining: 10m 10s\n",
      "2:\tlearn: 0.0136515\ttotal: 1.96s\tremaining: 10m 49s\n",
      "3:\tlearn: 0.0101015\ttotal: 2.57s\tremaining: 10m 40s\n",
      "4:\tlearn: 0.0080935\ttotal: 3.15s\tremaining: 10m 26s\n",
      "5:\tlearn: 0.0074127\ttotal: 3.72s\tremaining: 10m 17s\n",
      "6:\tlearn: 0.0067963\ttotal: 4.31s\tremaining: 10m 11s\n",
      "7:\tlearn: 0.0066147\ttotal: 4.91s\tremaining: 10m 8s\n",
      "8:\tlearn: 0.0063812\ttotal: 5.49s\tremaining: 10m 4s\n",
      "9:\tlearn: 0.0061858\ttotal: 6.04s\tremaining: 9m 57s\n",
      "10:\tlearn: 0.0060872\ttotal: 6.58s\tremaining: 9m 51s\n",
      "11:\tlearn: 0.0059491\ttotal: 7.18s\tremaining: 9m 51s\n",
      "12:\tlearn: 0.0058393\ttotal: 7.73s\tremaining: 9m 46s\n",
      "13:\tlearn: 0.0056814\ttotal: 8.3s\tremaining: 9m 44s\n",
      "14:\tlearn: 0.0056023\ttotal: 8.87s\tremaining: 9m 42s\n",
      "15:\tlearn: 0.0055619\ttotal: 9.43s\tremaining: 9m 39s\n",
      "16:\tlearn: 0.0052694\ttotal: 10s\tremaining: 9m 39s\n",
      "17:\tlearn: 0.0050010\ttotal: 10.6s\tremaining: 9m 36s\n",
      "18:\tlearn: 0.0048581\ttotal: 11.2s\tremaining: 9m 40s\n",
      "19:\tlearn: 0.0047125\ttotal: 11.8s\tremaining: 9m 37s\n",
      "20:\tlearn: 0.0046254\ttotal: 12.4s\tremaining: 9m 37s\n",
      "21:\tlearn: 0.0045259\ttotal: 12.9s\tremaining: 9m 33s\n",
      "22:\tlearn: 0.0044875\ttotal: 13.4s\tremaining: 9m 31s\n",
      "23:\tlearn: 0.0044611\ttotal: 14.1s\tremaining: 9m 32s\n",
      "24:\tlearn: 0.0044091\ttotal: 14.8s\tremaining: 9m 38s\n",
      "25:\tlearn: 0.0043387\ttotal: 15.5s\tremaining: 9m 41s\n",
      "26:\tlearn: 0.0042784\ttotal: 16.2s\tremaining: 9m 43s\n",
      "27:\tlearn: 0.0042507\ttotal: 16.7s\tremaining: 9m 40s\n",
      "28:\tlearn: 0.0041917\ttotal: 17.3s\tremaining: 9m 39s\n",
      "29:\tlearn: 0.0041604\ttotal: 17.9s\tremaining: 9m 38s\n",
      "30:\tlearn: 0.0041407\ttotal: 18.4s\tremaining: 9m 35s\n",
      "31:\tlearn: 0.0040729\ttotal: 18.9s\tremaining: 9m 32s\n",
      "32:\tlearn: 0.0040632\ttotal: 19.4s\tremaining: 9m 29s\n",
      "33:\tlearn: 0.0039923\ttotal: 20s\tremaining: 9m 28s\n",
      "34:\tlearn: 0.0039387\ttotal: 20.5s\tremaining: 9m 26s\n",
      "35:\tlearn: 0.0038644\ttotal: 21.1s\tremaining: 9m 24s\n",
      "36:\tlearn: 0.0038383\ttotal: 21.6s\tremaining: 9m 22s\n",
      "37:\tlearn: 0.0038280\ttotal: 22.2s\tremaining: 9m 21s\n",
      "38:\tlearn: 0.0037882\ttotal: 22.7s\tremaining: 9m 20s\n",
      "39:\tlearn: 0.0037734\ttotal: 23.3s\tremaining: 9m 18s\n",
      "40:\tlearn: 0.0037590\ttotal: 23.7s\tremaining: 9m 15s\n",
      "41:\tlearn: 0.0037357\ttotal: 24.2s\tremaining: 9m 11s\n",
      "42:\tlearn: 0.0037300\ttotal: 24.6s\tremaining: 9m 7s\n",
      "43:\tlearn: 0.0036731\ttotal: 25.1s\tremaining: 9m 4s\n",
      "44:\tlearn: 0.0036440\ttotal: 25.5s\tremaining: 9m 1s\n",
      "45:\tlearn: 0.0036284\ttotal: 26s\tremaining: 8m 58s\n",
      "46:\tlearn: 0.0036232\ttotal: 26.4s\tremaining: 8m 55s\n",
      "47:\tlearn: 0.0035432\ttotal: 26.9s\tremaining: 8m 53s\n",
      "48:\tlearn: 0.0035335\ttotal: 27.4s\tremaining: 8m 51s\n",
      "49:\tlearn: 0.0035297\ttotal: 27.8s\tremaining: 8m 48s\n",
      "50:\tlearn: 0.0034818\ttotal: 28.3s\tremaining: 8m 46s\n",
      "51:\tlearn: 0.0034599\ttotal: 28.7s\tremaining: 8m 43s\n",
      "52:\tlearn: 0.0034528\ttotal: 29.2s\tremaining: 8m 41s\n",
      "53:\tlearn: 0.0034372\ttotal: 29.7s\tremaining: 8m 39s\n",
      "54:\tlearn: 0.0034130\ttotal: 30.2s\tremaining: 8m 38s\n",
      "55:\tlearn: 0.0033510\ttotal: 30.8s\tremaining: 8m 39s\n",
      "56:\tlearn: 0.0033179\ttotal: 31.4s\tremaining: 8m 39s\n",
      "57:\tlearn: 0.0032657\ttotal: 31.9s\tremaining: 8m 38s\n",
      "58:\tlearn: 0.0032587\ttotal: 32.4s\tremaining: 8m 36s\n",
      "59:\tlearn: 0.0032299\ttotal: 32.9s\tremaining: 8m 34s\n",
      "60:\tlearn: 0.0031768\ttotal: 33.3s\tremaining: 8m 32s\n",
      "61:\tlearn: 0.0031687\ttotal: 33.8s\tremaining: 8m 30s\n",
      "62:\tlearn: 0.0031472\ttotal: 34.2s\tremaining: 8m 29s\n",
      "63:\tlearn: 0.0031414\ttotal: 34.7s\tremaining: 8m 27s\n",
      "64:\tlearn: 0.0031289\ttotal: 35.1s\tremaining: 8m 25s\n",
      "65:\tlearn: 0.0031101\ttotal: 35.6s\tremaining: 8m 23s\n",
      "66:\tlearn: 0.0031035\ttotal: 36.1s\tremaining: 8m 22s\n",
      "67:\tlearn: 0.0030725\ttotal: 36.5s\tremaining: 8m 20s\n",
      "68:\tlearn: 0.0030542\ttotal: 37s\tremaining: 8m 19s\n",
      "69:\tlearn: 0.0030429\ttotal: 37.5s\tremaining: 8m 17s\n",
      "70:\tlearn: 0.0030357\ttotal: 37.9s\tremaining: 8m 16s\n",
      "71:\tlearn: 0.0030257\ttotal: 38.4s\tremaining: 8m 14s\n",
      "72:\tlearn: 0.0029917\ttotal: 38.9s\tremaining: 8m 13s\n",
      "73:\tlearn: 0.0029657\ttotal: 39.3s\tremaining: 8m 11s\n",
      "74:\tlearn: 0.0029345\ttotal: 39.8s\tremaining: 8m 10s\n",
      "75:\tlearn: 0.0029159\ttotal: 40.3s\tremaining: 8m 9s\n",
      "76:\tlearn: 0.0029040\ttotal: 40.7s\tremaining: 8m 8s\n",
      "77:\tlearn: 0.0028982\ttotal: 41.2s\tremaining: 8m 7s\n",
      "78:\tlearn: 0.0028878\ttotal: 41.7s\tremaining: 8m 5s\n",
      "79:\tlearn: 0.0028744\ttotal: 42.1s\tremaining: 8m 4s\n",
      "80:\tlearn: 0.0028567\ttotal: 42.6s\tremaining: 8m 3s\n",
      "81:\tlearn: 0.0028514\ttotal: 43.1s\tremaining: 8m 2s\n",
      "82:\tlearn: 0.0028464\ttotal: 43.5s\tremaining: 8m\n",
      "83:\tlearn: 0.0028408\ttotal: 44s\tremaining: 7m 59s\n",
      "84:\tlearn: 0.0028353\ttotal: 44.5s\tremaining: 7m 58s\n",
      "85:\tlearn: 0.0028322\ttotal: 45s\tremaining: 7m 57s\n",
      "86:\tlearn: 0.0028272\ttotal: 45.4s\tremaining: 7m 56s\n",
      "87:\tlearn: 0.0028184\ttotal: 45.9s\tremaining: 7m 55s\n",
      "88:\tlearn: 0.0028083\ttotal: 46.5s\tremaining: 7m 55s\n",
      "89:\tlearn: 0.0028013\ttotal: 47s\tremaining: 7m 55s\n",
      "90:\tlearn: 0.0027915\ttotal: 47.6s\tremaining: 7m 55s\n",
      "91:\tlearn: 0.0027719\ttotal: 48.1s\tremaining: 7m 54s\n",
      "92:\tlearn: 0.0027569\ttotal: 48.5s\tremaining: 7m 53s\n",
      "93:\tlearn: 0.0027545\ttotal: 49s\tremaining: 7m 52s\n",
      "94:\tlearn: 0.0027442\ttotal: 49.4s\tremaining: 7m 50s\n",
      "95:\tlearn: 0.0027403\ttotal: 49.9s\tremaining: 7m 49s\n",
      "96:\tlearn: 0.0027330\ttotal: 50.4s\tremaining: 7m 48s\n",
      "97:\tlearn: 0.0027258\ttotal: 50.8s\tremaining: 7m 48s\n",
      "98:\tlearn: 0.0027230\ttotal: 51.3s\tremaining: 7m 47s\n",
      "99:\tlearn: 0.0027180\ttotal: 51.8s\tremaining: 7m 45s\n",
      "100:\tlearn: 0.0027153\ttotal: 52.2s\tremaining: 7m 44s\n",
      "101:\tlearn: 0.0026960\ttotal: 52.7s\tremaining: 7m 43s\n",
      "102:\tlearn: 0.0026903\ttotal: 53.2s\tremaining: 7m 42s\n",
      "103:\tlearn: 0.0026888\ttotal: 53.6s\tremaining: 7m 41s\n",
      "104:\tlearn: 0.0026861\ttotal: 54.1s\tremaining: 7m 40s\n",
      "105:\tlearn: 0.0026758\ttotal: 54.6s\tremaining: 7m 40s\n",
      "106:\tlearn: 0.0026736\ttotal: 55.1s\tremaining: 7m 39s\n",
      "107:\tlearn: 0.0026553\ttotal: 55.5s\tremaining: 7m 38s\n",
      "108:\tlearn: 0.0026410\ttotal: 56s\tremaining: 7m 37s\n",
      "109:\tlearn: 0.0026368\ttotal: 56.5s\tremaining: 7m 36s\n",
      "110:\tlearn: 0.0026333\ttotal: 56.9s\tremaining: 7m 36s\n",
      "111:\tlearn: 0.0026245\ttotal: 57.4s\tremaining: 7m 35s\n",
      "112:\tlearn: 0.0026229\ttotal: 57.9s\tremaining: 7m 34s\n",
      "113:\tlearn: 0.0026201\ttotal: 58.3s\tremaining: 7m 33s\n",
      "114:\tlearn: 0.0026177\ttotal: 58.8s\tremaining: 7m 32s\n",
      "115:\tlearn: 0.0026040\ttotal: 59.3s\tremaining: 7m 32s\n",
      "116:\tlearn: 0.0025943\ttotal: 59.8s\tremaining: 7m 31s\n",
      "117:\tlearn: 0.0025853\ttotal: 1m\tremaining: 7m 31s\n",
      "118:\tlearn: 0.0025785\ttotal: 1m 1s\tremaining: 7m 31s\n",
      "119:\tlearn: 0.0025764\ttotal: 1m 1s\tremaining: 7m 32s\n",
      "120:\tlearn: 0.0025708\ttotal: 1m 2s\tremaining: 7m 32s\n",
      "121:\tlearn: 0.0025575\ttotal: 1m 2s\tremaining: 7m 32s\n",
      "122:\tlearn: 0.0025476\ttotal: 1m 3s\tremaining: 7m 32s\n",
      "123:\tlearn: 0.0025370\ttotal: 1m 3s\tremaining: 7m 31s\n",
      "124:\tlearn: 0.0025285\ttotal: 1m 4s\tremaining: 7m 30s\n",
      "125:\tlearn: 0.0025269\ttotal: 1m 4s\tremaining: 7m 29s\n",
      "126:\tlearn: 0.0025241\ttotal: 1m 5s\tremaining: 7m 28s\n",
      "127:\tlearn: 0.0025223\ttotal: 1m 5s\tremaining: 7m 27s\n",
      "128:\tlearn: 0.0025184\ttotal: 1m 6s\tremaining: 7m 27s\n",
      "129:\tlearn: 0.0025093\ttotal: 1m 6s\tremaining: 7m 26s\n",
      "130:\tlearn: 0.0025024\ttotal: 1m 7s\tremaining: 7m 25s\n",
      "131:\tlearn: 0.0024946\ttotal: 1m 7s\tremaining: 7m 25s\n",
      "132:\tlearn: 0.0024852\ttotal: 1m 8s\tremaining: 7m 24s\n",
      "133:\tlearn: 0.0024702\ttotal: 1m 8s\tremaining: 7m 23s\n",
      "134:\tlearn: 0.0024560\ttotal: 1m 9s\tremaining: 7m 22s\n",
      "135:\tlearn: 0.0024494\ttotal: 1m 9s\tremaining: 7m 22s\n",
      "136:\tlearn: 0.0024385\ttotal: 1m 10s\tremaining: 7m 22s\n",
      "137:\tlearn: 0.0024365\ttotal: 1m 10s\tremaining: 7m 22s\n",
      "138:\tlearn: 0.0024332\ttotal: 1m 11s\tremaining: 7m 21s\n",
      "139:\tlearn: 0.0024321\ttotal: 1m 11s\tremaining: 7m 20s\n",
      "140:\tlearn: 0.0024304\ttotal: 1m 12s\tremaining: 7m 19s\n",
      "141:\tlearn: 0.0024265\ttotal: 1m 12s\tremaining: 7m 18s\n",
      "142:\tlearn: 0.0024240\ttotal: 1m 13s\tremaining: 7m 18s\n",
      "143:\tlearn: 0.0024218\ttotal: 1m 13s\tremaining: 7m 17s\n",
      "144:\tlearn: 0.0024129\ttotal: 1m 14s\tremaining: 7m 16s\n",
      "145:\tlearn: 0.0024073\ttotal: 1m 14s\tremaining: 7m 15s\n",
      "146:\tlearn: 0.0024052\ttotal: 1m 14s\tremaining: 7m 14s\n",
      "147:\tlearn: 0.0023915\ttotal: 1m 15s\tremaining: 7m 14s\n",
      "148:\tlearn: 0.0023864\ttotal: 1m 15s\tremaining: 7m 13s\n",
      "149:\tlearn: 0.0023742\ttotal: 1m 16s\tremaining: 7m 12s\n",
      "150:\tlearn: 0.0023669\ttotal: 1m 16s\tremaining: 7m 12s\n",
      "151:\tlearn: 0.0023578\ttotal: 1m 17s\tremaining: 7m 11s\n",
      "152:\tlearn: 0.0023538\ttotal: 1m 17s\tremaining: 7m 10s\n",
      "153:\tlearn: 0.0023513\ttotal: 1m 18s\tremaining: 7m 10s\n",
      "154:\tlearn: 0.0023482\ttotal: 1m 19s\tremaining: 7m 10s\n",
      "155:\tlearn: 0.0023430\ttotal: 1m 19s\tremaining: 7m 10s\n",
      "156:\tlearn: 0.0023380\ttotal: 1m 20s\tremaining: 7m 9s\n"
     ]
    },
    {
     "name": "stdout",
     "output_type": "stream",
     "text": [
      "157:\tlearn: 0.0023361\ttotal: 1m 20s\tremaining: 7m 8s\n",
      "158:\tlearn: 0.0023342\ttotal: 1m 21s\tremaining: 7m 8s\n",
      "159:\tlearn: 0.0023322\ttotal: 1m 21s\tremaining: 7m 8s\n",
      "160:\tlearn: 0.0023289\ttotal: 1m 22s\tremaining: 7m 7s\n",
      "161:\tlearn: 0.0023232\ttotal: 1m 22s\tremaining: 7m 6s\n",
      "162:\tlearn: 0.0023216\ttotal: 1m 23s\tremaining: 7m 6s\n",
      "163:\tlearn: 0.0023204\ttotal: 1m 23s\tremaining: 7m 5s\n",
      "164:\tlearn: 0.0023185\ttotal: 1m 24s\tremaining: 7m 5s\n",
      "165:\tlearn: 0.0023179\ttotal: 1m 24s\tremaining: 7m 4s\n",
      "166:\tlearn: 0.0023161\ttotal: 1m 24s\tremaining: 7m 3s\n",
      "167:\tlearn: 0.0023135\ttotal: 1m 25s\tremaining: 7m 3s\n",
      "168:\tlearn: 0.0023075\ttotal: 1m 25s\tremaining: 7m 2s\n",
      "169:\tlearn: 0.0023001\ttotal: 1m 26s\tremaining: 7m 1s\n",
      "170:\tlearn: 0.0022908\ttotal: 1m 26s\tremaining: 7m 1s\n",
      "171:\tlearn: 0.0022809\ttotal: 1m 27s\tremaining: 7m\n",
      "172:\tlearn: 0.0022729\ttotal: 1m 27s\tremaining: 6m 59s\n",
      "173:\tlearn: 0.0022631\ttotal: 1m 28s\tremaining: 6m 58s\n",
      "174:\tlearn: 0.0022603\ttotal: 1m 28s\tremaining: 6m 58s\n",
      "175:\tlearn: 0.0022530\ttotal: 1m 29s\tremaining: 6m 57s\n",
      "176:\tlearn: 0.0022467\ttotal: 1m 29s\tremaining: 6m 56s\n",
      "177:\tlearn: 0.0022329\ttotal: 1m 30s\tremaining: 6m 56s\n",
      "178:\tlearn: 0.0022250\ttotal: 1m 30s\tremaining: 6m 55s\n",
      "179:\tlearn: 0.0022196\ttotal: 1m 31s\tremaining: 6m 54s\n",
      "180:\tlearn: 0.0022100\ttotal: 1m 31s\tremaining: 6m 54s\n",
      "181:\tlearn: 0.0022068\ttotal: 1m 32s\tremaining: 6m 53s\n",
      "182:\tlearn: 0.0022025\ttotal: 1m 32s\tremaining: 6m 52s\n",
      "183:\tlearn: 0.0022005\ttotal: 1m 32s\tremaining: 6m 52s\n",
      "184:\tlearn: 0.0021993\ttotal: 1m 33s\tremaining: 6m 51s\n",
      "185:\tlearn: 0.0021978\ttotal: 1m 33s\tremaining: 6m 50s\n",
      "186:\tlearn: 0.0021964\ttotal: 1m 34s\tremaining: 6m 50s\n",
      "187:\tlearn: 0.0021911\ttotal: 1m 35s\tremaining: 6m 50s\n",
      "188:\tlearn: 0.0021830\ttotal: 1m 35s\tremaining: 6m 50s\n",
      "189:\tlearn: 0.0021807\ttotal: 1m 36s\tremaining: 6m 49s\n",
      "190:\tlearn: 0.0021795\ttotal: 1m 36s\tremaining: 6m 48s\n",
      "191:\tlearn: 0.0021779\ttotal: 1m 36s\tremaining: 6m 48s\n",
      "192:\tlearn: 0.0021757\ttotal: 1m 37s\tremaining: 6m 47s\n",
      "193:\tlearn: 0.0021746\ttotal: 1m 37s\tremaining: 6m 46s\n",
      "194:\tlearn: 0.0021721\ttotal: 1m 38s\tremaining: 6m 45s\n",
      "195:\tlearn: 0.0021699\ttotal: 1m 38s\tremaining: 6m 45s\n",
      "196:\tlearn: 0.0021678\ttotal: 1m 39s\tremaining: 6m 44s\n",
      "197:\tlearn: 0.0021633\ttotal: 1m 39s\tremaining: 6m 43s\n",
      "198:\tlearn: 0.0021614\ttotal: 1m 40s\tremaining: 6m 43s\n",
      "199:\tlearn: 0.0021561\ttotal: 1m 40s\tremaining: 6m 42s\n",
      "200:\tlearn: 0.0021534\ttotal: 1m 41s\tremaining: 6m 41s\n",
      "201:\tlearn: 0.0021522\ttotal: 1m 41s\tremaining: 6m 41s\n",
      "202:\tlearn: 0.0021505\ttotal: 1m 42s\tremaining: 6m 40s\n",
      "203:\tlearn: 0.0021429\ttotal: 1m 42s\tremaining: 6m 39s\n",
      "204:\tlearn: 0.0021409\ttotal: 1m 42s\tremaining: 6m 39s\n",
      "205:\tlearn: 0.0021387\ttotal: 1m 43s\tremaining: 6m 38s\n",
      "206:\tlearn: 0.0021372\ttotal: 1m 43s\tremaining: 6m 37s\n",
      "207:\tlearn: 0.0021350\ttotal: 1m 44s\tremaining: 6m 37s\n",
      "208:\tlearn: 0.0021329\ttotal: 1m 44s\tremaining: 6m 36s\n",
      "209:\tlearn: 0.0021312\ttotal: 1m 45s\tremaining: 6m 35s\n",
      "210:\tlearn: 0.0021277\ttotal: 1m 45s\tremaining: 6m 35s\n",
      "211:\tlearn: 0.0021242\ttotal: 1m 46s\tremaining: 6m 34s\n",
      "212:\tlearn: 0.0021230\ttotal: 1m 46s\tremaining: 6m 33s\n",
      "213:\tlearn: 0.0021198\ttotal: 1m 47s\tremaining: 6m 33s\n",
      "214:\tlearn: 0.0021184\ttotal: 1m 47s\tremaining: 6m 32s\n",
      "215:\tlearn: 0.0021154\ttotal: 1m 47s\tremaining: 6m 31s\n",
      "216:\tlearn: 0.0021148\ttotal: 1m 48s\tremaining: 6m 31s\n",
      "217:\tlearn: 0.0021136\ttotal: 1m 48s\tremaining: 6m 30s\n",
      "218:\tlearn: 0.0021129\ttotal: 1m 49s\tremaining: 6m 29s\n",
      "219:\tlearn: 0.0021078\ttotal: 1m 49s\tremaining: 6m 29s\n",
      "220:\tlearn: 0.0021068\ttotal: 1m 50s\tremaining: 6m 29s\n",
      "221:\tlearn: 0.0021034\ttotal: 1m 50s\tremaining: 6m 28s\n",
      "222:\tlearn: 0.0021020\ttotal: 1m 51s\tremaining: 6m 28s\n",
      "223:\tlearn: 0.0020951\ttotal: 1m 52s\tremaining: 6m 28s\n",
      "224:\tlearn: 0.0020945\ttotal: 1m 52s\tremaining: 6m 27s\n",
      "225:\tlearn: 0.0020908\ttotal: 1m 52s\tremaining: 6m 26s\n",
      "226:\tlearn: 0.0020824\ttotal: 1m 53s\tremaining: 6m 26s\n",
      "227:\tlearn: 0.0020777\ttotal: 1m 53s\tremaining: 6m 25s\n",
      "228:\tlearn: 0.0020747\ttotal: 1m 54s\tremaining: 6m 25s\n",
      "229:\tlearn: 0.0020701\ttotal: 1m 54s\tremaining: 6m 24s\n",
      "230:\tlearn: 0.0020666\ttotal: 1m 55s\tremaining: 6m 24s\n",
      "231:\tlearn: 0.0020650\ttotal: 1m 55s\tremaining: 6m 23s\n",
      "232:\tlearn: 0.0020588\ttotal: 1m 56s\tremaining: 6m 22s\n",
      "233:\tlearn: 0.0020570\ttotal: 1m 56s\tremaining: 6m 22s\n",
      "234:\tlearn: 0.0020515\ttotal: 1m 57s\tremaining: 6m 21s\n",
      "235:\tlearn: 0.0020501\ttotal: 1m 57s\tremaining: 6m 21s\n",
      "236:\tlearn: 0.0020488\ttotal: 1m 58s\tremaining: 6m 20s\n",
      "237:\tlearn: 0.0020465\ttotal: 1m 58s\tremaining: 6m 19s\n",
      "238:\tlearn: 0.0020451\ttotal: 1m 59s\tremaining: 6m 19s\n",
      "239:\tlearn: 0.0020435\ttotal: 1m 59s\tremaining: 6m 18s\n",
      "240:\tlearn: 0.0020419\ttotal: 2m\tremaining: 6m 17s\n",
      "241:\tlearn: 0.0020413\ttotal: 2m\tremaining: 6m 17s\n",
      "242:\tlearn: 0.0020395\ttotal: 2m\tremaining: 6m 16s\n",
      "243:\tlearn: 0.0020349\ttotal: 2m 1s\tremaining: 6m 16s\n",
      "244:\tlearn: 0.0020335\ttotal: 2m 1s\tremaining: 6m 15s\n",
      "245:\tlearn: 0.0020285\ttotal: 2m 2s\tremaining: 6m 14s\n",
      "246:\tlearn: 0.0020224\ttotal: 2m 2s\tremaining: 6m 14s\n",
      "247:\tlearn: 0.0020190\ttotal: 2m 3s\tremaining: 6m 13s\n",
      "248:\tlearn: 0.0020175\ttotal: 2m 3s\tremaining: 6m 13s\n",
      "249:\tlearn: 0.0020129\ttotal: 2m 4s\tremaining: 6m 12s\n",
      "250:\tlearn: 0.0020113\ttotal: 2m 4s\tremaining: 6m 11s\n",
      "251:\tlearn: 0.0020095\ttotal: 2m 5s\tremaining: 6m 11s\n",
      "252:\tlearn: 0.0020054\ttotal: 2m 5s\tremaining: 6m 10s\n",
      "253:\tlearn: 0.0020044\ttotal: 2m 6s\tremaining: 6m 10s\n",
      "254:\tlearn: 0.0020032\ttotal: 2m 6s\tremaining: 6m 10s\n",
      "255:\tlearn: 0.0020016\ttotal: 2m 7s\tremaining: 6m 9s\n",
      "256:\tlearn: 0.0019943\ttotal: 2m 7s\tremaining: 6m 9s\n",
      "257:\tlearn: 0.0019918\ttotal: 2m 8s\tremaining: 6m 8s\n",
      "258:\tlearn: 0.0019874\ttotal: 2m 8s\tremaining: 6m 8s\n",
      "259:\tlearn: 0.0019856\ttotal: 2m 9s\tremaining: 6m 7s\n",
      "260:\tlearn: 0.0019830\ttotal: 2m 9s\tremaining: 6m 7s\n",
      "261:\tlearn: 0.0019787\ttotal: 2m 10s\tremaining: 6m 6s\n",
      "262:\tlearn: 0.0019763\ttotal: 2m 10s\tremaining: 6m 6s\n",
      "263:\tlearn: 0.0019710\ttotal: 2m 11s\tremaining: 6m 5s\n",
      "264:\tlearn: 0.0019698\ttotal: 2m 11s\tremaining: 6m 4s\n",
      "265:\tlearn: 0.0019689\ttotal: 2m 12s\tremaining: 6m 4s\n",
      "266:\tlearn: 0.0019638\ttotal: 2m 12s\tremaining: 6m 3s\n",
      "267:\tlearn: 0.0019623\ttotal: 2m 12s\tremaining: 6m 3s\n",
      "268:\tlearn: 0.0019601\ttotal: 2m 13s\tremaining: 6m 2s\n",
      "269:\tlearn: 0.0019597\ttotal: 2m 13s\tremaining: 6m 1s\n",
      "270:\tlearn: 0.0019565\ttotal: 2m 14s\tremaining: 6m 1s\n",
      "271:\tlearn: 0.0019538\ttotal: 2m 14s\tremaining: 6m\n",
      "272:\tlearn: 0.0019501\ttotal: 2m 15s\tremaining: 6m\n",
      "273:\tlearn: 0.0019494\ttotal: 2m 15s\tremaining: 5m 59s\n",
      "274:\tlearn: 0.0019483\ttotal: 2m 16s\tremaining: 5m 59s\n",
      "275:\tlearn: 0.0019477\ttotal: 2m 16s\tremaining: 5m 58s\n",
      "276:\tlearn: 0.0019454\ttotal: 2m 17s\tremaining: 5m 58s\n",
      "277:\tlearn: 0.0019423\ttotal: 2m 17s\tremaining: 5m 58s\n",
      "278:\tlearn: 0.0019419\ttotal: 2m 18s\tremaining: 5m 57s\n",
      "279:\tlearn: 0.0019372\ttotal: 2m 19s\tremaining: 5m 57s\n",
      "280:\tlearn: 0.0019342\ttotal: 2m 19s\tremaining: 5m 57s\n",
      "281:\tlearn: 0.0019318\ttotal: 2m 20s\tremaining: 5m 56s\n",
      "282:\tlearn: 0.0019311\ttotal: 2m 20s\tremaining: 5m 56s\n",
      "283:\tlearn: 0.0019295\ttotal: 2m 21s\tremaining: 5m 55s\n",
      "284:\tlearn: 0.0019285\ttotal: 2m 21s\tremaining: 5m 55s\n",
      "285:\tlearn: 0.0019271\ttotal: 2m 22s\tremaining: 5m 55s\n",
      "286:\tlearn: 0.0019253\ttotal: 2m 22s\tremaining: 5m 55s\n",
      "287:\tlearn: 0.0019239\ttotal: 2m 23s\tremaining: 5m 55s\n",
      "288:\tlearn: 0.0019211\ttotal: 2m 24s\tremaining: 5m 54s\n",
      "289:\tlearn: 0.0019204\ttotal: 2m 24s\tremaining: 5m 54s\n",
      "290:\tlearn: 0.0019193\ttotal: 2m 25s\tremaining: 5m 54s\n",
      "291:\tlearn: 0.0019176\ttotal: 2m 26s\tremaining: 5m 54s\n",
      "292:\tlearn: 0.0019170\ttotal: 2m 26s\tremaining: 5m 53s\n",
      "293:\tlearn: 0.0019159\ttotal: 2m 26s\tremaining: 5m 52s\n",
      "294:\tlearn: 0.0019141\ttotal: 2m 27s\tremaining: 5m 52s\n",
      "295:\tlearn: 0.0019135\ttotal: 2m 27s\tremaining: 5m 51s\n",
      "296:\tlearn: 0.0019119\ttotal: 2m 28s\tremaining: 5m 51s\n",
      "297:\tlearn: 0.0019088\ttotal: 2m 29s\tremaining: 5m 51s\n",
      "298:\tlearn: 0.0019073\ttotal: 2m 29s\tremaining: 5m 50s\n",
      "299:\tlearn: 0.0019068\ttotal: 2m 29s\tremaining: 5m 49s\n",
      "300:\tlearn: 0.0019038\ttotal: 2m 30s\tremaining: 5m 49s\n",
      "301:\tlearn: 0.0019024\ttotal: 2m 30s\tremaining: 5m 48s\n",
      "302:\tlearn: 0.0019017\ttotal: 2m 31s\tremaining: 5m 48s\n",
      "303:\tlearn: 0.0019003\ttotal: 2m 31s\tremaining: 5m 47s\n",
      "304:\tlearn: 0.0018998\ttotal: 2m 32s\tremaining: 5m 47s\n",
      "305:\tlearn: 0.0018982\ttotal: 2m 32s\tremaining: 5m 46s\n",
      "306:\tlearn: 0.0018979\ttotal: 2m 33s\tremaining: 5m 45s\n",
      "307:\tlearn: 0.0018961\ttotal: 2m 33s\tremaining: 5m 45s\n",
      "308:\tlearn: 0.0018910\ttotal: 2m 34s\tremaining: 5m 44s\n",
      "309:\tlearn: 0.0018899\ttotal: 2m 34s\tremaining: 5m 44s\n",
      "310:\tlearn: 0.0018891\ttotal: 2m 35s\tremaining: 5m 43s\n"
     ]
    },
    {
     "name": "stdout",
     "output_type": "stream",
     "text": [
      "311:\tlearn: 0.0018880\ttotal: 2m 35s\tremaining: 5m 42s\n",
      "312:\tlearn: 0.0018835\ttotal: 2m 35s\tremaining: 5m 42s\n",
      "313:\tlearn: 0.0018799\ttotal: 2m 36s\tremaining: 5m 41s\n",
      "314:\tlearn: 0.0018777\ttotal: 2m 36s\tremaining: 5m 41s\n",
      "315:\tlearn: 0.0018766\ttotal: 2m 37s\tremaining: 5m 40s\n",
      "316:\tlearn: 0.0018731\ttotal: 2m 37s\tremaining: 5m 39s\n",
      "317:\tlearn: 0.0018689\ttotal: 2m 38s\tremaining: 5m 39s\n",
      "318:\tlearn: 0.0018668\ttotal: 2m 38s\tremaining: 5m 39s\n",
      "319:\tlearn: 0.0018642\ttotal: 2m 39s\tremaining: 5m 38s\n",
      "320:\tlearn: 0.0018632\ttotal: 2m 39s\tremaining: 5m 38s\n",
      "321:\tlearn: 0.0018601\ttotal: 2m 40s\tremaining: 5m 37s\n",
      "322:\tlearn: 0.0018587\ttotal: 2m 40s\tremaining: 5m 37s\n",
      "323:\tlearn: 0.0018560\ttotal: 2m 41s\tremaining: 5m 36s\n",
      "324:\tlearn: 0.0018552\ttotal: 2m 41s\tremaining: 5m 36s\n",
      "325:\tlearn: 0.0018541\ttotal: 2m 42s\tremaining: 5m 35s\n",
      "326:\tlearn: 0.0018491\ttotal: 2m 42s\tremaining: 5m 35s\n",
      "327:\tlearn: 0.0018478\ttotal: 2m 43s\tremaining: 5m 34s\n",
      "328:\tlearn: 0.0018473\ttotal: 2m 43s\tremaining: 5m 34s\n",
      "329:\tlearn: 0.0018467\ttotal: 2m 44s\tremaining: 5m 33s\n",
      "330:\tlearn: 0.0018452\ttotal: 2m 44s\tremaining: 5m 33s\n",
      "331:\tlearn: 0.0018422\ttotal: 2m 45s\tremaining: 5m 32s\n",
      "332:\tlearn: 0.0018414\ttotal: 2m 45s\tremaining: 5m 32s\n",
      "333:\tlearn: 0.0018392\ttotal: 2m 46s\tremaining: 5m 31s\n",
      "334:\tlearn: 0.0018377\ttotal: 2m 46s\tremaining: 5m 31s\n",
      "335:\tlearn: 0.0018363\ttotal: 2m 47s\tremaining: 5m 30s\n",
      "336:\tlearn: 0.0018350\ttotal: 2m 47s\tremaining: 5m 30s\n",
      "337:\tlearn: 0.0018337\ttotal: 2m 48s\tremaining: 5m 29s\n",
      "338:\tlearn: 0.0018330\ttotal: 2m 48s\tremaining: 5m 29s\n",
      "339:\tlearn: 0.0018319\ttotal: 2m 49s\tremaining: 5m 28s\n",
      "340:\tlearn: 0.0018290\ttotal: 2m 49s\tremaining: 5m 28s\n",
      "341:\tlearn: 0.0018261\ttotal: 2m 50s\tremaining: 5m 27s\n",
      "342:\tlearn: 0.0018253\ttotal: 2m 50s\tremaining: 5m 27s\n",
      "343:\tlearn: 0.0018244\ttotal: 2m 51s\tremaining: 5m 26s\n",
      "344:\tlearn: 0.0018237\ttotal: 2m 51s\tremaining: 5m 26s\n",
      "345:\tlearn: 0.0018211\ttotal: 2m 52s\tremaining: 5m 25s\n",
      "346:\tlearn: 0.0018202\ttotal: 2m 52s\tremaining: 5m 25s\n",
      "347:\tlearn: 0.0018187\ttotal: 2m 53s\tremaining: 5m 24s\n",
      "348:\tlearn: 0.0018176\ttotal: 2m 53s\tremaining: 5m 24s\n",
      "349:\tlearn: 0.0018167\ttotal: 2m 54s\tremaining: 5m 23s\n",
      "350:\tlearn: 0.0018165\ttotal: 2m 54s\tremaining: 5m 23s\n",
      "351:\tlearn: 0.0018153\ttotal: 2m 55s\tremaining: 5m 22s\n",
      "352:\tlearn: 0.0018142\ttotal: 2m 55s\tremaining: 5m 22s\n",
      "353:\tlearn: 0.0018132\ttotal: 2m 56s\tremaining: 5m 21s\n",
      "354:\tlearn: 0.0018129\ttotal: 2m 56s\tremaining: 5m 21s\n",
      "355:\tlearn: 0.0018116\ttotal: 2m 57s\tremaining: 5m 20s\n",
      "356:\tlearn: 0.0018109\ttotal: 2m 57s\tremaining: 5m 20s\n",
      "357:\tlearn: 0.0018101\ttotal: 2m 58s\tremaining: 5m 19s\n",
      "358:\tlearn: 0.0018092\ttotal: 2m 58s\tremaining: 5m 18s\n",
      "359:\tlearn: 0.0018061\ttotal: 2m 59s\tremaining: 5m 18s\n",
      "360:\tlearn: 0.0018039\ttotal: 2m 59s\tremaining: 5m 17s\n",
      "361:\tlearn: 0.0018025\ttotal: 3m\tremaining: 5m 17s\n",
      "362:\tlearn: 0.0018018\ttotal: 3m\tremaining: 5m 16s\n",
      "363:\tlearn: 0.0017997\ttotal: 3m 1s\tremaining: 5m 16s\n",
      "364:\tlearn: 0.0017983\ttotal: 3m 1s\tremaining: 5m 15s\n",
      "365:\tlearn: 0.0017971\ttotal: 3m 2s\tremaining: 5m 15s\n",
      "366:\tlearn: 0.0017940\ttotal: 3m 2s\tremaining: 5m 14s\n",
      "367:\tlearn: 0.0017932\ttotal: 3m 3s\tremaining: 5m 14s\n",
      "368:\tlearn: 0.0017908\ttotal: 3m 3s\tremaining: 5m 13s\n",
      "369:\tlearn: 0.0017898\ttotal: 3m 3s\tremaining: 5m 13s\n",
      "370:\tlearn: 0.0017892\ttotal: 3m 4s\tremaining: 5m 12s\n",
      "371:\tlearn: 0.0017865\ttotal: 3m 4s\tremaining: 5m 12s\n",
      "372:\tlearn: 0.0017843\ttotal: 3m 5s\tremaining: 5m 11s\n",
      "373:\tlearn: 0.0017828\ttotal: 3m 5s\tremaining: 5m 11s\n",
      "374:\tlearn: 0.0017796\ttotal: 3m 6s\tremaining: 5m 10s\n",
      "375:\tlearn: 0.0017792\ttotal: 3m 6s\tremaining: 5m 10s\n",
      "376:\tlearn: 0.0017780\ttotal: 3m 7s\tremaining: 5m 9s\n",
      "377:\tlearn: 0.0017768\ttotal: 3m 7s\tremaining: 5m 9s\n",
      "378:\tlearn: 0.0017746\ttotal: 3m 8s\tremaining: 5m 8s\n",
      "379:\tlearn: 0.0017727\ttotal: 3m 8s\tremaining: 5m 8s\n",
      "380:\tlearn: 0.0017710\ttotal: 3m 9s\tremaining: 5m 7s\n",
      "381:\tlearn: 0.0017702\ttotal: 3m 9s\tremaining: 5m 7s\n",
      "382:\tlearn: 0.0017692\ttotal: 3m 10s\tremaining: 5m 7s\n",
      "383:\tlearn: 0.0017650\ttotal: 3m 11s\tremaining: 5m 7s\n",
      "384:\tlearn: 0.0017646\ttotal: 3m 12s\tremaining: 5m 6s\n",
      "385:\tlearn: 0.0017625\ttotal: 3m 12s\tremaining: 5m 6s\n",
      "386:\tlearn: 0.0017587\ttotal: 3m 13s\tremaining: 5m 6s\n",
      "387:\tlearn: 0.0017564\ttotal: 3m 13s\tremaining: 5m 5s\n",
      "388:\tlearn: 0.0017562\ttotal: 3m 14s\tremaining: 5m 5s\n",
      "389:\tlearn: 0.0017559\ttotal: 3m 14s\tremaining: 5m 4s\n",
      "390:\tlearn: 0.0017546\ttotal: 3m 15s\tremaining: 5m 3s\n",
      "391:\tlearn: 0.0017522\ttotal: 3m 15s\tremaining: 5m 3s\n",
      "392:\tlearn: 0.0017509\ttotal: 3m 16s\tremaining: 5m 2s\n",
      "393:\tlearn: 0.0017495\ttotal: 3m 16s\tremaining: 5m 2s\n",
      "394:\tlearn: 0.0017490\ttotal: 3m 17s\tremaining: 5m 1s\n",
      "395:\tlearn: 0.0017482\ttotal: 3m 17s\tremaining: 5m 1s\n",
      "396:\tlearn: 0.0017475\ttotal: 3m 17s\tremaining: 5m\n",
      "397:\tlearn: 0.0017466\ttotal: 3m 18s\tremaining: 5m\n",
      "398:\tlearn: 0.0017462\ttotal: 3m 18s\tremaining: 4m 59s\n",
      "399:\tlearn: 0.0017445\ttotal: 3m 19s\tremaining: 4m 59s\n",
      "400:\tlearn: 0.0017432\ttotal: 3m 19s\tremaining: 4m 58s\n",
      "401:\tlearn: 0.0017423\ttotal: 3m 20s\tremaining: 4m 57s\n",
      "402:\tlearn: 0.0017416\ttotal: 3m 20s\tremaining: 4m 57s\n",
      "403:\tlearn: 0.0017407\ttotal: 3m 21s\tremaining: 4m 56s\n",
      "404:\tlearn: 0.0017398\ttotal: 3m 21s\tremaining: 4m 56s\n",
      "405:\tlearn: 0.0017387\ttotal: 3m 22s\tremaining: 4m 55s\n",
      "406:\tlearn: 0.0017379\ttotal: 3m 22s\tremaining: 4m 55s\n",
      "407:\tlearn: 0.0017369\ttotal: 3m 23s\tremaining: 4m 54s\n",
      "408:\tlearn: 0.0017360\ttotal: 3m 23s\tremaining: 4m 54s\n",
      "409:\tlearn: 0.0017341\ttotal: 3m 24s\tremaining: 4m 53s\n",
      "410:\tlearn: 0.0017331\ttotal: 3m 24s\tremaining: 4m 53s\n",
      "411:\tlearn: 0.0017320\ttotal: 3m 25s\tremaining: 4m 52s\n",
      "412:\tlearn: 0.0017317\ttotal: 3m 25s\tremaining: 4m 52s\n",
      "413:\tlearn: 0.0017310\ttotal: 3m 26s\tremaining: 4m 51s\n",
      "414:\tlearn: 0.0017302\ttotal: 3m 26s\tremaining: 4m 51s\n",
      "415:\tlearn: 0.0017287\ttotal: 3m 27s\tremaining: 4m 50s\n",
      "416:\tlearn: 0.0017271\ttotal: 3m 27s\tremaining: 4m 50s\n",
      "417:\tlearn: 0.0017262\ttotal: 3m 28s\tremaining: 4m 49s\n",
      "418:\tlearn: 0.0017251\ttotal: 3m 28s\tremaining: 4m 49s\n",
      "419:\tlearn: 0.0017243\ttotal: 3m 29s\tremaining: 4m 48s\n",
      "420:\tlearn: 0.0017231\ttotal: 3m 29s\tremaining: 4m 48s\n",
      "421:\tlearn: 0.0017221\ttotal: 3m 30s\tremaining: 4m 47s\n",
      "422:\tlearn: 0.0017202\ttotal: 3m 30s\tremaining: 4m 47s\n",
      "423:\tlearn: 0.0017194\ttotal: 3m 31s\tremaining: 4m 46s\n",
      "424:\tlearn: 0.0017185\ttotal: 3m 31s\tremaining: 4m 46s\n",
      "425:\tlearn: 0.0017180\ttotal: 3m 32s\tremaining: 4m 45s\n",
      "426:\tlearn: 0.0017163\ttotal: 3m 32s\tremaining: 4m 45s\n",
      "427:\tlearn: 0.0017144\ttotal: 3m 33s\tremaining: 4m 44s\n",
      "428:\tlearn: 0.0017136\ttotal: 3m 33s\tremaining: 4m 44s\n",
      "429:\tlearn: 0.0017126\ttotal: 3m 34s\tremaining: 4m 44s\n",
      "430:\tlearn: 0.0017115\ttotal: 3m 34s\tremaining: 4m 43s\n",
      "431:\tlearn: 0.0017089\ttotal: 3m 35s\tremaining: 4m 43s\n",
      "432:\tlearn: 0.0017083\ttotal: 3m 35s\tremaining: 4m 42s\n",
      "433:\tlearn: 0.0017075\ttotal: 3m 36s\tremaining: 4m 42s\n",
      "434:\tlearn: 0.0017069\ttotal: 3m 36s\tremaining: 4m 41s\n",
      "435:\tlearn: 0.0017059\ttotal: 3m 37s\tremaining: 4m 41s\n",
      "436:\tlearn: 0.0017044\ttotal: 3m 37s\tremaining: 4m 40s\n",
      "437:\tlearn: 0.0017043\ttotal: 3m 38s\tremaining: 4m 40s\n",
      "438:\tlearn: 0.0017034\ttotal: 3m 38s\tremaining: 4m 39s\n",
      "439:\tlearn: 0.0017023\ttotal: 3m 39s\tremaining: 4m 38s\n",
      "440:\tlearn: 0.0017019\ttotal: 3m 39s\tremaining: 4m 38s\n",
      "441:\tlearn: 0.0017017\ttotal: 3m 40s\tremaining: 4m 37s\n",
      "442:\tlearn: 0.0017009\ttotal: 3m 40s\tremaining: 4m 37s\n",
      "443:\tlearn: 0.0016997\ttotal: 3m 41s\tremaining: 4m 36s\n",
      "444:\tlearn: 0.0016966\ttotal: 3m 41s\tremaining: 4m 36s\n",
      "445:\tlearn: 0.0016952\ttotal: 3m 42s\tremaining: 4m 35s\n",
      "446:\tlearn: 0.0016947\ttotal: 3m 42s\tremaining: 4m 35s\n",
      "447:\tlearn: 0.0016940\ttotal: 3m 43s\tremaining: 4m 35s\n",
      "448:\tlearn: 0.0016936\ttotal: 3m 43s\tremaining: 4m 34s\n",
      "449:\tlearn: 0.0016927\ttotal: 3m 44s\tremaining: 4m 34s\n",
      "450:\tlearn: 0.0016913\ttotal: 3m 44s\tremaining: 4m 33s\n",
      "451:\tlearn: 0.0016903\ttotal: 3m 45s\tremaining: 4m 33s\n",
      "452:\tlearn: 0.0016892\ttotal: 3m 45s\tremaining: 4m 32s\n",
      "453:\tlearn: 0.0016882\ttotal: 3m 46s\tremaining: 4m 32s\n",
      "454:\tlearn: 0.0016873\ttotal: 3m 46s\tremaining: 4m 31s\n",
      "455:\tlearn: 0.0016867\ttotal: 3m 47s\tremaining: 4m 30s\n",
      "456:\tlearn: 0.0016861\ttotal: 3m 47s\tremaining: 4m 30s\n",
      "457:\tlearn: 0.0016852\ttotal: 3m 48s\tremaining: 4m 29s\n",
      "458:\tlearn: 0.0016841\ttotal: 3m 48s\tremaining: 4m 29s\n",
      "459:\tlearn: 0.0016833\ttotal: 3m 49s\tremaining: 4m 28s\n",
      "460:\tlearn: 0.0016822\ttotal: 3m 49s\tremaining: 4m 28s\n",
      "461:\tlearn: 0.0016816\ttotal: 3m 49s\tremaining: 4m 27s\n",
      "462:\tlearn: 0.0016808\ttotal: 3m 50s\tremaining: 4m 27s\n",
      "463:\tlearn: 0.0016788\ttotal: 3m 50s\tremaining: 4m 26s\n"
     ]
    },
    {
     "name": "stdout",
     "output_type": "stream",
     "text": [
      "464:\tlearn: 0.0016778\ttotal: 3m 51s\tremaining: 4m 26s\n",
      "465:\tlearn: 0.0016747\ttotal: 3m 51s\tremaining: 4m 25s\n",
      "466:\tlearn: 0.0016734\ttotal: 3m 52s\tremaining: 4m 25s\n",
      "467:\tlearn: 0.0016715\ttotal: 3m 52s\tremaining: 4m 24s\n",
      "468:\tlearn: 0.0016709\ttotal: 3m 53s\tremaining: 4m 24s\n",
      "469:\tlearn: 0.0016706\ttotal: 3m 53s\tremaining: 4m 23s\n",
      "470:\tlearn: 0.0016679\ttotal: 3m 54s\tremaining: 4m 23s\n",
      "471:\tlearn: 0.0016667\ttotal: 3m 54s\tremaining: 4m 22s\n",
      "472:\tlearn: 0.0016659\ttotal: 3m 55s\tremaining: 4m 22s\n",
      "473:\tlearn: 0.0016631\ttotal: 3m 55s\tremaining: 4m 21s\n",
      "474:\tlearn: 0.0016601\ttotal: 3m 56s\tremaining: 4m 21s\n",
      "475:\tlearn: 0.0016586\ttotal: 3m 56s\tremaining: 4m 20s\n",
      "476:\tlearn: 0.0016579\ttotal: 3m 57s\tremaining: 4m 20s\n",
      "477:\tlearn: 0.0016557\ttotal: 3m 57s\tremaining: 4m 19s\n",
      "478:\tlearn: 0.0016545\ttotal: 3m 58s\tremaining: 4m 19s\n",
      "479:\tlearn: 0.0016539\ttotal: 3m 58s\tremaining: 4m 18s\n",
      "480:\tlearn: 0.0016532\ttotal: 3m 59s\tremaining: 4m 18s\n",
      "481:\tlearn: 0.0016526\ttotal: 4m\tremaining: 4m 17s\n",
      "482:\tlearn: 0.0016510\ttotal: 4m\tremaining: 4m 17s\n",
      "483:\tlearn: 0.0016493\ttotal: 4m 1s\tremaining: 4m 16s\n",
      "484:\tlearn: 0.0016488\ttotal: 4m 1s\tremaining: 4m 16s\n",
      "485:\tlearn: 0.0016487\ttotal: 4m 1s\tremaining: 4m 15s\n",
      "486:\tlearn: 0.0016481\ttotal: 4m 2s\tremaining: 4m 15s\n",
      "487:\tlearn: 0.0016478\ttotal: 4m 2s\tremaining: 4m 14s\n",
      "488:\tlearn: 0.0016471\ttotal: 4m 3s\tremaining: 4m 14s\n",
      "489:\tlearn: 0.0016465\ttotal: 4m 3s\tremaining: 4m 13s\n",
      "490:\tlearn: 0.0016449\ttotal: 4m 4s\tremaining: 4m 13s\n",
      "491:\tlearn: 0.0016406\ttotal: 4m 4s\tremaining: 4m 12s\n",
      "492:\tlearn: 0.0016391\ttotal: 4m 5s\tremaining: 4m 12s\n",
      "493:\tlearn: 0.0016381\ttotal: 4m 5s\tremaining: 4m 11s\n",
      "494:\tlearn: 0.0016375\ttotal: 4m 6s\tremaining: 4m 11s\n",
      "495:\tlearn: 0.0016345\ttotal: 4m 6s\tremaining: 4m 10s\n",
      "496:\tlearn: 0.0016339\ttotal: 4m 7s\tremaining: 4m 10s\n",
      "497:\tlearn: 0.0016333\ttotal: 4m 7s\tremaining: 4m 9s\n",
      "498:\tlearn: 0.0016311\ttotal: 4m 7s\tremaining: 4m 8s\n",
      "499:\tlearn: 0.0016288\ttotal: 4m 8s\tremaining: 4m 8s\n",
      "500:\tlearn: 0.0016283\ttotal: 4m 8s\tremaining: 4m 7s\n",
      "501:\tlearn: 0.0016261\ttotal: 4m 9s\tremaining: 4m 7s\n",
      "502:\tlearn: 0.0016250\ttotal: 4m 9s\tremaining: 4m 6s\n",
      "503:\tlearn: 0.0016232\ttotal: 4m 10s\tremaining: 4m 6s\n",
      "504:\tlearn: 0.0016226\ttotal: 4m 10s\tremaining: 4m 5s\n",
      "505:\tlearn: 0.0016204\ttotal: 4m 11s\tremaining: 4m 5s\n",
      "506:\tlearn: 0.0016193\ttotal: 4m 11s\tremaining: 4m 4s\n",
      "507:\tlearn: 0.0016182\ttotal: 4m 12s\tremaining: 4m 4s\n",
      "508:\tlearn: 0.0016156\ttotal: 4m 12s\tremaining: 4m 3s\n",
      "509:\tlearn: 0.0016152\ttotal: 4m 13s\tremaining: 4m 3s\n",
      "510:\tlearn: 0.0016132\ttotal: 4m 13s\tremaining: 4m 2s\n",
      "511:\tlearn: 0.0016125\ttotal: 4m 14s\tremaining: 4m 2s\n",
      "512:\tlearn: 0.0016120\ttotal: 4m 14s\tremaining: 4m 1s\n",
      "513:\tlearn: 0.0016100\ttotal: 4m 15s\tremaining: 4m 1s\n",
      "514:\tlearn: 0.0016094\ttotal: 4m 16s\tremaining: 4m 1s\n",
      "515:\tlearn: 0.0016091\ttotal: 4m 16s\tremaining: 4m\n",
      "516:\tlearn: 0.0016085\ttotal: 4m 16s\tremaining: 4m\n",
      "517:\tlearn: 0.0016075\ttotal: 4m 17s\tremaining: 3m 59s\n",
      "518:\tlearn: 0.0016062\ttotal: 4m 17s\tremaining: 3m 59s\n",
      "519:\tlearn: 0.0016049\ttotal: 4m 18s\tremaining: 3m 58s\n",
      "520:\tlearn: 0.0016037\ttotal: 4m 18s\tremaining: 3m 58s\n",
      "521:\tlearn: 0.0016031\ttotal: 4m 19s\tremaining: 3m 57s\n",
      "522:\tlearn: 0.0016024\ttotal: 4m 19s\tremaining: 3m 57s\n",
      "523:\tlearn: 0.0016022\ttotal: 4m 20s\tremaining: 3m 56s\n",
      "524:\tlearn: 0.0016019\ttotal: 4m 20s\tremaining: 3m 56s\n",
      "525:\tlearn: 0.0016009\ttotal: 4m 21s\tremaining: 3m 55s\n",
      "526:\tlearn: 0.0015994\ttotal: 4m 21s\tremaining: 3m 55s\n",
      "527:\tlearn: 0.0015983\ttotal: 4m 22s\tremaining: 3m 54s\n",
      "528:\tlearn: 0.0015972\ttotal: 4m 22s\tremaining: 3m 54s\n",
      "529:\tlearn: 0.0015965\ttotal: 4m 23s\tremaining: 3m 53s\n",
      "530:\tlearn: 0.0015950\ttotal: 4m 23s\tremaining: 3m 53s\n",
      "531:\tlearn: 0.0015942\ttotal: 4m 24s\tremaining: 3m 52s\n",
      "532:\tlearn: 0.0015936\ttotal: 4m 24s\tremaining: 3m 51s\n",
      "533:\tlearn: 0.0015929\ttotal: 4m 25s\tremaining: 3m 51s\n",
      "534:\tlearn: 0.0015911\ttotal: 4m 25s\tremaining: 3m 50s\n",
      "535:\tlearn: 0.0015892\ttotal: 4m 26s\tremaining: 3m 50s\n",
      "536:\tlearn: 0.0015882\ttotal: 4m 26s\tremaining: 3m 49s\n",
      "537:\tlearn: 0.0015867\ttotal: 4m 27s\tremaining: 3m 49s\n",
      "538:\tlearn: 0.0015860\ttotal: 4m 27s\tremaining: 3m 49s\n",
      "539:\tlearn: 0.0015846\ttotal: 4m 28s\tremaining: 3m 48s\n",
      "540:\tlearn: 0.0015844\ttotal: 4m 28s\tremaining: 3m 48s\n",
      "541:\tlearn: 0.0015840\ttotal: 4m 29s\tremaining: 3m 47s\n",
      "542:\tlearn: 0.0015833\ttotal: 4m 30s\tremaining: 3m 47s\n",
      "543:\tlearn: 0.0015830\ttotal: 4m 30s\tremaining: 3m 46s\n",
      "544:\tlearn: 0.0015816\ttotal: 4m 31s\tremaining: 3m 46s\n",
      "545:\tlearn: 0.0015801\ttotal: 4m 31s\tremaining: 3m 46s\n",
      "546:\tlearn: 0.0015800\ttotal: 4m 32s\tremaining: 3m 45s\n",
      "547:\tlearn: 0.0015794\ttotal: 4m 33s\tremaining: 3m 45s\n",
      "548:\tlearn: 0.0015784\ttotal: 4m 33s\tremaining: 3m 44s\n",
      "549:\tlearn: 0.0015777\ttotal: 4m 34s\tremaining: 3m 44s\n",
      "550:\tlearn: 0.0015762\ttotal: 4m 34s\tremaining: 3m 43s\n",
      "551:\tlearn: 0.0015756\ttotal: 4m 35s\tremaining: 3m 43s\n",
      "552:\tlearn: 0.0015752\ttotal: 4m 35s\tremaining: 3m 42s\n",
      "553:\tlearn: 0.0015747\ttotal: 4m 36s\tremaining: 3m 42s\n",
      "554:\tlearn: 0.0015738\ttotal: 4m 36s\tremaining: 3m 41s\n",
      "555:\tlearn: 0.0015735\ttotal: 4m 36s\tremaining: 3m 41s\n",
      "556:\tlearn: 0.0015724\ttotal: 4m 37s\tremaining: 3m 40s\n",
      "557:\tlearn: 0.0015715\ttotal: 4m 37s\tremaining: 3m 40s\n",
      "558:\tlearn: 0.0015700\ttotal: 4m 38s\tremaining: 3m 39s\n",
      "559:\tlearn: 0.0015688\ttotal: 4m 38s\tremaining: 3m 39s\n",
      "560:\tlearn: 0.0015673\ttotal: 4m 39s\tremaining: 3m 38s\n",
      "561:\tlearn: 0.0015659\ttotal: 4m 39s\tremaining: 3m 37s\n",
      "562:\tlearn: 0.0015652\ttotal: 4m 40s\tremaining: 3m 37s\n",
      "563:\tlearn: 0.0015638\ttotal: 4m 40s\tremaining: 3m 36s\n",
      "564:\tlearn: 0.0015634\ttotal: 4m 40s\tremaining: 3m 36s\n",
      "565:\tlearn: 0.0015626\ttotal: 4m 41s\tremaining: 3m 35s\n",
      "566:\tlearn: 0.0015623\ttotal: 4m 41s\tremaining: 3m 35s\n",
      "567:\tlearn: 0.0015616\ttotal: 4m 42s\tremaining: 3m 34s\n",
      "568:\tlearn: 0.0015612\ttotal: 4m 42s\tremaining: 3m 34s\n",
      "569:\tlearn: 0.0015603\ttotal: 4m 43s\tremaining: 3m 33s\n",
      "570:\tlearn: 0.0015596\ttotal: 4m 43s\tremaining: 3m 33s\n",
      "571:\tlearn: 0.0015591\ttotal: 4m 44s\tremaining: 3m 32s\n",
      "572:\tlearn: 0.0015586\ttotal: 4m 44s\tremaining: 3m 32s\n",
      "573:\tlearn: 0.0015576\ttotal: 4m 45s\tremaining: 3m 31s\n",
      "574:\tlearn: 0.0015568\ttotal: 4m 45s\tremaining: 3m 31s\n",
      "575:\tlearn: 0.0015562\ttotal: 4m 46s\tremaining: 3m 30s\n",
      "576:\tlearn: 0.0015549\ttotal: 4m 46s\tremaining: 3m 30s\n",
      "577:\tlearn: 0.0015528\ttotal: 4m 47s\tremaining: 3m 29s\n",
      "578:\tlearn: 0.0015525\ttotal: 4m 47s\tremaining: 3m 29s\n",
      "579:\tlearn: 0.0015522\ttotal: 4m 48s\tremaining: 3m 28s\n",
      "580:\tlearn: 0.0015511\ttotal: 4m 48s\tremaining: 3m 28s\n",
      "581:\tlearn: 0.0015503\ttotal: 4m 49s\tremaining: 3m 27s\n",
      "582:\tlearn: 0.0015501\ttotal: 4m 49s\tremaining: 3m 27s\n",
      "583:\tlearn: 0.0015477\ttotal: 4m 50s\tremaining: 3m 26s\n",
      "584:\tlearn: 0.0015462\ttotal: 4m 51s\tremaining: 3m 26s\n",
      "585:\tlearn: 0.0015457\ttotal: 4m 51s\tremaining: 3m 25s\n",
      "586:\tlearn: 0.0015451\ttotal: 4m 52s\tremaining: 3m 25s\n",
      "587:\tlearn: 0.0015438\ttotal: 4m 52s\tremaining: 3m 25s\n",
      "588:\tlearn: 0.0015429\ttotal: 4m 53s\tremaining: 3m 24s\n",
      "589:\tlearn: 0.0015425\ttotal: 4m 53s\tremaining: 3m 24s\n",
      "590:\tlearn: 0.0015417\ttotal: 4m 54s\tremaining: 3m 23s\n",
      "591:\tlearn: 0.0015414\ttotal: 4m 55s\tremaining: 3m 23s\n",
      "592:\tlearn: 0.0015410\ttotal: 4m 55s\tremaining: 3m 23s\n",
      "593:\tlearn: 0.0015401\ttotal: 4m 56s\tremaining: 3m 22s\n",
      "594:\tlearn: 0.0015396\ttotal: 4m 56s\tremaining: 3m 22s\n",
      "595:\tlearn: 0.0015394\ttotal: 4m 57s\tremaining: 3m 21s\n",
      "596:\tlearn: 0.0015386\ttotal: 4m 58s\tremaining: 3m 21s\n",
      "597:\tlearn: 0.0015379\ttotal: 4m 58s\tremaining: 3m 20s\n",
      "598:\tlearn: 0.0015370\ttotal: 4m 59s\tremaining: 3m 20s\n",
      "599:\tlearn: 0.0015364\ttotal: 4m 59s\tremaining: 3m 19s\n",
      "600:\tlearn: 0.0015362\ttotal: 5m\tremaining: 3m 19s\n",
      "601:\tlearn: 0.0015355\ttotal: 5m 1s\tremaining: 3m 19s\n",
      "602:\tlearn: 0.0015351\ttotal: 5m 1s\tremaining: 3m 18s\n",
      "603:\tlearn: 0.0015347\ttotal: 5m 2s\tremaining: 3m 18s\n",
      "604:\tlearn: 0.0015334\ttotal: 5m 2s\tremaining: 3m 17s\n",
      "605:\tlearn: 0.0015322\ttotal: 5m 3s\tremaining: 3m 17s\n",
      "606:\tlearn: 0.0015309\ttotal: 5m 4s\tremaining: 3m 16s\n",
      "607:\tlearn: 0.0015307\ttotal: 5m 4s\tremaining: 3m 16s\n",
      "608:\tlearn: 0.0015284\ttotal: 5m 5s\tremaining: 3m 15s\n",
      "609:\tlearn: 0.0015283\ttotal: 5m 5s\tremaining: 3m 15s\n",
      "610:\tlearn: 0.0015269\ttotal: 5m 5s\tremaining: 3m 14s\n",
      "611:\tlearn: 0.0015267\ttotal: 5m 6s\tremaining: 3m 14s\n",
      "612:\tlearn: 0.0015239\ttotal: 5m 6s\tremaining: 3m 13s\n",
      "613:\tlearn: 0.0015229\ttotal: 5m 7s\tremaining: 3m 13s\n",
      "614:\tlearn: 0.0015222\ttotal: 5m 7s\tremaining: 3m 12s\n",
      "615:\tlearn: 0.0015208\ttotal: 5m 8s\tremaining: 3m 12s\n",
      "616:\tlearn: 0.0015202\ttotal: 5m 8s\tremaining: 3m 11s\n",
      "617:\tlearn: 0.0015187\ttotal: 5m 9s\tremaining: 3m 11s\n"
     ]
    },
    {
     "name": "stdout",
     "output_type": "stream",
     "text": [
      "618:\tlearn: 0.0015178\ttotal: 5m 10s\tremaining: 3m 10s\n",
      "619:\tlearn: 0.0015161\ttotal: 5m 10s\tremaining: 3m 10s\n",
      "620:\tlearn: 0.0015140\ttotal: 5m 11s\tremaining: 3m 9s\n",
      "621:\tlearn: 0.0015136\ttotal: 5m 11s\tremaining: 3m 9s\n",
      "622:\tlearn: 0.0015130\ttotal: 5m 12s\tremaining: 3m 8s\n",
      "623:\tlearn: 0.0015125\ttotal: 5m 12s\tremaining: 3m 8s\n",
      "624:\tlearn: 0.0015121\ttotal: 5m 13s\tremaining: 3m 7s\n",
      "625:\tlearn: 0.0015104\ttotal: 5m 13s\tremaining: 3m 7s\n",
      "626:\tlearn: 0.0015103\ttotal: 5m 13s\tremaining: 3m 6s\n",
      "627:\tlearn: 0.0015099\ttotal: 5m 14s\tremaining: 3m 6s\n",
      "628:\tlearn: 0.0015086\ttotal: 5m 14s\tremaining: 3m 5s\n",
      "629:\tlearn: 0.0015061\ttotal: 5m 15s\tremaining: 3m 5s\n",
      "630:\tlearn: 0.0015060\ttotal: 5m 15s\tremaining: 3m 4s\n",
      "631:\tlearn: 0.0015059\ttotal: 5m 16s\tremaining: 3m 4s\n",
      "632:\tlearn: 0.0015049\ttotal: 5m 16s\tremaining: 3m 3s\n",
      "633:\tlearn: 0.0015041\ttotal: 5m 17s\tremaining: 3m 3s\n",
      "634:\tlearn: 0.0015035\ttotal: 5m 17s\tremaining: 3m 2s\n",
      "635:\tlearn: 0.0015034\ttotal: 5m 18s\tremaining: 3m 2s\n",
      "636:\tlearn: 0.0015031\ttotal: 5m 18s\tremaining: 3m 1s\n",
      "637:\tlearn: 0.0015014\ttotal: 5m 19s\tremaining: 3m 1s\n",
      "638:\tlearn: 0.0015008\ttotal: 5m 19s\tremaining: 3m\n",
      "639:\tlearn: 0.0014994\ttotal: 5m 20s\tremaining: 3m\n",
      "640:\tlearn: 0.0014989\ttotal: 5m 20s\tremaining: 2m 59s\n",
      "641:\tlearn: 0.0014988\ttotal: 5m 21s\tremaining: 2m 59s\n",
      "642:\tlearn: 0.0014983\ttotal: 5m 21s\tremaining: 2m 58s\n",
      "643:\tlearn: 0.0014976\ttotal: 5m 22s\tremaining: 2m 58s\n",
      "644:\tlearn: 0.0014972\ttotal: 5m 22s\tremaining: 2m 57s\n",
      "645:\tlearn: 0.0014961\ttotal: 5m 23s\tremaining: 2m 57s\n",
      "646:\tlearn: 0.0014958\ttotal: 5m 23s\tremaining: 2m 56s\n",
      "647:\tlearn: 0.0014948\ttotal: 5m 24s\tremaining: 2m 56s\n",
      "648:\tlearn: 0.0014940\ttotal: 5m 24s\tremaining: 2m 55s\n",
      "649:\tlearn: 0.0014928\ttotal: 5m 25s\tremaining: 2m 55s\n",
      "650:\tlearn: 0.0014924\ttotal: 5m 25s\tremaining: 2m 54s\n",
      "651:\tlearn: 0.0014916\ttotal: 5m 26s\tremaining: 2m 54s\n",
      "652:\tlearn: 0.0014910\ttotal: 5m 26s\tremaining: 2m 53s\n",
      "653:\tlearn: 0.0014903\ttotal: 5m 27s\tremaining: 2m 53s\n",
      "654:\tlearn: 0.0014899\ttotal: 5m 27s\tremaining: 2m 52s\n",
      "655:\tlearn: 0.0014884\ttotal: 5m 28s\tremaining: 2m 52s\n",
      "656:\tlearn: 0.0014880\ttotal: 5m 28s\tremaining: 2m 51s\n",
      "657:\tlearn: 0.0014873\ttotal: 5m 29s\tremaining: 2m 51s\n",
      "658:\tlearn: 0.0014872\ttotal: 5m 29s\tremaining: 2m 50s\n",
      "659:\tlearn: 0.0014870\ttotal: 5m 30s\tremaining: 2m 50s\n",
      "660:\tlearn: 0.0014860\ttotal: 5m 30s\tremaining: 2m 49s\n",
      "661:\tlearn: 0.0014848\ttotal: 5m 31s\tremaining: 2m 49s\n",
      "662:\tlearn: 0.0014841\ttotal: 5m 31s\tremaining: 2m 48s\n",
      "663:\tlearn: 0.0014839\ttotal: 5m 32s\tremaining: 2m 48s\n",
      "664:\tlearn: 0.0014834\ttotal: 5m 32s\tremaining: 2m 47s\n",
      "665:\tlearn: 0.0014833\ttotal: 5m 33s\tremaining: 2m 47s\n",
      "666:\tlearn: 0.0014830\ttotal: 5m 33s\tremaining: 2m 46s\n",
      "667:\tlearn: 0.0014827\ttotal: 5m 34s\tremaining: 2m 46s\n",
      "668:\tlearn: 0.0014819\ttotal: 5m 34s\tremaining: 2m 45s\n",
      "669:\tlearn: 0.0014816\ttotal: 5m 35s\tremaining: 2m 45s\n",
      "670:\tlearn: 0.0014812\ttotal: 5m 35s\tremaining: 2m 44s\n",
      "671:\tlearn: 0.0014804\ttotal: 5m 36s\tremaining: 2m 44s\n",
      "672:\tlearn: 0.0014801\ttotal: 5m 36s\tremaining: 2m 43s\n",
      "673:\tlearn: 0.0014796\ttotal: 5m 37s\tremaining: 2m 43s\n",
      "674:\tlearn: 0.0014786\ttotal: 5m 37s\tremaining: 2m 42s\n",
      "675:\tlearn: 0.0014773\ttotal: 5m 38s\tremaining: 2m 42s\n",
      "676:\tlearn: 0.0014756\ttotal: 5m 38s\tremaining: 2m 41s\n",
      "677:\tlearn: 0.0014743\ttotal: 5m 39s\tremaining: 2m 41s\n",
      "678:\tlearn: 0.0014735\ttotal: 5m 39s\tremaining: 2m 40s\n",
      "679:\tlearn: 0.0014721\ttotal: 5m 40s\tremaining: 2m 40s\n",
      "680:\tlearn: 0.0014718\ttotal: 5m 40s\tremaining: 2m 39s\n",
      "681:\tlearn: 0.0014711\ttotal: 5m 41s\tremaining: 2m 39s\n",
      "682:\tlearn: 0.0014695\ttotal: 5m 41s\tremaining: 2m 38s\n",
      "683:\tlearn: 0.0014693\ttotal: 5m 42s\tremaining: 2m 38s\n",
      "684:\tlearn: 0.0014676\ttotal: 5m 42s\tremaining: 2m 37s\n",
      "685:\tlearn: 0.0014670\ttotal: 5m 43s\tremaining: 2m 37s\n",
      "686:\tlearn: 0.0014663\ttotal: 5m 43s\tremaining: 2m 36s\n",
      "687:\tlearn: 0.0014651\ttotal: 5m 44s\tremaining: 2m 36s\n",
      "688:\tlearn: 0.0014646\ttotal: 5m 44s\tremaining: 2m 35s\n",
      "689:\tlearn: 0.0014619\ttotal: 5m 45s\tremaining: 2m 35s\n",
      "690:\tlearn: 0.0014618\ttotal: 5m 45s\tremaining: 2m 34s\n",
      "691:\tlearn: 0.0014608\ttotal: 5m 46s\tremaining: 2m 34s\n",
      "692:\tlearn: 0.0014603\ttotal: 5m 46s\tremaining: 2m 33s\n",
      "693:\tlearn: 0.0014589\ttotal: 5m 46s\tremaining: 2m 32s\n",
      "694:\tlearn: 0.0014580\ttotal: 5m 47s\tremaining: 2m 32s\n",
      "695:\tlearn: 0.0014559\ttotal: 5m 47s\tremaining: 2m 31s\n",
      "696:\tlearn: 0.0014557\ttotal: 5m 48s\tremaining: 2m 31s\n",
      "697:\tlearn: 0.0014554\ttotal: 5m 48s\tremaining: 2m 30s\n",
      "698:\tlearn: 0.0014549\ttotal: 5m 49s\tremaining: 2m 30s\n",
      "699:\tlearn: 0.0014545\ttotal: 5m 49s\tremaining: 2m 29s\n",
      "700:\tlearn: 0.0014543\ttotal: 5m 50s\tremaining: 2m 29s\n",
      "701:\tlearn: 0.0014533\ttotal: 5m 50s\tremaining: 2m 28s\n",
      "702:\tlearn: 0.0014522\ttotal: 5m 51s\tremaining: 2m 28s\n",
      "703:\tlearn: 0.0014518\ttotal: 5m 52s\tremaining: 2m 28s\n",
      "704:\tlearn: 0.0014510\ttotal: 5m 52s\tremaining: 2m 27s\n",
      "705:\tlearn: 0.0014498\ttotal: 5m 52s\tremaining: 2m 26s\n",
      "706:\tlearn: 0.0014495\ttotal: 5m 53s\tremaining: 2m 26s\n",
      "707:\tlearn: 0.0014493\ttotal: 5m 53s\tremaining: 2m 25s\n",
      "708:\tlearn: 0.0014489\ttotal: 5m 54s\tremaining: 2m 25s\n",
      "709:\tlearn: 0.0014485\ttotal: 5m 54s\tremaining: 2m 24s\n",
      "710:\tlearn: 0.0014481\ttotal: 5m 55s\tremaining: 2m 24s\n",
      "711:\tlearn: 0.0014473\ttotal: 5m 55s\tremaining: 2m 23s\n",
      "712:\tlearn: 0.0014468\ttotal: 5m 56s\tremaining: 2m 23s\n",
      "713:\tlearn: 0.0014463\ttotal: 5m 56s\tremaining: 2m 22s\n",
      "714:\tlearn: 0.0014455\ttotal: 5m 57s\tremaining: 2m 22s\n",
      "715:\tlearn: 0.0014450\ttotal: 5m 57s\tremaining: 2m 21s\n",
      "716:\tlearn: 0.0014448\ttotal: 5m 57s\tremaining: 2m 21s\n",
      "717:\tlearn: 0.0014446\ttotal: 5m 58s\tremaining: 2m 20s\n",
      "718:\tlearn: 0.0014441\ttotal: 5m 58s\tremaining: 2m 20s\n",
      "719:\tlearn: 0.0014438\ttotal: 5m 59s\tremaining: 2m 19s\n",
      "720:\tlearn: 0.0014432\ttotal: 5m 59s\tremaining: 2m 19s\n",
      "721:\tlearn: 0.0014423\ttotal: 6m\tremaining: 2m 18s\n",
      "722:\tlearn: 0.0014419\ttotal: 6m\tremaining: 2m 18s\n",
      "723:\tlearn: 0.0014415\ttotal: 6m 1s\tremaining: 2m 17s\n",
      "724:\tlearn: 0.0014409\ttotal: 6m 1s\tremaining: 2m 17s\n",
      "725:\tlearn: 0.0014391\ttotal: 6m 2s\tremaining: 2m 16s\n",
      "726:\tlearn: 0.0014367\ttotal: 6m 2s\tremaining: 2m 16s\n",
      "727:\tlearn: 0.0014363\ttotal: 6m 3s\tremaining: 2m 15s\n",
      "728:\tlearn: 0.0014357\ttotal: 6m 4s\tremaining: 2m 15s\n",
      "729:\tlearn: 0.0014348\ttotal: 6m 4s\tremaining: 2m 14s\n",
      "730:\tlearn: 0.0014343\ttotal: 6m 4s\tremaining: 2m 14s\n",
      "731:\tlearn: 0.0014325\ttotal: 6m 5s\tremaining: 2m 13s\n",
      "732:\tlearn: 0.0014317\ttotal: 6m 6s\tremaining: 2m 13s\n",
      "733:\tlearn: 0.0014314\ttotal: 6m 6s\tremaining: 2m 12s\n",
      "734:\tlearn: 0.0014311\ttotal: 6m 7s\tremaining: 2m 12s\n",
      "735:\tlearn: 0.0014304\ttotal: 6m 7s\tremaining: 2m 11s\n",
      "736:\tlearn: 0.0014292\ttotal: 6m 8s\tremaining: 2m 11s\n",
      "737:\tlearn: 0.0014290\ttotal: 6m 8s\tremaining: 2m 10s\n",
      "738:\tlearn: 0.0014278\ttotal: 6m 9s\tremaining: 2m 10s\n",
      "739:\tlearn: 0.0014272\ttotal: 6m 9s\tremaining: 2m 9s\n",
      "740:\tlearn: 0.0014267\ttotal: 6m 10s\tremaining: 2m 9s\n",
      "741:\tlearn: 0.0014263\ttotal: 6m 10s\tremaining: 2m 8s\n",
      "742:\tlearn: 0.0014257\ttotal: 6m 11s\tremaining: 2m 8s\n",
      "743:\tlearn: 0.0014255\ttotal: 6m 11s\tremaining: 2m 7s\n",
      "744:\tlearn: 0.0014248\ttotal: 6m 12s\tremaining: 2m 7s\n",
      "745:\tlearn: 0.0014233\ttotal: 6m 13s\tremaining: 2m 7s\n",
      "746:\tlearn: 0.0014229\ttotal: 6m 13s\tremaining: 2m 6s\n",
      "747:\tlearn: 0.0014215\ttotal: 6m 14s\tremaining: 2m 6s\n",
      "748:\tlearn: 0.0014210\ttotal: 6m 14s\tremaining: 2m 5s\n",
      "749:\tlearn: 0.0014208\ttotal: 6m 15s\tremaining: 2m 5s\n",
      "750:\tlearn: 0.0014202\ttotal: 6m 16s\tremaining: 2m 4s\n",
      "751:\tlearn: 0.0014195\ttotal: 6m 16s\tremaining: 2m 4s\n",
      "752:\tlearn: 0.0014180\ttotal: 6m 17s\tremaining: 2m 3s\n",
      "753:\tlearn: 0.0014164\ttotal: 6m 17s\tremaining: 2m 3s\n",
      "754:\tlearn: 0.0014161\ttotal: 6m 18s\tremaining: 2m 2s\n",
      "755:\tlearn: 0.0014159\ttotal: 6m 19s\tremaining: 2m 2s\n",
      "756:\tlearn: 0.0014151\ttotal: 6m 19s\tremaining: 2m 1s\n",
      "757:\tlearn: 0.0014140\ttotal: 6m 20s\tremaining: 2m 1s\n",
      "758:\tlearn: 0.0014136\ttotal: 6m 20s\tremaining: 2m\n",
      "759:\tlearn: 0.0014125\ttotal: 6m 21s\tremaining: 2m\n",
      "760:\tlearn: 0.0014116\ttotal: 6m 22s\tremaining: 2m\n",
      "761:\tlearn: 0.0014114\ttotal: 6m 23s\tremaining: 1m 59s\n",
      "762:\tlearn: 0.0014108\ttotal: 6m 23s\tremaining: 1m 59s\n",
      "763:\tlearn: 0.0014095\ttotal: 6m 24s\tremaining: 1m 58s\n",
      "764:\tlearn: 0.0014084\ttotal: 6m 25s\tremaining: 1m 58s\n",
      "765:\tlearn: 0.0014077\ttotal: 6m 25s\tremaining: 1m 57s\n",
      "766:\tlearn: 0.0014072\ttotal: 6m 26s\tremaining: 1m 57s\n",
      "767:\tlearn: 0.0014057\ttotal: 6m 26s\tremaining: 1m 56s\n",
      "768:\tlearn: 0.0014051\ttotal: 6m 27s\tremaining: 1m 56s\n",
      "769:\tlearn: 0.0014045\ttotal: 6m 27s\tremaining: 1m 55s\n",
      "770:\tlearn: 0.0014027\ttotal: 6m 28s\tremaining: 1m 55s\n",
      "771:\tlearn: 0.0014017\ttotal: 6m 28s\tremaining: 1m 54s\n"
     ]
    },
    {
     "name": "stdout",
     "output_type": "stream",
     "text": [
      "772:\tlearn: 0.0014012\ttotal: 6m 29s\tremaining: 1m 54s\n",
      "773:\tlearn: 0.0013989\ttotal: 6m 29s\tremaining: 1m 53s\n",
      "774:\tlearn: 0.0013985\ttotal: 6m 30s\tremaining: 1m 53s\n",
      "775:\tlearn: 0.0013983\ttotal: 6m 30s\tremaining: 1m 52s\n",
      "776:\tlearn: 0.0013979\ttotal: 6m 31s\tremaining: 1m 52s\n",
      "777:\tlearn: 0.0013975\ttotal: 6m 31s\tremaining: 1m 51s\n",
      "778:\tlearn: 0.0013970\ttotal: 6m 32s\tremaining: 1m 51s\n",
      "779:\tlearn: 0.0013948\ttotal: 6m 32s\tremaining: 1m 50s\n",
      "780:\tlearn: 0.0013945\ttotal: 6m 33s\tremaining: 1m 50s\n",
      "781:\tlearn: 0.0013937\ttotal: 6m 33s\tremaining: 1m 49s\n",
      "782:\tlearn: 0.0013933\ttotal: 6m 34s\tremaining: 1m 49s\n",
      "783:\tlearn: 0.0013923\ttotal: 6m 34s\tremaining: 1m 48s\n",
      "784:\tlearn: 0.0013920\ttotal: 6m 35s\tremaining: 1m 48s\n",
      "785:\tlearn: 0.0013920\ttotal: 6m 35s\tremaining: 1m 47s\n",
      "786:\tlearn: 0.0013919\ttotal: 6m 35s\tremaining: 1m 47s\n",
      "787:\tlearn: 0.0013908\ttotal: 6m 36s\tremaining: 1m 46s\n",
      "788:\tlearn: 0.0013901\ttotal: 6m 36s\tremaining: 1m 46s\n",
      "789:\tlearn: 0.0013898\ttotal: 6m 37s\tremaining: 1m 45s\n",
      "790:\tlearn: 0.0013896\ttotal: 6m 37s\tremaining: 1m 45s\n",
      "791:\tlearn: 0.0013894\ttotal: 6m 38s\tremaining: 1m 44s\n",
      "792:\tlearn: 0.0013888\ttotal: 6m 38s\tremaining: 1m 44s\n",
      "793:\tlearn: 0.0013885\ttotal: 6m 39s\tremaining: 1m 43s\n",
      "794:\tlearn: 0.0013858\ttotal: 6m 39s\tremaining: 1m 43s\n",
      "795:\tlearn: 0.0013857\ttotal: 6m 40s\tremaining: 1m 42s\n",
      "796:\tlearn: 0.0013842\ttotal: 6m 40s\tremaining: 1m 42s\n",
      "797:\tlearn: 0.0013813\ttotal: 6m 41s\tremaining: 1m 41s\n",
      "798:\tlearn: 0.0013799\ttotal: 6m 41s\tremaining: 1m 41s\n",
      "799:\tlearn: 0.0013796\ttotal: 6m 42s\tremaining: 1m 40s\n",
      "800:\tlearn: 0.0013793\ttotal: 6m 42s\tremaining: 1m 40s\n",
      "801:\tlearn: 0.0013782\ttotal: 6m 43s\tremaining: 1m 39s\n",
      "802:\tlearn: 0.0013780\ttotal: 6m 43s\tremaining: 1m 38s\n",
      "803:\tlearn: 0.0013768\ttotal: 6m 43s\tremaining: 1m 38s\n",
      "804:\tlearn: 0.0013764\ttotal: 6m 44s\tremaining: 1m 37s\n",
      "805:\tlearn: 0.0013746\ttotal: 6m 44s\tremaining: 1m 37s\n",
      "806:\tlearn: 0.0013733\ttotal: 6m 45s\tremaining: 1m 36s\n",
      "807:\tlearn: 0.0013726\ttotal: 6m 45s\tremaining: 1m 36s\n",
      "808:\tlearn: 0.0013702\ttotal: 6m 46s\tremaining: 1m 35s\n",
      "809:\tlearn: 0.0013692\ttotal: 6m 46s\tremaining: 1m 35s\n",
      "810:\tlearn: 0.0013682\ttotal: 6m 47s\tremaining: 1m 34s\n",
      "811:\tlearn: 0.0013670\ttotal: 6m 47s\tremaining: 1m 34s\n",
      "812:\tlearn: 0.0013668\ttotal: 6m 48s\tremaining: 1m 33s\n",
      "813:\tlearn: 0.0013661\ttotal: 6m 48s\tremaining: 1m 33s\n",
      "814:\tlearn: 0.0013656\ttotal: 6m 49s\tremaining: 1m 32s\n",
      "815:\tlearn: 0.0013647\ttotal: 6m 49s\tremaining: 1m 32s\n",
      "816:\tlearn: 0.0013637\ttotal: 6m 49s\tremaining: 1m 31s\n",
      "817:\tlearn: 0.0013631\ttotal: 6m 50s\tremaining: 1m 31s\n",
      "818:\tlearn: 0.0013620\ttotal: 6m 50s\tremaining: 1m 30s\n",
      "819:\tlearn: 0.0013612\ttotal: 6m 51s\tremaining: 1m 30s\n",
      "820:\tlearn: 0.0013605\ttotal: 6m 51s\tremaining: 1m 29s\n",
      "821:\tlearn: 0.0013604\ttotal: 6m 52s\tremaining: 1m 29s\n",
      "822:\tlearn: 0.0013604\ttotal: 6m 52s\tremaining: 1m 28s\n",
      "823:\tlearn: 0.0013600\ttotal: 6m 53s\tremaining: 1m 28s\n",
      "824:\tlearn: 0.0013600\ttotal: 6m 53s\tremaining: 1m 27s\n",
      "825:\tlearn: 0.0013596\ttotal: 6m 54s\tremaining: 1m 27s\n",
      "826:\tlearn: 0.0013596\ttotal: 6m 54s\tremaining: 1m 26s\n",
      "827:\tlearn: 0.0013596\ttotal: 6m 54s\tremaining: 1m 26s\n",
      "828:\tlearn: 0.0013596\ttotal: 6m 55s\tremaining: 1m 25s\n",
      "829:\tlearn: 0.0013596\ttotal: 6m 55s\tremaining: 1m 25s\n",
      "830:\tlearn: 0.0013596\ttotal: 6m 56s\tremaining: 1m 24s\n",
      "831:\tlearn: 0.0013596\ttotal: 6m 56s\tremaining: 1m 24s\n",
      "832:\tlearn: 0.0013596\ttotal: 6m 56s\tremaining: 1m 23s\n",
      "833:\tlearn: 0.0013596\ttotal: 6m 57s\tremaining: 1m 23s\n",
      "834:\tlearn: 0.0013596\ttotal: 6m 57s\tremaining: 1m 22s\n",
      "835:\tlearn: 0.0013596\ttotal: 6m 57s\tremaining: 1m 21s\n",
      "836:\tlearn: 0.0013596\ttotal: 6m 58s\tremaining: 1m 21s\n",
      "837:\tlearn: 0.0013596\ttotal: 6m 58s\tremaining: 1m 20s\n",
      "838:\tlearn: 0.0013596\ttotal: 6m 59s\tremaining: 1m 20s\n",
      "839:\tlearn: 0.0013596\ttotal: 6m 59s\tremaining: 1m 19s\n",
      "840:\tlearn: 0.0013596\ttotal: 6m 59s\tremaining: 1m 19s\n",
      "841:\tlearn: 0.0013596\ttotal: 7m\tremaining: 1m 18s\n",
      "842:\tlearn: 0.0013596\ttotal: 7m\tremaining: 1m 18s\n",
      "843:\tlearn: 0.0013596\ttotal: 7m\tremaining: 1m 17s\n",
      "844:\tlearn: 0.0013596\ttotal: 7m 1s\tremaining: 1m 17s\n",
      "845:\tlearn: 0.0013596\ttotal: 7m 1s\tremaining: 1m 16s\n",
      "846:\tlearn: 0.0013596\ttotal: 7m 2s\tremaining: 1m 16s\n",
      "847:\tlearn: 0.0013582\ttotal: 7m 2s\tremaining: 1m 15s\n",
      "848:\tlearn: 0.0013577\ttotal: 7m 3s\tremaining: 1m 15s\n",
      "849:\tlearn: 0.0013564\ttotal: 7m 3s\tremaining: 1m 14s\n",
      "850:\tlearn: 0.0013554\ttotal: 7m 4s\tremaining: 1m 14s\n",
      "851:\tlearn: 0.0013525\ttotal: 7m 4s\tremaining: 1m 13s\n",
      "852:\tlearn: 0.0013516\ttotal: 7m 5s\tremaining: 1m 13s\n",
      "853:\tlearn: 0.0013508\ttotal: 7m 5s\tremaining: 1m 12s\n",
      "854:\tlearn: 0.0013508\ttotal: 7m 6s\tremaining: 1m 12s\n",
      "855:\tlearn: 0.0013505\ttotal: 7m 6s\tremaining: 1m 11s\n",
      "856:\tlearn: 0.0013501\ttotal: 7m 7s\tremaining: 1m 11s\n",
      "857:\tlearn: 0.0013496\ttotal: 7m 7s\tremaining: 1m 10s\n",
      "858:\tlearn: 0.0013495\ttotal: 7m 8s\tremaining: 1m 10s\n",
      "859:\tlearn: 0.0013490\ttotal: 7m 8s\tremaining: 1m 9s\n",
      "860:\tlearn: 0.0013488\ttotal: 7m 8s\tremaining: 1m 9s\n",
      "861:\tlearn: 0.0013480\ttotal: 7m 9s\tremaining: 1m 8s\n",
      "862:\tlearn: 0.0013467\ttotal: 7m 10s\tremaining: 1m 8s\n",
      "863:\tlearn: 0.0013458\ttotal: 7m 10s\tremaining: 1m 7s\n",
      "864:\tlearn: 0.0013451\ttotal: 7m 11s\tremaining: 1m 7s\n",
      "865:\tlearn: 0.0013436\ttotal: 7m 11s\tremaining: 1m 6s\n",
      "866:\tlearn: 0.0013433\ttotal: 7m 12s\tremaining: 1m 6s\n",
      "867:\tlearn: 0.0013426\ttotal: 7m 12s\tremaining: 1m 5s\n",
      "868:\tlearn: 0.0013416\ttotal: 7m 13s\tremaining: 1m 5s\n",
      "869:\tlearn: 0.0013412\ttotal: 7m 13s\tremaining: 1m 4s\n",
      "870:\tlearn: 0.0013396\ttotal: 7m 14s\tremaining: 1m 4s\n",
      "871:\tlearn: 0.0013388\ttotal: 7m 14s\tremaining: 1m 3s\n",
      "872:\tlearn: 0.0013385\ttotal: 7m 15s\tremaining: 1m 3s\n",
      "873:\tlearn: 0.0013380\ttotal: 7m 15s\tremaining: 1m 2s\n",
      "874:\tlearn: 0.0013371\ttotal: 7m 16s\tremaining: 1m 2s\n",
      "875:\tlearn: 0.0013355\ttotal: 7m 16s\tremaining: 1m 1s\n",
      "876:\tlearn: 0.0013348\ttotal: 7m 17s\tremaining: 1m 1s\n",
      "877:\tlearn: 0.0013340\ttotal: 7m 17s\tremaining: 1m\n",
      "878:\tlearn: 0.0013331\ttotal: 7m 17s\tremaining: 1m\n",
      "879:\tlearn: 0.0013328\ttotal: 7m 18s\tremaining: 59.8s\n",
      "880:\tlearn: 0.0013322\ttotal: 7m 18s\tremaining: 59.3s\n",
      "881:\tlearn: 0.0013320\ttotal: 7m 19s\tremaining: 58.8s\n",
      "882:\tlearn: 0.0013317\ttotal: 7m 19s\tremaining: 58.3s\n",
      "883:\tlearn: 0.0013315\ttotal: 7m 20s\tremaining: 57.8s\n",
      "884:\tlearn: 0.0013300\ttotal: 7m 20s\tremaining: 57.3s\n",
      "885:\tlearn: 0.0013283\ttotal: 7m 21s\tremaining: 56.8s\n",
      "886:\tlearn: 0.0013275\ttotal: 7m 21s\tremaining: 56.3s\n",
      "887:\tlearn: 0.0013267\ttotal: 7m 22s\tremaining: 55.8s\n",
      "888:\tlearn: 0.0013259\ttotal: 7m 22s\tremaining: 55.3s\n",
      "889:\tlearn: 0.0013245\ttotal: 7m 23s\tremaining: 54.8s\n",
      "890:\tlearn: 0.0013242\ttotal: 7m 23s\tremaining: 54.3s\n",
      "891:\tlearn: 0.0013234\ttotal: 7m 24s\tremaining: 53.8s\n",
      "892:\tlearn: 0.0013229\ttotal: 7m 24s\tremaining: 53.3s\n",
      "893:\tlearn: 0.0013223\ttotal: 7m 25s\tremaining: 52.8s\n",
      "894:\tlearn: 0.0013210\ttotal: 7m 25s\tremaining: 52.3s\n",
      "895:\tlearn: 0.0013206\ttotal: 7m 26s\tremaining: 51.8s\n",
      "896:\tlearn: 0.0013205\ttotal: 7m 26s\tremaining: 51.3s\n",
      "897:\tlearn: 0.0013202\ttotal: 7m 27s\tremaining: 50.8s\n",
      "898:\tlearn: 0.0013199\ttotal: 7m 27s\tremaining: 50.3s\n",
      "899:\tlearn: 0.0013189\ttotal: 7m 28s\tremaining: 49.8s\n",
      "900:\tlearn: 0.0013186\ttotal: 7m 28s\tremaining: 49.3s\n",
      "901:\tlearn: 0.0013181\ttotal: 7m 29s\tremaining: 48.8s\n",
      "902:\tlearn: 0.0013180\ttotal: 7m 29s\tremaining: 48.3s\n",
      "903:\tlearn: 0.0013177\ttotal: 7m 30s\tremaining: 47.8s\n",
      "904:\tlearn: 0.0013163\ttotal: 7m 30s\tremaining: 47.3s\n",
      "905:\tlearn: 0.0013159\ttotal: 7m 31s\tremaining: 46.8s\n",
      "906:\tlearn: 0.0013154\ttotal: 7m 31s\tremaining: 46.3s\n",
      "907:\tlearn: 0.0013152\ttotal: 7m 31s\tremaining: 45.8s\n",
      "908:\tlearn: 0.0013142\ttotal: 7m 32s\tremaining: 45.3s\n",
      "909:\tlearn: 0.0013141\ttotal: 7m 32s\tremaining: 44.8s\n",
      "910:\tlearn: 0.0013130\ttotal: 7m 33s\tremaining: 44.3s\n",
      "911:\tlearn: 0.0013118\ttotal: 7m 33s\tremaining: 43.8s\n",
      "912:\tlearn: 0.0013115\ttotal: 7m 34s\tremaining: 43.3s\n",
      "913:\tlearn: 0.0013109\ttotal: 7m 34s\tremaining: 42.8s\n",
      "914:\tlearn: 0.0013104\ttotal: 7m 35s\tremaining: 42.3s\n",
      "915:\tlearn: 0.0013098\ttotal: 7m 35s\tremaining: 41.8s\n",
      "916:\tlearn: 0.0013089\ttotal: 7m 36s\tremaining: 41.3s\n",
      "917:\tlearn: 0.0013078\ttotal: 7m 36s\tremaining: 40.8s\n",
      "918:\tlearn: 0.0013078\ttotal: 7m 37s\tremaining: 40.3s\n",
      "919:\tlearn: 0.0013075\ttotal: 7m 37s\tremaining: 39.8s\n",
      "920:\tlearn: 0.0013068\ttotal: 7m 37s\tremaining: 39.3s\n",
      "921:\tlearn: 0.0013056\ttotal: 7m 38s\tremaining: 38.8s\n",
      "922:\tlearn: 0.0013056\ttotal: 7m 38s\tremaining: 38.3s\n",
      "923:\tlearn: 0.0013052\ttotal: 7m 39s\tremaining: 37.8s\n",
      "924:\tlearn: 0.0013042\ttotal: 7m 39s\tremaining: 37.3s\n",
      "925:\tlearn: 0.0013039\ttotal: 7m 40s\tremaining: 36.8s\n"
     ]
    },
    {
     "name": "stdout",
     "output_type": "stream",
     "text": [
      "926:\tlearn: 0.0013037\ttotal: 7m 40s\tremaining: 36.3s\n",
      "927:\tlearn: 0.0013031\ttotal: 7m 41s\tremaining: 35.8s\n",
      "928:\tlearn: 0.0013025\ttotal: 7m 41s\tremaining: 35.3s\n",
      "929:\tlearn: 0.0013014\ttotal: 7m 42s\tremaining: 34.8s\n",
      "930:\tlearn: 0.0013000\ttotal: 7m 42s\tremaining: 34.3s\n",
      "931:\tlearn: 0.0012997\ttotal: 7m 43s\tremaining: 33.8s\n",
      "932:\tlearn: 0.0012994\ttotal: 7m 43s\tremaining: 33.3s\n",
      "933:\tlearn: 0.0012977\ttotal: 7m 44s\tremaining: 32.8s\n",
      "934:\tlearn: 0.0012969\ttotal: 7m 44s\tremaining: 32.3s\n",
      "935:\tlearn: 0.0012967\ttotal: 7m 45s\tremaining: 31.8s\n",
      "936:\tlearn: 0.0012954\ttotal: 7m 45s\tremaining: 31.3s\n",
      "937:\tlearn: 0.0012953\ttotal: 7m 46s\tremaining: 30.8s\n",
      "938:\tlearn: 0.0012943\ttotal: 7m 46s\tremaining: 30.3s\n",
      "939:\tlearn: 0.0012933\ttotal: 7m 47s\tremaining: 29.8s\n",
      "940:\tlearn: 0.0012931\ttotal: 7m 47s\tremaining: 29.3s\n",
      "941:\tlearn: 0.0012913\ttotal: 7m 48s\tremaining: 28.8s\n",
      "942:\tlearn: 0.0012909\ttotal: 7m 48s\tremaining: 28.3s\n",
      "943:\tlearn: 0.0012902\ttotal: 7m 49s\tremaining: 27.8s\n",
      "944:\tlearn: 0.0012899\ttotal: 7m 49s\tremaining: 27.3s\n",
      "945:\tlearn: 0.0012896\ttotal: 7m 50s\tremaining: 26.8s\n",
      "946:\tlearn: 0.0012893\ttotal: 7m 50s\tremaining: 26.3s\n",
      "947:\tlearn: 0.0012887\ttotal: 7m 50s\tremaining: 25.8s\n",
      "948:\tlearn: 0.0012884\ttotal: 7m 51s\tremaining: 25.3s\n",
      "949:\tlearn: 0.0012878\ttotal: 7m 51s\tremaining: 24.8s\n",
      "950:\tlearn: 0.0012876\ttotal: 7m 52s\tremaining: 24.3s\n",
      "951:\tlearn: 0.0012869\ttotal: 7m 52s\tremaining: 23.8s\n",
      "952:\tlearn: 0.0012865\ttotal: 7m 53s\tremaining: 23.3s\n",
      "953:\tlearn: 0.0012860\ttotal: 7m 53s\tremaining: 22.8s\n",
      "954:\tlearn: 0.0012853\ttotal: 7m 54s\tremaining: 22.3s\n",
      "955:\tlearn: 0.0012852\ttotal: 7m 54s\tremaining: 21.8s\n",
      "956:\tlearn: 0.0012849\ttotal: 7m 55s\tremaining: 21.3s\n",
      "957:\tlearn: 0.0012845\ttotal: 7m 55s\tremaining: 20.9s\n",
      "958:\tlearn: 0.0012832\ttotal: 7m 56s\tremaining: 20.4s\n",
      "959:\tlearn: 0.0012829\ttotal: 7m 56s\tremaining: 19.9s\n",
      "960:\tlearn: 0.0012827\ttotal: 7m 56s\tremaining: 19.4s\n",
      "961:\tlearn: 0.0012819\ttotal: 7m 57s\tremaining: 18.9s\n",
      "962:\tlearn: 0.0012815\ttotal: 7m 57s\tremaining: 18.4s\n",
      "963:\tlearn: 0.0012812\ttotal: 7m 58s\tremaining: 17.9s\n",
      "964:\tlearn: 0.0012803\ttotal: 7m 59s\tremaining: 17.4s\n",
      "965:\tlearn: 0.0012802\ttotal: 7m 59s\tremaining: 16.9s\n",
      "966:\tlearn: 0.0012796\ttotal: 8m\tremaining: 16.4s\n",
      "967:\tlearn: 0.0012790\ttotal: 8m\tremaining: 15.9s\n",
      "968:\tlearn: 0.0012781\ttotal: 8m 1s\tremaining: 15.4s\n",
      "969:\tlearn: 0.0012778\ttotal: 8m 1s\tremaining: 14.9s\n",
      "970:\tlearn: 0.0012776\ttotal: 8m 1s\tremaining: 14.4s\n",
      "971:\tlearn: 0.0012768\ttotal: 8m 2s\tremaining: 13.9s\n",
      "972:\tlearn: 0.0012760\ttotal: 8m 2s\tremaining: 13.4s\n",
      "973:\tlearn: 0.0012754\ttotal: 8m 3s\tremaining: 12.9s\n",
      "974:\tlearn: 0.0012745\ttotal: 8m 3s\tremaining: 12.4s\n",
      "975:\tlearn: 0.0012733\ttotal: 8m 4s\tremaining: 11.9s\n",
      "976:\tlearn: 0.0012729\ttotal: 8m 5s\tremaining: 11.4s\n",
      "977:\tlearn: 0.0012723\ttotal: 8m 5s\tremaining: 10.9s\n",
      "978:\tlearn: 0.0012718\ttotal: 8m 6s\tremaining: 10.4s\n",
      "979:\tlearn: 0.0012715\ttotal: 8m 6s\tremaining: 9.94s\n",
      "980:\tlearn: 0.0012711\ttotal: 8m 7s\tremaining: 9.44s\n",
      "981:\tlearn: 0.0012707\ttotal: 8m 8s\tremaining: 8.95s\n",
      "982:\tlearn: 0.0012703\ttotal: 8m 8s\tremaining: 8.45s\n",
      "983:\tlearn: 0.0012701\ttotal: 8m 9s\tremaining: 7.96s\n",
      "984:\tlearn: 0.0012687\ttotal: 8m 9s\tremaining: 7.46s\n",
      "985:\tlearn: 0.0012680\ttotal: 8m 10s\tremaining: 6.96s\n",
      "986:\tlearn: 0.0012673\ttotal: 8m 10s\tremaining: 6.47s\n",
      "987:\tlearn: 0.0012672\ttotal: 8m 11s\tremaining: 5.97s\n",
      "988:\tlearn: 0.0012659\ttotal: 8m 11s\tremaining: 5.47s\n",
      "989:\tlearn: 0.0012655\ttotal: 8m 12s\tremaining: 4.97s\n",
      "990:\tlearn: 0.0012654\ttotal: 8m 12s\tremaining: 4.48s\n",
      "991:\tlearn: 0.0012639\ttotal: 8m 13s\tremaining: 3.98s\n",
      "992:\tlearn: 0.0012638\ttotal: 8m 13s\tremaining: 3.48s\n",
      "993:\tlearn: 0.0012635\ttotal: 8m 14s\tremaining: 2.99s\n",
      "994:\tlearn: 0.0012633\ttotal: 8m 15s\tremaining: 2.49s\n",
      "995:\tlearn: 0.0012626\ttotal: 8m 16s\tremaining: 1.99s\n",
      "996:\tlearn: 0.0012618\ttotal: 8m 16s\tremaining: 1.49s\n",
      "997:\tlearn: 0.0012610\ttotal: 8m 17s\tremaining: 996ms\n",
      "998:\tlearn: 0.0012598\ttotal: 8m 17s\tremaining: 498ms\n",
      "999:\tlearn: 0.0012589\ttotal: 8m 18s\tremaining: 0us\n"
     ]
    },
    {
     "data": {
      "image/png": "[encoded data removed]",
      "text/plain": [
       "<Figure size 432x288 with 2 Axes>"
      ]
     },
     "metadata": {
      "needs_background": "light"
     },
     "output_type": "display_data"
    }
   ],
   "source": [
    "test_model(cad,X_train1,X_test1,y_train1,y_test1)"
   ]
  },
  {
   "cell_type": "code",
   "execution_count": 91,
   "metadata": {},
   "outputs": [],
   "source": [
    "predictions_cad_simple=cad.predict(X_test1)"
   ]
  },
  {
   "cell_type": "code",
   "execution_count": 92,
   "metadata": {
    "scrolled": true
   },
   "outputs": [
    {
     "name": "stdout",
     "output_type": "stream",
     "text": [
      "f1 score= 0.8846880907372401\n",
      "precision= 0.9316522893165229\n",
      "recall= 0.8422315536892622\n"
     ]
    }
   ],
   "source": [
    "métriques(predictions_cad_simple,y_test1)"
   ]
  },
  {
   "cell_type": "code",
   "execution_count": 93,
   "metadata": {},
   "outputs": [
    {
     "data": {
      "text/plain": [
       "0.9210225498323307"
      ]
     },
     "execution_count": 93,
     "metadata": {},
     "output_type": "execute_result"
    }
   ],
   "source": [
    "roc_auc_score(y_test1,predictions_cad_simple)"
   ]
  },
  {
   "cell_type": "code",
   "execution_count": 96,
   "metadata": {
    "scrolled": true
   },
   "outputs": [
    {
     "data": {
      "text/plain": [
       "<sklearn.metrics._plot.roc_curve.RocCurveDisplay at 0x251008ef3d0>"
      ]
     },
     "execution_count": 96,
     "metadata": {},
     "output_type": "execute_result"
    },
    {
     "data": {
      "image/png": "[encoded data removed]",
      "text/plain": [
       "<Figure size 432x288 with 1 Axes>"
      ]
     },
     "metadata": {
      "needs_background": "light"
     },
     "output_type": "display_data"
    }
   ],
   "source": [
    "plot_roc_curve(cad,X_test1,y_test1)"
   ]
  },
  {
   "cell_type": "code",
   "execution_count": 98,
   "metadata": {
    "scrolled": false
   },
   "outputs": [
    {
     "data": {
      "text/plain": [
       "<sklearn.metrics._plot.precision_recall_curve.PrecisionRecallDisplay at 0x251016078e0>"
      ]
     },
     "execution_count": 98,
     "metadata": {},
     "output_type": "execute_result"
    },
    {
     "data": {
      "image/png": "[encoded data removed]",
      "text/plain": [
       "<Figure size 432x288 with 1 Axes>"
      ]
     },
     "metadata": {
      "needs_background": "light"
     },
     "output_type": "display_data"
    }
   ],
   "source": [
    "plot_precision_recall_curve(cad,X_test1,y_test1)"
   ]
  },
  {
   "cell_type": "markdown",
   "metadata": {},
   "source": [
    "**ADAboost**"
   ]
  },
  {
   "cell_type": "code",
   "execution_count": 52,
   "metadata": {},
   "outputs": [
    {
     "data": {
      "image/png": "[encoded data removed]",
      "text/plain": [
       "<Figure size 432x288 with 2 Axes>"
      ]
     },
     "metadata": {
      "needs_background": "light"
     },
     "output_type": "display_data"
    }
   ],
   "source": [
    "test_model(ADAboost,X_train1,X_test1,y_train1,y_test1)"
   ]
  },
  {
   "cell_type": "code",
   "execution_count": 53,
   "metadata": {},
   "outputs": [],
   "source": [
    "predictions_ADA_simple=ADAboost.predict(X_test1)"
   ]
  },
  {
   "cell_type": "code",
   "execution_count": 54,
   "metadata": {
    "scrolled": true
   },
   "outputs": [
    {
     "name": "stdout",
     "output_type": "stream",
     "text": [
      "f1 score= 0.5115337919870497\n",
      "precision= 0.7860696517412935\n",
      "recall= 0.379124175164967\n"
     ]
    }
   ],
   "source": [
    "métriques(predictions_ADA_simple,y_test1)"
   ]
  },
  {
   "cell_type": "markdown",
   "metadata": {},
   "source": [
    "### Recap\n",
    "\n",
    "\n",
    "Nos meilleurs modèles actuels sont XGBoost et CatBoost. Pour que le recall de chacun de nos modèle soit plus élevé, nous allon réequilibré nos données avec des algorithmes SMOTE, SMOTE_ENN et SMOTE_Tomek"
   ]
  },
  {
   "cell_type": "markdown",
   "metadata": {},
   "source": [
    "# Modèles avec réequilibrage de nos données"
   ]
  },
  {
   "cell_type": "markdown",
   "metadata": {},
   "source": [
    "Après avoir obtenu ces clarifications nous allons effectuer un preprocessing plus approfondie\n",
    "\n",
    "Dans cette section, nous allons refaire une copie du dataset initial, appliquer plusieurs types de transformations              (SMOTE,SMOTE_ENN,SMOTE_Tomek)"
   ]
  },
  {
   "cell_type": "markdown",
   "metadata": {},
   "source": [
    "###  définitions des fonctions preprocessing avec un SMOTE"
   ]
  },
  {
   "cell_type": "markdown",
   "metadata": {},
   "source": [
    "**(les détails de chacunes des sous-fonctions utilisés sont au début de la section 'preprocessing')**\n",
    "\n",
    "**Les fonction ci-dessous nous rendent toutes un trainset et un testset séparé de leur target**"
   ]
  },
  {
   "cell_type": "markdown",
   "metadata": {},
   "source": [
    "**SMOTE simple:**"
   ]
  },
  {
   "cell_type": "code",
   "execution_count": 11,
   "metadata": {},
   "outputs": [],
   "source": [
    "dataset1=fraudes.copy()"
   ]
  },
  {
   "cell_type": "code",
   "execution_count": 12,
   "metadata": {},
   "outputs": [],
   "source": [
    "def preprocess_SMOTE(df):\n",
    "    \n",
    "    df=retirer_transactions(df)\n",
    "    df=enlever_colonnes(df)\n",
    "    df=encoder(df)\n",
    "    df=scaler(df)\n",
    "    \n",
    "    \n",
    "    X=df.drop('isFraud',axis=1)\n",
    "    y=df['isFraud']\n",
    "    \n",
    "    X_train4, X_test4, y_train4, y_test4 = train_test_split(X, y, test_size = 0.2, random_state = 30) \n",
    "    \n",
    "    X_res_train, y_res_train = algo_smote(X_train4, y_train4)\n",
    "    \n",
    "    return X_res_train, y_res_train,X_test4,y_test4"
   ]
  },
  {
   "cell_type": "markdown",
   "metadata": {},
   "source": [
    "**SMOTE_ENN**"
   ]
  },
  {
   "cell_type": "code",
   "execution_count": 13,
   "metadata": {
    "scrolled": true
   },
   "outputs": [],
   "source": [
    "dataset2=fraudes.copy()"
   ]
  },
  {
   "cell_type": "code",
   "execution_count": 14,
   "metadata": {},
   "outputs": [],
   "source": [
    "def preprocess_ENN(df):\n",
    "    \n",
    "    df=retirer_transactions(df)\n",
    "    df=enlever_colonnes(df)\n",
    "    df=encoder(df)\n",
    "    df=scaler(df)\n",
    "    \n",
    "    \n",
    "    X=df.drop('isFraud',axis=1)\n",
    "    y=df['isFraud']\n",
    "    \n",
    "    X_train4, X_test4, y_train4, y_test4 = train_test_split(X, y, test_size = 0.2, random_state = 30) \n",
    "    \n",
    "    X_res_train, y_res_train = algo_smote_ENN(X_train4, y_train4)\n",
    "    \n",
    "    return X_res_train, y_res_train,X_test4,y_test4"
   ]
  },
  {
   "cell_type": "markdown",
   "metadata": {},
   "source": [
    "**SMOTE_Tomek**"
   ]
  },
  {
   "cell_type": "code",
   "execution_count": 15,
   "metadata": {},
   "outputs": [],
   "source": [
    "dataset3=fraudes.copy()"
   ]
  },
  {
   "cell_type": "code",
   "execution_count": 16,
   "metadata": {},
   "outputs": [],
   "source": [
    "def preprocess_Tomek(df):\n",
    "    \n",
    "    df=retirer_transactions(df)\n",
    "    df=enlever_colonnes(df)\n",
    "    df=encoder(df)\n",
    "    df=scaler(df)\n",
    "    \n",
    "    \n",
    "    X=df.drop('isFraud',axis=1)\n",
    "    y=df['isFraud']\n",
    "    \n",
    "    X_train4, X_test4, y_train4, y_test4 = train_test_split(X, y, test_size = 0.2, random_state = 30) \n",
    "    \n",
    "    X_res_train, y_res_train = algo_smote_Tomek(X_train4, y_train4)\n",
    "    \n",
    "    return X_res_train, y_res_train,X_test4,y_test4"
   ]
  },
  {
   "cell_type": "markdown",
   "metadata": {},
   "source": [
    "#### Lancement des preprocess et recuperation des variables \n"
   ]
  },
  {
   "cell_type": "code",
   "execution_count": 19,
   "metadata": {
    "scrolled": false
   },
   "outputs": [],
   "source": [
    "X_res_train, y_res_train,X_test4,y_test4=preprocess_SMOTE(dataset1)"
   ]
  },
  {
   "cell_type": "code",
   "execution_count": 20,
   "metadata": {},
   "outputs": [],
   "source": [
    "X_res_train2, y_res_train2,X_test5,y_test5=preprocess_ENN(dataset2)"
   ]
  },
  {
   "cell_type": "code",
   "execution_count": 21,
   "metadata": {},
   "outputs": [],
   "source": [
    "X_res_train3, y_res_train3,X_test6,y_test6=preprocess_Tomek(dataset3)"
   ]
  },
  {
   "cell_type": "markdown",
   "metadata": {},
   "source": [
    "### Enregistrement des données preprocessés dans des pickles\n",
    "\n",
    "On enregistre les données preprocessées avec 'preprocess_ENN' et 'preprocess_Tomek', étant donné que les algo ci-dessus mettent beaucoup de temps "
   ]
  },
  {
   "cell_type": "markdown",
   "metadata": {},
   "source": [
    "preprocess sans SMOTE"
   ]
  },
  {
   "cell_type": "code",
   "execution_count": 31,
   "metadata": {},
   "outputs": [],
   "source": [
    "with open('X_train1', 'wb') as f1:\n",
    "    pickle.dump(X_train1, f1)\n",
    "with open('y_train1', 'wb') as f2:\n",
    "    pickle.dump(y_train1, f2)\n",
    "with open('X_test1', 'wb') as f3:\n",
    "    pickle.dump(X_test1, f3)\n",
    "with open('y_test1', 'wb') as f4:\n",
    "    pickle.dump(y_test1, f4)"
   ]
  },
  {
   "cell_type": "markdown",
   "metadata": {},
   "source": [
    "preprocess SMOTE simple"
   ]
  },
  {
   "cell_type": "code",
   "execution_count": 32,
   "metadata": {},
   "outputs": [],
   "source": [
    "with open('X_res_train', 'wb') as f1:\n",
    "    pickle.dump(X_res_train, f1)\n",
    "with open('y_res_train', 'wb') as f2:\n",
    "    pickle.dump(y_res_train, f2)\n",
    "with open('X_test4', 'wb') as f3:\n",
    "    pickle.dump(X_test4, f3)\n",
    "with open('y_test4', 'wb') as f4:\n",
    "    pickle.dump(y_test4, f4)"
   ]
  },
  {
   "cell_type": "markdown",
   "metadata": {},
   "source": [
    "preprocess_ENN"
   ]
  },
  {
   "cell_type": "code",
   "execution_count": 33,
   "metadata": {},
   "outputs": [],
   "source": [
    "with open('X_res_train2', 'wb') as f1:\n",
    "    pickle.dump(X_res_train2, f1)\n",
    "with open('y_res_train2', 'wb') as f2:\n",
    "    pickle.dump(y_res_train2, f2)\n",
    "with open('X_test5', 'wb') as f3:\n",
    "    pickle.dump(X_test5, f3)\n",
    "with open('y_test5', 'wb') as f4:\n",
    "    pickle.dump(y_test5, f4)"
   ]
  },
  {
   "cell_type": "markdown",
   "metadata": {},
   "source": [
    "puis preprocess_Tomek"
   ]
  },
  {
   "cell_type": "code",
   "execution_count": 34,
   "metadata": {},
   "outputs": [],
   "source": [
    "with open('X_res_train3', 'wb') as f5:\n",
    "    pickle.dump(X_res_train3, f5)\n",
    "with open('y_res_train3', 'wb') as f6:\n",
    "    pickle.dump(y_res_train3, f6)\n",
    "with open('X_test6', 'wb') as f8:\n",
    "    pickle.dump(X_test6, f8)   \n",
    "with open('y_test6', 'wb') as f7:\n",
    "    pickle.dump(y_test6, f7)"
   ]
  },
  {
   "cell_type": "markdown",
   "metadata": {},
   "source": [
    "### Modèles  avec le 'preprocess_SMOTE'"
   ]
  },
  {
   "cell_type": "markdown",
   "metadata": {},
   "source": [
    "Voià à quoi ressemble notre **X_res_train** après avoir appliqué ce preprocessing:"
   ]
  },
  {
   "cell_type": "code",
   "execution_count": 33,
   "metadata": {
    "scrolled": false
   },
   "outputs": [
    {
     "data": {
      "text/html": [
       "<div>\n",
       "<style scoped>\n",
       "    .dataframe tbody tr th:only-of-type {\n",
       "        vertical-align: middle;\n",
       "    }\n",
       "\n",
       "    .dataframe tbody tr th {\n",
       "        vertical-align: top;\n",
       "    }\n",
       "\n",
       "    .dataframe thead th {\n",
       "        text-align: right;\n",
       "    }\n",
       "</style>\n",
       "<table border=\"1\" class=\"dataframe\">\n",
       "  <thead>\n",
       "    <tr style=\"text-align: right;\">\n",
       "      <th></th>\n",
       "      <th>amount</th>\n",
       "      <th>oldbalanceOrg</th>\n",
       "      <th>oldbalanceDest</th>\n",
       "      <th>heures</th>\n",
       "      <th>is_Cash_OUT</th>\n",
       "    </tr>\n",
       "  </thead>\n",
       "  <tbody>\n",
       "    <tr>\n",
       "      <th>0</th>\n",
       "      <td>-0.330823</td>\n",
       "      <td>-0.009806</td>\n",
       "      <td>2.448135</td>\n",
       "      <td>0.857143</td>\n",
       "      <td>1</td>\n",
       "    </tr>\n",
       "    <tr>\n",
       "      <th>1</th>\n",
       "      <td>0.097249</td>\n",
       "      <td>-0.009806</td>\n",
       "      <td>0.552595</td>\n",
       "      <td>-1.000000</td>\n",
       "      <td>0</td>\n",
       "    </tr>\n",
       "    <tr>\n",
       "      <th>2</th>\n",
       "      <td>-0.365078</td>\n",
       "      <td>2.055813</td>\n",
       "      <td>-0.345628</td>\n",
       "      <td>0.285714</td>\n",
       "      <td>0</td>\n",
       "    </tr>\n",
       "    <tr>\n",
       "      <th>3</th>\n",
       "      <td>-0.348095</td>\n",
       "      <td>2.787214</td>\n",
       "      <td>0.010460</td>\n",
       "      <td>-0.285714</td>\n",
       "      <td>0</td>\n",
       "    </tr>\n",
       "    <tr>\n",
       "      <th>4</th>\n",
       "      <td>0.636678</td>\n",
       "      <td>0.569218</td>\n",
       "      <td>-0.075947</td>\n",
       "      <td>0.428571</td>\n",
       "      <td>0</td>\n",
       "    </tr>\n",
       "    <tr>\n",
       "      <th>...</th>\n",
       "      <td>...</td>\n",
       "      <td>...</td>\n",
       "      <td>...</td>\n",
       "      <td>...</td>\n",
       "      <td>...</td>\n",
       "    </tr>\n",
       "    <tr>\n",
       "      <th>4419557</th>\n",
       "      <td>4.964716</td>\n",
       "      <td>41.363619</td>\n",
       "      <td>-0.345628</td>\n",
       "      <td>0.142857</td>\n",
       "      <td>1</td>\n",
       "    </tr>\n",
       "    <tr>\n",
       "      <th>4419558</th>\n",
       "      <td>5.929925</td>\n",
       "      <td>48.333024</td>\n",
       "      <td>-0.345628</td>\n",
       "      <td>-0.554052</td>\n",
       "      <td>1</td>\n",
       "    </tr>\n",
       "    <tr>\n",
       "      <th>4419559</th>\n",
       "      <td>9.159042</td>\n",
       "      <td>71.649259</td>\n",
       "      <td>-0.345628</td>\n",
       "      <td>-1.939502</td>\n",
       "      <td>1</td>\n",
       "    </tr>\n",
       "    <tr>\n",
       "      <th>4419560</th>\n",
       "      <td>1.429187</td>\n",
       "      <td>15.834894</td>\n",
       "      <td>-0.345628</td>\n",
       "      <td>-1.774446</td>\n",
       "      <td>1</td>\n",
       "    </tr>\n",
       "    <tr>\n",
       "      <th>4419561</th>\n",
       "      <td>-0.066590</td>\n",
       "      <td>5.034451</td>\n",
       "      <td>-0.345628</td>\n",
       "      <td>-0.535299</td>\n",
       "      <td>1</td>\n",
       "    </tr>\n",
       "  </tbody>\n",
       "</table>\n",
       "<p>4419562 rows × 5 columns</p>\n",
       "</div>"
      ],
      "text/plain": [
       "           amount  oldbalanceOrg  oldbalanceDest    heures  is_Cash_OUT\n",
       "0       -0.330823      -0.009806        2.448135  0.857143            1\n",
       "1        0.097249      -0.009806        0.552595 -1.000000            0\n",
       "2       -0.365078       2.055813       -0.345628  0.285714            0\n",
       "3       -0.348095       2.787214        0.010460 -0.285714            0\n",
       "4        0.636678       0.569218       -0.075947  0.428571            0\n",
       "...           ...            ...             ...       ...          ...\n",
       "4419557  4.964716      41.363619       -0.345628  0.142857            1\n",
       "4419558  5.929925      48.333024       -0.345628 -0.554052            1\n",
       "4419559  9.159042      71.649259       -0.345628 -1.939502            1\n",
       "4419560  1.429187      15.834894       -0.345628 -1.774446            1\n",
       "4419561 -0.066590       5.034451       -0.345628 -0.535299            1\n",
       "\n",
       "[4419562 rows x 5 columns]"
      ]
     },
     "execution_count": 33,
     "metadata": {},
     "output_type": "execute_result"
    }
   ],
   "source": [
    "X_res_train"
   ]
  },
  {
   "cell_type": "markdown",
   "metadata": {},
   "source": [
    "On voit que le nombre de ligne à presque doublé ( de 5 à plus de 10 millions), cela est dû à notre algorithme Smote qui à donc rajouté suffisamment de transaction frauduleuses artificielles pour qu'il y en ait autant que de transactions non-frauduleuses."
   ]
  },
  {
   "cell_type": "markdown",
   "metadata": {},
   "source": [
    "On peut retester le modèle"
   ]
  },
  {
   "cell_type": "code",
   "execution_count": 26,
   "metadata": {
    "scrolled": false
   },
   "outputs": [
    {
     "data": {
      "image/png": "[encoded data removed]",
      "text/plain": [
       "<Figure size 432x288 with 2 Axes>"
      ]
     },
     "metadata": {
      "needs_background": "light"
     },
     "output_type": "display_data"
    }
   ],
   "source": [
    "test_model(arbre,X_res_train,X_test4, y_res_train,y_test4)"
   ]
  },
  {
   "cell_type": "code",
   "execution_count": 27,
   "metadata": {},
   "outputs": [],
   "source": [
    "predictions6=arbre.predict(X_test4)"
   ]
  },
  {
   "cell_type": "code",
   "execution_count": 28,
   "metadata": {
    "scrolled": false
   },
   "outputs": [
    {
     "name": "stdout",
     "output_type": "stream",
     "text": [
      "f1 score= 0.6777722526106414\n",
      "precision= 0.5787685774946921\n",
      "recall= 0.8176364727054589\n"
     ]
    }
   ],
   "source": [
    "métriques(predictions6,y_test4)"
   ]
  },
  {
   "cell_type": "markdown",
   "metadata": {},
   "source": [
    "**Application d'un SGD Classifier preprocessé**"
   ]
  },
  {
   "cell_type": "code",
   "execution_count": 41,
   "metadata": {
    "scrolled": true
   },
   "outputs": [
    {
     "data": {
      "image/png": "[encoded data removed]",
      "text/plain": [
       "<Figure size 432x288 with 2 Axes>"
      ]
     },
     "metadata": {
      "needs_background": "light"
     },
     "output_type": "display_data"
    }
   ],
   "source": [
    "test_model(sgd,X_res_train,X_test4, y_res_train,y_test4)"
   ]
  },
  {
   "cell_type": "code",
   "execution_count": 42,
   "metadata": {},
   "outputs": [],
   "source": [
    "predictions_sgd=sgd.predict(X_test4)"
   ]
  },
  {
   "cell_type": "code",
   "execution_count": 43,
   "metadata": {
    "scrolled": true
   },
   "outputs": [
    {
     "name": "stdout",
     "output_type": "stream",
     "text": [
      "f1 score= 0.055687337625663615\n",
      "precision= 0.028745796971876153\n",
      "recall= 0.8872225554889022\n"
     ]
    }
   ],
   "source": [
    "métriques(predictions_sgd,y_test4)"
   ]
  },
  {
   "cell_type": "markdown",
   "metadata": {},
   "source": [
    "**Avec une regression logistique**"
   ]
  },
  {
   "cell_type": "code",
   "execution_count": 44,
   "metadata": {
    "scrolled": true
   },
   "outputs": [
    {
     "data": {
      "image/png": "[encoded data removed]",
      "text/plain": [
       "<Figure size 432x288 with 2 Axes>"
      ]
     },
     "metadata": {
      "needs_background": "light"
     },
     "output_type": "display_data"
    }
   ],
   "source": [
    "test_model(logistique,X_res_train,X_test4, y_res_train,y_test4)"
   ]
  },
  {
   "cell_type": "code",
   "execution_count": 45,
   "metadata": {},
   "outputs": [],
   "source": [
    "predictions_logistique=logistique.predict(X_test4)"
   ]
  },
  {
   "cell_type": "code",
   "execution_count": 46,
   "metadata": {
    "scrolled": true
   },
   "outputs": [
    {
     "name": "stdout",
     "output_type": "stream",
     "text": [
      "f1 score= 0.058891291606879406\n",
      "precision= 0.030472246622328187\n",
      "recall= 0.8740251949610078\n"
     ]
    }
   ],
   "source": [
    "métriques(predictions_logistique,y_test4)"
   ]
  },
  {
   "cell_type": "markdown",
   "metadata": {},
   "source": [
    "precision trop faible (0,03)"
   ]
  },
  {
   "cell_type": "markdown",
   "metadata": {},
   "source": [
    "#### Forêt d'arbres de decisions ( 100 arbres)\n",
    "tourne pendant environ 1h"
   ]
  },
  {
   "cell_type": "code",
   "execution_count": 47,
   "metadata": {},
   "outputs": [
    {
     "data": {
      "image/png": "[encoded data removed]",
      "text/plain": [
       "<Figure size 432x288 with 2 Axes>"
      ]
     },
     "metadata": {
      "needs_background": "light"
     },
     "output_type": "display_data"
    }
   ],
   "source": [
    "test_model(randomforest,X_res_train,X_test4, y_res_train,y_test4) "
   ]
  },
  {
   "cell_type": "code",
   "execution_count": 48,
   "metadata": {},
   "outputs": [],
   "source": [
    "predictions_forêt=randomforest.predict(X_test4)"
   ]
  },
  {
   "cell_type": "code",
   "execution_count": 49,
   "metadata": {
    "scrolled": true
   },
   "outputs": [
    {
     "name": "stdout",
     "output_type": "stream",
     "text": [
      "f1 score= 0.7422734415924568\n",
      "precision= 0.6587633658763365\n",
      "recall= 0.8500299940011997\n"
     ]
    }
   ],
   "source": [
    "métriques(predictions_forêt,y_test4)"
   ]
  },
  {
   "cell_type": "markdown",
   "metadata": {},
   "source": [
    "**extreme tree**"
   ]
  },
  {
   "cell_type": "code",
   "execution_count": 55,
   "metadata": {},
   "outputs": [
    {
     "data": {
      "image/png": "[encoded data removed]",
      "text/plain": [
       "<Figure size 432x288 with 2 Axes>"
      ]
     },
     "metadata": {
      "needs_background": "light"
     },
     "output_type": "display_data"
    }
   ],
   "source": [
    "test_model(extreme_tree,X_res_train,X_test4, y_res_train,y_test4)"
   ]
  },
  {
   "cell_type": "code",
   "execution_count": 56,
   "metadata": {},
   "outputs": [],
   "source": [
    "predictions_simple_ext_tree=extreme_tree.predict(X_test4)"
   ]
  },
  {
   "cell_type": "code",
   "execution_count": 57,
   "metadata": {},
   "outputs": [
    {
     "name": "stdout",
     "output_type": "stream",
     "text": [
      "f1 score= 0.7717912552891396\n",
      "precision= 0.7284345047923323\n",
      "recall= 0.8206358728254349\n"
     ]
    }
   ],
   "source": [
    "métriques(predictions_simple_ext_tree,y_test4)"
   ]
  },
  {
   "cell_type": "markdown",
   "metadata": {},
   "source": [
    "**xgb**"
   ]
  },
  {
   "cell_type": "code",
   "execution_count": 58,
   "metadata": {
    "scrolled": true
   },
   "outputs": [
    {
     "name": "stdout",
     "output_type": "stream",
     "text": [
      "[20:04:43] WARNING: C:/Users/Administrator/workspace/xgboost-win64_release_1.4.0/src/learner.cc:1095: Starting in XGBoost 1.3.0, the default evaluation metric used with the objective 'binary:logistic' was changed from 'error' to 'logloss'. Explicitly set eval_metric if you'd like to restore the old behavior.\n"
     ]
    },
    {
     "data": {
      "image/png": "[encoded data removed]",
      "text/plain": [
       "<Figure size 432x288 with 2 Axes>"
      ]
     },
     "metadata": {
      "needs_background": "light"
     },
     "output_type": "display_data"
    }
   ],
   "source": [
    "test_model(xgb,X_res_train,X_test4, y_res_train,y_test4)"
   ]
  },
  {
   "cell_type": "code",
   "execution_count": 59,
   "metadata": {},
   "outputs": [],
   "source": [
    "predictions_xgb=xgb.predict(X_test4)"
   ]
  },
  {
   "cell_type": "code",
   "execution_count": 60,
   "metadata": {},
   "outputs": [
    {
     "name": "stdout",
     "output_type": "stream",
     "text": [
      "f1 score= 0.726576461577738\n",
      "precision= 0.6324444444444445\n",
      "recall= 0.853629274145171\n"
     ]
    }
   ],
   "source": [
    "métriques(predictions_xgb,y_test4)"
   ]
  },
  {
   "cell_type": "markdown",
   "metadata": {},
   "source": [
    "**voisins**"
   ]
  },
  {
   "cell_type": "code",
   "execution_count": 61,
   "metadata": {},
   "outputs": [
    {
     "data": {
      "image/png": "[encoded data removed]",
      "text/plain": [
       "<Figure size 432x288 with 2 Axes>"
      ]
     },
     "metadata": {
      "needs_background": "light"
     },
     "output_type": "display_data"
    }
   ],
   "source": [
    "test_model(voisins,X_res_train,X_test4, y_res_train,y_test4)"
   ]
  },
  {
   "cell_type": "code",
   "execution_count": 62,
   "metadata": {},
   "outputs": [],
   "source": [
    "predictions_voisins=voisins.predict(X_test4)"
   ]
  },
  {
   "cell_type": "code",
   "execution_count": 63,
   "metadata": {},
   "outputs": [
    {
     "name": "stdout",
     "output_type": "stream",
     "text": [
      "f1 score= 0.4200754279083261\n",
      "precision= 0.27702314903386266\n",
      "recall= 0.8686262747450509\n"
     ]
    }
   ],
   "source": [
    "métriques(predictions_voisins,y_test4)"
   ]
  },
  {
   "cell_type": "markdown",
   "metadata": {},
   "source": [
    "**Modele ADAboost** "
   ]
  },
  {
   "cell_type": "code",
   "execution_count": 64,
   "metadata": {},
   "outputs": [
    {
     "data": {
      "image/png": "[encoded data removed]",
      "text/plain": [
       "<Figure size 432x288 with 2 Axes>"
      ]
     },
     "metadata": {
      "needs_background": "light"
     },
     "output_type": "display_data"
    }
   ],
   "source": [
    "test_model(ADAboost,X_res_train,X_test4, y_res_train,y_test4)"
   ]
  },
  {
   "cell_type": "code",
   "execution_count": 65,
   "metadata": {},
   "outputs": [],
   "source": [
    "predictions_ADA=ADAboost.predict(X_test4)"
   ]
  },
  {
   "cell_type": "code",
   "execution_count": 66,
   "metadata": {
    "scrolled": true
   },
   "outputs": [
    {
     "name": "stdout",
     "output_type": "stream",
     "text": [
      "f1 score= 0.0560642238056741\n",
      "precision= 0.02893909397927099\n",
      "recall= 0.8944211157768446\n"
     ]
    }
   ],
   "source": [
    "métriques(predictions_ADA,y_test4)"
   ]
  },
  {
   "cell_type": "markdown",
   "metadata": {},
   "source": [
    "**gradientboosting**"
   ]
  },
  {
   "cell_type": "code",
   "execution_count": 77,
   "metadata": {},
   "outputs": [
    {
     "data": {
      "image/png": "[encoded data removed]",
      "text/plain": [
       "<Figure size 432x288 with 2 Axes>"
      ]
     },
     "metadata": {
      "needs_background": "light"
     },
     "output_type": "display_data"
    }
   ],
   "source": [
    "test_model(gradientboosting,X_res_train,X_test4, y_res_train,y_test4)"
   ]
  },
  {
   "cell_type": "code",
   "execution_count": 78,
   "metadata": {},
   "outputs": [],
   "source": [
    "predictions_gradient_boost=gradientboosting.predict(X_test4)"
   ]
  },
  {
   "cell_type": "code",
   "execution_count": 79,
   "metadata": {
    "scrolled": true
   },
   "outputs": [
    {
     "name": "stdout",
     "output_type": "stream",
     "text": [
      "f1 score= 0.1410722896848012\n",
      "precision= 0.07609723798713583\n",
      "recall= 0.9652069586082783\n"
     ]
    }
   ],
   "source": [
    "métriques(predictions_gradient_boost,y_test4)"
   ]
  },
  {
   "cell_type": "code",
   "execution_count": 145,
   "metadata": {
    "scrolled": true
   },
   "outputs": [
    {
     "name": "stdout",
     "output_type": "stream",
     "text": [
      "Learning rate set to 0.371117\n",
      "0:\tlearn: 0.2555110\ttotal: 883ms\tremaining: 14m 42s\n",
      "1:\tlearn: 0.1675772\ttotal: 1.76s\tremaining: 14m 37s\n",
      "2:\tlearn: 0.1288385\ttotal: 2.67s\tremaining: 14m 47s\n",
      "3:\tlearn: 0.1142571\ttotal: 3.57s\tremaining: 14m 50s\n",
      "4:\tlearn: 0.1033205\ttotal: 4.55s\tremaining: 15m 6s\n",
      "5:\tlearn: 0.0967358\ttotal: 5.63s\tremaining: 15m 32s\n",
      "6:\tlearn: 0.0898907\ttotal: 6.54s\tremaining: 15m 27s\n",
      "7:\tlearn: 0.0847037\ttotal: 7.47s\tremaining: 15m 26s\n",
      "8:\tlearn: 0.0812586\ttotal: 8.42s\tremaining: 15m 26s\n",
      "9:\tlearn: 0.0758037\ttotal: 9.39s\tremaining: 15m 29s\n",
      "10:\tlearn: 0.0726695\ttotal: 10.3s\tremaining: 15m 28s\n",
      "11:\tlearn: 0.0671886\ttotal: 11.3s\tremaining: 15m 28s\n",
      "12:\tlearn: 0.0642595\ttotal: 12.2s\tremaining: 15m 26s\n",
      "13:\tlearn: 0.0621006\ttotal: 13.1s\tremaining: 15m 20s\n",
      "14:\tlearn: 0.0597652\ttotal: 14s\tremaining: 15m 20s\n",
      "15:\tlearn: 0.0574328\ttotal: 14.9s\tremaining: 15m 18s\n",
      "16:\tlearn: 0.0548705\ttotal: 15.9s\tremaining: 15m 18s\n",
      "17:\tlearn: 0.0531943\ttotal: 16.8s\tremaining: 15m 17s\n",
      "18:\tlearn: 0.0513599\ttotal: 17.8s\tremaining: 15m 17s\n",
      "19:\tlearn: 0.0484547\ttotal: 18.7s\tremaining: 15m 15s\n",
      "20:\tlearn: 0.0477258\ttotal: 19.5s\tremaining: 15m 10s\n",
      "21:\tlearn: 0.0462423\ttotal: 20.7s\tremaining: 15m 18s\n",
      "22:\tlearn: 0.0419009\ttotal: 21.7s\tremaining: 15m 23s\n",
      "23:\tlearn: 0.0413638\ttotal: 22.6s\tremaining: 15m 19s\n",
      "24:\tlearn: 0.0393929\ttotal: 23.5s\tremaining: 15m 18s\n",
      "25:\tlearn: 0.0385533\ttotal: 24.4s\tremaining: 15m 14s\n",
      "26:\tlearn: 0.0373456\ttotal: 25.4s\tremaining: 15m 15s\n",
      "27:\tlearn: 0.0370199\ttotal: 26.4s\tremaining: 15m 15s\n",
      "28:\tlearn: 0.0364196\ttotal: 27.4s\tremaining: 15m 17s\n",
      "29:\tlearn: 0.0355621\ttotal: 28.6s\tremaining: 15m 23s\n",
      "30:\tlearn: 0.0346589\ttotal: 29.5s\tremaining: 15m 22s\n",
      "31:\tlearn: 0.0342674\ttotal: 30.4s\tremaining: 15m 20s\n",
      "32:\tlearn: 0.0335868\ttotal: 31.4s\tremaining: 15m 19s\n",
      "33:\tlearn: 0.0320896\ttotal: 32.3s\tremaining: 15m 17s\n",
      "34:\tlearn: 0.0316751\ttotal: 33.3s\tremaining: 15m 16s\n",
      "35:\tlearn: 0.0313202\ttotal: 34.1s\tremaining: 15m 14s\n",
      "36:\tlearn: 0.0306058\ttotal: 35.1s\tremaining: 15m 12s\n",
      "37:\tlearn: 0.0302549\ttotal: 36.1s\tremaining: 15m 13s\n",
      "38:\tlearn: 0.0296342\ttotal: 37.2s\tremaining: 15m 16s\n",
      "39:\tlearn: 0.0291952\ttotal: 38.2s\tremaining: 15m 15s\n",
      "40:\tlearn: 0.0289191\ttotal: 39s\tremaining: 15m 11s\n",
      "41:\tlearn: 0.0280239\ttotal: 39.9s\tremaining: 15m 10s\n",
      "42:\tlearn: 0.0274516\ttotal: 40.8s\tremaining: 15m 8s\n",
      "43:\tlearn: 0.0265462\ttotal: 41.8s\tremaining: 15m 7s\n",
      "44:\tlearn: 0.0260625\ttotal: 42.7s\tremaining: 15m 6s\n",
      "45:\tlearn: 0.0257487\ttotal: 43.6s\tremaining: 15m 5s\n",
      "46:\tlearn: 0.0255815\ttotal: 44.5s\tremaining: 15m 1s\n",
      "47:\tlearn: 0.0253730\ttotal: 45.4s\tremaining: 14m 59s\n",
      "48:\tlearn: 0.0251339\ttotal: 46.3s\tremaining: 14m 57s\n",
      "49:\tlearn: 0.0243247\ttotal: 47.2s\tremaining: 14m 56s\n",
      "50:\tlearn: 0.0239056\ttotal: 48.1s\tremaining: 14m 55s\n",
      "51:\tlearn: 0.0236507\ttotal: 49s\tremaining: 14m 52s\n",
      "52:\tlearn: 0.0234728\ttotal: 49.8s\tremaining: 14m 50s\n",
      "53:\tlearn: 0.0228976\ttotal: 50.6s\tremaining: 14m 46s\n",
      "54:\tlearn: 0.0224920\ttotal: 51.5s\tremaining: 14m 45s\n",
      "55:\tlearn: 0.0223696\ttotal: 52.6s\tremaining: 14m 47s\n",
      "56:\tlearn: 0.0221758\ttotal: 53.7s\tremaining: 14m 48s\n",
      "57:\tlearn: 0.0221259\ttotal: 54.6s\tremaining: 14m 46s\n",
      "58:\tlearn: 0.0220253\ttotal: 55.5s\tremaining: 14m 44s\n",
      "59:\tlearn: 0.0219173\ttotal: 56.3s\tremaining: 14m 42s\n",
      "60:\tlearn: 0.0215387\ttotal: 57.2s\tremaining: 14m 41s\n",
      "61:\tlearn: 0.0213372\ttotal: 58.2s\tremaining: 14m 39s\n",
      "62:\tlearn: 0.0212398\ttotal: 59s\tremaining: 14m 37s\n",
      "63:\tlearn: 0.0211058\ttotal: 59.9s\tremaining: 14m 35s\n",
      "64:\tlearn: 0.0208193\ttotal: 1m\tremaining: 14m 34s\n",
      "65:\tlearn: 0.0206191\ttotal: 1m 1s\tremaining: 14m 36s\n",
      "66:\tlearn: 0.0203879\ttotal: 1m 3s\tremaining: 14m 38s\n",
      "67:\tlearn: 0.0203110\ttotal: 1m 4s\tremaining: 14m 37s\n",
      "68:\tlearn: 0.0202180\ttotal: 1m 5s\tremaining: 14m 38s\n",
      "69:\tlearn: 0.0199468\ttotal: 1m 6s\tremaining: 14m 37s\n",
      "70:\tlearn: 0.0196391\ttotal: 1m 7s\tremaining: 14m 38s\n",
      "71:\tlearn: 0.0191468\ttotal: 1m 8s\tremaining: 14m 40s\n",
      "72:\tlearn: 0.0190193\ttotal: 1m 9s\tremaining: 14m 42s\n",
      "73:\tlearn: 0.0188073\ttotal: 1m 10s\tremaining: 14m 43s\n",
      "74:\tlearn: 0.0185775\ttotal: 1m 11s\tremaining: 14m 42s\n",
      "75:\tlearn: 0.0184343\ttotal: 1m 12s\tremaining: 14m 42s\n",
      "76:\tlearn: 0.0182916\ttotal: 1m 13s\tremaining: 14m 40s\n",
      "77:\tlearn: 0.0181613\ttotal: 1m 14s\tremaining: 14m 38s\n",
      "78:\tlearn: 0.0179344\ttotal: 1m 15s\tremaining: 14m 39s\n",
      "79:\tlearn: 0.0178687\ttotal: 1m 16s\tremaining: 14m 38s\n",
      "80:\tlearn: 0.0176612\ttotal: 1m 17s\tremaining: 14m 36s\n",
      "81:\tlearn: 0.0174996\ttotal: 1m 18s\tremaining: 14m 35s\n",
      "82:\tlearn: 0.0174470\ttotal: 1m 19s\tremaining: 14m 33s\n",
      "83:\tlearn: 0.0172561\ttotal: 1m 19s\tremaining: 14m 32s\n",
      "84:\tlearn: 0.0172036\ttotal: 1m 20s\tremaining: 14m 30s\n",
      "85:\tlearn: 0.0171196\ttotal: 1m 21s\tremaining: 14m 28s\n",
      "86:\tlearn: 0.0170190\ttotal: 1m 22s\tremaining: 14m 26s\n",
      "87:\tlearn: 0.0169647\ttotal: 1m 23s\tremaining: 14m 23s\n",
      "88:\tlearn: 0.0168735\ttotal: 1m 24s\tremaining: 14m 24s\n",
      "89:\tlearn: 0.0167013\ttotal: 1m 25s\tremaining: 14m 24s\n",
      "90:\tlearn: 0.0166239\ttotal: 1m 26s\tremaining: 14m 23s\n",
      "91:\tlearn: 0.0165479\ttotal: 1m 27s\tremaining: 14m 21s\n",
      "92:\tlearn: 0.0164738\ttotal: 1m 28s\tremaining: 14m 19s\n",
      "93:\tlearn: 0.0162814\ttotal: 1m 29s\tremaining: 14m 18s\n",
      "94:\tlearn: 0.0160922\ttotal: 1m 30s\tremaining: 14m 17s\n",
      "95:\tlearn: 0.0159168\ttotal: 1m 31s\tremaining: 14m 17s\n",
      "96:\tlearn: 0.0156161\ttotal: 1m 32s\tremaining: 14m 17s\n",
      "97:\tlearn: 0.0155510\ttotal: 1m 33s\tremaining: 14m 16s\n",
      "98:\tlearn: 0.0153230\ttotal: 1m 34s\tremaining: 14m 15s\n",
      "99:\tlearn: 0.0152189\ttotal: 1m 34s\tremaining: 14m 14s\n",
      "100:\tlearn: 0.0151288\ttotal: 1m 35s\tremaining: 14m 13s\n",
      "101:\tlearn: 0.0150064\ttotal: 1m 36s\tremaining: 14m 12s\n",
      "102:\tlearn: 0.0149096\ttotal: 1m 37s\tremaining: 14m 11s\n",
      "103:\tlearn: 0.0148617\ttotal: 1m 38s\tremaining: 14m 9s\n",
      "104:\tlearn: 0.0147945\ttotal: 1m 39s\tremaining: 14m 7s\n",
      "105:\tlearn: 0.0147091\ttotal: 1m 40s\tremaining: 14m 8s\n",
      "106:\tlearn: 0.0146574\ttotal: 1m 41s\tremaining: 14m 7s\n",
      "107:\tlearn: 0.0146069\ttotal: 1m 42s\tremaining: 14m 6s\n",
      "108:\tlearn: 0.0144761\ttotal: 1m 43s\tremaining: 14m 5s\n",
      "109:\tlearn: 0.0144233\ttotal: 1m 44s\tremaining: 14m 3s\n",
      "110:\tlearn: 0.0143642\ttotal: 1m 45s\tremaining: 14m 2s\n",
      "111:\tlearn: 0.0143251\ttotal: 1m 46s\tremaining: 14m 1s\n",
      "112:\tlearn: 0.0142146\ttotal: 1m 46s\tremaining: 13m 59s\n",
      "113:\tlearn: 0.0141035\ttotal: 1m 47s\tremaining: 13m 58s\n",
      "114:\tlearn: 0.0140066\ttotal: 1m 48s\tremaining: 13m 57s\n",
      "115:\tlearn: 0.0139488\ttotal: 1m 49s\tremaining: 13m 56s\n",
      "116:\tlearn: 0.0138773\ttotal: 1m 50s\tremaining: 13m 55s\n",
      "117:\tlearn: 0.0138258\ttotal: 1m 51s\tremaining: 13m 54s\n",
      "118:\tlearn: 0.0137119\ttotal: 1m 52s\tremaining: 13m 53s\n",
      "119:\tlearn: 0.0135739\ttotal: 1m 53s\tremaining: 13m 52s\n",
      "120:\tlearn: 0.0134777\ttotal: 1m 54s\tremaining: 13m 51s\n",
      "121:\tlearn: 0.0134437\ttotal: 1m 55s\tremaining: 13m 50s\n",
      "122:\tlearn: 0.0134158\ttotal: 1m 56s\tremaining: 13m 50s\n",
      "123:\tlearn: 0.0133520\ttotal: 1m 57s\tremaining: 13m 50s\n",
      "124:\tlearn: 0.0133375\ttotal: 1m 58s\tremaining: 13m 48s\n",
      "125:\tlearn: 0.0133048\ttotal: 1m 59s\tremaining: 13m 46s\n",
      "126:\tlearn: 0.0132633\ttotal: 2m\tremaining: 13m 46s\n",
      "127:\tlearn: 0.0131807\ttotal: 2m 1s\tremaining: 13m 44s\n",
      "128:\tlearn: 0.0131374\ttotal: 2m 2s\tremaining: 13m 43s\n",
      "129:\tlearn: 0.0131027\ttotal: 2m 2s\tremaining: 13m 42s\n",
      "130:\tlearn: 0.0130834\ttotal: 2m 3s\tremaining: 13m 41s\n",
      "131:\tlearn: 0.0130501\ttotal: 2m 4s\tremaining: 13m 39s\n",
      "132:\tlearn: 0.0130420\ttotal: 2m 5s\tremaining: 13m 37s\n",
      "133:\tlearn: 0.0130260\ttotal: 2m 6s\tremaining: 13m 36s\n",
      "134:\tlearn: 0.0128980\ttotal: 2m 7s\tremaining: 13m 35s\n",
      "135:\tlearn: 0.0128230\ttotal: 2m 8s\tremaining: 13m 34s\n",
      "136:\tlearn: 0.0126635\ttotal: 2m 9s\tremaining: 13m 33s\n",
      "137:\tlearn: 0.0126344\ttotal: 2m 9s\tremaining: 13m 32s\n",
      "138:\tlearn: 0.0125698\ttotal: 2m 10s\tremaining: 13m 31s\n",
      "139:\tlearn: 0.0125188\ttotal: 2m 11s\tremaining: 13m 30s\n",
      "140:\tlearn: 0.0124761\ttotal: 2m 12s\tremaining: 13m 29s\n",
      "141:\tlearn: 0.0124559\ttotal: 2m 13s\tremaining: 13m 28s\n",
      "142:\tlearn: 0.0123602\ttotal: 2m 14s\tremaining: 13m 27s\n",
      "143:\tlearn: 0.0122432\ttotal: 2m 15s\tremaining: 13m 26s\n",
      "144:\tlearn: 0.0122026\ttotal: 2m 16s\tremaining: 13m 25s\n",
      "145:\tlearn: 0.0121253\ttotal: 2m 17s\tremaining: 13m 24s\n",
      "146:\tlearn: 0.0120474\ttotal: 2m 18s\tremaining: 13m 23s\n",
      "147:\tlearn: 0.0119676\ttotal: 2m 19s\tremaining: 13m 22s\n",
      "148:\tlearn: 0.0119049\ttotal: 2m 20s\tremaining: 13m 21s\n",
      "149:\tlearn: 0.0118538\ttotal: 2m 21s\tremaining: 13m 20s\n",
      "150:\tlearn: 0.0118058\ttotal: 2m 22s\tremaining: 13m 18s\n",
      "151:\tlearn: 0.0117782\ttotal: 2m 22s\tremaining: 13m 17s\n",
      "152:\tlearn: 0.0117379\ttotal: 2m 23s\tremaining: 13m 16s\n"
     ]
    },
    {
     "name": "stdout",
     "output_type": "stream",
     "text": [
      "153:\tlearn: 0.0116877\ttotal: 2m 24s\tremaining: 13m 15s\n",
      "154:\tlearn: 0.0116876\ttotal: 2m 25s\tremaining: 13m 12s\n",
      "155:\tlearn: 0.0116574\ttotal: 2m 26s\tremaining: 13m 11s\n",
      "156:\tlearn: 0.0116571\ttotal: 2m 27s\tremaining: 13m 9s\n",
      "157:\tlearn: 0.0116320\ttotal: 2m 27s\tremaining: 13m 8s\n",
      "158:\tlearn: 0.0116106\ttotal: 2m 29s\tremaining: 13m 9s\n",
      "159:\tlearn: 0.0115870\ttotal: 2m 30s\tremaining: 13m 8s\n",
      "160:\tlearn: 0.0115737\ttotal: 2m 31s\tremaining: 13m 7s\n",
      "161:\tlearn: 0.0114794\ttotal: 2m 32s\tremaining: 13m 6s\n",
      "162:\tlearn: 0.0114311\ttotal: 2m 33s\tremaining: 13m 5s\n",
      "163:\tlearn: 0.0114198\ttotal: 2m 33s\tremaining: 13m 4s\n",
      "164:\tlearn: 0.0114144\ttotal: 2m 34s\tremaining: 13m 3s\n",
      "165:\tlearn: 0.0113507\ttotal: 2m 35s\tremaining: 13m 2s\n",
      "166:\tlearn: 0.0112855\ttotal: 2m 36s\tremaining: 13m 1s\n",
      "167:\tlearn: 0.0112630\ttotal: 2m 37s\tremaining: 12m 59s\n",
      "168:\tlearn: 0.0111342\ttotal: 2m 38s\tremaining: 12m 58s\n",
      "169:\tlearn: 0.0110937\ttotal: 2m 39s\tremaining: 12m 57s\n",
      "170:\tlearn: 0.0110227\ttotal: 2m 40s\tremaining: 12m 56s\n",
      "171:\tlearn: 0.0109480\ttotal: 2m 41s\tremaining: 12m 55s\n",
      "172:\tlearn: 0.0109252\ttotal: 2m 42s\tremaining: 12m 54s\n",
      "173:\tlearn: 0.0109071\ttotal: 2m 42s\tremaining: 12m 53s\n",
      "174:\tlearn: 0.0108766\ttotal: 2m 43s\tremaining: 12m 52s\n",
      "175:\tlearn: 0.0108306\ttotal: 2m 44s\tremaining: 12m 52s\n",
      "176:\tlearn: 0.0108116\ttotal: 2m 45s\tremaining: 12m 50s\n",
      "177:\tlearn: 0.0107858\ttotal: 2m 46s\tremaining: 12m 49s\n",
      "178:\tlearn: 0.0107594\ttotal: 2m 47s\tremaining: 12m 48s\n",
      "179:\tlearn: 0.0107339\ttotal: 2m 48s\tremaining: 12m 47s\n",
      "180:\tlearn: 0.0107338\ttotal: 2m 49s\tremaining: 12m 45s\n",
      "181:\tlearn: 0.0106807\ttotal: 2m 50s\tremaining: 12m 44s\n",
      "182:\tlearn: 0.0106807\ttotal: 2m 50s\tremaining: 12m 42s\n",
      "183:\tlearn: 0.0106807\ttotal: 2m 51s\tremaining: 12m 40s\n",
      "184:\tlearn: 0.0106807\ttotal: 2m 52s\tremaining: 12m 38s\n",
      "185:\tlearn: 0.0106805\ttotal: 2m 52s\tremaining: 12m 36s\n",
      "186:\tlearn: 0.0106805\ttotal: 2m 53s\tremaining: 12m 34s\n",
      "187:\tlearn: 0.0106805\ttotal: 2m 54s\tremaining: 12m 32s\n",
      "188:\tlearn: 0.0106699\ttotal: 2m 55s\tremaining: 12m 31s\n",
      "189:\tlearn: 0.0106376\ttotal: 2m 56s\tremaining: 12m 30s\n",
      "190:\tlearn: 0.0106375\ttotal: 2m 56s\tremaining: 12m 29s\n",
      "191:\tlearn: 0.0106196\ttotal: 2m 57s\tremaining: 12m 28s\n",
      "192:\tlearn: 0.0105898\ttotal: 2m 58s\tremaining: 12m 27s\n",
      "193:\tlearn: 0.0105706\ttotal: 2m 59s\tremaining: 12m 26s\n",
      "194:\tlearn: 0.0105427\ttotal: 3m\tremaining: 12m 26s\n",
      "195:\tlearn: 0.0105214\ttotal: 3m 1s\tremaining: 12m 26s\n",
      "196:\tlearn: 0.0104822\ttotal: 3m 2s\tremaining: 12m 25s\n",
      "197:\tlearn: 0.0104657\ttotal: 3m 3s\tremaining: 12m 24s\n",
      "198:\tlearn: 0.0103907\ttotal: 3m 4s\tremaining: 12m 23s\n",
      "199:\tlearn: 0.0103635\ttotal: 3m 5s\tremaining: 12m 21s\n",
      "200:\tlearn: 0.0103376\ttotal: 3m 6s\tremaining: 12m 21s\n",
      "201:\tlearn: 0.0103266\ttotal: 3m 7s\tremaining: 12m 19s\n",
      "202:\tlearn: 0.0102964\ttotal: 3m 7s\tremaining: 12m 18s\n",
      "203:\tlearn: 0.0102786\ttotal: 3m 8s\tremaining: 12m 17s\n",
      "204:\tlearn: 0.0102572\ttotal: 3m 9s\tremaining: 12m 15s\n",
      "205:\tlearn: 0.0102201\ttotal: 3m 10s\tremaining: 12m 14s\n",
      "206:\tlearn: 0.0102150\ttotal: 3m 11s\tremaining: 12m 13s\n",
      "207:\tlearn: 0.0102031\ttotal: 3m 12s\tremaining: 12m 11s\n",
      "208:\tlearn: 0.0101460\ttotal: 3m 13s\tremaining: 12m 11s\n",
      "209:\tlearn: 0.0101099\ttotal: 3m 14s\tremaining: 12m 9s\n",
      "210:\tlearn: 0.0100880\ttotal: 3m 14s\tremaining: 12m 9s\n",
      "211:\tlearn: 0.0100697\ttotal: 3m 15s\tremaining: 12m 7s\n",
      "212:\tlearn: 0.0100360\ttotal: 3m 17s\tremaining: 12m 7s\n",
      "213:\tlearn: 0.0100198\ttotal: 3m 17s\tremaining: 12m 7s\n",
      "214:\tlearn: 0.0100197\ttotal: 3m 18s\tremaining: 12m 5s\n",
      "215:\tlearn: 0.0100197\ttotal: 3m 19s\tremaining: 12m 3s\n",
      "216:\tlearn: 0.0100196\ttotal: 3m 20s\tremaining: 12m 1s\n",
      "217:\tlearn: 0.0099928\ttotal: 3m 20s\tremaining: 12m 1s\n",
      "218:\tlearn: 0.0099477\ttotal: 3m 21s\tremaining: 12m\n",
      "219:\tlearn: 0.0098943\ttotal: 3m 22s\tremaining: 11m 59s\n",
      "220:\tlearn: 0.0098751\ttotal: 3m 23s\tremaining: 11m 58s\n",
      "221:\tlearn: 0.0098428\ttotal: 3m 24s\tremaining: 11m 57s\n",
      "222:\tlearn: 0.0098270\ttotal: 3m 25s\tremaining: 11m 55s\n",
      "223:\tlearn: 0.0098030\ttotal: 3m 26s\tremaining: 11m 54s\n",
      "224:\tlearn: 0.0097736\ttotal: 3m 27s\tremaining: 11m 53s\n",
      "225:\tlearn: 0.0097552\ttotal: 3m 28s\tremaining: 11m 52s\n",
      "226:\tlearn: 0.0097390\ttotal: 3m 29s\tremaining: 11m 51s\n",
      "227:\tlearn: 0.0097233\ttotal: 3m 29s\tremaining: 11m 50s\n",
      "228:\tlearn: 0.0097167\ttotal: 3m 30s\tremaining: 11m 49s\n",
      "229:\tlearn: 0.0097110\ttotal: 3m 31s\tremaining: 11m 47s\n",
      "230:\tlearn: 0.0096911\ttotal: 3m 32s\tremaining: 11m 47s\n",
      "231:\tlearn: 0.0096575\ttotal: 3m 33s\tremaining: 11m 47s\n",
      "232:\tlearn: 0.0096466\ttotal: 3m 34s\tremaining: 11m 46s\n",
      "233:\tlearn: 0.0096383\ttotal: 3m 35s\tremaining: 11m 45s\n",
      "234:\tlearn: 0.0096270\ttotal: 3m 36s\tremaining: 11m 44s\n",
      "235:\tlearn: 0.0095962\ttotal: 3m 37s\tremaining: 11m 43s\n",
      "236:\tlearn: 0.0095767\ttotal: 3m 38s\tremaining: 11m 42s\n",
      "237:\tlearn: 0.0095767\ttotal: 3m 38s\tremaining: 11m 40s\n",
      "238:\tlearn: 0.0095767\ttotal: 3m 39s\tremaining: 11m 38s\n",
      "239:\tlearn: 0.0095767\ttotal: 3m 39s\tremaining: 11m 36s\n",
      "240:\tlearn: 0.0095767\ttotal: 3m 40s\tremaining: 11m 34s\n",
      "241:\tlearn: 0.0095767\ttotal: 3m 41s\tremaining: 11m 32s\n",
      "242:\tlearn: 0.0095767\ttotal: 3m 41s\tremaining: 11m 31s\n",
      "243:\tlearn: 0.0095767\ttotal: 3m 42s\tremaining: 11m 29s\n",
      "244:\tlearn: 0.0095767\ttotal: 3m 43s\tremaining: 11m 27s\n",
      "245:\tlearn: 0.0095767\ttotal: 3m 43s\tremaining: 11m 25s\n",
      "246:\tlearn: 0.0095767\ttotal: 3m 44s\tremaining: 11m 23s\n",
      "247:\tlearn: 0.0095533\ttotal: 3m 45s\tremaining: 11m 22s\n",
      "248:\tlearn: 0.0095218\ttotal: 3m 45s\tremaining: 11m 21s\n",
      "249:\tlearn: 0.0095160\ttotal: 3m 46s\tremaining: 11m 20s\n",
      "250:\tlearn: 0.0094770\ttotal: 3m 47s\tremaining: 11m 19s\n",
      "251:\tlearn: 0.0094770\ttotal: 3m 48s\tremaining: 11m 18s\n",
      "252:\tlearn: 0.0094769\ttotal: 3m 49s\tremaining: 11m 17s\n",
      "253:\tlearn: 0.0094769\ttotal: 3m 50s\tremaining: 11m 16s\n",
      "254:\tlearn: 0.0094769\ttotal: 3m 50s\tremaining: 11m 14s\n",
      "255:\tlearn: 0.0094769\ttotal: 3m 51s\tremaining: 11m 13s\n",
      "256:\tlearn: 0.0094769\ttotal: 3m 52s\tremaining: 11m 12s\n",
      "257:\tlearn: 0.0094769\ttotal: 3m 53s\tremaining: 11m 10s\n",
      "258:\tlearn: 0.0094769\ttotal: 3m 53s\tremaining: 11m 9s\n",
      "259:\tlearn: 0.0094769\ttotal: 3m 54s\tremaining: 11m 7s\n",
      "260:\tlearn: 0.0094769\ttotal: 3m 55s\tremaining: 11m 6s\n",
      "261:\tlearn: 0.0094769\ttotal: 3m 56s\tremaining: 11m 4s\n",
      "262:\tlearn: 0.0094769\ttotal: 3m 56s\tremaining: 11m 3s\n",
      "263:\tlearn: 0.0094769\ttotal: 3m 57s\tremaining: 11m 2s\n",
      "264:\tlearn: 0.0094769\ttotal: 3m 58s\tremaining: 11m\n",
      "265:\tlearn: 0.0094769\ttotal: 3m 58s\tremaining: 10m 59s\n",
      "266:\tlearn: 0.0094769\ttotal: 3m 59s\tremaining: 10m 57s\n",
      "267:\tlearn: 0.0094395\ttotal: 4m\tremaining: 10m 57s\n",
      "268:\tlearn: 0.0094078\ttotal: 4m 1s\tremaining: 10m 56s\n",
      "269:\tlearn: 0.0093569\ttotal: 4m 2s\tremaining: 10m 55s\n",
      "270:\tlearn: 0.0093073\ttotal: 4m 3s\tremaining: 10m 54s\n",
      "271:\tlearn: 0.0093073\ttotal: 4m 4s\tremaining: 10m 53s\n",
      "272:\tlearn: 0.0093072\ttotal: 4m 5s\tremaining: 10m 52s\n",
      "273:\tlearn: 0.0093072\ttotal: 4m 5s\tremaining: 10m 51s\n",
      "274:\tlearn: 0.0093072\ttotal: 4m 6s\tremaining: 10m 49s\n",
      "275:\tlearn: 0.0093072\ttotal: 4m 7s\tremaining: 10m 48s\n",
      "276:\tlearn: 0.0093072\ttotal: 4m 7s\tremaining: 10m 47s\n",
      "277:\tlearn: 0.0093071\ttotal: 4m 8s\tremaining: 10m 45s\n",
      "278:\tlearn: 0.0093071\ttotal: 4m 9s\tremaining: 10m 44s\n",
      "279:\tlearn: 0.0093071\ttotal: 4m 10s\tremaining: 10m 42s\n",
      "280:\tlearn: 0.0093071\ttotal: 4m 10s\tremaining: 10m 41s\n",
      "281:\tlearn: 0.0093070\ttotal: 4m 11s\tremaining: 10m 40s\n",
      "282:\tlearn: 0.0093070\ttotal: 4m 12s\tremaining: 10m 38s\n",
      "283:\tlearn: 0.0093070\ttotal: 4m 12s\tremaining: 10m 37s\n",
      "284:\tlearn: 0.0093070\ttotal: 4m 13s\tremaining: 10m 36s\n",
      "285:\tlearn: 0.0093069\ttotal: 4m 14s\tremaining: 10m 34s\n",
      "286:\tlearn: 0.0093069\ttotal: 4m 14s\tremaining: 10m 33s\n",
      "287:\tlearn: 0.0093069\ttotal: 4m 15s\tremaining: 10m 31s\n",
      "288:\tlearn: 0.0093069\ttotal: 4m 16s\tremaining: 10m 30s\n",
      "289:\tlearn: 0.0093068\ttotal: 4m 16s\tremaining: 10m 29s\n",
      "290:\tlearn: 0.0093067\ttotal: 4m 17s\tremaining: 10m 27s\n",
      "291:\tlearn: 0.0093066\ttotal: 4m 18s\tremaining: 10m 26s\n",
      "292:\tlearn: 0.0093066\ttotal: 4m 19s\tremaining: 10m 25s\n",
      "293:\tlearn: 0.0093066\ttotal: 4m 19s\tremaining: 10m 23s\n",
      "294:\tlearn: 0.0093065\ttotal: 4m 20s\tremaining: 10m 22s\n",
      "295:\tlearn: 0.0093065\ttotal: 4m 21s\tremaining: 10m 21s\n",
      "296:\tlearn: 0.0093064\ttotal: 4m 22s\tremaining: 10m 20s\n",
      "297:\tlearn: 0.0093064\ttotal: 4m 22s\tremaining: 10m 19s\n",
      "298:\tlearn: 0.0093064\ttotal: 4m 23s\tremaining: 10m 17s\n",
      "299:\tlearn: 0.0093064\ttotal: 4m 24s\tremaining: 10m 16s\n",
      "300:\tlearn: 0.0093063\ttotal: 4m 24s\tremaining: 10m 15s\n",
      "301:\tlearn: 0.0093063\ttotal: 4m 25s\tremaining: 10m 13s\n",
      "302:\tlearn: 0.0093063\ttotal: 4m 26s\tremaining: 10m 12s\n",
      "303:\tlearn: 0.0093063\ttotal: 4m 26s\tremaining: 10m 11s\n"
     ]
    },
    {
     "name": "stdout",
     "output_type": "stream",
     "text": [
      "304:\tlearn: 0.0093062\ttotal: 4m 27s\tremaining: 10m 9s\n",
      "305:\tlearn: 0.0093062\ttotal: 4m 28s\tremaining: 10m 8s\n",
      "306:\tlearn: 0.0093062\ttotal: 4m 29s\tremaining: 10m 7s\n",
      "307:\tlearn: 0.0093062\ttotal: 4m 29s\tremaining: 10m 6s\n",
      "308:\tlearn: 0.0093062\ttotal: 4m 30s\tremaining: 10m 5s\n",
      "309:\tlearn: 0.0093061\ttotal: 4m 31s\tremaining: 10m 3s\n",
      "310:\tlearn: 0.0093061\ttotal: 4m 31s\tremaining: 10m 2s\n",
      "311:\tlearn: 0.0093059\ttotal: 4m 32s\tremaining: 10m 1s\n",
      "312:\tlearn: 0.0093058\ttotal: 4m 33s\tremaining: 9m 59s\n",
      "313:\tlearn: 0.0093058\ttotal: 4m 34s\tremaining: 9m 58s\n",
      "314:\tlearn: 0.0093058\ttotal: 4m 34s\tremaining: 9m 57s\n",
      "315:\tlearn: 0.0093058\ttotal: 4m 35s\tremaining: 9m 56s\n",
      "316:\tlearn: 0.0093058\ttotal: 4m 36s\tremaining: 9m 54s\n",
      "317:\tlearn: 0.0093058\ttotal: 4m 36s\tremaining: 9m 53s\n",
      "318:\tlearn: 0.0093058\ttotal: 4m 37s\tremaining: 9m 52s\n",
      "319:\tlearn: 0.0093058\ttotal: 4m 38s\tremaining: 9m 51s\n",
      "320:\tlearn: 0.0093057\ttotal: 4m 39s\tremaining: 9m 50s\n",
      "321:\tlearn: 0.0093057\ttotal: 4m 39s\tremaining: 9m 49s\n",
      "322:\tlearn: 0.0093057\ttotal: 4m 40s\tremaining: 9m 47s\n",
      "323:\tlearn: 0.0093057\ttotal: 4m 41s\tremaining: 9m 46s\n",
      "324:\tlearn: 0.0093056\ttotal: 4m 41s\tremaining: 9m 45s\n",
      "325:\tlearn: 0.0093056\ttotal: 4m 42s\tremaining: 9m 44s\n",
      "326:\tlearn: 0.0093056\ttotal: 4m 43s\tremaining: 9m 42s\n",
      "327:\tlearn: 0.0093056\ttotal: 4m 43s\tremaining: 9m 41s\n",
      "328:\tlearn: 0.0093056\ttotal: 4m 44s\tremaining: 9m 40s\n",
      "329:\tlearn: 0.0092888\ttotal: 4m 45s\tremaining: 9m 39s\n",
      "330:\tlearn: 0.0092594\ttotal: 4m 46s\tremaining: 9m 38s\n",
      "331:\tlearn: 0.0092316\ttotal: 4m 47s\tremaining: 9m 37s\n",
      "332:\tlearn: 0.0092093\ttotal: 4m 48s\tremaining: 9m 36s\n",
      "333:\tlearn: 0.0092092\ttotal: 4m 48s\tremaining: 9m 35s\n",
      "334:\tlearn: 0.0092092\ttotal: 4m 49s\tremaining: 9m 34s\n",
      "335:\tlearn: 0.0092092\ttotal: 4m 49s\tremaining: 9m 32s\n",
      "336:\tlearn: 0.0092092\ttotal: 4m 50s\tremaining: 9m 31s\n",
      "337:\tlearn: 0.0092092\ttotal: 4m 51s\tremaining: 9m 30s\n",
      "338:\tlearn: 0.0092092\ttotal: 4m 51s\tremaining: 9m 29s\n",
      "339:\tlearn: 0.0092092\ttotal: 4m 52s\tremaining: 9m 27s\n",
      "340:\tlearn: 0.0092092\ttotal: 4m 53s\tremaining: 9m 26s\n",
      "341:\tlearn: 0.0092092\ttotal: 4m 53s\tremaining: 9m 25s\n",
      "342:\tlearn: 0.0092092\ttotal: 4m 54s\tremaining: 9m 24s\n",
      "343:\tlearn: 0.0092092\ttotal: 4m 55s\tremaining: 9m 22s\n",
      "344:\tlearn: 0.0092092\ttotal: 4m 55s\tremaining: 9m 21s\n",
      "345:\tlearn: 0.0092092\ttotal: 4m 56s\tremaining: 9m 20s\n",
      "346:\tlearn: 0.0092092\ttotal: 4m 56s\tremaining: 9m 18s\n",
      "347:\tlearn: 0.0092092\ttotal: 4m 57s\tremaining: 9m 17s\n",
      "348:\tlearn: 0.0092092\ttotal: 4m 58s\tremaining: 9m 16s\n",
      "349:\tlearn: 0.0092092\ttotal: 4m 58s\tremaining: 9m 14s\n",
      "350:\tlearn: 0.0092092\ttotal: 4m 59s\tremaining: 9m 13s\n",
      "351:\tlearn: 0.0092092\ttotal: 4m 59s\tremaining: 9m 12s\n",
      "352:\tlearn: 0.0092092\ttotal: 5m\tremaining: 9m 10s\n",
      "353:\tlearn: 0.0092092\ttotal: 5m 1s\tremaining: 9m 9s\n",
      "354:\tlearn: 0.0092092\ttotal: 5m 1s\tremaining: 9m 8s\n",
      "355:\tlearn: 0.0092092\ttotal: 5m 2s\tremaining: 9m 6s\n",
      "356:\tlearn: 0.0092092\ttotal: 5m 2s\tremaining: 9m 5s\n",
      "357:\tlearn: 0.0092092\ttotal: 5m 3s\tremaining: 9m 4s\n",
      "358:\tlearn: 0.0092092\ttotal: 5m 4s\tremaining: 9m 3s\n",
      "359:\tlearn: 0.0092092\ttotal: 5m 4s\tremaining: 9m 1s\n",
      "360:\tlearn: 0.0092092\ttotal: 5m 5s\tremaining: 9m\n",
      "361:\tlearn: 0.0092092\ttotal: 5m 5s\tremaining: 8m 59s\n",
      "362:\tlearn: 0.0092092\ttotal: 5m 6s\tremaining: 8m 57s\n",
      "363:\tlearn: 0.0092092\ttotal: 5m 7s\tremaining: 8m 56s\n",
      "364:\tlearn: 0.0092092\ttotal: 5m 7s\tremaining: 8m 55s\n",
      "365:\tlearn: 0.0092092\ttotal: 5m 8s\tremaining: 8m 54s\n",
      "366:\tlearn: 0.0092092\ttotal: 5m 9s\tremaining: 8m 53s\n",
      "367:\tlearn: 0.0092092\ttotal: 5m 9s\tremaining: 8m 52s\n",
      "368:\tlearn: 0.0092092\ttotal: 5m 10s\tremaining: 8m 50s\n",
      "369:\tlearn: 0.0092092\ttotal: 5m 11s\tremaining: 8m 49s\n",
      "370:\tlearn: 0.0092092\ttotal: 5m 11s\tremaining: 8m 48s\n",
      "371:\tlearn: 0.0092092\ttotal: 5m 12s\tremaining: 8m 47s\n",
      "372:\tlearn: 0.0092092\ttotal: 5m 12s\tremaining: 8m 45s\n",
      "373:\tlearn: 0.0092092\ttotal: 5m 13s\tremaining: 8m 44s\n",
      "374:\tlearn: 0.0092092\ttotal: 5m 13s\tremaining: 8m 43s\n",
      "375:\tlearn: 0.0092092\ttotal: 5m 14s\tremaining: 8m 42s\n",
      "376:\tlearn: 0.0092092\ttotal: 5m 15s\tremaining: 8m 40s\n",
      "377:\tlearn: 0.0092092\ttotal: 5m 15s\tremaining: 8m 39s\n",
      "378:\tlearn: 0.0092092\ttotal: 5m 16s\tremaining: 8m 38s\n",
      "379:\tlearn: 0.0092092\ttotal: 5m 17s\tremaining: 8m 37s\n",
      "380:\tlearn: 0.0092092\ttotal: 5m 17s\tremaining: 8m 35s\n",
      "381:\tlearn: 0.0092092\ttotal: 5m 18s\tremaining: 8m 34s\n",
      "382:\tlearn: 0.0092092\ttotal: 5m 18s\tremaining: 8m 33s\n",
      "383:\tlearn: 0.0092092\ttotal: 5m 19s\tremaining: 8m 32s\n",
      "384:\tlearn: 0.0092092\ttotal: 5m 19s\tremaining: 8m 31s\n",
      "385:\tlearn: 0.0092092\ttotal: 5m 20s\tremaining: 8m 29s\n",
      "386:\tlearn: 0.0092092\ttotal: 5m 21s\tremaining: 8m 28s\n",
      "387:\tlearn: 0.0092092\ttotal: 5m 21s\tremaining: 8m 27s\n",
      "388:\tlearn: 0.0092092\ttotal: 5m 22s\tremaining: 8m 26s\n",
      "389:\tlearn: 0.0092092\ttotal: 5m 22s\tremaining: 8m 25s\n",
      "390:\tlearn: 0.0092092\ttotal: 5m 23s\tremaining: 8m 23s\n",
      "391:\tlearn: 0.0092092\ttotal: 5m 24s\tremaining: 8m 22s\n",
      "392:\tlearn: 0.0092092\ttotal: 5m 25s\tremaining: 8m 21s\n",
      "393:\tlearn: 0.0092092\ttotal: 5m 25s\tremaining: 8m 20s\n",
      "394:\tlearn: 0.0092092\ttotal: 5m 26s\tremaining: 8m 19s\n",
      "395:\tlearn: 0.0092092\ttotal: 5m 26s\tremaining: 8m 18s\n",
      "396:\tlearn: 0.0092092\ttotal: 5m 27s\tremaining: 8m 17s\n",
      "397:\tlearn: 0.0092092\ttotal: 5m 28s\tremaining: 8m 16s\n",
      "398:\tlearn: 0.0092092\ttotal: 5m 28s\tremaining: 8m 15s\n",
      "399:\tlearn: 0.0092092\ttotal: 5m 29s\tremaining: 8m 13s\n",
      "400:\tlearn: 0.0092092\ttotal: 5m 29s\tremaining: 8m 12s\n",
      "401:\tlearn: 0.0092092\ttotal: 5m 30s\tremaining: 8m 11s\n",
      "402:\tlearn: 0.0092092\ttotal: 5m 31s\tremaining: 8m 11s\n",
      "403:\tlearn: 0.0092092\ttotal: 5m 32s\tremaining: 8m 10s\n",
      "404:\tlearn: 0.0092092\ttotal: 5m 33s\tremaining: 8m 9s\n",
      "405:\tlearn: 0.0092092\ttotal: 5m 34s\tremaining: 8m 8s\n",
      "406:\tlearn: 0.0092092\ttotal: 5m 35s\tremaining: 8m 8s\n",
      "407:\tlearn: 0.0092092\ttotal: 5m 35s\tremaining: 8m 7s\n",
      "408:\tlearn: 0.0092092\ttotal: 5m 37s\tremaining: 8m 7s\n",
      "409:\tlearn: 0.0092092\ttotal: 5m 37s\tremaining: 8m 6s\n",
      "410:\tlearn: 0.0092092\ttotal: 5m 38s\tremaining: 8m 5s\n",
      "411:\tlearn: 0.0092092\ttotal: 5m 40s\tremaining: 8m 5s\n",
      "412:\tlearn: 0.0092092\ttotal: 5m 41s\tremaining: 8m 4s\n",
      "413:\tlearn: 0.0092092\ttotal: 5m 42s\tremaining: 8m 4s\n",
      "414:\tlearn: 0.0092092\ttotal: 5m 43s\tremaining: 8m 4s\n",
      "415:\tlearn: 0.0092092\ttotal: 5m 44s\tremaining: 8m 3s\n",
      "416:\tlearn: 0.0092092\ttotal: 5m 45s\tremaining: 8m 3s\n",
      "417:\tlearn: 0.0092092\ttotal: 5m 46s\tremaining: 8m 2s\n",
      "418:\tlearn: 0.0092092\ttotal: 5m 47s\tremaining: 8m 2s\n",
      "419:\tlearn: 0.0092092\ttotal: 5m 48s\tremaining: 8m 1s\n",
      "420:\tlearn: 0.0092092\ttotal: 5m 49s\tremaining: 8m\n",
      "421:\tlearn: 0.0092092\ttotal: 5m 50s\tremaining: 7m 59s\n",
      "422:\tlearn: 0.0092092\ttotal: 5m 51s\tremaining: 7m 58s\n",
      "423:\tlearn: 0.0092092\ttotal: 5m 52s\tremaining: 7m 58s\n",
      "424:\tlearn: 0.0092092\ttotal: 5m 52s\tremaining: 7m 57s\n",
      "425:\tlearn: 0.0092092\ttotal: 5m 53s\tremaining: 7m 56s\n",
      "426:\tlearn: 0.0092092\ttotal: 5m 54s\tremaining: 7m 55s\n",
      "427:\tlearn: 0.0092092\ttotal: 5m 55s\tremaining: 7m 54s\n",
      "428:\tlearn: 0.0092092\ttotal: 5m 55s\tremaining: 7m 53s\n",
      "429:\tlearn: 0.0092092\ttotal: 5m 56s\tremaining: 7m 52s\n",
      "430:\tlearn: 0.0092092\ttotal: 5m 57s\tremaining: 7m 52s\n",
      "431:\tlearn: 0.0092092\ttotal: 5m 58s\tremaining: 7m 51s\n",
      "432:\tlearn: 0.0092092\ttotal: 5m 58s\tremaining: 7m 50s\n",
      "433:\tlearn: 0.0092092\ttotal: 5m 59s\tremaining: 7m 48s\n",
      "434:\tlearn: 0.0091842\ttotal: 6m\tremaining: 7m 48s\n",
      "435:\tlearn: 0.0091644\ttotal: 6m 1s\tremaining: 7m 47s\n",
      "436:\tlearn: 0.0091462\ttotal: 6m 2s\tremaining: 7m 46s\n",
      "437:\tlearn: 0.0091298\ttotal: 6m 3s\tremaining: 7m 45s\n",
      "438:\tlearn: 0.0091123\ttotal: 6m 3s\tremaining: 7m 45s\n",
      "439:\tlearn: 0.0090755\ttotal: 6m 5s\tremaining: 7m 44s\n",
      "440:\tlearn: 0.0090754\ttotal: 6m 5s\tremaining: 7m 43s\n",
      "441:\tlearn: 0.0090754\ttotal: 6m 6s\tremaining: 7m 42s\n",
      "442:\tlearn: 0.0090754\ttotal: 6m 7s\tremaining: 7m 42s\n",
      "443:\tlearn: 0.0090754\ttotal: 6m 8s\tremaining: 7m 41s\n",
      "444:\tlearn: 0.0090753\ttotal: 6m 9s\tremaining: 7m 40s\n",
      "445:\tlearn: 0.0090752\ttotal: 6m 10s\tremaining: 7m 40s\n",
      "446:\tlearn: 0.0090752\ttotal: 6m 11s\tremaining: 7m 39s\n",
      "447:\tlearn: 0.0090751\ttotal: 6m 12s\tremaining: 7m 38s\n",
      "448:\tlearn: 0.0090750\ttotal: 6m 13s\tremaining: 7m 37s\n",
      "449:\tlearn: 0.0090749\ttotal: 6m 14s\tremaining: 7m 37s\n",
      "450:\tlearn: 0.0090747\ttotal: 6m 15s\tremaining: 7m 36s\n",
      "451:\tlearn: 0.0090747\ttotal: 6m 15s\tremaining: 7m 35s\n",
      "452:\tlearn: 0.0090747\ttotal: 6m 16s\tremaining: 7m 34s\n",
      "453:\tlearn: 0.0090746\ttotal: 6m 17s\tremaining: 7m 33s\n",
      "454:\tlearn: 0.0090746\ttotal: 6m 18s\tremaining: 7m 32s\n",
      "455:\tlearn: 0.0090746\ttotal: 6m 18s\tremaining: 7m 31s\n",
      "456:\tlearn: 0.0090746\ttotal: 6m 19s\tremaining: 7m 31s\n"
     ]
    },
    {
     "name": "stdout",
     "output_type": "stream",
     "text": [
      "457:\tlearn: 0.0090745\ttotal: 6m 20s\tremaining: 7m 30s\n",
      "458:\tlearn: 0.0090745\ttotal: 6m 21s\tremaining: 7m 29s\n",
      "459:\tlearn: 0.0090745\ttotal: 6m 21s\tremaining: 7m 28s\n",
      "460:\tlearn: 0.0090744\ttotal: 6m 22s\tremaining: 7m 27s\n",
      "461:\tlearn: 0.0090744\ttotal: 6m 23s\tremaining: 7m 26s\n",
      "462:\tlearn: 0.0090744\ttotal: 6m 23s\tremaining: 7m 25s\n",
      "463:\tlearn: 0.0090744\ttotal: 6m 24s\tremaining: 7m 24s\n",
      "464:\tlearn: 0.0090744\ttotal: 6m 25s\tremaining: 7m 23s\n",
      "465:\tlearn: 0.0090744\ttotal: 6m 26s\tremaining: 7m 22s\n",
      "466:\tlearn: 0.0090743\ttotal: 6m 26s\tremaining: 7m 21s\n",
      "467:\tlearn: 0.0090743\ttotal: 6m 27s\tremaining: 7m 20s\n",
      "468:\tlearn: 0.0090743\ttotal: 6m 28s\tremaining: 7m 19s\n",
      "469:\tlearn: 0.0090742\ttotal: 6m 29s\tremaining: 7m 19s\n",
      "470:\tlearn: 0.0090742\ttotal: 6m 30s\tremaining: 7m 18s\n",
      "471:\tlearn: 0.0090741\ttotal: 6m 30s\tremaining: 7m 17s\n",
      "472:\tlearn: 0.0090741\ttotal: 6m 31s\tremaining: 7m 16s\n",
      "473:\tlearn: 0.0090741\ttotal: 6m 32s\tremaining: 7m 15s\n",
      "474:\tlearn: 0.0090741\ttotal: 6m 33s\tremaining: 7m 14s\n",
      "475:\tlearn: 0.0090740\ttotal: 6m 33s\tremaining: 7m 13s\n",
      "476:\tlearn: 0.0090740\ttotal: 6m 34s\tremaining: 7m 12s\n",
      "477:\tlearn: 0.0090740\ttotal: 6m 35s\tremaining: 7m 11s\n",
      "478:\tlearn: 0.0090740\ttotal: 6m 35s\tremaining: 7m 10s\n",
      "479:\tlearn: 0.0090739\ttotal: 6m 36s\tremaining: 7m 9s\n",
      "480:\tlearn: 0.0090739\ttotal: 6m 37s\tremaining: 7m 8s\n",
      "481:\tlearn: 0.0090738\ttotal: 6m 37s\tremaining: 7m 7s\n",
      "482:\tlearn: 0.0090738\ttotal: 6m 38s\tremaining: 7m 6s\n",
      "483:\tlearn: 0.0090738\ttotal: 6m 39s\tremaining: 7m 5s\n",
      "484:\tlearn: 0.0090737\ttotal: 6m 40s\tremaining: 7m 4s\n",
      "485:\tlearn: 0.0090737\ttotal: 6m 40s\tremaining: 7m 3s\n",
      "486:\tlearn: 0.0090736\ttotal: 6m 41s\tremaining: 7m 2s\n",
      "487:\tlearn: 0.0090735\ttotal: 6m 42s\tremaining: 7m 1s\n",
      "488:\tlearn: 0.0090735\ttotal: 6m 42s\tremaining: 7m 1s\n",
      "489:\tlearn: 0.0090734\ttotal: 6m 43s\tremaining: 7m\n",
      "490:\tlearn: 0.0090732\ttotal: 6m 44s\tremaining: 6m 59s\n",
      "491:\tlearn: 0.0090731\ttotal: 6m 45s\tremaining: 6m 58s\n",
      "492:\tlearn: 0.0090731\ttotal: 6m 46s\tremaining: 6m 57s\n",
      "493:\tlearn: 0.0090730\ttotal: 6m 46s\tremaining: 6m 56s\n",
      "494:\tlearn: 0.0090730\ttotal: 6m 47s\tremaining: 6m 55s\n",
      "495:\tlearn: 0.0090729\ttotal: 6m 48s\tremaining: 6m 54s\n",
      "496:\tlearn: 0.0090729\ttotal: 6m 49s\tremaining: 6m 54s\n",
      "497:\tlearn: 0.0090728\ttotal: 6m 49s\tremaining: 6m 53s\n",
      "498:\tlearn: 0.0090728\ttotal: 6m 50s\tremaining: 6m 52s\n",
      "499:\tlearn: 0.0090727\ttotal: 6m 51s\tremaining: 6m 51s\n",
      "500:\tlearn: 0.0090727\ttotal: 6m 51s\tremaining: 6m 50s\n",
      "501:\tlearn: 0.0090727\ttotal: 6m 53s\tremaining: 6m 50s\n",
      "502:\tlearn: 0.0090726\ttotal: 6m 54s\tremaining: 6m 49s\n",
      "503:\tlearn: 0.0090726\ttotal: 6m 55s\tremaining: 6m 48s\n",
      "504:\tlearn: 0.0090726\ttotal: 6m 56s\tremaining: 6m 47s\n",
      "505:\tlearn: 0.0090725\ttotal: 6m 56s\tremaining: 6m 47s\n",
      "506:\tlearn: 0.0090725\ttotal: 6m 57s\tremaining: 6m 46s\n",
      "507:\tlearn: 0.0090724\ttotal: 6m 58s\tremaining: 6m 45s\n",
      "508:\tlearn: 0.0090724\ttotal: 6m 59s\tremaining: 6m 44s\n",
      "509:\tlearn: 0.0090724\ttotal: 6m 59s\tremaining: 6m 43s\n",
      "510:\tlearn: 0.0090557\ttotal: 7m\tremaining: 6m 42s\n",
      "511:\tlearn: 0.0090317\ttotal: 7m 2s\tremaining: 6m 42s\n",
      "512:\tlearn: 0.0090181\ttotal: 7m 2s\tremaining: 6m 41s\n",
      "513:\tlearn: 0.0089758\ttotal: 7m 3s\tremaining: 6m 40s\n",
      "514:\tlearn: 0.0089523\ttotal: 7m 4s\tremaining: 6m 40s\n",
      "515:\tlearn: 0.0089441\ttotal: 7m 5s\tremaining: 6m 39s\n",
      "516:\tlearn: 0.0089440\ttotal: 7m 6s\tremaining: 6m 38s\n",
      "517:\tlearn: 0.0089440\ttotal: 7m 7s\tremaining: 6m 37s\n",
      "518:\tlearn: 0.0089439\ttotal: 7m 7s\tremaining: 6m 36s\n",
      "519:\tlearn: 0.0089439\ttotal: 7m 8s\tremaining: 6m 35s\n",
      "520:\tlearn: 0.0089438\ttotal: 7m 9s\tremaining: 6m 34s\n",
      "521:\tlearn: 0.0089438\ttotal: 7m 10s\tremaining: 6m 33s\n",
      "522:\tlearn: 0.0089437\ttotal: 7m 10s\tremaining: 6m 32s\n",
      "523:\tlearn: 0.0089437\ttotal: 7m 11s\tremaining: 6m 31s\n",
      "524:\tlearn: 0.0089437\ttotal: 7m 12s\tremaining: 6m 31s\n",
      "525:\tlearn: 0.0089437\ttotal: 7m 12s\tremaining: 6m 30s\n",
      "526:\tlearn: 0.0089436\ttotal: 7m 13s\tremaining: 6m 29s\n",
      "527:\tlearn: 0.0089435\ttotal: 7m 14s\tremaining: 6m 28s\n",
      "528:\tlearn: 0.0089435\ttotal: 7m 15s\tremaining: 6m 27s\n",
      "529:\tlearn: 0.0089434\ttotal: 7m 15s\tremaining: 6m 26s\n",
      "530:\tlearn: 0.0089434\ttotal: 7m 16s\tremaining: 6m 25s\n",
      "531:\tlearn: 0.0089433\ttotal: 7m 17s\tremaining: 6m 24s\n",
      "532:\tlearn: 0.0089433\ttotal: 7m 18s\tremaining: 6m 23s\n",
      "533:\tlearn: 0.0089121\ttotal: 7m 19s\tremaining: 6m 23s\n",
      "534:\tlearn: 0.0089121\ttotal: 7m 19s\tremaining: 6m 22s\n",
      "535:\tlearn: 0.0089121\ttotal: 7m 20s\tremaining: 6m 21s\n",
      "536:\tlearn: 0.0089119\ttotal: 7m 21s\tremaining: 6m 20s\n",
      "537:\tlearn: 0.0089119\ttotal: 7m 22s\tremaining: 6m 19s\n",
      "538:\tlearn: 0.0089118\ttotal: 7m 22s\tremaining: 6m 18s\n",
      "539:\tlearn: 0.0089117\ttotal: 7m 23s\tremaining: 6m 17s\n",
      "540:\tlearn: 0.0089115\ttotal: 7m 24s\tremaining: 6m 17s\n",
      "541:\tlearn: 0.0089115\ttotal: 7m 25s\tremaining: 6m 16s\n",
      "542:\tlearn: 0.0088815\ttotal: 7m 26s\tremaining: 6m 15s\n",
      "543:\tlearn: 0.0088485\ttotal: 7m 27s\tremaining: 6m 14s\n",
      "544:\tlearn: 0.0088235\ttotal: 7m 28s\tremaining: 6m 14s\n",
      "545:\tlearn: 0.0087978\ttotal: 7m 29s\tremaining: 6m 13s\n",
      "546:\tlearn: 0.0087977\ttotal: 7m 29s\tremaining: 6m 12s\n",
      "547:\tlearn: 0.0087930\ttotal: 7m 30s\tremaining: 6m 11s\n",
      "548:\tlearn: 0.0087883\ttotal: 7m 31s\tremaining: 6m 10s\n",
      "549:\tlearn: 0.0087883\ttotal: 7m 31s\tremaining: 6m 9s\n",
      "550:\tlearn: 0.0087882\ttotal: 7m 32s\tremaining: 6m 8s\n",
      "551:\tlearn: 0.0087882\ttotal: 7m 33s\tremaining: 6m 8s\n",
      "552:\tlearn: 0.0087882\ttotal: 7m 34s\tremaining: 6m 7s\n",
      "553:\tlearn: 0.0087881\ttotal: 7m 34s\tremaining: 6m 6s\n",
      "554:\tlearn: 0.0087881\ttotal: 7m 35s\tremaining: 6m 5s\n",
      "555:\tlearn: 0.0087880\ttotal: 7m 36s\tremaining: 6m 4s\n",
      "556:\tlearn: 0.0087880\ttotal: 7m 37s\tremaining: 6m 3s\n",
      "557:\tlearn: 0.0087880\ttotal: 7m 37s\tremaining: 6m 2s\n",
      "558:\tlearn: 0.0087880\ttotal: 7m 38s\tremaining: 6m 1s\n",
      "559:\tlearn: 0.0087880\ttotal: 7m 39s\tremaining: 6m\n",
      "560:\tlearn: 0.0087880\ttotal: 7m 40s\tremaining: 5m 59s\n",
      "561:\tlearn: 0.0087880\ttotal: 7m 40s\tremaining: 5m 59s\n",
      "562:\tlearn: 0.0087880\ttotal: 7m 41s\tremaining: 5m 58s\n",
      "563:\tlearn: 0.0087880\ttotal: 7m 42s\tremaining: 5m 57s\n",
      "564:\tlearn: 0.0087879\ttotal: 7m 42s\tremaining: 5m 56s\n",
      "565:\tlearn: 0.0087879\ttotal: 7m 43s\tremaining: 5m 55s\n",
      "566:\tlearn: 0.0087879\ttotal: 7m 44s\tremaining: 5m 54s\n",
      "567:\tlearn: 0.0087879\ttotal: 7m 44s\tremaining: 5m 53s\n",
      "568:\tlearn: 0.0087879\ttotal: 7m 45s\tremaining: 5m 52s\n",
      "569:\tlearn: 0.0087879\ttotal: 7m 46s\tremaining: 5m 51s\n",
      "570:\tlearn: 0.0087879\ttotal: 7m 47s\tremaining: 5m 50s\n",
      "571:\tlearn: 0.0087879\ttotal: 7m 47s\tremaining: 5m 50s\n",
      "572:\tlearn: 0.0087879\ttotal: 7m 48s\tremaining: 5m 49s\n",
      "573:\tlearn: 0.0087879\ttotal: 7m 49s\tremaining: 5m 48s\n",
      "574:\tlearn: 0.0087879\ttotal: 7m 50s\tremaining: 5m 47s\n",
      "575:\tlearn: 0.0087879\ttotal: 7m 50s\tremaining: 5m 46s\n",
      "576:\tlearn: 0.0087879\ttotal: 7m 51s\tremaining: 5m 45s\n",
      "577:\tlearn: 0.0087879\ttotal: 7m 52s\tremaining: 5m 44s\n",
      "578:\tlearn: 0.0087879\ttotal: 7m 53s\tremaining: 5m 43s\n",
      "579:\tlearn: 0.0087756\ttotal: 7m 53s\tremaining: 5m 43s\n",
      "580:\tlearn: 0.0087754\ttotal: 7m 54s\tremaining: 5m 42s\n",
      "581:\tlearn: 0.0087753\ttotal: 7m 55s\tremaining: 5m 41s\n",
      "582:\tlearn: 0.0087751\ttotal: 7m 56s\tremaining: 5m 40s\n",
      "583:\tlearn: 0.0087751\ttotal: 7m 56s\tremaining: 5m 39s\n",
      "584:\tlearn: 0.0087750\ttotal: 7m 57s\tremaining: 5m 38s\n",
      "585:\tlearn: 0.0087750\ttotal: 7m 58s\tremaining: 5m 37s\n",
      "586:\tlearn: 0.0087749\ttotal: 7m 59s\tremaining: 5m 37s\n",
      "587:\tlearn: 0.0087748\ttotal: 7m 59s\tremaining: 5m 36s\n",
      "588:\tlearn: 0.0087748\ttotal: 8m\tremaining: 5m 35s\n",
      "589:\tlearn: 0.0087748\ttotal: 8m 1s\tremaining: 5m 34s\n",
      "590:\tlearn: 0.0087746\ttotal: 8m 1s\tremaining: 5m 33s\n",
      "591:\tlearn: 0.0087746\ttotal: 8m 2s\tremaining: 5m 32s\n",
      "592:\tlearn: 0.0087746\ttotal: 8m 3s\tremaining: 5m 31s\n",
      "593:\tlearn: 0.0087745\ttotal: 8m 4s\tremaining: 5m 31s\n",
      "594:\tlearn: 0.0087744\ttotal: 8m 5s\tremaining: 5m 30s\n",
      "595:\tlearn: 0.0087743\ttotal: 8m 5s\tremaining: 5m 29s\n",
      "596:\tlearn: 0.0087741\ttotal: 8m 6s\tremaining: 5m 28s\n",
      "597:\tlearn: 0.0087741\ttotal: 8m 7s\tremaining: 5m 27s\n",
      "598:\tlearn: 0.0087740\ttotal: 8m 8s\tremaining: 5m 26s\n",
      "599:\tlearn: 0.0087740\ttotal: 8m 8s\tremaining: 5m 25s\n",
      "600:\tlearn: 0.0087739\ttotal: 8m 9s\tremaining: 5m 25s\n",
      "601:\tlearn: 0.0087739\ttotal: 8m 10s\tremaining: 5m 24s\n",
      "602:\tlearn: 0.0087737\ttotal: 8m 10s\tremaining: 5m 23s\n",
      "603:\tlearn: 0.0087737\ttotal: 8m 11s\tremaining: 5m 22s\n",
      "604:\tlearn: 0.0087736\ttotal: 8m 12s\tremaining: 5m 21s\n",
      "605:\tlearn: 0.0087735\ttotal: 8m 13s\tremaining: 5m 20s\n",
      "606:\tlearn: 0.0087735\ttotal: 8m 13s\tremaining: 5m 19s\n",
      "607:\tlearn: 0.0087733\ttotal: 8m 14s\tremaining: 5m 18s\n",
      "608:\tlearn: 0.0087732\ttotal: 8m 15s\tremaining: 5m 17s\n",
      "609:\tlearn: 0.0087732\ttotal: 8m 15s\tremaining: 5m 17s\n"
     ]
    },
    {
     "name": "stdout",
     "output_type": "stream",
     "text": [
      "610:\tlearn: 0.0087732\ttotal: 8m 16s\tremaining: 5m 16s\n",
      "611:\tlearn: 0.0087732\ttotal: 8m 17s\tremaining: 5m 15s\n",
      "612:\tlearn: 0.0087731\ttotal: 8m 18s\tremaining: 5m 14s\n",
      "613:\tlearn: 0.0087731\ttotal: 8m 18s\tremaining: 5m 13s\n",
      "614:\tlearn: 0.0087731\ttotal: 8m 19s\tremaining: 5m 12s\n",
      "615:\tlearn: 0.0087731\ttotal: 8m 20s\tremaining: 5m 11s\n",
      "616:\tlearn: 0.0087730\ttotal: 8m 21s\tremaining: 5m 11s\n",
      "617:\tlearn: 0.0087729\ttotal: 8m 22s\tremaining: 5m 10s\n",
      "618:\tlearn: 0.0087729\ttotal: 8m 22s\tremaining: 5m 9s\n",
      "619:\tlearn: 0.0087729\ttotal: 8m 23s\tremaining: 5m 8s\n",
      "620:\tlearn: 0.0087729\ttotal: 8m 24s\tremaining: 5m 7s\n",
      "621:\tlearn: 0.0087728\ttotal: 8m 24s\tremaining: 5m 6s\n",
      "622:\tlearn: 0.0087728\ttotal: 8m 25s\tremaining: 5m 5s\n",
      "623:\tlearn: 0.0087728\ttotal: 8m 26s\tremaining: 5m 5s\n",
      "624:\tlearn: 0.0087727\ttotal: 8m 27s\tremaining: 5m 4s\n",
      "625:\tlearn: 0.0087726\ttotal: 8m 28s\tremaining: 5m 3s\n",
      "626:\tlearn: 0.0087725\ttotal: 8m 28s\tremaining: 5m 2s\n",
      "627:\tlearn: 0.0087725\ttotal: 8m 29s\tremaining: 5m 1s\n",
      "628:\tlearn: 0.0087725\ttotal: 8m 30s\tremaining: 5m 1s\n",
      "629:\tlearn: 0.0087725\ttotal: 8m 31s\tremaining: 5m\n",
      "630:\tlearn: 0.0087725\ttotal: 8m 31s\tremaining: 4m 59s\n",
      "631:\tlearn: 0.0087725\ttotal: 8m 32s\tremaining: 4m 58s\n",
      "632:\tlearn: 0.0087725\ttotal: 8m 33s\tremaining: 4m 57s\n",
      "633:\tlearn: 0.0087725\ttotal: 8m 34s\tremaining: 4m 56s\n",
      "634:\tlearn: 0.0087725\ttotal: 8m 34s\tremaining: 4m 55s\n",
      "635:\tlearn: 0.0087725\ttotal: 8m 35s\tremaining: 4m 55s\n",
      "636:\tlearn: 0.0087725\ttotal: 8m 36s\tremaining: 4m 54s\n",
      "637:\tlearn: 0.0087725\ttotal: 8m 37s\tremaining: 4m 53s\n",
      "638:\tlearn: 0.0087725\ttotal: 8m 37s\tremaining: 4m 52s\n",
      "639:\tlearn: 0.0087725\ttotal: 8m 38s\tremaining: 4m 51s\n",
      "640:\tlearn: 0.0087725\ttotal: 8m 39s\tremaining: 4m 50s\n",
      "641:\tlearn: 0.0087725\ttotal: 8m 40s\tremaining: 4m 49s\n",
      "642:\tlearn: 0.0087725\ttotal: 8m 40s\tremaining: 4m 49s\n",
      "643:\tlearn: 0.0087724\ttotal: 8m 41s\tremaining: 4m 48s\n",
      "644:\tlearn: 0.0087723\ttotal: 8m 42s\tremaining: 4m 47s\n",
      "645:\tlearn: 0.0087720\ttotal: 8m 42s\tremaining: 4m 46s\n",
      "646:\tlearn: 0.0087719\ttotal: 8m 43s\tremaining: 4m 45s\n",
      "647:\tlearn: 0.0087719\ttotal: 8m 44s\tremaining: 4m 44s\n",
      "648:\tlearn: 0.0087718\ttotal: 8m 45s\tremaining: 4m 43s\n",
      "649:\tlearn: 0.0087717\ttotal: 8m 45s\tremaining: 4m 43s\n",
      "650:\tlearn: 0.0087716\ttotal: 8m 46s\tremaining: 4m 42s\n",
      "651:\tlearn: 0.0087716\ttotal: 8m 47s\tremaining: 4m 41s\n",
      "652:\tlearn: 0.0087716\ttotal: 8m 47s\tremaining: 4m 40s\n",
      "653:\tlearn: 0.0087716\ttotal: 8m 48s\tremaining: 4m 39s\n",
      "654:\tlearn: 0.0087716\ttotal: 8m 49s\tremaining: 4m 38s\n",
      "655:\tlearn: 0.0087716\ttotal: 8m 49s\tremaining: 4m 37s\n",
      "656:\tlearn: 0.0087716\ttotal: 8m 50s\tremaining: 4m 37s\n",
      "657:\tlearn: 0.0087716\ttotal: 8m 51s\tremaining: 4m 36s\n",
      "658:\tlearn: 0.0087716\ttotal: 8m 52s\tremaining: 4m 35s\n",
      "659:\tlearn: 0.0087716\ttotal: 8m 53s\tremaining: 4m 34s\n",
      "660:\tlearn: 0.0087669\ttotal: 8m 54s\tremaining: 4m 33s\n",
      "661:\tlearn: 0.0087668\ttotal: 8m 54s\tremaining: 4m 33s\n",
      "662:\tlearn: 0.0087668\ttotal: 8m 55s\tremaining: 4m 32s\n",
      "663:\tlearn: 0.0087668\ttotal: 8m 56s\tremaining: 4m 31s\n",
      "664:\tlearn: 0.0087668\ttotal: 8m 56s\tremaining: 4m 30s\n",
      "665:\tlearn: 0.0087668\ttotal: 8m 57s\tremaining: 4m 29s\n",
      "666:\tlearn: 0.0087668\ttotal: 8m 58s\tremaining: 4m 28s\n",
      "667:\tlearn: 0.0087494\ttotal: 8m 59s\tremaining: 4m 28s\n",
      "668:\tlearn: 0.0087494\ttotal: 9m\tremaining: 4m 27s\n",
      "669:\tlearn: 0.0087492\ttotal: 9m\tremaining: 4m 26s\n",
      "670:\tlearn: 0.0087223\ttotal: 9m 1s\tremaining: 4m 25s\n",
      "671:\tlearn: 0.0086987\ttotal: 9m 2s\tremaining: 4m 24s\n",
      "672:\tlearn: 0.0086782\ttotal: 9m 3s\tremaining: 4m 24s\n",
      "673:\tlearn: 0.0086617\ttotal: 9m 4s\tremaining: 4m 23s\n",
      "674:\tlearn: 0.0086510\ttotal: 9m 5s\tremaining: 4m 22s\n",
      "675:\tlearn: 0.0086292\ttotal: 9m 6s\tremaining: 4m 21s\n",
      "676:\tlearn: 0.0086291\ttotal: 9m 7s\tremaining: 4m 21s\n",
      "677:\tlearn: 0.0086290\ttotal: 9m 8s\tremaining: 4m 20s\n",
      "678:\tlearn: 0.0086290\ttotal: 9m 9s\tremaining: 4m 19s\n",
      "679:\tlearn: 0.0086290\ttotal: 9m 10s\tremaining: 4m 18s\n",
      "680:\tlearn: 0.0086289\ttotal: 9m 10s\tremaining: 4m 18s\n",
      "681:\tlearn: 0.0086289\ttotal: 9m 11s\tremaining: 4m 17s\n",
      "682:\tlearn: 0.0086289\ttotal: 9m 12s\tremaining: 4m 16s\n",
      "683:\tlearn: 0.0086289\ttotal: 9m 13s\tremaining: 4m 15s\n",
      "684:\tlearn: 0.0086288\ttotal: 9m 14s\tremaining: 4m 14s\n",
      "685:\tlearn: 0.0086288\ttotal: 9m 14s\tremaining: 4m 13s\n",
      "686:\tlearn: 0.0086288\ttotal: 9m 15s\tremaining: 4m 13s\n",
      "687:\tlearn: 0.0086288\ttotal: 9m 16s\tremaining: 4m 12s\n",
      "688:\tlearn: 0.0086287\ttotal: 9m 17s\tremaining: 4m 11s\n",
      "689:\tlearn: 0.0086286\ttotal: 9m 17s\tremaining: 4m 10s\n",
      "690:\tlearn: 0.0086286\ttotal: 9m 18s\tremaining: 4m 9s\n",
      "691:\tlearn: 0.0086286\ttotal: 9m 19s\tremaining: 4m 8s\n",
      "692:\tlearn: 0.0086286\ttotal: 9m 20s\tremaining: 4m 8s\n",
      "693:\tlearn: 0.0086285\ttotal: 9m 20s\tremaining: 4m 7s\n",
      "694:\tlearn: 0.0086284\ttotal: 9m 21s\tremaining: 4m 6s\n",
      "695:\tlearn: 0.0086283\ttotal: 9m 22s\tremaining: 4m 5s\n",
      "696:\tlearn: 0.0086283\ttotal: 9m 23s\tremaining: 4m 4s\n",
      "697:\tlearn: 0.0086282\ttotal: 9m 23s\tremaining: 4m 4s\n",
      "698:\tlearn: 0.0086282\ttotal: 9m 24s\tremaining: 4m 3s\n",
      "699:\tlearn: 0.0086282\ttotal: 9m 25s\tremaining: 4m 2s\n",
      "700:\tlearn: 0.0086281\ttotal: 9m 26s\tremaining: 4m 1s\n",
      "701:\tlearn: 0.0086280\ttotal: 9m 27s\tremaining: 4m\n",
      "702:\tlearn: 0.0086280\ttotal: 9m 28s\tremaining: 3m 59s\n",
      "703:\tlearn: 0.0086279\ttotal: 9m 28s\tremaining: 3m 59s\n",
      "704:\tlearn: 0.0086279\ttotal: 9m 29s\tremaining: 3m 58s\n",
      "705:\tlearn: 0.0086279\ttotal: 9m 30s\tremaining: 3m 57s\n",
      "706:\tlearn: 0.0086278\ttotal: 9m 31s\tremaining: 3m 56s\n",
      "707:\tlearn: 0.0086278\ttotal: 9m 31s\tremaining: 3m 55s\n",
      "708:\tlearn: 0.0086277\ttotal: 9m 32s\tremaining: 3m 55s\n",
      "709:\tlearn: 0.0086277\ttotal: 9m 33s\tremaining: 3m 54s\n",
      "710:\tlearn: 0.0086277\ttotal: 9m 34s\tremaining: 3m 53s\n",
      "711:\tlearn: 0.0086277\ttotal: 9m 34s\tremaining: 3m 52s\n",
      "712:\tlearn: 0.0086112\ttotal: 9m 35s\tremaining: 3m 51s\n",
      "713:\tlearn: 0.0086006\ttotal: 9m 36s\tremaining: 3m 50s\n",
      "714:\tlearn: 0.0086006\ttotal: 9m 37s\tremaining: 3m 50s\n",
      "715:\tlearn: 0.0085896\ttotal: 9m 38s\tremaining: 3m 49s\n",
      "716:\tlearn: 0.0085709\ttotal: 9m 39s\tremaining: 3m 48s\n",
      "717:\tlearn: 0.0085499\ttotal: 9m 40s\tremaining: 3m 47s\n",
      "718:\tlearn: 0.0085391\ttotal: 9m 41s\tremaining: 3m 47s\n",
      "719:\tlearn: 0.0085391\ttotal: 9m 41s\tremaining: 3m 46s\n",
      "720:\tlearn: 0.0085279\ttotal: 9m 42s\tremaining: 3m 45s\n",
      "721:\tlearn: 0.0085220\ttotal: 9m 43s\tremaining: 3m 44s\n",
      "722:\tlearn: 0.0084926\ttotal: 9m 44s\tremaining: 3m 43s\n",
      "723:\tlearn: 0.0084783\ttotal: 9m 46s\tremaining: 3m 43s\n",
      "724:\tlearn: 0.0084782\ttotal: 9m 46s\tremaining: 3m 42s\n",
      "725:\tlearn: 0.0084782\ttotal: 9m 48s\tremaining: 3m 41s\n",
      "726:\tlearn: 0.0084782\ttotal: 9m 49s\tremaining: 3m 41s\n",
      "727:\tlearn: 0.0084781\ttotal: 9m 49s\tremaining: 3m 40s\n",
      "728:\tlearn: 0.0084780\ttotal: 9m 50s\tremaining: 3m 39s\n",
      "729:\tlearn: 0.0084780\ttotal: 9m 51s\tremaining: 3m 38s\n",
      "730:\tlearn: 0.0084780\ttotal: 9m 51s\tremaining: 3m 37s\n",
      "731:\tlearn: 0.0084780\ttotal: 9m 52s\tremaining: 3m 36s\n",
      "732:\tlearn: 0.0084780\ttotal: 9m 53s\tremaining: 3m 36s\n",
      "733:\tlearn: 0.0084479\ttotal: 9m 54s\tremaining: 3m 35s\n",
      "734:\tlearn: 0.0084479\ttotal: 9m 54s\tremaining: 3m 34s\n",
      "735:\tlearn: 0.0084478\ttotal: 9m 55s\tremaining: 3m 33s\n",
      "736:\tlearn: 0.0084478\ttotal: 9m 56s\tremaining: 3m 32s\n",
      "737:\tlearn: 0.0084478\ttotal: 9m 57s\tremaining: 3m 32s\n",
      "738:\tlearn: 0.0084478\ttotal: 9m 58s\tremaining: 3m 31s\n",
      "739:\tlearn: 0.0084478\ttotal: 9m 58s\tremaining: 3m 30s\n",
      "740:\tlearn: 0.0084478\ttotal: 9m 59s\tremaining: 3m 29s\n",
      "741:\tlearn: 0.0084478\ttotal: 10m\tremaining: 3m 28s\n",
      "742:\tlearn: 0.0084478\ttotal: 10m\tremaining: 3m 27s\n",
      "743:\tlearn: 0.0084478\ttotal: 10m 1s\tremaining: 3m 26s\n",
      "744:\tlearn: 0.0084477\ttotal: 10m 2s\tremaining: 3m 26s\n",
      "745:\tlearn: 0.0084477\ttotal: 10m 3s\tremaining: 3m 25s\n",
      "746:\tlearn: 0.0084477\ttotal: 10m 4s\tremaining: 3m 24s\n",
      "747:\tlearn: 0.0084477\ttotal: 10m 4s\tremaining: 3m 23s\n",
      "748:\tlearn: 0.0084476\ttotal: 10m 5s\tremaining: 3m 22s\n",
      "749:\tlearn: 0.0084476\ttotal: 10m 6s\tremaining: 3m 22s\n",
      "750:\tlearn: 0.0084476\ttotal: 10m 7s\tremaining: 3m 21s\n",
      "751:\tlearn: 0.0084476\ttotal: 10m 7s\tremaining: 3m 20s\n",
      "752:\tlearn: 0.0084475\ttotal: 10m 8s\tremaining: 3m 19s\n",
      "753:\tlearn: 0.0084475\ttotal: 10m 9s\tremaining: 3m 18s\n",
      "754:\tlearn: 0.0084475\ttotal: 10m 10s\tremaining: 3m 17s\n",
      "755:\tlearn: 0.0084474\ttotal: 10m 10s\tremaining: 3m 17s\n",
      "756:\tlearn: 0.0084474\ttotal: 10m 11s\tremaining: 3m 16s\n",
      "757:\tlearn: 0.0084474\ttotal: 10m 12s\tremaining: 3m 15s\n",
      "758:\tlearn: 0.0084474\ttotal: 10m 13s\tremaining: 3m 14s\n",
      "759:\tlearn: 0.0084474\ttotal: 10m 14s\tremaining: 3m 13s\n",
      "760:\tlearn: 0.0084474\ttotal: 10m 14s\tremaining: 3m 13s\n",
      "761:\tlearn: 0.0084474\ttotal: 10m 15s\tremaining: 3m 12s\n",
      "762:\tlearn: 0.0084474\ttotal: 10m 16s\tremaining: 3m 11s\n"
     ]
    },
    {
     "name": "stdout",
     "output_type": "stream",
     "text": [
      "763:\tlearn: 0.0084474\ttotal: 10m 17s\tremaining: 3m 10s\n",
      "764:\tlearn: 0.0084473\ttotal: 10m 17s\tremaining: 3m 9s\n",
      "765:\tlearn: 0.0084473\ttotal: 10m 18s\tremaining: 3m 8s\n",
      "766:\tlearn: 0.0084473\ttotal: 10m 19s\tremaining: 3m 8s\n",
      "767:\tlearn: 0.0084473\ttotal: 10m 19s\tremaining: 3m 7s\n",
      "768:\tlearn: 0.0084473\ttotal: 10m 20s\tremaining: 3m 6s\n",
      "769:\tlearn: 0.0084472\ttotal: 10m 21s\tremaining: 3m 5s\n",
      "770:\tlearn: 0.0084472\ttotal: 10m 21s\tremaining: 3m 4s\n",
      "771:\tlearn: 0.0084472\ttotal: 10m 22s\tremaining: 3m 3s\n",
      "772:\tlearn: 0.0084472\ttotal: 10m 23s\tremaining: 3m 3s\n",
      "773:\tlearn: 0.0084472\ttotal: 10m 24s\tremaining: 3m 2s\n",
      "774:\tlearn: 0.0084472\ttotal: 10m 24s\tremaining: 3m 1s\n",
      "775:\tlearn: 0.0084471\ttotal: 10m 25s\tremaining: 3m\n",
      "776:\tlearn: 0.0084471\ttotal: 10m 26s\tremaining: 2m 59s\n",
      "777:\tlearn: 0.0084402\ttotal: 10m 27s\tremaining: 2m 58s\n",
      "778:\tlearn: 0.0084402\ttotal: 10m 27s\tremaining: 2m 58s\n",
      "779:\tlearn: 0.0084402\ttotal: 10m 29s\tremaining: 2m 57s\n",
      "780:\tlearn: 0.0084402\ttotal: 10m 29s\tremaining: 2m 56s\n",
      "781:\tlearn: 0.0084402\ttotal: 10m 30s\tremaining: 2m 55s\n",
      "782:\tlearn: 0.0084402\ttotal: 10m 31s\tremaining: 2m 54s\n",
      "783:\tlearn: 0.0084401\ttotal: 10m 32s\tremaining: 2m 54s\n",
      "784:\tlearn: 0.0084401\ttotal: 10m 32s\tremaining: 2m 53s\n",
      "785:\tlearn: 0.0084296\ttotal: 10m 33s\tremaining: 2m 52s\n",
      "786:\tlearn: 0.0084296\ttotal: 10m 34s\tremaining: 2m 51s\n",
      "787:\tlearn: 0.0083991\ttotal: 10m 35s\tremaining: 2m 50s\n",
      "788:\tlearn: 0.0083889\ttotal: 10m 36s\tremaining: 2m 50s\n",
      "789:\tlearn: 0.0083771\ttotal: 10m 37s\tremaining: 2m 49s\n",
      "790:\tlearn: 0.0083585\ttotal: 10m 38s\tremaining: 2m 48s\n",
      "791:\tlearn: 0.0083277\ttotal: 10m 39s\tremaining: 2m 47s\n",
      "792:\tlearn: 0.0083274\ttotal: 10m 39s\tremaining: 2m 47s\n",
      "793:\tlearn: 0.0083273\ttotal: 10m 40s\tremaining: 2m 46s\n",
      "794:\tlearn: 0.0083273\ttotal: 10m 41s\tremaining: 2m 45s\n",
      "795:\tlearn: 0.0083273\ttotal: 10m 42s\tremaining: 2m 44s\n",
      "796:\tlearn: 0.0083272\ttotal: 10m 42s\tremaining: 2m 43s\n",
      "797:\tlearn: 0.0083272\ttotal: 10m 43s\tremaining: 2m 42s\n",
      "798:\tlearn: 0.0083272\ttotal: 10m 44s\tremaining: 2m 42s\n",
      "799:\tlearn: 0.0083080\ttotal: 10m 45s\tremaining: 2m 41s\n",
      "800:\tlearn: 0.0082940\ttotal: 10m 46s\tremaining: 2m 40s\n",
      "801:\tlearn: 0.0082774\ttotal: 10m 47s\tremaining: 2m 39s\n",
      "802:\tlearn: 0.0082774\ttotal: 10m 48s\tremaining: 2m 38s\n",
      "803:\tlearn: 0.0082774\ttotal: 10m 48s\tremaining: 2m 38s\n",
      "804:\tlearn: 0.0082774\ttotal: 10m 49s\tremaining: 2m 37s\n",
      "805:\tlearn: 0.0082774\ttotal: 10m 49s\tremaining: 2m 36s\n",
      "806:\tlearn: 0.0082774\ttotal: 10m 50s\tremaining: 2m 35s\n",
      "807:\tlearn: 0.0082638\ttotal: 10m 51s\tremaining: 2m 34s\n",
      "808:\tlearn: 0.0082638\ttotal: 10m 52s\tremaining: 2m 33s\n",
      "809:\tlearn: 0.0082638\ttotal: 10m 53s\tremaining: 2m 33s\n",
      "810:\tlearn: 0.0082341\ttotal: 10m 54s\tremaining: 2m 32s\n",
      "811:\tlearn: 0.0082341\ttotal: 10m 54s\tremaining: 2m 31s\n",
      "812:\tlearn: 0.0082341\ttotal: 10m 55s\tremaining: 2m 30s\n",
      "813:\tlearn: 0.0082341\ttotal: 10m 56s\tremaining: 2m 29s\n",
      "814:\tlearn: 0.0082341\ttotal: 10m 56s\tremaining: 2m 29s\n",
      "815:\tlearn: 0.0082341\ttotal: 10m 57s\tremaining: 2m 28s\n",
      "816:\tlearn: 0.0082341\ttotal: 10m 58s\tremaining: 2m 27s\n",
      "817:\tlearn: 0.0082341\ttotal: 10m 58s\tremaining: 2m 26s\n",
      "818:\tlearn: 0.0082341\ttotal: 10m 59s\tremaining: 2m 25s\n",
      "819:\tlearn: 0.0082341\ttotal: 11m\tremaining: 2m 24s\n",
      "820:\tlearn: 0.0082341\ttotal: 11m\tremaining: 2m 24s\n",
      "821:\tlearn: 0.0082341\ttotal: 11m 1s\tremaining: 2m 23s\n",
      "822:\tlearn: 0.0082341\ttotal: 11m 2s\tremaining: 2m 22s\n",
      "823:\tlearn: 0.0082341\ttotal: 11m 2s\tremaining: 2m 21s\n",
      "824:\tlearn: 0.0082341\ttotal: 11m 3s\tremaining: 2m 20s\n",
      "825:\tlearn: 0.0082341\ttotal: 11m 4s\tremaining: 2m 19s\n",
      "826:\tlearn: 0.0082341\ttotal: 11m 4s\tremaining: 2m 19s\n",
      "827:\tlearn: 0.0082341\ttotal: 11m 5s\tremaining: 2m 18s\n",
      "828:\tlearn: 0.0082341\ttotal: 11m 5s\tremaining: 2m 17s\n",
      "829:\tlearn: 0.0082341\ttotal: 11m 6s\tremaining: 2m 16s\n",
      "830:\tlearn: 0.0082341\ttotal: 11m 7s\tremaining: 2m 15s\n",
      "831:\tlearn: 0.0082341\ttotal: 11m 8s\tremaining: 2m 14s\n",
      "832:\tlearn: 0.0082341\ttotal: 11m 8s\tremaining: 2m 14s\n",
      "833:\tlearn: 0.0082341\ttotal: 11m 9s\tremaining: 2m 13s\n",
      "834:\tlearn: 0.0082341\ttotal: 11m 10s\tremaining: 2m 12s\n",
      "835:\tlearn: 0.0082341\ttotal: 11m 11s\tremaining: 2m 11s\n",
      "836:\tlearn: 0.0082341\ttotal: 11m 12s\tremaining: 2m 10s\n",
      "837:\tlearn: 0.0082341\ttotal: 11m 12s\tremaining: 2m 10s\n",
      "838:\tlearn: 0.0082341\ttotal: 11m 13s\tremaining: 2m 9s\n",
      "839:\tlearn: 0.0082341\ttotal: 11m 14s\tremaining: 2m 8s\n",
      "840:\tlearn: 0.0082341\ttotal: 11m 14s\tremaining: 2m 7s\n",
      "841:\tlearn: 0.0082341\ttotal: 11m 15s\tremaining: 2m 6s\n",
      "842:\tlearn: 0.0082340\ttotal: 11m 16s\tremaining: 2m 5s\n",
      "843:\tlearn: 0.0082340\ttotal: 11m 17s\tremaining: 2m 5s\n",
      "844:\tlearn: 0.0082340\ttotal: 11m 18s\tremaining: 2m 4s\n",
      "845:\tlearn: 0.0082340\ttotal: 11m 18s\tremaining: 2m 3s\n",
      "846:\tlearn: 0.0082340\ttotal: 11m 19s\tremaining: 2m 2s\n",
      "847:\tlearn: 0.0082340\ttotal: 11m 20s\tremaining: 2m 1s\n",
      "848:\tlearn: 0.0082340\ttotal: 11m 20s\tremaining: 2m 1s\n",
      "849:\tlearn: 0.0082340\ttotal: 11m 21s\tremaining: 2m\n",
      "850:\tlearn: 0.0082340\ttotal: 11m 22s\tremaining: 1m 59s\n",
      "851:\tlearn: 0.0082340\ttotal: 11m 22s\tremaining: 1m 58s\n",
      "852:\tlearn: 0.0082340\ttotal: 11m 23s\tremaining: 1m 57s\n",
      "853:\tlearn: 0.0082340\ttotal: 11m 23s\tremaining: 1m 56s\n",
      "854:\tlearn: 0.0082340\ttotal: 11m 24s\tremaining: 1m 56s\n",
      "855:\tlearn: 0.0082340\ttotal: 11m 25s\tremaining: 1m 55s\n",
      "856:\tlearn: 0.0082340\ttotal: 11m 25s\tremaining: 1m 54s\n",
      "857:\tlearn: 0.0082340\ttotal: 11m 26s\tremaining: 1m 53s\n",
      "858:\tlearn: 0.0082340\ttotal: 11m 26s\tremaining: 1m 52s\n",
      "859:\tlearn: 0.0082340\ttotal: 11m 27s\tremaining: 1m 51s\n",
      "860:\tlearn: 0.0082340\ttotal: 11m 28s\tremaining: 1m 51s\n",
      "861:\tlearn: 0.0082340\ttotal: 11m 28s\tremaining: 1m 50s\n",
      "862:\tlearn: 0.0082340\ttotal: 11m 29s\tremaining: 1m 49s\n",
      "863:\tlearn: 0.0082340\ttotal: 11m 30s\tremaining: 1m 48s\n",
      "864:\tlearn: 0.0082340\ttotal: 11m 30s\tremaining: 1m 47s\n",
      "865:\tlearn: 0.0082340\ttotal: 11m 31s\tremaining: 1m 46s\n",
      "866:\tlearn: 0.0082340\ttotal: 11m 31s\tremaining: 1m 46s\n",
      "867:\tlearn: 0.0082340\ttotal: 11m 32s\tremaining: 1m 45s\n",
      "868:\tlearn: 0.0082340\ttotal: 11m 33s\tremaining: 1m 44s\n",
      "869:\tlearn: 0.0082340\ttotal: 11m 34s\tremaining: 1m 43s\n",
      "870:\tlearn: 0.0082340\ttotal: 11m 34s\tremaining: 1m 42s\n",
      "871:\tlearn: 0.0082340\ttotal: 11m 35s\tremaining: 1m 42s\n",
      "872:\tlearn: 0.0082340\ttotal: 11m 36s\tremaining: 1m 41s\n",
      "873:\tlearn: 0.0082340\ttotal: 11m 36s\tremaining: 1m 40s\n",
      "874:\tlearn: 0.0082340\ttotal: 11m 37s\tremaining: 1m 39s\n",
      "875:\tlearn: 0.0082340\ttotal: 11m 37s\tremaining: 1m 38s\n",
      "876:\tlearn: 0.0082340\ttotal: 11m 38s\tremaining: 1m 37s\n",
      "877:\tlearn: 0.0082340\ttotal: 11m 39s\tremaining: 1m 37s\n",
      "878:\tlearn: 0.0082340\ttotal: 11m 39s\tremaining: 1m 36s\n",
      "879:\tlearn: 0.0082340\ttotal: 11m 40s\tremaining: 1m 35s\n",
      "880:\tlearn: 0.0082340\ttotal: 11m 40s\tremaining: 1m 34s\n",
      "881:\tlearn: 0.0082340\ttotal: 11m 41s\tremaining: 1m 33s\n",
      "882:\tlearn: 0.0082340\ttotal: 11m 42s\tremaining: 1m 33s\n",
      "883:\tlearn: 0.0082340\ttotal: 11m 42s\tremaining: 1m 32s\n",
      "884:\tlearn: 0.0082340\ttotal: 11m 43s\tremaining: 1m 31s\n",
      "885:\tlearn: 0.0082340\ttotal: 11m 44s\tremaining: 1m 30s\n",
      "886:\tlearn: 0.0082340\ttotal: 11m 44s\tremaining: 1m 29s\n",
      "887:\tlearn: 0.0082340\ttotal: 11m 45s\tremaining: 1m 28s\n",
      "888:\tlearn: 0.0082340\ttotal: 11m 45s\tremaining: 1m 28s\n",
      "889:\tlearn: 0.0082339\ttotal: 11m 46s\tremaining: 1m 27s\n",
      "890:\tlearn: 0.0082339\ttotal: 11m 47s\tremaining: 1m 26s\n",
      "891:\tlearn: 0.0082339\ttotal: 11m 47s\tremaining: 1m 25s\n",
      "892:\tlearn: 0.0082339\ttotal: 11m 48s\tremaining: 1m 24s\n",
      "893:\tlearn: 0.0082339\ttotal: 11m 49s\tremaining: 1m 24s\n",
      "894:\tlearn: 0.0082339\ttotal: 11m 50s\tremaining: 1m 23s\n",
      "895:\tlearn: 0.0082339\ttotal: 11m 51s\tremaining: 1m 22s\n",
      "896:\tlearn: 0.0082339\ttotal: 11m 51s\tremaining: 1m 21s\n",
      "897:\tlearn: 0.0082339\ttotal: 11m 52s\tremaining: 1m 20s\n",
      "898:\tlearn: 0.0082339\ttotal: 11m 53s\tremaining: 1m 20s\n",
      "899:\tlearn: 0.0082339\ttotal: 11m 54s\tremaining: 1m 19s\n",
      "900:\tlearn: 0.0082339\ttotal: 11m 54s\tremaining: 1m 18s\n",
      "901:\tlearn: 0.0082339\ttotal: 11m 55s\tremaining: 1m 17s\n",
      "902:\tlearn: 0.0082339\ttotal: 11m 55s\tremaining: 1m 16s\n",
      "903:\tlearn: 0.0082339\ttotal: 11m 56s\tremaining: 1m 16s\n",
      "904:\tlearn: 0.0082339\ttotal: 11m 57s\tremaining: 1m 15s\n",
      "905:\tlearn: 0.0082339\ttotal: 11m 57s\tremaining: 1m 14s\n",
      "906:\tlearn: 0.0082339\ttotal: 11m 58s\tremaining: 1m 13s\n",
      "907:\tlearn: 0.0082339\ttotal: 11m 59s\tremaining: 1m 12s\n",
      "908:\tlearn: 0.0082339\ttotal: 11m 59s\tremaining: 1m 12s\n",
      "909:\tlearn: 0.0082339\ttotal: 12m\tremaining: 1m 11s\n",
      "910:\tlearn: 0.0082339\ttotal: 12m\tremaining: 1m 10s\n",
      "911:\tlearn: 0.0082339\ttotal: 12m 1s\tremaining: 1m 9s\n",
      "912:\tlearn: 0.0082339\ttotal: 12m 2s\tremaining: 1m 8s\n",
      "913:\tlearn: 0.0082339\ttotal: 12m 3s\tremaining: 1m 8s\n"
     ]
    },
    {
     "name": "stdout",
     "output_type": "stream",
     "text": [
      "914:\tlearn: 0.0082339\ttotal: 12m 4s\tremaining: 1m 7s\n",
      "915:\tlearn: 0.0082339\ttotal: 12m 5s\tremaining: 1m 6s\n",
      "916:\tlearn: 0.0082339\ttotal: 12m 6s\tremaining: 1m 5s\n",
      "917:\tlearn: 0.0082339\ttotal: 12m 7s\tremaining: 1m 4s\n",
      "918:\tlearn: 0.0082339\ttotal: 12m 7s\tremaining: 1m 4s\n",
      "919:\tlearn: 0.0082339\ttotal: 12m 8s\tremaining: 1m 3s\n",
      "920:\tlearn: 0.0082339\ttotal: 12m 9s\tremaining: 1m 2s\n",
      "921:\tlearn: 0.0082339\ttotal: 12m 9s\tremaining: 1m 1s\n",
      "922:\tlearn: 0.0082339\ttotal: 12m 10s\tremaining: 1m\n",
      "923:\tlearn: 0.0082339\ttotal: 12m 10s\tremaining: 1m\n",
      "924:\tlearn: 0.0082339\ttotal: 12m 11s\tremaining: 59.3s\n",
      "925:\tlearn: 0.0082339\ttotal: 12m 12s\tremaining: 58.5s\n",
      "926:\tlearn: 0.0082339\ttotal: 12m 12s\tremaining: 57.7s\n",
      "927:\tlearn: 0.0082339\ttotal: 12m 13s\tremaining: 56.9s\n",
      "928:\tlearn: 0.0082339\ttotal: 12m 14s\tremaining: 56.1s\n",
      "929:\tlearn: 0.0082339\ttotal: 12m 14s\tremaining: 55.3s\n",
      "930:\tlearn: 0.0082339\ttotal: 12m 15s\tremaining: 54.5s\n",
      "931:\tlearn: 0.0082339\ttotal: 12m 15s\tremaining: 53.7s\n",
      "932:\tlearn: 0.0082339\ttotal: 12m 16s\tremaining: 52.9s\n",
      "933:\tlearn: 0.0082339\ttotal: 12m 17s\tremaining: 52.1s\n",
      "934:\tlearn: 0.0082339\ttotal: 12m 17s\tremaining: 51.3s\n",
      "935:\tlearn: 0.0082339\ttotal: 12m 18s\tremaining: 50.5s\n",
      "936:\tlearn: 0.0082339\ttotal: 12m 18s\tremaining: 49.7s\n",
      "937:\tlearn: 0.0082339\ttotal: 12m 19s\tremaining: 48.9s\n",
      "938:\tlearn: 0.0082339\ttotal: 12m 20s\tremaining: 48.1s\n",
      "939:\tlearn: 0.0082339\ttotal: 12m 21s\tremaining: 47.3s\n",
      "940:\tlearn: 0.0082339\ttotal: 12m 21s\tremaining: 46.5s\n",
      "941:\tlearn: 0.0082339\ttotal: 12m 22s\tremaining: 45.7s\n",
      "942:\tlearn: 0.0082339\ttotal: 12m 23s\tremaining: 44.9s\n",
      "943:\tlearn: 0.0082339\ttotal: 12m 23s\tremaining: 44.1s\n",
      "944:\tlearn: 0.0082339\ttotal: 12m 24s\tremaining: 43.3s\n",
      "945:\tlearn: 0.0082339\ttotal: 12m 24s\tremaining: 42.5s\n",
      "946:\tlearn: 0.0082339\ttotal: 12m 25s\tremaining: 41.7s\n",
      "947:\tlearn: 0.0082339\ttotal: 12m 26s\tremaining: 40.9s\n",
      "948:\tlearn: 0.0082339\ttotal: 12m 26s\tremaining: 40.1s\n",
      "949:\tlearn: 0.0082339\ttotal: 12m 27s\tremaining: 39.3s\n",
      "950:\tlearn: 0.0082231\ttotal: 12m 28s\tremaining: 38.6s\n",
      "951:\tlearn: 0.0082231\ttotal: 12m 29s\tremaining: 37.8s\n",
      "952:\tlearn: 0.0082231\ttotal: 12m 29s\tremaining: 37s\n",
      "953:\tlearn: 0.0082230\ttotal: 12m 30s\tremaining: 36.2s\n",
      "954:\tlearn: 0.0082230\ttotal: 12m 31s\tremaining: 35.4s\n",
      "955:\tlearn: 0.0082230\ttotal: 12m 31s\tremaining: 34.6s\n",
      "956:\tlearn: 0.0082230\ttotal: 12m 32s\tremaining: 33.8s\n",
      "957:\tlearn: 0.0082230\ttotal: 12m 33s\tremaining: 33s\n",
      "958:\tlearn: 0.0082230\ttotal: 12m 33s\tremaining: 32.2s\n",
      "959:\tlearn: 0.0082230\ttotal: 12m 34s\tremaining: 31.4s\n",
      "960:\tlearn: 0.0082230\ttotal: 12m 34s\tremaining: 30.6s\n",
      "961:\tlearn: 0.0082230\ttotal: 12m 35s\tremaining: 29.8s\n",
      "962:\tlearn: 0.0082230\ttotal: 12m 36s\tremaining: 29.1s\n",
      "963:\tlearn: 0.0082230\ttotal: 12m 37s\tremaining: 28.3s\n",
      "964:\tlearn: 0.0082230\ttotal: 12m 37s\tremaining: 27.5s\n",
      "965:\tlearn: 0.0082230\ttotal: 12m 38s\tremaining: 26.7s\n",
      "966:\tlearn: 0.0082230\ttotal: 12m 38s\tremaining: 25.9s\n",
      "967:\tlearn: 0.0082230\ttotal: 12m 39s\tremaining: 25.1s\n",
      "968:\tlearn: 0.0082230\ttotal: 12m 40s\tremaining: 24.3s\n",
      "969:\tlearn: 0.0082230\ttotal: 12m 40s\tremaining: 23.5s\n",
      "970:\tlearn: 0.0082230\ttotal: 12m 41s\tremaining: 22.7s\n",
      "971:\tlearn: 0.0082230\ttotal: 12m 42s\tremaining: 22s\n",
      "972:\tlearn: 0.0082230\ttotal: 12m 42s\tremaining: 21.2s\n",
      "973:\tlearn: 0.0082230\ttotal: 12m 43s\tremaining: 20.4s\n",
      "974:\tlearn: 0.0082230\ttotal: 12m 43s\tremaining: 19.6s\n",
      "975:\tlearn: 0.0082230\ttotal: 12m 44s\tremaining: 18.8s\n",
      "976:\tlearn: 0.0082230\ttotal: 12m 45s\tremaining: 18s\n",
      "977:\tlearn: 0.0082230\ttotal: 12m 45s\tremaining: 17.2s\n",
      "978:\tlearn: 0.0082230\ttotal: 12m 46s\tremaining: 16.4s\n",
      "979:\tlearn: 0.0082230\ttotal: 12m 47s\tremaining: 15.7s\n",
      "980:\tlearn: 0.0082230\ttotal: 12m 47s\tremaining: 14.9s\n",
      "981:\tlearn: 0.0082230\ttotal: 12m 48s\tremaining: 14.1s\n",
      "982:\tlearn: 0.0082230\ttotal: 12m 48s\tremaining: 13.3s\n",
      "983:\tlearn: 0.0082230\ttotal: 12m 49s\tremaining: 12.5s\n",
      "984:\tlearn: 0.0082230\ttotal: 12m 50s\tremaining: 11.7s\n",
      "985:\tlearn: 0.0082230\ttotal: 12m 50s\tremaining: 10.9s\n",
      "986:\tlearn: 0.0082230\ttotal: 12m 51s\tremaining: 10.2s\n",
      "987:\tlearn: 0.0082230\ttotal: 12m 52s\tremaining: 9.38s\n",
      "988:\tlearn: 0.0082230\ttotal: 12m 52s\tremaining: 8.6s\n",
      "989:\tlearn: 0.0082230\ttotal: 12m 53s\tremaining: 7.82s\n",
      "990:\tlearn: 0.0082230\ttotal: 12m 54s\tremaining: 7.03s\n",
      "991:\tlearn: 0.0082230\ttotal: 12m 54s\tremaining: 6.25s\n",
      "992:\tlearn: 0.0082230\ttotal: 12m 55s\tremaining: 5.47s\n",
      "993:\tlearn: 0.0082230\ttotal: 12m 56s\tremaining: 4.68s\n",
      "994:\tlearn: 0.0082230\ttotal: 12m 56s\tremaining: 3.9s\n",
      "995:\tlearn: 0.0082230\ttotal: 12m 57s\tremaining: 3.12s\n",
      "996:\tlearn: 0.0082230\ttotal: 12m 57s\tremaining: 2.34s\n",
      "997:\tlearn: 0.0082230\ttotal: 12m 58s\tremaining: 1.56s\n",
      "998:\tlearn: 0.0082230\ttotal: 12m 59s\tremaining: 780ms\n",
      "999:\tlearn: 0.0082230\ttotal: 12m 59s\tremaining: 0us\n"
     ]
    },
    {
     "data": {
      "image/png": "[encoded data removed]",
      "text/plain": [
       "<Figure size 432x288 with 2 Axes>"
      ]
     },
     "metadata": {
      "needs_background": "light"
     },
     "output_type": "display_data"
    }
   ],
   "source": [
    "test_model(cad,X_res_train,X_test4, y_res_train,y_test4)"
   ]
  },
  {
   "cell_type": "code",
   "execution_count": 146,
   "metadata": {},
   "outputs": [],
   "source": [
    "predictions_cad=cad.predict(X_test4)"
   ]
  },
  {
   "cell_type": "code",
   "execution_count": 147,
   "metadata": {
    "scrolled": true
   },
   "outputs": [
    {
     "name": "stdout",
     "output_type": "stream",
     "text": [
      "f1 score= 0.5771090811391726\n",
      "precision= 0.4113891726251277\n",
      "recall= 0.9664067186562687\n"
     ]
    }
   ],
   "source": [
    "métriques(predictions_cad,y_test4)"
   ]
  },
  {
   "cell_type": "markdown",
   "metadata": {},
   "source": [
    "Pour tout nos modèles, on constate bien que la précision a baisser au profit du recall"
   ]
  },
  {
   "cell_type": "markdown",
   "metadata": {},
   "source": [
    "Le Catboost et le Xgboost ont des précisions qui passent de 0,842 à 0,411 (respectivement de 0,929 à 0.632) \n",
    "et un recall qui passe de 0,842 à 0.966 (resp: de 0,821 à 0.853)\n"
   ]
  },
  {
   "cell_type": "markdown",
   "metadata": {},
   "source": [
    "### Modèles avec SMOTE_ENN:"
   ]
  },
  {
   "cell_type": "code",
   "execution_count": 26,
   "metadata": {
    "scrolled": false
   },
   "outputs": [
    {
     "data": {
      "text/plain": [
       "0    552415\n",
       "1      1667\n",
       "Name: isFraud, dtype: int64"
      ]
     },
     "execution_count": 26,
     "metadata": {},
     "output_type": "execute_result"
    }
   ],
   "source": [
    "y_test5.value_counts()"
   ]
  },
  {
   "cell_type": "markdown",
   "metadata": {},
   "source": [
    "La quantité de ligne encore un peu baissée après avoir appliquer un ENN"
   ]
  },
  {
   "cell_type": "markdown",
   "metadata": {},
   "source": [
    "**arbre de decision**"
   ]
  },
  {
   "cell_type": "code",
   "execution_count": 57,
   "metadata": {
    "scrolled": false
   },
   "outputs": [
    {
     "data": {
      "image/png": "[encoded data removed]",
      "text/plain": [
       "<Figure size 432x288 with 2 Axes>"
      ]
     },
     "metadata": {
      "needs_background": "light"
     },
     "output_type": "display_data"
    }
   ],
   "source": [
    "test_model(arbre,X_res_train2,X_test5, y_res_train2,y_test5)"
   ]
  },
  {
   "cell_type": "code",
   "execution_count": 58,
   "metadata": {},
   "outputs": [],
   "source": [
    "predictions_arbre_ENN=arbre.predict(X_test5)"
   ]
  },
  {
   "cell_type": "code",
   "execution_count": 59,
   "metadata": {
    "scrolled": true
   },
   "outputs": [
    {
     "name": "stdout",
     "output_type": "stream",
     "text": [
      "f1 score= 0.6337466784765279\n",
      "precision= 0.5022815022815023\n",
      "recall= 0.8584283143371326\n"
     ]
    }
   ],
   "source": [
    "métriques(predictions_arbre_ENN,y_test5)"
   ]
  },
  {
   "cell_type": "code",
   "execution_count": 60,
   "metadata": {},
   "outputs": [
    {
     "data": {
      "text/plain": [
       "<sklearn.metrics._plot.roc_curve.RocCurveDisplay at 0x251099bc040>"
      ]
     },
     "execution_count": 60,
     "metadata": {},
     "output_type": "execute_result"
    },
    {
     "data": {
      "image/png": "[encoded data removed]",
      "text/plain": [
       "<Figure size 432x288 with 1 Axes>"
      ]
     },
     "metadata": {
      "needs_background": "light"
     },
     "output_type": "display_data"
    }
   ],
   "source": [
    "plot_roc_curve(arbre,X_test5,y_test5)"
   ]
  },
  {
   "cell_type": "markdown",
   "metadata": {},
   "source": [
    "**forêt d'arbres de decisions**"
   ]
  },
  {
   "cell_type": "code",
   "execution_count": 83,
   "metadata": {
    "scrolled": false
   },
   "outputs": [
    {
     "data": {
      "image/png": "[encoded data removed]",
      "text/plain": [
       "<Figure size 432x288 with 2 Axes>"
      ]
     },
     "metadata": {
      "needs_background": "light"
     },
     "output_type": "display_data"
    }
   ],
   "source": [
    "test_model(randomforest,X_res_train2,X_test5, y_res_train2,y_test5)"
   ]
  },
  {
   "cell_type": "code",
   "execution_count": 84,
   "metadata": {},
   "outputs": [],
   "source": [
    "predictions_foret_ENN=randomforest.predict(X_test5)"
   ]
  },
  {
   "cell_type": "code",
   "execution_count": 85,
   "metadata": {
    "scrolled": true
   },
   "outputs": [
    {
     "name": "stdout",
     "output_type": "stream",
     "text": [
      "f1 score= 0.6795980369245149\n",
      "precision= 0.5566615620214395\n",
      "recall= 0.8722255548890222\n"
     ]
    }
   ],
   "source": [
    "métriques(predictions_foret_ENN,y_test5)"
   ]
  },
  {
   "cell_type": "markdown",
   "metadata": {},
   "source": [
    "**gradientboosting**"
   ]
  },
  {
   "cell_type": "code",
   "execution_count": 86,
   "metadata": {
    "scrolled": true
   },
   "outputs": [
    {
     "data": {
      "image/png": "[encoded data removed]",
      "text/plain": [
       "<Figure size 432x288 with 2 Axes>"
      ]
     },
     "metadata": {
      "needs_background": "light"
     },
     "output_type": "display_data"
    }
   ],
   "source": [
    "test_model(gradientboosting,X_res_train2,X_test5, y_res_train2,y_test5)"
   ]
  },
  {
   "cell_type": "code",
   "execution_count": 87,
   "metadata": {},
   "outputs": [],
   "source": [
    "predictions_gradient_ENN=gradientboosting.predict(X_test5)"
   ]
  },
  {
   "cell_type": "code",
   "execution_count": 88,
   "metadata": {},
   "outputs": [
    {
     "name": "stdout",
     "output_type": "stream",
     "text": [
      "f1 score= 0.1252368980854767\n",
      "precision= 0.06693401686786836\n",
      "recall= 0.9712057588482303\n"
     ]
    }
   ],
   "source": [
    "métriques(predictions_gradient_ENN,y_test5)"
   ]
  },
  {
   "cell_type": "markdown",
   "metadata": {},
   "source": [
    "**extratreeclassifier**"
   ]
  },
  {
   "cell_type": "code",
   "execution_count": 89,
   "metadata": {},
   "outputs": [
    {
     "data": {
      "image/png": "[encoded data removed]",
      "text/plain": [
       "<Figure size 432x288 with 2 Axes>"
      ]
     },
     "metadata": {
      "needs_background": "light"
     },
     "output_type": "display_data"
    }
   ],
   "source": [
    "test_model(extreme_tree,X_res_train2,X_test5, y_res_train2,y_test5)"
   ]
  },
  {
   "cell_type": "code",
   "execution_count": 90,
   "metadata": {},
   "outputs": [],
   "source": [
    "predictions_extree_ENN=extreme_tree.predict(X_test5)"
   ]
  },
  {
   "cell_type": "code",
   "execution_count": 91,
   "metadata": {},
   "outputs": [
    {
     "name": "stdout",
     "output_type": "stream",
     "text": [
      "f1 score= 0.7087857847976308\n",
      "precision= 0.6020964360587002\n",
      "recall= 0.8614277144571085\n"
     ]
    }
   ],
   "source": [
    "métriques(predictions_extree_ENN,y_test5)"
   ]
  },
  {
   "cell_type": "markdown",
   "metadata": {},
   "source": [
    "**xgb**"
   ]
  },
  {
   "cell_type": "code",
   "execution_count": 92,
   "metadata": {},
   "outputs": [
    {
     "name": "stdout",
     "output_type": "stream",
     "text": [
      "[23:04:06] WARNING: C:/Users/Administrator/workspace/xgboost-win64_release_1.4.0/src/learner.cc:1095: Starting in XGBoost 1.3.0, the default evaluation metric used with the objective 'binary:logistic' was changed from 'error' to 'logloss'. Explicitly set eval_metric if you'd like to restore the old behavior.\n"
     ]
    },
    {
     "data": {
      "image/png": "[encoded data removed]",
      "text/plain": [
       "<Figure size 432x288 with 2 Axes>"
      ]
     },
     "metadata": {
      "needs_background": "light"
     },
     "output_type": "display_data"
    }
   ],
   "source": [
    "test_model(xgb,X_res_train2,X_test5, y_res_train2,y_test5)"
   ]
  },
  {
   "cell_type": "code",
   "execution_count": 93,
   "metadata": {},
   "outputs": [],
   "source": [
    "predictions_xgb_ENN=xgb.predict(X_test5)"
   ]
  },
  {
   "cell_type": "code",
   "execution_count": 94,
   "metadata": {},
   "outputs": [
    {
     "name": "stdout",
     "output_type": "stream",
     "text": [
      "f1 score= 0.6366001734605377\n",
      "precision= 0.49847198641765705\n",
      "recall= 0.880623875224955\n"
     ]
    }
   ],
   "source": [
    "métriques(predictions_xgb_ENN,y_test5)"
   ]
  },
  {
   "cell_type": "markdown",
   "metadata": {},
   "source": [
    "**voisins**"
   ]
  },
  {
   "cell_type": "code",
   "execution_count": 95,
   "metadata": {},
   "outputs": [
    {
     "data": {
      "image/png": "[encoded data removed]",
      "text/plain": [
       "<Figure size 432x288 with 2 Axes>"
      ]
     },
     "metadata": {
      "needs_background": "light"
     },
     "output_type": "display_data"
    }
   ],
   "source": [
    "test_model(voisins,X_res_train2,X_test5, y_res_train2,y_test5)"
   ]
  },
  {
   "cell_type": "code",
   "execution_count": 96,
   "metadata": {},
   "outputs": [],
   "source": [
    "predictions_voisins_ENN=voisins.predict(X_test5)"
   ]
  },
  {
   "cell_type": "code",
   "execution_count": 97,
   "metadata": {},
   "outputs": [
    {
     "name": "stdout",
     "output_type": "stream",
     "text": [
      "f1 score= 0.3701636432830141\n",
      "precision= 0.2347168597168597\n",
      "recall= 0.8752249550089982\n"
     ]
    }
   ],
   "source": [
    "métriques(predictions_voisins_ENN,y_test5)"
   ]
  },
  {
   "cell_type": "markdown",
   "metadata": {},
   "source": [
    "**adaboost**"
   ]
  },
  {
   "cell_type": "code",
   "execution_count": 98,
   "metadata": {},
   "outputs": [
    {
     "data": {
      "image/png": "[encoded data removed]",
      "text/plain": [
       "<Figure size 432x288 with 2 Axes>"
      ]
     },
     "metadata": {
      "needs_background": "light"
     },
     "output_type": "display_data"
    }
   ],
   "source": [
    "test_model(ADAboost,X_res_train2,X_test5, y_res_train2,y_test5)"
   ]
  },
  {
   "cell_type": "code",
   "execution_count": 99,
   "metadata": {},
   "outputs": [],
   "source": [
    "predictions_ADA_ENN=ADAboost.predict(X_test5)"
   ]
  },
  {
   "cell_type": "code",
   "execution_count": 100,
   "metadata": {},
   "outputs": [
    {
     "name": "stdout",
     "output_type": "stream",
     "text": [
      "f1 score= 0.054785963623002025\n",
      "precision= 0.028258438678619487\n",
      "recall= 0.8944211157768446\n"
     ]
    }
   ],
   "source": [
    "métriques(predictions_ADA_ENN,y_test5)"
   ]
  },
  {
   "cell_type": "markdown",
   "metadata": {},
   "source": [
    "**regression logistique**"
   ]
  },
  {
   "cell_type": "code",
   "execution_count": 134,
   "metadata": {
    "scrolled": true
   },
   "outputs": [
    {
     "data": {
      "image/png": "[encoded data removed]",
      "text/plain": [
       "<Figure size 432x288 with 2 Axes>"
      ]
     },
     "metadata": {
      "needs_background": "light"
     },
     "output_type": "display_data"
    }
   ],
   "source": [
    "test_model(logistique,X_res_train2,X_test5, y_res_train2,y_test5)"
   ]
  },
  {
   "cell_type": "code",
   "execution_count": 135,
   "metadata": {},
   "outputs": [],
   "source": [
    "predictions_logistique_ENN=logistique.predict(X_test5)"
   ]
  },
  {
   "cell_type": "code",
   "execution_count": 136,
   "metadata": {},
   "outputs": [
    {
     "name": "stdout",
     "output_type": "stream",
     "text": [
      "f1 score= 0.05824660927231688\n",
      "precision= 0.03012645673196132\n",
      "recall= 0.874625074985003\n"
     ]
    }
   ],
   "source": [
    "métriques(predictions_logistique_ENN,y_test5)"
   ]
  },
  {
   "cell_type": "code",
   "execution_count": 142,
   "metadata": {
    "scrolled": true
   },
   "outputs": [
    {
     "name": "stdout",
     "output_type": "stream",
     "text": [
      "Learning rate set to 0.370461\n",
      "0:\tlearn: 0.2647715\ttotal: 1s\tremaining: 16m 44s\n",
      "1:\tlearn: 0.1567675\ttotal: 1.95s\tremaining: 16m 15s\n",
      "2:\tlearn: 0.1207646\ttotal: 2.88s\tremaining: 15m 56s\n",
      "3:\tlearn: 0.1048898\ttotal: 3.7s\tremaining: 15m 21s\n",
      "4:\tlearn: 0.0955510\ttotal: 4.45s\tremaining: 14m 46s\n",
      "5:\tlearn: 0.0888435\ttotal: 5.28s\tremaining: 14m 34s\n",
      "6:\tlearn: 0.0859920\ttotal: 6.11s\tremaining: 14m 27s\n",
      "7:\tlearn: 0.0804631\ttotal: 6.97s\tremaining: 14m 24s\n",
      "8:\tlearn: 0.0763360\ttotal: 7.87s\tremaining: 14m 26s\n",
      "9:\tlearn: 0.0737735\ttotal: 8.72s\tremaining: 14m 23s\n",
      "10:\tlearn: 0.0708857\ttotal: 9.57s\tremaining: 14m 20s\n",
      "11:\tlearn: 0.0657238\ttotal: 10.4s\tremaining: 14m 19s\n",
      "12:\tlearn: 0.0628247\ttotal: 11.3s\tremaining: 14m 18s\n",
      "13:\tlearn: 0.0609287\ttotal: 12.1s\tremaining: 14m 14s\n",
      "14:\tlearn: 0.0578558\ttotal: 13s\tremaining: 14m 13s\n",
      "15:\tlearn: 0.0557584\ttotal: 14s\tremaining: 14m 21s\n",
      "16:\tlearn: 0.0534745\ttotal: 15.1s\tremaining: 14m 33s\n",
      "17:\tlearn: 0.0491879\ttotal: 16s\tremaining: 14m 32s\n",
      "18:\tlearn: 0.0468682\ttotal: 16.8s\tremaining: 14m 29s\n",
      "19:\tlearn: 0.0414476\ttotal: 17.7s\tremaining: 14m 27s\n",
      "20:\tlearn: 0.0391010\ttotal: 18.6s\tremaining: 14m 26s\n",
      "21:\tlearn: 0.0385257\ttotal: 19.5s\tremaining: 14m 25s\n",
      "22:\tlearn: 0.0379736\ttotal: 20.3s\tremaining: 14m 21s\n",
      "23:\tlearn: 0.0372633\ttotal: 21.1s\tremaining: 14m 19s\n",
      "24:\tlearn: 0.0360450\ttotal: 22s\tremaining: 14m 16s\n",
      "25:\tlearn: 0.0354870\ttotal: 22.8s\tremaining: 14m 13s\n",
      "26:\tlearn: 0.0344152\ttotal: 23.7s\tremaining: 14m 12s\n",
      "27:\tlearn: 0.0341116\ttotal: 24.5s\tremaining: 14m 11s\n",
      "28:\tlearn: 0.0307631\ttotal: 25.4s\tremaining: 14m 9s\n",
      "29:\tlearn: 0.0295322\ttotal: 26.3s\tremaining: 14m 9s\n",
      "30:\tlearn: 0.0293033\ttotal: 27.1s\tremaining: 14m 8s\n",
      "31:\tlearn: 0.0287763\ttotal: 28s\tremaining: 14m 7s\n",
      "32:\tlearn: 0.0282898\ttotal: 28.9s\tremaining: 14m 7s\n",
      "33:\tlearn: 0.0280009\ttotal: 29.9s\tremaining: 14m 9s\n",
      "34:\tlearn: 0.0274583\ttotal: 30.9s\tremaining: 14m 13s\n",
      "35:\tlearn: 0.0269146\ttotal: 31.8s\tremaining: 14m 12s\n",
      "36:\tlearn: 0.0267639\ttotal: 32.7s\tremaining: 14m 10s\n",
      "37:\tlearn: 0.0261404\ttotal: 33.5s\tremaining: 14m 7s\n",
      "38:\tlearn: 0.0252759\ttotal: 34.3s\tremaining: 14m 5s\n",
      "39:\tlearn: 0.0245205\ttotal: 35.2s\tremaining: 14m 4s\n",
      "40:\tlearn: 0.0241412\ttotal: 36.1s\tremaining: 14m 3s\n",
      "41:\tlearn: 0.0239676\ttotal: 36.9s\tremaining: 14m 1s\n",
      "42:\tlearn: 0.0232576\ttotal: 37.7s\tremaining: 14m\n",
      "43:\tlearn: 0.0226058\ttotal: 38.6s\tremaining: 13m 59s\n",
      "44:\tlearn: 0.0215818\ttotal: 39.5s\tremaining: 13m 58s\n",
      "45:\tlearn: 0.0211645\ttotal: 40.4s\tremaining: 13m 57s\n",
      "46:\tlearn: 0.0202599\ttotal: 41.3s\tremaining: 13m 56s\n",
      "47:\tlearn: 0.0199073\ttotal: 42.1s\tremaining: 13m 55s\n",
      "48:\tlearn: 0.0195079\ttotal: 43s\tremaining: 13m 54s\n",
      "49:\tlearn: 0.0192686\ttotal: 43.8s\tremaining: 13m 51s\n",
      "50:\tlearn: 0.0190522\ttotal: 44.6s\tremaining: 13m 50s\n",
      "51:\tlearn: 0.0187829\ttotal: 45.6s\tremaining: 13m 50s\n",
      "52:\tlearn: 0.0184332\ttotal: 46.7s\tremaining: 13m 54s\n",
      "53:\tlearn: 0.0182224\ttotal: 47.6s\tremaining: 13m 54s\n",
      "54:\tlearn: 0.0181068\ttotal: 48.4s\tremaining: 13m 51s\n",
      "55:\tlearn: 0.0180136\ttotal: 49.2s\tremaining: 13m 50s\n",
      "56:\tlearn: 0.0178331\ttotal: 50.2s\tremaining: 13m 50s\n",
      "57:\tlearn: 0.0176660\ttotal: 51s\tremaining: 13m 48s\n",
      "58:\tlearn: 0.0175538\ttotal: 51.9s\tremaining: 13m 48s\n",
      "59:\tlearn: 0.0172633\ttotal: 52.7s\tremaining: 13m 45s\n",
      "60:\tlearn: 0.0172096\ttotal: 53.6s\tremaining: 13m 44s\n",
      "61:\tlearn: 0.0168242\ttotal: 54.5s\tremaining: 13m 44s\n",
      "62:\tlearn: 0.0165539\ttotal: 55.4s\tremaining: 13m 44s\n",
      "63:\tlearn: 0.0162878\ttotal: 56.4s\tremaining: 13m 44s\n",
      "64:\tlearn: 0.0160757\ttotal: 57.3s\tremaining: 13m 44s\n",
      "65:\tlearn: 0.0158064\ttotal: 58.2s\tremaining: 13m 43s\n",
      "66:\tlearn: 0.0156883\ttotal: 59.1s\tremaining: 13m 43s\n",
      "67:\tlearn: 0.0155285\ttotal: 60s\tremaining: 13m 42s\n",
      "68:\tlearn: 0.0154399\ttotal: 1m\tremaining: 13m 41s\n",
      "69:\tlearn: 0.0153443\ttotal: 1m 1s\tremaining: 13m 43s\n",
      "70:\tlearn: 0.0151935\ttotal: 1m 3s\tremaining: 13m 46s\n",
      "71:\tlearn: 0.0151430\ttotal: 1m 4s\tremaining: 13m 47s\n",
      "72:\tlearn: 0.0147084\ttotal: 1m 5s\tremaining: 13m 48s\n",
      "73:\tlearn: 0.0144320\ttotal: 1m 6s\tremaining: 13m 50s\n",
      "74:\tlearn: 0.0141922\ttotal: 1m 7s\tremaining: 13m 53s\n",
      "75:\tlearn: 0.0139645\ttotal: 1m 8s\tremaining: 13m 56s\n",
      "76:\tlearn: 0.0137953\ttotal: 1m 9s\tremaining: 13m 56s\n",
      "77:\tlearn: 0.0137227\ttotal: 1m 10s\tremaining: 13m 57s\n",
      "78:\tlearn: 0.0135835\ttotal: 1m 11s\tremaining: 13m 56s\n",
      "79:\tlearn: 0.0133884\ttotal: 1m 12s\tremaining: 13m 57s\n",
      "80:\tlearn: 0.0132034\ttotal: 1m 13s\tremaining: 13m 57s\n",
      "81:\tlearn: 0.0131176\ttotal: 1m 14s\tremaining: 13m 56s\n",
      "82:\tlearn: 0.0130082\ttotal: 1m 15s\tremaining: 13m 56s\n",
      "83:\tlearn: 0.0128535\ttotal: 1m 16s\tremaining: 13m 57s\n",
      "84:\tlearn: 0.0127154\ttotal: 1m 18s\tremaining: 14m 2s\n",
      "85:\tlearn: 0.0126270\ttotal: 1m 19s\tremaining: 14m 4s\n",
      "86:\tlearn: 0.0125258\ttotal: 1m 20s\tremaining: 14m 4s\n",
      "87:\tlearn: 0.0124147\ttotal: 1m 21s\tremaining: 14m 5s\n",
      "88:\tlearn: 0.0123644\ttotal: 1m 22s\tremaining: 14m 5s\n",
      "89:\tlearn: 0.0123376\ttotal: 1m 23s\tremaining: 14m 5s\n",
      "90:\tlearn: 0.0122172\ttotal: 1m 24s\tremaining: 14m 5s\n",
      "91:\tlearn: 0.0120795\ttotal: 1m 25s\tremaining: 14m 5s\n",
      "92:\tlearn: 0.0120315\ttotal: 1m 26s\tremaining: 14m 7s\n",
      "93:\tlearn: 0.0119501\ttotal: 1m 27s\tremaining: 14m 7s\n",
      "94:\tlearn: 0.0119035\ttotal: 1m 28s\tremaining: 14m 7s\n",
      "95:\tlearn: 0.0118195\ttotal: 1m 29s\tremaining: 14m 6s\n",
      "96:\tlearn: 0.0117048\ttotal: 1m 30s\tremaining: 14m 5s\n",
      "97:\tlearn: 0.0115843\ttotal: 1m 31s\tremaining: 14m 4s\n",
      "98:\tlearn: 0.0115463\ttotal: 1m 32s\tremaining: 14m 3s\n",
      "99:\tlearn: 0.0113980\ttotal: 1m 33s\tremaining: 14m 3s\n",
      "100:\tlearn: 0.0113511\ttotal: 1m 34s\tremaining: 14m 5s\n",
      "101:\tlearn: 0.0112992\ttotal: 1m 35s\tremaining: 14m 5s\n",
      "102:\tlearn: 0.0112182\ttotal: 1m 36s\tremaining: 14m 4s\n",
      "103:\tlearn: 0.0111509\ttotal: 1m 37s\tremaining: 14m 2s\n",
      "104:\tlearn: 0.0110998\ttotal: 1m 38s\tremaining: 14m\n",
      "105:\tlearn: 0.0108859\ttotal: 1m 39s\tremaining: 13m 59s\n",
      "106:\tlearn: 0.0108174\ttotal: 1m 40s\tremaining: 13m 58s\n",
      "107:\tlearn: 0.0107115\ttotal: 1m 41s\tremaining: 13m 57s\n",
      "108:\tlearn: 0.0106231\ttotal: 1m 42s\tremaining: 13m 56s\n",
      "109:\tlearn: 0.0105800\ttotal: 1m 43s\tremaining: 13m 55s\n",
      "110:\tlearn: 0.0105570\ttotal: 1m 44s\tremaining: 13m 54s\n",
      "111:\tlearn: 0.0104965\ttotal: 1m 45s\tremaining: 13m 53s\n",
      "112:\tlearn: 0.0104081\ttotal: 1m 45s\tremaining: 13m 51s\n",
      "113:\tlearn: 0.0103066\ttotal: 1m 46s\tremaining: 13m 50s\n",
      "114:\tlearn: 0.0102756\ttotal: 1m 47s\tremaining: 13m 49s\n",
      "115:\tlearn: 0.0102202\ttotal: 1m 48s\tremaining: 13m 48s\n",
      "116:\tlearn: 0.0101092\ttotal: 1m 49s\tremaining: 13m 48s\n",
      "117:\tlearn: 0.0100692\ttotal: 1m 50s\tremaining: 13m 48s\n",
      "118:\tlearn: 0.0100269\ttotal: 1m 51s\tremaining: 13m 47s\n",
      "119:\tlearn: 0.0100032\ttotal: 1m 52s\tremaining: 13m 46s\n",
      "120:\tlearn: 0.0099667\ttotal: 1m 53s\tremaining: 13m 44s\n",
      "121:\tlearn: 0.0099390\ttotal: 1m 54s\tremaining: 13m 44s\n",
      "122:\tlearn: 0.0099237\ttotal: 1m 55s\tremaining: 13m 43s\n",
      "123:\tlearn: 0.0098357\ttotal: 1m 56s\tremaining: 13m 42s\n",
      "124:\tlearn: 0.0097741\ttotal: 1m 57s\tremaining: 13m 41s\n",
      "125:\tlearn: 0.0097307\ttotal: 1m 58s\tremaining: 13m 39s\n",
      "126:\tlearn: 0.0096719\ttotal: 1m 59s\tremaining: 13m 38s\n",
      "127:\tlearn: 0.0096227\ttotal: 1m 59s\tremaining: 13m 37s\n",
      "128:\tlearn: 0.0095845\ttotal: 2m\tremaining: 13m 35s\n",
      "129:\tlearn: 0.0095161\ttotal: 2m 1s\tremaining: 13m 34s\n",
      "130:\tlearn: 0.0094575\ttotal: 2m 2s\tremaining: 13m 33s\n",
      "131:\tlearn: 0.0094171\ttotal: 2m 3s\tremaining: 13m 32s\n",
      "132:\tlearn: 0.0093914\ttotal: 2m 4s\tremaining: 13m 30s\n",
      "133:\tlearn: 0.0093736\ttotal: 2m 5s\tremaining: 13m 29s\n",
      "134:\tlearn: 0.0093439\ttotal: 2m 6s\tremaining: 13m 29s\n",
      "135:\tlearn: 0.0092740\ttotal: 2m 7s\tremaining: 13m 28s\n",
      "136:\tlearn: 0.0092569\ttotal: 2m 8s\tremaining: 13m 26s\n",
      "137:\tlearn: 0.0092165\ttotal: 2m 8s\tremaining: 13m 25s\n",
      "138:\tlearn: 0.0091577\ttotal: 2m 9s\tremaining: 13m 24s\n",
      "139:\tlearn: 0.0091217\ttotal: 2m 10s\tremaining: 13m 23s\n",
      "140:\tlearn: 0.0090678\ttotal: 2m 11s\tremaining: 13m 22s\n",
      "141:\tlearn: 0.0090046\ttotal: 2m 12s\tremaining: 13m 21s\n",
      "142:\tlearn: 0.0089661\ttotal: 2m 13s\tremaining: 13m 20s\n",
      "143:\tlearn: 0.0089158\ttotal: 2m 14s\tremaining: 13m 19s\n",
      "144:\tlearn: 0.0088830\ttotal: 2m 15s\tremaining: 13m 18s\n",
      "145:\tlearn: 0.0088553\ttotal: 2m 16s\tremaining: 13m 16s\n",
      "146:\tlearn: 0.0088240\ttotal: 2m 17s\tremaining: 13m 15s\n",
      "147:\tlearn: 0.0088047\ttotal: 2m 17s\tremaining: 13m 13s\n",
      "148:\tlearn: 0.0087629\ttotal: 2m 18s\tremaining: 13m 12s\n",
      "149:\tlearn: 0.0087221\ttotal: 2m 19s\tremaining: 13m 12s\n",
      "150:\tlearn: 0.0086715\ttotal: 2m 20s\tremaining: 13m 10s\n",
      "151:\tlearn: 0.0086352\ttotal: 2m 21s\tremaining: 13m 10s\n",
      "152:\tlearn: 0.0085705\ttotal: 2m 22s\tremaining: 13m 10s\n",
      "153:\tlearn: 0.0085353\ttotal: 2m 23s\tremaining: 13m 9s\n"
     ]
    },
    {
     "name": "stdout",
     "output_type": "stream",
     "text": [
      "154:\tlearn: 0.0084926\ttotal: 2m 24s\tremaining: 13m 8s\n",
      "155:\tlearn: 0.0084111\ttotal: 2m 25s\tremaining: 13m 7s\n",
      "156:\tlearn: 0.0083461\ttotal: 2m 26s\tremaining: 13m 7s\n",
      "157:\tlearn: 0.0083228\ttotal: 2m 27s\tremaining: 13m 5s\n",
      "158:\tlearn: 0.0083014\ttotal: 2m 28s\tremaining: 13m 3s\n",
      "159:\tlearn: 0.0082730\ttotal: 2m 29s\tremaining: 13m 2s\n",
      "160:\tlearn: 0.0082470\ttotal: 2m 29s\tremaining: 13m 1s\n",
      "161:\tlearn: 0.0082080\ttotal: 2m 30s\tremaining: 13m\n",
      "162:\tlearn: 0.0081835\ttotal: 2m 31s\tremaining: 12m 59s\n",
      "163:\tlearn: 0.0081548\ttotal: 2m 32s\tremaining: 12m 58s\n",
      "164:\tlearn: 0.0081501\ttotal: 2m 33s\tremaining: 12m 56s\n",
      "165:\tlearn: 0.0081079\ttotal: 2m 34s\tremaining: 12m 55s\n",
      "166:\tlearn: 0.0080590\ttotal: 2m 35s\tremaining: 12m 54s\n",
      "167:\tlearn: 0.0080182\ttotal: 2m 36s\tremaining: 12m 53s\n",
      "168:\tlearn: 0.0079754\ttotal: 2m 37s\tremaining: 12m 52s\n",
      "169:\tlearn: 0.0079422\ttotal: 2m 38s\tremaining: 12m 52s\n",
      "170:\tlearn: 0.0079192\ttotal: 2m 39s\tremaining: 12m 51s\n",
      "171:\tlearn: 0.0078830\ttotal: 2m 40s\tremaining: 12m 50s\n",
      "172:\tlearn: 0.0078409\ttotal: 2m 41s\tremaining: 12m 49s\n",
      "173:\tlearn: 0.0078209\ttotal: 2m 41s\tremaining: 12m 48s\n",
      "174:\tlearn: 0.0077882\ttotal: 2m 42s\tremaining: 12m 47s\n",
      "175:\tlearn: 0.0077603\ttotal: 2m 43s\tremaining: 12m 46s\n",
      "176:\tlearn: 0.0076960\ttotal: 2m 44s\tremaining: 12m 45s\n",
      "177:\tlearn: 0.0076624\ttotal: 2m 45s\tremaining: 12m 44s\n",
      "178:\tlearn: 0.0076219\ttotal: 2m 46s\tremaining: 12m 43s\n",
      "179:\tlearn: 0.0075722\ttotal: 2m 47s\tremaining: 12m 42s\n",
      "180:\tlearn: 0.0075721\ttotal: 2m 47s\tremaining: 12m 40s\n",
      "181:\tlearn: 0.0075721\ttotal: 2m 48s\tremaining: 12m 38s\n",
      "182:\tlearn: 0.0075409\ttotal: 2m 49s\tremaining: 12m 37s\n",
      "183:\tlearn: 0.0075082\ttotal: 2m 50s\tremaining: 12m 36s\n",
      "184:\tlearn: 0.0074945\ttotal: 2m 51s\tremaining: 12m 35s\n",
      "185:\tlearn: 0.0074331\ttotal: 2m 52s\tremaining: 12m 33s\n",
      "186:\tlearn: 0.0073926\ttotal: 2m 53s\tremaining: 12m 33s\n",
      "187:\tlearn: 0.0073474\ttotal: 2m 54s\tremaining: 12m 33s\n",
      "188:\tlearn: 0.0073268\ttotal: 2m 55s\tremaining: 12m 32s\n",
      "189:\tlearn: 0.0072786\ttotal: 2m 56s\tremaining: 12m 31s\n",
      "190:\tlearn: 0.0072519\ttotal: 2m 57s\tremaining: 12m 30s\n",
      "191:\tlearn: 0.0072357\ttotal: 2m 58s\tremaining: 12m 29s\n",
      "192:\tlearn: 0.0072191\ttotal: 2m 58s\tremaining: 12m 27s\n",
      "193:\tlearn: 0.0071986\ttotal: 2m 59s\tremaining: 12m 26s\n",
      "194:\tlearn: 0.0071763\ttotal: 3m\tremaining: 12m 24s\n",
      "195:\tlearn: 0.0071569\ttotal: 3m 1s\tremaining: 12m 23s\n",
      "196:\tlearn: 0.0071440\ttotal: 3m 2s\tremaining: 12m 22s\n",
      "197:\tlearn: 0.0071106\ttotal: 3m 3s\tremaining: 12m 22s\n",
      "198:\tlearn: 0.0071024\ttotal: 3m 3s\tremaining: 12m 20s\n",
      "199:\tlearn: 0.0071019\ttotal: 3m 4s\tremaining: 12m 18s\n",
      "200:\tlearn: 0.0071019\ttotal: 3m 5s\tremaining: 12m 17s\n",
      "201:\tlearn: 0.0070676\ttotal: 3m 6s\tremaining: 12m 16s\n",
      "202:\tlearn: 0.0070129\ttotal: 3m 7s\tremaining: 12m 15s\n",
      "203:\tlearn: 0.0069978\ttotal: 3m 8s\tremaining: 12m 14s\n",
      "204:\tlearn: 0.0069844\ttotal: 3m 9s\tremaining: 12m 13s\n",
      "205:\tlearn: 0.0069844\ttotal: 3m 10s\tremaining: 12m 12s\n",
      "206:\tlearn: 0.0069842\ttotal: 3m 11s\tremaining: 12m 12s\n",
      "207:\tlearn: 0.0069840\ttotal: 3m 12s\tremaining: 12m 11s\n",
      "208:\tlearn: 0.0069840\ttotal: 3m 13s\tremaining: 12m 10s\n",
      "209:\tlearn: 0.0069836\ttotal: 3m 13s\tremaining: 12m 8s\n",
      "210:\tlearn: 0.0069835\ttotal: 3m 14s\tremaining: 12m 7s\n",
      "211:\tlearn: 0.0069834\ttotal: 3m 15s\tremaining: 12m 5s\n",
      "212:\tlearn: 0.0069834\ttotal: 3m 15s\tremaining: 12m 3s\n",
      "213:\tlearn: 0.0069834\ttotal: 3m 16s\tremaining: 12m 2s\n",
      "214:\tlearn: 0.0069834\ttotal: 3m 17s\tremaining: 12m\n",
      "215:\tlearn: 0.0069834\ttotal: 3m 18s\tremaining: 11m 59s\n",
      "216:\tlearn: 0.0069834\ttotal: 3m 18s\tremaining: 11m 57s\n",
      "217:\tlearn: 0.0069834\ttotal: 3m 19s\tremaining: 11m 55s\n",
      "218:\tlearn: 0.0069834\ttotal: 3m 20s\tremaining: 11m 54s\n",
      "219:\tlearn: 0.0069721\ttotal: 3m 21s\tremaining: 11m 54s\n",
      "220:\tlearn: 0.0069492\ttotal: 3m 22s\tremaining: 11m 54s\n",
      "221:\tlearn: 0.0069492\ttotal: 3m 23s\tremaining: 11m 53s\n",
      "222:\tlearn: 0.0069492\ttotal: 3m 24s\tremaining: 11m 52s\n",
      "223:\tlearn: 0.0069339\ttotal: 3m 25s\tremaining: 11m 51s\n",
      "224:\tlearn: 0.0069339\ttotal: 3m 26s\tremaining: 11m 52s\n",
      "225:\tlearn: 0.0069339\ttotal: 3m 27s\tremaining: 11m 51s\n",
      "226:\tlearn: 0.0069339\ttotal: 3m 28s\tremaining: 11m 50s\n",
      "227:\tlearn: 0.0069339\ttotal: 3m 29s\tremaining: 11m 49s\n",
      "228:\tlearn: 0.0069339\ttotal: 3m 30s\tremaining: 11m 48s\n",
      "229:\tlearn: 0.0069338\ttotal: 3m 31s\tremaining: 11m 47s\n",
      "230:\tlearn: 0.0069338\ttotal: 3m 31s\tremaining: 11m 45s\n",
      "231:\tlearn: 0.0069338\ttotal: 3m 32s\tremaining: 11m 44s\n",
      "232:\tlearn: 0.0069338\ttotal: 3m 33s\tremaining: 11m 43s\n",
      "233:\tlearn: 0.0069338\ttotal: 3m 34s\tremaining: 11m 41s\n",
      "234:\tlearn: 0.0069338\ttotal: 3m 34s\tremaining: 11m 39s\n",
      "235:\tlearn: 0.0069337\ttotal: 3m 35s\tremaining: 11m 38s\n",
      "236:\tlearn: 0.0069337\ttotal: 3m 36s\tremaining: 11m 36s\n",
      "237:\tlearn: 0.0069337\ttotal: 3m 37s\tremaining: 11m 34s\n",
      "238:\tlearn: 0.0069337\ttotal: 3m 37s\tremaining: 11m 33s\n",
      "239:\tlearn: 0.0069336\ttotal: 3m 38s\tremaining: 11m 31s\n",
      "240:\tlearn: 0.0069336\ttotal: 3m 39s\tremaining: 11m 30s\n",
      "241:\tlearn: 0.0069336\ttotal: 3m 39s\tremaining: 11m 28s\n",
      "242:\tlearn: 0.0069336\ttotal: 3m 40s\tremaining: 11m 26s\n",
      "243:\tlearn: 0.0069336\ttotal: 3m 41s\tremaining: 11m 25s\n",
      "244:\tlearn: 0.0069335\ttotal: 3m 41s\tremaining: 11m 23s\n",
      "245:\tlearn: 0.0069334\ttotal: 3m 42s\tremaining: 11m 22s\n",
      "246:\tlearn: 0.0069334\ttotal: 3m 43s\tremaining: 11m 21s\n",
      "247:\tlearn: 0.0069334\ttotal: 3m 44s\tremaining: 11m 19s\n",
      "248:\tlearn: 0.0069334\ttotal: 3m 44s\tremaining: 11m 18s\n",
      "249:\tlearn: 0.0069334\ttotal: 3m 45s\tremaining: 11m 16s\n",
      "250:\tlearn: 0.0069333\ttotal: 3m 46s\tremaining: 11m 15s\n",
      "251:\tlearn: 0.0069333\ttotal: 3m 46s\tremaining: 11m 13s\n",
      "252:\tlearn: 0.0069333\ttotal: 3m 47s\tremaining: 11m 12s\n",
      "253:\tlearn: 0.0069333\ttotal: 3m 48s\tremaining: 11m 10s\n",
      "254:\tlearn: 0.0069333\ttotal: 3m 49s\tremaining: 11m 9s\n",
      "255:\tlearn: 0.0069333\ttotal: 3m 49s\tremaining: 11m 7s\n",
      "256:\tlearn: 0.0069332\ttotal: 3m 50s\tremaining: 11m 6s\n",
      "257:\tlearn: 0.0069332\ttotal: 3m 51s\tremaining: 11m 4s\n",
      "258:\tlearn: 0.0069332\ttotal: 3m 51s\tremaining: 11m 3s\n",
      "259:\tlearn: 0.0069332\ttotal: 3m 52s\tremaining: 11m 1s\n",
      "260:\tlearn: 0.0069116\ttotal: 3m 53s\tremaining: 11m\n",
      "261:\tlearn: 0.0068956\ttotal: 3m 54s\tremaining: 10m 59s\n",
      "262:\tlearn: 0.0068594\ttotal: 3m 55s\tremaining: 10m 59s\n",
      "263:\tlearn: 0.0068306\ttotal: 3m 56s\tremaining: 10m 58s\n",
      "264:\tlearn: 0.0068105\ttotal: 3m 56s\tremaining: 10m 57s\n",
      "265:\tlearn: 0.0067830\ttotal: 3m 58s\tremaining: 10m 56s\n",
      "266:\tlearn: 0.0067369\ttotal: 3m 59s\tremaining: 10m 56s\n",
      "267:\tlearn: 0.0067043\ttotal: 4m\tremaining: 10m 55s\n",
      "268:\tlearn: 0.0066986\ttotal: 4m\tremaining: 10m 54s\n",
      "269:\tlearn: 0.0066807\ttotal: 4m 1s\tremaining: 10m 53s\n",
      "270:\tlearn: 0.0066806\ttotal: 4m 2s\tremaining: 10m 52s\n",
      "271:\tlearn: 0.0066806\ttotal: 4m 3s\tremaining: 10m 51s\n",
      "272:\tlearn: 0.0066805\ttotal: 4m 4s\tremaining: 10m 49s\n",
      "273:\tlearn: 0.0066804\ttotal: 4m 4s\tremaining: 10m 48s\n",
      "274:\tlearn: 0.0066804\ttotal: 4m 5s\tremaining: 10m 47s\n",
      "275:\tlearn: 0.0066667\ttotal: 4m 6s\tremaining: 10m 46s\n",
      "276:\tlearn: 0.0066335\ttotal: 4m 7s\tremaining: 10m 45s\n",
      "277:\tlearn: 0.0066201\ttotal: 4m 8s\tremaining: 10m 44s\n",
      "278:\tlearn: 0.0066060\ttotal: 4m 8s\tremaining: 10m 43s\n",
      "279:\tlearn: 0.0065841\ttotal: 4m 9s\tremaining: 10m 42s\n",
      "280:\tlearn: 0.0065041\ttotal: 4m 10s\tremaining: 10m 41s\n",
      "281:\tlearn: 0.0065040\ttotal: 4m 11s\tremaining: 10m 40s\n",
      "282:\tlearn: 0.0065027\ttotal: 4m 12s\tremaining: 10m 38s\n",
      "283:\tlearn: 0.0065026\ttotal: 4m 12s\tremaining: 10m 37s\n",
      "284:\tlearn: 0.0064919\ttotal: 4m 13s\tremaining: 10m 36s\n",
      "285:\tlearn: 0.0064918\ttotal: 4m 14s\tremaining: 10m 35s\n",
      "286:\tlearn: 0.0064917\ttotal: 4m 15s\tremaining: 10m 34s\n",
      "287:\tlearn: 0.0064826\ttotal: 4m 16s\tremaining: 10m 33s\n",
      "288:\tlearn: 0.0064525\ttotal: 4m 17s\tremaining: 10m 32s\n",
      "289:\tlearn: 0.0064330\ttotal: 4m 18s\tremaining: 10m 31s\n",
      "290:\tlearn: 0.0064001\ttotal: 4m 19s\tremaining: 10m 31s\n",
      "291:\tlearn: 0.0063704\ttotal: 4m 19s\tremaining: 10m 30s\n",
      "292:\tlearn: 0.0063587\ttotal: 4m 20s\tremaining: 10m 29s\n",
      "293:\tlearn: 0.0063392\ttotal: 4m 21s\tremaining: 10m 28s\n",
      "294:\tlearn: 0.0063114\ttotal: 4m 22s\tremaining: 10m 27s\n",
      "295:\tlearn: 0.0063078\ttotal: 4m 23s\tremaining: 10m 26s\n",
      "296:\tlearn: 0.0062458\ttotal: 4m 24s\tremaining: 10m 25s\n",
      "297:\tlearn: 0.0062458\ttotal: 4m 24s\tremaining: 10m 23s\n",
      "298:\tlearn: 0.0062457\ttotal: 4m 25s\tremaining: 10m 22s\n",
      "299:\tlearn: 0.0062455\ttotal: 4m 26s\tremaining: 10m 21s\n",
      "300:\tlearn: 0.0062455\ttotal: 4m 26s\tremaining: 10m 19s\n",
      "301:\tlearn: 0.0061931\ttotal: 4m 27s\tremaining: 10m 18s\n",
      "302:\tlearn: 0.0061931\ttotal: 4m 28s\tremaining: 10m 17s\n",
      "303:\tlearn: 0.0061641\ttotal: 4m 29s\tremaining: 10m 16s\n",
      "304:\tlearn: 0.0061093\ttotal: 4m 30s\tremaining: 10m 16s\n"
     ]
    },
    {
     "name": "stdout",
     "output_type": "stream",
     "text": [
      "305:\tlearn: 0.0060760\ttotal: 4m 31s\tremaining: 10m 15s\n",
      "306:\tlearn: 0.0060536\ttotal: 4m 32s\tremaining: 10m 15s\n",
      "307:\tlearn: 0.0060535\ttotal: 4m 33s\tremaining: 10m 13s\n",
      "308:\tlearn: 0.0060534\ttotal: 4m 33s\tremaining: 10m 12s\n",
      "309:\tlearn: 0.0060397\ttotal: 4m 34s\tremaining: 10m 11s\n",
      "310:\tlearn: 0.0060396\ttotal: 4m 35s\tremaining: 10m 10s\n",
      "311:\tlearn: 0.0060216\ttotal: 4m 36s\tremaining: 10m 9s\n",
      "312:\tlearn: 0.0060215\ttotal: 4m 37s\tremaining: 10m 8s\n",
      "313:\tlearn: 0.0060215\ttotal: 4m 37s\tremaining: 10m 6s\n",
      "314:\tlearn: 0.0060213\ttotal: 4m 38s\tremaining: 10m 5s\n",
      "315:\tlearn: 0.0060212\ttotal: 4m 39s\tremaining: 10m 4s\n",
      "316:\tlearn: 0.0060212\ttotal: 4m 39s\tremaining: 10m 2s\n",
      "317:\tlearn: 0.0060211\ttotal: 4m 40s\tremaining: 10m 1s\n",
      "318:\tlearn: 0.0060192\ttotal: 4m 41s\tremaining: 10m\n",
      "319:\tlearn: 0.0060192\ttotal: 4m 41s\tremaining: 9m 58s\n",
      "320:\tlearn: 0.0060192\ttotal: 4m 42s\tremaining: 9m 57s\n",
      "321:\tlearn: 0.0060192\ttotal: 4m 43s\tremaining: 9m 56s\n",
      "322:\tlearn: 0.0060192\ttotal: 4m 43s\tremaining: 9m 54s\n",
      "323:\tlearn: 0.0060192\ttotal: 4m 44s\tremaining: 9m 53s\n",
      "324:\tlearn: 0.0060192\ttotal: 4m 45s\tremaining: 9m 52s\n",
      "325:\tlearn: 0.0060096\ttotal: 4m 46s\tremaining: 9m 52s\n",
      "326:\tlearn: 0.0060095\ttotal: 4m 47s\tremaining: 9m 51s\n",
      "327:\tlearn: 0.0059900\ttotal: 4m 48s\tremaining: 9m 50s\n",
      "328:\tlearn: 0.0059696\ttotal: 4m 48s\tremaining: 9m 49s\n",
      "329:\tlearn: 0.0059504\ttotal: 4m 49s\tremaining: 9m 48s\n",
      "330:\tlearn: 0.0059432\ttotal: 4m 50s\tremaining: 9m 47s\n",
      "331:\tlearn: 0.0059432\ttotal: 4m 51s\tremaining: 9m 46s\n",
      "332:\tlearn: 0.0059432\ttotal: 4m 51s\tremaining: 9m 44s\n",
      "333:\tlearn: 0.0059432\ttotal: 4m 52s\tremaining: 9m 43s\n",
      "334:\tlearn: 0.0059432\ttotal: 4m 53s\tremaining: 9m 42s\n",
      "335:\tlearn: 0.0059431\ttotal: 4m 54s\tremaining: 9m 41s\n",
      "336:\tlearn: 0.0059431\ttotal: 4m 54s\tremaining: 9m 39s\n",
      "337:\tlearn: 0.0059431\ttotal: 4m 55s\tremaining: 9m 38s\n",
      "338:\tlearn: 0.0059431\ttotal: 4m 56s\tremaining: 9m 37s\n",
      "339:\tlearn: 0.0059431\ttotal: 4m 56s\tremaining: 9m 36s\n",
      "340:\tlearn: 0.0059430\ttotal: 4m 57s\tremaining: 9m 34s\n",
      "341:\tlearn: 0.0059430\ttotal: 4m 58s\tremaining: 9m 33s\n",
      "342:\tlearn: 0.0059430\ttotal: 4m 59s\tremaining: 9m 32s\n",
      "343:\tlearn: 0.0059426\ttotal: 4m 59s\tremaining: 9m 31s\n",
      "344:\tlearn: 0.0059315\ttotal: 5m\tremaining: 9m 30s\n",
      "345:\tlearn: 0.0059314\ttotal: 5m 1s\tremaining: 9m 29s\n",
      "346:\tlearn: 0.0059310\ttotal: 5m 2s\tremaining: 9m 29s\n",
      "347:\tlearn: 0.0059308\ttotal: 5m 3s\tremaining: 9m 28s\n",
      "348:\tlearn: 0.0059142\ttotal: 5m 4s\tremaining: 9m 27s\n",
      "349:\tlearn: 0.0058992\ttotal: 5m 5s\tremaining: 9m 27s\n",
      "350:\tlearn: 0.0058894\ttotal: 5m 6s\tremaining: 9m 26s\n",
      "351:\tlearn: 0.0058849\ttotal: 5m 7s\tremaining: 9m 25s\n",
      "352:\tlearn: 0.0058776\ttotal: 5m 8s\tremaining: 9m 24s\n",
      "353:\tlearn: 0.0058672\ttotal: 5m 9s\tremaining: 9m 23s\n",
      "354:\tlearn: 0.0058521\ttotal: 5m 9s\tremaining: 9m 23s\n",
      "355:\tlearn: 0.0058519\ttotal: 5m 10s\tremaining: 9m 22s\n",
      "356:\tlearn: 0.0058221\ttotal: 5m 11s\tremaining: 9m 21s\n",
      "357:\tlearn: 0.0058082\ttotal: 5m 12s\tremaining: 9m 20s\n",
      "358:\tlearn: 0.0057744\ttotal: 5m 13s\tremaining: 9m 19s\n",
      "359:\tlearn: 0.0057571\ttotal: 5m 14s\tremaining: 9m 18s\n",
      "360:\tlearn: 0.0057560\ttotal: 5m 15s\tremaining: 9m 17s\n",
      "361:\tlearn: 0.0057304\ttotal: 5m 16s\tremaining: 9m 17s\n",
      "362:\tlearn: 0.0057302\ttotal: 5m 16s\tremaining: 9m 16s\n",
      "363:\tlearn: 0.0057302\ttotal: 5m 17s\tremaining: 9m 14s\n",
      "364:\tlearn: 0.0057302\ttotal: 5m 18s\tremaining: 9m 14s\n",
      "365:\tlearn: 0.0057302\ttotal: 5m 19s\tremaining: 9m 13s\n",
      "366:\tlearn: 0.0057302\ttotal: 5m 20s\tremaining: 9m 12s\n",
      "367:\tlearn: 0.0057298\ttotal: 5m 20s\tremaining: 9m 11s\n",
      "368:\tlearn: 0.0057298\ttotal: 5m 21s\tremaining: 9m 9s\n",
      "369:\tlearn: 0.0057298\ttotal: 5m 22s\tremaining: 9m 8s\n",
      "370:\tlearn: 0.0057297\ttotal: 5m 22s\tremaining: 9m 7s\n",
      "371:\tlearn: 0.0057297\ttotal: 5m 23s\tremaining: 9m 6s\n",
      "372:\tlearn: 0.0057296\ttotal: 5m 24s\tremaining: 9m 5s\n",
      "373:\tlearn: 0.0057296\ttotal: 5m 25s\tremaining: 9m 4s\n",
      "374:\tlearn: 0.0057294\ttotal: 5m 25s\tremaining: 9m 2s\n",
      "375:\tlearn: 0.0057294\ttotal: 5m 26s\tremaining: 9m 2s\n",
      "376:\tlearn: 0.0057233\ttotal: 5m 27s\tremaining: 9m 1s\n",
      "377:\tlearn: 0.0057042\ttotal: 5m 28s\tremaining: 9m\n",
      "378:\tlearn: 0.0057040\ttotal: 5m 29s\tremaining: 8m 59s\n",
      "379:\tlearn: 0.0057040\ttotal: 5m 29s\tremaining: 8m 58s\n",
      "380:\tlearn: 0.0057037\ttotal: 5m 30s\tremaining: 8m 57s\n",
      "381:\tlearn: 0.0057036\ttotal: 5m 31s\tremaining: 8m 55s\n",
      "382:\tlearn: 0.0057036\ttotal: 5m 32s\tremaining: 8m 54s\n",
      "383:\tlearn: 0.0057034\ttotal: 5m 32s\tremaining: 8m 53s\n",
      "384:\tlearn: 0.0057034\ttotal: 5m 33s\tremaining: 8m 52s\n",
      "385:\tlearn: 0.0057033\ttotal: 5m 34s\tremaining: 8m 52s\n",
      "386:\tlearn: 0.0057032\ttotal: 5m 35s\tremaining: 8m 51s\n",
      "387:\tlearn: 0.0057031\ttotal: 5m 36s\tremaining: 8m 50s\n",
      "388:\tlearn: 0.0057030\ttotal: 5m 36s\tremaining: 8m 49s\n",
      "389:\tlearn: 0.0057030\ttotal: 5m 37s\tremaining: 8m 48s\n",
      "390:\tlearn: 0.0057029\ttotal: 5m 38s\tremaining: 8m 47s\n",
      "391:\tlearn: 0.0057029\ttotal: 5m 39s\tremaining: 8m 46s\n",
      "392:\tlearn: 0.0057029\ttotal: 5m 40s\tremaining: 8m 45s\n",
      "393:\tlearn: 0.0057028\ttotal: 5m 40s\tremaining: 8m 44s\n",
      "394:\tlearn: 0.0057027\ttotal: 5m 41s\tremaining: 8m 43s\n",
      "395:\tlearn: 0.0057027\ttotal: 5m 42s\tremaining: 8m 42s\n",
      "396:\tlearn: 0.0057026\ttotal: 5m 43s\tremaining: 8m 41s\n",
      "397:\tlearn: 0.0057025\ttotal: 5m 43s\tremaining: 8m 40s\n",
      "398:\tlearn: 0.0057025\ttotal: 5m 44s\tremaining: 8m 38s\n",
      "399:\tlearn: 0.0056662\ttotal: 5m 45s\tremaining: 8m 38s\n",
      "400:\tlearn: 0.0056537\ttotal: 5m 46s\tremaining: 8m 37s\n",
      "401:\tlearn: 0.0056164\ttotal: 5m 47s\tremaining: 8m 36s\n",
      "402:\tlearn: 0.0056164\ttotal: 5m 47s\tremaining: 8m 35s\n",
      "403:\tlearn: 0.0056164\ttotal: 5m 48s\tremaining: 8m 34s\n",
      "404:\tlearn: 0.0056163\ttotal: 5m 49s\tremaining: 8m 33s\n",
      "405:\tlearn: 0.0056163\ttotal: 5m 50s\tremaining: 8m 32s\n",
      "406:\tlearn: 0.0056163\ttotal: 5m 50s\tremaining: 8m 31s\n",
      "407:\tlearn: 0.0056163\ttotal: 5m 51s\tremaining: 8m 30s\n",
      "408:\tlearn: 0.0056163\ttotal: 5m 52s\tremaining: 8m 28s\n",
      "409:\tlearn: 0.0056163\ttotal: 5m 52s\tremaining: 8m 27s\n",
      "410:\tlearn: 0.0056163\ttotal: 5m 53s\tremaining: 8m 26s\n",
      "411:\tlearn: 0.0056163\ttotal: 5m 54s\tremaining: 8m 25s\n",
      "412:\tlearn: 0.0056162\ttotal: 5m 54s\tremaining: 8m 24s\n",
      "413:\tlearn: 0.0056162\ttotal: 5m 55s\tremaining: 8m 23s\n",
      "414:\tlearn: 0.0056162\ttotal: 5m 56s\tremaining: 8m 22s\n",
      "415:\tlearn: 0.0056161\ttotal: 5m 56s\tremaining: 8m 21s\n",
      "416:\tlearn: 0.0056160\ttotal: 5m 57s\tremaining: 8m 19s\n",
      "417:\tlearn: 0.0056160\ttotal: 5m 58s\tremaining: 8m 18s\n",
      "418:\tlearn: 0.0056159\ttotal: 5m 58s\tremaining: 8m 17s\n",
      "419:\tlearn: 0.0056158\ttotal: 5m 59s\tremaining: 8m 16s\n",
      "420:\tlearn: 0.0056157\ttotal: 6m\tremaining: 8m 15s\n",
      "421:\tlearn: 0.0056061\ttotal: 6m 1s\tremaining: 8m 14s\n",
      "422:\tlearn: 0.0056061\ttotal: 6m 2s\tremaining: 8m 13s\n",
      "423:\tlearn: 0.0056060\ttotal: 6m 2s\tremaining: 8m 12s\n",
      "424:\tlearn: 0.0056059\ttotal: 6m 3s\tremaining: 8m 12s\n",
      "425:\tlearn: 0.0056059\ttotal: 6m 4s\tremaining: 8m 11s\n",
      "426:\tlearn: 0.0055943\ttotal: 6m 5s\tremaining: 8m 10s\n",
      "427:\tlearn: 0.0055942\ttotal: 6m 6s\tremaining: 8m 9s\n",
      "428:\tlearn: 0.0055768\ttotal: 6m 7s\tremaining: 8m 8s\n",
      "429:\tlearn: 0.0055762\ttotal: 6m 8s\tremaining: 8m 7s\n",
      "430:\tlearn: 0.0055762\ttotal: 6m 8s\tremaining: 8m 6s\n",
      "431:\tlearn: 0.0055761\ttotal: 6m 9s\tremaining: 8m 5s\n",
      "432:\tlearn: 0.0055761\ttotal: 6m 10s\tremaining: 8m 4s\n",
      "433:\tlearn: 0.0055761\ttotal: 6m 10s\tremaining: 8m 3s\n",
      "434:\tlearn: 0.0055761\ttotal: 6m 11s\tremaining: 8m 2s\n",
      "435:\tlearn: 0.0055757\ttotal: 6m 12s\tremaining: 8m 1s\n",
      "436:\tlearn: 0.0055757\ttotal: 6m 12s\tremaining: 8m\n",
      "437:\tlearn: 0.0055756\ttotal: 6m 13s\tremaining: 7m 59s\n",
      "438:\tlearn: 0.0055756\ttotal: 6m 14s\tremaining: 7m 58s\n",
      "439:\tlearn: 0.0055756\ttotal: 6m 14s\tremaining: 7m 56s\n",
      "440:\tlearn: 0.0055756\ttotal: 6m 15s\tremaining: 7m 55s\n",
      "441:\tlearn: 0.0055756\ttotal: 6m 16s\tremaining: 7m 54s\n",
      "442:\tlearn: 0.0055755\ttotal: 6m 16s\tremaining: 7m 53s\n",
      "443:\tlearn: 0.0055755\ttotal: 6m 17s\tremaining: 7m 52s\n",
      "444:\tlearn: 0.0055755\ttotal: 6m 18s\tremaining: 7m 51s\n",
      "445:\tlearn: 0.0055755\ttotal: 6m 18s\tremaining: 7m 50s\n",
      "446:\tlearn: 0.0055755\ttotal: 6m 19s\tremaining: 7m 49s\n",
      "447:\tlearn: 0.0055754\ttotal: 6m 20s\tremaining: 7m 48s\n",
      "448:\tlearn: 0.0055753\ttotal: 6m 20s\tremaining: 7m 47s\n",
      "449:\tlearn: 0.0055753\ttotal: 6m 21s\tremaining: 7m 46s\n",
      "450:\tlearn: 0.0055753\ttotal: 6m 22s\tremaining: 7m 45s\n",
      "451:\tlearn: 0.0055753\ttotal: 6m 23s\tremaining: 7m 44s\n",
      "452:\tlearn: 0.0055732\ttotal: 6m 23s\tremaining: 7m 43s\n",
      "453:\tlearn: 0.0055613\ttotal: 6m 24s\tremaining: 7m 42s\n",
      "454:\tlearn: 0.0055613\ttotal: 6m 25s\tremaining: 7m 41s\n",
      "455:\tlearn: 0.0055464\ttotal: 6m 26s\tremaining: 7m 40s\n",
      "456:\tlearn: 0.0055217\ttotal: 6m 27s\tremaining: 7m 40s\n",
      "457:\tlearn: 0.0055216\ttotal: 6m 27s\tremaining: 7m 39s\n"
     ]
    },
    {
     "name": "stdout",
     "output_type": "stream",
     "text": [
      "458:\tlearn: 0.0055216\ttotal: 6m 28s\tremaining: 7m 38s\n",
      "459:\tlearn: 0.0055216\ttotal: 6m 29s\tremaining: 7m 36s\n",
      "460:\tlearn: 0.0055216\ttotal: 6m 29s\tremaining: 7m 35s\n",
      "461:\tlearn: 0.0055216\ttotal: 6m 30s\tremaining: 7m 34s\n",
      "462:\tlearn: 0.0055215\ttotal: 6m 31s\tremaining: 7m 33s\n",
      "463:\tlearn: 0.0055215\ttotal: 6m 32s\tremaining: 7m 32s\n",
      "464:\tlearn: 0.0055215\ttotal: 6m 32s\tremaining: 7m 31s\n",
      "465:\tlearn: 0.0055215\ttotal: 6m 33s\tremaining: 7m 30s\n",
      "466:\tlearn: 0.0055215\ttotal: 6m 34s\tremaining: 7m 29s\n",
      "467:\tlearn: 0.0055215\ttotal: 6m 34s\tremaining: 7m 28s\n",
      "468:\tlearn: 0.0055214\ttotal: 6m 35s\tremaining: 7m 27s\n",
      "469:\tlearn: 0.0055214\ttotal: 6m 36s\tremaining: 7m 26s\n",
      "470:\tlearn: 0.0055213\ttotal: 6m 36s\tremaining: 7m 25s\n",
      "471:\tlearn: 0.0055213\ttotal: 6m 37s\tremaining: 7m 24s\n",
      "472:\tlearn: 0.0055213\ttotal: 6m 38s\tremaining: 7m 23s\n",
      "473:\tlearn: 0.0055081\ttotal: 6m 39s\tremaining: 7m 22s\n",
      "474:\tlearn: 0.0054818\ttotal: 6m 40s\tremaining: 7m 22s\n",
      "475:\tlearn: 0.0054815\ttotal: 6m 40s\tremaining: 7m 21s\n",
      "476:\tlearn: 0.0054813\ttotal: 6m 41s\tremaining: 7m 20s\n",
      "477:\tlearn: 0.0054813\ttotal: 6m 42s\tremaining: 7m 19s\n",
      "478:\tlearn: 0.0054812\ttotal: 6m 42s\tremaining: 7m 18s\n",
      "479:\tlearn: 0.0054687\ttotal: 6m 43s\tremaining: 7m 17s\n",
      "480:\tlearn: 0.0054686\ttotal: 6m 44s\tremaining: 7m 16s\n",
      "481:\tlearn: 0.0054686\ttotal: 6m 45s\tremaining: 7m 15s\n",
      "482:\tlearn: 0.0054686\ttotal: 6m 46s\tremaining: 7m 14s\n",
      "483:\tlearn: 0.0054685\ttotal: 6m 46s\tremaining: 7m 13s\n",
      "484:\tlearn: 0.0054684\ttotal: 6m 47s\tremaining: 7m 12s\n",
      "485:\tlearn: 0.0054684\ttotal: 6m 48s\tremaining: 7m 12s\n",
      "486:\tlearn: 0.0054643\ttotal: 6m 49s\tremaining: 7m 11s\n",
      "487:\tlearn: 0.0054643\ttotal: 6m 50s\tremaining: 7m 10s\n",
      "488:\tlearn: 0.0054642\ttotal: 6m 50s\tremaining: 7m 9s\n",
      "489:\tlearn: 0.0054636\ttotal: 6m 51s\tremaining: 7m 8s\n",
      "490:\tlearn: 0.0054580\ttotal: 6m 52s\tremaining: 7m 7s\n",
      "491:\tlearn: 0.0054579\ttotal: 6m 52s\tremaining: 7m 6s\n",
      "492:\tlearn: 0.0054576\ttotal: 6m 53s\tremaining: 7m 5s\n",
      "493:\tlearn: 0.0054575\ttotal: 6m 54s\tremaining: 7m 4s\n",
      "494:\tlearn: 0.0054571\ttotal: 6m 55s\tremaining: 7m 3s\n",
      "495:\tlearn: 0.0054569\ttotal: 6m 56s\tremaining: 7m 2s\n",
      "496:\tlearn: 0.0054568\ttotal: 6m 56s\tremaining: 7m 1s\n",
      "497:\tlearn: 0.0054568\ttotal: 6m 57s\tremaining: 7m\n",
      "498:\tlearn: 0.0054564\ttotal: 6m 58s\tremaining: 6m 59s\n",
      "499:\tlearn: 0.0054564\ttotal: 6m 58s\tremaining: 6m 58s\n",
      "500:\tlearn: 0.0054394\ttotal: 6m 59s\tremaining: 6m 58s\n",
      "501:\tlearn: 0.0054384\ttotal: 7m\tremaining: 6m 57s\n",
      "502:\tlearn: 0.0054302\ttotal: 7m 1s\tremaining: 6m 56s\n",
      "503:\tlearn: 0.0054116\ttotal: 7m 2s\tremaining: 6m 55s\n",
      "504:\tlearn: 0.0053979\ttotal: 7m 3s\tremaining: 6m 54s\n",
      "505:\tlearn: 0.0053849\ttotal: 7m 4s\tremaining: 6m 54s\n",
      "506:\tlearn: 0.0053849\ttotal: 7m 4s\tremaining: 6m 53s\n",
      "507:\tlearn: 0.0053849\ttotal: 7m 5s\tremaining: 6m 52s\n",
      "508:\tlearn: 0.0053849\ttotal: 7m 6s\tremaining: 6m 51s\n",
      "509:\tlearn: 0.0053848\ttotal: 7m 6s\tremaining: 6m 50s\n",
      "510:\tlearn: 0.0053848\ttotal: 7m 7s\tremaining: 6m 49s\n",
      "511:\tlearn: 0.0053848\ttotal: 7m 8s\tremaining: 6m 48s\n",
      "512:\tlearn: 0.0053848\ttotal: 7m 8s\tremaining: 6m 47s\n",
      "513:\tlearn: 0.0053816\ttotal: 7m 9s\tremaining: 6m 46s\n",
      "514:\tlearn: 0.0053816\ttotal: 7m 10s\tremaining: 6m 45s\n",
      "515:\tlearn: 0.0053810\ttotal: 7m 11s\tremaining: 6m 44s\n",
      "516:\tlearn: 0.0053810\ttotal: 7m 12s\tremaining: 6m 43s\n",
      "517:\tlearn: 0.0053710\ttotal: 7m 13s\tremaining: 6m 42s\n",
      "518:\tlearn: 0.0053710\ttotal: 7m 13s\tremaining: 6m 42s\n",
      "519:\tlearn: 0.0053710\ttotal: 7m 14s\tremaining: 6m 41s\n",
      "520:\tlearn: 0.0053710\ttotal: 7m 15s\tremaining: 6m 40s\n",
      "521:\tlearn: 0.0053710\ttotal: 7m 16s\tremaining: 6m 39s\n",
      "522:\tlearn: 0.0053710\ttotal: 7m 16s\tremaining: 6m 38s\n",
      "523:\tlearn: 0.0053710\ttotal: 7m 17s\tremaining: 6m 37s\n",
      "524:\tlearn: 0.0053710\ttotal: 7m 18s\tremaining: 6m 36s\n",
      "525:\tlearn: 0.0053710\ttotal: 7m 18s\tremaining: 6m 35s\n",
      "526:\tlearn: 0.0053710\ttotal: 7m 19s\tremaining: 6m 34s\n",
      "527:\tlearn: 0.0053710\ttotal: 7m 20s\tremaining: 6m 33s\n",
      "528:\tlearn: 0.0053710\ttotal: 7m 21s\tremaining: 6m 32s\n",
      "529:\tlearn: 0.0053710\ttotal: 7m 21s\tremaining: 6m 31s\n",
      "530:\tlearn: 0.0053710\ttotal: 7m 22s\tremaining: 6m 30s\n",
      "531:\tlearn: 0.0053710\ttotal: 7m 23s\tremaining: 6m 29s\n",
      "532:\tlearn: 0.0053710\ttotal: 7m 23s\tremaining: 6m 28s\n",
      "533:\tlearn: 0.0053710\ttotal: 7m 24s\tremaining: 6m 28s\n",
      "534:\tlearn: 0.0053710\ttotal: 7m 25s\tremaining: 6m 27s\n",
      "535:\tlearn: 0.0053710\ttotal: 7m 26s\tremaining: 6m 26s\n",
      "536:\tlearn: 0.0053710\ttotal: 7m 27s\tremaining: 6m 25s\n",
      "537:\tlearn: 0.0053710\ttotal: 7m 28s\tremaining: 6m 24s\n",
      "538:\tlearn: 0.0053710\ttotal: 7m 28s\tremaining: 6m 23s\n",
      "539:\tlearn: 0.0053710\ttotal: 7m 29s\tremaining: 6m 22s\n",
      "540:\tlearn: 0.0053710\ttotal: 7m 30s\tremaining: 6m 21s\n",
      "541:\tlearn: 0.0053710\ttotal: 7m 30s\tremaining: 6m 20s\n",
      "542:\tlearn: 0.0053709\ttotal: 7m 31s\tremaining: 6m 19s\n",
      "543:\tlearn: 0.0053709\ttotal: 7m 32s\tremaining: 6m 18s\n",
      "544:\tlearn: 0.0053709\ttotal: 7m 32s\tremaining: 6m 17s\n",
      "545:\tlearn: 0.0053709\ttotal: 7m 33s\tremaining: 6m 17s\n",
      "546:\tlearn: 0.0053709\ttotal: 7m 34s\tremaining: 6m 16s\n",
      "547:\tlearn: 0.0053709\ttotal: 7m 34s\tremaining: 6m 15s\n",
      "548:\tlearn: 0.0053709\ttotal: 7m 35s\tremaining: 6m 14s\n",
      "549:\tlearn: 0.0053709\ttotal: 7m 36s\tremaining: 6m 13s\n",
      "550:\tlearn: 0.0053709\ttotal: 7m 36s\tremaining: 6m 12s\n",
      "551:\tlearn: 0.0053709\ttotal: 7m 37s\tremaining: 6m 11s\n",
      "552:\tlearn: 0.0053709\ttotal: 7m 38s\tremaining: 6m 10s\n",
      "553:\tlearn: 0.0053709\ttotal: 7m 38s\tremaining: 6m 9s\n",
      "554:\tlearn: 0.0053709\ttotal: 7m 39s\tremaining: 6m 8s\n",
      "555:\tlearn: 0.0053709\ttotal: 7m 40s\tremaining: 6m 7s\n",
      "556:\tlearn: 0.0053709\ttotal: 7m 40s\tremaining: 6m 6s\n",
      "557:\tlearn: 0.0053709\ttotal: 7m 41s\tremaining: 6m 5s\n",
      "558:\tlearn: 0.0053709\ttotal: 7m 42s\tremaining: 6m 4s\n",
      "559:\tlearn: 0.0053708\ttotal: 7m 43s\tremaining: 6m 3s\n",
      "560:\tlearn: 0.0053708\ttotal: 7m 43s\tremaining: 6m 2s\n",
      "561:\tlearn: 0.0053708\ttotal: 7m 44s\tremaining: 6m 2s\n",
      "562:\tlearn: 0.0053708\ttotal: 7m 45s\tremaining: 6m 1s\n",
      "563:\tlearn: 0.0053708\ttotal: 7m 45s\tremaining: 6m\n",
      "564:\tlearn: 0.0053708\ttotal: 7m 46s\tremaining: 5m 59s\n",
      "565:\tlearn: 0.0053708\ttotal: 7m 47s\tremaining: 5m 58s\n",
      "566:\tlearn: 0.0053708\ttotal: 7m 47s\tremaining: 5m 57s\n",
      "567:\tlearn: 0.0053708\ttotal: 7m 48s\tremaining: 5m 56s\n",
      "568:\tlearn: 0.0053708\ttotal: 7m 49s\tremaining: 5m 55s\n",
      "569:\tlearn: 0.0053708\ttotal: 7m 49s\tremaining: 5m 54s\n",
      "570:\tlearn: 0.0053708\ttotal: 7m 50s\tremaining: 5m 53s\n",
      "571:\tlearn: 0.0053708\ttotal: 7m 51s\tremaining: 5m 52s\n",
      "572:\tlearn: 0.0053708\ttotal: 7m 51s\tremaining: 5m 51s\n",
      "573:\tlearn: 0.0053708\ttotal: 7m 52s\tremaining: 5m 50s\n",
      "574:\tlearn: 0.0053708\ttotal: 7m 53s\tremaining: 5m 49s\n",
      "575:\tlearn: 0.0053708\ttotal: 7m 53s\tremaining: 5m 48s\n",
      "576:\tlearn: 0.0053708\ttotal: 7m 54s\tremaining: 5m 47s\n",
      "577:\tlearn: 0.0053708\ttotal: 7m 55s\tremaining: 5m 47s\n",
      "578:\tlearn: 0.0053708\ttotal: 7m 55s\tremaining: 5m 46s\n",
      "579:\tlearn: 0.0053708\ttotal: 7m 56s\tremaining: 5m 45s\n",
      "580:\tlearn: 0.0053708\ttotal: 7m 57s\tremaining: 5m 44s\n",
      "581:\tlearn: 0.0053708\ttotal: 7m 58s\tremaining: 5m 43s\n",
      "582:\tlearn: 0.0053708\ttotal: 7m 58s\tremaining: 5m 42s\n",
      "583:\tlearn: 0.0053708\ttotal: 7m 59s\tremaining: 5m 41s\n",
      "584:\tlearn: 0.0053708\ttotal: 8m\tremaining: 5m 40s\n",
      "585:\tlearn: 0.0053708\ttotal: 8m\tremaining: 5m 39s\n",
      "586:\tlearn: 0.0053708\ttotal: 8m 1s\tremaining: 5m 38s\n",
      "587:\tlearn: 0.0053708\ttotal: 8m 2s\tremaining: 5m 37s\n",
      "588:\tlearn: 0.0053708\ttotal: 8m 2s\tremaining: 5m 37s\n",
      "589:\tlearn: 0.0053708\ttotal: 8m 3s\tremaining: 5m 36s\n",
      "590:\tlearn: 0.0053708\ttotal: 8m 4s\tremaining: 5m 35s\n",
      "591:\tlearn: 0.0053708\ttotal: 8m 4s\tremaining: 5m 34s\n",
      "592:\tlearn: 0.0053708\ttotal: 8m 5s\tremaining: 5m 33s\n",
      "593:\tlearn: 0.0053708\ttotal: 8m 6s\tremaining: 5m 32s\n",
      "594:\tlearn: 0.0053708\ttotal: 8m 7s\tremaining: 5m 31s\n",
      "595:\tlearn: 0.0053708\ttotal: 8m 7s\tremaining: 5m 30s\n",
      "596:\tlearn: 0.0053708\ttotal: 8m 8s\tremaining: 5m 29s\n",
      "597:\tlearn: 0.0053708\ttotal: 8m 9s\tremaining: 5m 28s\n",
      "598:\tlearn: 0.0053708\ttotal: 8m 9s\tremaining: 5m 27s\n",
      "599:\tlearn: 0.0053708\ttotal: 8m 10s\tremaining: 5m 26s\n",
      "600:\tlearn: 0.0053708\ttotal: 8m 11s\tremaining: 5m 26s\n",
      "601:\tlearn: 0.0053708\ttotal: 8m 11s\tremaining: 5m 25s\n",
      "602:\tlearn: 0.0053708\ttotal: 8m 12s\tremaining: 5m 24s\n",
      "603:\tlearn: 0.0053708\ttotal: 8m 13s\tremaining: 5m 23s\n",
      "604:\tlearn: 0.0053708\ttotal: 8m 13s\tremaining: 5m 22s\n",
      "605:\tlearn: 0.0053708\ttotal: 8m 14s\tremaining: 5m 21s\n",
      "606:\tlearn: 0.0053707\ttotal: 8m 15s\tremaining: 5m 20s\n",
      "607:\tlearn: 0.0053707\ttotal: 8m 16s\tremaining: 5m 19s\n",
      "608:\tlearn: 0.0053707\ttotal: 8m 16s\tremaining: 5m 18s\n",
      "609:\tlearn: 0.0053707\ttotal: 8m 17s\tremaining: 5m 18s\n",
      "610:\tlearn: 0.0053707\ttotal: 8m 18s\tremaining: 5m 17s\n"
     ]
    },
    {
     "name": "stdout",
     "output_type": "stream",
     "text": [
      "611:\tlearn: 0.0053707\ttotal: 8m 18s\tremaining: 5m 16s\n",
      "612:\tlearn: 0.0053707\ttotal: 8m 19s\tremaining: 5m 15s\n",
      "613:\tlearn: 0.0053707\ttotal: 8m 20s\tremaining: 5m 14s\n",
      "614:\tlearn: 0.0053707\ttotal: 8m 20s\tremaining: 5m 13s\n",
      "615:\tlearn: 0.0053707\ttotal: 8m 21s\tremaining: 5m 12s\n",
      "616:\tlearn: 0.0053707\ttotal: 8m 22s\tremaining: 5m 11s\n",
      "617:\tlearn: 0.0053707\ttotal: 8m 23s\tremaining: 5m 11s\n",
      "618:\tlearn: 0.0053707\ttotal: 8m 23s\tremaining: 5m 10s\n",
      "619:\tlearn: 0.0053707\ttotal: 8m 24s\tremaining: 5m 9s\n",
      "620:\tlearn: 0.0053707\ttotal: 8m 25s\tremaining: 5m 8s\n",
      "621:\tlearn: 0.0053707\ttotal: 8m 26s\tremaining: 5m 7s\n",
      "622:\tlearn: 0.0053707\ttotal: 8m 26s\tremaining: 5m 6s\n",
      "623:\tlearn: 0.0053707\ttotal: 8m 27s\tremaining: 5m 5s\n",
      "624:\tlearn: 0.0053707\ttotal: 8m 28s\tremaining: 5m 4s\n",
      "625:\tlearn: 0.0053707\ttotal: 8m 28s\tremaining: 5m 3s\n",
      "626:\tlearn: 0.0053707\ttotal: 8m 29s\tremaining: 5m 3s\n",
      "627:\tlearn: 0.0053707\ttotal: 8m 30s\tremaining: 5m 2s\n",
      "628:\tlearn: 0.0053707\ttotal: 8m 31s\tremaining: 5m 1s\n",
      "629:\tlearn: 0.0053707\ttotal: 8m 31s\tremaining: 5m\n",
      "630:\tlearn: 0.0053707\ttotal: 8m 32s\tremaining: 4m 59s\n",
      "631:\tlearn: 0.0053707\ttotal: 8m 33s\tremaining: 4m 58s\n",
      "632:\tlearn: 0.0053707\ttotal: 8m 33s\tremaining: 4m 57s\n",
      "633:\tlearn: 0.0053707\ttotal: 8m 34s\tremaining: 4m 57s\n",
      "634:\tlearn: 0.0053707\ttotal: 8m 35s\tremaining: 4m 56s\n",
      "635:\tlearn: 0.0053707\ttotal: 8m 35s\tremaining: 4m 55s\n",
      "636:\tlearn: 0.0053707\ttotal: 8m 36s\tremaining: 4m 54s\n",
      "637:\tlearn: 0.0053707\ttotal: 8m 37s\tremaining: 4m 53s\n",
      "638:\tlearn: 0.0053707\ttotal: 8m 37s\tremaining: 4m 52s\n",
      "639:\tlearn: 0.0053707\ttotal: 8m 38s\tremaining: 4m 51s\n",
      "640:\tlearn: 0.0053707\ttotal: 8m 39s\tremaining: 4m 50s\n",
      "641:\tlearn: 0.0053707\ttotal: 8m 39s\tremaining: 4m 49s\n",
      "642:\tlearn: 0.0053707\ttotal: 8m 40s\tremaining: 4m 49s\n",
      "643:\tlearn: 0.0053707\ttotal: 8m 41s\tremaining: 4m 48s\n",
      "644:\tlearn: 0.0053707\ttotal: 8m 41s\tremaining: 4m 47s\n",
      "645:\tlearn: 0.0053707\ttotal: 8m 42s\tremaining: 4m 46s\n",
      "646:\tlearn: 0.0053707\ttotal: 8m 43s\tremaining: 4m 45s\n",
      "647:\tlearn: 0.0053707\ttotal: 8m 43s\tremaining: 4m 44s\n",
      "648:\tlearn: 0.0053707\ttotal: 8m 44s\tremaining: 4m 43s\n",
      "649:\tlearn: 0.0053707\ttotal: 8m 45s\tremaining: 4m 42s\n",
      "650:\tlearn: 0.0053707\ttotal: 8m 46s\tremaining: 4m 41s\n",
      "651:\tlearn: 0.0053707\ttotal: 8m 46s\tremaining: 4m 41s\n",
      "652:\tlearn: 0.0053707\ttotal: 8m 47s\tremaining: 4m 40s\n",
      "653:\tlearn: 0.0053707\ttotal: 8m 48s\tremaining: 4m 39s\n",
      "654:\tlearn: 0.0053707\ttotal: 8m 48s\tremaining: 4m 38s\n",
      "655:\tlearn: 0.0053707\ttotal: 8m 49s\tremaining: 4m 37s\n",
      "656:\tlearn: 0.0053707\ttotal: 8m 50s\tremaining: 4m 36s\n",
      "657:\tlearn: 0.0053707\ttotal: 8m 50s\tremaining: 4m 35s\n",
      "658:\tlearn: 0.0053707\ttotal: 8m 51s\tremaining: 4m 35s\n",
      "659:\tlearn: 0.0053707\ttotal: 8m 52s\tremaining: 4m 34s\n",
      "660:\tlearn: 0.0053707\ttotal: 8m 52s\tremaining: 4m 33s\n",
      "661:\tlearn: 0.0053707\ttotal: 8m 53s\tremaining: 4m 32s\n",
      "662:\tlearn: 0.0053707\ttotal: 8m 54s\tremaining: 4m 31s\n",
      "663:\tlearn: 0.0053707\ttotal: 8m 54s\tremaining: 4m 30s\n",
      "664:\tlearn: 0.0053707\ttotal: 8m 55s\tremaining: 4m 29s\n",
      "665:\tlearn: 0.0053707\ttotal: 8m 56s\tremaining: 4m 28s\n",
      "666:\tlearn: 0.0053707\ttotal: 8m 56s\tremaining: 4m 28s\n",
      "667:\tlearn: 0.0053707\ttotal: 8m 57s\tremaining: 4m 27s\n",
      "668:\tlearn: 0.0053707\ttotal: 8m 58s\tremaining: 4m 26s\n",
      "669:\tlearn: 0.0053707\ttotal: 8m 58s\tremaining: 4m 25s\n",
      "670:\tlearn: 0.0053707\ttotal: 8m 59s\tremaining: 4m 24s\n",
      "671:\tlearn: 0.0053707\ttotal: 9m\tremaining: 4m 23s\n",
      "672:\tlearn: 0.0053707\ttotal: 9m\tremaining: 4m 22s\n",
      "673:\tlearn: 0.0053707\ttotal: 9m 1s\tremaining: 4m 21s\n",
      "674:\tlearn: 0.0053707\ttotal: 9m 2s\tremaining: 4m 21s\n",
      "675:\tlearn: 0.0053707\ttotal: 9m 3s\tremaining: 4m 20s\n",
      "676:\tlearn: 0.0053707\ttotal: 9m 4s\tremaining: 4m 19s\n",
      "677:\tlearn: 0.0053707\ttotal: 9m 4s\tremaining: 4m 18s\n",
      "678:\tlearn: 0.0053707\ttotal: 9m 5s\tremaining: 4m 17s\n",
      "679:\tlearn: 0.0053707\ttotal: 9m 6s\tremaining: 4m 16s\n",
      "680:\tlearn: 0.0053707\ttotal: 9m 6s\tremaining: 4m 16s\n",
      "681:\tlearn: 0.0053707\ttotal: 9m 7s\tremaining: 4m 15s\n",
      "682:\tlearn: 0.0053707\ttotal: 9m 8s\tremaining: 4m 14s\n",
      "683:\tlearn: 0.0053707\ttotal: 9m 8s\tremaining: 4m 13s\n",
      "684:\tlearn: 0.0053707\ttotal: 9m 9s\tremaining: 4m 12s\n",
      "685:\tlearn: 0.0053707\ttotal: 9m 10s\tremaining: 4m 11s\n",
      "686:\tlearn: 0.0053707\ttotal: 9m 10s\tremaining: 4m 10s\n",
      "687:\tlearn: 0.0053707\ttotal: 9m 11s\tremaining: 4m 10s\n",
      "688:\tlearn: 0.0053706\ttotal: 9m 12s\tremaining: 4m 9s\n",
      "689:\tlearn: 0.0053706\ttotal: 9m 12s\tremaining: 4m 8s\n",
      "690:\tlearn: 0.0053706\ttotal: 9m 13s\tremaining: 4m 7s\n",
      "691:\tlearn: 0.0053706\ttotal: 9m 14s\tremaining: 4m 6s\n",
      "692:\tlearn: 0.0053706\ttotal: 9m 14s\tremaining: 4m 5s\n",
      "693:\tlearn: 0.0053706\ttotal: 9m 15s\tremaining: 4m 4s\n",
      "694:\tlearn: 0.0053706\ttotal: 9m 16s\tremaining: 4m 4s\n",
      "695:\tlearn: 0.0053706\ttotal: 9m 16s\tremaining: 4m 3s\n",
      "696:\tlearn: 0.0053706\ttotal: 9m 17s\tremaining: 4m 2s\n",
      "697:\tlearn: 0.0053706\ttotal: 9m 18s\tremaining: 4m 1s\n",
      "698:\tlearn: 0.0053706\ttotal: 9m 19s\tremaining: 4m\n",
      "699:\tlearn: 0.0053706\ttotal: 9m 19s\tremaining: 3m 59s\n",
      "700:\tlearn: 0.0053706\ttotal: 9m 20s\tremaining: 3m 59s\n",
      "701:\tlearn: 0.0053706\ttotal: 9m 21s\tremaining: 3m 58s\n",
      "702:\tlearn: 0.0053706\ttotal: 9m 21s\tremaining: 3m 57s\n",
      "703:\tlearn: 0.0053706\ttotal: 9m 22s\tremaining: 3m 56s\n",
      "704:\tlearn: 0.0053706\ttotal: 9m 23s\tremaining: 3m 55s\n",
      "705:\tlearn: 0.0053706\ttotal: 9m 23s\tremaining: 3m 54s\n",
      "706:\tlearn: 0.0053706\ttotal: 9m 24s\tremaining: 3m 54s\n",
      "707:\tlearn: 0.0053706\ttotal: 9m 25s\tremaining: 3m 53s\n",
      "708:\tlearn: 0.0053706\ttotal: 9m 26s\tremaining: 3m 52s\n",
      "709:\tlearn: 0.0053706\ttotal: 9m 26s\tremaining: 3m 51s\n",
      "710:\tlearn: 0.0053706\ttotal: 9m 27s\tremaining: 3m 50s\n",
      "711:\tlearn: 0.0053706\ttotal: 9m 28s\tremaining: 3m 49s\n",
      "712:\tlearn: 0.0053706\ttotal: 9m 28s\tremaining: 3m 49s\n",
      "713:\tlearn: 0.0053706\ttotal: 9m 29s\tremaining: 3m 48s\n",
      "714:\tlearn: 0.0053706\ttotal: 9m 30s\tremaining: 3m 47s\n",
      "715:\tlearn: 0.0053705\ttotal: 9m 30s\tremaining: 3m 46s\n",
      "716:\tlearn: 0.0053705\ttotal: 9m 31s\tremaining: 3m 45s\n",
      "717:\tlearn: 0.0053705\ttotal: 9m 32s\tremaining: 3m 44s\n",
      "718:\tlearn: 0.0053705\ttotal: 9m 33s\tremaining: 3m 43s\n",
      "719:\tlearn: 0.0053705\ttotal: 9m 33s\tremaining: 3m 43s\n",
      "720:\tlearn: 0.0053705\ttotal: 9m 34s\tremaining: 3m 42s\n",
      "721:\tlearn: 0.0053705\ttotal: 9m 35s\tremaining: 3m 41s\n",
      "722:\tlearn: 0.0053705\ttotal: 9m 36s\tremaining: 3m 40s\n",
      "723:\tlearn: 0.0053705\ttotal: 9m 36s\tremaining: 3m 39s\n",
      "724:\tlearn: 0.0053705\ttotal: 9m 37s\tremaining: 3m 39s\n",
      "725:\tlearn: 0.0053705\ttotal: 9m 38s\tremaining: 3m 38s\n",
      "726:\tlearn: 0.0053705\ttotal: 9m 38s\tremaining: 3m 37s\n",
      "727:\tlearn: 0.0053705\ttotal: 9m 39s\tremaining: 3m 36s\n",
      "728:\tlearn: 0.0053705\ttotal: 9m 40s\tremaining: 3m 35s\n",
      "729:\tlearn: 0.0053705\ttotal: 9m 40s\tremaining: 3m 34s\n",
      "730:\tlearn: 0.0053704\ttotal: 9m 41s\tremaining: 3m 33s\n",
      "731:\tlearn: 0.0053704\ttotal: 9m 42s\tremaining: 3m 33s\n",
      "732:\tlearn: 0.0053704\ttotal: 9m 42s\tremaining: 3m 32s\n",
      "733:\tlearn: 0.0053704\ttotal: 9m 43s\tremaining: 3m 31s\n",
      "734:\tlearn: 0.0053704\ttotal: 9m 44s\tremaining: 3m 30s\n",
      "735:\tlearn: 0.0053704\ttotal: 9m 44s\tremaining: 3m 29s\n",
      "736:\tlearn: 0.0053704\ttotal: 9m 45s\tremaining: 3m 28s\n",
      "737:\tlearn: 0.0053400\ttotal: 9m 46s\tremaining: 3m 28s\n",
      "738:\tlearn: 0.0053400\ttotal: 9m 47s\tremaining: 3m 27s\n",
      "739:\tlearn: 0.0053399\ttotal: 9m 47s\tremaining: 3m 26s\n",
      "740:\tlearn: 0.0053399\ttotal: 9m 48s\tremaining: 3m 25s\n",
      "741:\tlearn: 0.0053399\ttotal: 9m 49s\tremaining: 3m 24s\n",
      "742:\tlearn: 0.0053398\ttotal: 9m 49s\tremaining: 3m 24s\n",
      "743:\tlearn: 0.0053398\ttotal: 9m 50s\tremaining: 3m 23s\n",
      "744:\tlearn: 0.0053398\ttotal: 9m 51s\tremaining: 3m 22s\n",
      "745:\tlearn: 0.0053398\ttotal: 9m 52s\tremaining: 3m 21s\n",
      "746:\tlearn: 0.0053397\ttotal: 9m 53s\tremaining: 3m 20s\n",
      "747:\tlearn: 0.0053397\ttotal: 9m 53s\tremaining: 3m 20s\n",
      "748:\tlearn: 0.0053397\ttotal: 9m 54s\tremaining: 3m 19s\n",
      "749:\tlearn: 0.0053396\ttotal: 9m 55s\tremaining: 3m 18s\n",
      "750:\tlearn: 0.0053396\ttotal: 9m 55s\tremaining: 3m 17s\n",
      "751:\tlearn: 0.0053395\ttotal: 9m 56s\tremaining: 3m 16s\n",
      "752:\tlearn: 0.0053395\ttotal: 9m 57s\tremaining: 3m 15s\n",
      "753:\tlearn: 0.0053395\ttotal: 9m 57s\tremaining: 3m 15s\n",
      "754:\tlearn: 0.0053395\ttotal: 9m 58s\tremaining: 3m 14s\n",
      "755:\tlearn: 0.0053395\ttotal: 9m 59s\tremaining: 3m 13s\n",
      "756:\tlearn: 0.0053394\ttotal: 10m\tremaining: 3m 12s\n",
      "757:\tlearn: 0.0053394\ttotal: 10m\tremaining: 3m 11s\n",
      "758:\tlearn: 0.0053394\ttotal: 10m 1s\tremaining: 3m 10s\n",
      "759:\tlearn: 0.0053394\ttotal: 10m 2s\tremaining: 3m 10s\n",
      "760:\tlearn: 0.0053394\ttotal: 10m 2s\tremaining: 3m 9s\n",
      "761:\tlearn: 0.0053394\ttotal: 10m 3s\tremaining: 3m 8s\n",
      "762:\tlearn: 0.0053394\ttotal: 10m 4s\tremaining: 3m 7s\n",
      "763:\tlearn: 0.0053393\ttotal: 10m 4s\tremaining: 3m 6s\n"
     ]
    },
    {
     "name": "stdout",
     "output_type": "stream",
     "text": [
      "764:\tlearn: 0.0053393\ttotal: 10m 5s\tremaining: 3m 6s\n",
      "765:\tlearn: 0.0053393\ttotal: 10m 6s\tremaining: 3m 5s\n",
      "766:\tlearn: 0.0053393\ttotal: 10m 7s\tremaining: 3m 4s\n",
      "767:\tlearn: 0.0053393\ttotal: 10m 7s\tremaining: 3m 3s\n",
      "768:\tlearn: 0.0053392\ttotal: 10m 8s\tremaining: 3m 2s\n",
      "769:\tlearn: 0.0053392\ttotal: 10m 9s\tremaining: 3m 2s\n",
      "770:\tlearn: 0.0053392\ttotal: 10m 10s\tremaining: 3m 1s\n",
      "771:\tlearn: 0.0053292\ttotal: 10m 10s\tremaining: 3m\n",
      "772:\tlearn: 0.0053292\ttotal: 10m 11s\tremaining: 2m 59s\n",
      "773:\tlearn: 0.0053220\ttotal: 10m 12s\tremaining: 2m 58s\n",
      "774:\tlearn: 0.0053219\ttotal: 10m 13s\tremaining: 2m 57s\n",
      "775:\tlearn: 0.0053219\ttotal: 10m 13s\tremaining: 2m 57s\n",
      "776:\tlearn: 0.0053219\ttotal: 10m 14s\tremaining: 2m 56s\n",
      "777:\tlearn: 0.0053219\ttotal: 10m 15s\tremaining: 2m 55s\n",
      "778:\tlearn: 0.0053219\ttotal: 10m 15s\tremaining: 2m 54s\n",
      "779:\tlearn: 0.0053219\ttotal: 10m 16s\tremaining: 2m 53s\n",
      "780:\tlearn: 0.0053219\ttotal: 10m 17s\tremaining: 2m 53s\n",
      "781:\tlearn: 0.0053219\ttotal: 10m 17s\tremaining: 2m 52s\n",
      "782:\tlearn: 0.0053219\ttotal: 10m 18s\tremaining: 2m 51s\n",
      "783:\tlearn: 0.0053218\ttotal: 10m 19s\tremaining: 2m 50s\n",
      "784:\tlearn: 0.0053218\ttotal: 10m 19s\tremaining: 2m 49s\n",
      "785:\tlearn: 0.0053218\ttotal: 10m 20s\tremaining: 2m 48s\n",
      "786:\tlearn: 0.0053218\ttotal: 10m 21s\tremaining: 2m 48s\n",
      "787:\tlearn: 0.0053218\ttotal: 10m 22s\tremaining: 2m 47s\n",
      "788:\tlearn: 0.0053218\ttotal: 10m 22s\tremaining: 2m 46s\n",
      "789:\tlearn: 0.0053218\ttotal: 10m 23s\tremaining: 2m 45s\n",
      "790:\tlearn: 0.0053218\ttotal: 10m 24s\tremaining: 2m 44s\n",
      "791:\tlearn: 0.0053218\ttotal: 10m 25s\tremaining: 2m 44s\n",
      "792:\tlearn: 0.0053218\ttotal: 10m 25s\tremaining: 2m 43s\n",
      "793:\tlearn: 0.0052922\ttotal: 10m 26s\tremaining: 2m 42s\n",
      "794:\tlearn: 0.0052921\ttotal: 10m 27s\tremaining: 2m 41s\n",
      "795:\tlearn: 0.0052921\ttotal: 10m 27s\tremaining: 2m 40s\n",
      "796:\tlearn: 0.0052921\ttotal: 10m 28s\tremaining: 2m 40s\n",
      "797:\tlearn: 0.0052921\ttotal: 10m 29s\tremaining: 2m 39s\n",
      "798:\tlearn: 0.0052921\ttotal: 10m 30s\tremaining: 2m 38s\n",
      "799:\tlearn: 0.0052921\ttotal: 10m 30s\tremaining: 2m 37s\n",
      "800:\tlearn: 0.0052920\ttotal: 10m 31s\tremaining: 2m 36s\n",
      "801:\tlearn: 0.0052919\ttotal: 10m 32s\tremaining: 2m 36s\n",
      "802:\tlearn: 0.0052918\ttotal: 10m 32s\tremaining: 2m 35s\n",
      "803:\tlearn: 0.0052918\ttotal: 10m 33s\tremaining: 2m 34s\n",
      "804:\tlearn: 0.0052918\ttotal: 10m 34s\tremaining: 2m 33s\n",
      "805:\tlearn: 0.0052918\ttotal: 10m 35s\tremaining: 2m 32s\n",
      "806:\tlearn: 0.0052918\ttotal: 10m 35s\tremaining: 2m 32s\n",
      "807:\tlearn: 0.0052917\ttotal: 10m 36s\tremaining: 2m 31s\n",
      "808:\tlearn: 0.0052917\ttotal: 10m 37s\tremaining: 2m 30s\n",
      "809:\tlearn: 0.0052917\ttotal: 10m 37s\tremaining: 2m 29s\n",
      "810:\tlearn: 0.0052917\ttotal: 10m 38s\tremaining: 2m 28s\n",
      "811:\tlearn: 0.0052917\ttotal: 10m 39s\tremaining: 2m 28s\n",
      "812:\tlearn: 0.0052916\ttotal: 10m 40s\tremaining: 2m 27s\n",
      "813:\tlearn: 0.0052915\ttotal: 10m 40s\tremaining: 2m 26s\n",
      "814:\tlearn: 0.0052915\ttotal: 10m 41s\tremaining: 2m 25s\n",
      "815:\tlearn: 0.0052915\ttotal: 10m 42s\tremaining: 2m 24s\n",
      "816:\tlearn: 0.0052914\ttotal: 10m 42s\tremaining: 2m 24s\n",
      "817:\tlearn: 0.0052914\ttotal: 10m 43s\tremaining: 2m 23s\n",
      "818:\tlearn: 0.0052914\ttotal: 10m 44s\tremaining: 2m 22s\n",
      "819:\tlearn: 0.0052913\ttotal: 10m 44s\tremaining: 2m 21s\n",
      "820:\tlearn: 0.0052912\ttotal: 10m 45s\tremaining: 2m 20s\n",
      "821:\tlearn: 0.0052912\ttotal: 10m 46s\tremaining: 2m 19s\n",
      "822:\tlearn: 0.0052912\ttotal: 10m 47s\tremaining: 2m 19s\n",
      "823:\tlearn: 0.0052911\ttotal: 10m 47s\tremaining: 2m 18s\n",
      "824:\tlearn: 0.0052911\ttotal: 10m 48s\tremaining: 2m 17s\n",
      "825:\tlearn: 0.0052911\ttotal: 10m 49s\tremaining: 2m 16s\n",
      "826:\tlearn: 0.0052911\ttotal: 10m 49s\tremaining: 2m 15s\n",
      "827:\tlearn: 0.0052910\ttotal: 10m 50s\tremaining: 2m 15s\n",
      "828:\tlearn: 0.0052910\ttotal: 10m 51s\tremaining: 2m 14s\n",
      "829:\tlearn: 0.0052909\ttotal: 10m 52s\tremaining: 2m 13s\n",
      "830:\tlearn: 0.0052909\ttotal: 10m 52s\tremaining: 2m 12s\n",
      "831:\tlearn: 0.0052909\ttotal: 10m 53s\tremaining: 2m 11s\n",
      "832:\tlearn: 0.0052908\ttotal: 10m 54s\tremaining: 2m 11s\n",
      "833:\tlearn: 0.0052908\ttotal: 10m 55s\tremaining: 2m 10s\n",
      "834:\tlearn: 0.0052908\ttotal: 10m 56s\tremaining: 2m 9s\n",
      "835:\tlearn: 0.0052908\ttotal: 10m 56s\tremaining: 2m 8s\n",
      "836:\tlearn: 0.0052908\ttotal: 10m 57s\tremaining: 2m 8s\n",
      "837:\tlearn: 0.0052908\ttotal: 10m 58s\tremaining: 2m 7s\n",
      "838:\tlearn: 0.0052907\ttotal: 10m 58s\tremaining: 2m 6s\n",
      "839:\tlearn: 0.0052906\ttotal: 10m 59s\tremaining: 2m 5s\n",
      "840:\tlearn: 0.0052906\ttotal: 11m\tremaining: 2m 4s\n",
      "841:\tlearn: 0.0052906\ttotal: 11m\tremaining: 2m 4s\n",
      "842:\tlearn: 0.0052906\ttotal: 11m 1s\tremaining: 2m 3s\n",
      "843:\tlearn: 0.0052906\ttotal: 11m 2s\tremaining: 2m 2s\n",
      "844:\tlearn: 0.0052906\ttotal: 11m 2s\tremaining: 2m 1s\n",
      "845:\tlearn: 0.0052906\ttotal: 11m 3s\tremaining: 2m\n",
      "846:\tlearn: 0.0052905\ttotal: 11m 4s\tremaining: 1m 59s\n",
      "847:\tlearn: 0.0052905\ttotal: 11m 4s\tremaining: 1m 59s\n",
      "848:\tlearn: 0.0052905\ttotal: 11m 5s\tremaining: 1m 58s\n",
      "849:\tlearn: 0.0052905\ttotal: 11m 6s\tremaining: 1m 57s\n",
      "850:\tlearn: 0.0052905\ttotal: 11m 7s\tremaining: 1m 56s\n",
      "851:\tlearn: 0.0052904\ttotal: 11m 7s\tremaining: 1m 55s\n",
      "852:\tlearn: 0.0052904\ttotal: 11m 8s\tremaining: 1m 55s\n",
      "853:\tlearn: 0.0052904\ttotal: 11m 9s\tremaining: 1m 54s\n",
      "854:\tlearn: 0.0052903\ttotal: 11m 9s\tremaining: 1m 53s\n",
      "855:\tlearn: 0.0052903\ttotal: 11m 10s\tremaining: 1m 52s\n",
      "856:\tlearn: 0.0052902\ttotal: 11m 11s\tremaining: 1m 52s\n",
      "857:\tlearn: 0.0052902\ttotal: 11m 12s\tremaining: 1m 51s\n",
      "858:\tlearn: 0.0052902\ttotal: 11m 12s\tremaining: 1m 50s\n",
      "859:\tlearn: 0.0052902\ttotal: 11m 13s\tremaining: 1m 49s\n",
      "860:\tlearn: 0.0052902\ttotal: 11m 14s\tremaining: 1m 48s\n",
      "861:\tlearn: 0.0052901\ttotal: 11m 15s\tremaining: 1m 48s\n",
      "862:\tlearn: 0.0052901\ttotal: 11m 15s\tremaining: 1m 47s\n",
      "863:\tlearn: 0.0052901\ttotal: 11m 16s\tremaining: 1m 46s\n",
      "864:\tlearn: 0.0052900\ttotal: 11m 17s\tremaining: 1m 45s\n",
      "865:\tlearn: 0.0052900\ttotal: 11m 17s\tremaining: 1m 44s\n",
      "866:\tlearn: 0.0052900\ttotal: 11m 18s\tremaining: 1m 44s\n",
      "867:\tlearn: 0.0052900\ttotal: 11m 19s\tremaining: 1m 43s\n",
      "868:\tlearn: 0.0052900\ttotal: 11m 19s\tremaining: 1m 42s\n",
      "869:\tlearn: 0.0052899\ttotal: 11m 20s\tremaining: 1m 41s\n",
      "870:\tlearn: 0.0052899\ttotal: 11m 21s\tremaining: 1m 40s\n",
      "871:\tlearn: 0.0052899\ttotal: 11m 21s\tremaining: 1m 40s\n",
      "872:\tlearn: 0.0052898\ttotal: 11m 22s\tremaining: 1m 39s\n",
      "873:\tlearn: 0.0052898\ttotal: 11m 23s\tremaining: 1m 38s\n",
      "874:\tlearn: 0.0052897\ttotal: 11m 24s\tremaining: 1m 37s\n",
      "875:\tlearn: 0.0052896\ttotal: 11m 24s\tremaining: 1m 36s\n",
      "876:\tlearn: 0.0052896\ttotal: 11m 25s\tremaining: 1m 36s\n",
      "877:\tlearn: 0.0052896\ttotal: 11m 26s\tremaining: 1m 35s\n",
      "878:\tlearn: 0.0052896\ttotal: 11m 27s\tremaining: 1m 34s\n",
      "879:\tlearn: 0.0052780\ttotal: 11m 28s\tremaining: 1m 33s\n",
      "880:\tlearn: 0.0052780\ttotal: 11m 29s\tremaining: 1m 33s\n",
      "881:\tlearn: 0.0052780\ttotal: 11m 30s\tremaining: 1m 32s\n",
      "882:\tlearn: 0.0052779\ttotal: 11m 30s\tremaining: 1m 31s\n",
      "883:\tlearn: 0.0052779\ttotal: 11m 31s\tremaining: 1m 30s\n",
      "884:\tlearn: 0.0052778\ttotal: 11m 32s\tremaining: 1m 29s\n",
      "885:\tlearn: 0.0052777\ttotal: 11m 32s\tremaining: 1m 29s\n",
      "886:\tlearn: 0.0052777\ttotal: 11m 33s\tremaining: 1m 28s\n",
      "887:\tlearn: 0.0052776\ttotal: 11m 34s\tremaining: 1m 27s\n",
      "888:\tlearn: 0.0052776\ttotal: 11m 34s\tremaining: 1m 26s\n",
      "889:\tlearn: 0.0052775\ttotal: 11m 35s\tremaining: 1m 25s\n",
      "890:\tlearn: 0.0052775\ttotal: 11m 36s\tremaining: 1m 25s\n",
      "891:\tlearn: 0.0052775\ttotal: 11m 36s\tremaining: 1m 24s\n",
      "892:\tlearn: 0.0052775\ttotal: 11m 37s\tremaining: 1m 23s\n",
      "893:\tlearn: 0.0052775\ttotal: 11m 38s\tremaining: 1m 22s\n",
      "894:\tlearn: 0.0052774\ttotal: 11m 38s\tremaining: 1m 22s\n",
      "895:\tlearn: 0.0052774\ttotal: 11m 39s\tremaining: 1m 21s\n",
      "896:\tlearn: 0.0052774\ttotal: 11m 40s\tremaining: 1m 20s\n",
      "897:\tlearn: 0.0052774\ttotal: 11m 41s\tremaining: 1m 19s\n",
      "898:\tlearn: 0.0052774\ttotal: 11m 41s\tremaining: 1m 18s\n",
      "899:\tlearn: 0.0052774\ttotal: 11m 42s\tremaining: 1m 18s\n",
      "900:\tlearn: 0.0052774\ttotal: 11m 43s\tremaining: 1m 17s\n",
      "901:\tlearn: 0.0052774\ttotal: 11m 44s\tremaining: 1m 16s\n",
      "902:\tlearn: 0.0052774\ttotal: 11m 44s\tremaining: 1m 15s\n",
      "903:\tlearn: 0.0052773\ttotal: 11m 45s\tremaining: 1m 14s\n",
      "904:\tlearn: 0.0052773\ttotal: 11m 46s\tremaining: 1m 14s\n",
      "905:\tlearn: 0.0052773\ttotal: 11m 46s\tremaining: 1m 13s\n",
      "906:\tlearn: 0.0052772\ttotal: 11m 47s\tremaining: 1m 12s\n",
      "907:\tlearn: 0.0052772\ttotal: 11m 48s\tremaining: 1m 11s\n",
      "908:\tlearn: 0.0052771\ttotal: 11m 48s\tremaining: 1m 10s\n",
      "909:\tlearn: 0.0052771\ttotal: 11m 49s\tremaining: 1m 10s\n",
      "910:\tlearn: 0.0052771\ttotal: 11m 50s\tremaining: 1m 9s\n",
      "911:\tlearn: 0.0052771\ttotal: 11m 50s\tremaining: 1m 8s\n",
      "912:\tlearn: 0.0052771\ttotal: 11m 51s\tremaining: 1m 7s\n",
      "913:\tlearn: 0.0052770\ttotal: 11m 52s\tremaining: 1m 7s\n"
     ]
    },
    {
     "name": "stdout",
     "output_type": "stream",
     "text": [
      "914:\tlearn: 0.0052770\ttotal: 11m 53s\tremaining: 1m 6s\n",
      "915:\tlearn: 0.0052770\ttotal: 11m 53s\tremaining: 1m 5s\n",
      "916:\tlearn: 0.0052770\ttotal: 11m 54s\tremaining: 1m 4s\n",
      "917:\tlearn: 0.0052770\ttotal: 11m 55s\tremaining: 1m 3s\n",
      "918:\tlearn: 0.0052769\ttotal: 11m 55s\tremaining: 1m 3s\n",
      "919:\tlearn: 0.0052769\ttotal: 11m 56s\tremaining: 1m 2s\n",
      "920:\tlearn: 0.0052769\ttotal: 11m 57s\tremaining: 1m 1s\n",
      "921:\tlearn: 0.0052767\ttotal: 11m 57s\tremaining: 1m\n",
      "922:\tlearn: 0.0052767\ttotal: 11m 58s\tremaining: 60s\n",
      "923:\tlearn: 0.0052766\ttotal: 11m 59s\tremaining: 59.2s\n",
      "924:\tlearn: 0.0052765\ttotal: 12m\tremaining: 58.4s\n",
      "925:\tlearn: 0.0052765\ttotal: 12m\tremaining: 57.6s\n",
      "926:\tlearn: 0.0052765\ttotal: 12m 1s\tremaining: 56.8s\n",
      "927:\tlearn: 0.0052765\ttotal: 12m 2s\tremaining: 56s\n",
      "928:\tlearn: 0.0052763\ttotal: 12m 2s\tremaining: 55.2s\n",
      "929:\tlearn: 0.0052763\ttotal: 12m 3s\tremaining: 54.5s\n",
      "930:\tlearn: 0.0052763\ttotal: 12m 4s\tremaining: 53.7s\n",
      "931:\tlearn: 0.0052763\ttotal: 12m 5s\tremaining: 52.9s\n",
      "932:\tlearn: 0.0052762\ttotal: 12m 5s\tremaining: 52.1s\n",
      "933:\tlearn: 0.0052762\ttotal: 12m 6s\tremaining: 51.4s\n",
      "934:\tlearn: 0.0052761\ttotal: 12m 7s\tremaining: 50.6s\n",
      "935:\tlearn: 0.0052761\ttotal: 12m 8s\tremaining: 49.8s\n",
      "936:\tlearn: 0.0052761\ttotal: 12m 8s\tremaining: 49s\n",
      "937:\tlearn: 0.0052761\ttotal: 12m 9s\tremaining: 48.2s\n",
      "938:\tlearn: 0.0052761\ttotal: 12m 10s\tremaining: 47.5s\n",
      "939:\tlearn: 0.0052761\ttotal: 12m 11s\tremaining: 46.7s\n",
      "940:\tlearn: 0.0052761\ttotal: 12m 11s\tremaining: 45.9s\n",
      "941:\tlearn: 0.0052761\ttotal: 12m 12s\tremaining: 45.1s\n",
      "942:\tlearn: 0.0052760\ttotal: 12m 13s\tremaining: 44.3s\n",
      "943:\tlearn: 0.0052760\ttotal: 12m 14s\tremaining: 43.5s\n",
      "944:\tlearn: 0.0052760\ttotal: 12m 14s\tremaining: 42.8s\n",
      "945:\tlearn: 0.0052760\ttotal: 12m 15s\tremaining: 42s\n",
      "946:\tlearn: 0.0052760\ttotal: 12m 16s\tremaining: 41.2s\n",
      "947:\tlearn: 0.0052759\ttotal: 12m 16s\tremaining: 40.4s\n",
      "948:\tlearn: 0.0052758\ttotal: 12m 17s\tremaining: 39.6s\n",
      "949:\tlearn: 0.0052758\ttotal: 12m 18s\tremaining: 38.9s\n",
      "950:\tlearn: 0.0052758\ttotal: 12m 19s\tremaining: 38.1s\n",
      "951:\tlearn: 0.0052758\ttotal: 12m 19s\tremaining: 37.3s\n",
      "952:\tlearn: 0.0052758\ttotal: 12m 20s\tremaining: 36.5s\n",
      "953:\tlearn: 0.0052757\ttotal: 12m 21s\tremaining: 35.7s\n",
      "954:\tlearn: 0.0052757\ttotal: 12m 21s\tremaining: 35s\n",
      "955:\tlearn: 0.0052757\ttotal: 12m 22s\tremaining: 34.2s\n",
      "956:\tlearn: 0.0052756\ttotal: 12m 23s\tremaining: 33.4s\n",
      "957:\tlearn: 0.0052756\ttotal: 12m 23s\tremaining: 32.6s\n",
      "958:\tlearn: 0.0052756\ttotal: 12m 24s\tremaining: 31.8s\n",
      "959:\tlearn: 0.0052755\ttotal: 12m 25s\tremaining: 31.1s\n",
      "960:\tlearn: 0.0052755\ttotal: 12m 26s\tremaining: 30.3s\n",
      "961:\tlearn: 0.0052755\ttotal: 12m 26s\tremaining: 29.5s\n",
      "962:\tlearn: 0.0052754\ttotal: 12m 27s\tremaining: 28.7s\n",
      "963:\tlearn: 0.0052754\ttotal: 12m 28s\tremaining: 27.9s\n",
      "964:\tlearn: 0.0052753\ttotal: 12m 28s\tremaining: 27.2s\n",
      "965:\tlearn: 0.0052753\ttotal: 12m 29s\tremaining: 26.4s\n",
      "966:\tlearn: 0.0052752\ttotal: 12m 30s\tremaining: 25.6s\n",
      "967:\tlearn: 0.0052751\ttotal: 12m 31s\tremaining: 24.8s\n",
      "968:\tlearn: 0.0052751\ttotal: 12m 32s\tremaining: 24.1s\n",
      "969:\tlearn: 0.0052750\ttotal: 12m 32s\tremaining: 23.3s\n",
      "970:\tlearn: 0.0052750\ttotal: 12m 33s\tremaining: 22.5s\n",
      "971:\tlearn: 0.0052750\ttotal: 12m 34s\tremaining: 21.7s\n",
      "972:\tlearn: 0.0052750\ttotal: 12m 35s\tremaining: 21s\n",
      "973:\tlearn: 0.0052749\ttotal: 12m 35s\tremaining: 20.2s\n",
      "974:\tlearn: 0.0052749\ttotal: 12m 36s\tremaining: 19.4s\n",
      "975:\tlearn: 0.0052749\ttotal: 12m 37s\tremaining: 18.6s\n",
      "976:\tlearn: 0.0052748\ttotal: 12m 37s\tremaining: 17.8s\n",
      "977:\tlearn: 0.0052748\ttotal: 12m 38s\tremaining: 17.1s\n",
      "978:\tlearn: 0.0052748\ttotal: 12m 39s\tremaining: 16.3s\n",
      "979:\tlearn: 0.0052241\ttotal: 12m 40s\tremaining: 15.5s\n",
      "980:\tlearn: 0.0052240\ttotal: 12m 40s\tremaining: 14.7s\n",
      "981:\tlearn: 0.0052240\ttotal: 12m 41s\tremaining: 14s\n",
      "982:\tlearn: 0.0052240\ttotal: 12m 42s\tremaining: 13.2s\n",
      "983:\tlearn: 0.0052240\ttotal: 12m 43s\tremaining: 12.4s\n",
      "984:\tlearn: 0.0052240\ttotal: 12m 43s\tremaining: 11.6s\n",
      "985:\tlearn: 0.0052240\ttotal: 12m 44s\tremaining: 10.9s\n",
      "986:\tlearn: 0.0052239\ttotal: 12m 45s\tremaining: 10.1s\n",
      "987:\tlearn: 0.0052239\ttotal: 12m 45s\tremaining: 9.3s\n",
      "988:\tlearn: 0.0052239\ttotal: 12m 46s\tremaining: 8.53s\n",
      "989:\tlearn: 0.0052239\ttotal: 12m 47s\tremaining: 7.75s\n",
      "990:\tlearn: 0.0052239\ttotal: 12m 48s\tremaining: 6.98s\n",
      "991:\tlearn: 0.0052239\ttotal: 12m 48s\tremaining: 6.2s\n",
      "992:\tlearn: 0.0052238\ttotal: 12m 49s\tremaining: 5.42s\n",
      "993:\tlearn: 0.0052238\ttotal: 12m 50s\tremaining: 4.65s\n",
      "994:\tlearn: 0.0052238\ttotal: 12m 51s\tremaining: 3.87s\n",
      "995:\tlearn: 0.0052238\ttotal: 12m 51s\tremaining: 3.1s\n",
      "996:\tlearn: 0.0052238\ttotal: 12m 52s\tremaining: 2.32s\n",
      "997:\tlearn: 0.0052238\ttotal: 12m 53s\tremaining: 1.55s\n",
      "998:\tlearn: 0.0052238\ttotal: 12m 53s\tremaining: 775ms\n",
      "999:\tlearn: 0.0052238\ttotal: 12m 54s\tremaining: 0us\n"
     ]
    },
    {
     "data": {
      "image/png": "[encoded data removed]",
      "text/plain": [
       "<Figure size 432x288 with 2 Axes>"
      ]
     },
     "metadata": {
      "needs_background": "light"
     },
     "output_type": "display_data"
    }
   ],
   "source": [
    "test_model(cad,X_res_train2,X_test5, y_res_train2,y_test5)"
   ]
  },
  {
   "cell_type": "code",
   "execution_count": 143,
   "metadata": {},
   "outputs": [],
   "source": [
    "predictions_cad_ENN=cad.predict(X_test6)"
   ]
  },
  {
   "cell_type": "code",
   "execution_count": 144,
   "metadata": {
    "scrolled": true
   },
   "outputs": [
    {
     "name": "stdout",
     "output_type": "stream",
     "text": [
      "f1 score= 0.540377863233573\n",
      "precision= 0.37459434399629116\n",
      "recall= 0.9694061187762447\n"
     ]
    }
   ],
   "source": [
    "métriques(predictions_cad_ENN,y_test6)"
   ]
  },
  {
   "cell_type": "markdown",
   "metadata": {},
   "source": [
    "Résultats assez semblable en rajoutant un algorithme ENN"
   ]
  },
  {
   "cell_type": "markdown",
   "metadata": {},
   "source": [
    "### Modèles avec SMOTE_Tomek:"
   ]
  },
  {
   "cell_type": "markdown",
   "metadata": {},
   "source": [
    "#### forêt"
   ]
  },
  {
   "cell_type": "code",
   "execution_count": 104,
   "metadata": {
    "scrolled": true
   },
   "outputs": [
    {
     "data": {
      "image/png": "[encoded data removed]",
      "text/plain": [
       "<Figure size 432x288 with 2 Axes>"
      ]
     },
     "metadata": {
      "needs_background": "light"
     },
     "output_type": "display_data"
    }
   ],
   "source": [
    "test_model(randomforest,X_res_train3,X_test6, y_res_train3,y_test6)"
   ]
  },
  {
   "cell_type": "code",
   "execution_count": 105,
   "metadata": {},
   "outputs": [],
   "source": [
    "predictions_foret_tomek=randomforest.predict(X_test6)"
   ]
  },
  {
   "cell_type": "code",
   "execution_count": 106,
   "metadata": {},
   "outputs": [
    {
     "name": "stdout",
     "output_type": "stream",
     "text": [
      "f1 score= 0.7412073490813649\n",
      "precision= 0.6588894073728419\n",
      "recall= 0.8470305938812237\n"
     ]
    }
   ],
   "source": [
    "métriques(predictions_foret_tomek,y_test6)"
   ]
  },
  {
   "cell_type": "markdown",
   "metadata": {},
   "source": [
    "**XGBoostClassifier**"
   ]
  },
  {
   "cell_type": "code",
   "execution_count": 107,
   "metadata": {
    "scrolled": true
   },
   "outputs": [
    {
     "name": "stdout",
     "output_type": "stream",
     "text": [
      "[00:17:08] WARNING: C:/Users/Administrator/workspace/xgboost-win64_release_1.4.0/src/learner.cc:1095: Starting in XGBoost 1.3.0, the default evaluation metric used with the objective 'binary:logistic' was changed from 'error' to 'logloss'. Explicitly set eval_metric if you'd like to restore the old behavior.\n"
     ]
    },
    {
     "data": {
      "image/png": "[encoded data removed]",
      "text/plain": [
       "<Figure size 432x288 with 2 Axes>"
      ]
     },
     "metadata": {
      "needs_background": "light"
     },
     "output_type": "display_data"
    }
   ],
   "source": [
    "test_model(xgb,X_res_train3,X_test6, y_res_train3,y_test6)"
   ]
  },
  {
   "cell_type": "code",
   "execution_count": 108,
   "metadata": {},
   "outputs": [],
   "source": [
    "predictions_xgb_ENN=xgb.predict(X_test6)"
   ]
  },
  {
   "cell_type": "code",
   "execution_count": 109,
   "metadata": {},
   "outputs": [
    {
     "name": "stdout",
     "output_type": "stream",
     "text": [
      "f1 score= 0.7198166072338257\n",
      "precision= 0.6254980079681275\n",
      "recall= 0.847630473905219\n"
     ]
    }
   ],
   "source": [
    "métriques(predictions_xgb_ENN,y_test6)"
   ]
  },
  {
   "cell_type": "markdown",
   "metadata": {},
   "source": [
    "**CADBoost**"
   ]
  },
  {
   "cell_type": "code",
   "execution_count": 29,
   "metadata": {
    "scrolled": true
   },
   "outputs": [
    {
     "name": "stdout",
     "output_type": "stream",
     "text": [
      "Learning rate set to 0.371095\n",
      "0:\tlearn: 0.2623931\ttotal: 944ms\tremaining: 15m 42s\n",
      "1:\tlearn: 0.1706294\ttotal: 1.95s\tremaining: 16m 10s\n",
      "2:\tlearn: 0.1274531\ttotal: 3.01s\tremaining: 16m 41s\n",
      "3:\tlearn: 0.1124704\ttotal: 3.95s\tremaining: 16m 23s\n",
      "4:\tlearn: 0.1004182\ttotal: 4.73s\tremaining: 15m 41s\n",
      "5:\tlearn: 0.0925505\ttotal: 5.74s\tremaining: 15m 50s\n",
      "6:\tlearn: 0.0880215\ttotal: 6.92s\tremaining: 16m 21s\n",
      "7:\tlearn: 0.0828370\ttotal: 8.29s\tremaining: 17m 7s\n",
      "8:\tlearn: 0.0793152\ttotal: 9.39s\tremaining: 17m 14s\n",
      "9:\tlearn: 0.0762488\ttotal: 10.5s\tremaining: 17m 16s\n",
      "10:\tlearn: 0.0736415\ttotal: 11.5s\tremaining: 17m 16s\n",
      "11:\tlearn: 0.0704648\ttotal: 12.5s\tremaining: 17m 12s\n",
      "12:\tlearn: 0.0647838\ttotal: 13.5s\tremaining: 17m 8s\n",
      "13:\tlearn: 0.0617461\ttotal: 14.5s\tremaining: 17m 4s\n",
      "14:\tlearn: 0.0599812\ttotal: 15.5s\tremaining: 16m 59s\n",
      "15:\tlearn: 0.0586135\ttotal: 16.5s\tremaining: 16m 51s\n",
      "16:\tlearn: 0.0576337\ttotal: 17.6s\tremaining: 16m 56s\n",
      "17:\tlearn: 0.0562265\ttotal: 18.8s\tremaining: 17m 6s\n",
      "18:\tlearn: 0.0544408\ttotal: 19.8s\tremaining: 17m 3s\n",
      "19:\tlearn: 0.0514218\ttotal: 20.9s\tremaining: 17m 4s\n",
      "20:\tlearn: 0.0474391\ttotal: 21.9s\tremaining: 17m\n",
      "21:\tlearn: 0.0456164\ttotal: 22.9s\tremaining: 16m 59s\n",
      "22:\tlearn: 0.0434386\ttotal: 23.9s\tremaining: 16m 54s\n",
      "23:\tlearn: 0.0412814\ttotal: 24.9s\tremaining: 16m 53s\n",
      "24:\tlearn: 0.0394724\ttotal: 25.9s\tremaining: 16m 51s\n",
      "25:\tlearn: 0.0386007\ttotal: 26.8s\tremaining: 16m 43s\n",
      "26:\tlearn: 0.0369173\ttotal: 27.6s\tremaining: 16m 36s\n",
      "27:\tlearn: 0.0353829\ttotal: 28.5s\tremaining: 16m 27s\n",
      "28:\tlearn: 0.0350096\ttotal: 29.3s\tremaining: 16m 21s\n",
      "29:\tlearn: 0.0339606\ttotal: 30.2s\tremaining: 16m 16s\n",
      "30:\tlearn: 0.0337013\ttotal: 31s\tremaining: 16m 8s\n",
      "31:\tlearn: 0.0327862\ttotal: 32s\tremaining: 16m 8s\n",
      "32:\tlearn: 0.0322967\ttotal: 33s\tremaining: 16m 7s\n",
      "33:\tlearn: 0.0316772\ttotal: 34.2s\tremaining: 16m 11s\n",
      "34:\tlearn: 0.0308593\ttotal: 35.2s\tremaining: 16m 10s\n",
      "35:\tlearn: 0.0300125\ttotal: 36.1s\tremaining: 16m 7s\n",
      "36:\tlearn: 0.0298294\ttotal: 37s\tremaining: 16m 2s\n",
      "37:\tlearn: 0.0296169\ttotal: 37.9s\tremaining: 15m 59s\n",
      "38:\tlearn: 0.0290065\ttotal: 38.8s\tremaining: 15m 56s\n",
      "39:\tlearn: 0.0286967\ttotal: 39.7s\tremaining: 15m 53s\n",
      "40:\tlearn: 0.0285120\ttotal: 40.6s\tremaining: 15m 49s\n",
      "41:\tlearn: 0.0282279\ttotal: 41.6s\tremaining: 15m 49s\n",
      "42:\tlearn: 0.0278687\ttotal: 42.5s\tremaining: 15m 46s\n",
      "43:\tlearn: 0.0271571\ttotal: 43.4s\tremaining: 15m 43s\n",
      "44:\tlearn: 0.0269912\ttotal: 44.2s\tremaining: 15m 38s\n",
      "45:\tlearn: 0.0266025\ttotal: 45.2s\tremaining: 15m 36s\n",
      "46:\tlearn: 0.0258398\ttotal: 46.1s\tremaining: 15m 34s\n",
      "47:\tlearn: 0.0256416\ttotal: 47s\tremaining: 15m 33s\n",
      "48:\tlearn: 0.0253736\ttotal: 47.9s\tremaining: 15m 30s\n",
      "49:\tlearn: 0.0252409\ttotal: 48.8s\tremaining: 15m 27s\n",
      "50:\tlearn: 0.0251057\ttotal: 49.8s\tremaining: 15m 26s\n",
      "51:\tlearn: 0.0248853\ttotal: 50.8s\tremaining: 15m 25s\n",
      "52:\tlearn: 0.0246187\ttotal: 51.8s\tremaining: 15m 24s\n",
      "53:\tlearn: 0.0244727\ttotal: 52.7s\tremaining: 15m 22s\n",
      "54:\tlearn: 0.0238908\ttotal: 53.6s\tremaining: 15m 21s\n",
      "55:\tlearn: 0.0228893\ttotal: 54.6s\tremaining: 15m 19s\n",
      "56:\tlearn: 0.0227351\ttotal: 55.5s\tremaining: 15m 18s\n",
      "57:\tlearn: 0.0223073\ttotal: 56.5s\tremaining: 15m 17s\n",
      "58:\tlearn: 0.0221043\ttotal: 57.4s\tremaining: 15m 14s\n",
      "59:\tlearn: 0.0211682\ttotal: 58.3s\tremaining: 15m 13s\n",
      "60:\tlearn: 0.0208722\ttotal: 59.3s\tremaining: 15m 12s\n",
      "61:\tlearn: 0.0207297\ttotal: 1m\tremaining: 15m 11s\n",
      "62:\tlearn: 0.0201533\ttotal: 1m 1s\tremaining: 15m 9s\n",
      "63:\tlearn: 0.0197417\ttotal: 1m 2s\tremaining: 15m 8s\n",
      "64:\tlearn: 0.0195859\ttotal: 1m 3s\tremaining: 15m 7s\n",
      "65:\tlearn: 0.0193685\ttotal: 1m 3s\tremaining: 15m 5s\n",
      "66:\tlearn: 0.0192541\ttotal: 1m 4s\tremaining: 15m 3s\n",
      "67:\tlearn: 0.0191204\ttotal: 1m 5s\tremaining: 15m 2s\n",
      "68:\tlearn: 0.0190128\ttotal: 1m 6s\tremaining: 15m 3s\n",
      "69:\tlearn: 0.0189351\ttotal: 1m 7s\tremaining: 15m 2s\n",
      "70:\tlearn: 0.0187942\ttotal: 1m 8s\tremaining: 15m 1s\n",
      "71:\tlearn: 0.0186813\ttotal: 1m 9s\tremaining: 15m\n",
      "72:\tlearn: 0.0186255\ttotal: 1m 10s\tremaining: 14m 58s\n",
      "73:\tlearn: 0.0184136\ttotal: 1m 11s\tremaining: 14m 56s\n",
      "74:\tlearn: 0.0182204\ttotal: 1m 12s\tremaining: 14m 55s\n",
      "75:\tlearn: 0.0180350\ttotal: 1m 13s\tremaining: 14m 53s\n",
      "76:\tlearn: 0.0177773\ttotal: 1m 14s\tremaining: 14m 52s\n",
      "77:\tlearn: 0.0176960\ttotal: 1m 15s\tremaining: 14m 50s\n",
      "78:\tlearn: 0.0174653\ttotal: 1m 16s\tremaining: 14m 49s\n",
      "79:\tlearn: 0.0172983\ttotal: 1m 17s\tremaining: 14m 48s\n",
      "80:\tlearn: 0.0170367\ttotal: 1m 18s\tremaining: 14m 48s\n",
      "81:\tlearn: 0.0167949\ttotal: 1m 19s\tremaining: 14m 47s\n",
      "82:\tlearn: 0.0166642\ttotal: 1m 20s\tremaining: 14m 46s\n",
      "83:\tlearn: 0.0164667\ttotal: 1m 21s\tremaining: 14m 44s\n",
      "84:\tlearn: 0.0163887\ttotal: 1m 22s\tremaining: 14m 45s\n",
      "85:\tlearn: 0.0162955\ttotal: 1m 23s\tremaining: 14m 45s\n",
      "86:\tlearn: 0.0161719\ttotal: 1m 24s\tremaining: 14m 43s\n",
      "87:\tlearn: 0.0160614\ttotal: 1m 25s\tremaining: 14m 41s\n",
      "88:\tlearn: 0.0159845\ttotal: 1m 25s\tremaining: 14m 39s\n",
      "89:\tlearn: 0.0157719\ttotal: 1m 26s\tremaining: 14m 38s\n",
      "90:\tlearn: 0.0156541\ttotal: 1m 27s\tremaining: 14m 37s\n",
      "91:\tlearn: 0.0155837\ttotal: 1m 29s\tremaining: 14m 38s\n",
      "92:\tlearn: 0.0154927\ttotal: 1m 30s\tremaining: 14m 38s\n",
      "93:\tlearn: 0.0154433\ttotal: 1m 31s\tremaining: 14m 37s\n",
      "94:\tlearn: 0.0153999\ttotal: 1m 32s\tremaining: 14m 37s\n",
      "95:\tlearn: 0.0152995\ttotal: 1m 33s\tremaining: 14m 37s\n",
      "96:\tlearn: 0.0150981\ttotal: 1m 34s\tremaining: 14m 37s\n",
      "97:\tlearn: 0.0150651\ttotal: 1m 35s\tremaining: 14m 36s\n",
      "98:\tlearn: 0.0150107\ttotal: 1m 36s\tremaining: 14m 35s\n",
      "99:\tlearn: 0.0149475\ttotal: 1m 37s\tremaining: 14m 34s\n",
      "100:\tlearn: 0.0148521\ttotal: 1m 38s\tremaining: 14m 34s\n",
      "101:\tlearn: 0.0147557\ttotal: 1m 39s\tremaining: 14m 34s\n",
      "102:\tlearn: 0.0146432\ttotal: 1m 40s\tremaining: 14m 34s\n",
      "103:\tlearn: 0.0145750\ttotal: 1m 41s\tremaining: 14m 32s\n",
      "104:\tlearn: 0.0145134\ttotal: 1m 42s\tremaining: 14m 32s\n",
      "105:\tlearn: 0.0144649\ttotal: 1m 43s\tremaining: 14m 30s\n",
      "106:\tlearn: 0.0143639\ttotal: 1m 44s\tremaining: 14m 29s\n",
      "107:\tlearn: 0.0143174\ttotal: 1m 45s\tremaining: 14m 27s\n",
      "108:\tlearn: 0.0142505\ttotal: 1m 45s\tremaining: 14m 26s\n",
      "109:\tlearn: 0.0141841\ttotal: 1m 46s\tremaining: 14m 24s\n",
      "110:\tlearn: 0.0140935\ttotal: 1m 47s\tremaining: 14m 24s\n",
      "111:\tlearn: 0.0140188\ttotal: 1m 49s\tremaining: 14m 25s\n",
      "112:\tlearn: 0.0139601\ttotal: 1m 50s\tremaining: 14m 26s\n",
      "113:\tlearn: 0.0138766\ttotal: 1m 51s\tremaining: 14m 25s\n",
      "114:\tlearn: 0.0138272\ttotal: 1m 52s\tremaining: 14m 23s\n",
      "115:\tlearn: 0.0138026\ttotal: 1m 53s\tremaining: 14m 22s\n",
      "116:\tlearn: 0.0137245\ttotal: 1m 54s\tremaining: 14m 22s\n",
      "117:\tlearn: 0.0136213\ttotal: 1m 55s\tremaining: 14m 25s\n",
      "118:\tlearn: 0.0135255\ttotal: 1m 57s\tremaining: 14m 27s\n",
      "119:\tlearn: 0.0134676\ttotal: 1m 58s\tremaining: 14m 28s\n",
      "120:\tlearn: 0.0134139\ttotal: 1m 59s\tremaining: 14m 28s\n",
      "121:\tlearn: 0.0133179\ttotal: 2m\tremaining: 14m 29s\n",
      "122:\tlearn: 0.0132847\ttotal: 2m 1s\tremaining: 14m 29s\n",
      "123:\tlearn: 0.0132270\ttotal: 2m 2s\tremaining: 14m 28s\n",
      "124:\tlearn: 0.0130843\ttotal: 2m 3s\tremaining: 14m 27s\n",
      "125:\tlearn: 0.0130057\ttotal: 2m 4s\tremaining: 14m 26s\n",
      "126:\tlearn: 0.0129660\ttotal: 2m 5s\tremaining: 14m 25s\n",
      "127:\tlearn: 0.0128544\ttotal: 2m 6s\tremaining: 14m 23s\n",
      "128:\tlearn: 0.0127943\ttotal: 2m 7s\tremaining: 14m 22s\n",
      "129:\tlearn: 0.0127496\ttotal: 2m 8s\tremaining: 14m 20s\n",
      "130:\tlearn: 0.0127006\ttotal: 2m 9s\tremaining: 14m 19s\n",
      "131:\tlearn: 0.0126331\ttotal: 2m 10s\tremaining: 14m 20s\n",
      "132:\tlearn: 0.0125841\ttotal: 2m 12s\tremaining: 14m 22s\n",
      "133:\tlearn: 0.0125287\ttotal: 2m 13s\tremaining: 14m 22s\n",
      "134:\tlearn: 0.0124939\ttotal: 2m 14s\tremaining: 14m 21s\n",
      "135:\tlearn: 0.0124474\ttotal: 2m 15s\tremaining: 14m 20s\n",
      "136:\tlearn: 0.0123966\ttotal: 2m 16s\tremaining: 14m 20s\n",
      "137:\tlearn: 0.0123793\ttotal: 2m 17s\tremaining: 14m 17s\n",
      "138:\tlearn: 0.0122920\ttotal: 2m 18s\tremaining: 14m 16s\n",
      "139:\tlearn: 0.0122248\ttotal: 2m 19s\tremaining: 14m 15s\n",
      "140:\tlearn: 0.0121783\ttotal: 2m 20s\tremaining: 14m 14s\n",
      "141:\tlearn: 0.0121199\ttotal: 2m 21s\tremaining: 14m 13s\n",
      "142:\tlearn: 0.0120559\ttotal: 2m 22s\tremaining: 14m 12s\n",
      "143:\tlearn: 0.0120315\ttotal: 2m 23s\tremaining: 14m 11s\n",
      "144:\tlearn: 0.0120215\ttotal: 2m 24s\tremaining: 14m 10s\n",
      "145:\tlearn: 0.0119253\ttotal: 2m 25s\tremaining: 14m 9s\n",
      "146:\tlearn: 0.0118857\ttotal: 2m 26s\tremaining: 14m 9s\n",
      "147:\tlearn: 0.0118631\ttotal: 2m 27s\tremaining: 14m 8s\n",
      "148:\tlearn: 0.0118386\ttotal: 2m 28s\tremaining: 14m 7s\n",
      "149:\tlearn: 0.0118195\ttotal: 2m 29s\tremaining: 14m 5s\n",
      "150:\tlearn: 0.0117674\ttotal: 2m 30s\tremaining: 14m 4s\n",
      "151:\tlearn: 0.0116960\ttotal: 2m 31s\tremaining: 14m 3s\n",
      "152:\tlearn: 0.0116477\ttotal: 2m 32s\tremaining: 14m 1s\n"
     ]
    },
    {
     "name": "stdout",
     "output_type": "stream",
     "text": [
      "153:\tlearn: 0.0116255\ttotal: 2m 32s\tremaining: 14m\n",
      "154:\tlearn: 0.0116252\ttotal: 2m 33s\tremaining: 13m 57s\n",
      "155:\tlearn: 0.0116251\ttotal: 2m 34s\tremaining: 13m 55s\n",
      "156:\tlearn: 0.0116045\ttotal: 2m 35s\tremaining: 13m 53s\n",
      "157:\tlearn: 0.0115104\ttotal: 2m 36s\tremaining: 13m 51s\n",
      "158:\tlearn: 0.0114576\ttotal: 2m 37s\tremaining: 13m 50s\n",
      "159:\tlearn: 0.0114305\ttotal: 2m 37s\tremaining: 13m 48s\n",
      "160:\tlearn: 0.0114214\ttotal: 2m 38s\tremaining: 13m 47s\n",
      "161:\tlearn: 0.0113697\ttotal: 2m 39s\tremaining: 13m 46s\n",
      "162:\tlearn: 0.0113397\ttotal: 2m 40s\tremaining: 13m 44s\n",
      "163:\tlearn: 0.0112959\ttotal: 2m 41s\tremaining: 13m 43s\n",
      "164:\tlearn: 0.0112777\ttotal: 2m 42s\tremaining: 13m 43s\n",
      "165:\tlearn: 0.0112255\ttotal: 2m 43s\tremaining: 13m 42s\n",
      "166:\tlearn: 0.0111575\ttotal: 2m 44s\tremaining: 13m 41s\n",
      "167:\tlearn: 0.0111307\ttotal: 2m 45s\tremaining: 13m 39s\n",
      "168:\tlearn: 0.0110848\ttotal: 2m 46s\tremaining: 13m 38s\n",
      "169:\tlearn: 0.0109779\ttotal: 2m 47s\tremaining: 13m 37s\n",
      "170:\tlearn: 0.0109054\ttotal: 2m 48s\tremaining: 13m 36s\n",
      "171:\tlearn: 0.0108760\ttotal: 2m 49s\tremaining: 13m 35s\n",
      "172:\tlearn: 0.0108647\ttotal: 2m 50s\tremaining: 13m 33s\n",
      "173:\tlearn: 0.0108517\ttotal: 2m 51s\tremaining: 13m 32s\n",
      "174:\tlearn: 0.0108043\ttotal: 2m 52s\tremaining: 13m 31s\n",
      "175:\tlearn: 0.0108042\ttotal: 2m 52s\tremaining: 13m 29s\n",
      "176:\tlearn: 0.0107737\ttotal: 2m 53s\tremaining: 13m 28s\n",
      "177:\tlearn: 0.0107527\ttotal: 2m 54s\tremaining: 13m 26s\n",
      "178:\tlearn: 0.0107375\ttotal: 2m 55s\tremaining: 13m 25s\n",
      "179:\tlearn: 0.0107313\ttotal: 2m 56s\tremaining: 13m 24s\n",
      "180:\tlearn: 0.0106287\ttotal: 2m 57s\tremaining: 13m 23s\n",
      "181:\tlearn: 0.0105695\ttotal: 2m 58s\tremaining: 13m 23s\n",
      "182:\tlearn: 0.0105313\ttotal: 2m 59s\tremaining: 13m 22s\n",
      "183:\tlearn: 0.0105119\ttotal: 3m\tremaining: 13m 20s\n",
      "184:\tlearn: 0.0105118\ttotal: 3m 1s\tremaining: 13m 18s\n",
      "185:\tlearn: 0.0104897\ttotal: 3m 2s\tremaining: 13m 16s\n",
      "186:\tlearn: 0.0104513\ttotal: 3m 3s\tremaining: 13m 15s\n",
      "187:\tlearn: 0.0104108\ttotal: 3m 4s\tremaining: 13m 14s\n",
      "188:\tlearn: 0.0103642\ttotal: 3m 5s\tremaining: 13m 14s\n",
      "189:\tlearn: 0.0103127\ttotal: 3m 6s\tremaining: 13m 14s\n",
      "190:\tlearn: 0.0102887\ttotal: 3m 7s\tremaining: 13m 13s\n",
      "191:\tlearn: 0.0102509\ttotal: 3m 8s\tremaining: 13m 12s\n",
      "192:\tlearn: 0.0102183\ttotal: 3m 9s\tremaining: 13m 11s\n",
      "193:\tlearn: 0.0101833\ttotal: 3m 10s\tremaining: 13m 10s\n",
      "194:\tlearn: 0.0101244\ttotal: 3m 11s\tremaining: 13m 9s\n",
      "195:\tlearn: 0.0100479\ttotal: 3m 12s\tremaining: 13m 8s\n",
      "196:\tlearn: 0.0100037\ttotal: 3m 13s\tremaining: 13m 7s\n",
      "197:\tlearn: 0.0099724\ttotal: 3m 14s\tremaining: 13m 7s\n",
      "198:\tlearn: 0.0099364\ttotal: 3m 15s\tremaining: 13m 6s\n",
      "199:\tlearn: 0.0099020\ttotal: 3m 16s\tremaining: 13m 5s\n",
      "200:\tlearn: 0.0098840\ttotal: 3m 17s\tremaining: 13m 4s\n",
      "201:\tlearn: 0.0098659\ttotal: 3m 18s\tremaining: 13m 2s\n",
      "202:\tlearn: 0.0098433\ttotal: 3m 19s\tremaining: 13m 1s\n",
      "203:\tlearn: 0.0098078\ttotal: 3m 19s\tremaining: 13m\n",
      "204:\tlearn: 0.0097727\ttotal: 3m 20s\tremaining: 12m 59s\n",
      "205:\tlearn: 0.0097361\ttotal: 3m 21s\tremaining: 12m 57s\n",
      "206:\tlearn: 0.0097106\ttotal: 3m 22s\tremaining: 12m 56s\n",
      "207:\tlearn: 0.0096997\ttotal: 3m 23s\tremaining: 12m 55s\n",
      "208:\tlearn: 0.0096847\ttotal: 3m 24s\tremaining: 12m 53s\n",
      "209:\tlearn: 0.0096744\ttotal: 3m 25s\tremaining: 12m 51s\n",
      "210:\tlearn: 0.0096349\ttotal: 3m 26s\tremaining: 12m 50s\n",
      "211:\tlearn: 0.0095856\ttotal: 3m 27s\tremaining: 12m 49s\n",
      "212:\tlearn: 0.0095439\ttotal: 3m 28s\tremaining: 12m 48s\n",
      "213:\tlearn: 0.0095033\ttotal: 3m 28s\tremaining: 12m 47s\n",
      "214:\tlearn: 0.0094870\ttotal: 3m 30s\tremaining: 12m 46s\n",
      "215:\tlearn: 0.0094870\ttotal: 3m 30s\tremaining: 12m 45s\n",
      "216:\tlearn: 0.0094870\ttotal: 3m 31s\tremaining: 12m 44s\n",
      "217:\tlearn: 0.0094867\ttotal: 3m 32s\tremaining: 12m 43s\n",
      "218:\tlearn: 0.0094866\ttotal: 3m 33s\tremaining: 12m 41s\n",
      "219:\tlearn: 0.0094866\ttotal: 3m 34s\tremaining: 12m 39s\n",
      "220:\tlearn: 0.0094864\ttotal: 3m 35s\tremaining: 12m 38s\n",
      "221:\tlearn: 0.0094863\ttotal: 3m 35s\tremaining: 12m 36s\n",
      "222:\tlearn: 0.0094861\ttotal: 3m 36s\tremaining: 12m 35s\n",
      "223:\tlearn: 0.0094861\ttotal: 3m 37s\tremaining: 12m 34s\n",
      "224:\tlearn: 0.0094861\ttotal: 3m 38s\tremaining: 12m 32s\n",
      "225:\tlearn: 0.0094530\ttotal: 3m 39s\tremaining: 12m 31s\n",
      "226:\tlearn: 0.0094184\ttotal: 3m 40s\tremaining: 12m 29s\n",
      "227:\tlearn: 0.0094024\ttotal: 3m 41s\tremaining: 12m 29s\n",
      "228:\tlearn: 0.0094024\ttotal: 3m 41s\tremaining: 12m 27s\n",
      "229:\tlearn: 0.0094024\ttotal: 3m 42s\tremaining: 12m 25s\n",
      "230:\tlearn: 0.0094024\ttotal: 3m 43s\tremaining: 12m 23s\n",
      "231:\tlearn: 0.0094024\ttotal: 3m 44s\tremaining: 12m 22s\n",
      "232:\tlearn: 0.0094024\ttotal: 3m 44s\tremaining: 12m 20s\n",
      "233:\tlearn: 0.0094024\ttotal: 3m 45s\tremaining: 12m 19s\n",
      "234:\tlearn: 0.0094024\ttotal: 3m 46s\tremaining: 12m 18s\n",
      "235:\tlearn: 0.0094024\ttotal: 3m 47s\tremaining: 12m 16s\n",
      "236:\tlearn: 0.0094024\ttotal: 3m 48s\tremaining: 12m 15s\n",
      "237:\tlearn: 0.0094024\ttotal: 3m 49s\tremaining: 12m 13s\n",
      "238:\tlearn: 0.0094024\ttotal: 3m 50s\tremaining: 12m 12s\n",
      "239:\tlearn: 0.0094024\ttotal: 3m 50s\tremaining: 12m 11s\n",
      "240:\tlearn: 0.0094024\ttotal: 3m 51s\tremaining: 12m 9s\n",
      "241:\tlearn: 0.0094024\ttotal: 3m 52s\tremaining: 12m 8s\n",
      "242:\tlearn: 0.0094024\ttotal: 3m 53s\tremaining: 12m 7s\n",
      "243:\tlearn: 0.0094024\ttotal: 3m 54s\tremaining: 12m 6s\n",
      "244:\tlearn: 0.0094024\ttotal: 3m 55s\tremaining: 12m 5s\n",
      "245:\tlearn: 0.0094024\ttotal: 3m 56s\tremaining: 12m 4s\n",
      "246:\tlearn: 0.0094024\ttotal: 3m 57s\tremaining: 12m 3s\n",
      "247:\tlearn: 0.0094024\ttotal: 3m 57s\tremaining: 12m 1s\n",
      "248:\tlearn: 0.0094024\ttotal: 3m 58s\tremaining: 12m\n",
      "249:\tlearn: 0.0094024\ttotal: 3m 59s\tremaining: 11m 58s\n",
      "250:\tlearn: 0.0094024\ttotal: 4m\tremaining: 11m 57s\n",
      "251:\tlearn: 0.0094024\ttotal: 4m 1s\tremaining: 11m 56s\n",
      "252:\tlearn: 0.0094024\ttotal: 4m 2s\tremaining: 11m 55s\n",
      "253:\tlearn: 0.0094024\ttotal: 4m 3s\tremaining: 11m 54s\n",
      "254:\tlearn: 0.0094024\ttotal: 4m 4s\tremaining: 11m 53s\n",
      "255:\tlearn: 0.0094024\ttotal: 4m 4s\tremaining: 11m 51s\n",
      "256:\tlearn: 0.0094024\ttotal: 4m 5s\tremaining: 11m 50s\n",
      "257:\tlearn: 0.0094024\ttotal: 4m 6s\tremaining: 11m 49s\n",
      "258:\tlearn: 0.0094024\ttotal: 4m 7s\tremaining: 11m 47s\n",
      "259:\tlearn: 0.0094024\ttotal: 4m 8s\tremaining: 11m 45s\n",
      "260:\tlearn: 0.0094024\ttotal: 4m 8s\tremaining: 11m 44s\n",
      "261:\tlearn: 0.0094024\ttotal: 4m 9s\tremaining: 11m 43s\n",
      "262:\tlearn: 0.0094023\ttotal: 4m 10s\tremaining: 11m 41s\n",
      "263:\tlearn: 0.0094023\ttotal: 4m 11s\tremaining: 11m 40s\n",
      "264:\tlearn: 0.0094023\ttotal: 4m 12s\tremaining: 11m 39s\n",
      "265:\tlearn: 0.0094023\ttotal: 4m 13s\tremaining: 11m 38s\n",
      "266:\tlearn: 0.0094023\ttotal: 4m 14s\tremaining: 11m 37s\n",
      "267:\tlearn: 0.0094023\ttotal: 4m 14s\tremaining: 11m 36s\n",
      "268:\tlearn: 0.0094023\ttotal: 4m 15s\tremaining: 11m 34s\n",
      "269:\tlearn: 0.0094023\ttotal: 4m 16s\tremaining: 11m 33s\n",
      "270:\tlearn: 0.0094023\ttotal: 4m 17s\tremaining: 11m 31s\n",
      "271:\tlearn: 0.0094022\ttotal: 4m 17s\tremaining: 11m 30s\n",
      "272:\tlearn: 0.0094022\ttotal: 4m 18s\tremaining: 11m 29s\n",
      "273:\tlearn: 0.0094022\ttotal: 4m 19s\tremaining: 11m 27s\n",
      "274:\tlearn: 0.0094022\ttotal: 4m 20s\tremaining: 11m 26s\n",
      "275:\tlearn: 0.0094022\ttotal: 4m 21s\tremaining: 11m 25s\n",
      "276:\tlearn: 0.0094022\ttotal: 4m 22s\tremaining: 11m 23s\n",
      "277:\tlearn: 0.0094022\ttotal: 4m 22s\tremaining: 11m 22s\n",
      "278:\tlearn: 0.0094021\ttotal: 4m 23s\tremaining: 11m 20s\n",
      "279:\tlearn: 0.0094021\ttotal: 4m 24s\tremaining: 11m 19s\n",
      "280:\tlearn: 0.0094021\ttotal: 4m 25s\tremaining: 11m 18s\n",
      "281:\tlearn: 0.0094021\ttotal: 4m 25s\tremaining: 11m 16s\n",
      "282:\tlearn: 0.0094021\ttotal: 4m 26s\tremaining: 11m 15s\n",
      "283:\tlearn: 0.0094021\ttotal: 4m 27s\tremaining: 11m 13s\n",
      "284:\tlearn: 0.0094021\ttotal: 4m 27s\tremaining: 11m 11s\n",
      "285:\tlearn: 0.0094021\ttotal: 4m 28s\tremaining: 11m 10s\n",
      "286:\tlearn: 0.0094021\ttotal: 4m 29s\tremaining: 11m 8s\n",
      "287:\tlearn: 0.0094021\ttotal: 4m 29s\tremaining: 11m 7s\n",
      "288:\tlearn: 0.0094021\ttotal: 4m 30s\tremaining: 11m 5s\n",
      "289:\tlearn: 0.0094021\ttotal: 4m 31s\tremaining: 11m 4s\n",
      "290:\tlearn: 0.0094021\ttotal: 4m 31s\tremaining: 11m 2s\n",
      "291:\tlearn: 0.0094021\ttotal: 4m 32s\tremaining: 11m 1s\n",
      "292:\tlearn: 0.0094021\ttotal: 4m 33s\tremaining: 10m 59s\n",
      "293:\tlearn: 0.0094021\ttotal: 4m 34s\tremaining: 10m 59s\n",
      "294:\tlearn: 0.0093746\ttotal: 4m 35s\tremaining: 10m 58s\n",
      "295:\tlearn: 0.0093503\ttotal: 4m 36s\tremaining: 10m 58s\n",
      "296:\tlearn: 0.0093503\ttotal: 4m 37s\tremaining: 10m 57s\n",
      "297:\tlearn: 0.0093502\ttotal: 4m 38s\tremaining: 10m 56s\n",
      "298:\tlearn: 0.0093502\ttotal: 4m 39s\tremaining: 10m 55s\n",
      "299:\tlearn: 0.0093502\ttotal: 4m 40s\tremaining: 10m 53s\n",
      "300:\tlearn: 0.0093502\ttotal: 4m 40s\tremaining: 10m 52s\n",
      "301:\tlearn: 0.0093502\ttotal: 4m 41s\tremaining: 10m 50s\n",
      "302:\tlearn: 0.0093502\ttotal: 4m 42s\tremaining: 10m 49s\n",
      "303:\tlearn: 0.0093502\ttotal: 4m 43s\tremaining: 10m 48s\n"
     ]
    },
    {
     "name": "stdout",
     "output_type": "stream",
     "text": [
      "304:\tlearn: 0.0093502\ttotal: 4m 43s\tremaining: 10m 46s\n",
      "305:\tlearn: 0.0093502\ttotal: 4m 44s\tremaining: 10m 45s\n",
      "306:\tlearn: 0.0093502\ttotal: 4m 45s\tremaining: 10m 44s\n",
      "307:\tlearn: 0.0093502\ttotal: 4m 46s\tremaining: 10m 43s\n",
      "308:\tlearn: 0.0093502\ttotal: 4m 46s\tremaining: 10m 41s\n",
      "309:\tlearn: 0.0093502\ttotal: 4m 47s\tremaining: 10m 40s\n",
      "310:\tlearn: 0.0093502\ttotal: 4m 48s\tremaining: 10m 38s\n",
      "311:\tlearn: 0.0093502\ttotal: 4m 48s\tremaining: 10m 37s\n",
      "312:\tlearn: 0.0093502\ttotal: 4m 49s\tremaining: 10m 36s\n",
      "313:\tlearn: 0.0093502\ttotal: 4m 50s\tremaining: 10m 35s\n",
      "314:\tlearn: 0.0093502\ttotal: 4m 51s\tremaining: 10m 34s\n",
      "315:\tlearn: 0.0093502\ttotal: 4m 52s\tremaining: 10m 32s\n",
      "316:\tlearn: 0.0093502\ttotal: 4m 53s\tremaining: 10m 31s\n",
      "317:\tlearn: 0.0093502\ttotal: 4m 53s\tremaining: 10m 30s\n",
      "318:\tlearn: 0.0093502\ttotal: 4m 54s\tremaining: 10m 28s\n",
      "319:\tlearn: 0.0093502\ttotal: 4m 55s\tremaining: 10m 27s\n",
      "320:\tlearn: 0.0093502\ttotal: 4m 55s\tremaining: 10m 26s\n",
      "321:\tlearn: 0.0093502\ttotal: 4m 56s\tremaining: 10m 24s\n",
      "322:\tlearn: 0.0093502\ttotal: 4m 57s\tremaining: 10m 23s\n",
      "323:\tlearn: 0.0093502\ttotal: 4m 58s\tremaining: 10m 22s\n",
      "324:\tlearn: 0.0093502\ttotal: 4m 58s\tremaining: 10m 20s\n",
      "325:\tlearn: 0.0093502\ttotal: 4m 59s\tremaining: 10m 19s\n",
      "326:\tlearn: 0.0093502\ttotal: 5m\tremaining: 10m 18s\n",
      "327:\tlearn: 0.0093502\ttotal: 5m 1s\tremaining: 10m 17s\n",
      "328:\tlearn: 0.0093502\ttotal: 5m 1s\tremaining: 10m 15s\n",
      "329:\tlearn: 0.0093502\ttotal: 5m 2s\tremaining: 10m 14s\n",
      "330:\tlearn: 0.0093502\ttotal: 5m 3s\tremaining: 10m 13s\n",
      "331:\tlearn: 0.0093502\ttotal: 5m 4s\tremaining: 10m 12s\n",
      "332:\tlearn: 0.0093502\ttotal: 5m 4s\tremaining: 10m 10s\n",
      "333:\tlearn: 0.0093502\ttotal: 5m 5s\tremaining: 10m 9s\n",
      "334:\tlearn: 0.0093502\ttotal: 5m 6s\tremaining: 10m 8s\n",
      "335:\tlearn: 0.0093502\ttotal: 5m 7s\tremaining: 10m 7s\n",
      "336:\tlearn: 0.0093502\ttotal: 5m 7s\tremaining: 10m 5s\n",
      "337:\tlearn: 0.0093502\ttotal: 5m 8s\tremaining: 10m 4s\n",
      "338:\tlearn: 0.0093502\ttotal: 5m 9s\tremaining: 10m 3s\n",
      "339:\tlearn: 0.0093502\ttotal: 5m 9s\tremaining: 10m 1s\n",
      "340:\tlearn: 0.0093502\ttotal: 5m 10s\tremaining: 10m\n",
      "341:\tlearn: 0.0093502\ttotal: 5m 11s\tremaining: 9m 58s\n",
      "342:\tlearn: 0.0093502\ttotal: 5m 12s\tremaining: 9m 57s\n",
      "343:\tlearn: 0.0093502\ttotal: 5m 12s\tremaining: 9m 56s\n",
      "344:\tlearn: 0.0093502\ttotal: 5m 13s\tremaining: 9m 54s\n",
      "345:\tlearn: 0.0093502\ttotal: 5m 14s\tremaining: 9m 53s\n",
      "346:\tlearn: 0.0093502\ttotal: 5m 14s\tremaining: 9m 52s\n",
      "347:\tlearn: 0.0093502\ttotal: 5m 15s\tremaining: 9m 50s\n",
      "348:\tlearn: 0.0093502\ttotal: 5m 16s\tremaining: 9m 49s\n",
      "349:\tlearn: 0.0093502\ttotal: 5m 16s\tremaining: 9m 48s\n",
      "350:\tlearn: 0.0093502\ttotal: 5m 17s\tremaining: 9m 46s\n",
      "351:\tlearn: 0.0093502\ttotal: 5m 18s\tremaining: 9m 45s\n",
      "352:\tlearn: 0.0093502\ttotal: 5m 18s\tremaining: 9m 44s\n",
      "353:\tlearn: 0.0093502\ttotal: 5m 19s\tremaining: 9m 42s\n",
      "354:\tlearn: 0.0093502\ttotal: 5m 20s\tremaining: 9m 41s\n",
      "355:\tlearn: 0.0093502\ttotal: 5m 20s\tremaining: 9m 40s\n",
      "356:\tlearn: 0.0093502\ttotal: 5m 21s\tremaining: 9m 38s\n",
      "357:\tlearn: 0.0093502\ttotal: 5m 22s\tremaining: 9m 38s\n",
      "358:\tlearn: 0.0093502\ttotal: 5m 23s\tremaining: 9m 36s\n",
      "359:\tlearn: 0.0093502\ttotal: 5m 23s\tremaining: 9m 35s\n",
      "360:\tlearn: 0.0093502\ttotal: 5m 24s\tremaining: 9m 34s\n",
      "361:\tlearn: 0.0093502\ttotal: 5m 25s\tremaining: 9m 33s\n",
      "362:\tlearn: 0.0093502\ttotal: 5m 26s\tremaining: 9m 32s\n",
      "363:\tlearn: 0.0093502\ttotal: 5m 26s\tremaining: 9m 31s\n",
      "364:\tlearn: 0.0093502\ttotal: 5m 27s\tremaining: 9m 29s\n",
      "365:\tlearn: 0.0093502\ttotal: 5m 28s\tremaining: 9m 28s\n",
      "366:\tlearn: 0.0093502\ttotal: 5m 29s\tremaining: 9m 27s\n",
      "367:\tlearn: 0.0093502\ttotal: 5m 29s\tremaining: 9m 26s\n",
      "368:\tlearn: 0.0093502\ttotal: 5m 30s\tremaining: 9m 25s\n",
      "369:\tlearn: 0.0093417\ttotal: 5m 31s\tremaining: 9m 24s\n",
      "370:\tlearn: 0.0093416\ttotal: 5m 32s\tremaining: 9m 23s\n",
      "371:\tlearn: 0.0093416\ttotal: 5m 33s\tremaining: 9m 22s\n",
      "372:\tlearn: 0.0093320\ttotal: 5m 34s\tremaining: 9m 21s\n",
      "373:\tlearn: 0.0093320\ttotal: 5m 34s\tremaining: 9m 20s\n",
      "374:\tlearn: 0.0093319\ttotal: 5m 35s\tremaining: 9m 19s\n",
      "375:\tlearn: 0.0093319\ttotal: 5m 36s\tremaining: 9m 18s\n",
      "376:\tlearn: 0.0093319\ttotal: 5m 37s\tremaining: 9m 17s\n",
      "377:\tlearn: 0.0093319\ttotal: 5m 37s\tremaining: 9m 16s\n",
      "378:\tlearn: 0.0093319\ttotal: 5m 38s\tremaining: 9m 15s\n",
      "379:\tlearn: 0.0093319\ttotal: 5m 39s\tremaining: 9m 14s\n",
      "380:\tlearn: 0.0093318\ttotal: 5m 40s\tremaining: 9m 13s\n",
      "381:\tlearn: 0.0093318\ttotal: 5m 41s\tremaining: 9m 11s\n",
      "382:\tlearn: 0.0093318\ttotal: 5m 41s\tremaining: 9m 10s\n",
      "383:\tlearn: 0.0093318\ttotal: 5m 42s\tremaining: 9m 9s\n",
      "384:\tlearn: 0.0093318\ttotal: 5m 43s\tremaining: 9m 7s\n",
      "385:\tlearn: 0.0093318\ttotal: 5m 43s\tremaining: 9m 6s\n",
      "386:\tlearn: 0.0093318\ttotal: 5m 44s\tremaining: 9m 5s\n",
      "387:\tlearn: 0.0093318\ttotal: 5m 45s\tremaining: 9m 4s\n",
      "388:\tlearn: 0.0093317\ttotal: 5m 45s\tremaining: 9m 3s\n",
      "389:\tlearn: 0.0093317\ttotal: 5m 46s\tremaining: 9m 1s\n",
      "390:\tlearn: 0.0093317\ttotal: 5m 47s\tremaining: 9m\n",
      "391:\tlearn: 0.0093317\ttotal: 5m 47s\tremaining: 8m 59s\n",
      "392:\tlearn: 0.0093317\ttotal: 5m 48s\tremaining: 8m 58s\n",
      "393:\tlearn: 0.0093317\ttotal: 5m 49s\tremaining: 8m 57s\n",
      "394:\tlearn: 0.0093317\ttotal: 5m 49s\tremaining: 8m 55s\n",
      "395:\tlearn: 0.0093317\ttotal: 5m 50s\tremaining: 8m 54s\n",
      "396:\tlearn: 0.0093317\ttotal: 5m 51s\tremaining: 8m 53s\n",
      "397:\tlearn: 0.0093317\ttotal: 5m 51s\tremaining: 8m 52s\n",
      "398:\tlearn: 0.0093317\ttotal: 5m 52s\tremaining: 8m 51s\n",
      "399:\tlearn: 0.0093317\ttotal: 5m 53s\tremaining: 8m 49s\n",
      "400:\tlearn: 0.0093317\ttotal: 5m 54s\tremaining: 8m 49s\n",
      "401:\tlearn: 0.0093317\ttotal: 5m 55s\tremaining: 8m 48s\n",
      "402:\tlearn: 0.0093317\ttotal: 5m 56s\tremaining: 8m 47s\n",
      "403:\tlearn: 0.0093317\ttotal: 5m 56s\tremaining: 8m 46s\n",
      "404:\tlearn: 0.0093317\ttotal: 5m 57s\tremaining: 8m 45s\n",
      "405:\tlearn: 0.0093317\ttotal: 5m 58s\tremaining: 8m 44s\n",
      "406:\tlearn: 0.0093317\ttotal: 5m 59s\tremaining: 8m 43s\n",
      "407:\tlearn: 0.0093317\ttotal: 5m 59s\tremaining: 8m 42s\n",
      "408:\tlearn: 0.0093317\ttotal: 6m\tremaining: 8m 40s\n",
      "409:\tlearn: 0.0093198\ttotal: 6m 1s\tremaining: 8m 40s\n",
      "410:\tlearn: 0.0093198\ttotal: 6m 2s\tremaining: 8m 38s\n",
      "411:\tlearn: 0.0093198\ttotal: 6m 2s\tremaining: 8m 37s\n",
      "412:\tlearn: 0.0093197\ttotal: 6m 3s\tremaining: 8m 36s\n",
      "413:\tlearn: 0.0093197\ttotal: 6m 4s\tremaining: 8m 35s\n",
      "414:\tlearn: 0.0093197\ttotal: 6m 4s\tremaining: 8m 34s\n",
      "415:\tlearn: 0.0093197\ttotal: 6m 5s\tremaining: 8m 33s\n",
      "416:\tlearn: 0.0093197\ttotal: 6m 6s\tremaining: 8m 32s\n",
      "417:\tlearn: 0.0093197\ttotal: 6m 6s\tremaining: 8m 30s\n",
      "418:\tlearn: 0.0093197\ttotal: 6m 7s\tremaining: 8m 29s\n",
      "419:\tlearn: 0.0093197\ttotal: 6m 8s\tremaining: 8m 28s\n",
      "420:\tlearn: 0.0093197\ttotal: 6m 9s\tremaining: 8m 27s\n",
      "421:\tlearn: 0.0093117\ttotal: 6m 10s\tremaining: 8m 26s\n",
      "422:\tlearn: 0.0093117\ttotal: 6m 11s\tremaining: 8m 26s\n",
      "423:\tlearn: 0.0092962\ttotal: 6m 12s\tremaining: 8m 25s\n",
      "424:\tlearn: 0.0092447\ttotal: 6m 13s\tremaining: 8m 25s\n",
      "425:\tlearn: 0.0092188\ttotal: 6m 14s\tremaining: 8m 24s\n",
      "426:\tlearn: 0.0092188\ttotal: 6m 15s\tremaining: 8m 23s\n",
      "427:\tlearn: 0.0092127\ttotal: 6m 15s\tremaining: 8m 22s\n",
      "428:\tlearn: 0.0091904\ttotal: 6m 16s\tremaining: 8m 21s\n",
      "429:\tlearn: 0.0091616\ttotal: 6m 17s\tremaining: 8m 20s\n",
      "430:\tlearn: 0.0091615\ttotal: 6m 19s\tremaining: 8m 21s\n",
      "431:\tlearn: 0.0091615\ttotal: 6m 21s\tremaining: 8m 21s\n",
      "432:\tlearn: 0.0091615\ttotal: 6m 23s\tremaining: 8m 21s\n",
      "433:\tlearn: 0.0091615\ttotal: 6m 24s\tremaining: 8m 21s\n",
      "434:\tlearn: 0.0091615\ttotal: 6m 25s\tremaining: 8m 20s\n",
      "435:\tlearn: 0.0091615\ttotal: 6m 26s\tremaining: 8m 20s\n",
      "436:\tlearn: 0.0091615\ttotal: 6m 27s\tremaining: 8m 19s\n",
      "437:\tlearn: 0.0091615\ttotal: 6m 29s\tremaining: 8m 20s\n",
      "438:\tlearn: 0.0091615\ttotal: 6m 31s\tremaining: 8m 20s\n",
      "439:\tlearn: 0.0091615\ttotal: 6m 32s\tremaining: 8m 19s\n",
      "440:\tlearn: 0.0091615\ttotal: 6m 33s\tremaining: 8m 19s\n",
      "441:\tlearn: 0.0091615\ttotal: 6m 34s\tremaining: 8m 18s\n",
      "442:\tlearn: 0.0091615\ttotal: 6m 35s\tremaining: 8m 17s\n",
      "443:\tlearn: 0.0091615\ttotal: 6m 36s\tremaining: 8m 16s\n",
      "444:\tlearn: 0.0091615\ttotal: 6m 37s\tremaining: 8m 15s\n",
      "445:\tlearn: 0.0091615\ttotal: 6m 37s\tremaining: 8m 14s\n",
      "446:\tlearn: 0.0091615\ttotal: 6m 38s\tremaining: 8m 12s\n",
      "447:\tlearn: 0.0091615\ttotal: 6m 39s\tremaining: 8m 11s\n",
      "448:\tlearn: 0.0091615\ttotal: 6m 39s\tremaining: 8m 10s\n",
      "449:\tlearn: 0.0091615\ttotal: 6m 40s\tremaining: 8m 9s\n",
      "450:\tlearn: 0.0091615\ttotal: 6m 41s\tremaining: 8m 8s\n",
      "451:\tlearn: 0.0091615\ttotal: 6m 42s\tremaining: 8m 7s\n",
      "452:\tlearn: 0.0091615\ttotal: 6m 43s\tremaining: 8m 6s\n",
      "453:\tlearn: 0.0091615\ttotal: 6m 43s\tremaining: 8m 5s\n",
      "454:\tlearn: 0.0091525\ttotal: 6m 44s\tremaining: 8m 4s\n",
      "455:\tlearn: 0.0091231\ttotal: 6m 45s\tremaining: 8m 4s\n",
      "456:\tlearn: 0.0091231\ttotal: 6m 46s\tremaining: 8m 2s\n"
     ]
    },
    {
     "name": "stdout",
     "output_type": "stream",
     "text": [
      "457:\tlearn: 0.0091178\ttotal: 6m 47s\tremaining: 8m 2s\n",
      "458:\tlearn: 0.0091177\ttotal: 6m 48s\tremaining: 8m\n",
      "459:\tlearn: 0.0091177\ttotal: 6m 48s\tremaining: 7m 59s\n",
      "460:\tlearn: 0.0091177\ttotal: 6m 49s\tremaining: 7m 58s\n",
      "461:\tlearn: 0.0091177\ttotal: 6m 50s\tremaining: 7m 57s\n",
      "462:\tlearn: 0.0091177\ttotal: 6m 51s\tremaining: 7m 56s\n",
      "463:\tlearn: 0.0091177\ttotal: 6m 51s\tremaining: 7m 55s\n",
      "464:\tlearn: 0.0091176\ttotal: 6m 52s\tremaining: 7m 54s\n",
      "465:\tlearn: 0.0091176\ttotal: 6m 53s\tremaining: 7m 53s\n",
      "466:\tlearn: 0.0091176\ttotal: 6m 54s\tremaining: 7m 52s\n",
      "467:\tlearn: 0.0091176\ttotal: 6m 54s\tremaining: 7m 51s\n",
      "468:\tlearn: 0.0091176\ttotal: 6m 55s\tremaining: 7m 50s\n",
      "469:\tlearn: 0.0091176\ttotal: 6m 56s\tremaining: 7m 49s\n",
      "470:\tlearn: 0.0091176\ttotal: 6m 57s\tremaining: 7m 48s\n",
      "471:\tlearn: 0.0091176\ttotal: 6m 58s\tremaining: 7m 47s\n",
      "472:\tlearn: 0.0091176\ttotal: 6m 59s\tremaining: 7m 47s\n",
      "473:\tlearn: 0.0091176\ttotal: 7m\tremaining: 7m 46s\n",
      "474:\tlearn: 0.0091176\ttotal: 7m\tremaining: 7m 45s\n",
      "475:\tlearn: 0.0091176\ttotal: 7m 1s\tremaining: 7m 44s\n",
      "476:\tlearn: 0.0091176\ttotal: 7m 2s\tremaining: 7m 43s\n",
      "477:\tlearn: 0.0091176\ttotal: 7m 3s\tremaining: 7m 42s\n",
      "478:\tlearn: 0.0091176\ttotal: 7m 4s\tremaining: 7m 41s\n",
      "479:\tlearn: 0.0091176\ttotal: 7m 5s\tremaining: 7m 40s\n",
      "480:\tlearn: 0.0091176\ttotal: 7m 6s\tremaining: 7m 40s\n",
      "481:\tlearn: 0.0091176\ttotal: 7m 7s\tremaining: 7m 39s\n",
      "482:\tlearn: 0.0091176\ttotal: 7m 8s\tremaining: 7m 38s\n",
      "483:\tlearn: 0.0091176\ttotal: 7m 8s\tremaining: 7m 37s\n",
      "484:\tlearn: 0.0091176\ttotal: 7m 9s\tremaining: 7m 36s\n",
      "485:\tlearn: 0.0091176\ttotal: 7m 10s\tremaining: 7m 35s\n",
      "486:\tlearn: 0.0091176\ttotal: 7m 11s\tremaining: 7m 34s\n",
      "487:\tlearn: 0.0091176\ttotal: 7m 12s\tremaining: 7m 33s\n",
      "488:\tlearn: 0.0091176\ttotal: 7m 13s\tremaining: 7m 32s\n",
      "489:\tlearn: 0.0091176\ttotal: 7m 14s\tremaining: 7m 31s\n",
      "490:\tlearn: 0.0091176\ttotal: 7m 15s\tremaining: 7m 31s\n",
      "491:\tlearn: 0.0091176\ttotal: 7m 16s\tremaining: 7m 30s\n",
      "492:\tlearn: 0.0091176\ttotal: 7m 16s\tremaining: 7m 29s\n",
      "493:\tlearn: 0.0091176\ttotal: 7m 17s\tremaining: 7m 28s\n",
      "494:\tlearn: 0.0091176\ttotal: 7m 18s\tremaining: 7m 27s\n",
      "495:\tlearn: 0.0091176\ttotal: 7m 19s\tremaining: 7m 26s\n",
      "496:\tlearn: 0.0091176\ttotal: 7m 20s\tremaining: 7m 25s\n",
      "497:\tlearn: 0.0091176\ttotal: 7m 21s\tremaining: 7m 24s\n",
      "498:\tlearn: 0.0091176\ttotal: 7m 22s\tremaining: 7m 23s\n",
      "499:\tlearn: 0.0091176\ttotal: 7m 22s\tremaining: 7m 22s\n",
      "500:\tlearn: 0.0091176\ttotal: 7m 23s\tremaining: 7m 22s\n",
      "501:\tlearn: 0.0091176\ttotal: 7m 24s\tremaining: 7m 21s\n",
      "502:\tlearn: 0.0091176\ttotal: 7m 25s\tremaining: 7m 20s\n",
      "503:\tlearn: 0.0091176\ttotal: 7m 26s\tremaining: 7m 19s\n",
      "504:\tlearn: 0.0091176\ttotal: 7m 26s\tremaining: 7m 17s\n",
      "505:\tlearn: 0.0091176\ttotal: 7m 27s\tremaining: 7m 16s\n",
      "506:\tlearn: 0.0091176\ttotal: 7m 28s\tremaining: 7m 15s\n",
      "507:\tlearn: 0.0091176\ttotal: 7m 28s\tremaining: 7m 14s\n",
      "508:\tlearn: 0.0091176\ttotal: 7m 29s\tremaining: 7m 13s\n",
      "509:\tlearn: 0.0091176\ttotal: 7m 30s\tremaining: 7m 12s\n",
      "510:\tlearn: 0.0091176\ttotal: 7m 31s\tremaining: 7m 11s\n",
      "511:\tlearn: 0.0091176\ttotal: 7m 32s\tremaining: 7m 10s\n",
      "512:\tlearn: 0.0091176\ttotal: 7m 32s\tremaining: 7m 9s\n",
      "513:\tlearn: 0.0091176\ttotal: 7m 33s\tremaining: 7m 8s\n",
      "514:\tlearn: 0.0090958\ttotal: 7m 34s\tremaining: 7m 7s\n",
      "515:\tlearn: 0.0090601\ttotal: 7m 35s\tremaining: 7m 7s\n",
      "516:\tlearn: 0.0090229\ttotal: 7m 36s\tremaining: 7m 6s\n",
      "517:\tlearn: 0.0089868\ttotal: 7m 37s\tremaining: 7m 5s\n",
      "518:\tlearn: 0.0089809\ttotal: 7m 37s\tremaining: 7m 4s\n",
      "519:\tlearn: 0.0089567\ttotal: 7m 38s\tremaining: 7m 3s\n",
      "520:\tlearn: 0.0089296\ttotal: 7m 39s\tremaining: 7m 2s\n",
      "521:\tlearn: 0.0089294\ttotal: 7m 40s\tremaining: 7m 1s\n",
      "522:\tlearn: 0.0089266\ttotal: 7m 41s\tremaining: 7m\n",
      "523:\tlearn: 0.0089244\ttotal: 7m 41s\tremaining: 6m 59s\n",
      "524:\tlearn: 0.0089242\ttotal: 7m 42s\tremaining: 6m 58s\n",
      "525:\tlearn: 0.0089240\ttotal: 7m 43s\tremaining: 6m 57s\n",
      "526:\tlearn: 0.0089239\ttotal: 7m 44s\tremaining: 6m 56s\n",
      "527:\tlearn: 0.0089238\ttotal: 7m 44s\tremaining: 6m 55s\n",
      "528:\tlearn: 0.0088885\ttotal: 7m 45s\tremaining: 6m 54s\n",
      "529:\tlearn: 0.0088711\ttotal: 7m 46s\tremaining: 6m 54s\n",
      "530:\tlearn: 0.0088479\ttotal: 7m 47s\tremaining: 6m 53s\n",
      "531:\tlearn: 0.0088479\ttotal: 7m 48s\tremaining: 6m 52s\n",
      "532:\tlearn: 0.0088479\ttotal: 7m 49s\tremaining: 6m 51s\n",
      "533:\tlearn: 0.0088479\ttotal: 7m 50s\tremaining: 6m 50s\n",
      "534:\tlearn: 0.0088479\ttotal: 7m 50s\tremaining: 6m 49s\n",
      "535:\tlearn: 0.0088479\ttotal: 7m 51s\tremaining: 6m 48s\n",
      "536:\tlearn: 0.0088479\ttotal: 7m 52s\tremaining: 6m 47s\n",
      "537:\tlearn: 0.0088479\ttotal: 7m 52s\tremaining: 6m 46s\n",
      "538:\tlearn: 0.0088118\ttotal: 7m 53s\tremaining: 6m 45s\n",
      "539:\tlearn: 0.0087892\ttotal: 7m 54s\tremaining: 6m 44s\n",
      "540:\tlearn: 0.0087655\ttotal: 7m 55s\tremaining: 6m 43s\n",
      "541:\tlearn: 0.0087448\ttotal: 7m 56s\tremaining: 6m 42s\n",
      "542:\tlearn: 0.0087212\ttotal: 7m 57s\tremaining: 6m 42s\n",
      "543:\tlearn: 0.0086826\ttotal: 7m 58s\tremaining: 6m 41s\n",
      "544:\tlearn: 0.0086515\ttotal: 7m 59s\tremaining: 6m 40s\n",
      "545:\tlearn: 0.0086432\ttotal: 8m\tremaining: 6m 39s\n",
      "546:\tlearn: 0.0086192\ttotal: 8m 1s\tremaining: 6m 38s\n",
      "547:\tlearn: 0.0085922\ttotal: 8m 2s\tremaining: 6m 38s\n",
      "548:\tlearn: 0.0085921\ttotal: 8m 3s\tremaining: 6m 37s\n",
      "549:\tlearn: 0.0085918\ttotal: 8m 4s\tremaining: 6m 36s\n",
      "550:\tlearn: 0.0085583\ttotal: 8m 5s\tremaining: 6m 35s\n",
      "551:\tlearn: 0.0085445\ttotal: 8m 5s\tremaining: 6m 34s\n",
      "552:\tlearn: 0.0085167\ttotal: 8m 6s\tremaining: 6m 33s\n",
      "553:\tlearn: 0.0084974\ttotal: 8m 7s\tremaining: 6m 32s\n",
      "554:\tlearn: 0.0084888\ttotal: 8m 8s\tremaining: 6m 31s\n",
      "555:\tlearn: 0.0084684\ttotal: 8m 9s\tremaining: 6m 30s\n",
      "556:\tlearn: 0.0084581\ttotal: 8m 10s\tremaining: 6m 29s\n",
      "557:\tlearn: 0.0084259\ttotal: 8m 11s\tremaining: 6m 29s\n",
      "558:\tlearn: 0.0084259\ttotal: 8m 11s\tremaining: 6m 28s\n",
      "559:\tlearn: 0.0084258\ttotal: 8m 12s\tremaining: 6m 27s\n",
      "560:\tlearn: 0.0084258\ttotal: 8m 13s\tremaining: 6m 26s\n",
      "561:\tlearn: 0.0084257\ttotal: 8m 14s\tremaining: 6m 25s\n",
      "562:\tlearn: 0.0084257\ttotal: 8m 14s\tremaining: 6m 24s\n",
      "563:\tlearn: 0.0084257\ttotal: 8m 15s\tremaining: 6m 23s\n",
      "564:\tlearn: 0.0084091\ttotal: 8m 16s\tremaining: 6m 22s\n",
      "565:\tlearn: 0.0083902\ttotal: 8m 17s\tremaining: 6m 21s\n",
      "566:\tlearn: 0.0083901\ttotal: 8m 18s\tremaining: 6m 20s\n",
      "567:\tlearn: 0.0083901\ttotal: 8m 19s\tremaining: 6m 19s\n",
      "568:\tlearn: 0.0083900\ttotal: 8m 19s\tremaining: 6m 18s\n",
      "569:\tlearn: 0.0083900\ttotal: 8m 20s\tremaining: 6m 17s\n",
      "570:\tlearn: 0.0083899\ttotal: 8m 21s\tremaining: 6m 16s\n",
      "571:\tlearn: 0.0083898\ttotal: 8m 22s\tremaining: 6m 15s\n",
      "572:\tlearn: 0.0083898\ttotal: 8m 22s\tremaining: 6m 14s\n",
      "573:\tlearn: 0.0083898\ttotal: 8m 23s\tremaining: 6m 13s\n",
      "574:\tlearn: 0.0083897\ttotal: 8m 24s\tremaining: 6m 12s\n",
      "575:\tlearn: 0.0083896\ttotal: 8m 24s\tremaining: 6m 11s\n",
      "576:\tlearn: 0.0083896\ttotal: 8m 25s\tremaining: 6m 10s\n",
      "577:\tlearn: 0.0083896\ttotal: 8m 26s\tremaining: 6m 9s\n",
      "578:\tlearn: 0.0083895\ttotal: 8m 27s\tremaining: 6m 8s\n",
      "579:\tlearn: 0.0083895\ttotal: 8m 27s\tremaining: 6m 7s\n",
      "580:\tlearn: 0.0083835\ttotal: 8m 28s\tremaining: 6m 6s\n",
      "581:\tlearn: 0.0083834\ttotal: 8m 29s\tremaining: 6m 5s\n",
      "582:\tlearn: 0.0083834\ttotal: 8m 29s\tremaining: 6m 4s\n",
      "583:\tlearn: 0.0083833\ttotal: 8m 30s\tremaining: 6m 3s\n",
      "584:\tlearn: 0.0083832\ttotal: 8m 31s\tremaining: 6m 2s\n",
      "585:\tlearn: 0.0083831\ttotal: 8m 32s\tremaining: 6m 1s\n",
      "586:\tlearn: 0.0083830\ttotal: 8m 33s\tremaining: 6m 1s\n",
      "587:\tlearn: 0.0083829\ttotal: 8m 34s\tremaining: 6m\n",
      "588:\tlearn: 0.0083829\ttotal: 8m 34s\tremaining: 5m 59s\n",
      "589:\tlearn: 0.0083828\ttotal: 8m 35s\tremaining: 5m 58s\n",
      "590:\tlearn: 0.0083827\ttotal: 8m 36s\tremaining: 5m 57s\n",
      "591:\tlearn: 0.0083827\ttotal: 8m 37s\tremaining: 5m 56s\n",
      "592:\tlearn: 0.0083826\ttotal: 8m 38s\tremaining: 5m 55s\n",
      "593:\tlearn: 0.0083826\ttotal: 8m 38s\tremaining: 5m 54s\n",
      "594:\tlearn: 0.0083826\ttotal: 8m 39s\tremaining: 5m 53s\n",
      "595:\tlearn: 0.0083825\ttotal: 8m 40s\tremaining: 5m 52s\n",
      "596:\tlearn: 0.0083825\ttotal: 8m 40s\tremaining: 5m 51s\n",
      "597:\tlearn: 0.0083660\ttotal: 8m 41s\tremaining: 5m 50s\n",
      "598:\tlearn: 0.0083657\ttotal: 8m 42s\tremaining: 5m 49s\n",
      "599:\tlearn: 0.0083657\ttotal: 8m 43s\tremaining: 5m 48s\n",
      "600:\tlearn: 0.0083657\ttotal: 8m 44s\tremaining: 5m 47s\n",
      "601:\tlearn: 0.0083657\ttotal: 8m 44s\tremaining: 5m 46s\n",
      "602:\tlearn: 0.0083657\ttotal: 8m 45s\tremaining: 5m 45s\n",
      "603:\tlearn: 0.0083657\ttotal: 8m 46s\tremaining: 5m 44s\n",
      "604:\tlearn: 0.0083657\ttotal: 8m 46s\tremaining: 5m 44s\n",
      "605:\tlearn: 0.0083657\ttotal: 8m 47s\tremaining: 5m 43s\n",
      "606:\tlearn: 0.0083657\ttotal: 8m 48s\tremaining: 5m 42s\n",
      "607:\tlearn: 0.0083657\ttotal: 8m 49s\tremaining: 5m 41s\n",
      "608:\tlearn: 0.0083657\ttotal: 8m 49s\tremaining: 5m 40s\n",
      "609:\tlearn: 0.0083657\ttotal: 8m 50s\tremaining: 5m 39s\n"
     ]
    },
    {
     "name": "stdout",
     "output_type": "stream",
     "text": [
      "610:\tlearn: 0.0083657\ttotal: 8m 51s\tremaining: 5m 38s\n",
      "611:\tlearn: 0.0083657\ttotal: 8m 52s\tremaining: 5m 37s\n",
      "612:\tlearn: 0.0083657\ttotal: 8m 52s\tremaining: 5m 36s\n",
      "613:\tlearn: 0.0083657\ttotal: 8m 53s\tremaining: 5m 35s\n",
      "614:\tlearn: 0.0083657\ttotal: 8m 54s\tremaining: 5m 34s\n",
      "615:\tlearn: 0.0083657\ttotal: 8m 55s\tremaining: 5m 33s\n",
      "616:\tlearn: 0.0083657\ttotal: 8m 55s\tremaining: 5m 32s\n",
      "617:\tlearn: 0.0083657\ttotal: 8m 56s\tremaining: 5m 31s\n",
      "618:\tlearn: 0.0083657\ttotal: 8m 57s\tremaining: 5m 30s\n",
      "619:\tlearn: 0.0083657\ttotal: 8m 57s\tremaining: 5m 29s\n",
      "620:\tlearn: 0.0083657\ttotal: 8m 58s\tremaining: 5m 28s\n",
      "621:\tlearn: 0.0083657\ttotal: 8m 59s\tremaining: 5m 27s\n",
      "622:\tlearn: 0.0083657\ttotal: 9m\tremaining: 5m 26s\n",
      "623:\tlearn: 0.0083657\ttotal: 9m\tremaining: 5m 25s\n",
      "624:\tlearn: 0.0083657\ttotal: 9m 1s\tremaining: 5m 24s\n",
      "625:\tlearn: 0.0083511\ttotal: 9m 2s\tremaining: 5m 24s\n",
      "626:\tlearn: 0.0083283\ttotal: 9m 3s\tremaining: 5m 23s\n",
      "627:\tlearn: 0.0083107\ttotal: 9m 4s\tremaining: 5m 22s\n",
      "628:\tlearn: 0.0082817\ttotal: 9m 5s\tremaining: 5m 21s\n",
      "629:\tlearn: 0.0082814\ttotal: 9m 6s\tremaining: 5m 20s\n",
      "630:\tlearn: 0.0082802\ttotal: 9m 6s\tremaining: 5m 19s\n",
      "631:\tlearn: 0.0082624\ttotal: 9m 8s\tremaining: 5m 19s\n",
      "632:\tlearn: 0.0082337\ttotal: 9m 8s\tremaining: 5m 18s\n",
      "633:\tlearn: 0.0082169\ttotal: 9m 9s\tremaining: 5m 17s\n",
      "634:\tlearn: 0.0082031\ttotal: 9m 10s\tremaining: 5m 16s\n",
      "635:\tlearn: 0.0081907\ttotal: 9m 11s\tremaining: 5m 15s\n",
      "636:\tlearn: 0.0081539\ttotal: 9m 12s\tremaining: 5m 14s\n",
      "637:\tlearn: 0.0081334\ttotal: 9m 13s\tremaining: 5m 14s\n",
      "638:\tlearn: 0.0081198\ttotal: 9m 14s\tremaining: 5m 13s\n",
      "639:\tlearn: 0.0081069\ttotal: 9m 15s\tremaining: 5m 12s\n",
      "640:\tlearn: 0.0081069\ttotal: 9m 15s\tremaining: 5m 11s\n",
      "641:\tlearn: 0.0081068\ttotal: 9m 16s\tremaining: 5m 10s\n",
      "642:\tlearn: 0.0081068\ttotal: 9m 17s\tremaining: 5m 9s\n",
      "643:\tlearn: 0.0081068\ttotal: 9m 17s\tremaining: 5m 8s\n",
      "644:\tlearn: 0.0080981\ttotal: 9m 18s\tremaining: 5m 7s\n",
      "645:\tlearn: 0.0080853\ttotal: 9m 19s\tremaining: 5m 6s\n",
      "646:\tlearn: 0.0080712\ttotal: 9m 20s\tremaining: 5m 5s\n",
      "647:\tlearn: 0.0080432\ttotal: 9m 21s\tremaining: 5m 5s\n",
      "648:\tlearn: 0.0080196\ttotal: 9m 22s\tremaining: 5m 4s\n",
      "649:\tlearn: 0.0080157\ttotal: 9m 23s\tremaining: 5m 3s\n",
      "650:\tlearn: 0.0080126\ttotal: 9m 24s\tremaining: 5m 2s\n",
      "651:\tlearn: 0.0080126\ttotal: 9m 25s\tremaining: 5m 1s\n",
      "652:\tlearn: 0.0080024\ttotal: 9m 25s\tremaining: 5m\n",
      "653:\tlearn: 0.0080023\ttotal: 9m 26s\tremaining: 4m 59s\n",
      "654:\tlearn: 0.0080022\ttotal: 9m 27s\tremaining: 4m 58s\n",
      "655:\tlearn: 0.0080022\ttotal: 9m 27s\tremaining: 4m 57s\n",
      "656:\tlearn: 0.0080022\ttotal: 9m 28s\tremaining: 4m 56s\n",
      "657:\tlearn: 0.0080022\ttotal: 9m 29s\tremaining: 4m 55s\n",
      "658:\tlearn: 0.0080022\ttotal: 9m 30s\tremaining: 4m 54s\n",
      "659:\tlearn: 0.0080012\ttotal: 9m 30s\tremaining: 4m 54s\n",
      "660:\tlearn: 0.0079932\ttotal: 9m 31s\tremaining: 4m 53s\n",
      "661:\tlearn: 0.0079829\ttotal: 9m 32s\tremaining: 4m 52s\n",
      "662:\tlearn: 0.0079828\ttotal: 9m 33s\tremaining: 4m 51s\n",
      "663:\tlearn: 0.0079827\ttotal: 9m 34s\tremaining: 4m 50s\n",
      "664:\tlearn: 0.0079824\ttotal: 9m 34s\tremaining: 4m 49s\n",
      "665:\tlearn: 0.0079823\ttotal: 9m 35s\tremaining: 4m 48s\n",
      "666:\tlearn: 0.0079743\ttotal: 9m 36s\tremaining: 4m 47s\n",
      "667:\tlearn: 0.0079743\ttotal: 9m 37s\tremaining: 4m 46s\n",
      "668:\tlearn: 0.0079743\ttotal: 9m 37s\tremaining: 4m 45s\n",
      "669:\tlearn: 0.0079742\ttotal: 9m 38s\tremaining: 4m 45s\n",
      "670:\tlearn: 0.0079430\ttotal: 9m 39s\tremaining: 4m 44s\n",
      "671:\tlearn: 0.0079272\ttotal: 9m 40s\tremaining: 4m 43s\n",
      "672:\tlearn: 0.0079269\ttotal: 9m 41s\tremaining: 4m 42s\n",
      "673:\tlearn: 0.0079269\ttotal: 9m 42s\tremaining: 4m 41s\n",
      "674:\tlearn: 0.0079269\ttotal: 9m 43s\tremaining: 4m 40s\n",
      "675:\tlearn: 0.0079269\ttotal: 9m 44s\tremaining: 4m 40s\n",
      "676:\tlearn: 0.0079269\ttotal: 9m 45s\tremaining: 4m 39s\n",
      "677:\tlearn: 0.0079269\ttotal: 9m 45s\tremaining: 4m 38s\n",
      "678:\tlearn: 0.0079268\ttotal: 9m 46s\tremaining: 4m 37s\n",
      "679:\tlearn: 0.0079268\ttotal: 9m 47s\tremaining: 4m 36s\n",
      "680:\tlearn: 0.0079268\ttotal: 9m 48s\tremaining: 4m 35s\n",
      "681:\tlearn: 0.0079221\ttotal: 9m 49s\tremaining: 4m 34s\n",
      "682:\tlearn: 0.0079123\ttotal: 9m 50s\tremaining: 4m 34s\n",
      "683:\tlearn: 0.0078986\ttotal: 9m 51s\tremaining: 4m 33s\n",
      "684:\tlearn: 0.0078986\ttotal: 9m 52s\tremaining: 4m 32s\n",
      "685:\tlearn: 0.0078986\ttotal: 9m 53s\tremaining: 4m 31s\n",
      "686:\tlearn: 0.0078986\ttotal: 9m 54s\tremaining: 4m 30s\n",
      "687:\tlearn: 0.0078986\ttotal: 9m 55s\tremaining: 4m 30s\n",
      "688:\tlearn: 0.0078986\ttotal: 9m 56s\tremaining: 4m 29s\n",
      "689:\tlearn: 0.0078985\ttotal: 9m 57s\tremaining: 4m 28s\n",
      "690:\tlearn: 0.0078985\ttotal: 9m 57s\tremaining: 4m 27s\n",
      "691:\tlearn: 0.0078985\ttotal: 9m 58s\tremaining: 4m 26s\n",
      "692:\tlearn: 0.0078985\ttotal: 9m 59s\tremaining: 4m 25s\n",
      "693:\tlearn: 0.0078985\ttotal: 9m 59s\tremaining: 4m 24s\n",
      "694:\tlearn: 0.0078985\ttotal: 10m\tremaining: 4m 23s\n",
      "695:\tlearn: 0.0078985\ttotal: 10m 1s\tremaining: 4m 22s\n",
      "696:\tlearn: 0.0078985\ttotal: 10m 2s\tremaining: 4m 21s\n",
      "697:\tlearn: 0.0078817\ttotal: 10m 2s\tremaining: 4m 20s\n",
      "698:\tlearn: 0.0078817\ttotal: 10m 3s\tremaining: 4m 19s\n",
      "699:\tlearn: 0.0078817\ttotal: 10m 4s\tremaining: 4m 19s\n",
      "700:\tlearn: 0.0078817\ttotal: 10m 5s\tremaining: 4m 18s\n",
      "701:\tlearn: 0.0078817\ttotal: 10m 5s\tremaining: 4m 17s\n",
      "702:\tlearn: 0.0078817\ttotal: 10m 6s\tremaining: 4m 16s\n",
      "703:\tlearn: 0.0078817\ttotal: 10m 7s\tremaining: 4m 15s\n",
      "704:\tlearn: 0.0078817\ttotal: 10m 7s\tremaining: 4m 14s\n",
      "705:\tlearn: 0.0078817\ttotal: 10m 8s\tremaining: 4m 13s\n",
      "706:\tlearn: 0.0078817\ttotal: 10m 9s\tremaining: 4m 12s\n",
      "707:\tlearn: 0.0078817\ttotal: 10m 10s\tremaining: 4m 11s\n",
      "708:\tlearn: 0.0078817\ttotal: 10m 10s\tremaining: 4m 10s\n",
      "709:\tlearn: 0.0078817\ttotal: 10m 11s\tremaining: 4m 9s\n",
      "710:\tlearn: 0.0078817\ttotal: 10m 12s\tremaining: 4m 8s\n",
      "711:\tlearn: 0.0078817\ttotal: 10m 13s\tremaining: 4m 7s\n",
      "712:\tlearn: 0.0078817\ttotal: 10m 13s\tremaining: 4m 7s\n",
      "713:\tlearn: 0.0078817\ttotal: 10m 14s\tremaining: 4m 6s\n",
      "714:\tlearn: 0.0078817\ttotal: 10m 15s\tremaining: 4m 5s\n",
      "715:\tlearn: 0.0078817\ttotal: 10m 15s\tremaining: 4m 4s\n",
      "716:\tlearn: 0.0078817\ttotal: 10m 16s\tremaining: 4m 3s\n",
      "717:\tlearn: 0.0078817\ttotal: 10m 17s\tremaining: 4m 2s\n",
      "718:\tlearn: 0.0078817\ttotal: 10m 17s\tremaining: 4m 1s\n",
      "719:\tlearn: 0.0078817\ttotal: 10m 18s\tremaining: 4m\n",
      "720:\tlearn: 0.0078817\ttotal: 10m 19s\tremaining: 3m 59s\n",
      "721:\tlearn: 0.0078817\ttotal: 10m 20s\tremaining: 3m 58s\n",
      "722:\tlearn: 0.0078817\ttotal: 10m 20s\tremaining: 3m 57s\n",
      "723:\tlearn: 0.0078817\ttotal: 10m 21s\tremaining: 3m 56s\n",
      "724:\tlearn: 0.0078817\ttotal: 10m 22s\tremaining: 3m 56s\n",
      "725:\tlearn: 0.0078817\ttotal: 10m 22s\tremaining: 3m 55s\n",
      "726:\tlearn: 0.0078817\ttotal: 10m 23s\tremaining: 3m 54s\n",
      "727:\tlearn: 0.0078817\ttotal: 10m 24s\tremaining: 3m 53s\n",
      "728:\tlearn: 0.0078817\ttotal: 10m 24s\tremaining: 3m 52s\n",
      "729:\tlearn: 0.0078817\ttotal: 10m 25s\tremaining: 3m 51s\n",
      "730:\tlearn: 0.0078817\ttotal: 10m 26s\tremaining: 3m 50s\n",
      "731:\tlearn: 0.0078817\ttotal: 10m 27s\tremaining: 3m 49s\n",
      "732:\tlearn: 0.0078817\ttotal: 10m 27s\tremaining: 3m 48s\n",
      "733:\tlearn: 0.0078817\ttotal: 10m 28s\tremaining: 3m 47s\n",
      "734:\tlearn: 0.0078817\ttotal: 10m 29s\tremaining: 3m 46s\n",
      "735:\tlearn: 0.0078817\ttotal: 10m 30s\tremaining: 3m 46s\n",
      "736:\tlearn: 0.0078817\ttotal: 10m 30s\tremaining: 3m 45s\n",
      "737:\tlearn: 0.0078817\ttotal: 10m 31s\tremaining: 3m 44s\n",
      "738:\tlearn: 0.0078817\ttotal: 10m 32s\tremaining: 3m 43s\n",
      "739:\tlearn: 0.0078817\ttotal: 10m 33s\tremaining: 3m 42s\n",
      "740:\tlearn: 0.0078817\ttotal: 10m 33s\tremaining: 3m 41s\n",
      "741:\tlearn: 0.0078817\ttotal: 10m 34s\tremaining: 3m 40s\n",
      "742:\tlearn: 0.0078817\ttotal: 10m 35s\tremaining: 3m 39s\n",
      "743:\tlearn: 0.0078817\ttotal: 10m 35s\tremaining: 3m 38s\n",
      "744:\tlearn: 0.0078817\ttotal: 10m 36s\tremaining: 3m 37s\n",
      "745:\tlearn: 0.0078817\ttotal: 10m 37s\tremaining: 3m 37s\n",
      "746:\tlearn: 0.0078817\ttotal: 10m 38s\tremaining: 3m 36s\n",
      "747:\tlearn: 0.0078817\ttotal: 10m 39s\tremaining: 3m 35s\n",
      "748:\tlearn: 0.0078817\ttotal: 10m 39s\tremaining: 3m 34s\n",
      "749:\tlearn: 0.0078817\ttotal: 10m 40s\tremaining: 3m 33s\n",
      "750:\tlearn: 0.0078817\ttotal: 10m 41s\tremaining: 3m 32s\n",
      "751:\tlearn: 0.0078817\ttotal: 10m 42s\tremaining: 3m 31s\n",
      "752:\tlearn: 0.0078817\ttotal: 10m 43s\tremaining: 3m 31s\n",
      "753:\tlearn: 0.0078817\ttotal: 10m 44s\tremaining: 3m 30s\n",
      "754:\tlearn: 0.0078817\ttotal: 10m 45s\tremaining: 3m 29s\n",
      "755:\tlearn: 0.0078817\ttotal: 10m 45s\tremaining: 3m 28s\n",
      "756:\tlearn: 0.0078817\ttotal: 10m 46s\tremaining: 3m 27s\n",
      "757:\tlearn: 0.0078817\ttotal: 10m 47s\tremaining: 3m 26s\n",
      "758:\tlearn: 0.0078817\ttotal: 10m 47s\tremaining: 3m 25s\n",
      "759:\tlearn: 0.0078817\ttotal: 10m 48s\tremaining: 3m 24s\n",
      "760:\tlearn: 0.0078817\ttotal: 10m 49s\tremaining: 3m 23s\n",
      "761:\tlearn: 0.0078817\ttotal: 10m 49s\tremaining: 3m 22s\n"
     ]
    },
    {
     "name": "stdout",
     "output_type": "stream",
     "text": [
      "762:\tlearn: 0.0078817\ttotal: 10m 50s\tremaining: 3m 22s\n",
      "763:\tlearn: 0.0078817\ttotal: 10m 51s\tremaining: 3m 21s\n",
      "764:\tlearn: 0.0078817\ttotal: 10m 52s\tremaining: 3m 20s\n",
      "765:\tlearn: 0.0078817\ttotal: 10m 52s\tremaining: 3m 19s\n",
      "766:\tlearn: 0.0078817\ttotal: 10m 53s\tremaining: 3m 18s\n",
      "767:\tlearn: 0.0078817\ttotal: 10m 54s\tremaining: 3m 17s\n",
      "768:\tlearn: 0.0078817\ttotal: 10m 54s\tremaining: 3m 16s\n",
      "769:\tlearn: 0.0078817\ttotal: 10m 55s\tremaining: 3m 15s\n",
      "770:\tlearn: 0.0078817\ttotal: 10m 56s\tremaining: 3m 14s\n",
      "771:\tlearn: 0.0078817\ttotal: 10m 56s\tremaining: 3m 13s\n",
      "772:\tlearn: 0.0078817\ttotal: 10m 57s\tremaining: 3m 13s\n",
      "773:\tlearn: 0.0078817\ttotal: 10m 58s\tremaining: 3m 12s\n",
      "774:\tlearn: 0.0078817\ttotal: 10m 58s\tremaining: 3m 11s\n",
      "775:\tlearn: 0.0078817\ttotal: 10m 59s\tremaining: 3m 10s\n",
      "776:\tlearn: 0.0078817\ttotal: 11m\tremaining: 3m 9s\n",
      "777:\tlearn: 0.0078817\ttotal: 11m\tremaining: 3m 8s\n",
      "778:\tlearn: 0.0078817\ttotal: 11m 1s\tremaining: 3m 7s\n",
      "779:\tlearn: 0.0078817\ttotal: 11m 2s\tremaining: 3m 6s\n",
      "780:\tlearn: 0.0078817\ttotal: 11m 2s\tremaining: 3m 5s\n",
      "781:\tlearn: 0.0078817\ttotal: 11m 3s\tremaining: 3m 4s\n",
      "782:\tlearn: 0.0078817\ttotal: 11m 4s\tremaining: 3m 4s\n",
      "783:\tlearn: 0.0078817\ttotal: 11m 4s\tremaining: 3m 3s\n",
      "784:\tlearn: 0.0078817\ttotal: 11m 5s\tremaining: 3m 2s\n",
      "785:\tlearn: 0.0078817\ttotal: 11m 6s\tremaining: 3m 1s\n",
      "786:\tlearn: 0.0078817\ttotal: 11m 6s\tremaining: 3m\n",
      "787:\tlearn: 0.0078817\ttotal: 11m 7s\tremaining: 2m 59s\n",
      "788:\tlearn: 0.0078817\ttotal: 11m 8s\tremaining: 2m 58s\n",
      "789:\tlearn: 0.0078817\ttotal: 11m 8s\tremaining: 2m 57s\n",
      "790:\tlearn: 0.0078817\ttotal: 11m 9s\tremaining: 2m 56s\n",
      "791:\tlearn: 0.0078817\ttotal: 11m 10s\tremaining: 2m 55s\n",
      "792:\tlearn: 0.0078817\ttotal: 11m 10s\tremaining: 2m 55s\n",
      "793:\tlearn: 0.0078817\ttotal: 11m 11s\tremaining: 2m 54s\n",
      "794:\tlearn: 0.0078816\ttotal: 11m 12s\tremaining: 2m 53s\n",
      "795:\tlearn: 0.0078816\ttotal: 11m 12s\tremaining: 2m 52s\n",
      "796:\tlearn: 0.0078816\ttotal: 11m 13s\tremaining: 2m 51s\n",
      "797:\tlearn: 0.0078816\ttotal: 11m 14s\tremaining: 2m 50s\n",
      "798:\tlearn: 0.0078816\ttotal: 11m 15s\tremaining: 2m 49s\n",
      "799:\tlearn: 0.0078816\ttotal: 11m 15s\tremaining: 2m 48s\n",
      "800:\tlearn: 0.0078816\ttotal: 11m 16s\tremaining: 2m 48s\n",
      "801:\tlearn: 0.0078816\ttotal: 11m 17s\tremaining: 2m 47s\n",
      "802:\tlearn: 0.0078816\ttotal: 11m 17s\tremaining: 2m 46s\n",
      "803:\tlearn: 0.0078816\ttotal: 11m 18s\tremaining: 2m 45s\n",
      "804:\tlearn: 0.0078816\ttotal: 11m 19s\tremaining: 2m 44s\n",
      "805:\tlearn: 0.0078816\ttotal: 11m 19s\tremaining: 2m 43s\n",
      "806:\tlearn: 0.0078816\ttotal: 11m 20s\tremaining: 2m 42s\n",
      "807:\tlearn: 0.0078816\ttotal: 11m 21s\tremaining: 2m 41s\n",
      "808:\tlearn: 0.0078816\ttotal: 11m 22s\tremaining: 2m 41s\n",
      "809:\tlearn: 0.0078816\ttotal: 11m 22s\tremaining: 2m 40s\n",
      "810:\tlearn: 0.0078816\ttotal: 11m 23s\tremaining: 2m 39s\n",
      "811:\tlearn: 0.0078816\ttotal: 11m 24s\tremaining: 2m 38s\n",
      "812:\tlearn: 0.0078816\ttotal: 11m 25s\tremaining: 2m 37s\n",
      "813:\tlearn: 0.0078815\ttotal: 11m 26s\tremaining: 2m 36s\n",
      "814:\tlearn: 0.0078815\ttotal: 11m 26s\tremaining: 2m 35s\n",
      "815:\tlearn: 0.0078815\ttotal: 11m 27s\tremaining: 2m 35s\n",
      "816:\tlearn: 0.0078815\ttotal: 11m 28s\tremaining: 2m 34s\n",
      "817:\tlearn: 0.0078815\ttotal: 11m 28s\tremaining: 2m 33s\n",
      "818:\tlearn: 0.0078815\ttotal: 11m 29s\tremaining: 2m 32s\n",
      "819:\tlearn: 0.0078815\ttotal: 11m 30s\tremaining: 2m 31s\n",
      "820:\tlearn: 0.0078815\ttotal: 11m 31s\tremaining: 2m 30s\n",
      "821:\tlearn: 0.0078815\ttotal: 11m 32s\tremaining: 2m 29s\n",
      "822:\tlearn: 0.0078815\ttotal: 11m 33s\tremaining: 2m 29s\n",
      "823:\tlearn: 0.0078815\ttotal: 11m 34s\tremaining: 2m 28s\n",
      "824:\tlearn: 0.0078815\ttotal: 11m 35s\tremaining: 2m 27s\n",
      "825:\tlearn: 0.0078815\ttotal: 11m 35s\tremaining: 2m 26s\n",
      "826:\tlearn: 0.0078815\ttotal: 11m 36s\tremaining: 2m 25s\n",
      "827:\tlearn: 0.0078815\ttotal: 11m 37s\tremaining: 2m 24s\n",
      "828:\tlearn: 0.0078815\ttotal: 11m 37s\tremaining: 2m 23s\n",
      "829:\tlearn: 0.0078815\ttotal: 11m 38s\tremaining: 2m 23s\n",
      "830:\tlearn: 0.0078815\ttotal: 11m 39s\tremaining: 2m 22s\n",
      "831:\tlearn: 0.0078815\ttotal: 11m 39s\tremaining: 2m 21s\n",
      "832:\tlearn: 0.0078815\ttotal: 11m 40s\tremaining: 2m 20s\n",
      "833:\tlearn: 0.0078815\ttotal: 11m 41s\tremaining: 2m 19s\n",
      "834:\tlearn: 0.0078815\ttotal: 11m 41s\tremaining: 2m 18s\n",
      "835:\tlearn: 0.0078815\ttotal: 11m 42s\tremaining: 2m 17s\n",
      "836:\tlearn: 0.0078815\ttotal: 11m 43s\tremaining: 2m 16s\n",
      "837:\tlearn: 0.0078815\ttotal: 11m 43s\tremaining: 2m 16s\n",
      "838:\tlearn: 0.0078815\ttotal: 11m 44s\tremaining: 2m 15s\n",
      "839:\tlearn: 0.0078815\ttotal: 11m 45s\tremaining: 2m 14s\n",
      "840:\tlearn: 0.0078815\ttotal: 11m 45s\tremaining: 2m 13s\n",
      "841:\tlearn: 0.0078815\ttotal: 11m 46s\tremaining: 2m 12s\n",
      "842:\tlearn: 0.0078815\ttotal: 11m 47s\tremaining: 2m 11s\n",
      "843:\tlearn: 0.0078815\ttotal: 11m 48s\tremaining: 2m 10s\n",
      "844:\tlearn: 0.0078815\ttotal: 11m 48s\tremaining: 2m 10s\n",
      "845:\tlearn: 0.0078815\ttotal: 11m 49s\tremaining: 2m 9s\n",
      "846:\tlearn: 0.0078815\ttotal: 11m 50s\tremaining: 2m 8s\n",
      "847:\tlearn: 0.0078815\ttotal: 11m 50s\tremaining: 2m 7s\n",
      "848:\tlearn: 0.0078815\ttotal: 11m 51s\tremaining: 2m 6s\n",
      "849:\tlearn: 0.0078815\ttotal: 11m 52s\tremaining: 2m 5s\n",
      "850:\tlearn: 0.0078815\ttotal: 11m 53s\tremaining: 2m 4s\n",
      "851:\tlearn: 0.0078815\ttotal: 11m 53s\tremaining: 2m 3s\n",
      "852:\tlearn: 0.0078815\ttotal: 11m 54s\tremaining: 2m 3s\n",
      "853:\tlearn: 0.0078815\ttotal: 11m 54s\tremaining: 2m 2s\n",
      "854:\tlearn: 0.0078815\ttotal: 11m 55s\tremaining: 2m 1s\n",
      "855:\tlearn: 0.0078815\ttotal: 11m 56s\tremaining: 2m\n",
      "856:\tlearn: 0.0078815\ttotal: 11m 57s\tremaining: 1m 59s\n",
      "857:\tlearn: 0.0078815\ttotal: 11m 58s\tremaining: 1m 58s\n",
      "858:\tlearn: 0.0078815\ttotal: 11m 58s\tremaining: 1m 57s\n",
      "859:\tlearn: 0.0078815\ttotal: 11m 59s\tremaining: 1m 57s\n",
      "860:\tlearn: 0.0078815\ttotal: 12m\tremaining: 1m 56s\n",
      "861:\tlearn: 0.0078815\ttotal: 12m\tremaining: 1m 55s\n",
      "862:\tlearn: 0.0078815\ttotal: 12m 1s\tremaining: 1m 54s\n",
      "863:\tlearn: 0.0078815\ttotal: 12m 2s\tremaining: 1m 53s\n",
      "864:\tlearn: 0.0078815\ttotal: 12m 3s\tremaining: 1m 52s\n",
      "865:\tlearn: 0.0078815\ttotal: 12m 4s\tremaining: 1m 52s\n",
      "866:\tlearn: 0.0078815\ttotal: 12m 5s\tremaining: 1m 51s\n",
      "867:\tlearn: 0.0078815\ttotal: 12m 5s\tremaining: 1m 50s\n",
      "868:\tlearn: 0.0078815\ttotal: 12m 6s\tremaining: 1m 49s\n",
      "869:\tlearn: 0.0078815\ttotal: 12m 7s\tremaining: 1m 48s\n",
      "870:\tlearn: 0.0078815\ttotal: 12m 7s\tremaining: 1m 47s\n",
      "871:\tlearn: 0.0078815\ttotal: 12m 8s\tremaining: 1m 46s\n",
      "872:\tlearn: 0.0078815\ttotal: 12m 9s\tremaining: 1m 46s\n",
      "873:\tlearn: 0.0078815\ttotal: 12m 9s\tremaining: 1m 45s\n",
      "874:\tlearn: 0.0078815\ttotal: 12m 10s\tremaining: 1m 44s\n",
      "875:\tlearn: 0.0078815\ttotal: 12m 11s\tremaining: 1m 43s\n",
      "876:\tlearn: 0.0078815\ttotal: 12m 11s\tremaining: 1m 42s\n",
      "877:\tlearn: 0.0078815\ttotal: 12m 12s\tremaining: 1m 41s\n",
      "878:\tlearn: 0.0078815\ttotal: 12m 13s\tremaining: 1m 40s\n",
      "879:\tlearn: 0.0078815\ttotal: 12m 13s\tremaining: 1m 40s\n",
      "880:\tlearn: 0.0078815\ttotal: 12m 14s\tremaining: 1m 39s\n",
      "881:\tlearn: 0.0078815\ttotal: 12m 15s\tremaining: 1m 38s\n",
      "882:\tlearn: 0.0078815\ttotal: 12m 16s\tremaining: 1m 37s\n",
      "883:\tlearn: 0.0078815\ttotal: 12m 16s\tremaining: 1m 36s\n",
      "884:\tlearn: 0.0078815\ttotal: 12m 18s\tremaining: 1m 35s\n",
      "885:\tlearn: 0.0078815\ttotal: 12m 19s\tremaining: 1m 35s\n",
      "886:\tlearn: 0.0078815\ttotal: 12m 20s\tremaining: 1m 34s\n",
      "887:\tlearn: 0.0078815\ttotal: 12m 21s\tremaining: 1m 33s\n",
      "888:\tlearn: 0.0078815\ttotal: 12m 21s\tremaining: 1m 32s\n",
      "889:\tlearn: 0.0078815\ttotal: 12m 22s\tremaining: 1m 31s\n",
      "890:\tlearn: 0.0078815\ttotal: 12m 23s\tremaining: 1m 30s\n",
      "891:\tlearn: 0.0078815\ttotal: 12m 24s\tremaining: 1m 30s\n",
      "892:\tlearn: 0.0078815\ttotal: 12m 24s\tremaining: 1m 29s\n",
      "893:\tlearn: 0.0078757\ttotal: 12m 25s\tremaining: 1m 28s\n",
      "894:\tlearn: 0.0078757\ttotal: 12m 26s\tremaining: 1m 27s\n",
      "895:\tlearn: 0.0078716\ttotal: 12m 27s\tremaining: 1m 26s\n",
      "896:\tlearn: 0.0078711\ttotal: 12m 28s\tremaining: 1m 25s\n",
      "897:\tlearn: 0.0078710\ttotal: 12m 28s\tremaining: 1m 25s\n",
      "898:\tlearn: 0.0078492\ttotal: 12m 29s\tremaining: 1m 24s\n",
      "899:\tlearn: 0.0078360\ttotal: 12m 30s\tremaining: 1m 23s\n",
      "900:\tlearn: 0.0078360\ttotal: 12m 31s\tremaining: 1m 22s\n",
      "901:\tlearn: 0.0078359\ttotal: 12m 32s\tremaining: 1m 21s\n",
      "902:\tlearn: 0.0078359\ttotal: 12m 33s\tremaining: 1m 20s\n",
      "903:\tlearn: 0.0078359\ttotal: 12m 34s\tremaining: 1m 20s\n",
      "904:\tlearn: 0.0078359\ttotal: 12m 35s\tremaining: 1m 19s\n",
      "905:\tlearn: 0.0078359\ttotal: 12m 36s\tremaining: 1m 18s\n",
      "906:\tlearn: 0.0078359\ttotal: 12m 36s\tremaining: 1m 17s\n",
      "907:\tlearn: 0.0078358\ttotal: 12m 37s\tremaining: 1m 16s\n",
      "908:\tlearn: 0.0078358\ttotal: 12m 38s\tremaining: 1m 15s\n",
      "909:\tlearn: 0.0078358\ttotal: 12m 39s\tremaining: 1m 15s\n",
      "910:\tlearn: 0.0078358\ttotal: 12m 39s\tremaining: 1m 14s\n",
      "911:\tlearn: 0.0078358\ttotal: 12m 40s\tremaining: 1m 13s\n",
      "912:\tlearn: 0.0078358\ttotal: 12m 41s\tremaining: 1m 12s\n"
     ]
    },
    {
     "name": "stdout",
     "output_type": "stream",
     "text": [
      "913:\tlearn: 0.0078358\ttotal: 12m 42s\tremaining: 1m 11s\n",
      "914:\tlearn: 0.0078358\ttotal: 12m 42s\tremaining: 1m 10s\n",
      "915:\tlearn: 0.0078333\ttotal: 12m 43s\tremaining: 1m 10s\n",
      "916:\tlearn: 0.0078333\ttotal: 12m 44s\tremaining: 1m 9s\n",
      "917:\tlearn: 0.0078332\ttotal: 12m 45s\tremaining: 1m 8s\n",
      "918:\tlearn: 0.0078332\ttotal: 12m 46s\tremaining: 1m 7s\n",
      "919:\tlearn: 0.0078274\ttotal: 12m 47s\tremaining: 1m 6s\n",
      "920:\tlearn: 0.0078274\ttotal: 12m 47s\tremaining: 1m 5s\n",
      "921:\tlearn: 0.0078274\ttotal: 12m 48s\tremaining: 1m 5s\n",
      "922:\tlearn: 0.0078273\ttotal: 12m 49s\tremaining: 1m 4s\n",
      "923:\tlearn: 0.0078273\ttotal: 12m 50s\tremaining: 1m 3s\n",
      "924:\tlearn: 0.0078273\ttotal: 12m 51s\tremaining: 1m 2s\n",
      "925:\tlearn: 0.0078273\ttotal: 12m 52s\tremaining: 1m 1s\n",
      "926:\tlearn: 0.0078273\ttotal: 12m 53s\tremaining: 1m\n",
      "927:\tlearn: 0.0078188\ttotal: 12m 54s\tremaining: 1m\n",
      "928:\tlearn: 0.0077997\ttotal: 12m 55s\tremaining: 59.3s\n",
      "929:\tlearn: 0.0077997\ttotal: 12m 56s\tremaining: 58.4s\n",
      "930:\tlearn: 0.0077849\ttotal: 12m 57s\tremaining: 57.6s\n",
      "931:\tlearn: 0.0077783\ttotal: 12m 58s\tremaining: 56.8s\n",
      "932:\tlearn: 0.0077529\ttotal: 12m 59s\tremaining: 56s\n",
      "933:\tlearn: 0.0077459\ttotal: 13m\tremaining: 55.1s\n",
      "934:\tlearn: 0.0077459\ttotal: 13m 1s\tremaining: 54.3s\n",
      "935:\tlearn: 0.0077458\ttotal: 13m 1s\tremaining: 53.5s\n",
      "936:\tlearn: 0.0077458\ttotal: 13m 2s\tremaining: 52.6s\n",
      "937:\tlearn: 0.0077458\ttotal: 13m 3s\tremaining: 51.8s\n",
      "938:\tlearn: 0.0077458\ttotal: 13m 4s\tremaining: 51s\n",
      "939:\tlearn: 0.0077457\ttotal: 13m 5s\tremaining: 50.1s\n",
      "940:\tlearn: 0.0077457\ttotal: 13m 6s\tremaining: 49.3s\n",
      "941:\tlearn: 0.0077457\ttotal: 13m 7s\tremaining: 48.5s\n",
      "942:\tlearn: 0.0077457\ttotal: 13m 8s\tremaining: 47.7s\n",
      "943:\tlearn: 0.0077456\ttotal: 13m 9s\tremaining: 46.8s\n",
      "944:\tlearn: 0.0077456\ttotal: 13m 10s\tremaining: 46s\n",
      "945:\tlearn: 0.0077456\ttotal: 13m 11s\tremaining: 45.2s\n",
      "946:\tlearn: 0.0077455\ttotal: 13m 11s\tremaining: 44.3s\n",
      "947:\tlearn: 0.0077455\ttotal: 13m 12s\tremaining: 43.5s\n",
      "948:\tlearn: 0.0077455\ttotal: 13m 13s\tremaining: 42.6s\n",
      "949:\tlearn: 0.0077454\ttotal: 13m 14s\tremaining: 41.8s\n",
      "950:\tlearn: 0.0077454\ttotal: 13m 15s\tremaining: 41s\n",
      "951:\tlearn: 0.0077454\ttotal: 13m 15s\tremaining: 40.1s\n",
      "952:\tlearn: 0.0077454\ttotal: 13m 16s\tremaining: 39.3s\n",
      "953:\tlearn: 0.0077454\ttotal: 13m 17s\tremaining: 38.5s\n",
      "954:\tlearn: 0.0077454\ttotal: 13m 18s\tremaining: 37.6s\n",
      "955:\tlearn: 0.0077454\ttotal: 13m 19s\tremaining: 36.8s\n",
      "956:\tlearn: 0.0077454\ttotal: 13m 20s\tremaining: 35.9s\n",
      "957:\tlearn: 0.0077454\ttotal: 13m 20s\tremaining: 35.1s\n",
      "958:\tlearn: 0.0077454\ttotal: 13m 21s\tremaining: 34.3s\n",
      "959:\tlearn: 0.0077187\ttotal: 13m 22s\tremaining: 33.4s\n",
      "960:\tlearn: 0.0077187\ttotal: 13m 23s\tremaining: 32.6s\n",
      "961:\tlearn: 0.0077146\ttotal: 13m 24s\tremaining: 31.8s\n",
      "962:\tlearn: 0.0077002\ttotal: 13m 25s\tremaining: 30.9s\n",
      "963:\tlearn: 0.0076744\ttotal: 13m 26s\tremaining: 30.1s\n",
      "964:\tlearn: 0.0076743\ttotal: 13m 27s\tremaining: 29.3s\n",
      "965:\tlearn: 0.0076743\ttotal: 13m 28s\tremaining: 28.4s\n",
      "966:\tlearn: 0.0076742\ttotal: 13m 28s\tremaining: 27.6s\n",
      "967:\tlearn: 0.0076741\ttotal: 13m 29s\tremaining: 26.8s\n",
      "968:\tlearn: 0.0076741\ttotal: 13m 30s\tremaining: 25.9s\n",
      "969:\tlearn: 0.0076739\ttotal: 13m 31s\tremaining: 25.1s\n",
      "970:\tlearn: 0.0076739\ttotal: 13m 31s\tremaining: 24.2s\n",
      "971:\tlearn: 0.0076738\ttotal: 13m 32s\tremaining: 23.4s\n",
      "972:\tlearn: 0.0076737\ttotal: 13m 33s\tremaining: 22.6s\n",
      "973:\tlearn: 0.0076681\ttotal: 13m 34s\tremaining: 21.7s\n",
      "974:\tlearn: 0.0076680\ttotal: 13m 34s\tremaining: 20.9s\n",
      "975:\tlearn: 0.0076679\ttotal: 13m 35s\tremaining: 20.1s\n",
      "976:\tlearn: 0.0076679\ttotal: 13m 36s\tremaining: 19.2s\n",
      "977:\tlearn: 0.0076376\ttotal: 13m 37s\tremaining: 18.4s\n",
      "978:\tlearn: 0.0076376\ttotal: 13m 38s\tremaining: 17.6s\n",
      "979:\tlearn: 0.0076376\ttotal: 13m 39s\tremaining: 16.7s\n",
      "980:\tlearn: 0.0076376\ttotal: 13m 40s\tremaining: 15.9s\n",
      "981:\tlearn: 0.0076376\ttotal: 13m 40s\tremaining: 15s\n",
      "982:\tlearn: 0.0076376\ttotal: 13m 41s\tremaining: 14.2s\n",
      "983:\tlearn: 0.0076376\ttotal: 13m 42s\tremaining: 13.4s\n",
      "984:\tlearn: 0.0076376\ttotal: 13m 43s\tremaining: 12.5s\n",
      "985:\tlearn: 0.0076375\ttotal: 13m 44s\tremaining: 11.7s\n",
      "986:\tlearn: 0.0076375\ttotal: 13m 44s\tremaining: 10.9s\n",
      "987:\tlearn: 0.0076375\ttotal: 13m 45s\tremaining: 10s\n",
      "988:\tlearn: 0.0076273\ttotal: 13m 46s\tremaining: 9.19s\n",
      "989:\tlearn: 0.0076273\ttotal: 13m 47s\tremaining: 8.35s\n",
      "990:\tlearn: 0.0076273\ttotal: 13m 47s\tremaining: 7.52s\n",
      "991:\tlearn: 0.0076273\ttotal: 13m 48s\tremaining: 6.68s\n",
      "992:\tlearn: 0.0076273\ttotal: 13m 49s\tremaining: 5.84s\n",
      "993:\tlearn: 0.0076273\ttotal: 13m 50s\tremaining: 5.01s\n",
      "994:\tlearn: 0.0076273\ttotal: 13m 50s\tremaining: 4.17s\n",
      "995:\tlearn: 0.0076273\ttotal: 13m 51s\tremaining: 3.34s\n",
      "996:\tlearn: 0.0076273\ttotal: 13m 52s\tremaining: 2.5s\n",
      "997:\tlearn: 0.0076273\ttotal: 13m 53s\tremaining: 1.67s\n",
      "998:\tlearn: 0.0076273\ttotal: 13m 54s\tremaining: 835ms\n",
      "999:\tlearn: 0.0076273\ttotal: 13m 54s\tremaining: 0us\n"
     ]
    },
    {
     "data": {
      "image/png": "[encoded data removed]",
      "text/plain": [
       "<Figure size 432x288 with 2 Axes>"
      ]
     },
     "metadata": {
      "needs_background": "light"
     },
     "output_type": "display_data"
    }
   ],
   "source": [
    "test_model(cad,X_res_train3,X_test6, y_res_train3,y_test6)"
   ]
  },
  {
   "cell_type": "code",
   "execution_count": 48,
   "metadata": {},
   "outputs": [],
   "source": [
    "predictions_cad_Tomek=cad.predict(X_test6)"
   ]
  },
  {
   "cell_type": "code",
   "execution_count": 49,
   "metadata": {
    "scrolled": true
   },
   "outputs": [
    {
     "name": "stdout",
     "output_type": "stream",
     "text": [
      "f1 score= 0.5916986652038764\n",
      "precision= 0.42556549184639664\n",
      "recall= 0.9706058788242351\n"
     ]
    }
   ],
   "source": [
    "métriques(predictions_cad_Tomek,y_test6)"
   ]
  },
  {
   "cell_type": "code",
   "execution_count": 55,
   "metadata": {},
   "outputs": [
    {
     "data": {
      "text/plain": [
       "<sklearn.metrics._plot.roc_curve.RocCurveDisplay at 0x25100742f10>"
      ]
     },
     "execution_count": 55,
     "metadata": {},
     "output_type": "execute_result"
    },
    {
     "data": {
      "image/png": "[encoded data removed]",
      "text/plain": [
       "<Figure size 432x288 with 1 Axes>"
      ]
     },
     "metadata": {
      "needs_background": "light"
     },
     "output_type": "display_data"
    }
   ],
   "source": [
    "plot_roc_curve(cad,X_test6,y_test6)"
   ]
  },
  {
   "cell_type": "markdown",
   "metadata": {},
   "source": [
    "**voisins**"
   ]
  },
  {
   "cell_type": "code",
   "execution_count": 113,
   "metadata": {},
   "outputs": [
    {
     "data": {
      "image/png": "[encoded data removed]",
      "text/plain": [
       "<Figure size 432x288 with 2 Axes>"
      ]
     },
     "metadata": {
      "needs_background": "light"
     },
     "output_type": "display_data"
    }
   ],
   "source": [
    "test_model(voisins,X_res_train3,X_test6, y_res_train3,y_test6)"
   ]
  },
  {
   "cell_type": "code",
   "execution_count": 114,
   "metadata": {},
   "outputs": [],
   "source": [
    "predictions_voisins_Tomek=voisins.predict(X_test6)"
   ]
  },
  {
   "cell_type": "code",
   "execution_count": 115,
   "metadata": {},
   "outputs": [
    {
     "name": "stdout",
     "output_type": "stream",
     "text": [
      "f1 score= 0.420746767397937\n",
      "precision= 0.2776073619631902\n",
      "recall= 0.8686262747450509\n"
     ]
    }
   ],
   "source": [
    "métriques(predictions_voisins_Tomek,y_test6)"
   ]
  },
  {
   "cell_type": "markdown",
   "metadata": {},
   "source": [
    "**adaboost**"
   ]
  },
  {
   "cell_type": "code",
   "execution_count": 116,
   "metadata": {},
   "outputs": [
    {
     "data": {
      "image/png": "[encoded data removed]",
      "text/plain": [
       "<Figure size 432x288 with 2 Axes>"
      ]
     },
     "metadata": {
      "needs_background": "light"
     },
     "output_type": "display_data"
    }
   ],
   "source": [
    "test_model(ADAboost,X_res_train3,X_test6, y_res_train3,y_test6)"
   ]
  },
  {
   "cell_type": "code",
   "execution_count": 117,
   "metadata": {},
   "outputs": [],
   "source": [
    "predictions_ADA_Tomek=ADAboost.predict(X_test6)"
   ]
  },
  {
   "cell_type": "code",
   "execution_count": 118,
   "metadata": {},
   "outputs": [
    {
     "name": "stdout",
     "output_type": "stream",
     "text": [
      "f1 score= 0.05632040050062579\n",
      "precision= 0.029079444651144575\n",
      "recall= 0.8908218356328734\n"
     ]
    }
   ],
   "source": [
    "métriques(predictions_ADA_Tomek,y_test6)"
   ]
  },
  {
   "cell_type": "markdown",
   "metadata": {},
   "source": [
    "**regression logistique**"
   ]
  },
  {
   "cell_type": "code",
   "execution_count": 119,
   "metadata": {},
   "outputs": [
    {
     "data": {
      "image/png": "[encoded data removed]",
      "text/plain": [
       "<Figure size 432x288 with 2 Axes>"
      ]
     },
     "metadata": {
      "needs_background": "light"
     },
     "output_type": "display_data"
    }
   ],
   "source": [
    "test_model(logistique,X_res_train3,X_test6, y_res_train3,y_test6)"
   ]
  },
  {
   "cell_type": "code",
   "execution_count": 120,
   "metadata": {},
   "outputs": [],
   "source": [
    "predictions_logistique_Tomek=ADAboost.predict(X_test6)"
   ]
  },
  {
   "cell_type": "code",
   "execution_count": 121,
   "metadata": {},
   "outputs": [
    {
     "name": "stdout",
     "output_type": "stream",
     "text": [
      "f1 score= 0.05632040050062579\n",
      "precision= 0.029079444651144575\n",
      "recall= 0.8908218356328734\n"
     ]
    }
   ],
   "source": [
    "métriques(predictions_logistique_Tomek,y_test6)"
   ]
  },
  {
   "cell_type": "markdown",
   "metadata": {},
   "source": [
    "**arbre de decision**"
   ]
  },
  {
   "cell_type": "code",
   "execution_count": 122,
   "metadata": {
    "scrolled": true
   },
   "outputs": [
    {
     "data": {
      "image/png": "[encoded data removed]",
      "text/plain": [
       "<Figure size 432x288 with 2 Axes>"
      ]
     },
     "metadata": {
      "needs_background": "light"
     },
     "output_type": "display_data"
    }
   ],
   "source": [
    "test_model(arbre,X_res_train3,X_test6, y_res_train3,y_test6)"
   ]
  },
  {
   "cell_type": "code",
   "execution_count": 123,
   "metadata": {},
   "outputs": [],
   "source": [
    "predictions_arbre_Tomek=arbre.predict(X_test6)"
   ]
  },
  {
   "cell_type": "code",
   "execution_count": 124,
   "metadata": {
    "scrolled": true
   },
   "outputs": [
    {
     "name": "stdout",
     "output_type": "stream",
     "text": [
      "f1 score= 0.682112605879422\n",
      "precision= 0.5832978270132083\n",
      "recall= 0.8212357528494301\n"
     ]
    }
   ],
   "source": [
    "métriques(predictions_arbre_Tomek,y_test6)"
   ]
  },
  {
   "cell_type": "markdown",
   "metadata": {},
   "source": [
    "**gradientboosting**"
   ]
  },
  {
   "cell_type": "code",
   "execution_count": 125,
   "metadata": {
    "scrolled": true
   },
   "outputs": [
    {
     "data": {
      "image/png": "[encoded data removed]",
      "text/plain": [
       "<Figure size 432x288 with 2 Axes>"
      ]
     },
     "metadata": {
      "needs_background": "light"
     },
     "output_type": "display_data"
    }
   ],
   "source": [
    "test_model(gradientboosting,X_res_train3,X_test6, y_res_train3,y_test6)"
   ]
  },
  {
   "cell_type": "code",
   "execution_count": 126,
   "metadata": {},
   "outputs": [],
   "source": [
    "predictions_gradient_Tomek=gradientboosting.predict(X_test6)"
   ]
  },
  {
   "cell_type": "code",
   "execution_count": 127,
   "metadata": {},
   "outputs": [
    {
     "name": "stdout",
     "output_type": "stream",
     "text": [
      "f1 score= 0.15020537714712473\n",
      "precision= 0.08143948980108316\n",
      "recall= 0.9652069586082783\n"
     ]
    }
   ],
   "source": [
    "métriques(predictions_gradient_Tomek,y_test6)"
   ]
  },
  {
   "cell_type": "markdown",
   "metadata": {},
   "source": [
    "**extratreeclassifier**"
   ]
  },
  {
   "cell_type": "code",
   "execution_count": 128,
   "metadata": {},
   "outputs": [
    {
     "data": {
      "image/png": "[encoded data removed]",
      "text/plain": [
       "<Figure size 432x288 with 2 Axes>"
      ]
     },
     "metadata": {
      "needs_background": "light"
     },
     "output_type": "display_data"
    }
   ],
   "source": [
    "test_model(extreme_tree,X_res_train3,X_test6, y_res_train3,y_test6)"
   ]
  },
  {
   "cell_type": "code",
   "execution_count": 129,
   "metadata": {},
   "outputs": [],
   "source": [
    "predictions_extree_Tomek=extreme_tree.predict(X_test6)"
   ]
  },
  {
   "cell_type": "code",
   "execution_count": 130,
   "metadata": {
    "scrolled": false
   },
   "outputs": [
    {
     "name": "stdout",
     "output_type": "stream",
     "text": [
      "f1 score= 0.7669848399775407\n",
      "precision= 0.720844327176781\n",
      "recall= 0.8194361127774445\n"
     ]
    }
   ],
   "source": [
    "métriques(predictions_extree_Tomek,y_test6)"
   ]
  },
  {
   "cell_type": "markdown",
   "metadata": {},
   "source": [
    "# Récapitulatifs de tout nos modèles"
   ]
  },
  {
   "cell_type": "markdown",
   "metadata": {},
   "source": [
    "Au final, les modèles les plus prometteurs semblent être **Xgboosting** et **CATboosting**. Leurs performances sans SMOTE des données sont déja très satisfaisantes, le réequilibrage tend à faire baisser la précision au profit du recall. \n",
    "\n",
    "Avec un CATboosting et un SMOTE_Tomek, on obtient un recall de 0.971 et une précision de 0.423 ce qui est probablement notre meilleur compromis précision/rappel.\n",
    "\n",
    "Pour la phase d'optimisation, nous allons nous intérésser plus en détails aux modèles **CATboosting** et **Xgboosting** ( et peut-être aussi à **randomforest** et **extratreeclassifier**"
   ]
  }
 ],
 "metadata": {
  "kernelspec": {
   "display_name": "Python 3",
   "language": "python",
   "name": "python3"
  },
  "language_info": {
   "codemirror_mode": {
    "name": "ipython",
    "version": 3
   },
   "file_extension": ".py",
   "mimetype": "text/x-python",
   "name": "python",
   "nbconvert_exporter": "python",
   "pygments_lexer": "ipython3",
   "version": "3.8.3"
  }
 },
 "nbformat": 4,
 "nbformat_minor": 4
}
