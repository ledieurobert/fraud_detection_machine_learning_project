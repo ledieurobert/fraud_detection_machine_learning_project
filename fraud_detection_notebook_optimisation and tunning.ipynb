{
 "cells": [
  {
   "cell_type": "markdown",
   "id": "3b0e68bc",
   "metadata": {},
   "source": [
    "# DETECTION DE FRAUDES__OPTIMISATION"
   ]
  },
  {
   "cell_type": "markdown",
   "id": "18c9617c",
   "metadata": {},
   "source": [
    "Ce notebook présente la phase d'optimisation des modèles les plus efficaces identifiées.\n",
    "On trouvera aussi une section 'test' pour toutes autres recherches qui sortent du cadre de l'optimisation\n",
    "J'ai mis un tableau récapitulatif des scores importants sur les modèles testés dans cette partie à la fin du notebook"
   ]
  },
  {
   "cell_type": "markdown",
   "id": "063cf44c",
   "metadata": {},
   "source": [
    "**Problématique: developper un modèle de classification binaire de machine learning pour prédire si une transaction bancaire est une fraude ou non**"
   ]
  },
  {
   "cell_type": "markdown",
   "id": "9ecbc22e",
   "metadata": {},
   "source": [
    "i)import des bibliothèques\n",
    "\n",
    "ii)import du dataset\n",
    "\n",
    "iii)définition des fonctions\n",
    "\n",
    "iv)Déclaration des modèles utilisés\n",
    "\n",
    "v)Ouverture des pickles de tout les tableaux utilisées\n",
    "\n",
    "vi)Tableau récapitulatif des résultats de nos modèles\n",
    "\n",
    "#### A)Optimisation de catboost\n",
    "\n",
    "    1)sans encoding\n",
    "    2)Compromis recall/précision (sans SMOTE)\n",
    "    3)Compromis recall/précision (avec SMOTE_Tomek)\n",
    "    4)GridSearchCV avec CATboost ( sans SMOTE)\n",
    "    \n",
    "#### B)Optimisation de XGBoost\n",
    "\n",
    "    1)Compromis recall/précision ( sans SMOTE)\n",
    "    2)XGBoost avec SMOTE Tomek\n",
    "    3)GridSearchCV avec XGBoosting ( sans SMOTE)\n",
    "    \n",
    "#### C)Section de test\n",
    "\n",
    "    1)modifier le pourcentage d'élement de la classe minoritaire apres le SMOTE\n",
    "    2)retirer la variable oldbalanceOrg et comparer sans / avec SMOTE\n",
    "    3)comment trouver des fraudes de manière quasi sûre\n",
    "    4)Autres tests pas aboutis\n",
    "    \n",
    "#### VII) RECAP DE NOS RESULTATS\n",
    "\n",
    "    \n",
    "\n"
   ]
  },
  {
   "cell_type": "markdown",
   "id": "cfdb3cf3",
   "metadata": {},
   "source": [
    "### i) import des bibliothèques"
   ]
  },
  {
   "cell_type": "markdown",
   "id": "71e73dbb",
   "metadata": {},
   "source": [
    "Pour développer ce modèle, nous utiliserons principalement la bibliothèque scikit-learn ainsi que d'autres bibliothèques pour visualiser et manipuler nos données "
   ]
  },
  {
   "cell_type": "code",
   "execution_count": 2,
   "id": "733844ce",
   "metadata": {},
   "outputs": [],
   "source": [
    "import pandas as pd\n",
    "import os\n",
    "import numpy as np\n",
    "import matplotlib.pyplot as plt\n",
    "import seaborn as sns\n",
    "from sklearn.model_selection import train_test_split\n",
    "from sklearn.preprocessing import OneHotEncoder, LabelBinarizer,LabelEncoder,RobustScaler,PolynomialFeatures\n",
    "from sklearn.linear_model import SGDClassifier\n",
    "from sklearn import svm\n",
    "from sklearn.metrics import confusion_matrix,ConfusionMatrixDisplay,plot_confusion_matrix,precision_score,precision_recall_fscore_support,plot_precision_recall_curve,precision_recall_curve,roc_curve,roc_auc_score,recall_score,f1_score,make_scorer,SCORERS,plot_roc_curve,roc_curve\n",
    "from sklearn.tree import DecisionTreeClassifier,export_graphviz,plot_tree\n",
    "from sklearn.ensemble import GradientBoostingClassifier\n",
    "from sklearn.linear_model import LogisticRegression\n",
    "from sklearn.neighbors import KNeighborsClassifier\n",
    "from sklearn.model_selection import GridSearchCV,cross_val_predict\n",
    "from sklearn.pipeline import Pipeline, make_pipeline\n",
    "from sklearn.model_selection import learning_curve,cross_val_score,cross_validate\n",
    "from sklearn.compose import make_column_transformer\n",
    "from collections import Counter\n",
    "from sklearn.datasets import make_classification\n",
    "from imblearn.under_sampling import NearMiss \n",
    "from imblearn.over_sampling import SMOTE\n",
    "from imblearn.combine import SMOTEENN,SMOTETomek \n",
    "import pickle\n",
    "from sklearn.ensemble import AdaBoostClassifier,RandomForestClassifier,IsolationForest,ExtraTreesClassifier\n",
    "from sklearn.decomposition import PCA\n",
    "import graphviz\n",
    "from xgboost import XGBClassifier\n",
    "import warnings\n",
    "from catboost import CatBoostClassifier\n",
    "from sklearn.model_selection import StratifiedKFold\n",
    "warnings.filterwarnings(\"ignore\")\n"
   ]
  },
  {
   "cell_type": "markdown",
   "id": "977216cb",
   "metadata": {},
   "source": [
    "### ii) import du dataset"
   ]
  },
  {
   "cell_type": "markdown",
   "id": "53740849",
   "metadata": {},
   "source": [
    "On importe notre dataset grâce à pandas, tout au long du notebook,\n",
    "le dataset de base ( sans modifications) sera appelé **fraudes**"
   ]
  },
  {
   "cell_type": "code",
   "execution_count": 3,
   "id": "359dd279",
   "metadata": {
    "scrolled": true
   },
   "outputs": [
    {
     "data": {
      "text/html": [
       "<div>\n",
       "<style scoped>\n",
       "    .dataframe tbody tr th:only-of-type {\n",
       "        vertical-align: middle;\n",
       "    }\n",
       "\n",
       "    .dataframe tbody tr th {\n",
       "        vertical-align: top;\n",
       "    }\n",
       "\n",
       "    .dataframe thead th {\n",
       "        text-align: right;\n",
       "    }\n",
       "</style>\n",
       "<table border=\"1\" class=\"dataframe\">\n",
       "  <thead>\n",
       "    <tr style=\"text-align: right;\">\n",
       "      <th></th>\n",
       "      <th>step</th>\n",
       "      <th>type</th>\n",
       "      <th>amount</th>\n",
       "      <th>nameOrig</th>\n",
       "      <th>oldbalanceOrg</th>\n",
       "      <th>newbalanceOrig</th>\n",
       "      <th>nameDest</th>\n",
       "      <th>oldbalanceDest</th>\n",
       "      <th>newbalanceDest</th>\n",
       "      <th>isFraud</th>\n",
       "      <th>isFlaggedFraud</th>\n",
       "    </tr>\n",
       "  </thead>\n",
       "  <tbody>\n",
       "    <tr>\n",
       "      <th>0</th>\n",
       "      <td>1</td>\n",
       "      <td>PAYMENT</td>\n",
       "      <td>9839.64</td>\n",
       "      <td>C1231006815</td>\n",
       "      <td>170136.0</td>\n",
       "      <td>160296.36</td>\n",
       "      <td>M1979787155</td>\n",
       "      <td>0.0</td>\n",
       "      <td>0.0</td>\n",
       "      <td>0</td>\n",
       "      <td>0</td>\n",
       "    </tr>\n",
       "    <tr>\n",
       "      <th>1</th>\n",
       "      <td>1</td>\n",
       "      <td>PAYMENT</td>\n",
       "      <td>1864.28</td>\n",
       "      <td>C1666544295</td>\n",
       "      <td>21249.0</td>\n",
       "      <td>19384.72</td>\n",
       "      <td>M2044282225</td>\n",
       "      <td>0.0</td>\n",
       "      <td>0.0</td>\n",
       "      <td>0</td>\n",
       "      <td>0</td>\n",
       "    </tr>\n",
       "    <tr>\n",
       "      <th>2</th>\n",
       "      <td>1</td>\n",
       "      <td>TRANSFER</td>\n",
       "      <td>181.00</td>\n",
       "      <td>C1305486145</td>\n",
       "      <td>181.0</td>\n",
       "      <td>0.00</td>\n",
       "      <td>C553264065</td>\n",
       "      <td>0.0</td>\n",
       "      <td>0.0</td>\n",
       "      <td>1</td>\n",
       "      <td>0</td>\n",
       "    </tr>\n",
       "    <tr>\n",
       "      <th>3</th>\n",
       "      <td>1</td>\n",
       "      <td>CASH_OUT</td>\n",
       "      <td>181.00</td>\n",
       "      <td>C840083671</td>\n",
       "      <td>181.0</td>\n",
       "      <td>0.00</td>\n",
       "      <td>C38997010</td>\n",
       "      <td>21182.0</td>\n",
       "      <td>0.0</td>\n",
       "      <td>1</td>\n",
       "      <td>0</td>\n",
       "    </tr>\n",
       "    <tr>\n",
       "      <th>4</th>\n",
       "      <td>1</td>\n",
       "      <td>PAYMENT</td>\n",
       "      <td>11668.14</td>\n",
       "      <td>C2048537720</td>\n",
       "      <td>41554.0</td>\n",
       "      <td>29885.86</td>\n",
       "      <td>M1230701703</td>\n",
       "      <td>0.0</td>\n",
       "      <td>0.0</td>\n",
       "      <td>0</td>\n",
       "      <td>0</td>\n",
       "    </tr>\n",
       "  </tbody>\n",
       "</table>\n",
       "</div>"
      ],
      "text/plain": [
       "   step      type    amount     nameOrig  oldbalanceOrg  newbalanceOrig  \\\n",
       "0     1   PAYMENT   9839.64  C1231006815       170136.0       160296.36   \n",
       "1     1   PAYMENT   1864.28  C1666544295        21249.0        19384.72   \n",
       "2     1  TRANSFER    181.00  C1305486145          181.0            0.00   \n",
       "3     1  CASH_OUT    181.00   C840083671          181.0            0.00   \n",
       "4     1   PAYMENT  11668.14  C2048537720        41554.0        29885.86   \n",
       "\n",
       "      nameDest  oldbalanceDest  newbalanceDest  isFraud  isFlaggedFraud  \n",
       "0  M1979787155             0.0             0.0        0               0  \n",
       "1  M2044282225             0.0             0.0        0               0  \n",
       "2   C553264065             0.0             0.0        1               0  \n",
       "3    C38997010         21182.0             0.0        1               0  \n",
       "4  M1230701703             0.0             0.0        0               0  "
      ]
     },
     "execution_count": 3,
     "metadata": {},
     "output_type": "execute_result"
    }
   ],
   "source": [
    "os.chdir('C:\\\\Users\\\\matth\\\\jupyter codes')\n",
    "fraudes=pd.read_csv('fraudes_bancaires.csv')\n",
    "fraudes.head()"
   ]
  },
  {
   "cell_type": "markdown",
   "id": "0e057daf",
   "metadata": {},
   "source": [
    "### iii) Définition des fonctions \n",
    "\n"
   ]
  },
  {
   "cell_type": "markdown",
   "id": "73974ebf",
   "metadata": {},
   "source": [
    "D'autres fonctions seront aussi défini plus loin pour des applications plus spécifiques"
   ]
  },
  {
   "cell_type": "code",
   "execution_count": 4,
   "id": "ca69ccf7",
   "metadata": {},
   "outputs": [],
   "source": [
    "def encoder(df):\n",
    "    encodeur=LabelEncoder()\n",
    "    df['is_Cash_OUT']=encodeur.fit_transform(df['type'])\n",
    "    df=df.drop('type',axis=1)\n",
    "    return df\n",
    "# transforme la colonne 'type' en une colonne de booléen qui précise si la transaction est un cash_out ou non \n",
    "#( si il ne l'est pas, c'est un transfert). Cette fonction s'applique après la fonction 'retirer_transactions'\n",
    "\n",
    "def test_model(modele,X_train,X_test,y_train,y_test):\n",
    "    modele.fit(X_train,y_train)\n",
    "    plot_confusion_matrix(modele,X_test,y_test)\n",
    "#Fonction qui applique un modele passé en paramètre au dataset\n",
    "#et qui affiche la matrice de confusion correspondant aux prédictions.\n",
    "\n",
    "def enlever_colonnes(df):\n",
    "    heures=df.step %24\n",
    "    df['heures']=heures\n",
    "    df.drop(['nameOrig','newbalanceOrig','newbalanceDest','isFlaggedFraud','step','nameDest'],axis=1, inplace=True)\n",
    "    return df\n",
    "#Fonction qui enlève les colonnes inutiles pour notre modèle.\n",
    "\n",
    "def retirer_transactions(df):\n",
    "    df_type=((df['type']=='TRANSFER') |(df['type']=='CASH_OUT'))\n",
    "    index_transfert=df_type[df_type==True].index\n",
    "    return df.loc[index_transfert,:]\n",
    "#Enlève toutes les transactions qui n'ont aucunes chances d'être des fraudes ( cad CASH-IN, DEBIT et PAYMENT)\n",
    "\n",
    "def scaler(df):\n",
    "    scaler=RobustScaler()\n",
    "    df_continue=scaler.fit_transform(df.loc[:,['amount','oldbalanceOrg','oldbalanceDest','heures']])\n",
    "    df['amount']=df_continue[:,0]\n",
    "    df['oldbalanceOrg']=df_continue[:,1]\n",
    "    df['oldbalanceDest']=df_continue[:,2]\n",
    "    df['heures']=df_continue[:,3]\n",
    "    return df\n",
    "#Applique une standardisation sur les variables quantitatives du dataset. La standardisation est un RobustScaler(),\n",
    "#moins sensible aux valeurs extremes, très nombreuses dans notre dataset.\n",
    "\n",
    "def algo_smote(X_train4, y_train4):\n",
    "    sm = SMOTE()\n",
    "    X_res_train, y_res_train = sm.fit_resample(X_train4, y_train4)\n",
    "    return X_res_train, y_res_train \n",
    "#Applique un algorithme SMOTE à notre trainset, pour réequilibré les 2 classes de notre target.Pour cela on augmente\n",
    "#artificiellement le  nombre de fraudes (l'algorithme va regarder les propriétés des transactions les plus \"proches\"\n",
    "#de la transaction qu'elle va inventer et incorporer des valeurs relativement proches).\n",
    "\n",
    "def algo_smote_ENN(X_train4, y_train4):\n",
    "    sm = SMOTEENN()\n",
    "    X_res_train, y_res_train = sm.fit_resample(X_train4, y_train4)\n",
    "    return X_res_train, y_res_train \n",
    "#Applique un algo SMOTE, puis un algo ENN (qui enleve toutes observations telles que les n-plus proches voisins ne sont pas \n",
    "#majoritairement du même type que que l'observation)--> permet de distinguer plus clairement des groupes dans l'espaces des \n",
    "#variables\n",
    "\n",
    "def algo_smote_Tomek(X_train4, y_train4):\n",
    "    sm = SMOTETomek ()\n",
    "    X_res_train, y_res_train = sm.fit_resample(X_train4, y_train4)\n",
    "    return X_res_train, y_res_train \n",
    "#Applique un algo SMOTE, puis un algo Tomek (qui enleve toutes observations A telles que sont plus proche voisin B ne soit pas\n",
    "#de la même classe, et inversement)--> permet de distinguer plus clairement des groupes dans l'espaces des variables\n",
    "\n",
    "def PCA(df, nombre_composants):\n",
    "    pca=PCA(n_components=nombre_composants)\n",
    "    df_reduit=pca.fit_transform(df)\n",
    "    return df_reduit\n",
    "#réduit le nombre de dimensions de notre dataset à 'nombre_composants' dimensions\n",
    "\n",
    "def métriques(predictions_simple,y_test1):\n",
    "    print('f1 score=',f1_score(y_test1,predictions_simple))\n",
    "    print('precision=',precision_score(y_test1,predictions_simple))\n",
    "    print('recall=',recall_score(y_test1,predictions_simple))\n",
    "    print('roc_auc=',roc_auc_score(y_test1,predictions_simple))\n",
    "#affiche les différentes métriques utilisées dans ce notebook"
   ]
  },
  {
   "cell_type": "markdown",
   "id": "cfa31c72",
   "metadata": {},
   "source": [
    "### iv) Déclaration des modèles utilisés"
   ]
  },
  {
   "cell_type": "code",
   "execution_count": 5,
   "id": "34f9315a",
   "metadata": {},
   "outputs": [],
   "source": [
    "arbre=DecisionTreeClassifier(random_state=0)\n",
    "sgd=SGDClassifier(random_state=0)\n",
    "logistique=LogisticRegression(random_state=0)\n",
    "voisins=KNeighborsClassifier()\n",
    "svc=svm.SVC(random_state=0)\n",
    "gradientboosting=GradientBoostingClassifier(random_state=0)\n",
    "ADAboost=AdaBoostClassifier(random_state=0)\n",
    "randomforest = RandomForestClassifier(random_state=0)\n",
    "isolationforest=IsolationForest(random_state=0)\n",
    "xgb=XGBClassifier(max_depth=40,random_state=0)\n",
    "xgb_2=XGBClassifier(max_depth=40,random_state=1)\n",
    "\n",
    "extreme_tree=ExtraTreesClassifier(random_state=0)\n",
    "\n",
    "cad=CatBoostClassifier(random_state=0)\n",
    "cad_2=CatBoostClassifier(random_state=1)\n",
    "cad_3=CatBoostClassifier(random_state=2)\n",
    "cad_4=CatBoostClassifier(random_state=3)\n",
    "cad_5=CatBoostClassifier(random_state=4)\n",
    "\n",
    "randomforest_modifié1=RandomForestClassifier(max_depth= 30, min_samples_leaf= 5,random_state=0)\n",
    "randomforest_modifié2=RandomForestClassifier(max_depth= 15, min_samples_leaf= 3,random_state=0)"
   ]
  },
  {
   "cell_type": "markdown",
   "id": "6f3d1a49",
   "metadata": {},
   "source": [
    "### v) Ouverture des pickles de tout les tableaux utilisées"
   ]
  },
  {
   "cell_type": "markdown",
   "id": "58578810",
   "metadata": {},
   "source": [
    "il faut d'abord les avoir enregistrer, voir le notebook \"fraud_detection_notebook_preprocessing and first models\""
   ]
  },
  {
   "cell_type": "code",
   "execution_count": 6,
   "id": "06eea398",
   "metadata": {},
   "outputs": [],
   "source": [
    "#sans smote\n",
    "with open('X_train1', 'rb') as f9:\n",
    "    X_train1 = pickle.load(f9)\n",
    "with open('y_train1', 'rb') as f10:\n",
    "    y_train1 = pickle.load(f10)\n",
    "with open('X_test1', 'rb') as f11:\n",
    "    X_test1 = pickle.load(f11)\n",
    "with open('y_test1', 'rb') as f12:\n",
    "    y_test1 = pickle.load(f12)\n",
    "\n",
    "#smote simple\n",
    "with open('X_res_train', 'rb') as f13:\n",
    "    X_res_train = pickle.load(f13)\n",
    "with open('y_res_train', 'rb') as f14:\n",
    "    y_res_train = pickle.load(f14)\n",
    "with open('X_test4', 'rb') as f15:\n",
    "    X_test4 = pickle.load(f15)\n",
    "with open('y_test4', 'rb') as f16:\n",
    "    y_test4 = pickle.load(f16)\n",
    "\n",
    "# smote_ENN   \n",
    "with open('X_res_train2', 'rb') as f1:\n",
    "    X_res_train2 = pickle.load(f1)\n",
    "with open('y_res_train2', 'rb') as f2:\n",
    "    y_res_train2 = pickle.load(f2)\n",
    "with open('X_test5', 'rb') as f3:\n",
    "    X_test5 = pickle.load(f3)\n",
    "with open('y_test5', 'rb') as f4:\n",
    "    y_test5 = pickle.load(f4)\n",
    "\n",
    "#smote_Tomek    \n",
    "with open('X_res_train3', 'rb') as f5:\n",
    "    X_res_train3 = pickle.load(f5)\n",
    "with open('y_res_train3', 'rb') as f6:\n",
    "    y_res_train3 = pickle.load(f6)\n",
    "with open('X_test6', 'rb') as f7:\n",
    "    X_test6 = pickle.load(f7)\n",
    "with open('y_test6', 'rb') as f8:\n",
    "    y_test6 = pickle.load(f8)"
   ]
  },
  {
   "cell_type": "markdown",
   "id": "919657ec",
   "metadata": {},
   "source": [
    "### vi) Tableau récapitulatif des résultats de nos modèles"
   ]
  },
  {
   "cell_type": "markdown",
   "id": "578ca028",
   "metadata": {},
   "source": [
    "<img src='tableau récapitulatif modèles sans tunnage.jpg'/>"
   ]
  },
  {
   "cell_type": "markdown",
   "id": "19f38c61",
   "metadata": {},
   "source": [
    "# A) Optimisation de catboost"
   ]
  },
  {
   "cell_type": "markdown",
   "id": "b1caf930",
   "metadata": {},
   "source": [
    "## 1) sans encoding"
   ]
  },
  {
   "cell_type": "markdown",
   "id": "69137393",
   "metadata": {},
   "source": []
  },
  {
   "cell_type": "code",
   "execution_count": 11,
   "id": "c8351be6",
   "metadata": {},
   "outputs": [],
   "source": [
    "df=fraudes.copy()\n",
    "\n",
    "df=retirer_transactions(df)\n",
    "df=enlever_colonnes(df)\n",
    "df=scaler(df)\n",
    "\n",
    "X=df.drop('isFraud',axis=1)\n",
    "y=df['isFraud']\n",
    "    \n",
    "X_train8, X_test8, y_train8, y_test8 = train_test_split(X, y, test_size = 0.2, random_state = 30) \n"
   ]
  },
  {
   "cell_type": "code",
   "execution_count": 12,
   "id": "5bf95f68",
   "metadata": {
    "scrolled": false
   },
   "outputs": [
    {
     "data": {
      "text/plain": [
       "2          1\n",
       "3          1\n",
       "15         0\n",
       "19         0\n",
       "24         0\n",
       "          ..\n",
       "6362615    1\n",
       "6362616    1\n",
       "6362617    1\n",
       "6362618    1\n",
       "6362619    1\n",
       "Name: isFraud, Length: 2770409, dtype: int64"
      ]
     },
     "execution_count": 12,
     "metadata": {},
     "output_type": "execute_result"
    }
   ],
   "source": [
    "y"
   ]
  },
  {
   "cell_type": "code",
   "execution_count": null,
   "id": "a5a3d119",
   "metadata": {},
   "outputs": [],
   "source": [
    "cat_modifié=CatBoostClassifier(cat_features=[0],one_hot_max_size=2)\n",
    "test_model(cat_modifié,X_train8,X_test8,y_train8,y_test8)"
   ]
  },
  {
   "cell_type": "code",
   "execution_count": 14,
   "id": "0ed89857",
   "metadata": {},
   "outputs": [],
   "source": [
    "predictions_cad_Tomek_test=cat_modifié.predict(X_test8)"
   ]
  },
  {
   "cell_type": "code",
   "execution_count": 15,
   "id": "fc23b437",
   "metadata": {
    "scrolled": true
   },
   "outputs": [
    {
     "name": "stdout",
     "output_type": "stream",
     "text": [
      "f1 score= 0.8823159219634991\n",
      "precision= 0.927862342819325\n",
      "recall= 0.8410317936412718\n",
      "roc_auc= 0.9204172391085897\n"
     ]
    }
   ],
   "source": [
    "métriques(predictions_cad_Tomek_test,y_test8)"
   ]
  },
  {
   "cell_type": "markdown",
   "id": "8e643df8",
   "metadata": {},
   "source": [
    "CATboost encode bien les variables qualitatives, mais cela ne change visiblement rien aux performances du modèle"
   ]
  },
  {
   "cell_type": "markdown",
   "id": "c1653c42",
   "metadata": {},
   "source": [
    "## 2) cross-validation (sans réequilibrage)"
   ]
  },
  {
   "cell_type": "markdown",
   "id": "3cfeb942",
   "metadata": {},
   "source": [
    "Verifions d'abord que nos résultats obtenues pour le CATboost sans SMOTE (qui sont reportés dans le tableau excel) sont cohérents en utilisant une cross-validation"
   ]
  },
  {
   "cell_type": "code",
   "execution_count": 8,
   "id": "e7db45be",
   "metadata": {
    "scrolled": true
   },
   "outputs": [
    {
     "data": {
      "text/plain": [
       "array([nan, nan, nan, nan, nan])"
      ]
     },
     "execution_count": 8,
     "metadata": {},
     "output_type": "execute_result"
    }
   ],
   "source": [
    "cross_val_score(cad,X_train1,y_train1, cv=5, scoring=\"recall\")"
   ]
  },
  {
   "cell_type": "markdown",
   "id": "c1116bb7",
   "metadata": {},
   "source": [
    "les recalls obtenues sont assez proches du recall obtenue précedemment. Pas de soucis!"
   ]
  },
  {
   "cell_type": "markdown",
   "id": "836d2550",
   "metadata": {},
   "source": [
    "## 3) Compromis recall/précision (sans SMOTE)"
   ]
  },
  {
   "cell_type": "markdown",
   "id": "003bb45e",
   "metadata": {},
   "source": [
    "Le modèle attribue à chaques transaction une probabilité qu'elle soit une fraude. Par défaut, dès que cette probabilité dépasse 50%, le modèle va étiqueter la transaction comme une fraude. \n",
    "Nous allons modifier manuellement ce seuil de sorte à ce que le recall soit à 98%. Nous comparerons ensuite nos différents modèles sur leurs précisions"
   ]
  },
  {
   "cell_type": "code",
   "execution_count": null,
   "id": "26adf662",
   "metadata": {},
   "outputs": [],
   "source": [
    "test_model(cad_2,X_train1,X_test1,y_train1,y_test1)"
   ]
  },
  {
   "cell_type": "markdown",
   "id": "95fcfb72",
   "metadata": {},
   "source": [
    "**courbe precision/recall**"
   ]
  },
  {
   "cell_type": "code",
   "execution_count": 29,
   "id": "e3922ea4",
   "metadata": {
    "scrolled": true
   },
   "outputs": [
    {
     "data": {
      "text/plain": [
       "<sklearn.metrics._plot.precision_recall_curve.PrecisionRecallDisplay at 0x26ddc7f49d0>"
      ]
     },
     "execution_count": 29,
     "metadata": {},
     "output_type": "execute_result"
    },
    {
     "data": {
      "image/png": "[encoded data removed]",
      "text/plain": [
       "<Figure size 432x288 with 1 Axes>"
      ]
     },
     "metadata": {
      "needs_background": "light"
     },
     "output_type": "display_data"
    }
   ],
   "source": [
    "plot_precision_recall_curve(cad_2,X_test1,y_test1)"
   ]
  },
  {
   "cell_type": "markdown",
   "id": "3b9ac431",
   "metadata": {},
   "source": [
    "**precision et recall en fonction du seuil**"
   ]
  },
  {
   "cell_type": "markdown",
   "id": "464dbb92",
   "metadata": {},
   "source": [
    "on recupère les probabilités que le modèle attribue à chaques transactions:"
   ]
  },
  {
   "cell_type": "code",
   "execution_count": null,
   "id": "f4262ac2",
   "metadata": {},
   "outputs": [],
   "source": [
    "y_scores=cross_val_predict(cad_2,X_train1,y_train1,cv=3,method=\"predict_proba\")"
   ]
  },
  {
   "cell_type": "markdown",
   "id": "66ad8ae3",
   "metadata": {},
   "source": [
    "on récupere les valeurs nécessaire pour tracer le graphe"
   ]
  },
  {
   "cell_type": "code",
   "execution_count": 31,
   "id": "7265d341",
   "metadata": {
    "scrolled": true
   },
   "outputs": [],
   "source": [
    "precisions,recalls,seuils=precision_recall_curve(y_train1,y_scores[:,1])"
   ]
  },
  {
   "cell_type": "code",
   "execution_count": 32,
   "id": "11380b1a",
   "metadata": {
    "scrolled": false
   },
   "outputs": [
    {
     "data": {
      "text/plain": [
       "Text(0.5, 0, 'seuil')"
      ]
     },
     "execution_count": 32,
     "metadata": {},
     "output_type": "execute_result"
    },
    {
     "data": {
      "image/png": "[encoded data removed]",
      "text/plain": [
       "<Figure size 432x288 with 1 Axes>"
      ]
     },
     "metadata": {
      "needs_background": "light"
     },
     "output_type": "display_data"
    }
   ],
   "source": [
    "plt.figure()\n",
    "plt.plot(seuils,precisions[:-1],'b--',label=\"Precision\")\n",
    "plt.plot(seuils,recalls[:-1],\"g-\",label=\"Rappel\")\n",
    "plt.legend()\n",
    "plt.xlabel('seuil')"
   ]
  },
  {
   "cell_type": "markdown",
   "id": "ecbfee56",
   "metadata": {},
   "source": [
    "**changement du threshold**"
   ]
  },
  {
   "cell_type": "markdown",
   "id": "bc017872",
   "metadata": {},
   "source": [
    "pour atteindre 98% de recall on modifie le seuil en tâtonnant ( les résultats ne sont donc pas parfait, mais on vise une précision numérique du recall de l'odre du centième)"
   ]
  },
  {
   "cell_type": "code",
   "execution_count": 33,
   "id": "39e97590",
   "metadata": {},
   "outputs": [],
   "source": [
    "results=cad_2.predict_proba(X_test1)"
   ]
  },
  {
   "cell_type": "code",
   "execution_count": 79,
   "id": "2ced23dc",
   "metadata": {
    "scrolled": true
   },
   "outputs": [],
   "source": [
    "seuil=0.023\n",
    "result_réajusté=(results[:,1]>seuil)"
   ]
  },
  {
   "cell_type": "code",
   "execution_count": 85,
   "id": "e2cdae1a",
   "metadata": {
    "scrolled": true
   },
   "outputs": [
    {
     "data": {
      "text/plain": [
       "<sklearn.metrics._plot.confusion_matrix.ConfusionMatrixDisplay at 0x26e02dc38b0>"
      ]
     },
     "execution_count": 85,
     "metadata": {},
     "output_type": "execute_result"
    },
    {
     "data": {
      "image/png": "[encoded data removed]",
      "text/plain": [
       "<Figure size 432x288 with 2 Axes>"
      ]
     },
     "metadata": {
      "needs_background": "light"
     },
     "output_type": "display_data"
    }
   ],
   "source": [
    "matrice1=confusion_matrix(y_test1,result_réajusté)\n",
    "ConfusionMatrixDisplay(confusion_matrix=matrice1).plot()"
   ]
  },
  {
   "cell_type": "code",
   "execution_count": 80,
   "id": "7fe80c9c",
   "metadata": {
    "scrolled": false
   },
   "outputs": [
    {
     "name": "stdout",
     "output_type": "stream",
     "text": [
      "f1 score= 0.6285824196960955\n",
      "precision= 0.4626274065685164\n",
      "recall= 0.9802039592081584\n",
      "roc_auc= 0.9883840682512015\n"
     ]
    }
   ],
   "source": [
    "métriques(result_réajusté,y_test1)"
   ]
  },
  {
   "cell_type": "markdown",
   "id": "dd5d47dd",
   "metadata": {},
   "source": [
    "CatBoost sans SMOTE nous donne donc une précision de 46% pour un recall de 98%"
   ]
  },
  {
   "cell_type": "markdown",
   "id": "4b3487d1",
   "metadata": {},
   "source": [
    "## 4) Compromis recall/précision (avec SMOTE_Tomek)"
   ]
  },
  {
   "cell_type": "markdown",
   "id": "aa75d4d8",
   "metadata": {},
   "source": [
    "On va refaire la même chose  que ci-dessus mais avec un SMOTE Tomek équilibré (50% de fraudes, 50% de non-fraudes)"
   ]
  },
  {
   "cell_type": "code",
   "execution_count": null,
   "id": "177e9e83",
   "metadata": {},
   "outputs": [],
   "source": [
    "test_model(cad,X_res_train3,X_test6,y_res_train3,y_test6)"
   ]
  },
  {
   "cell_type": "code",
   "execution_count": 8,
   "id": "accd84ea",
   "metadata": {
    "scrolled": false
   },
   "outputs": [
    {
     "data": {
      "text/plain": [
       "<sklearn.metrics._plot.precision_recall_curve.PrecisionRecallDisplay at 0x2269aa50430>"
      ]
     },
     "execution_count": 8,
     "metadata": {},
     "output_type": "execute_result"
    },
    {
     "data": {
      "image/png": "[encoded data removed]",
      "text/plain": [
       "<Figure size 432x288 with 1 Axes>"
      ]
     },
     "metadata": {
      "needs_background": "light"
     },
     "output_type": "display_data"
    }
   ],
   "source": [
    "plot_precision_recall_curve(cad,X_test1,y_test1)"
   ]
  },
  {
   "cell_type": "code",
   "execution_count": null,
   "id": "89a2219c",
   "metadata": {},
   "outputs": [],
   "source": [
    "y_scores_smote=cross_val_predict(cad,X_res_train3,y_res_train3,cv=3,method=\"predict_proba\")"
   ]
  },
  {
   "cell_type": "code",
   "execution_count": 10,
   "id": "d892ae69",
   "metadata": {
    "scrolled": true
   },
   "outputs": [],
   "source": [
    "precisions_smote,recalls_smote,seuils_smote=precision_recall_curve(y_res_train3,y_scores_smote[:,1])"
   ]
  },
  {
   "cell_type": "code",
   "execution_count": 11,
   "id": "2787b12f",
   "metadata": {
    "scrolled": true
   },
   "outputs": [
    {
     "data": {
      "text/plain": [
       "Text(0.5, 0, 'seuil')"
      ]
     },
     "execution_count": 11,
     "metadata": {},
     "output_type": "execute_result"
    },
    {
     "data": {
      "image/png": "[encoded data removed]",
      "text/plain": [
       "<Figure size 432x288 with 1 Axes>"
      ]
     },
     "metadata": {
      "needs_background": "light"
     },
     "output_type": "display_data"
    }
   ],
   "source": [
    "plt.figure()\n",
    "plt.plot(seuils_smote,precisions_smote[:-1],'b--',label=\"Precision\")\n",
    "plt.plot(seuils_smote,recalls_smote[:-1],\"g-\",label=\"Rappel\")\n",
    "plt.legend()\n",
    "plt.xlabel('seuil')"
   ]
  },
  {
   "cell_type": "markdown",
   "id": "e420782c",
   "metadata": {},
   "source": [
    "**(les graphiques montrant la précision et le recall en fonction du seuil sont faussés après SMOTE)**"
   ]
  },
  {
   "cell_type": "code",
   "execution_count": 12,
   "id": "3973d3ac",
   "metadata": {},
   "outputs": [],
   "source": [
    "results_smote=cad.predict_proba(X_test6)"
   ]
  },
  {
   "cell_type": "code",
   "execution_count": 92,
   "id": "31624e71",
   "metadata": {},
   "outputs": [],
   "source": [
    "seuil=0.34\n",
    "result_réajusté_smote=(results_smote[:,1]>seuil)"
   ]
  },
  {
   "cell_type": "code",
   "execution_count": 93,
   "id": "7f31b79a",
   "metadata": {
    "scrolled": false
   },
   "outputs": [
    {
     "data": {
      "text/plain": [
       "<sklearn.metrics._plot.confusion_matrix.ConfusionMatrixDisplay at 0x2277bee0f10>"
      ]
     },
     "execution_count": 93,
     "metadata": {},
     "output_type": "execute_result"
    },
    {
     "data": {
      "image/png": "[encoded data removed]",
      "text/plain": [
       "<Figure size 432x288 with 2 Axes>"
      ]
     },
     "metadata": {
      "needs_background": "light"
     },
     "output_type": "display_data"
    }
   ],
   "source": [
    "matrice=confusion_matrix(y_test6,result_réajusté_smote)\n",
    "ConfusionMatrixDisplay(confusion_matrix=matrice).plot()"
   ]
  },
  {
   "cell_type": "code",
   "execution_count": 94,
   "id": "dcaa1bb1",
   "metadata": {
    "scrolled": true
   },
   "outputs": [
    {
     "name": "stdout",
     "output_type": "stream",
     "text": [
      "f1 score= 0.5334857889578569\n",
      "precision= 0.3665544332210999\n",
      "recall= 0.9796040791841631\n",
      "roc_auc= 0.9872478004783718\n"
     ]
    }
   ],
   "source": [
    "métriques(result_réajusté_smote,y_test6)"
   ]
  },
  {
   "cell_type": "markdown",
   "id": "d76f6aba",
   "metadata": {},
   "source": [
    "La précision est inférieur avec un SMOTE_Tomek que sans pour un recall de 98%"
   ]
  },
  {
   "cell_type": "markdown",
   "id": "f7f9e988",
   "metadata": {},
   "source": [
    "## 5) GridSearchCV avec CATboost ( sans SMOTE)"
   ]
  },
  {
   "cell_type": "markdown",
   "id": "4ba64bea",
   "metadata": {},
   "source": [
    "Essayons d'améliorer notre modèle CATBoost sans SMOTE"
   ]
  },
  {
   "cell_type": "code",
   "execution_count": 101,
   "id": "fb16ab45",
   "metadata": {},
   "outputs": [],
   "source": [
    "params_catboost={'depth': [4, 7, 10],\n",
    "          'learning_rate' : [0.03, 0.1, 0.15],\n",
    "          'l2_leaf_reg': [1,4,9],\n",
    "          'iterations': [300]}\n",
    "grid_cat=GridSearchCV(cad,param_grid=params_catboost,cv=4,scoring=('recall','precision'),verbose=3,refit='recall')\n"
   ]
  },
  {
   "cell_type": "code",
   "execution_count": null,
   "id": "77dbae5c",
   "metadata": {},
   "outputs": [],
   "source": [
    "grid_cat.fit(X_train1,y_train1)"
   ]
  },
  {
   "cell_type": "code",
   "execution_count": 103,
   "id": "ad29c002",
   "metadata": {},
   "outputs": [
    {
     "data": {
      "text/plain": [
       "{'depth': 7, 'iterations': 300, 'l2_leaf_reg': 1, 'learning_rate': 0.15}"
      ]
     },
     "execution_count": 103,
     "metadata": {},
     "output_type": "execute_result"
    }
   ],
   "source": [
    "grid_cat.best_params_"
   ]
  },
  {
   "cell_type": "code",
   "execution_count": 110,
   "id": "d22647de",
   "metadata": {},
   "outputs": [
    {
     "data": {
      "text/html": [
       "<div>\n",
       "<style scoped>\n",
       "    .dataframe tbody tr th:only-of-type {\n",
       "        vertical-align: middle;\n",
       "    }\n",
       "\n",
       "    .dataframe tbody tr th {\n",
       "        vertical-align: top;\n",
       "    }\n",
       "\n",
       "    .dataframe thead th {\n",
       "        text-align: right;\n",
       "    }\n",
       "</style>\n",
       "<table border=\"1\" class=\"dataframe\">\n",
       "  <thead>\n",
       "    <tr style=\"text-align: right;\">\n",
       "      <th></th>\n",
       "      <th>mean_fit_time</th>\n",
       "      <th>std_fit_time</th>\n",
       "      <th>mean_score_time</th>\n",
       "      <th>std_score_time</th>\n",
       "      <th>param_depth</th>\n",
       "      <th>param_iterations</th>\n",
       "      <th>param_l2_leaf_reg</th>\n",
       "      <th>param_learning_rate</th>\n",
       "      <th>params</th>\n",
       "      <th>split0_test_recall</th>\n",
       "      <th>...</th>\n",
       "      <th>mean_test_recall</th>\n",
       "      <th>std_test_recall</th>\n",
       "      <th>rank_test_recall</th>\n",
       "      <th>split0_test_precision</th>\n",
       "      <th>split1_test_precision</th>\n",
       "      <th>split2_test_precision</th>\n",
       "      <th>split3_test_precision</th>\n",
       "      <th>mean_test_precision</th>\n",
       "      <th>std_test_precision</th>\n",
       "      <th>rank_test_precision</th>\n",
       "    </tr>\n",
       "  </thead>\n",
       "  <tbody>\n",
       "    <tr>\n",
       "      <th>0</th>\n",
       "      <td>103.421568</td>\n",
       "      <td>5.192515</td>\n",
       "      <td>0.559001</td>\n",
       "      <td>0.022262</td>\n",
       "      <td>4</td>\n",
       "      <td>300</td>\n",
       "      <td>1</td>\n",
       "      <td>0.03</td>\n",
       "      <td>{'depth': 4, 'iterations': 300, 'l2_leaf_reg':...</td>\n",
       "      <td>0.629584</td>\n",
       "      <td>...</td>\n",
       "      <td>0.612131</td>\n",
       "      <td>0.010186</td>\n",
       "      <td>25</td>\n",
       "      <td>0.932971</td>\n",
       "      <td>0.936852</td>\n",
       "      <td>0.932521</td>\n",
       "      <td>0.928571</td>\n",
       "      <td>0.932729</td>\n",
       "      <td>0.002932</td>\n",
       "      <td>4</td>\n",
       "    </tr>\n",
       "    <tr>\n",
       "      <th>1</th>\n",
       "      <td>154.978100</td>\n",
       "      <td>28.389769</td>\n",
       "      <td>0.934206</td>\n",
       "      <td>0.250152</td>\n",
       "      <td>4</td>\n",
       "      <td>300</td>\n",
       "      <td>1</td>\n",
       "      <td>0.1</td>\n",
       "      <td>{'depth': 4, 'iterations': 300, 'l2_leaf_reg':...</td>\n",
       "      <td>0.772616</td>\n",
       "      <td>...</td>\n",
       "      <td>0.758327</td>\n",
       "      <td>0.009317</td>\n",
       "      <td>17</td>\n",
       "      <td>0.919942</td>\n",
       "      <td>0.929385</td>\n",
       "      <td>0.917404</td>\n",
       "      <td>0.913947</td>\n",
       "      <td>0.920169</td>\n",
       "      <td>0.005730</td>\n",
       "      <td>24</td>\n",
       "    </tr>\n",
       "    <tr>\n",
       "      <th>2</th>\n",
       "      <td>173.717512</td>\n",
       "      <td>0.469517</td>\n",
       "      <td>1.103859</td>\n",
       "      <td>0.026384</td>\n",
       "      <td>4</td>\n",
       "      <td>300</td>\n",
       "      <td>1</td>\n",
       "      <td>0.15</td>\n",
       "      <td>{'depth': 4, 'iterations': 300, 'l2_leaf_reg':...</td>\n",
       "      <td>0.794010</td>\n",
       "      <td>...</td>\n",
       "      <td>0.782465</td>\n",
       "      <td>0.009634</td>\n",
       "      <td>13</td>\n",
       "      <td>0.909664</td>\n",
       "      <td>0.920821</td>\n",
       "      <td>0.917798</td>\n",
       "      <td>0.911869</td>\n",
       "      <td>0.915038</td>\n",
       "      <td>0.004472</td>\n",
       "      <td>27</td>\n",
       "    </tr>\n",
       "    <tr>\n",
       "      <th>3</th>\n",
       "      <td>595.033856</td>\n",
       "      <td>729.383722</td>\n",
       "      <td>0.922080</td>\n",
       "      <td>0.232593</td>\n",
       "      <td>4</td>\n",
       "      <td>300</td>\n",
       "      <td>4</td>\n",
       "      <td>0.03</td>\n",
       "      <td>{'depth': 4, 'iterations': 300, 'l2_leaf_reg':...</td>\n",
       "      <td>0.594743</td>\n",
       "      <td>...</td>\n",
       "      <td>0.597312</td>\n",
       "      <td>0.007789</td>\n",
       "      <td>26</td>\n",
       "      <td>0.945578</td>\n",
       "      <td>0.925676</td>\n",
       "      <td>0.932331</td>\n",
       "      <td>0.931067</td>\n",
       "      <td>0.933663</td>\n",
       "      <td>0.007319</td>\n",
       "      <td>2</td>\n",
       "    </tr>\n",
       "    <tr>\n",
       "      <th>4</th>\n",
       "      <td>167.315267</td>\n",
       "      <td>12.765084</td>\n",
       "      <td>1.128735</td>\n",
       "      <td>0.135099</td>\n",
       "      <td>4</td>\n",
       "      <td>300</td>\n",
       "      <td>4</td>\n",
       "      <td>0.1</td>\n",
       "      <td>{'depth': 4, 'iterations': 300, 'l2_leaf_reg':...</td>\n",
       "      <td>0.753056</td>\n",
       "      <td>...</td>\n",
       "      <td>0.747787</td>\n",
       "      <td>0.006087</td>\n",
       "      <td>18</td>\n",
       "      <td>0.920777</td>\n",
       "      <td>0.929062</td>\n",
       "      <td>0.925134</td>\n",
       "      <td>0.912047</td>\n",
       "      <td>0.921755</td>\n",
       "      <td>0.006325</td>\n",
       "      <td>17</td>\n",
       "    </tr>\n",
       "    <tr>\n",
       "      <th>5</th>\n",
       "      <td>175.041687</td>\n",
       "      <td>1.090560</td>\n",
       "      <td>1.043527</td>\n",
       "      <td>0.011756</td>\n",
       "      <td>4</td>\n",
       "      <td>300</td>\n",
       "      <td>4</td>\n",
       "      <td>0.15</td>\n",
       "      <td>{'depth': 4, 'iterations': 300, 'l2_leaf_reg':...</td>\n",
       "      <td>0.787286</td>\n",
       "      <td>...</td>\n",
       "      <td>0.778645</td>\n",
       "      <td>0.013130</td>\n",
       "      <td>14</td>\n",
       "      <td>0.916726</td>\n",
       "      <td>0.929429</td>\n",
       "      <td>0.922802</td>\n",
       "      <td>0.912331</td>\n",
       "      <td>0.920322</td>\n",
       "      <td>0.006440</td>\n",
       "      <td>22</td>\n",
       "    </tr>\n",
       "    <tr>\n",
       "      <th>6</th>\n",
       "      <td>525.718656</td>\n",
       "      <td>609.107442</td>\n",
       "      <td>0.904028</td>\n",
       "      <td>0.232852</td>\n",
       "      <td>4</td>\n",
       "      <td>300</td>\n",
       "      <td>9</td>\n",
       "      <td>0.03</td>\n",
       "      <td>{'depth': 4, 'iterations': 300, 'l2_leaf_reg':...</td>\n",
       "      <td>0.595966</td>\n",
       "      <td>...</td>\n",
       "      <td>0.595632</td>\n",
       "      <td>0.004044</td>\n",
       "      <td>27</td>\n",
       "      <td>0.945684</td>\n",
       "      <td>0.932367</td>\n",
       "      <td>0.935762</td>\n",
       "      <td>0.929991</td>\n",
       "      <td>0.935951</td>\n",
       "      <td>0.005982</td>\n",
       "      <td>1</td>\n",
       "    </tr>\n",
       "    <tr>\n",
       "      <th>7</th>\n",
       "      <td>173.168296</td>\n",
       "      <td>2.371234</td>\n",
       "      <td>0.954670</td>\n",
       "      <td>0.132366</td>\n",
       "      <td>4</td>\n",
       "      <td>300</td>\n",
       "      <td>9</td>\n",
       "      <td>0.1</td>\n",
       "      <td>{'depth': 4, 'iterations': 300, 'l2_leaf_reg':...</td>\n",
       "      <td>0.746333</td>\n",
       "      <td>...</td>\n",
       "      <td>0.741676</td>\n",
       "      <td>0.004943</td>\n",
       "      <td>19</td>\n",
       "      <td>0.913239</td>\n",
       "      <td>0.933904</td>\n",
       "      <td>0.921792</td>\n",
       "      <td>0.921391</td>\n",
       "      <td>0.922581</td>\n",
       "      <td>0.007374</td>\n",
       "      <td>13</td>\n",
       "    </tr>\n",
       "    <tr>\n",
       "      <th>8</th>\n",
       "      <td>174.701188</td>\n",
       "      <td>1.500680</td>\n",
       "      <td>0.872707</td>\n",
       "      <td>0.188280</td>\n",
       "      <td>4</td>\n",
       "      <td>300</td>\n",
       "      <td>9</td>\n",
       "      <td>0.15</td>\n",
       "      <td>{'depth': 4, 'iterations': 300, 'l2_leaf_reg':...</td>\n",
       "      <td>0.778729</td>\n",
       "      <td>...</td>\n",
       "      <td>0.774062</td>\n",
       "      <td>0.006382</td>\n",
       "      <td>15</td>\n",
       "      <td>0.915888</td>\n",
       "      <td>0.932886</td>\n",
       "      <td>0.923358</td>\n",
       "      <td>0.913448</td>\n",
       "      <td>0.921395</td>\n",
       "      <td>0.007573</td>\n",
       "      <td>18</td>\n",
       "    </tr>\n",
       "    <tr>\n",
       "      <th>9</th>\n",
       "      <td>202.172025</td>\n",
       "      <td>0.361582</td>\n",
       "      <td>0.990050</td>\n",
       "      <td>0.141929</td>\n",
       "      <td>7</td>\n",
       "      <td>300</td>\n",
       "      <td>1</td>\n",
       "      <td>0.03</td>\n",
       "      <td>{'depth': 7, 'iterations': 300, 'l2_leaf_reg':...</td>\n",
       "      <td>0.703545</td>\n",
       "      <td>...</td>\n",
       "      <td>0.707607</td>\n",
       "      <td>0.004555</td>\n",
       "      <td>22</td>\n",
       "      <td>0.929725</td>\n",
       "      <td>0.932956</td>\n",
       "      <td>0.929365</td>\n",
       "      <td>0.920319</td>\n",
       "      <td>0.928091</td>\n",
       "      <td>0.004700</td>\n",
       "      <td>7</td>\n",
       "    </tr>\n",
       "    <tr>\n",
       "      <th>10</th>\n",
       "      <td>205.540358</td>\n",
       "      <td>2.060319</td>\n",
       "      <td>1.086472</td>\n",
       "      <td>0.018126</td>\n",
       "      <td>7</td>\n",
       "      <td>300</td>\n",
       "      <td>1</td>\n",
       "      <td>0.1</td>\n",
       "      <td>{'depth': 7, 'iterations': 300, 'l2_leaf_reg':...</td>\n",
       "      <td>0.816015</td>\n",
       "      <td>...</td>\n",
       "      <td>0.805075</td>\n",
       "      <td>0.013679</td>\n",
       "      <td>5</td>\n",
       "      <td>0.915638</td>\n",
       "      <td>0.928882</td>\n",
       "      <td>0.926471</td>\n",
       "      <td>0.917355</td>\n",
       "      <td>0.922087</td>\n",
       "      <td>0.005687</td>\n",
       "      <td>14</td>\n",
       "    </tr>\n",
       "    <tr>\n",
       "      <th>11</th>\n",
       "      <td>1137.323305</td>\n",
       "      <td>1715.797601</td>\n",
       "      <td>0.719695</td>\n",
       "      <td>0.223623</td>\n",
       "      <td>7</td>\n",
       "      <td>300</td>\n",
       "      <td>1</td>\n",
       "      <td>0.15</td>\n",
       "      <td>{'depth': 7, 'iterations': 300, 'l2_leaf_reg':...</td>\n",
       "      <td>0.822127</td>\n",
       "      <td>...</td>\n",
       "      <td>0.812101</td>\n",
       "      <td>0.008351</td>\n",
       "      <td>1</td>\n",
       "      <td>0.924399</td>\n",
       "      <td>0.935622</td>\n",
       "      <td>0.928123</td>\n",
       "      <td>0.918677</td>\n",
       "      <td>0.926705</td>\n",
       "      <td>0.006150</td>\n",
       "      <td>9</td>\n",
       "    </tr>\n",
       "    <tr>\n",
       "      <th>12</th>\n",
       "      <td>113.578697</td>\n",
       "      <td>0.262579</td>\n",
       "      <td>0.515340</td>\n",
       "      <td>0.007325</td>\n",
       "      <td>7</td>\n",
       "      <td>300</td>\n",
       "      <td>4</td>\n",
       "      <td>0.03</td>\n",
       "      <td>{'depth': 7, 'iterations': 300, 'l2_leaf_reg':...</td>\n",
       "      <td>0.691320</td>\n",
       "      <td>...</td>\n",
       "      <td>0.692943</td>\n",
       "      <td>0.007632</td>\n",
       "      <td>23</td>\n",
       "      <td>0.928571</td>\n",
       "      <td>0.933054</td>\n",
       "      <td>0.930950</td>\n",
       "      <td>0.921095</td>\n",
       "      <td>0.928418</td>\n",
       "      <td>0.004516</td>\n",
       "      <td>6</td>\n",
       "    </tr>\n",
       "    <tr>\n",
       "      <th>13</th>\n",
       "      <td>111.793374</td>\n",
       "      <td>1.478583</td>\n",
       "      <td>0.517687</td>\n",
       "      <td>0.004514</td>\n",
       "      <td>7</td>\n",
       "      <td>300</td>\n",
       "      <td>4</td>\n",
       "      <td>0.1</td>\n",
       "      <td>{'depth': 7, 'iterations': 300, 'l2_leaf_reg':...</td>\n",
       "      <td>0.800122</td>\n",
       "      <td>...</td>\n",
       "      <td>0.788882</td>\n",
       "      <td>0.011475</td>\n",
       "      <td>10</td>\n",
       "      <td>0.914745</td>\n",
       "      <td>0.932103</td>\n",
       "      <td>0.929191</td>\n",
       "      <td>0.915207</td>\n",
       "      <td>0.922811</td>\n",
       "      <td>0.007905</td>\n",
       "      <td>12</td>\n",
       "    </tr>\n",
       "    <tr>\n",
       "      <th>14</th>\n",
       "      <td>110.852998</td>\n",
       "      <td>0.163196</td>\n",
       "      <td>0.515999</td>\n",
       "      <td>0.008281</td>\n",
       "      <td>7</td>\n",
       "      <td>300</td>\n",
       "      <td>4</td>\n",
       "      <td>0.15</td>\n",
       "      <td>{'depth': 7, 'iterations': 300, 'l2_leaf_reg':...</td>\n",
       "      <td>0.814792</td>\n",
       "      <td>...</td>\n",
       "      <td>0.806755</td>\n",
       "      <td>0.009311</td>\n",
       "      <td>4</td>\n",
       "      <td>0.922491</td>\n",
       "      <td>0.925714</td>\n",
       "      <td>0.926316</td>\n",
       "      <td>0.913580</td>\n",
       "      <td>0.922025</td>\n",
       "      <td>0.005088</td>\n",
       "      <td>15</td>\n",
       "    </tr>\n",
       "    <tr>\n",
       "      <th>15</th>\n",
       "      <td>110.479833</td>\n",
       "      <td>0.505592</td>\n",
       "      <td>0.505903</td>\n",
       "      <td>0.008399</td>\n",
       "      <td>7</td>\n",
       "      <td>300</td>\n",
       "      <td>9</td>\n",
       "      <td>0.03</td>\n",
       "      <td>{'depth': 7, 'iterations': 300, 'l2_leaf_reg':...</td>\n",
       "      <td>0.676650</td>\n",
       "      <td>...</td>\n",
       "      <td>0.667890</td>\n",
       "      <td>0.006839</td>\n",
       "      <td>24</td>\n",
       "      <td>0.927136</td>\n",
       "      <td>0.943909</td>\n",
       "      <td>0.939264</td>\n",
       "      <td>0.922166</td>\n",
       "      <td>0.933119</td>\n",
       "      <td>0.008803</td>\n",
       "      <td>3</td>\n",
       "    </tr>\n",
       "    <tr>\n",
       "      <th>16</th>\n",
       "      <td>112.187874</td>\n",
       "      <td>2.614520</td>\n",
       "      <td>0.511902</td>\n",
       "      <td>0.005265</td>\n",
       "      <td>7</td>\n",
       "      <td>300</td>\n",
       "      <td>9</td>\n",
       "      <td>0.1</td>\n",
       "      <td>{'depth': 7, 'iterations': 300, 'l2_leaf_reg':...</td>\n",
       "      <td>0.792176</td>\n",
       "      <td>...</td>\n",
       "      <td>0.783992</td>\n",
       "      <td>0.008036</td>\n",
       "      <td>12</td>\n",
       "      <td>0.916549</td>\n",
       "      <td>0.929993</td>\n",
       "      <td>0.919112</td>\n",
       "      <td>0.911017</td>\n",
       "      <td>0.919168</td>\n",
       "      <td>0.006901</td>\n",
       "      <td>26</td>\n",
       "    </tr>\n",
       "    <tr>\n",
       "      <th>17</th>\n",
       "      <td>111.215445</td>\n",
       "      <td>0.351215</td>\n",
       "      <td>0.521079</td>\n",
       "      <td>0.002781</td>\n",
       "      <td>7</td>\n",
       "      <td>300</td>\n",
       "      <td>9</td>\n",
       "      <td>0.15</td>\n",
       "      <td>{'depth': 7, 'iterations': 300, 'l2_leaf_reg':...</td>\n",
       "      <td>0.805623</td>\n",
       "      <td>...</td>\n",
       "      <td>0.797282</td>\n",
       "      <td>0.010343</td>\n",
       "      <td>7</td>\n",
       "      <td>0.914643</td>\n",
       "      <td>0.937592</td>\n",
       "      <td>0.926212</td>\n",
       "      <td>0.909471</td>\n",
       "      <td>0.921979</td>\n",
       "      <td>0.010862</td>\n",
       "      <td>16</td>\n",
       "    </tr>\n",
       "    <tr>\n",
       "      <th>18</th>\n",
       "      <td>140.404780</td>\n",
       "      <td>1.065427</td>\n",
       "      <td>1.402243</td>\n",
       "      <td>0.071692</td>\n",
       "      <td>10</td>\n",
       "      <td>300</td>\n",
       "      <td>1</td>\n",
       "      <td>0.03</td>\n",
       "      <td>{'depth': 10, 'iterations': 300, 'l2_leaf_reg'...</td>\n",
       "      <td>0.765281</td>\n",
       "      <td>...</td>\n",
       "      <td>0.760162</td>\n",
       "      <td>0.010542</td>\n",
       "      <td>16</td>\n",
       "      <td>0.915874</td>\n",
       "      <td>0.936972</td>\n",
       "      <td>0.930233</td>\n",
       "      <td>0.920000</td>\n",
       "      <td>0.925770</td>\n",
       "      <td>0.008316</td>\n",
       "      <td>10</td>\n",
       "    </tr>\n",
       "    <tr>\n",
       "      <th>19</th>\n",
       "      <td>140.119128</td>\n",
       "      <td>0.510814</td>\n",
       "      <td>1.439733</td>\n",
       "      <td>0.097843</td>\n",
       "      <td>10</td>\n",
       "      <td>300</td>\n",
       "      <td>1</td>\n",
       "      <td>0.1</td>\n",
       "      <td>{'depth': 10, 'iterations': 300, 'l2_leaf_reg'...</td>\n",
       "      <td>0.813570</td>\n",
       "      <td>...</td>\n",
       "      <td>0.807671</td>\n",
       "      <td>0.007873</td>\n",
       "      <td>3</td>\n",
       "      <td>0.918565</td>\n",
       "      <td>0.921444</td>\n",
       "      <td>0.928270</td>\n",
       "      <td>0.912449</td>\n",
       "      <td>0.920182</td>\n",
       "      <td>0.005688</td>\n",
       "      <td>23</td>\n",
       "    </tr>\n",
       "    <tr>\n",
       "      <th>20</th>\n",
       "      <td>139.628195</td>\n",
       "      <td>0.156802</td>\n",
       "      <td>1.370563</td>\n",
       "      <td>0.004232</td>\n",
       "      <td>10</td>\n",
       "      <td>300</td>\n",
       "      <td>1</td>\n",
       "      <td>0.15</td>\n",
       "      <td>{'depth': 10, 'iterations': 300, 'l2_leaf_reg'...</td>\n",
       "      <td>0.816626</td>\n",
       "      <td>...</td>\n",
       "      <td>0.810267</td>\n",
       "      <td>0.006157</td>\n",
       "      <td>2</td>\n",
       "      <td>0.919477</td>\n",
       "      <td>0.927813</td>\n",
       "      <td>0.925227</td>\n",
       "      <td>0.909277</td>\n",
       "      <td>0.920449</td>\n",
       "      <td>0.007121</td>\n",
       "      <td>21</td>\n",
       "    </tr>\n",
       "    <tr>\n",
       "      <th>21</th>\n",
       "      <td>140.062809</td>\n",
       "      <td>0.713241</td>\n",
       "      <td>1.438372</td>\n",
       "      <td>0.123606</td>\n",
       "      <td>10</td>\n",
       "      <td>300</td>\n",
       "      <td>4</td>\n",
       "      <td>0.03</td>\n",
       "      <td>{'depth': 10, 'iterations': 300, 'l2_leaf_reg'...</td>\n",
       "      <td>0.742054</td>\n",
       "      <td>...</td>\n",
       "      <td>0.739385</td>\n",
       "      <td>0.006515</td>\n",
       "      <td>20</td>\n",
       "      <td>0.927426</td>\n",
       "      <td>0.931624</td>\n",
       "      <td>0.927469</td>\n",
       "      <td>0.925227</td>\n",
       "      <td>0.927936</td>\n",
       "      <td>0.002314</td>\n",
       "      <td>8</td>\n",
       "    </tr>\n",
       "    <tr>\n",
       "      <th>22</th>\n",
       "      <td>140.139743</td>\n",
       "      <td>0.706826</td>\n",
       "      <td>1.436200</td>\n",
       "      <td>0.115039</td>\n",
       "      <td>10</td>\n",
       "      <td>300</td>\n",
       "      <td>4</td>\n",
       "      <td>0.1</td>\n",
       "      <td>{'depth': 10, 'iterations': 300, 'l2_leaf_reg'...</td>\n",
       "      <td>0.799511</td>\n",
       "      <td>...</td>\n",
       "      <td>0.795755</td>\n",
       "      <td>0.007678</td>\n",
       "      <td>8</td>\n",
       "      <td>0.922426</td>\n",
       "      <td>0.929140</td>\n",
       "      <td>0.929134</td>\n",
       "      <td>0.913375</td>\n",
       "      <td>0.923519</td>\n",
       "      <td>0.006466</td>\n",
       "      <td>11</td>\n",
       "    </tr>\n",
       "    <tr>\n",
       "      <th>23</th>\n",
       "      <td>139.411262</td>\n",
       "      <td>0.460064</td>\n",
       "      <td>1.371515</td>\n",
       "      <td>0.009301</td>\n",
       "      <td>10</td>\n",
       "      <td>300</td>\n",
       "      <td>4</td>\n",
       "      <td>0.15</td>\n",
       "      <td>{'depth': 10, 'iterations': 300, 'l2_leaf_reg'...</td>\n",
       "      <td>0.811736</td>\n",
       "      <td>...</td>\n",
       "      <td>0.805074</td>\n",
       "      <td>0.009974</td>\n",
       "      <td>6</td>\n",
       "      <td>0.915231</td>\n",
       "      <td>0.926112</td>\n",
       "      <td>0.928873</td>\n",
       "      <td>0.912954</td>\n",
       "      <td>0.920793</td>\n",
       "      <td>0.006818</td>\n",
       "      <td>19</td>\n",
       "    </tr>\n",
       "    <tr>\n",
       "      <th>24</th>\n",
       "      <td>140.743035</td>\n",
       "      <td>0.551772</td>\n",
       "      <td>1.407861</td>\n",
       "      <td>0.027444</td>\n",
       "      <td>10</td>\n",
       "      <td>300</td>\n",
       "      <td>9</td>\n",
       "      <td>0.03</td>\n",
       "      <td>{'depth': 10, 'iterations': 300, 'l2_leaf_reg'...</td>\n",
       "      <td>0.727995</td>\n",
       "      <td>...</td>\n",
       "      <td>0.720748</td>\n",
       "      <td>0.008161</td>\n",
       "      <td>21</td>\n",
       "      <td>0.923972</td>\n",
       "      <td>0.937853</td>\n",
       "      <td>0.933121</td>\n",
       "      <td>0.920525</td>\n",
       "      <td>0.928868</td>\n",
       "      <td>0.006935</td>\n",
       "      <td>5</td>\n",
       "    </tr>\n",
       "    <tr>\n",
       "      <th>25</th>\n",
       "      <td>139.767692</td>\n",
       "      <td>0.482346</td>\n",
       "      <td>1.432616</td>\n",
       "      <td>0.075507</td>\n",
       "      <td>10</td>\n",
       "      <td>300</td>\n",
       "      <td>9</td>\n",
       "      <td>0.1</td>\n",
       "      <td>{'depth': 10, 'iterations': 300, 'l2_leaf_reg'...</td>\n",
       "      <td>0.791565</td>\n",
       "      <td>...</td>\n",
       "      <td>0.787049</td>\n",
       "      <td>0.011428</td>\n",
       "      <td>11</td>\n",
       "      <td>0.919092</td>\n",
       "      <td>0.932103</td>\n",
       "      <td>0.926247</td>\n",
       "      <td>0.904893</td>\n",
       "      <td>0.920584</td>\n",
       "      <td>0.010164</td>\n",
       "      <td>20</td>\n",
       "    </tr>\n",
       "    <tr>\n",
       "      <th>26</th>\n",
       "      <td>140.975681</td>\n",
       "      <td>1.673767</td>\n",
       "      <td>1.452581</td>\n",
       "      <td>0.114896</td>\n",
       "      <td>10</td>\n",
       "      <td>300</td>\n",
       "      <td>9</td>\n",
       "      <td>0.15</td>\n",
       "      <td>{'depth': 10, 'iterations': 300, 'l2_leaf_reg'...</td>\n",
       "      <td>0.800733</td>\n",
       "      <td>...</td>\n",
       "      <td>0.794686</td>\n",
       "      <td>0.009437</td>\n",
       "      <td>9</td>\n",
       "      <td>0.919944</td>\n",
       "      <td>0.918880</td>\n",
       "      <td>0.925555</td>\n",
       "      <td>0.914702</td>\n",
       "      <td>0.919770</td>\n",
       "      <td>0.003872</td>\n",
       "      <td>25</td>\n",
       "    </tr>\n",
       "  </tbody>\n",
       "</table>\n",
       "<p>27 rows × 23 columns</p>\n",
       "</div>"
      ],
      "text/plain": [
       "    mean_fit_time  std_fit_time  mean_score_time  std_score_time param_depth  \\\n",
       "0      103.421568      5.192515         0.559001        0.022262           4   \n",
       "1      154.978100     28.389769         0.934206        0.250152           4   \n",
       "2      173.717512      0.469517         1.103859        0.026384           4   \n",
       "3      595.033856    729.383722         0.922080        0.232593           4   \n",
       "4      167.315267     12.765084         1.128735        0.135099           4   \n",
       "5      175.041687      1.090560         1.043527        0.011756           4   \n",
       "6      525.718656    609.107442         0.904028        0.232852           4   \n",
       "7      173.168296      2.371234         0.954670        0.132366           4   \n",
       "8      174.701188      1.500680         0.872707        0.188280           4   \n",
       "9      202.172025      0.361582         0.990050        0.141929           7   \n",
       "10     205.540358      2.060319         1.086472        0.018126           7   \n",
       "11    1137.323305   1715.797601         0.719695        0.223623           7   \n",
       "12     113.578697      0.262579         0.515340        0.007325           7   \n",
       "13     111.793374      1.478583         0.517687        0.004514           7   \n",
       "14     110.852998      0.163196         0.515999        0.008281           7   \n",
       "15     110.479833      0.505592         0.505903        0.008399           7   \n",
       "16     112.187874      2.614520         0.511902        0.005265           7   \n",
       "17     111.215445      0.351215         0.521079        0.002781           7   \n",
       "18     140.404780      1.065427         1.402243        0.071692          10   \n",
       "19     140.119128      0.510814         1.439733        0.097843          10   \n",
       "20     139.628195      0.156802         1.370563        0.004232          10   \n",
       "21     140.062809      0.713241         1.438372        0.123606          10   \n",
       "22     140.139743      0.706826         1.436200        0.115039          10   \n",
       "23     139.411262      0.460064         1.371515        0.009301          10   \n",
       "24     140.743035      0.551772         1.407861        0.027444          10   \n",
       "25     139.767692      0.482346         1.432616        0.075507          10   \n",
       "26     140.975681      1.673767         1.452581        0.114896          10   \n",
       "\n",
       "   param_iterations param_l2_leaf_reg param_learning_rate  \\\n",
       "0               300                 1                0.03   \n",
       "1               300                 1                 0.1   \n",
       "2               300                 1                0.15   \n",
       "3               300                 4                0.03   \n",
       "4               300                 4                 0.1   \n",
       "5               300                 4                0.15   \n",
       "6               300                 9                0.03   \n",
       "7               300                 9                 0.1   \n",
       "8               300                 9                0.15   \n",
       "9               300                 1                0.03   \n",
       "10              300                 1                 0.1   \n",
       "11              300                 1                0.15   \n",
       "12              300                 4                0.03   \n",
       "13              300                 4                 0.1   \n",
       "14              300                 4                0.15   \n",
       "15              300                 9                0.03   \n",
       "16              300                 9                 0.1   \n",
       "17              300                 9                0.15   \n",
       "18              300                 1                0.03   \n",
       "19              300                 1                 0.1   \n",
       "20              300                 1                0.15   \n",
       "21              300                 4                0.03   \n",
       "22              300                 4                 0.1   \n",
       "23              300                 4                0.15   \n",
       "24              300                 9                0.03   \n",
       "25              300                 9                 0.1   \n",
       "26              300                 9                0.15   \n",
       "\n",
       "                                               params  split0_test_recall  \\\n",
       "0   {'depth': 4, 'iterations': 300, 'l2_leaf_reg':...            0.629584   \n",
       "1   {'depth': 4, 'iterations': 300, 'l2_leaf_reg':...            0.772616   \n",
       "2   {'depth': 4, 'iterations': 300, 'l2_leaf_reg':...            0.794010   \n",
       "3   {'depth': 4, 'iterations': 300, 'l2_leaf_reg':...            0.594743   \n",
       "4   {'depth': 4, 'iterations': 300, 'l2_leaf_reg':...            0.753056   \n",
       "5   {'depth': 4, 'iterations': 300, 'l2_leaf_reg':...            0.787286   \n",
       "6   {'depth': 4, 'iterations': 300, 'l2_leaf_reg':...            0.595966   \n",
       "7   {'depth': 4, 'iterations': 300, 'l2_leaf_reg':...            0.746333   \n",
       "8   {'depth': 4, 'iterations': 300, 'l2_leaf_reg':...            0.778729   \n",
       "9   {'depth': 7, 'iterations': 300, 'l2_leaf_reg':...            0.703545   \n",
       "10  {'depth': 7, 'iterations': 300, 'l2_leaf_reg':...            0.816015   \n",
       "11  {'depth': 7, 'iterations': 300, 'l2_leaf_reg':...            0.822127   \n",
       "12  {'depth': 7, 'iterations': 300, 'l2_leaf_reg':...            0.691320   \n",
       "13  {'depth': 7, 'iterations': 300, 'l2_leaf_reg':...            0.800122   \n",
       "14  {'depth': 7, 'iterations': 300, 'l2_leaf_reg':...            0.814792   \n",
       "15  {'depth': 7, 'iterations': 300, 'l2_leaf_reg':...            0.676650   \n",
       "16  {'depth': 7, 'iterations': 300, 'l2_leaf_reg':...            0.792176   \n",
       "17  {'depth': 7, 'iterations': 300, 'l2_leaf_reg':...            0.805623   \n",
       "18  {'depth': 10, 'iterations': 300, 'l2_leaf_reg'...            0.765281   \n",
       "19  {'depth': 10, 'iterations': 300, 'l2_leaf_reg'...            0.813570   \n",
       "20  {'depth': 10, 'iterations': 300, 'l2_leaf_reg'...            0.816626   \n",
       "21  {'depth': 10, 'iterations': 300, 'l2_leaf_reg'...            0.742054   \n",
       "22  {'depth': 10, 'iterations': 300, 'l2_leaf_reg'...            0.799511   \n",
       "23  {'depth': 10, 'iterations': 300, 'l2_leaf_reg'...            0.811736   \n",
       "24  {'depth': 10, 'iterations': 300, 'l2_leaf_reg'...            0.727995   \n",
       "25  {'depth': 10, 'iterations': 300, 'l2_leaf_reg'...            0.791565   \n",
       "26  {'depth': 10, 'iterations': 300, 'l2_leaf_reg'...            0.800733   \n",
       "\n",
       "    ...  mean_test_recall  std_test_recall  rank_test_recall  \\\n",
       "0   ...          0.612131         0.010186                25   \n",
       "1   ...          0.758327         0.009317                17   \n",
       "2   ...          0.782465         0.009634                13   \n",
       "3   ...          0.597312         0.007789                26   \n",
       "4   ...          0.747787         0.006087                18   \n",
       "5   ...          0.778645         0.013130                14   \n",
       "6   ...          0.595632         0.004044                27   \n",
       "7   ...          0.741676         0.004943                19   \n",
       "8   ...          0.774062         0.006382                15   \n",
       "9   ...          0.707607         0.004555                22   \n",
       "10  ...          0.805075         0.013679                 5   \n",
       "11  ...          0.812101         0.008351                 1   \n",
       "12  ...          0.692943         0.007632                23   \n",
       "13  ...          0.788882         0.011475                10   \n",
       "14  ...          0.806755         0.009311                 4   \n",
       "15  ...          0.667890         0.006839                24   \n",
       "16  ...          0.783992         0.008036                12   \n",
       "17  ...          0.797282         0.010343                 7   \n",
       "18  ...          0.760162         0.010542                16   \n",
       "19  ...          0.807671         0.007873                 3   \n",
       "20  ...          0.810267         0.006157                 2   \n",
       "21  ...          0.739385         0.006515                20   \n",
       "22  ...          0.795755         0.007678                 8   \n",
       "23  ...          0.805074         0.009974                 6   \n",
       "24  ...          0.720748         0.008161                21   \n",
       "25  ...          0.787049         0.011428                11   \n",
       "26  ...          0.794686         0.009437                 9   \n",
       "\n",
       "    split0_test_precision  split1_test_precision  split2_test_precision  \\\n",
       "0                0.932971               0.936852               0.932521   \n",
       "1                0.919942               0.929385               0.917404   \n",
       "2                0.909664               0.920821               0.917798   \n",
       "3                0.945578               0.925676               0.932331   \n",
       "4                0.920777               0.929062               0.925134   \n",
       "5                0.916726               0.929429               0.922802   \n",
       "6                0.945684               0.932367               0.935762   \n",
       "7                0.913239               0.933904               0.921792   \n",
       "8                0.915888               0.932886               0.923358   \n",
       "9                0.929725               0.932956               0.929365   \n",
       "10               0.915638               0.928882               0.926471   \n",
       "11               0.924399               0.935622               0.928123   \n",
       "12               0.928571               0.933054               0.930950   \n",
       "13               0.914745               0.932103               0.929191   \n",
       "14               0.922491               0.925714               0.926316   \n",
       "15               0.927136               0.943909               0.939264   \n",
       "16               0.916549               0.929993               0.919112   \n",
       "17               0.914643               0.937592               0.926212   \n",
       "18               0.915874               0.936972               0.930233   \n",
       "19               0.918565               0.921444               0.928270   \n",
       "20               0.919477               0.927813               0.925227   \n",
       "21               0.927426               0.931624               0.927469   \n",
       "22               0.922426               0.929140               0.929134   \n",
       "23               0.915231               0.926112               0.928873   \n",
       "24               0.923972               0.937853               0.933121   \n",
       "25               0.919092               0.932103               0.926247   \n",
       "26               0.919944               0.918880               0.925555   \n",
       "\n",
       "    split3_test_precision  mean_test_precision  std_test_precision  \\\n",
       "0                0.928571             0.932729            0.002932   \n",
       "1                0.913947             0.920169            0.005730   \n",
       "2                0.911869             0.915038            0.004472   \n",
       "3                0.931067             0.933663            0.007319   \n",
       "4                0.912047             0.921755            0.006325   \n",
       "5                0.912331             0.920322            0.006440   \n",
       "6                0.929991             0.935951            0.005982   \n",
       "7                0.921391             0.922581            0.007374   \n",
       "8                0.913448             0.921395            0.007573   \n",
       "9                0.920319             0.928091            0.004700   \n",
       "10               0.917355             0.922087            0.005687   \n",
       "11               0.918677             0.926705            0.006150   \n",
       "12               0.921095             0.928418            0.004516   \n",
       "13               0.915207             0.922811            0.007905   \n",
       "14               0.913580             0.922025            0.005088   \n",
       "15               0.922166             0.933119            0.008803   \n",
       "16               0.911017             0.919168            0.006901   \n",
       "17               0.909471             0.921979            0.010862   \n",
       "18               0.920000             0.925770            0.008316   \n",
       "19               0.912449             0.920182            0.005688   \n",
       "20               0.909277             0.920449            0.007121   \n",
       "21               0.925227             0.927936            0.002314   \n",
       "22               0.913375             0.923519            0.006466   \n",
       "23               0.912954             0.920793            0.006818   \n",
       "24               0.920525             0.928868            0.006935   \n",
       "25               0.904893             0.920584            0.010164   \n",
       "26               0.914702             0.919770            0.003872   \n",
       "\n",
       "    rank_test_precision  \n",
       "0                     4  \n",
       "1                    24  \n",
       "2                    27  \n",
       "3                     2  \n",
       "4                    17  \n",
       "5                    22  \n",
       "6                     1  \n",
       "7                    13  \n",
       "8                    18  \n",
       "9                     7  \n",
       "10                   14  \n",
       "11                    9  \n",
       "12                    6  \n",
       "13                   12  \n",
       "14                   15  \n",
       "15                    3  \n",
       "16                   26  \n",
       "17                   16  \n",
       "18                   10  \n",
       "19                   23  \n",
       "20                   21  \n",
       "21                    8  \n",
       "22                   11  \n",
       "23                   19  \n",
       "24                    5  \n",
       "25                   20  \n",
       "26                   25  \n",
       "\n",
       "[27 rows x 23 columns]"
      ]
     },
     "execution_count": 110,
     "metadata": {},
     "output_type": "execute_result"
    }
   ],
   "source": [
    "result=pd.DataFrame(grid_cat.cv_results_)\n",
    "result"
   ]
  },
  {
   "cell_type": "markdown",
   "id": "41e1f8a9",
   "metadata": {},
   "source": [
    "Le modèle avec le meilleur recall est aussi 7ème en terme de précision, on va considerer que c'est le meilleur modèle de la grid\n",
    "\n",
    "Entraînons ce modèle sur trainset complet"
   ]
  },
  {
   "cell_type": "code",
   "execution_count": null,
   "id": "54c7aa52",
   "metadata": {},
   "outputs": [],
   "source": [
    "cat_parametré=CatBoostClassifier(depth= 7, iterations= 300, l2_leaf_reg=1, learning_rate= 0.15)\n",
    "test_model(cat_parametré,X_train1,X_test1,y_train1,y_test1)"
   ]
  },
  {
   "cell_type": "code",
   "execution_count": 13,
   "id": "50fd0d31",
   "metadata": {
    "scrolled": true
   },
   "outputs": [
    {
     "name": "stdout",
     "output_type": "stream",
     "text": [
      "f1 score= 0.8769475357710652\n",
      "precision= 0.9330175913396481\n",
      "recall= 0.8272345530893821\n"
     ]
    }
   ],
   "source": [
    "predictions_cat_parametré=cat_parametré.predict(X_test1)\n",
    "métriques(predictions_cat_parametré,y_test1)"
   ]
  },
  {
   "cell_type": "markdown",
   "id": "c972cb28",
   "metadata": {},
   "source": [
    "(quasiment pareil que sans changement des hyperparamètres)\n",
    "\n",
    "Il sera necessaire d'aller plus moin pour optimiser ces hyperparamètres.\n",
    "Cela dit, CATboost donne déja de bon résultats sans tuning, on devrait peut-être se concentrer sur XGBoost pour optimiser nos paramètres. "
   ]
  },
  {
   "cell_type": "markdown",
   "id": "8a552f50",
   "metadata": {},
   "source": [
    "# B) Optimisation de XGBoost"
   ]
  },
  {
   "cell_type": "markdown",
   "id": "aa59ef97",
   "metadata": {},
   "source": [
    "## 1) Compromis recall/précision ( sans SMOTE)"
   ]
  },
  {
   "cell_type": "code",
   "execution_count": 7,
   "id": "6a038d6e",
   "metadata": {
    "scrolled": false
   },
   "outputs": [
    {
     "name": "stdout",
     "output_type": "stream",
     "text": [
      "[18:07:38] WARNING: C:/Users/Administrator/workspace/xgboost-win64_release_1.4.0/src/learner.cc:1095: Starting in XGBoost 1.3.0, the default evaluation metric used with the objective 'binary:logistic' was changed from 'error' to 'logloss'. Explicitly set eval_metric if you'd like to restore the old behavior.\n"
     ]
    },
    {
     "data": {
      "image/png": "[encoded data removed]",
      "text/plain": [
       "<Figure size 432x288 with 2 Axes>"
      ]
     },
     "metadata": {
      "needs_background": "light"
     },
     "output_type": "display_data"
    }
   ],
   "source": [
    "test_model(xgb,X_train1,X_test1,y_train1,y_test1)"
   ]
  },
  {
   "cell_type": "code",
   "execution_count": 37,
   "id": "d40abe9a",
   "metadata": {
    "scrolled": true
   },
   "outputs": [
    {
     "data": {
      "text/plain": [
       "<sklearn.metrics._plot.precision_recall_curve.PrecisionRecallDisplay at 0x2277bac66d0>"
      ]
     },
     "execution_count": 37,
     "metadata": {},
     "output_type": "execute_result"
    },
    {
     "data": {
      "image/png": "[encoded data removed]",
      "text/plain": [
       "<Figure size 432x288 with 1 Axes>"
      ]
     },
     "metadata": {
      "needs_background": "light"
     },
     "output_type": "display_data"
    }
   ],
   "source": [
    "plot_precision_recall_curve(xgb,X_test1,y_test1)"
   ]
  },
  {
   "cell_type": "code",
   "execution_count": 8,
   "id": "dd5c7108",
   "metadata": {
    "scrolled": true
   },
   "outputs": [
    {
     "name": "stdout",
     "output_type": "stream",
     "text": [
      "[18:30:55] WARNING: C:/Users/Administrator/workspace/xgboost-win64_release_1.4.0/src/learner.cc:1095: Starting in XGBoost 1.3.0, the default evaluation metric used with the objective 'binary:logistic' was changed from 'error' to 'logloss'. Explicitly set eval_metric if you'd like to restore the old behavior.\n",
      "[18:42:00] WARNING: C:/Users/Administrator/workspace/xgboost-win64_release_1.4.0/src/learner.cc:1095: Starting in XGBoost 1.3.0, the default evaluation metric used with the objective 'binary:logistic' was changed from 'error' to 'logloss'. Explicitly set eval_metric if you'd like to restore the old behavior.\n",
      "[18:50:32] WARNING: C:/Users/Administrator/workspace/xgboost-win64_release_1.4.0/src/learner.cc:1095: Starting in XGBoost 1.3.0, the default evaluation metric used with the objective 'binary:logistic' was changed from 'error' to 'logloss'. Explicitly set eval_metric if you'd like to restore the old behavior.\n"
     ]
    }
   ],
   "source": [
    "y_scores_xgb=cross_val_predict(xgb,X_train1,y_train1,cv=3,method=\"predict_proba\")"
   ]
  },
  {
   "cell_type": "code",
   "execution_count": 9,
   "id": "8bd43e7a",
   "metadata": {
    "scrolled": true
   },
   "outputs": [],
   "source": [
    "precisions_xgb,recalls_xgb,seuils_xgb=precision_recall_curve(y_train1,y_scores_xgb[:,1])"
   ]
  },
  {
   "cell_type": "code",
   "execution_count": 10,
   "id": "d1bc4057",
   "metadata": {
    "scrolled": true
   },
   "outputs": [
    {
     "data": {
      "text/plain": [
       "Text(0.5, 0, 'seuil')"
      ]
     },
     "execution_count": 10,
     "metadata": {},
     "output_type": "execute_result"
    },
    {
     "data": {
      "image/png": "[encoded data removed]",
      "text/plain": [
       "<Figure size 432x288 with 1 Axes>"
      ]
     },
     "metadata": {
      "needs_background": "light"
     },
     "output_type": "display_data"
    }
   ],
   "source": [
    "plt.figure()\n",
    "plt.plot(seuils_xgb,precisions_xgb[:-1],'b--',label=\"Precision\")\n",
    "plt.plot(seuils_xgb,recalls_xgb[:-1],\"g-\",label=\"Rappel\")\n",
    "plt.legend()\n",
    "plt.xlabel('seuil')"
   ]
  },
  {
   "cell_type": "code",
   "execution_count": 11,
   "id": "81945591",
   "metadata": {},
   "outputs": [],
   "source": [
    "results_xgb=xgb.predict_proba(X_test1)"
   ]
  },
  {
   "cell_type": "code",
   "execution_count": 12,
   "id": "2613e817",
   "metadata": {},
   "outputs": [],
   "source": [
    "seuil=0.0025\n",
    "result_réajusté_xgb=(results_xgb[:,1]>seuil)"
   ]
  },
  {
   "cell_type": "code",
   "execution_count": 13,
   "id": "e8aba960",
   "metadata": {},
   "outputs": [
    {
     "data": {
      "text/plain": [
       "<sklearn.metrics._plot.confusion_matrix.ConfusionMatrixDisplay at 0x19db9831160>"
      ]
     },
     "execution_count": 13,
     "metadata": {},
     "output_type": "execute_result"
    },
    {
     "data": {
      "image/png": "[encoded data removed]",
      "text/plain": [
       "<Figure size 432x288 with 2 Axes>"
      ]
     },
     "metadata": {
      "needs_background": "light"
     },
     "output_type": "display_data"
    }
   ],
   "source": [
    "matrice_xgb=confusion_matrix(y_test1,result_réajusté_xgb)\n",
    "ConfusionMatrixDisplay(confusion_matrix=matrice_xgb).plot()"
   ]
  },
  {
   "cell_type": "code",
   "execution_count": 43,
   "id": "5b642221",
   "metadata": {
    "scrolled": false
   },
   "outputs": [
    {
     "name": "stdout",
     "output_type": "stream",
     "text": [
      "f1 score= 0.5535230352303523\n",
      "precision= 0.38565022421524664\n",
      "recall= 0.9802039592081584\n",
      "roc_auc= 0.987745961031086\n"
     ]
    }
   ],
   "source": [
    "métriques(result_réajusté_xgb,y_test1)"
   ]
  },
  {
   "cell_type": "markdown",
   "id": "af5e03b5",
   "metadata": {},
   "source": [
    "## 2) XGBoost avec SMOTE Tomek "
   ]
  },
  {
   "cell_type": "code",
   "execution_count": 14,
   "id": "56cb8657",
   "metadata": {
    "scrolled": false
   },
   "outputs": [
    {
     "name": "stdout",
     "output_type": "stream",
     "text": [
      "[18:59:20] WARNING: C:/Users/Administrator/workspace/xgboost-win64_release_1.4.0/src/learner.cc:1095: Starting in XGBoost 1.3.0, the default evaluation metric used with the objective 'binary:logistic' was changed from 'error' to 'logloss'. Explicitly set eval_metric if you'd like to restore the old behavior.\n"
     ]
    },
    {
     "data": {
      "image/png": "[encoded data removed]",
      "text/plain": [
       "<Figure size 432x288 with 2 Axes>"
      ]
     },
     "metadata": {
      "needs_background": "light"
     },
     "output_type": "display_data"
    }
   ],
   "source": [
    "test_model(xgb_2,X_res_train3,X_test6,y_res_train3,y_test6)"
   ]
  },
  {
   "cell_type": "code",
   "execution_count": 45,
   "id": "5050a208",
   "metadata": {
    "scrolled": false
   },
   "outputs": [
    {
     "data": {
      "text/plain": [
       "<sklearn.metrics._plot.precision_recall_curve.PrecisionRecallDisplay at 0x2277bf662b0>"
      ]
     },
     "execution_count": 45,
     "metadata": {},
     "output_type": "execute_result"
    },
    {
     "data": {
      "image/png": "[encoded data removed]",
      "text/plain": [
       "<Figure size 432x288 with 1 Axes>"
      ]
     },
     "metadata": {
      "needs_background": "light"
     },
     "output_type": "display_data"
    }
   ],
   "source": [
    "plot_precision_recall_curve(xgb_2,X_test6,y_test6)"
   ]
  },
  {
   "cell_type": "code",
   "execution_count": 46,
   "id": "d227fe0e",
   "metadata": {
    "scrolled": true
   },
   "outputs": [
    {
     "name": "stdout",
     "output_type": "stream",
     "text": [
      "[13:14:34] WARNING: C:/Users/Administrator/workspace/xgboost-win64_release_1.4.0/src/learner.cc:1095: Starting in XGBoost 1.3.0, the default evaluation metric used with the objective 'binary:logistic' was changed from 'error' to 'logloss'. Explicitly set eval_metric if you'd like to restore the old behavior.\n",
      "[13:41:12] WARNING: C:/Users/Administrator/workspace/xgboost-win64_release_1.4.0/src/learner.cc:1095: Starting in XGBoost 1.3.0, the default evaluation metric used with the objective 'binary:logistic' was changed from 'error' to 'logloss'. Explicitly set eval_metric if you'd like to restore the old behavior.\n",
      "[14:06:40] WARNING: C:/Users/Administrator/workspace/xgboost-win64_release_1.4.0/src/learner.cc:1095: Starting in XGBoost 1.3.0, the default evaluation metric used with the objective 'binary:logistic' was changed from 'error' to 'logloss'. Explicitly set eval_metric if you'd like to restore the old behavior.\n"
     ]
    }
   ],
   "source": [
    "y_scores_xgb_smote=cross_val_predict(xgb_2,X_res_train3,y_res_train3,cv=3,method=\"predict_proba\")"
   ]
  },
  {
   "cell_type": "code",
   "execution_count": 47,
   "id": "1b4cadbb",
   "metadata": {
    "scrolled": true
   },
   "outputs": [],
   "source": [
    "precisions_xgb_smote,recalls_xgb_smote,seuils_xgb_smote=precision_recall_curve(y_res_train3,y_scores_xgb_smote[:,1])"
   ]
  },
  {
   "cell_type": "code",
   "execution_count": 48,
   "id": "3b9983cc",
   "metadata": {
    "scrolled": true
   },
   "outputs": [
    {
     "data": {
      "text/plain": [
       "Text(0.5, 0, 'seuil')"
      ]
     },
     "execution_count": 48,
     "metadata": {},
     "output_type": "execute_result"
    },
    {
     "data": {
      "image/png": "[encoded data removed]",
      "text/plain": [
       "<Figure size 432x288 with 1 Axes>"
      ]
     },
     "metadata": {
      "needs_background": "light"
     },
     "output_type": "display_data"
    }
   ],
   "source": [
    "plt.figure()\n",
    "plt.plot(seuils_xgb_smote,precisions_xgb_smote[:-1],'b--',label=\"Precision\")\n",
    "plt.plot(seuils_xgb_smote,recalls_xgb_smote[:-1],\"g-\",label=\"Rappel\")\n",
    "plt.legend()\n",
    "plt.xlabel('seuil')"
   ]
  },
  {
   "cell_type": "code",
   "execution_count": 15,
   "id": "7651bb5d",
   "metadata": {},
   "outputs": [],
   "source": [
    "results_xgb_smote=xgb_2.predict_proba(X_test6)"
   ]
  },
  {
   "cell_type": "code",
   "execution_count": 16,
   "id": "028ca20c",
   "metadata": {},
   "outputs": [],
   "source": [
    "seuil=0.00055\n",
    "result_réajusté_xgb_smote=(results_xgb_smote[:,1]>seuil)"
   ]
  },
  {
   "cell_type": "code",
   "execution_count": 17,
   "id": "a5210059",
   "metadata": {},
   "outputs": [
    {
     "data": {
      "text/plain": [
       "<sklearn.metrics._plot.confusion_matrix.ConfusionMatrixDisplay at 0x19de4e8deb0>"
      ]
     },
     "execution_count": 17,
     "metadata": {},
     "output_type": "execute_result"
    },
    {
     "data": {
      "image/png": "[encoded data removed]",
      "text/plain": [
       "<Figure size 432x288 with 2 Axes>"
      ]
     },
     "metadata": {
      "needs_background": "light"
     },
     "output_type": "display_data"
    }
   ],
   "source": [
    "matrice_xgb_smote=confusion_matrix(y_test6,result_réajusté_xgb_smote)\n",
    "ConfusionMatrixDisplay(confusion_matrix=matrice_xgb_smote).plot()"
   ]
  },
  {
   "cell_type": "code",
   "execution_count": 76,
   "id": "44290973",
   "metadata": {
    "scrolled": true
   },
   "outputs": [
    {
     "name": "stdout",
     "output_type": "stream",
     "text": [
      "f1 score= 0.30401191473517636\n",
      "precision= 0.17992507712648745\n",
      "recall= 0.9796040791841631\n",
      "roc_auc= 0.9830652565575876\n"
     ]
    }
   ],
   "source": [
    "métriques(result_réajusté_xgb_smote,y_test6)"
   ]
  },
  {
   "cell_type": "markdown",
   "id": "776ce49b",
   "metadata": {},
   "source": [
    "## 3) GridSearchCV avec XGBoosting ( sans SMOTE)"
   ]
  },
  {
   "cell_type": "markdown",
   "id": "a80281cd",
   "metadata": {},
   "source": [
    "Nous allons optimiser nos hyperparamètres XGBoost en limitant la taille de notre trainset (10%) pour éviter que cela mette trop de temps"
   ]
  },
  {
   "cell_type": "markdown",
   "id": "223d954c",
   "metadata": {},
   "source": [
    "**création d'un dataset réduit**"
   ]
  },
  {
   "cell_type": "code",
   "execution_count": 69,
   "id": "8a5f7725",
   "metadata": {
    "scrolled": true
   },
   "outputs": [],
   "source": [
    "fraudes_1=fraudes.copy()\n",
    "fraudes_réduit=fraudes_1.sample(frac=0.1, random_state=1)"
   ]
  },
  {
   "cell_type": "code",
   "execution_count": 78,
   "id": "16c082f1",
   "metadata": {},
   "outputs": [],
   "source": [
    "def proprocess_reduit(df):\n",
    "    df=retirer_transactions(df)  \n",
    "    df=enlever_colonnes(df)\n",
    "    df=encoder(df)\n",
    "    df=scaler(df)\n",
    "\n",
    "    X_red=df.drop('isFraud',axis=1)\n",
    "    y_red=df['isFraud']\n",
    "    \n",
    "    X_train_red,X_test_red, y_train_red,y_test_red = train_test_split(X_red, y_red, test_size = 0.2, random_state = 15) \n",
    "    \n",
    "    return X_train_red,X_test_red, y_train_red,y_test_red"
   ]
  },
  {
   "cell_type": "code",
   "execution_count": 79,
   "id": "1803f9e7",
   "metadata": {
    "scrolled": true
   },
   "outputs": [],
   "source": [
    "X_train_red,X_test_red, y_train_red,y_test_red=proprocess_reduit(fraudes_réduit)"
   ]
  },
  {
   "cell_type": "markdown",
   "id": "68864f4e",
   "metadata": {},
   "source": [
    "Au lieu de faire un gridSearch de tout les hyperparamètres que l'on souhait modifier, on va faire plusieurs grids où l'on ne cherchera à optimiser qu'un ou deux hyperparamètres.\n",
    "On ajoutera au fur et à mesure nos meilleurs hyperparamètres aux grids suivantes"
   ]
  },
  {
   "cell_type": "markdown",
   "id": "97731da8",
   "metadata": {},
   "source": [
    "**optimisation de max_depth et min_child_weight**"
   ]
  },
  {
   "cell_type": "code",
   "execution_count": null,
   "id": "b1430321",
   "metadata": {},
   "outputs": [],
   "source": [
    "param_test1 = {\n",
    " 'max_depth':range(3,10,2),\n",
    " 'min_child_weight':range(1,8,2)\n",
    "}\n",
    "gsearch1 = GridSearchCV(estimator = XGBClassifier( learning_rate =0.1, n_estimators=140, max_depth=5,\n",
    " min_child_weight=1, gamma=0, subsample=0.8, colsample_bytree=0.8,\n",
    " objective= 'binary:logistic', nthread=4, scale_pos_weight=1, seed=27), \n",
    " param_grid = param_test1, scoring='roc_auc',n_jobs=4, cv=4,verbose=3)\n",
    "\n",
    "gsearch1.fit(X_train_red,y_train_red) "
   ]
  },
  {
   "cell_type": "code",
   "execution_count": 83,
   "id": "ce494c9b",
   "metadata": {},
   "outputs": [
    {
     "data": {
      "text/plain": [
       "({'max_depth': 9, 'min_child_weight': 1}, 0.9962098199791154)"
      ]
     },
     "execution_count": 83,
     "metadata": {},
     "output_type": "execute_result"
    }
   ],
   "source": [
    "gsearch1.best_params_, gsearch1.best_score_"
   ]
  },
  {
   "cell_type": "markdown",
   "id": "b3d27a22",
   "metadata": {},
   "source": [
    "**Optimisation du paramètre gamma**"
   ]
  },
  {
   "cell_type": "code",
   "execution_count": 86,
   "id": "aeb51d65",
   "metadata": {},
   "outputs": [
    {
     "name": "stdout",
     "output_type": "stream",
     "text": [
      "Fitting 5 folds for each of 5 candidates, totalling 25 fits\n"
     ]
    },
    {
     "name": "stderr",
     "output_type": "stream",
     "text": [
      "C:\\Users\\matthias.picard\\Anaconda3\\lib\\site-packages\\xgboost\\sklearn.py:1146: UserWarning: The use of label encoder in XGBClassifier is deprecated and will be removed in a future release. To remove this warning, do the following: 1) Pass option use_label_encoder=False when constructing XGBClassifier object; and 2) Encode your labels (y) as integers starting with 0, i.e. 0, 1, 2, ..., [num_class - 1].\n",
      "  warnings.warn(label_encoder_deprecation_msg, UserWarning)\n"
     ]
    },
    {
     "name": "stdout",
     "output_type": "stream",
     "text": [
      "[18:10:05] WARNING: C:/Users/Administrator/workspace/xgboost-win64_release_1.4.0/src/learner.cc:1095: Starting in XGBoost 1.3.0, the default evaluation metric used with the objective 'binary:logistic' was changed from 'error' to 'logloss'. Explicitly set eval_metric if you'd like to restore the old behavior.\n"
     ]
    },
    {
     "data": {
      "text/plain": [
       "({'gamma': 0.4}, 0.9965296818177881)"
      ]
     },
     "execution_count": 86,
     "metadata": {},
     "output_type": "execute_result"
    }
   ],
   "source": [
    "param_test3 = {\n",
    " 'gamma':[i/10.0 for i in range(0,5)]\n",
    "}\n",
    "gsearch3 = GridSearchCV(estimator = XGBClassifier( learning_rate =0.1, n_estimators=140, max_depth=9,\n",
    " min_child_weight=1, gamma=0, subsample=0.8, colsample_bytree=0.8,\n",
    " objective= 'binary:logistic', nthread=4, scale_pos_weight=1,seed=27), \n",
    " param_grid = param_test3, scoring='roc_auc',n_jobs=4, cv=5,verbose=3)\n",
    "gsearch3.fit(X_train_red,y_train_red)\n",
    "gsearch3.best_params_, gsearch3.best_score_"
   ]
  },
  {
   "cell_type": "markdown",
   "id": "c0b4635a",
   "metadata": {},
   "source": [
    "**sub_sample et colsample_bytree**"
   ]
  },
  {
   "cell_type": "code",
   "execution_count": 88,
   "id": "d00c62c0",
   "metadata": {
    "scrolled": true
   },
   "outputs": [
    {
     "name": "stderr",
     "output_type": "stream",
     "text": [
      "C:\\Users\\matthias.picard\\Anaconda3\\lib\\site-packages\\xgboost\\sklearn.py:1146: UserWarning: The use of label encoder in XGBClassifier is deprecated and will be removed in a future release. To remove this warning, do the following: 1) Pass option use_label_encoder=False when constructing XGBClassifier object; and 2) Encode your labels (y) as integers starting with 0, i.e. 0, 1, 2, ..., [num_class - 1].\n",
      "  warnings.warn(label_encoder_deprecation_msg, UserWarning)\n"
     ]
    },
    {
     "name": "stdout",
     "output_type": "stream",
     "text": [
      "[18:40:45] WARNING: C:/Users/Administrator/workspace/xgboost-win64_release_1.4.0/src/learner.cc:1095: Starting in XGBoost 1.3.0, the default evaluation metric used with the objective 'binary:logistic' was changed from 'error' to 'logloss'. Explicitly set eval_metric if you'd like to restore the old behavior.\n"
     ]
    },
    {
     "data": {
      "text/plain": [
       "({'colsample_bytree': 0.8, 'subsample': 0.8}, 0.9966637365307445)"
      ]
     },
     "execution_count": 88,
     "metadata": {},
     "output_type": "execute_result"
    }
   ],
   "source": [
    "param_test4 = {\n",
    " 'subsample':[i/10.0 for i in range(6,10)],\n",
    " 'colsample_bytree':[i/10.0 for i in range(6,10)]\n",
    "}\n",
    "gsearch4 = GridSearchCV(estimator = XGBClassifier( learning_rate =0.1, n_estimators=177, max_depth=9,\n",
    " min_child_weight=1, gamma=0.4, subsample=0.8, colsample_bytree=0.8,\n",
    " objective= 'binary:logistic', nthread=4, scale_pos_weight=1,seed=27), \n",
    " param_grid = param_test4, scoring='roc_auc',n_jobs=4, cv=5)\n",
    "gsearch4.fit(X_train_red,y_train_red)\n",
    "gsearch4.best_params_, gsearch4.best_score_"
   ]
  },
  {
   "cell_type": "markdown",
   "id": "f0935bd9",
   "metadata": {},
   "source": [
    "**reg_alpha**"
   ]
  },
  {
   "cell_type": "code",
   "execution_count": 89,
   "id": "8ea71486",
   "metadata": {
    "scrolled": true
   },
   "outputs": [
    {
     "name": "stderr",
     "output_type": "stream",
     "text": [
      "C:\\Users\\matthias.picard\\Anaconda3\\lib\\site-packages\\xgboost\\sklearn.py:1146: UserWarning: The use of label encoder in XGBClassifier is deprecated and will be removed in a future release. To remove this warning, do the following: 1) Pass option use_label_encoder=False when constructing XGBClassifier object; and 2) Encode your labels (y) as integers starting with 0, i.e. 0, 1, 2, ..., [num_class - 1].\n",
      "  warnings.warn(label_encoder_deprecation_msg, UserWarning)\n"
     ]
    },
    {
     "name": "stdout",
     "output_type": "stream",
     "text": [
      "[18:57:20] WARNING: C:/Users/Administrator/workspace/xgboost-win64_release_1.4.0/src/learner.cc:1095: Starting in XGBoost 1.3.0, the default evaluation metric used with the objective 'binary:logistic' was changed from 'error' to 'logloss'. Explicitly set eval_metric if you'd like to restore the old behavior.\n"
     ]
    },
    {
     "data": {
      "text/plain": [
       "({'reg_alpha': 1}, 0.9967255466296685)"
      ]
     },
     "execution_count": 89,
     "metadata": {},
     "output_type": "execute_result"
    }
   ],
   "source": [
    "param_test6 = {\n",
    " 'reg_alpha':[1e-5, 1e-2, 0.1, 1, 100]\n",
    "}\n",
    "gsearch6 = GridSearchCV(estimator = XGBClassifier( learning_rate =0.1, n_estimators=177, max_depth=9,\n",
    " min_child_weight=1, gamma=0.4, subsample=0.8, colsample_bytree=0.8,\n",
    " objective= 'binary:logistic', nthread=4, scale_pos_weight=1,seed=27), \n",
    " param_grid = param_test6, scoring='roc_auc',n_jobs=4, cv=5)\n",
    "gsearch6.fit(X_train_red,y_train_red)\n",
    "gsearch6.best_params_, gsearch6.best_score_"
   ]
  },
  {
   "cell_type": "markdown",
   "id": "0feed7da",
   "metadata": {},
   "source": [
    "**reg alpha (plus précis)**"
   ]
  },
  {
   "cell_type": "code",
   "execution_count": 90,
   "id": "2470bf31",
   "metadata": {
    "scrolled": false
   },
   "outputs": [
    {
     "name": "stderr",
     "output_type": "stream",
     "text": [
      "C:\\Users\\matthias.picard\\Anaconda3\\lib\\site-packages\\xgboost\\sklearn.py:1146: UserWarning: The use of label encoder in XGBClassifier is deprecated and will be removed in a future release. To remove this warning, do the following: 1) Pass option use_label_encoder=False when constructing XGBClassifier object; and 2) Encode your labels (y) as integers starting with 0, i.e. 0, 1, 2, ..., [num_class - 1].\n",
      "  warnings.warn(label_encoder_deprecation_msg, UserWarning)\n"
     ]
    },
    {
     "name": "stdout",
     "output_type": "stream",
     "text": [
      "[19:25:45] WARNING: C:/Users/Administrator/workspace/xgboost-win64_release_1.4.0/src/learner.cc:1095: Starting in XGBoost 1.3.0, the default evaluation metric used with the objective 'binary:logistic' was changed from 'error' to 'logloss'. Explicitly set eval_metric if you'd like to restore the old behavior.\n"
     ]
    },
    {
     "data": {
      "text/plain": [
       "({'reg_alpha': 0.8}, 0.996877386749205)"
      ]
     },
     "execution_count": 90,
     "metadata": {},
     "output_type": "execute_result"
    }
   ],
   "source": [
    "param_test7 = {\n",
    " 'reg_alpha':[0.1, 0.2,0.5,0.8,1,1.2,1.5,2,3,5,10,20,50,100]\n",
    "}\n",
    "gsearch7 = GridSearchCV(estimator = XGBClassifier( learning_rate =0.1, n_estimators=177, max_depth=9,\n",
    " min_child_weight=1, gamma=0.4, subsample=0.8, colsample_bytree=0.8,\n",
    " objective= 'binary:logistic', nthread=4, scale_pos_weight=1,seed=27), \n",
    " param_grid = param_test7, scoring='roc_auc',n_jobs=4, cv=5)\n",
    "gsearch7.fit(X_train_red,y_train_red)\n",
    "gsearch7.best_params_, gsearch7.best_score_"
   ]
  },
  {
   "cell_type": "markdown",
   "id": "2c8bd6dc",
   "metadata": {},
   "source": [
    "**test du modèle**"
   ]
  },
  {
   "cell_type": "code",
   "execution_count": 15,
   "id": "5525a717",
   "metadata": {},
   "outputs": [
    {
     "name": "stdout",
     "output_type": "stream",
     "text": [
      "[10:06:27] WARNING: C:/Users/Administrator/workspace/xgboost-win64_release_1.4.0/src/learner.cc:1095: Starting in XGBoost 1.3.0, the default evaluation metric used with the objective 'binary:logistic' was changed from 'error' to 'logloss'. Explicitly set eval_metric if you'd like to restore the old behavior.\n"
     ]
    },
    {
     "data": {
      "image/png": "[encoded data removed]",
      "text/plain": [
       "<Figure size 432x288 with 2 Axes>"
      ]
     },
     "metadata": {
      "needs_background": "light"
     },
     "output_type": "display_data"
    }
   ],
   "source": [
    "xgb_preprocessé=XGBClassifier( learning_rate =0.1, n_estimators=200, max_depth=9,\n",
    " min_child_weight=1, gamma=0.4, subsample=0.8, colsample_bytree=0.8,reg_alpha=0.8,\n",
    " objective= 'binary:logistic', nthread=4, scale_pos_weight=1,seed=27)\n",
    "\n",
    "test_model(xgb_preprocessé,X_train1,X_test1,y_train1,y_test1)"
   ]
  },
  {
   "cell_type": "code",
   "execution_count": 16,
   "id": "8797d8e0",
   "metadata": {
    "scrolled": true
   },
   "outputs": [
    {
     "name": "stdout",
     "output_type": "stream",
     "text": [
      "f1 score= 0.8662131519274376\n",
      "precision= 0.9415492957746479\n",
      "recall= 0.8020395920815837\n",
      "roc_auc= 0.9009446713609768\n"
     ]
    }
   ],
   "source": [
    "predictions_xgb_preprocessé=xgb_preprocessé.predict(X_test1)\n",
    "métriques(predictions_xgb_preprocessé,y_test1)"
   ]
  },
  {
   "cell_type": "markdown",
   "id": "2f64f2a4",
   "metadata": {},
   "source": [
    "En passant d'un XGBoost sans modification à un XGBoost optimisé, on voit que la précision passe de 0.929 à 0.942 et le recall de 0.821 à 0.802. Les changements semble assez minimes"
   ]
  },
  {
   "cell_type": "code",
   "execution_count": 17,
   "id": "ac335d56",
   "metadata": {},
   "outputs": [
    {
     "name": "stdout",
     "output_type": "stream",
     "text": [
      "[10:15:00] WARNING: C:/Users/Administrator/workspace/xgboost-win64_release_1.4.0/src/learner.cc:1095: Starting in XGBoost 1.3.0, the default evaluation metric used with the objective 'binary:logistic' was changed from 'error' to 'logloss'. Explicitly set eval_metric if you'd like to restore the old behavior.\n",
      "[10:21:47] WARNING: C:/Users/Administrator/workspace/xgboost-win64_release_1.4.0/src/learner.cc:1095: Starting in XGBoost 1.3.0, the default evaluation metric used with the objective 'binary:logistic' was changed from 'error' to 'logloss'. Explicitly set eval_metric if you'd like to restore the old behavior.\n",
      "[10:28:38] WARNING: C:/Users/Administrator/workspace/xgboost-win64_release_1.4.0/src/learner.cc:1095: Starting in XGBoost 1.3.0, the default evaluation metric used with the objective 'binary:logistic' was changed from 'error' to 'logloss'. Explicitly set eval_metric if you'd like to restore the old behavior.\n",
      "[10:34:50] WARNING: C:/Users/Administrator/workspace/xgboost-win64_release_1.4.0/src/learner.cc:1095: Starting in XGBoost 1.3.0, the default evaluation metric used with the objective 'binary:logistic' was changed from 'error' to 'logloss'. Explicitly set eval_metric if you'd like to restore the old behavior.\n"
     ]
    },
    {
     "data": {
      "text/plain": [
       "Text(0.5, 0, 'seuil')"
      ]
     },
     "execution_count": 17,
     "metadata": {},
     "output_type": "execute_result"
    },
    {
     "data": {
      "image/png": "[encoded data removed]",
      "text/plain": [
       "<Figure size 432x288 with 1 Axes>"
      ]
     },
     "metadata": {
      "needs_background": "light"
     },
     "output_type": "display_data"
    }
   ],
   "source": [
    "y_scores_xgb_preprocessé=cross_val_predict(xgb_preprocessé,X_train1,y_train1,cv=4,method=\"predict_proba\")\n",
    "\n",
    "precisions_xgb_preprocessé,recalls_xgb_preprocessé,seuils_xgb_preprocessé=precision_recall_curve(y_train1,y_scores_xgb_preprocessé[:,1])\n",
    "\n",
    "plt.figure()\n",
    "plt.plot(seuils_xgb_preprocessé,precisions_xgb_preprocessé[:-1],'b--',label=\"Precision\")\n",
    "plt.plot(seuils_xgb_preprocessé,recalls_xgb_preprocessé[:-1],\"g-\",label=\"Rappel\")\n",
    "plt.legend()\n",
    "plt.xlabel('seuil')"
   ]
  },
  {
   "cell_type": "code",
   "execution_count": 18,
   "id": "a4a781f7",
   "metadata": {},
   "outputs": [],
   "source": [
    "results_xgb_preprocessé=xgb_preprocessé.predict_proba(X_test1)"
   ]
  },
  {
   "cell_type": "code",
   "execution_count": 34,
   "id": "440d5fde",
   "metadata": {},
   "outputs": [],
   "source": [
    "seuil=0.02\n",
    "result_réajusté_xgb_preprocessé=(results_xgb_preprocessé[:,1]>seuil)"
   ]
  },
  {
   "cell_type": "code",
   "execution_count": null,
   "id": "8acc1893",
   "metadata": {},
   "outputs": [],
   "source": [
    "matrice_xgb_preprocessé=confusion_matrix(y_test1,result_réajusté_xgb_preprocessé)\n",
    "ConfusionMatrixDisplay(confusion_matrix=matrice_xgb_preprocessé).plot()"
   ]
  },
  {
   "cell_type": "code",
   "execution_count": 35,
   "id": "b7ee1bf0",
   "metadata": {
    "scrolled": false
   },
   "outputs": [
    {
     "name": "stdout",
     "output_type": "stream",
     "text": [
      "f1 score= 0.5179080824088748\n",
      "precision= 0.3519276329959078\n",
      "recall= 0.9802039592081584\n",
      "roc_auc= 0.9873784836816297\n"
     ]
    }
   ],
   "source": [
    "métriques(result_réajusté_xgb_preprocessé,y_test1)"
   ]
  },
  {
   "cell_type": "markdown",
   "id": "b3e7bff3",
   "metadata": {},
   "source": [
    "pour un recall à 98%, la précision n'est que de 0.352, c'est moins que si l'on avait pas optimiser nos hyperparamètres..."
   ]
  },
  {
   "cell_type": "markdown",
   "id": "e3c6638c",
   "metadata": {},
   "source": [
    "# C) SECTION DE TEST "
   ]
  },
  {
   "cell_type": "markdown",
   "id": "dbbc1d9e",
   "metadata": {},
   "source": [
    "## 1) modifier la pourcentage d'élement de la classe minoritaire apres le SMOTE"
   ]
  },
  {
   "cell_type": "markdown",
   "id": "e31ee103",
   "metadata": {},
   "source": [
    "Si les résultats de nos modèles avec SMOTE sont inférieurs à ceux sans SMOTE, c'est peut-être parce que réequilibrer nos classe avec une proportion 50/50 n'est pas le meilleur choix pour des classes aussi désequilibrées que les nôtres.\n",
    "\n",
    "On va donc modifier la proportion de fraudes apres le SMOTE. Elle sera ici de 5% ( au lieu de 50% donc)."
   ]
  },
  {
   "cell_type": "code",
   "execution_count": 89,
   "id": "afd90a53",
   "metadata": {},
   "outputs": [],
   "source": [
    "def algo_smote_Tomek_r(X_train4, y_train4):\n",
    "    sm = SMOTETomek (sampling_strategy=0.05)\n",
    "    X_res_train, y_res_train = sm.fit_resample(X_train4, y_train4)\n",
    "    return X_res_train, y_res_train "
   ]
  },
  {
   "cell_type": "code",
   "execution_count": 86,
   "id": "d005f377",
   "metadata": {},
   "outputs": [],
   "source": [
    "fraudes_l=fraudes.copy()"
   ]
  },
  {
   "cell_type": "code",
   "execution_count": 90,
   "id": "1774689b",
   "metadata": {},
   "outputs": [],
   "source": [
    "def preprocess_SMOTE_limité(df):\n",
    "    \n",
    "    df=retirer_transactions(df)\n",
    "    df=enlever_colonnes(df)\n",
    "    df=encoder(df)\n",
    "    df=scaler(df)\n",
    "    \n",
    "    \n",
    "    X=df.drop('isFraud',axis=1)\n",
    "    y=df['isFraud']\n",
    "    \n",
    "    X_train4, X_test4, y_train4, y_test4 = train_test_split(X, y, test_size = 0.2, random_state = 30) \n",
    "    \n",
    "    X_res_train, y_res_train = algo_smote_Tomek_r(X_train4, y_train4)\n",
    "    \n",
    "    return X_res_train, y_res_train,X_test4,y_test4"
   ]
  },
  {
   "cell_type": "code",
   "execution_count": 91,
   "id": "3c45090b",
   "metadata": {
    "scrolled": false
   },
   "outputs": [],
   "source": [
    "X_train_l, y_train_l,X_test_l,y_test_l=preprocess_SMOTE_limité(fraudes_l)"
   ]
  },
  {
   "cell_type": "code",
   "execution_count": 93,
   "id": "16ce44da",
   "metadata": {},
   "outputs": [
    {
     "data": {
      "text/plain": [
       "0    2208921\n",
       "1     109629\n",
       "Name: isFraud, dtype: int64"
      ]
     },
     "execution_count": 93,
     "metadata": {},
     "output_type": "execute_result"
    }
   ],
   "source": [
    "y_train_l.value_counts()"
   ]
  },
  {
   "cell_type": "code",
   "execution_count": null,
   "id": "df076511",
   "metadata": {},
   "outputs": [],
   "source": [
    "test_model(cad_5,X_train_l,X_test_l,y_train_l,y_test_l)"
   ]
  },
  {
   "cell_type": "code",
   "execution_count": 98,
   "id": "8910c7bc",
   "metadata": {},
   "outputs": [
    {
     "name": "stdout",
     "output_type": "stream",
     "text": [
      "f1 score= 0.8377081569291561\n",
      "precision= 0.7910447761194029\n",
      "recall= 0.8902219556088782\n",
      "roc_auc= 0.9447561720877224\n"
     ]
    }
   ],
   "source": [
    "predictions_cat_l=cad_5.predict(X_test_l)\n",
    "métriques(predictions_cat_l,y_test_l)"
   ]
  },
  {
   "cell_type": "code",
   "execution_count": 99,
   "id": "54960f6e",
   "metadata": {
    "scrolled": true
   },
   "outputs": [
    {
     "data": {
      "text/plain": [
       "<sklearn.metrics._plot.precision_recall_curve.PrecisionRecallDisplay at 0x218760e4c40>"
      ]
     },
     "execution_count": 99,
     "metadata": {},
     "output_type": "execute_result"
    },
    {
     "data": {
      "image/png": "[encoded data removed]",
      "text/plain": [
       "<Figure size 432x288 with 1 Axes>"
      ]
     },
     "metadata": {
      "needs_background": "light"
     },
     "output_type": "display_data"
    }
   ],
   "source": [
    "plot_precision_recall_curve(cad_5,X_test_l,y_test_l)"
   ]
  },
  {
   "cell_type": "markdown",
   "id": "e37d7a6f",
   "metadata": {},
   "source": [
    "**tentative de creer un graphique des courbes de precision et de recall en fonction du seuil**"
   ]
  },
  {
   "cell_type": "code",
   "execution_count": null,
   "id": "648f22c3",
   "metadata": {},
   "outputs": [],
   "source": [
    "y_scores_smote_l=cross_val_predict(cad_5,X_train_l,y_train_l,cv=3,method=\"predict_proba\")"
   ]
  },
  {
   "cell_type": "code",
   "execution_count": 102,
   "id": "9fa7ffcf",
   "metadata": {
    "scrolled": true
   },
   "outputs": [],
   "source": [
    "precisions_smote_l,recalls_smote_l,seuils_smote_l=precision_recall_curve(y_train_l,y_scores_smote_l[:,1])"
   ]
  },
  {
   "cell_type": "code",
   "execution_count": 103,
   "id": "ea416967",
   "metadata": {
    "scrolled": false
   },
   "outputs": [
    {
     "data": {
      "text/plain": [
       "Text(0.5, 0, 'seuil')"
      ]
     },
     "execution_count": 103,
     "metadata": {},
     "output_type": "execute_result"
    },
    {
     "data": {
      "image/png": "[encoded data removed]",
      "text/plain": [
       "<Figure size 432x288 with 1 Axes>"
      ]
     },
     "metadata": {
      "needs_background": "light"
     },
     "output_type": "display_data"
    }
   ],
   "source": [
    "plt.figure()\n",
    "plt.plot(seuils_smote_l,precisions_smote_l[:-1],'b--',label=\"Precision\")\n",
    "plt.plot(seuils_smote_l,recalls_smote_l[:-1],\"g-\",label=\"Rappel\")\n",
    "plt.legend()\n",
    "plt.xlabel('seuil')"
   ]
  },
  {
   "cell_type": "code",
   "execution_count": 105,
   "id": "2ebea885",
   "metadata": {
    "scrolled": true
   },
   "outputs": [],
   "source": [
    "results_smote_l=cad_5.predict_proba(X_test_l)"
   ]
  },
  {
   "cell_type": "code",
   "execution_count": 109,
   "id": "3ae5e188",
   "metadata": {},
   "outputs": [],
   "source": [
    "seuil=0.1\n",
    "result_réajusté_smote_l=(results_smote_l[:,1]>seuil)"
   ]
  },
  {
   "cell_type": "code",
   "execution_count": 110,
   "id": "71d31bc4",
   "metadata": {
    "scrolled": true
   },
   "outputs": [
    {
     "data": {
      "text/plain": [
       "<sklearn.metrics._plot.confusion_matrix.ConfusionMatrixDisplay at 0x218764dddc0>"
      ]
     },
     "execution_count": 110,
     "metadata": {},
     "output_type": "execute_result"
    },
    {
     "data": {
      "image/png": "[encoded data removed]",
      "text/plain": [
       "<Figure size 432x288 with 2 Axes>"
      ]
     },
     "metadata": {
      "needs_background": "light"
     },
     "output_type": "display_data"
    }
   ],
   "source": [
    "matrice_l=confusion_matrix(y_test_l,result_réajusté_smote_l)\n",
    "ConfusionMatrixDisplay(confusion_matrix=matrice_l).plot()"
   ]
  },
  {
   "cell_type": "code",
   "execution_count": 111,
   "id": "2cdf70de",
   "metadata": {
    "scrolled": true
   },
   "outputs": [
    {
     "name": "stdout",
     "output_type": "stream",
     "text": [
      "f1 score= 0.6082263167690304\n",
      "precision= 0.4409066378845116\n",
      "recall= 0.9802039592081584\n",
      "roc_auc= 0.9882265779585772\n"
     ]
    }
   ],
   "source": [
    "métriques(result_réajusté_smote_l,y_test_l)"
   ]
  },
  {
   "cell_type": "markdown",
   "id": "635459e2",
   "metadata": {},
   "source": [
    "précision de 0.441 --> mieux qu'avec une proportion à 50% mais toujours moins bien que sans SMOTE"
   ]
  },
  {
   "cell_type": "markdown",
   "id": "5fbb9a06",
   "metadata": {},
   "source": [
    "## 2) retirer la variable oldbalanceOrg et comparer sans / avec SMOTE"
   ]
  },
  {
   "cell_type": "code",
   "execution_count": 6,
   "id": "250d084b",
   "metadata": {},
   "outputs": [],
   "source": [
    "def enlever_colonnes_old(df):\n",
    "    heures=df.step %24\n",
    "    df['heures']=heures\n",
    "    df.drop(['nameOrig','newbalanceOrig','newbalanceDest','isFlaggedFraud','step','nameDest','oldbalanceOrg'],axis=1, inplace=True)\n",
    "    return df"
   ]
  },
  {
   "cell_type": "code",
   "execution_count": 7,
   "id": "253fe355",
   "metadata": {},
   "outputs": [],
   "source": [
    "def scaler_old(df):\n",
    "    scaler=RobustScaler()\n",
    "    df_continue=scaler.fit_transform(df.loc[:,['amount','oldbalanceDest','heures']])\n",
    "    df['amount']=df_continue[:,0]\n",
    "    df['oldbalanceDest']=df_continue[:,1]\n",
    "    df['heures']=df_continue[:,2]\n",
    "    return df"
   ]
  },
  {
   "cell_type": "code",
   "execution_count": 8,
   "id": "c428efa6",
   "metadata": {},
   "outputs": [],
   "source": [
    "fraudes_old_r=fraudes.copy()"
   ]
  },
  {
   "cell_type": "code",
   "execution_count": 9,
   "id": "d695612b",
   "metadata": {},
   "outputs": [],
   "source": [
    "def preprocess_rien_old(df):\n",
    "    \n",
    "    df=retirer_transactions(df)\n",
    "    df=enlever_colonnes_old(df)\n",
    "    df=encoder(df)\n",
    "    df=scaler_old(df)\n",
    "    \n",
    "    \n",
    "    X=df.drop('isFraud',axis=1)\n",
    "    y=df['isFraud']\n",
    "    \n",
    "    X_train4, X_test4, y_train4, y_test4 = train_test_split(X, y, test_size = 0.2, random_state = 30) \n",
    "    \n",
    "   \n",
    "    \n",
    "    return X_train4, y_train4,X_test4,y_test4"
   ]
  },
  {
   "cell_type": "code",
   "execution_count": 10,
   "id": "40889a54",
   "metadata": {},
   "outputs": [],
   "source": [
    "fraudes_old_s=fraudes.copy()"
   ]
  },
  {
   "cell_type": "code",
   "execution_count": 11,
   "id": "bc203d1e",
   "metadata": {},
   "outputs": [],
   "source": [
    "def preprocess_SMOTE_old(df):\n",
    "    \n",
    "    df=retirer_transactions(df)\n",
    "    df=enlever_colonnes_old(df)\n",
    "    df=encoder(df)\n",
    "    df=scaler_old(df)\n",
    "    \n",
    "    \n",
    "    X=df.drop('isFraud',axis=1)\n",
    "    y=df['isFraud']\n",
    "    \n",
    "    X_train4, X_test4, y_train4, y_test4 = train_test_split(X, y, test_size = 0.2, random_state = 30) \n",
    "    \n",
    "    X_res_train, y_res_train = algo_smote_Tomek(X_train4, y_train4)\n",
    "    \n",
    "    return X_res_train, y_res_train,X_test4,y_test4"
   ]
  },
  {
   "cell_type": "code",
   "execution_count": 12,
   "id": "21c9706d",
   "metadata": {
    "scrolled": true
   },
   "outputs": [],
   "source": [
    "X_train_rold, y_train_rold,X_test_rold,y_test_rold=preprocess_rien_old(fraudes_old_r)"
   ]
  },
  {
   "cell_type": "code",
   "execution_count": 16,
   "id": "2b19ed90",
   "metadata": {},
   "outputs": [],
   "source": [
    "X_train_sold, y_train_sold,X_test_sold,y_test_sold=preprocess_SMOTE_old(fraudes_old_s)"
   ]
  },
  {
   "cell_type": "markdown",
   "id": "884863a9",
   "metadata": {},
   "source": [
    "**recall precision**"
   ]
  },
  {
   "cell_type": "code",
   "execution_count": null,
   "id": "d78fa6dc",
   "metadata": {},
   "outputs": [],
   "source": [
    "test_model(cad_3,X_train_rold,X_test_rold,y_train_rold,y_test_rold)"
   ]
  },
  {
   "cell_type": "code",
   "execution_count": 23,
   "id": "04f1f33d",
   "metadata": {
    "scrolled": false
   },
   "outputs": [
    {
     "name": "stdout",
     "output_type": "stream",
     "text": [
      "f1 score= 0.536225951698731\n",
      "precision= 0.8440721649484536\n",
      "recall= 0.3929214157168566\n",
      "roc_auc= 0.6963511887468907\n"
     ]
    }
   ],
   "source": [
    "predictions_cad_rold=cad_3.predict(X_test_rold)\n",
    "métriques(predictions_cad_rold,y_test_rold)"
   ]
  },
  {
   "cell_type": "code",
   "execution_count": 24,
   "id": "775effa8",
   "metadata": {
    "scrolled": true
   },
   "outputs": [
    {
     "data": {
      "text/plain": [
       "<sklearn.metrics._plot.precision_recall_curve.PrecisionRecallDisplay at 0x2178550beb0>"
      ]
     },
     "execution_count": 24,
     "metadata": {},
     "output_type": "execute_result"
    },
    {
     "data": {
      "image/png": "[encoded data removed]",
      "text/plain": [
       "<Figure size 432x288 with 1 Axes>"
      ]
     },
     "metadata": {
      "needs_background": "light"
     },
     "output_type": "display_data"
    }
   ],
   "source": [
    "plot_precision_recall_curve(cad_3,X_test_rold,y_test_rold)"
   ]
  },
  {
   "cell_type": "markdown",
   "id": "8674f74d",
   "metadata": {},
   "source": [
    "**tentative de creer un graphique des courbes de precision et de recall en fonction du seuil**"
   ]
  },
  {
   "cell_type": "code",
   "execution_count": null,
   "id": "44c5fe91",
   "metadata": {},
   "outputs": [],
   "source": [
    "y_scores_rold=cross_val_predict(cad_3,X_train_rold,y_train_rold,cv=3,method=\"predict_proba\")"
   ]
  },
  {
   "cell_type": "code",
   "execution_count": 26,
   "id": "94b53e26",
   "metadata": {
    "scrolled": true
   },
   "outputs": [],
   "source": [
    "precisions_rold,recalls_rold,seuils_rold=precision_recall_curve(y_train_rold,y_scores_rold[:,1])"
   ]
  },
  {
   "cell_type": "code",
   "execution_count": 27,
   "id": "adbe376e",
   "metadata": {
    "scrolled": false
   },
   "outputs": [
    {
     "data": {
      "text/plain": [
       "Text(0.5, 0, 'seuil')"
      ]
     },
     "execution_count": 27,
     "metadata": {},
     "output_type": "execute_result"
    },
    {
     "data": {
      "image/png": "[encoded data removed]",
      "text/plain": [
       "<Figure size 432x288 with 1 Axes>"
      ]
     },
     "metadata": {
      "needs_background": "light"
     },
     "output_type": "display_data"
    }
   ],
   "source": [
    "plt.figure()\n",
    "plt.plot(seuils_rold,precisions_rold[:-1],'b--',label=\"Precision\")\n",
    "plt.plot(seuils_rold,recalls_rold[:-1],\"g-\",label=\"Rappel\")\n",
    "plt.legend()\n",
    "plt.xlabel('seuil')"
   ]
  },
  {
   "cell_type": "markdown",
   "id": "9e48a3ea",
   "metadata": {},
   "source": [
    "**changement du threshold**"
   ]
  },
  {
   "cell_type": "code",
   "execution_count": 28,
   "id": "fe0efe56",
   "metadata": {},
   "outputs": [],
   "source": [
    "results_rold=cad_3.predict_proba(X_test_rold)"
   ]
  },
  {
   "cell_type": "code",
   "execution_count": 77,
   "id": "d0c57629",
   "metadata": {
    "scrolled": true
   },
   "outputs": [],
   "source": [
    "seuil=0.0002\n",
    "result_réajusté_rold=(results_rold[:,1]>seuil)"
   ]
  },
  {
   "cell_type": "code",
   "execution_count": 78,
   "id": "d494759a",
   "metadata": {
    "scrolled": false
   },
   "outputs": [
    {
     "data": {
      "text/plain": [
       "<sklearn.metrics._plot.confusion_matrix.ConfusionMatrixDisplay at 0x21875aeb7c0>"
      ]
     },
     "execution_count": 78,
     "metadata": {},
     "output_type": "execute_result"
    },
    {
     "data": {
      "image/png": "[encoded data removed]",
      "text/plain": [
       "<Figure size 432x288 with 2 Axes>"
      ]
     },
     "metadata": {
      "needs_background": "light"
     },
     "output_type": "display_data"
    }
   ],
   "source": [
    "matrice_rold=confusion_matrix(y_test_rold,result_réajusté_rold)\n",
    "ConfusionMatrixDisplay(confusion_matrix=matrice_rold).plot()"
   ]
  },
  {
   "cell_type": "code",
   "execution_count": 79,
   "id": "9e376e72",
   "metadata": {
    "scrolled": true
   },
   "outputs": [
    {
     "name": "stdout",
     "output_type": "stream",
     "text": [
      "f1 score= 0.008689781166845387\n",
      "precision= 0.00436415277992011\n",
      "recall= 0.9844031193761248\n",
      "roc_auc= 0.6533467132410977\n"
     ]
    }
   ],
   "source": [
    "métriques(result_réajusté_rold,y_test_rold)"
   ]
  },
  {
   "cell_type": "markdown",
   "id": "40d69278",
   "metadata": {},
   "source": [
    "**Compromis recall/précision (avec SMOTE_Tomek)**"
   ]
  },
  {
   "cell_type": "code",
   "execution_count": null,
   "id": "69c71b04",
   "metadata": {},
   "outputs": [],
   "source": [
    "test_model(cad_4,X_train_sold,X_test_sold,y_train_sold,y_test_sold)"
   ]
  },
  {
   "cell_type": "code",
   "execution_count": 34,
   "id": "1c152772",
   "metadata": {},
   "outputs": [
    {
     "name": "stdout",
     "output_type": "stream",
     "text": [
      "f1 score= 0.10047573739295908\n",
      "precision= 0.05364109232769831\n",
      "recall= 0.7918416316736653\n",
      "roc_auc= 0.874842459890669\n"
     ]
    }
   ],
   "source": [
    "predictions_cat_sold=cad_4.predict(X_test_sold)\n",
    "métriques(predictions_cat_sold,y_test_sold)"
   ]
  },
  {
   "cell_type": "code",
   "execution_count": 35,
   "id": "5107118f",
   "metadata": {
    "scrolled": true
   },
   "outputs": [
    {
     "data": {
      "text/plain": [
       "<sklearn.metrics._plot.precision_recall_curve.PrecisionRecallDisplay at 0x2187530cd00>"
      ]
     },
     "execution_count": 35,
     "metadata": {},
     "output_type": "execute_result"
    },
    {
     "data": {
      "image/png": "[encoded data removed]",
      "text/plain": [
       "<Figure size 432x288 with 1 Axes>"
      ]
     },
     "metadata": {
      "needs_background": "light"
     },
     "output_type": "display_data"
    }
   ],
   "source": [
    "plot_precision_recall_curve(cad_4,X_test_sold,y_test_sold)"
   ]
  },
  {
   "cell_type": "code",
   "execution_count": null,
   "id": "8f5c6601",
   "metadata": {},
   "outputs": [],
   "source": [
    "y_scores_smote_sold=cross_val_predict(cad_4,X_train_sold,y_train_sold,cv=3,method=\"predict_proba\")"
   ]
  },
  {
   "cell_type": "code",
   "execution_count": 39,
   "id": "6fbc03c7",
   "metadata": {
    "scrolled": true
   },
   "outputs": [],
   "source": [
    "precisions_smote_sold,recalls_smote_sold,seuils_smote_sold=precision_recall_curve(y_train_sold,y_scores_smote_sold[:,1])"
   ]
  },
  {
   "cell_type": "code",
   "execution_count": 40,
   "id": "69e804c7",
   "metadata": {
    "scrolled": false
   },
   "outputs": [
    {
     "data": {
      "text/plain": [
       "Text(0.5, 0, 'seuil')"
      ]
     },
     "execution_count": 40,
     "metadata": {},
     "output_type": "execute_result"
    },
    {
     "data": {
      "image/png": "[encoded data removed]",
      "text/plain": [
       "<Figure size 432x288 with 1 Axes>"
      ]
     },
     "metadata": {
      "needs_background": "light"
     },
     "output_type": "display_data"
    }
   ],
   "source": [
    "plt.figure()\n",
    "plt.plot(seuils_smote_sold,precisions_smote_sold[:-1],'b--',label=\"Precision\")\n",
    "plt.plot(seuils_smote_sold,recalls_smote_sold[:-1],\"g-\",label=\"Rappel\")\n",
    "plt.legend()\n",
    "plt.xlabel('seuil')"
   ]
  },
  {
   "cell_type": "code",
   "execution_count": 41,
   "id": "adfd3855",
   "metadata": {},
   "outputs": [],
   "source": [
    "results_smote_sold=cad_4.predict_proba(X_test_sold)"
   ]
  },
  {
   "cell_type": "code",
   "execution_count": 57,
   "id": "9cd465a3",
   "metadata": {},
   "outputs": [],
   "source": [
    "seuil=0.5\n",
    "result_réajusté_smote_sold=(results_smote_sold[:,1]>seuil)"
   ]
  },
  {
   "cell_type": "code",
   "execution_count": 60,
   "id": "a4dc5de6",
   "metadata": {
    "scrolled": false
   },
   "outputs": [
    {
     "data": {
      "text/plain": [
       "<sklearn.metrics._plot.confusion_matrix.ConfusionMatrixDisplay at 0x218754dcf70>"
      ]
     },
     "execution_count": 60,
     "metadata": {},
     "output_type": "execute_result"
    },
    {
     "data": {
      "image/png": "[encoded data removed]",
      "text/plain": [
       "<Figure size 432x288 with 2 Axes>"
      ]
     },
     "metadata": {
      "needs_background": "light"
     },
     "output_type": "display_data"
    }
   ],
   "source": [
    "matrice_sold=confusion_matrix(y_test_sold,result_réajusté_smote_sold)\n",
    "ConfusionMatrixDisplay(confusion_matrix=matrice_sold).plot()"
   ]
  },
  {
   "cell_type": "code",
   "execution_count": 61,
   "id": "6682d017",
   "metadata": {
    "scrolled": true
   },
   "outputs": [
    {
     "name": "stdout",
     "output_type": "stream",
     "text": [
      "f1 score= 0.008724182851088901\n",
      "precision= 0.004381833039672693\n",
      "recall= 0.9682063587282543\n",
      "roc_auc= 0.6521742853261303\n"
     ]
    }
   ],
   "source": [
    "métriques(result_réajusté_smote_sold,y_test_sold)"
   ]
  },
  {
   "cell_type": "markdown",
   "id": "8c79cd82",
   "metadata": {},
   "source": [
    "## 3)  comment trouver des fraudes de manière quasi sûre"
   ]
  },
  {
   "cell_type": "markdown",
   "id": "8c262232",
   "metadata": {},
   "source": [
    "**mise en évidence d'un façon simple de detecter des fraudes**"
   ]
  },
  {
   "cell_type": "markdown",
   "id": "d262c322",
   "metadata": {},
   "source": [
    "On retrouve un pattern dans la grande majorité des fraudes du dataset. Nous allons montrer qu'en exploitant ce pattern, il est possible de créer un excellent modèle"
   ]
  },
  {
   "cell_type": "code",
   "execution_count": 24,
   "id": "596083c6",
   "metadata": {},
   "outputs": [],
   "source": [
    "fraudes_test=fraudes.copy()"
   ]
  },
  {
   "cell_type": "code",
   "execution_count": null,
   "id": "244de8fe",
   "metadata": {},
   "outputs": [],
   "source": [
    "fraudes_test=retirer_transactions(fraudes_test)\n",
    "fraudes_test['rapport']=fraudes_test['amount']/fraudes_test['oldbalanceOrg']"
   ]
  },
  {
   "cell_type": "markdown",
   "id": "92e52e25",
   "metadata": {},
   "source": [
    "On peut montrer que la grande majorité des fraudes ont un rapport égal à 1.\n",
    "Ce sont toutes les fraudes qui arrivent par paires"
   ]
  },
  {
   "cell_type": "code",
   "execution_count": 40,
   "id": "bde97665",
   "metadata": {},
   "outputs": [],
   "source": [
    "only_fraudes=fraudes_test[fraudes_test['isFraud']==1]"
   ]
  },
  {
   "cell_type": "code",
   "execution_count": 43,
   "id": "6070bc2f",
   "metadata": {},
   "outputs": [
    {
     "data": {
      "text/html": [
       "<div>\n",
       "<style scoped>\n",
       "    .dataframe tbody tr th:only-of-type {\n",
       "        vertical-align: middle;\n",
       "    }\n",
       "\n",
       "    .dataframe tbody tr th {\n",
       "        vertical-align: top;\n",
       "    }\n",
       "\n",
       "    .dataframe thead th {\n",
       "        text-align: right;\n",
       "    }\n",
       "</style>\n",
       "<table border=\"1\" class=\"dataframe\">\n",
       "  <thead>\n",
       "    <tr style=\"text-align: right;\">\n",
       "      <th></th>\n",
       "      <th>step</th>\n",
       "      <th>type</th>\n",
       "      <th>amount</th>\n",
       "      <th>nameOrig</th>\n",
       "      <th>oldbalanceOrg</th>\n",
       "      <th>newbalanceOrig</th>\n",
       "      <th>nameDest</th>\n",
       "      <th>oldbalanceDest</th>\n",
       "      <th>newbalanceDest</th>\n",
       "      <th>isFraud</th>\n",
       "      <th>isFlaggedFraud</th>\n",
       "      <th>rapport</th>\n",
       "    </tr>\n",
       "  </thead>\n",
       "  <tbody>\n",
       "    <tr>\n",
       "      <th>4440</th>\n",
       "      <td>4</td>\n",
       "      <td>TRANSFER</td>\n",
       "      <td>10000000.00</td>\n",
       "      <td>C7162498</td>\n",
       "      <td>12930418.44</td>\n",
       "      <td>2930418.44</td>\n",
       "      <td>C945327594</td>\n",
       "      <td>0.00</td>\n",
       "      <td>0.00</td>\n",
       "      <td>1</td>\n",
       "      <td>0</td>\n",
       "      <td>0.773370</td>\n",
       "    </tr>\n",
       "    <tr>\n",
       "      <th>60853</th>\n",
       "      <td>9</td>\n",
       "      <td>TRANSFER</td>\n",
       "      <td>994453.20</td>\n",
       "      <td>C1121789613</td>\n",
       "      <td>1437370.87</td>\n",
       "      <td>442917.67</td>\n",
       "      <td>C254839817</td>\n",
       "      <td>194812.76</td>\n",
       "      <td>665743.67</td>\n",
       "      <td>1</td>\n",
       "      <td>0</td>\n",
       "      <td>0.691856</td>\n",
       "    </tr>\n",
       "    <tr>\n",
       "      <th>377151</th>\n",
       "      <td>17</td>\n",
       "      <td>CASH_OUT</td>\n",
       "      <td>42062.82</td>\n",
       "      <td>C897869440</td>\n",
       "      <td>340830.43</td>\n",
       "      <td>298767.61</td>\n",
       "      <td>C616721459</td>\n",
       "      <td>398931.35</td>\n",
       "      <td>678419.64</td>\n",
       "      <td>1</td>\n",
       "      <td>0</td>\n",
       "      <td>0.123413</td>\n",
       "    </tr>\n",
       "    <tr>\n",
       "      <th>481250</th>\n",
       "      <td>19</td>\n",
       "      <td>TRANSFER</td>\n",
       "      <td>10000000.00</td>\n",
       "      <td>C416779475</td>\n",
       "      <td>11861008.32</td>\n",
       "      <td>1861008.32</td>\n",
       "      <td>C380259496</td>\n",
       "      <td>0.00</td>\n",
       "      <td>0.00</td>\n",
       "      <td>1</td>\n",
       "      <td>0</td>\n",
       "      <td>0.843099</td>\n",
       "    </tr>\n",
       "    <tr>\n",
       "      <th>586311</th>\n",
       "      <td>33</td>\n",
       "      <td>TRANSFER</td>\n",
       "      <td>10000000.00</td>\n",
       "      <td>C1439740840</td>\n",
       "      <td>19887819.06</td>\n",
       "      <td>9887819.06</td>\n",
       "      <td>C875288652</td>\n",
       "      <td>0.00</td>\n",
       "      <td>0.00</td>\n",
       "      <td>1</td>\n",
       "      <td>0</td>\n",
       "      <td>0.502820</td>\n",
       "    </tr>\n",
       "    <tr>\n",
       "      <th>...</th>\n",
       "      <td>...</td>\n",
       "      <td>...</td>\n",
       "      <td>...</td>\n",
       "      <td>...</td>\n",
       "      <td>...</td>\n",
       "      <td>...</td>\n",
       "      <td>...</td>\n",
       "      <td>...</td>\n",
       "      <td>...</td>\n",
       "      <td>...</td>\n",
       "      <td>...</td>\n",
       "      <td>...</td>\n",
       "    </tr>\n",
       "    <tr>\n",
       "      <th>6362528</th>\n",
       "      <td>736</td>\n",
       "      <td>TRANSFER</td>\n",
       "      <td>10000000.00</td>\n",
       "      <td>C412961249</td>\n",
       "      <td>11314660.84</td>\n",
       "      <td>1314660.84</td>\n",
       "      <td>C253674970</td>\n",
       "      <td>0.00</td>\n",
       "      <td>0.00</td>\n",
       "      <td>1</td>\n",
       "      <td>0</td>\n",
       "      <td>0.883809</td>\n",
       "    </tr>\n",
       "    <tr>\n",
       "      <th>6362576</th>\n",
       "      <td>741</td>\n",
       "      <td>TRANSFER</td>\n",
       "      <td>10000000.00</td>\n",
       "      <td>C780743034</td>\n",
       "      <td>45674547.89</td>\n",
       "      <td>35674547.89</td>\n",
       "      <td>C491519946</td>\n",
       "      <td>0.00</td>\n",
       "      <td>0.00</td>\n",
       "      <td>1</td>\n",
       "      <td>0</td>\n",
       "      <td>0.218940</td>\n",
       "    </tr>\n",
       "    <tr>\n",
       "      <th>6362578</th>\n",
       "      <td>741</td>\n",
       "      <td>TRANSFER</td>\n",
       "      <td>10000000.00</td>\n",
       "      <td>C1111699947</td>\n",
       "      <td>35674547.89</td>\n",
       "      <td>25674547.89</td>\n",
       "      <td>C949015157</td>\n",
       "      <td>0.00</td>\n",
       "      <td>0.00</td>\n",
       "      <td>1</td>\n",
       "      <td>0</td>\n",
       "      <td>0.280312</td>\n",
       "    </tr>\n",
       "    <tr>\n",
       "      <th>6362580</th>\n",
       "      <td>741</td>\n",
       "      <td>TRANSFER</td>\n",
       "      <td>10000000.00</td>\n",
       "      <td>C88849251</td>\n",
       "      <td>25674547.89</td>\n",
       "      <td>15674547.89</td>\n",
       "      <td>C1939028448</td>\n",
       "      <td>0.00</td>\n",
       "      <td>0.00</td>\n",
       "      <td>1</td>\n",
       "      <td>0</td>\n",
       "      <td>0.389491</td>\n",
       "    </tr>\n",
       "    <tr>\n",
       "      <th>6362582</th>\n",
       "      <td>741</td>\n",
       "      <td>TRANSFER</td>\n",
       "      <td>10000000.00</td>\n",
       "      <td>C1945606464</td>\n",
       "      <td>15674547.89</td>\n",
       "      <td>5674547.89</td>\n",
       "      <td>C625944676</td>\n",
       "      <td>0.00</td>\n",
       "      <td>0.00</td>\n",
       "      <td>1</td>\n",
       "      <td>0</td>\n",
       "      <td>0.637977</td>\n",
       "    </tr>\n",
       "  </tbody>\n",
       "</table>\n",
       "<p>150 rows × 12 columns</p>\n",
       "</div>"
      ],
      "text/plain": [
       "         step      type       amount     nameOrig  oldbalanceOrg  \\\n",
       "4440        4  TRANSFER  10000000.00     C7162498    12930418.44   \n",
       "60853       9  TRANSFER    994453.20  C1121789613     1437370.87   \n",
       "377151     17  CASH_OUT     42062.82   C897869440      340830.43   \n",
       "481250     19  TRANSFER  10000000.00   C416779475    11861008.32   \n",
       "586311     33  TRANSFER  10000000.00  C1439740840    19887819.06   \n",
       "...       ...       ...          ...          ...            ...   \n",
       "6362528   736  TRANSFER  10000000.00   C412961249    11314660.84   \n",
       "6362576   741  TRANSFER  10000000.00   C780743034    45674547.89   \n",
       "6362578   741  TRANSFER  10000000.00  C1111699947    35674547.89   \n",
       "6362580   741  TRANSFER  10000000.00    C88849251    25674547.89   \n",
       "6362582   741  TRANSFER  10000000.00  C1945606464    15674547.89   \n",
       "\n",
       "         newbalanceOrig     nameDest  oldbalanceDest  newbalanceDest  isFraud  \\\n",
       "4440         2930418.44   C945327594            0.00            0.00        1   \n",
       "60853         442917.67   C254839817       194812.76       665743.67        1   \n",
       "377151        298767.61   C616721459       398931.35       678419.64        1   \n",
       "481250       1861008.32   C380259496            0.00            0.00        1   \n",
       "586311       9887819.06   C875288652            0.00            0.00        1   \n",
       "...                 ...          ...             ...             ...      ...   \n",
       "6362528      1314660.84   C253674970            0.00            0.00        1   \n",
       "6362576     35674547.89   C491519946            0.00            0.00        1   \n",
       "6362578     25674547.89   C949015157            0.00            0.00        1   \n",
       "6362580     15674547.89  C1939028448            0.00            0.00        1   \n",
       "6362582      5674547.89   C625944676            0.00            0.00        1   \n",
       "\n",
       "         isFlaggedFraud   rapport  \n",
       "4440                  0  0.773370  \n",
       "60853                 0  0.691856  \n",
       "377151                0  0.123413  \n",
       "481250                0  0.843099  \n",
       "586311                0  0.502820  \n",
       "...                 ...       ...  \n",
       "6362528               0  0.883809  \n",
       "6362576               0  0.218940  \n",
       "6362578               0  0.280312  \n",
       "6362580               0  0.389491  \n",
       "6362582               0  0.637977  \n",
       "\n",
       "[150 rows x 12 columns]"
      ]
     },
     "execution_count": 43,
     "metadata": {},
     "output_type": "execute_result"
    }
   ],
   "source": [
    "only_fraudes[only_fraudes['rapport']<1]"
   ]
  },
  {
   "cell_type": "code",
   "execution_count": null,
   "id": "2145a74d",
   "metadata": {},
   "outputs": [],
   "source": [
    "only_fraudes[only_fraudes['rapport']>1]"
   ]
  },
  {
   "cell_type": "markdown",
   "id": "540c6660",
   "metadata": {},
   "source": [
    "A l'inverse, aucunes des transactions qui ne sont pas des fraudes ont un rapport égal à 1"
   ]
  },
  {
   "cell_type": "code",
   "execution_count": 46,
   "id": "69d9b99c",
   "metadata": {},
   "outputs": [],
   "source": [
    "not_fraudes=fraudes_test[fraudes_test['isFraud']==0]"
   ]
  },
  {
   "cell_type": "code",
   "execution_count": 50,
   "id": "7580a758",
   "metadata": {
    "scrolled": true
   },
   "outputs": [
    {
     "data": {
      "text/html": [
       "<div>\n",
       "<style scoped>\n",
       "    .dataframe tbody tr th:only-of-type {\n",
       "        vertical-align: middle;\n",
       "    }\n",
       "\n",
       "    .dataframe tbody tr th {\n",
       "        vertical-align: top;\n",
       "    }\n",
       "\n",
       "    .dataframe thead th {\n",
       "        text-align: right;\n",
       "    }\n",
       "</style>\n",
       "<table border=\"1\" class=\"dataframe\">\n",
       "  <thead>\n",
       "    <tr style=\"text-align: right;\">\n",
       "      <th></th>\n",
       "      <th>step</th>\n",
       "      <th>type</th>\n",
       "      <th>amount</th>\n",
       "      <th>nameOrig</th>\n",
       "      <th>oldbalanceOrg</th>\n",
       "      <th>newbalanceOrig</th>\n",
       "      <th>nameDest</th>\n",
       "      <th>oldbalanceDest</th>\n",
       "      <th>newbalanceDest</th>\n",
       "      <th>isFraud</th>\n",
       "      <th>isFlaggedFraud</th>\n",
       "      <th>rapport</th>\n",
       "    </tr>\n",
       "  </thead>\n",
       "  <tbody>\n",
       "  </tbody>\n",
       "</table>\n",
       "</div>"
      ],
      "text/plain": [
       "Empty DataFrame\n",
       "Columns: [step, type, amount, nameOrig, oldbalanceOrg, newbalanceOrig, nameDest, oldbalanceDest, newbalanceDest, isFraud, isFlaggedFraud, rapport]\n",
       "Index: []"
      ]
     },
     "execution_count": 50,
     "metadata": {},
     "output_type": "execute_result"
    }
   ],
   "source": [
    "not_fraudes[not_fraudes['rapport']==1]"
   ]
  },
  {
   "cell_type": "markdown",
   "id": "30f0bc57",
   "metadata": {},
   "source": [
    "On peut donc facilement créer une fonction qui catégorise comme fraudes toutes les transactions dont le rapport est égal à 1.\n",
    "On obtient le resultats suivant:"
   ]
  },
  {
   "cell_type": "code",
   "execution_count": 85,
   "id": "c0dd2d0d",
   "metadata": {
    "scrolled": true
   },
   "outputs": [
    {
     "name": "stdout",
     "output_type": "stream",
     "text": [
      "f1 score= 0.9879859528063581\n",
      "precision= 1.0\n",
      "recall= 0.976257153293559\n"
     ]
    }
   ],
   "source": [
    "def modèle_triche(X):\n",
    "    X=retirer_transactions(X)\n",
    "    y=X['isFraud']\n",
    "    X.drop('isFraud',inplace=True,axis=1)\n",
    "    X['rapport']=X['amount']/X['oldbalanceOrg']\n",
    "    resultats=X['rapport']==1\n",
    "    resultats[resultats==True]=1\n",
    "    resultats[resultats==False]=0\n",
    "    métriques(resultats,y)\n",
    "    #ConfusionMatrixDisplay(confusion_matrix(y,resultats)).plot()\n",
    "\n",
    "modèle_triche(fraudes)"
   ]
  },
  {
   "cell_type": "markdown",
   "id": "82f075c3",
   "metadata": {},
   "source": [
    "on obtient une prédiction parfaite et un excellent recall\n",
    "\n",
    "Il vaudrait donc mieux enlever toutes les transactions ayant un rapport=1, comme nous savons à coup sur que ce sont des fraudes"
   ]
  },
  {
   "cell_type": "markdown",
   "id": "261d77e5",
   "metadata": {},
   "source": [
    "**Test du modèle CATboost sans les fraudes avec un rapport de 1**"
   ]
  },
  {
   "cell_type": "code",
   "execution_count": 91,
   "id": "5b7fefda",
   "metadata": {},
   "outputs": [
    {
     "data": {
      "text/plain": [
       "0    2762196\n",
       "1        195\n",
       "Name: isFraud, dtype: int64"
      ]
     },
     "execution_count": 91,
     "metadata": {},
     "output_type": "execute_result"
    }
   ],
   "source": [
    "lessfraudes=fraudes.copy()\n",
    "lessfraudes=retirer_transactions(lessfraudes)\n",
    "lessfraudes['rapport']=lessfraudes['amount']/lessfraudes['oldbalanceOrg']\n",
    "\n",
    "lessfraudes=lessfraudes[lessfraudes['rapport']!=1]\n",
    "lessfraudes['isFraud'].value_counts()"
   ]
  },
  {
   "cell_type": "code",
   "execution_count": null,
   "id": "b1b23c04",
   "metadata": {},
   "outputs": [],
   "source": [
    "lessfraudes=enlever_colonnes(lessfraudes)\n",
    "lessfraudes=encoder(lessfraudes)\n",
    "lessfraudes=scaler(lessfraudes)\n",
    "    \n",
    "    \n",
    "X_less=lessfraudes.drop('isFraud',axis=1)\n",
    "y_less=lessfraudes['isFraud']\n",
    "    "
   ]
  },
  {
   "cell_type": "code",
   "execution_count": 108,
   "id": "ea90c2c8",
   "metadata": {},
   "outputs": [],
   "source": [
    "X_train_less, X_test_less, y_train_less, y_test_less = train_test_split(X_less, y_less, test_size = 0.2, random_state = 30) "
   ]
  },
  {
   "cell_type": "code",
   "execution_count": 109,
   "id": "a5eecc38",
   "metadata": {},
   "outputs": [
    {
     "data": {
      "text/html": [
       "<div>\n",
       "<style scoped>\n",
       "    .dataframe tbody tr th:only-of-type {\n",
       "        vertical-align: middle;\n",
       "    }\n",
       "\n",
       "    .dataframe tbody tr th {\n",
       "        vertical-align: top;\n",
       "    }\n",
       "\n",
       "    .dataframe thead th {\n",
       "        text-align: right;\n",
       "    }\n",
       "</style>\n",
       "<table border=\"1\" class=\"dataframe\">\n",
       "  <thead>\n",
       "    <tr style=\"text-align: right;\">\n",
       "      <th></th>\n",
       "      <th>amount</th>\n",
       "      <th>oldbalanceOrg</th>\n",
       "      <th>oldbalanceDest</th>\n",
       "      <th>rapport</th>\n",
       "      <th>heures</th>\n",
       "      <th>is_Cash_OUT</th>\n",
       "    </tr>\n",
       "  </thead>\n",
       "  <tbody>\n",
       "    <tr>\n",
       "      <th>2354293</th>\n",
       "      <td>-0.210885</td>\n",
       "      <td>2.337490</td>\n",
       "      <td>-0.298836</td>\n",
       "      <td>1.715804</td>\n",
       "      <td>0.857143</td>\n",
       "      <td>0</td>\n",
       "    </tr>\n",
       "    <tr>\n",
       "      <th>5060395</th>\n",
       "      <td>-0.670628</td>\n",
       "      <td>0.320669</td>\n",
       "      <td>-0.060663</td>\n",
       "      <td>2.108868</td>\n",
       "      <td>0.285714</td>\n",
       "      <td>0</td>\n",
       "    </tr>\n",
       "    <tr>\n",
       "      <th>3546419</th>\n",
       "      <td>-0.165625</td>\n",
       "      <td>8.379818</td>\n",
       "      <td>0.772364</td>\n",
       "      <td>0.519054</td>\n",
       "      <td>0.571429</td>\n",
       "      <td>0</td>\n",
       "    </tr>\n",
       "    <tr>\n",
       "      <th>2621797</th>\n",
       "      <td>-0.621734</td>\n",
       "      <td>-0.009190</td>\n",
       "      <td>0.432034</td>\n",
       "      <td>inf</td>\n",
       "      <td>0.000000</td>\n",
       "      <td>0</td>\n",
       "    </tr>\n",
       "    <tr>\n",
       "      <th>4033490</th>\n",
       "      <td>88.461723</td>\n",
       "      <td>-0.009190</td>\n",
       "      <td>20.042123</td>\n",
       "      <td>inf</td>\n",
       "      <td>-0.714286</td>\n",
       "      <td>1</td>\n",
       "    </tr>\n",
       "    <tr>\n",
       "      <th>...</th>\n",
       "      <td>...</td>\n",
       "      <td>...</td>\n",
       "      <td>...</td>\n",
       "      <td>...</td>\n",
       "      <td>...</td>\n",
       "      <td>...</td>\n",
       "    </tr>\n",
       "    <tr>\n",
       "      <th>4751932</th>\n",
       "      <td>-0.452181</td>\n",
       "      <td>7.296026</td>\n",
       "      <td>4.435089</td>\n",
       "      <td>0.311868</td>\n",
       "      <td>0.714286</td>\n",
       "      <td>0</td>\n",
       "    </tr>\n",
       "    <tr>\n",
       "      <th>5566996</th>\n",
       "      <td>0.847969</td>\n",
       "      <td>0.145966</td>\n",
       "      <td>0.138552</td>\n",
       "      <td>75.394018</td>\n",
       "      <td>-1.000000</td>\n",
       "      <td>0</td>\n",
       "    </tr>\n",
       "    <tr>\n",
       "      <th>1303536</th>\n",
       "      <td>0.868312</td>\n",
       "      <td>-0.009190</td>\n",
       "      <td>0.275473</td>\n",
       "      <td>inf</td>\n",
       "      <td>0.000000</td>\n",
       "      <td>0</td>\n",
       "    </tr>\n",
       "    <tr>\n",
       "      <th>4748855</th>\n",
       "      <td>0.169187</td>\n",
       "      <td>-0.009190</td>\n",
       "      <td>0.176684</td>\n",
       "      <td>inf</td>\n",
       "      <td>0.714286</td>\n",
       "      <td>0</td>\n",
       "    </tr>\n",
       "    <tr>\n",
       "      <th>5795016</th>\n",
       "      <td>0.718431</td>\n",
       "      <td>-0.009190</td>\n",
       "      <td>5.561052</td>\n",
       "      <td>inf</td>\n",
       "      <td>0.142857</td>\n",
       "      <td>0</td>\n",
       "    </tr>\n",
       "  </tbody>\n",
       "</table>\n",
       "<p>2209912 rows × 6 columns</p>\n",
       "</div>"
      ],
      "text/plain": [
       "            amount  oldbalanceOrg  oldbalanceDest    rapport    heures  \\\n",
       "2354293  -0.210885       2.337490       -0.298836   1.715804  0.857143   \n",
       "5060395  -0.670628       0.320669       -0.060663   2.108868  0.285714   \n",
       "3546419  -0.165625       8.379818        0.772364   0.519054  0.571429   \n",
       "2621797  -0.621734      -0.009190        0.432034        inf  0.000000   \n",
       "4033490  88.461723      -0.009190       20.042123        inf -0.714286   \n",
       "...            ...            ...             ...        ...       ...   \n",
       "4751932  -0.452181       7.296026        4.435089   0.311868  0.714286   \n",
       "5566996   0.847969       0.145966        0.138552  75.394018 -1.000000   \n",
       "1303536   0.868312      -0.009190        0.275473        inf  0.000000   \n",
       "4748855   0.169187      -0.009190        0.176684        inf  0.714286   \n",
       "5795016   0.718431      -0.009190        5.561052        inf  0.142857   \n",
       "\n",
       "         is_Cash_OUT  \n",
       "2354293            0  \n",
       "5060395            0  \n",
       "3546419            0  \n",
       "2621797            0  \n",
       "4033490            1  \n",
       "...              ...  \n",
       "4751932            0  \n",
       "5566996            0  \n",
       "1303536            0  \n",
       "4748855            0  \n",
       "5795016            0  \n",
       "\n",
       "[2209912 rows x 6 columns]"
      ]
     },
     "execution_count": 109,
     "metadata": {},
     "output_type": "execute_result"
    }
   ],
   "source": [
    "X_train_less"
   ]
  },
  {
   "cell_type": "code",
   "execution_count": null,
   "id": "fd516fcc",
   "metadata": {},
   "outputs": [],
   "source": [
    "test_model(cad,X_train_less, X_test_less, y_train_less, y_test_less)"
   ]
  },
  {
   "cell_type": "code",
   "execution_count": 112,
   "id": "dd08ee5f",
   "metadata": {
    "scrolled": true
   },
   "outputs": [
    {
     "name": "stdout",
     "output_type": "stream",
     "text": [
      "f1 score= 0.875\n",
      "precision= 0.9032258064516129\n",
      "recall= 0.8484848484848485\n"
     ]
    }
   ],
   "source": [
    "predictions_cad_less=cad.predict(X_test_less)\n",
    "métriques(predictions_cad_less,y_test_less)"
   ]
  },
  {
   "cell_type": "markdown",
   "id": "bde85956",
   "metadata": {},
   "source": [
    "Les resultats sont plutôt bons, mais on se confronte à un problème de manque de données ( seulement 36 fraudes dans le testset)\n",
    "Dans ces conditions, il n'y a sans peut être pas d'intêret à continuer l'analyse"
   ]
  },
  {
   "cell_type": "markdown",
   "id": "87ede228",
   "metadata": {},
   "source": [
    "## 4) Autres tests pas aboutis"
   ]
  },
  {
   "cell_type": "markdown",
   "id": "e4bb04d1",
   "metadata": {},
   "source": [
    "#### Learning curves \n",
    "(test)"
   ]
  },
  {
   "cell_type": "code",
   "execution_count": 99,
   "id": "588faf85",
   "metadata": {},
   "outputs": [],
   "source": [
    "N, train_score, val_score=learning_curve(arbre,X_res_train, y_res_train,train_sizes=np.linspace(0.1,1.0,15),cv=3)"
   ]
  },
  {
   "cell_type": "code",
   "execution_count": 100,
   "id": "fb03dd8f",
   "metadata": {
    "scrolled": true
   },
   "outputs": [
    {
     "data": {
      "text/plain": [
       "<matplotlib.legend.Legend at 0x21f899dc340>"
      ]
     },
     "execution_count": 100,
     "metadata": {},
     "output_type": "execute_result"
    },
    {
     "data": {
      "image/png": "[encoded data removed]",
      "text/plain": [
       "<Figure size 432x288 with 1 Axes>"
      ]
     },
     "metadata": {
      "needs_background": "light"
     },
     "output_type": "display_data"
    }
   ],
   "source": [
    "plt.figure()\n",
    "plt.plot(N,train_score.mean(axis=1),label='train')\n",
    "plt.plot(N,val_score.mean(axis=1),label='validation')\n",
    "plt.legend()\n",
    "\n",
    "#la courbe d'apprentissage augmente d'à peu pres 30 % entre 500 000 et 3,5 millions de lignes"
   ]
  },
  {
   "cell_type": "markdown",
   "id": "6fb35512",
   "metadata": {},
   "source": [
    "##### creation d'un pipeline"
   ]
  },
  {
   "cell_type": "code",
   "execution_count": 36,
   "id": "7ae744a7",
   "metadata": {
    "scrolled": true
   },
   "outputs": [
    {
     "data": {
      "text/plain": [
       "Pipeline(steps=[('columntransformer',\n",
       "                 ColumnTransformer(transformers=[('onehotencoder',\n",
       "                                                  OneHotEncoder(), ['type']),\n",
       "                                                 ('robustscaler',\n",
       "                                                  RobustScaler(),\n",
       "                                                  ['amount', 'oldbalanceOrg',\n",
       "                                                   'oldbalanceDest',\n",
       "                                                   'heures'])])),\n",
       "                ('decisiontreeclassifier', DecisionTreeClassifier())])"
      ]
     },
     "execution_count": 36,
     "metadata": {},
     "output_type": "execute_result"
    }
   ],
   "source": [
    "dataset=fraudes.copy()\n",
    "\n",
    "\n",
    "heures=dataset.step %24\n",
    "dataset['heures']=heures\n",
    "\n",
    "dataset.drop(['nameOrig','newbalanceOrig','newbalanceDest','isFlaggedFraud','step','nameDest'],axis=1, inplace=True)\n",
    "\n",
    "X=dataset.drop('isFraud',axis=1)\n",
    "y=dataset['isFraud']\n",
    "\n",
    "X_train, X_test, y_train, y_test = train_test_split(X, y, test_size = 0.2, random_state = 30) \n",
    "\n",
    "column_transformer=make_column_transformer((OneHotEncoder(),['type']),(RobustScaler(),['amount','oldbalanceOrg','oldbalanceDest','heures']))\n",
    "\n",
    "\n",
    "model_pipeline=make_pipeline(column_transformer, DecisionTreeClassifier())\n",
    "model_pipeline.fit(X_train, y_train)\n",
    "\n"
   ]
  },
  {
   "cell_type": "markdown",
   "id": "7c24e5e1",
   "metadata": {},
   "source": [
    "**Visualiser un arbre de decision** (test)"
   ]
  },
  {
   "cell_type": "code",
   "execution_count": 64,
   "id": "9cd8a22c",
   "metadata": {},
   "outputs": [],
   "source": [
    "dot_data=tree.export_graphviz(arbre,\n",
    "                feature_names=['amount','oldbalanceOrg','oldbalanceDest','heures','is_Cash_OUT'],\n",
    "                class_names='isFraud',\n",
    "               rounded=True,\n",
    "               filled=True)"
   ]
  },
  {
   "cell_type": "code",
   "execution_count": null,
   "id": "1185f8af",
   "metadata": {},
   "outputs": [],
   "source": [
    "graph=graphviz.Source(dot_data)\n",
    "graph"
   ]
  },
  {
   "cell_type": "code",
   "execution_count": null,
   "id": "0d99d3b2",
   "metadata": {},
   "outputs": [],
   "source": [
    "plot_tree(arbre)"
   ]
  },
  {
   "cell_type": "markdown",
   "id": "865d0af3",
   "metadata": {},
   "source": [
    "# VII) RECAP DE NOS RESULTATS\n",
    "\n",
    "**recall toujours à 98%**"
   ]
  },
  {
   "cell_type": "markdown",
   "id": "99ecc257",
   "metadata": {},
   "source": [
    "\n",
    "<img src='recall fixé à 98%.jpg'>"
   ]
  }
 ],
 "metadata": {
  "kernelspec": {
   "display_name": "Python 3",
   "language": "python",
   "name": "python3"
  },
  "language_info": {
   "codemirror_mode": {
    "name": "ipython",
    "version": 3
   },
   "file_extension": ".py",
   "mimetype": "text/x-python",
   "name": "python",
   "nbconvert_exporter": "python",
   "pygments_lexer": "ipython3",
   "version": "3.8.10"
  }
 },
 "nbformat": 4,
 "nbformat_minor": 5
}
