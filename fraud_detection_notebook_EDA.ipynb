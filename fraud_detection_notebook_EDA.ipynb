{
 "cells": [
  {
   "cell_type": "markdown",
   "metadata": {},
   "source": [
    "# DETECTION DE FRAUDES__EDA"
   ]
  },
  {
   "cell_type": "markdown",
   "metadata": {},
   "source": [
    "Ce notebook présente toute la phase d'EDA dans ce projet"
   ]
  },
  {
   "cell_type": "markdown",
   "metadata": {},
   "source": [
    "Le but de l'EDA (Exploratory Data Analysis) est d'explorer nos données pour mieux les comprendre et se donner une première opinion des modifications qu'il faudra faire durant la face de pre-processing"
   ]
  },
  {
   "cell_type": "markdown",
   "metadata": {},
   "source": [
    "**Problématique: développer un modèle de classification binaire de machine learning pour prédire si une transaction bancaire est une fraude ou non**"
   ]
  },
  {
   "cell_type": "markdown",
   "metadata": {},
   "source": [
    "## Sommaire"
   ]
  },
  {
   "cell_type": "markdown",
   "metadata": {},
   "source": [
    "i)import des bibliothèques\n",
    "\n",
    "ii)import du dataset\n",
    "\n",
    "iii)analyse de la forme\n",
    "\n",
    "\n",
    "#### A)Analyse Univariée\n",
    "\n",
    "    1)graphiques des colonnes floats\n",
    "    2)graphiques des colonnes ints\n",
    "    3)graphiques des colonnes objects\n",
    "    \n",
    "#### B)Analyse bivariée : target/variable\n",
    "    \n",
    "    1)fraudes/type\n",
    "    2)fraudes/step\n",
    "    3)fraudes/amount\n",
    "    4)fraudes/oldbalanceOrg\n",
    "    5)fraudes/newbalanceOrig\n",
    "    6)fraudes/oldbalanceDest\n",
    "    7)fraudes/newbalanceDest\n",
    "    8)fraudes/isflaggedfraud\n",
    "  \n",
    "#### C) Analyse bivariée : variable/variable\n",
    "\n",
    "    1)corrélation entre variables quantitatives\n",
    "    2)type/amount\n",
    "    3)step/type\n",
    "    4)Analyse plus poussée de la colonne step\n",
    "    \n",
    "#### IV) Modifications proposé et autres questionnements sur le dataset suite à l'EDA\n"
   ]
  },
  {
   "cell_type": "markdown",
   "metadata": {},
   "source": [
    "### i) import des bibliothèques"
   ]
  },
  {
   "cell_type": "code",
   "execution_count": 1,
   "metadata": {},
   "outputs": [],
   "source": [
    "import pandas as pd\n",
    "import os\n",
    "import numpy as np\n",
    "import matplotlib.pyplot as plt\n",
    "import seaborn as sns\n",
    "import warnings"
   ]
  },
  {
   "cell_type": "code",
   "execution_count": 2,
   "metadata": {},
   "outputs": [],
   "source": [
    "warnings.filterwarnings(\"ignore\")"
   ]
  },
  {
   "cell_type": "markdown",
   "metadata": {},
   "source": [
    "### ii) import du dataset"
   ]
  },
  {
   "cell_type": "markdown",
   "metadata": {},
   "source": [
    "On importe notre dataset grâce à pandas, tout au long du notebook,\n",
    "le dataset de base ( sans modifications) sera appelé **fraudes**"
   ]
  },
  {
   "cell_type": "code",
   "execution_count": 4,
   "metadata": {
    "scrolled": false
   },
   "outputs": [
    {
     "data": {
      "text/html": [
       "<div>\n",
       "<style scoped>\n",
       "    .dataframe tbody tr th:only-of-type {\n",
       "        vertical-align: middle;\n",
       "    }\n",
       "\n",
       "    .dataframe tbody tr th {\n",
       "        vertical-align: top;\n",
       "    }\n",
       "\n",
       "    .dataframe thead th {\n",
       "        text-align: right;\n",
       "    }\n",
       "</style>\n",
       "<table border=\"1\" class=\"dataframe\">\n",
       "  <thead>\n",
       "    <tr style=\"text-align: right;\">\n",
       "      <th></th>\n",
       "      <th>step</th>\n",
       "      <th>type</th>\n",
       "      <th>amount</th>\n",
       "      <th>nameOrig</th>\n",
       "      <th>oldbalanceOrg</th>\n",
       "      <th>newbalanceOrig</th>\n",
       "      <th>nameDest</th>\n",
       "      <th>oldbalanceDest</th>\n",
       "      <th>newbalanceDest</th>\n",
       "      <th>isFraud</th>\n",
       "      <th>isFlaggedFraud</th>\n",
       "    </tr>\n",
       "  </thead>\n",
       "  <tbody>\n",
       "    <tr>\n",
       "      <th>0</th>\n",
       "      <td>1</td>\n",
       "      <td>PAYMENT</td>\n",
       "      <td>9839.64</td>\n",
       "      <td>C1231006815</td>\n",
       "      <td>170136.00</td>\n",
       "      <td>160296.36</td>\n",
       "      <td>M1979787155</td>\n",
       "      <td>0.0</td>\n",
       "      <td>0.00</td>\n",
       "      <td>0</td>\n",
       "      <td>0</td>\n",
       "    </tr>\n",
       "    <tr>\n",
       "      <th>1</th>\n",
       "      <td>1</td>\n",
       "      <td>PAYMENT</td>\n",
       "      <td>1864.28</td>\n",
       "      <td>C1666544295</td>\n",
       "      <td>21249.00</td>\n",
       "      <td>19384.72</td>\n",
       "      <td>M2044282225</td>\n",
       "      <td>0.0</td>\n",
       "      <td>0.00</td>\n",
       "      <td>0</td>\n",
       "      <td>0</td>\n",
       "    </tr>\n",
       "    <tr>\n",
       "      <th>2</th>\n",
       "      <td>1</td>\n",
       "      <td>TRANSFER</td>\n",
       "      <td>181.00</td>\n",
       "      <td>C1305486145</td>\n",
       "      <td>181.00</td>\n",
       "      <td>0.00</td>\n",
       "      <td>C553264065</td>\n",
       "      <td>0.0</td>\n",
       "      <td>0.00</td>\n",
       "      <td>1</td>\n",
       "      <td>0</td>\n",
       "    </tr>\n",
       "    <tr>\n",
       "      <th>3</th>\n",
       "      <td>1</td>\n",
       "      <td>CASH_OUT</td>\n",
       "      <td>181.00</td>\n",
       "      <td>C840083671</td>\n",
       "      <td>181.00</td>\n",
       "      <td>0.00</td>\n",
       "      <td>C38997010</td>\n",
       "      <td>21182.0</td>\n",
       "      <td>0.00</td>\n",
       "      <td>1</td>\n",
       "      <td>0</td>\n",
       "    </tr>\n",
       "    <tr>\n",
       "      <th>4</th>\n",
       "      <td>1</td>\n",
       "      <td>PAYMENT</td>\n",
       "      <td>11668.14</td>\n",
       "      <td>C2048537720</td>\n",
       "      <td>41554.00</td>\n",
       "      <td>29885.86</td>\n",
       "      <td>M1230701703</td>\n",
       "      <td>0.0</td>\n",
       "      <td>0.00</td>\n",
       "      <td>0</td>\n",
       "      <td>0</td>\n",
       "    </tr>\n",
       "    <tr>\n",
       "      <th>5</th>\n",
       "      <td>1</td>\n",
       "      <td>PAYMENT</td>\n",
       "      <td>7817.71</td>\n",
       "      <td>C90045638</td>\n",
       "      <td>53860.00</td>\n",
       "      <td>46042.29</td>\n",
       "      <td>M573487274</td>\n",
       "      <td>0.0</td>\n",
       "      <td>0.00</td>\n",
       "      <td>0</td>\n",
       "      <td>0</td>\n",
       "    </tr>\n",
       "    <tr>\n",
       "      <th>6</th>\n",
       "      <td>1</td>\n",
       "      <td>PAYMENT</td>\n",
       "      <td>7107.77</td>\n",
       "      <td>C154988899</td>\n",
       "      <td>183195.00</td>\n",
       "      <td>176087.23</td>\n",
       "      <td>M408069119</td>\n",
       "      <td>0.0</td>\n",
       "      <td>0.00</td>\n",
       "      <td>0</td>\n",
       "      <td>0</td>\n",
       "    </tr>\n",
       "    <tr>\n",
       "      <th>7</th>\n",
       "      <td>1</td>\n",
       "      <td>PAYMENT</td>\n",
       "      <td>7861.64</td>\n",
       "      <td>C1912850431</td>\n",
       "      <td>176087.23</td>\n",
       "      <td>168225.59</td>\n",
       "      <td>M633326333</td>\n",
       "      <td>0.0</td>\n",
       "      <td>0.00</td>\n",
       "      <td>0</td>\n",
       "      <td>0</td>\n",
       "    </tr>\n",
       "    <tr>\n",
       "      <th>8</th>\n",
       "      <td>1</td>\n",
       "      <td>PAYMENT</td>\n",
       "      <td>4024.36</td>\n",
       "      <td>C1265012928</td>\n",
       "      <td>2671.00</td>\n",
       "      <td>0.00</td>\n",
       "      <td>M1176932104</td>\n",
       "      <td>0.0</td>\n",
       "      <td>0.00</td>\n",
       "      <td>0</td>\n",
       "      <td>0</td>\n",
       "    </tr>\n",
       "    <tr>\n",
       "      <th>9</th>\n",
       "      <td>1</td>\n",
       "      <td>DEBIT</td>\n",
       "      <td>5337.77</td>\n",
       "      <td>C712410124</td>\n",
       "      <td>41720.00</td>\n",
       "      <td>36382.23</td>\n",
       "      <td>C195600860</td>\n",
       "      <td>41898.0</td>\n",
       "      <td>40348.79</td>\n",
       "      <td>0</td>\n",
       "      <td>0</td>\n",
       "    </tr>\n",
       "    <tr>\n",
       "      <th>10</th>\n",
       "      <td>1</td>\n",
       "      <td>DEBIT</td>\n",
       "      <td>9644.94</td>\n",
       "      <td>C1900366749</td>\n",
       "      <td>4465.00</td>\n",
       "      <td>0.00</td>\n",
       "      <td>C997608398</td>\n",
       "      <td>10845.0</td>\n",
       "      <td>157982.12</td>\n",
       "      <td>0</td>\n",
       "      <td>0</td>\n",
       "    </tr>\n",
       "    <tr>\n",
       "      <th>11</th>\n",
       "      <td>1</td>\n",
       "      <td>PAYMENT</td>\n",
       "      <td>3099.97</td>\n",
       "      <td>C249177573</td>\n",
       "      <td>20771.00</td>\n",
       "      <td>17671.03</td>\n",
       "      <td>M2096539129</td>\n",
       "      <td>0.0</td>\n",
       "      <td>0.00</td>\n",
       "      <td>0</td>\n",
       "      <td>0</td>\n",
       "    </tr>\n",
       "    <tr>\n",
       "      <th>12</th>\n",
       "      <td>1</td>\n",
       "      <td>PAYMENT</td>\n",
       "      <td>2560.74</td>\n",
       "      <td>C1648232591</td>\n",
       "      <td>5070.00</td>\n",
       "      <td>2509.26</td>\n",
       "      <td>M972865270</td>\n",
       "      <td>0.0</td>\n",
       "      <td>0.00</td>\n",
       "      <td>0</td>\n",
       "      <td>0</td>\n",
       "    </tr>\n",
       "    <tr>\n",
       "      <th>13</th>\n",
       "      <td>1</td>\n",
       "      <td>PAYMENT</td>\n",
       "      <td>11633.76</td>\n",
       "      <td>C1716932897</td>\n",
       "      <td>10127.00</td>\n",
       "      <td>0.00</td>\n",
       "      <td>M801569151</td>\n",
       "      <td>0.0</td>\n",
       "      <td>0.00</td>\n",
       "      <td>0</td>\n",
       "      <td>0</td>\n",
       "    </tr>\n",
       "    <tr>\n",
       "      <th>14</th>\n",
       "      <td>1</td>\n",
       "      <td>PAYMENT</td>\n",
       "      <td>4098.78</td>\n",
       "      <td>C1026483832</td>\n",
       "      <td>503264.00</td>\n",
       "      <td>499165.22</td>\n",
       "      <td>M1635378213</td>\n",
       "      <td>0.0</td>\n",
       "      <td>0.00</td>\n",
       "      <td>0</td>\n",
       "      <td>0</td>\n",
       "    </tr>\n",
       "    <tr>\n",
       "      <th>15</th>\n",
       "      <td>1</td>\n",
       "      <td>CASH_OUT</td>\n",
       "      <td>229133.94</td>\n",
       "      <td>C905080434</td>\n",
       "      <td>15325.00</td>\n",
       "      <td>0.00</td>\n",
       "      <td>C476402209</td>\n",
       "      <td>5083.0</td>\n",
       "      <td>51513.44</td>\n",
       "      <td>0</td>\n",
       "      <td>0</td>\n",
       "    </tr>\n",
       "    <tr>\n",
       "      <th>16</th>\n",
       "      <td>1</td>\n",
       "      <td>PAYMENT</td>\n",
       "      <td>1563.82</td>\n",
       "      <td>C761750706</td>\n",
       "      <td>450.00</td>\n",
       "      <td>0.00</td>\n",
       "      <td>M1731217984</td>\n",
       "      <td>0.0</td>\n",
       "      <td>0.00</td>\n",
       "      <td>0</td>\n",
       "      <td>0</td>\n",
       "    </tr>\n",
       "    <tr>\n",
       "      <th>17</th>\n",
       "      <td>1</td>\n",
       "      <td>PAYMENT</td>\n",
       "      <td>1157.86</td>\n",
       "      <td>C1237762639</td>\n",
       "      <td>21156.00</td>\n",
       "      <td>19998.14</td>\n",
       "      <td>M1877062907</td>\n",
       "      <td>0.0</td>\n",
       "      <td>0.00</td>\n",
       "      <td>0</td>\n",
       "      <td>0</td>\n",
       "    </tr>\n",
       "    <tr>\n",
       "      <th>18</th>\n",
       "      <td>1</td>\n",
       "      <td>PAYMENT</td>\n",
       "      <td>671.64</td>\n",
       "      <td>C2033524545</td>\n",
       "      <td>15123.00</td>\n",
       "      <td>14451.36</td>\n",
       "      <td>M473053293</td>\n",
       "      <td>0.0</td>\n",
       "      <td>0.00</td>\n",
       "      <td>0</td>\n",
       "      <td>0</td>\n",
       "    </tr>\n",
       "    <tr>\n",
       "      <th>19</th>\n",
       "      <td>1</td>\n",
       "      <td>TRANSFER</td>\n",
       "      <td>215310.30</td>\n",
       "      <td>C1670993182</td>\n",
       "      <td>705.00</td>\n",
       "      <td>0.00</td>\n",
       "      <td>C1100439041</td>\n",
       "      <td>22425.0</td>\n",
       "      <td>0.00</td>\n",
       "      <td>0</td>\n",
       "      <td>0</td>\n",
       "    </tr>\n",
       "    <tr>\n",
       "      <th>20</th>\n",
       "      <td>1</td>\n",
       "      <td>PAYMENT</td>\n",
       "      <td>1373.43</td>\n",
       "      <td>C20804602</td>\n",
       "      <td>13854.00</td>\n",
       "      <td>12480.57</td>\n",
       "      <td>M1344519051</td>\n",
       "      <td>0.0</td>\n",
       "      <td>0.00</td>\n",
       "      <td>0</td>\n",
       "      <td>0</td>\n",
       "    </tr>\n",
       "    <tr>\n",
       "      <th>21</th>\n",
       "      <td>1</td>\n",
       "      <td>DEBIT</td>\n",
       "      <td>9302.79</td>\n",
       "      <td>C1566511282</td>\n",
       "      <td>11299.00</td>\n",
       "      <td>1996.21</td>\n",
       "      <td>C1973538135</td>\n",
       "      <td>29832.0</td>\n",
       "      <td>16896.70</td>\n",
       "      <td>0</td>\n",
       "      <td>0</td>\n",
       "    </tr>\n",
       "    <tr>\n",
       "      <th>22</th>\n",
       "      <td>1</td>\n",
       "      <td>DEBIT</td>\n",
       "      <td>1065.41</td>\n",
       "      <td>C1959239586</td>\n",
       "      <td>1817.00</td>\n",
       "      <td>751.59</td>\n",
       "      <td>C515132998</td>\n",
       "      <td>10330.0</td>\n",
       "      <td>0.00</td>\n",
       "      <td>0</td>\n",
       "      <td>0</td>\n",
       "    </tr>\n",
       "    <tr>\n",
       "      <th>23</th>\n",
       "      <td>1</td>\n",
       "      <td>PAYMENT</td>\n",
       "      <td>3876.41</td>\n",
       "      <td>C504336483</td>\n",
       "      <td>67852.00</td>\n",
       "      <td>63975.59</td>\n",
       "      <td>M1404932042</td>\n",
       "      <td>0.0</td>\n",
       "      <td>0.00</td>\n",
       "      <td>0</td>\n",
       "      <td>0</td>\n",
       "    </tr>\n",
       "    <tr>\n",
       "      <th>24</th>\n",
       "      <td>1</td>\n",
       "      <td>TRANSFER</td>\n",
       "      <td>311685.89</td>\n",
       "      <td>C1984094095</td>\n",
       "      <td>10835.00</td>\n",
       "      <td>0.00</td>\n",
       "      <td>C932583850</td>\n",
       "      <td>6267.0</td>\n",
       "      <td>2719172.89</td>\n",
       "      <td>0</td>\n",
       "      <td>0</td>\n",
       "    </tr>\n",
       "  </tbody>\n",
       "</table>\n",
       "</div>"
      ],
      "text/plain": [
       "    step      type     amount     nameOrig  oldbalanceOrg  newbalanceOrig  \\\n",
       "0      1   PAYMENT    9839.64  C1231006815      170136.00       160296.36   \n",
       "1      1   PAYMENT    1864.28  C1666544295       21249.00        19384.72   \n",
       "2      1  TRANSFER     181.00  C1305486145         181.00            0.00   \n",
       "3      1  CASH_OUT     181.00   C840083671         181.00            0.00   \n",
       "4      1   PAYMENT   11668.14  C2048537720       41554.00        29885.86   \n",
       "5      1   PAYMENT    7817.71    C90045638       53860.00        46042.29   \n",
       "6      1   PAYMENT    7107.77   C154988899      183195.00       176087.23   \n",
       "7      1   PAYMENT    7861.64  C1912850431      176087.23       168225.59   \n",
       "8      1   PAYMENT    4024.36  C1265012928        2671.00            0.00   \n",
       "9      1     DEBIT    5337.77   C712410124       41720.00        36382.23   \n",
       "10     1     DEBIT    9644.94  C1900366749        4465.00            0.00   \n",
       "11     1   PAYMENT    3099.97   C249177573       20771.00        17671.03   \n",
       "12     1   PAYMENT    2560.74  C1648232591        5070.00         2509.26   \n",
       "13     1   PAYMENT   11633.76  C1716932897       10127.00            0.00   \n",
       "14     1   PAYMENT    4098.78  C1026483832      503264.00       499165.22   \n",
       "15     1  CASH_OUT  229133.94   C905080434       15325.00            0.00   \n",
       "16     1   PAYMENT    1563.82   C761750706         450.00            0.00   \n",
       "17     1   PAYMENT    1157.86  C1237762639       21156.00        19998.14   \n",
       "18     1   PAYMENT     671.64  C2033524545       15123.00        14451.36   \n",
       "19     1  TRANSFER  215310.30  C1670993182         705.00            0.00   \n",
       "20     1   PAYMENT    1373.43    C20804602       13854.00        12480.57   \n",
       "21     1     DEBIT    9302.79  C1566511282       11299.00         1996.21   \n",
       "22     1     DEBIT    1065.41  C1959239586        1817.00          751.59   \n",
       "23     1   PAYMENT    3876.41   C504336483       67852.00        63975.59   \n",
       "24     1  TRANSFER  311685.89  C1984094095       10835.00            0.00   \n",
       "\n",
       "       nameDest  oldbalanceDest  newbalanceDest  isFraud  isFlaggedFraud  \n",
       "0   M1979787155             0.0            0.00        0               0  \n",
       "1   M2044282225             0.0            0.00        0               0  \n",
       "2    C553264065             0.0            0.00        1               0  \n",
       "3     C38997010         21182.0            0.00        1               0  \n",
       "4   M1230701703             0.0            0.00        0               0  \n",
       "5    M573487274             0.0            0.00        0               0  \n",
       "6    M408069119             0.0            0.00        0               0  \n",
       "7    M633326333             0.0            0.00        0               0  \n",
       "8   M1176932104             0.0            0.00        0               0  \n",
       "9    C195600860         41898.0        40348.79        0               0  \n",
       "10   C997608398         10845.0       157982.12        0               0  \n",
       "11  M2096539129             0.0            0.00        0               0  \n",
       "12   M972865270             0.0            0.00        0               0  \n",
       "13   M801569151             0.0            0.00        0               0  \n",
       "14  M1635378213             0.0            0.00        0               0  \n",
       "15   C476402209          5083.0        51513.44        0               0  \n",
       "16  M1731217984             0.0            0.00        0               0  \n",
       "17  M1877062907             0.0            0.00        0               0  \n",
       "18   M473053293             0.0            0.00        0               0  \n",
       "19  C1100439041         22425.0            0.00        0               0  \n",
       "20  M1344519051             0.0            0.00        0               0  \n",
       "21  C1973538135         29832.0        16896.70        0               0  \n",
       "22   C515132998         10330.0            0.00        0               0  \n",
       "23  M1404932042             0.0            0.00        0               0  \n",
       "24   C932583850          6267.0      2719172.89        0               0  "
      ]
     },
     "execution_count": 4,
     "metadata": {},
     "output_type": "execute_result"
    }
   ],
   "source": [
    "os.chdir('C:\\\\Users\\\\matth\\\\jupyter codes')\n",
    "fraudes=pd.read_csv('fraudes_bancaires.csv')\n",
    "fraudes.head(25)"
   ]
  },
  {
   "cell_type": "code",
   "execution_count": 6,
   "metadata": {
    "scrolled": true
   },
   "outputs": [
    {
     "data": {
      "text/html": [
       "<div>\n",
       "<style scoped>\n",
       "    .dataframe tbody tr th:only-of-type {\n",
       "        vertical-align: middle;\n",
       "    }\n",
       "\n",
       "    .dataframe tbody tr th {\n",
       "        vertical-align: top;\n",
       "    }\n",
       "\n",
       "    .dataframe thead th {\n",
       "        text-align: right;\n",
       "    }\n",
       "</style>\n",
       "<table border=\"1\" class=\"dataframe\">\n",
       "  <thead>\n",
       "    <tr style=\"text-align: right;\">\n",
       "      <th></th>\n",
       "      <th>step</th>\n",
       "      <th>type</th>\n",
       "      <th>amount</th>\n",
       "      <th>nameOrig</th>\n",
       "      <th>oldbalanceOrg</th>\n",
       "      <th>newbalanceOrig</th>\n",
       "      <th>nameDest</th>\n",
       "      <th>oldbalanceDest</th>\n",
       "      <th>newbalanceDest</th>\n",
       "      <th>isFraud</th>\n",
       "      <th>isFlaggedFraud</th>\n",
       "    </tr>\n",
       "  </thead>\n",
       "  <tbody>\n",
       "    <tr>\n",
       "      <th>0</th>\n",
       "      <td>1</td>\n",
       "      <td>PAYMENT</td>\n",
       "      <td>9839.64</td>\n",
       "      <td>C1231006815</td>\n",
       "      <td>170136.00</td>\n",
       "      <td>160296.36</td>\n",
       "      <td>M1979787155</td>\n",
       "      <td>0.00</td>\n",
       "      <td>0.00</td>\n",
       "      <td>0</td>\n",
       "      <td>0</td>\n",
       "    </tr>\n",
       "    <tr>\n",
       "      <th>1</th>\n",
       "      <td>1</td>\n",
       "      <td>PAYMENT</td>\n",
       "      <td>1864.28</td>\n",
       "      <td>C1666544295</td>\n",
       "      <td>21249.00</td>\n",
       "      <td>19384.72</td>\n",
       "      <td>M2044282225</td>\n",
       "      <td>0.00</td>\n",
       "      <td>0.00</td>\n",
       "      <td>0</td>\n",
       "      <td>0</td>\n",
       "    </tr>\n",
       "    <tr>\n",
       "      <th>2</th>\n",
       "      <td>1</td>\n",
       "      <td>TRANSFER</td>\n",
       "      <td>181.00</td>\n",
       "      <td>C1305486145</td>\n",
       "      <td>181.00</td>\n",
       "      <td>0.00</td>\n",
       "      <td>C553264065</td>\n",
       "      <td>0.00</td>\n",
       "      <td>0.00</td>\n",
       "      <td>1</td>\n",
       "      <td>0</td>\n",
       "    </tr>\n",
       "    <tr>\n",
       "      <th>3</th>\n",
       "      <td>1</td>\n",
       "      <td>CASH_OUT</td>\n",
       "      <td>181.00</td>\n",
       "      <td>C840083671</td>\n",
       "      <td>181.00</td>\n",
       "      <td>0.00</td>\n",
       "      <td>C38997010</td>\n",
       "      <td>21182.00</td>\n",
       "      <td>0.00</td>\n",
       "      <td>1</td>\n",
       "      <td>0</td>\n",
       "    </tr>\n",
       "    <tr>\n",
       "      <th>4</th>\n",
       "      <td>1</td>\n",
       "      <td>PAYMENT</td>\n",
       "      <td>11668.14</td>\n",
       "      <td>C2048537720</td>\n",
       "      <td>41554.00</td>\n",
       "      <td>29885.86</td>\n",
       "      <td>M1230701703</td>\n",
       "      <td>0.00</td>\n",
       "      <td>0.00</td>\n",
       "      <td>0</td>\n",
       "      <td>0</td>\n",
       "    </tr>\n",
       "    <tr>\n",
       "      <th>...</th>\n",
       "      <td>...</td>\n",
       "      <td>...</td>\n",
       "      <td>...</td>\n",
       "      <td>...</td>\n",
       "      <td>...</td>\n",
       "      <td>...</td>\n",
       "      <td>...</td>\n",
       "      <td>...</td>\n",
       "      <td>...</td>\n",
       "      <td>...</td>\n",
       "      <td>...</td>\n",
       "    </tr>\n",
       "    <tr>\n",
       "      <th>6362615</th>\n",
       "      <td>743</td>\n",
       "      <td>CASH_OUT</td>\n",
       "      <td>339682.13</td>\n",
       "      <td>C786484425</td>\n",
       "      <td>339682.13</td>\n",
       "      <td>0.00</td>\n",
       "      <td>C776919290</td>\n",
       "      <td>0.00</td>\n",
       "      <td>339682.13</td>\n",
       "      <td>1</td>\n",
       "      <td>0</td>\n",
       "    </tr>\n",
       "    <tr>\n",
       "      <th>6362616</th>\n",
       "      <td>743</td>\n",
       "      <td>TRANSFER</td>\n",
       "      <td>6311409.28</td>\n",
       "      <td>C1529008245</td>\n",
       "      <td>6311409.28</td>\n",
       "      <td>0.00</td>\n",
       "      <td>C1881841831</td>\n",
       "      <td>0.00</td>\n",
       "      <td>0.00</td>\n",
       "      <td>1</td>\n",
       "      <td>0</td>\n",
       "    </tr>\n",
       "    <tr>\n",
       "      <th>6362617</th>\n",
       "      <td>743</td>\n",
       "      <td>CASH_OUT</td>\n",
       "      <td>6311409.28</td>\n",
       "      <td>C1162922333</td>\n",
       "      <td>6311409.28</td>\n",
       "      <td>0.00</td>\n",
       "      <td>C1365125890</td>\n",
       "      <td>68488.84</td>\n",
       "      <td>6379898.11</td>\n",
       "      <td>1</td>\n",
       "      <td>0</td>\n",
       "    </tr>\n",
       "    <tr>\n",
       "      <th>6362618</th>\n",
       "      <td>743</td>\n",
       "      <td>TRANSFER</td>\n",
       "      <td>850002.52</td>\n",
       "      <td>C1685995037</td>\n",
       "      <td>850002.52</td>\n",
       "      <td>0.00</td>\n",
       "      <td>C2080388513</td>\n",
       "      <td>0.00</td>\n",
       "      <td>0.00</td>\n",
       "      <td>1</td>\n",
       "      <td>0</td>\n",
       "    </tr>\n",
       "    <tr>\n",
       "      <th>6362619</th>\n",
       "      <td>743</td>\n",
       "      <td>CASH_OUT</td>\n",
       "      <td>850002.52</td>\n",
       "      <td>C1280323807</td>\n",
       "      <td>850002.52</td>\n",
       "      <td>0.00</td>\n",
       "      <td>C873221189</td>\n",
       "      <td>6510099.11</td>\n",
       "      <td>7360101.63</td>\n",
       "      <td>1</td>\n",
       "      <td>0</td>\n",
       "    </tr>\n",
       "  </tbody>\n",
       "</table>\n",
       "<p>6362620 rows × 11 columns</p>\n",
       "</div>"
      ],
      "text/plain": [
       "         step      type      amount     nameOrig  oldbalanceOrg  \\\n",
       "0           1   PAYMENT     9839.64  C1231006815      170136.00   \n",
       "1           1   PAYMENT     1864.28  C1666544295       21249.00   \n",
       "2           1  TRANSFER      181.00  C1305486145         181.00   \n",
       "3           1  CASH_OUT      181.00   C840083671         181.00   \n",
       "4           1   PAYMENT    11668.14  C2048537720       41554.00   \n",
       "...       ...       ...         ...          ...            ...   \n",
       "6362615   743  CASH_OUT   339682.13   C786484425      339682.13   \n",
       "6362616   743  TRANSFER  6311409.28  C1529008245     6311409.28   \n",
       "6362617   743  CASH_OUT  6311409.28  C1162922333     6311409.28   \n",
       "6362618   743  TRANSFER   850002.52  C1685995037      850002.52   \n",
       "6362619   743  CASH_OUT   850002.52  C1280323807      850002.52   \n",
       "\n",
       "         newbalanceOrig     nameDest  oldbalanceDest  newbalanceDest  isFraud  \\\n",
       "0             160296.36  M1979787155            0.00            0.00        0   \n",
       "1              19384.72  M2044282225            0.00            0.00        0   \n",
       "2                  0.00   C553264065            0.00            0.00        1   \n",
       "3                  0.00    C38997010        21182.00            0.00        1   \n",
       "4              29885.86  M1230701703            0.00            0.00        0   \n",
       "...                 ...          ...             ...             ...      ...   \n",
       "6362615            0.00   C776919290            0.00       339682.13        1   \n",
       "6362616            0.00  C1881841831            0.00            0.00        1   \n",
       "6362617            0.00  C1365125890        68488.84      6379898.11        1   \n",
       "6362618            0.00  C2080388513            0.00            0.00        1   \n",
       "6362619            0.00   C873221189      6510099.11      7360101.63        1   \n",
       "\n",
       "         isFlaggedFraud  \n",
       "0                     0  \n",
       "1                     0  \n",
       "2                     0  \n",
       "3                     0  \n",
       "4                     0  \n",
       "...                 ...  \n",
       "6362615               0  \n",
       "6362616               0  \n",
       "6362617               0  \n",
       "6362618               0  \n",
       "6362619               0  \n",
       "\n",
       "[6362620 rows x 11 columns]"
      ]
     },
     "execution_count": 6,
     "metadata": {},
     "output_type": "execute_result"
    }
   ],
   "source": [
    "fraudes"
   ]
  },
  {
   "cell_type": "markdown",
   "metadata": {},
   "source": [
    "### iii) Analyse de la forme"
   ]
  },
  {
   "cell_type": "markdown",
   "metadata": {},
   "source": [
    "Dans cette partie, nous allons nous faire une rapide idée des dimensions du dataset, de ses colonnes"
   ]
  },
  {
   "cell_type": "code",
   "execution_count": 7,
   "metadata": {},
   "outputs": [
    {
     "data": {
      "text/plain": [
       "(6362620, 11)"
      ]
     },
     "execution_count": 7,
     "metadata": {},
     "output_type": "execute_result"
    }
   ],
   "source": [
    "fraudes.shape"
   ]
  },
  {
   "cell_type": "code",
   "execution_count": 8,
   "metadata": {
    "scrolled": true
   },
   "outputs": [
    {
     "data": {
      "text/plain": [
       "float64    5\n",
       "int64      3\n",
       "object     3\n",
       "dtype: int64"
      ]
     },
     "execution_count": 8,
     "metadata": {},
     "output_type": "execute_result"
    }
   ],
   "source": [
    "fraudes.dtypes.value_counts() "
   ]
  },
  {
   "cell_type": "markdown",
   "metadata": {},
   "source": [
    "Le dataset contient 6362620 lignes et 11 colonnes, C'est donc un  dataset assez conséquent.\n",
    "On y trouve 5 colonnes de type float, 3 objects et 3 int. Les types n'étant pas homogènes il est probable que nous ayons à appliquer des transformations différentes selon les colonnes lors du preprocessing.\n"
   ]
  },
  {
   "cell_type": "markdown",
   "metadata": {},
   "source": [
    "## I) Analyse Univariée"
   ]
  },
  {
   "cell_type": "markdown",
   "metadata": {},
   "source": [
    "Dans cette partie, nous allons nous intéresser plus en détail à chaque colonnes."
   ]
  },
  {
   "cell_type": "markdown",
   "metadata": {},
   "source": [
    "On va compter le nombre de fois où les transactions ont été frauduleuse"
   ]
  },
  {
   "cell_type": "code",
   "execution_count": 9,
   "metadata": {
    "scrolled": false
   },
   "outputs": [
    {
     "data": {
      "text/plain": [
       "0    0.998709\n",
       "1    0.001291\n",
       "Name: isFraud, dtype: float64"
      ]
     },
     "execution_count": 9,
     "metadata": {},
     "output_type": "execute_result"
    }
   ],
   "source": [
    "fraudes['isFraud'].value_counts(normalize=True)"
   ]
  },
  {
   "cell_type": "markdown",
   "metadata": {},
   "source": [
    "99,87 % des transactions ne sont pas des fraudes et 0,13% le sont. On est donc face à un dataset très désequilibré, il sera nécessaire d'appliquer des algorithmes pour le réequilibrer ( avec le package imblearn, application de SMOTE...)"
   ]
  },
  {
   "cell_type": "markdown",
   "metadata": {},
   "source": [
    "### 1) graphiques des colonnes floats"
   ]
  },
  {
   "cell_type": "markdown",
   "metadata": {},
   "source": [
    "Regardons chacune des colonnes de type float que l'on trouve dans notre dataset"
   ]
  },
  {
   "cell_type": "code",
   "execution_count": 10,
   "metadata": {
    "scrolled": true
   },
   "outputs": [
    {
     "data": {
      "image/png": "[encoded data removed]",
      "text/plain": [
       "<Figure size 432x288 with 1 Axes>"
      ]
     },
     "metadata": {
      "needs_background": "light"
     },
     "output_type": "display_data"
    },
    {
     "data": {
      "image/png": "[encoded data removed]",
      "text/plain": [
       "<Figure size 432x288 with 1 Axes>"
      ]
     },
     "metadata": {
      "needs_background": "light"
     },
     "output_type": "display_data"
    },
    {
     "data": {
      "image/png": "[encoded data removed]",
      "text/plain": [
       "<Figure size 432x288 with 1 Axes>"
      ]
     },
     "metadata": {
      "needs_background": "light"
     },
     "output_type": "display_data"
    },
    {
     "data": {
      "image/png": "[encoded data removed]",
      "text/plain": [
       "<Figure size 432x288 with 1 Axes>"
      ]
     },
     "metadata": {
      "needs_background": "light"
     },
     "output_type": "display_data"
    },
    {
     "data": {
      "image/png": "[encoded data removed]",
      "text/plain": [
       "<Figure size 432x288 with 1 Axes>"
      ]
     },
     "metadata": {
      "needs_background": "light"
     },
     "output_type": "display_data"
    }
   ],
   "source": [
    "for col in fraudes.select_dtypes('float'):\n",
    "    plt.figure()\n",
    "    sns.distplot(fraudes[col]) "
   ]
  },
  {
   "cell_type": "markdown",
   "metadata": {},
   "source": [
    "La signification précise de l'axe des ordonnées n'est pas pas très clair (displot n'est sans doutes pas la meilleur fonction pour l'utilisation que j'en fait) mais on devine bien qu'il s'agit à chaque fois d'une mesure de la répartition de ces valeurs. Pour chacuns de ces graphes on voit que la grande majorité des valeurs sont inférieur à un million, alors que les plus grandes atteignent plusieurs dizaines voir centaines de millions"
   ]
  },
  {
   "cell_type": "code",
   "execution_count": 11,
   "metadata": {
    "scrolled": true
   },
   "outputs": [
    {
     "data": {
      "text/html": [
       "<div>\n",
       "<style scoped>\n",
       "    .dataframe tbody tr th:only-of-type {\n",
       "        vertical-align: middle;\n",
       "    }\n",
       "\n",
       "    .dataframe tbody tr th {\n",
       "        vertical-align: top;\n",
       "    }\n",
       "\n",
       "    .dataframe thead th {\n",
       "        text-align: right;\n",
       "    }\n",
       "</style>\n",
       "<table border=\"1\" class=\"dataframe\">\n",
       "  <thead>\n",
       "    <tr style=\"text-align: right;\">\n",
       "      <th></th>\n",
       "      <th>step</th>\n",
       "      <th>amount</th>\n",
       "      <th>oldbalanceOrg</th>\n",
       "      <th>newbalanceOrig</th>\n",
       "      <th>oldbalanceDest</th>\n",
       "      <th>newbalanceDest</th>\n",
       "      <th>isFraud</th>\n",
       "      <th>isFlaggedFraud</th>\n",
       "    </tr>\n",
       "  </thead>\n",
       "  <tbody>\n",
       "    <tr>\n",
       "      <th>count</th>\n",
       "      <td>6.362620e+06</td>\n",
       "      <td>6.362620e+06</td>\n",
       "      <td>6.362620e+06</td>\n",
       "      <td>6.362620e+06</td>\n",
       "      <td>6.362620e+06</td>\n",
       "      <td>6.362620e+06</td>\n",
       "      <td>6.362620e+06</td>\n",
       "      <td>6.362620e+06</td>\n",
       "    </tr>\n",
       "    <tr>\n",
       "      <th>mean</th>\n",
       "      <td>2.433972e+02</td>\n",
       "      <td>1.798619e+05</td>\n",
       "      <td>8.338831e+05</td>\n",
       "      <td>8.551137e+05</td>\n",
       "      <td>1.100702e+06</td>\n",
       "      <td>1.224996e+06</td>\n",
       "      <td>1.290820e-03</td>\n",
       "      <td>2.514687e-06</td>\n",
       "    </tr>\n",
       "    <tr>\n",
       "      <th>std</th>\n",
       "      <td>1.423320e+02</td>\n",
       "      <td>6.038582e+05</td>\n",
       "      <td>2.888243e+06</td>\n",
       "      <td>2.924049e+06</td>\n",
       "      <td>3.399180e+06</td>\n",
       "      <td>3.674129e+06</td>\n",
       "      <td>3.590480e-02</td>\n",
       "      <td>1.585775e-03</td>\n",
       "    </tr>\n",
       "    <tr>\n",
       "      <th>min</th>\n",
       "      <td>1.000000e+00</td>\n",
       "      <td>0.000000e+00</td>\n",
       "      <td>0.000000e+00</td>\n",
       "      <td>0.000000e+00</td>\n",
       "      <td>0.000000e+00</td>\n",
       "      <td>0.000000e+00</td>\n",
       "      <td>0.000000e+00</td>\n",
       "      <td>0.000000e+00</td>\n",
       "    </tr>\n",
       "    <tr>\n",
       "      <th>25%</th>\n",
       "      <td>1.560000e+02</td>\n",
       "      <td>1.338957e+04</td>\n",
       "      <td>0.000000e+00</td>\n",
       "      <td>0.000000e+00</td>\n",
       "      <td>0.000000e+00</td>\n",
       "      <td>0.000000e+00</td>\n",
       "      <td>0.000000e+00</td>\n",
       "      <td>0.000000e+00</td>\n",
       "    </tr>\n",
       "    <tr>\n",
       "      <th>50%</th>\n",
       "      <td>2.390000e+02</td>\n",
       "      <td>7.487194e+04</td>\n",
       "      <td>1.420800e+04</td>\n",
       "      <td>0.000000e+00</td>\n",
       "      <td>1.327057e+05</td>\n",
       "      <td>2.146614e+05</td>\n",
       "      <td>0.000000e+00</td>\n",
       "      <td>0.000000e+00</td>\n",
       "    </tr>\n",
       "    <tr>\n",
       "      <th>75%</th>\n",
       "      <td>3.350000e+02</td>\n",
       "      <td>2.087215e+05</td>\n",
       "      <td>1.073152e+05</td>\n",
       "      <td>1.442584e+05</td>\n",
       "      <td>9.430367e+05</td>\n",
       "      <td>1.111909e+06</td>\n",
       "      <td>0.000000e+00</td>\n",
       "      <td>0.000000e+00</td>\n",
       "    </tr>\n",
       "    <tr>\n",
       "      <th>max</th>\n",
       "      <td>7.430000e+02</td>\n",
       "      <td>9.244552e+07</td>\n",
       "      <td>5.958504e+07</td>\n",
       "      <td>4.958504e+07</td>\n",
       "      <td>3.560159e+08</td>\n",
       "      <td>3.561793e+08</td>\n",
       "      <td>1.000000e+00</td>\n",
       "      <td>1.000000e+00</td>\n",
       "    </tr>\n",
       "  </tbody>\n",
       "</table>\n",
       "</div>"
      ],
      "text/plain": [
       "               step        amount  oldbalanceOrg  newbalanceOrig  \\\n",
       "count  6.362620e+06  6.362620e+06   6.362620e+06    6.362620e+06   \n",
       "mean   2.433972e+02  1.798619e+05   8.338831e+05    8.551137e+05   \n",
       "std    1.423320e+02  6.038582e+05   2.888243e+06    2.924049e+06   \n",
       "min    1.000000e+00  0.000000e+00   0.000000e+00    0.000000e+00   \n",
       "25%    1.560000e+02  1.338957e+04   0.000000e+00    0.000000e+00   \n",
       "50%    2.390000e+02  7.487194e+04   1.420800e+04    0.000000e+00   \n",
       "75%    3.350000e+02  2.087215e+05   1.073152e+05    1.442584e+05   \n",
       "max    7.430000e+02  9.244552e+07   5.958504e+07    4.958504e+07   \n",
       "\n",
       "       oldbalanceDest  newbalanceDest       isFraud  isFlaggedFraud  \n",
       "count    6.362620e+06    6.362620e+06  6.362620e+06    6.362620e+06  \n",
       "mean     1.100702e+06    1.224996e+06  1.290820e-03    2.514687e-06  \n",
       "std      3.399180e+06    3.674129e+06  3.590480e-02    1.585775e-03  \n",
       "min      0.000000e+00    0.000000e+00  0.000000e+00    0.000000e+00  \n",
       "25%      0.000000e+00    0.000000e+00  0.000000e+00    0.000000e+00  \n",
       "50%      1.327057e+05    2.146614e+05  0.000000e+00    0.000000e+00  \n",
       "75%      9.430367e+05    1.111909e+06  0.000000e+00    0.000000e+00  \n",
       "max      3.560159e+08    3.561793e+08  1.000000e+00    1.000000e+00  "
      ]
     },
     "execution_count": 11,
     "metadata": {},
     "output_type": "execute_result"
    }
   ],
   "source": [
    "fraudes.describe()"
   ]
  },
  {
   "cell_type": "markdown",
   "metadata": {},
   "source": [
    " Les variables float sont:\n",
    " \n",
    " - amount__________\tmontant de la transaction, s'étend de 0 jusqu'à 90 millions pour les valeurs extremes\n",
    " \n",
    " - oldbalanceOrg___compte de l'envoyeur avant transaction, de 0 à 60 millions\n",
    " \n",
    " - newbalanceOrig__compte de l'envoyeur après transaction, de 0 à 50 millions\n",
    " \n",
    " - oldbalanceDest__compte du destinataire avant transaction, de 0 à 350 millions\n",
    " \n",
    " - newbalanceDest__\tcompte du destinataire après transaction; de 0 à 350 millions\n",
    "\n",
    "Les données du graphique ne se regroupent à chaques fois que sur une frange proche de l'axe des ordonnées. Cela montre que l'on retrouve un certain nombre d'outlier dans nos données ( typiquement les transactions qui dépassent 50 millions sont très rares mais leur montant est largement supérieur à la mediane). IL faudra surtout prendre cela en compte lorsque nous allons standardiser nos données durant le preprocessing"
   ]
  },
  {
   "cell_type": "markdown",
   "metadata": {},
   "source": [
    "### 2) graphiques des colonnes int"
   ]
  },
  {
   "cell_type": "markdown",
   "metadata": {},
   "source": [
    "**colonne step**"
   ]
  },
  {
   "cell_type": "code",
   "execution_count": 12,
   "metadata": {
    "scrolled": false
   },
   "outputs": [
    {
     "data": {
      "text/plain": [
       "<matplotlib.axes._subplots.AxesSubplot at 0x294770ef520>"
      ]
     },
     "execution_count": 12,
     "metadata": {},
     "output_type": "execute_result"
    },
    {
     "data": {
      "image/png": "[encoded data removed]",
      "text/plain": [
       "<Figure size 432x288 with 1 Axes>"
      ]
     },
     "metadata": {
      "needs_background": "light"
     },
     "output_type": "display_data"
    }
   ],
   "source": [
    "plt.figure()\n",
    "sns.distplot(fraudes['step'])"
   ]
  },
  {
   "cell_type": "markdown",
   "metadata": {},
   "source": [
    "'step' va de 1 à 743. Chaque step represente 1h, le dataset represente ainsi l'ensemble des transactions sur un mois.\n",
    "On retrouve une proportion plus importante de transactions surtout lors des 80 premiers steps environ, puis de 110 à 400.\n",
    "\n",
    "On remarque aussi des oscillations assez fréquentes dans la proportion de transaction par step,( bien visible entre 110 et 400), ce qui met peut être en évidence que les transactions s'effectuent surtout à certaines heures de la journée. Il semble donc pertinent de créer une variable heure pour confirmer cette hypothèse.\n",
    "\n",
    "Toutefois le graphique dans son état actuel nous empêche de voir en détail chaque step (les barres sonr trop larges), nous allons mettre le parametre 'bins' à 743 pour pouvoir observer chaques step individuellement"
   ]
  },
  {
   "cell_type": "code",
   "execution_count": 13,
   "metadata": {
    "scrolled": true
   },
   "outputs": [
    {
     "data": {
      "text/plain": [
       "<matplotlib.axes._subplots.AxesSubplot at 0x29451b03370>"
      ]
     },
     "execution_count": 13,
     "metadata": {},
     "output_type": "execute_result"
    },
    {
     "data": {
      "image/png": "[encoded data removed]",
      "text/plain": [
       "<Figure size 432x288 with 1 Axes>"
      ]
     },
     "metadata": {
      "needs_background": "light"
     },
     "output_type": "display_data"
    }
   ],
   "source": [
    "plt.figure()\n",
    "sns.distplot(fraudes['step'],bins=743)"
   ]
  },
  {
   "cell_type": "markdown",
   "metadata": {},
   "source": [
    "En \"découpant\" encore plus l'histogramme on se rend compte que les transactions sont très regroupés sur certains steps. En se renseignant un peu sur le dataset, on peut apprendre qu'il renseigne en réalité un mois complet de journaux financiers d'un service d'argent mobile. La forme de l'histogramme semble assez cohérente avec la volatilité que l'on attribue aux marchées financiers."
   ]
  },
  {
   "cell_type": "markdown",
   "metadata": {},
   "source": [
    "**Histogramme de 'isFlaggedFraud'**"
   ]
  },
  {
   "cell_type": "code",
   "execution_count": 14,
   "metadata": {
    "scrolled": true
   },
   "outputs": [
    {
     "data": {
      "text/plain": [
       "<matplotlib.axes._subplots.AxesSubplot at 0x29451aeaa60>"
      ]
     },
     "execution_count": 14,
     "metadata": {},
     "output_type": "execute_result"
    },
    {
     "data": {
      "image/png": "[encoded data removed]",
      "text/plain": [
       "<Figure size 432x288 with 1 Axes>"
      ]
     },
     "metadata": {
      "needs_background": "light"
     },
     "output_type": "display_data"
    }
   ],
   "source": [
    "plt.figure()\n",
    "sns.barplot(x=fraudes['isFlaggedFraud'], y=fraudes['isFlaggedFraud'].value_counts())"
   ]
  },
  {
   "cell_type": "markdown",
   "metadata": {},
   "source": [
    "la barre des '1' n'est même pas visible"
   ]
  },
  {
   "cell_type": "code",
   "execution_count": 15,
   "metadata": {},
   "outputs": [
    {
     "data": {
      "text/plain": [
       "0    6362604\n",
       "1         16\n",
       "Name: isFlaggedFraud, dtype: int64"
      ]
     },
     "execution_count": 15,
     "metadata": {},
     "output_type": "execute_result"
    }
   ],
   "source": [
    "fraudes['isFlaggedFraud'].value_counts()"
   ]
  },
  {
   "cell_type": "markdown",
   "metadata": {},
   "source": [
    "On constate qu'on ne retrouve que 16 valeurs '1' dans la colonne 'isFlaggedFraud' (sur plus de 6 milions de lignes). Cette variable est t-elle vraiment utilisable pour notre modèle?"
   ]
  },
  {
   "cell_type": "markdown",
   "metadata": {},
   "source": [
    "### 3) graphique des colonnes objects"
   ]
  },
  {
   "cell_type": "markdown",
   "metadata": {},
   "source": [
    "#### les différents types de transactions\n"
   ]
  },
  {
   "cell_type": "markdown",
   "metadata": {},
   "source": [
    "Regardons plus en détail les différents types de transactions dans ce dataset:"
   ]
  },
  {
   "cell_type": "code",
   "execution_count": 16,
   "metadata": {
    "scrolled": true
   },
   "outputs": [
    {
     "data": {
      "text/plain": [
       "<matplotlib.axes._subplots.AxesSubplot at 0x29451785c70>"
      ]
     },
     "execution_count": 16,
     "metadata": {},
     "output_type": "execute_result"
    },
    {
     "data": {
      "image/png": "[encoded data removed]",
      "text/plain": [
       "<Figure size 432x288 with 1 Axes>"
      ]
     },
     "metadata": {},
     "output_type": "display_data"
    }
   ],
   "source": [
    "fraudes['type'].value_counts().plot.pie()"
   ]
  },
  {
   "cell_type": "markdown",
   "metadata": {},
   "source": [
    "Il ya 5 types d'opérations dans ce dataset. On retrouve une majorité de payment et de cash-out, mais très peu d'opérations de débit"
   ]
  },
  {
   "cell_type": "markdown",
   "metadata": {},
   "source": [
    "#### noms des envoyeurs et receveurs\n"
   ]
  },
  {
   "cell_type": "markdown",
   "metadata": {},
   "source": [
    "L'identifiant de l'envoyeur et du destinataire ne semble pas être des variables intéressantes à premiere vue, à part si on trouve plusieurs transactions effectuée par les mêmes individues dans ce dataset. Auxquelle cas on pourrait chercher une correlation entre le nombre de transaction effectué par un seul individue et sa propention à frauder"
   ]
  },
  {
   "cell_type": "code",
   "execution_count": 17,
   "metadata": {},
   "outputs": [
    {
     "data": {
      "text/plain": [
       "(6362620, 11)"
      ]
     },
     "execution_count": 17,
     "metadata": {},
     "output_type": "execute_result"
    }
   ],
   "source": [
    "fraudes.shape"
   ]
  },
  {
   "cell_type": "code",
   "execution_count": 18,
   "metadata": {},
   "outputs": [
    {
     "data": {
      "text/plain": [
       "6353307"
      ]
     },
     "execution_count": 18,
     "metadata": {},
     "output_type": "execute_result"
    }
   ],
   "source": [
    "fraudes['nameOrig'].nunique()"
   ]
  },
  {
   "cell_type": "code",
   "execution_count": 19,
   "metadata": {
    "scrolled": false
   },
   "outputs": [
    {
     "data": {
      "text/plain": [
       "C363736674     3\n",
       "C2051359467    3\n",
       "C1784010646    3\n",
       "C545315117     3\n",
       "C1677795071    3\n",
       "              ..\n",
       "C1594075386    1\n",
       "C817782387     1\n",
       "C1581264068    1\n",
       "C712432507     1\n",
       "C301226446     1\n",
       "Name: nameOrig, Length: 6353307, dtype: int64"
      ]
     },
     "execution_count": 19,
     "metadata": {},
     "output_type": "execute_result"
    }
   ],
   "source": [
    "fraudes['nameOrig'].value_counts()"
   ]
  },
  {
   "cell_type": "markdown",
   "metadata": {},
   "source": [
    "Il y a à peine 10 000 valeurs non-uniques, autrement dit, on retrouve quasi-systématiquement une seul transaction par envoyeur. L'envoyeur ayant effectué le plus de transaction n'en a effectué que 3. La variable 'nameOrig' est donc sans doute inutile pour notre modèle"
   ]
  },
  {
   "cell_type": "code",
   "execution_count": 20,
   "metadata": {},
   "outputs": [
    {
     "data": {
      "text/plain": [
       "2722362"
      ]
     },
     "execution_count": 20,
     "metadata": {},
     "output_type": "execute_result"
    }
   ],
   "source": [
    "fraudes['nameDest'].nunique()"
   ]
  },
  {
   "cell_type": "code",
   "execution_count": 21,
   "metadata": {},
   "outputs": [
    {
     "data": {
      "text/plain": [
       "C1286084959    113\n",
       "C985934102     109\n",
       "C665576141     105\n",
       "C2083562754    102\n",
       "C1590550415    101\n",
       "              ... \n",
       "M1402686124      1\n",
       "M67885592        1\n",
       "M244486344       1\n",
       "M1929408133      1\n",
       "C148758587       1\n",
       "Name: nameDest, Length: 2722362, dtype: int64"
      ]
     },
     "execution_count": 21,
     "metadata": {},
     "output_type": "execute_result"
    }
   ],
   "source": [
    "fraudes['nameDest'].value_counts()\n",
    "#la colonne semble significative"
   ]
  },
  {
   "cell_type": "markdown",
   "metadata": {},
   "source": [
    " L'utilisation de la variable 'nameDest' pour notre modèle semble à priori plus pertinente. presque 4 millions de noms de destinataires se repetent dans le dataset, et certains destinataires ont recu plus de 100 transactions. Mais il y toujours beaucoup trop de valeurs uniques. Dans cette analyse, nous allons considéré que 'NameDest' est trop difficile à exploiter pour qu'elle valle la peine d'être garder"
   ]
  },
  {
   "cell_type": "markdown",
   "metadata": {},
   "source": [
    "## II) relations variables/ target"
   ]
  },
  {
   "cell_type": "markdown",
   "metadata": {},
   "source": [
    "Dans cette partie nous allons mettre en relations chaques colonnes avec la target 'isFraud', pour déceler des corrélations"
   ]
  },
  {
   "cell_type": "markdown",
   "metadata": {},
   "source": [
    "#### creations des datasets avec que des fraudes ou que des non-fraudes"
   ]
  },
  {
   "cell_type": "code",
   "execution_count": 22,
   "metadata": {
    "scrolled": true
   },
   "outputs": [],
   "source": [
    "fraudes_true=fraudes[fraudes['isFraud']==1]\n",
    "fraudes_false=fraudes[fraudes['isFraud']==0]"
   ]
  },
  {
   "cell_type": "markdown",
   "metadata": {},
   "source": [
    "### 1) fraudes/type"
   ]
  },
  {
   "cell_type": "code",
   "execution_count": 23,
   "metadata": {
    "scrolled": true
   },
   "outputs": [
    {
     "data": {
      "text/plain": [
       "<matplotlib.axes._subplots.AxesSubplot at 0x29451fc4ac0>"
      ]
     },
     "execution_count": 23,
     "metadata": {},
     "output_type": "execute_result"
    },
    {
     "data": {
      "image/png": "[encoded data removed]",
      "text/plain": [
       "<Figure size 432x288 with 1 Axes>"
      ]
     },
     "metadata": {},
     "output_type": "display_data"
    }
   ],
   "source": [
    "fraudes_true['type'].value_counts().plot.pie()"
   ]
  },
  {
   "cell_type": "markdown",
   "metadata": {},
   "source": [
    "On ne retrouve que des transfert et des cash_out lorsque l'on isole les transactions frauduleuses. Il y a aussi proportionnelement plus de transfert frauduleux que de cash_out frauduleux. Se pose donc la question de l'intêret des autres types de transactions pour notre variable."
   ]
  },
  {
   "cell_type": "code",
   "execution_count": 24,
   "metadata": {
    "scrolled": true
   },
   "outputs": [
    {
     "data": {
      "text/html": [
       "<div>\n",
       "<style scoped>\n",
       "    .dataframe tbody tr th:only-of-type {\n",
       "        vertical-align: middle;\n",
       "    }\n",
       "\n",
       "    .dataframe tbody tr th {\n",
       "        vertical-align: top;\n",
       "    }\n",
       "\n",
       "    .dataframe thead th {\n",
       "        text-align: right;\n",
       "    }\n",
       "</style>\n",
       "<table border=\"1\" class=\"dataframe\">\n",
       "  <thead>\n",
       "    <tr style=\"text-align: right;\">\n",
       "      <th></th>\n",
       "      <th>step</th>\n",
       "      <th>type</th>\n",
       "      <th>amount</th>\n",
       "      <th>nameOrig</th>\n",
       "      <th>oldbalanceOrg</th>\n",
       "      <th>newbalanceOrig</th>\n",
       "      <th>nameDest</th>\n",
       "      <th>oldbalanceDest</th>\n",
       "      <th>newbalanceDest</th>\n",
       "      <th>isFraud</th>\n",
       "      <th>isFlaggedFraud</th>\n",
       "    </tr>\n",
       "  </thead>\n",
       "  <tbody>\n",
       "    <tr>\n",
       "      <th>2</th>\n",
       "      <td>1</td>\n",
       "      <td>TRANSFER</td>\n",
       "      <td>181.00</td>\n",
       "      <td>C1305486145</td>\n",
       "      <td>181.00</td>\n",
       "      <td>0.0</td>\n",
       "      <td>C553264065</td>\n",
       "      <td>0.00</td>\n",
       "      <td>0.00</td>\n",
       "      <td>1</td>\n",
       "      <td>0</td>\n",
       "    </tr>\n",
       "    <tr>\n",
       "      <th>3</th>\n",
       "      <td>1</td>\n",
       "      <td>CASH_OUT</td>\n",
       "      <td>181.00</td>\n",
       "      <td>C840083671</td>\n",
       "      <td>181.00</td>\n",
       "      <td>0.0</td>\n",
       "      <td>C38997010</td>\n",
       "      <td>21182.00</td>\n",
       "      <td>0.00</td>\n",
       "      <td>1</td>\n",
       "      <td>0</td>\n",
       "    </tr>\n",
       "    <tr>\n",
       "      <th>251</th>\n",
       "      <td>1</td>\n",
       "      <td>TRANSFER</td>\n",
       "      <td>2806.00</td>\n",
       "      <td>C1420196421</td>\n",
       "      <td>2806.00</td>\n",
       "      <td>0.0</td>\n",
       "      <td>C972765878</td>\n",
       "      <td>0.00</td>\n",
       "      <td>0.00</td>\n",
       "      <td>1</td>\n",
       "      <td>0</td>\n",
       "    </tr>\n",
       "    <tr>\n",
       "      <th>252</th>\n",
       "      <td>1</td>\n",
       "      <td>CASH_OUT</td>\n",
       "      <td>2806.00</td>\n",
       "      <td>C2101527076</td>\n",
       "      <td>2806.00</td>\n",
       "      <td>0.0</td>\n",
       "      <td>C1007251739</td>\n",
       "      <td>26202.00</td>\n",
       "      <td>0.00</td>\n",
       "      <td>1</td>\n",
       "      <td>0</td>\n",
       "    </tr>\n",
       "    <tr>\n",
       "      <th>680</th>\n",
       "      <td>1</td>\n",
       "      <td>TRANSFER</td>\n",
       "      <td>20128.00</td>\n",
       "      <td>C137533655</td>\n",
       "      <td>20128.00</td>\n",
       "      <td>0.0</td>\n",
       "      <td>C1848415041</td>\n",
       "      <td>0.00</td>\n",
       "      <td>0.00</td>\n",
       "      <td>1</td>\n",
       "      <td>0</td>\n",
       "    </tr>\n",
       "    <tr>\n",
       "      <th>681</th>\n",
       "      <td>1</td>\n",
       "      <td>CASH_OUT</td>\n",
       "      <td>20128.00</td>\n",
       "      <td>C1118430673</td>\n",
       "      <td>20128.00</td>\n",
       "      <td>0.0</td>\n",
       "      <td>C339924917</td>\n",
       "      <td>6268.00</td>\n",
       "      <td>12145.85</td>\n",
       "      <td>1</td>\n",
       "      <td>0</td>\n",
       "    </tr>\n",
       "    <tr>\n",
       "      <th>724</th>\n",
       "      <td>1</td>\n",
       "      <td>CASH_OUT</td>\n",
       "      <td>416001.33</td>\n",
       "      <td>C749981943</td>\n",
       "      <td>0.00</td>\n",
       "      <td>0.0</td>\n",
       "      <td>C667346055</td>\n",
       "      <td>102.00</td>\n",
       "      <td>9291619.62</td>\n",
       "      <td>1</td>\n",
       "      <td>0</td>\n",
       "    </tr>\n",
       "    <tr>\n",
       "      <th>969</th>\n",
       "      <td>1</td>\n",
       "      <td>TRANSFER</td>\n",
       "      <td>1277212.77</td>\n",
       "      <td>C1334405552</td>\n",
       "      <td>1277212.77</td>\n",
       "      <td>0.0</td>\n",
       "      <td>C431687661</td>\n",
       "      <td>0.00</td>\n",
       "      <td>0.00</td>\n",
       "      <td>1</td>\n",
       "      <td>0</td>\n",
       "    </tr>\n",
       "    <tr>\n",
       "      <th>970</th>\n",
       "      <td>1</td>\n",
       "      <td>CASH_OUT</td>\n",
       "      <td>1277212.77</td>\n",
       "      <td>C467632528</td>\n",
       "      <td>1277212.77</td>\n",
       "      <td>0.0</td>\n",
       "      <td>C716083600</td>\n",
       "      <td>0.00</td>\n",
       "      <td>2444985.19</td>\n",
       "      <td>1</td>\n",
       "      <td>0</td>\n",
       "    </tr>\n",
       "    <tr>\n",
       "      <th>1115</th>\n",
       "      <td>1</td>\n",
       "      <td>TRANSFER</td>\n",
       "      <td>35063.63</td>\n",
       "      <td>C1364127192</td>\n",
       "      <td>35063.63</td>\n",
       "      <td>0.0</td>\n",
       "      <td>C1136419747</td>\n",
       "      <td>0.00</td>\n",
       "      <td>0.00</td>\n",
       "      <td>1</td>\n",
       "      <td>0</td>\n",
       "    </tr>\n",
       "    <tr>\n",
       "      <th>1116</th>\n",
       "      <td>1</td>\n",
       "      <td>CASH_OUT</td>\n",
       "      <td>35063.63</td>\n",
       "      <td>C1635772897</td>\n",
       "      <td>35063.63</td>\n",
       "      <td>0.0</td>\n",
       "      <td>C1983025922</td>\n",
       "      <td>31140.00</td>\n",
       "      <td>7550.03</td>\n",
       "      <td>1</td>\n",
       "      <td>0</td>\n",
       "    </tr>\n",
       "    <tr>\n",
       "      <th>1869</th>\n",
       "      <td>1</td>\n",
       "      <td>TRANSFER</td>\n",
       "      <td>25071.46</td>\n",
       "      <td>C669700766</td>\n",
       "      <td>25071.46</td>\n",
       "      <td>0.0</td>\n",
       "      <td>C1384210339</td>\n",
       "      <td>0.00</td>\n",
       "      <td>0.00</td>\n",
       "      <td>1</td>\n",
       "      <td>0</td>\n",
       "    </tr>\n",
       "    <tr>\n",
       "      <th>1870</th>\n",
       "      <td>1</td>\n",
       "      <td>CASH_OUT</td>\n",
       "      <td>25071.46</td>\n",
       "      <td>C1275464847</td>\n",
       "      <td>25071.46</td>\n",
       "      <td>0.0</td>\n",
       "      <td>C1364913072</td>\n",
       "      <td>9083.76</td>\n",
       "      <td>34155.22</td>\n",
       "      <td>1</td>\n",
       "      <td>0</td>\n",
       "    </tr>\n",
       "    <tr>\n",
       "      <th>1911</th>\n",
       "      <td>1</td>\n",
       "      <td>CASH_OUT</td>\n",
       "      <td>132842.64</td>\n",
       "      <td>C13692003</td>\n",
       "      <td>4499.08</td>\n",
       "      <td>0.0</td>\n",
       "      <td>C297927961</td>\n",
       "      <td>0.00</td>\n",
       "      <td>132842.64</td>\n",
       "      <td>1</td>\n",
       "      <td>0</td>\n",
       "    </tr>\n",
       "    <tr>\n",
       "      <th>2301</th>\n",
       "      <td>1</td>\n",
       "      <td>TRANSFER</td>\n",
       "      <td>235238.66</td>\n",
       "      <td>C1872047468</td>\n",
       "      <td>235238.66</td>\n",
       "      <td>0.0</td>\n",
       "      <td>C116289363</td>\n",
       "      <td>0.00</td>\n",
       "      <td>0.00</td>\n",
       "      <td>1</td>\n",
       "      <td>0</td>\n",
       "    </tr>\n",
       "  </tbody>\n",
       "</table>\n",
       "</div>"
      ],
      "text/plain": [
       "      step      type      amount     nameOrig  oldbalanceOrg  newbalanceOrig  \\\n",
       "2        1  TRANSFER      181.00  C1305486145         181.00             0.0   \n",
       "3        1  CASH_OUT      181.00   C840083671         181.00             0.0   \n",
       "251      1  TRANSFER     2806.00  C1420196421        2806.00             0.0   \n",
       "252      1  CASH_OUT     2806.00  C2101527076        2806.00             0.0   \n",
       "680      1  TRANSFER    20128.00   C137533655       20128.00             0.0   \n",
       "681      1  CASH_OUT    20128.00  C1118430673       20128.00             0.0   \n",
       "724      1  CASH_OUT   416001.33   C749981943           0.00             0.0   \n",
       "969      1  TRANSFER  1277212.77  C1334405552     1277212.77             0.0   \n",
       "970      1  CASH_OUT  1277212.77   C467632528     1277212.77             0.0   \n",
       "1115     1  TRANSFER    35063.63  C1364127192       35063.63             0.0   \n",
       "1116     1  CASH_OUT    35063.63  C1635772897       35063.63             0.0   \n",
       "1869     1  TRANSFER    25071.46   C669700766       25071.46             0.0   \n",
       "1870     1  CASH_OUT    25071.46  C1275464847       25071.46             0.0   \n",
       "1911     1  CASH_OUT   132842.64    C13692003        4499.08             0.0   \n",
       "2301     1  TRANSFER   235238.66  C1872047468      235238.66             0.0   \n",
       "\n",
       "         nameDest  oldbalanceDest  newbalanceDest  isFraud  isFlaggedFraud  \n",
       "2      C553264065            0.00            0.00        1               0  \n",
       "3       C38997010        21182.00            0.00        1               0  \n",
       "251    C972765878            0.00            0.00        1               0  \n",
       "252   C1007251739        26202.00            0.00        1               0  \n",
       "680   C1848415041            0.00            0.00        1               0  \n",
       "681    C339924917         6268.00        12145.85        1               0  \n",
       "724    C667346055          102.00      9291619.62        1               0  \n",
       "969    C431687661            0.00            0.00        1               0  \n",
       "970    C716083600            0.00      2444985.19        1               0  \n",
       "1115  C1136419747            0.00            0.00        1               0  \n",
       "1116  C1983025922        31140.00         7550.03        1               0  \n",
       "1869  C1384210339            0.00            0.00        1               0  \n",
       "1870  C1364913072         9083.76        34155.22        1               0  \n",
       "1911   C297927961            0.00       132842.64        1               0  \n",
       "2301   C116289363            0.00            0.00        1               0  "
      ]
     },
     "execution_count": 24,
     "metadata": {},
     "output_type": "execute_result"
    }
   ],
   "source": [
    "fraudes_true.head(15)"
   ]
  },
  {
   "cell_type": "markdown",
   "metadata": {},
   "source": [
    "Il est intéréssant de constater que les fraudes forment souvent des pairs dans le tableau:\n",
    "d'abord un transfert d'un certain montant, puis un cash-out du même montant. Pourtant l'envoyeur et le destinataire \n",
    "sont différents"
   ]
  },
  {
   "cell_type": "markdown",
   "metadata": {},
   "source": [
    "### 2) fraudes/step"
   ]
  },
  {
   "cell_type": "code",
   "execution_count": 25,
   "metadata": {
    "scrolled": true
   },
   "outputs": [
    {
     "data": {
      "text/plain": [
       "<matplotlib.legend.Legend at 0x29455197c40>"
      ]
     },
     "execution_count": 25,
     "metadata": {},
     "output_type": "execute_result"
    },
    {
     "data": {
      "image/png": "[encoded data removed]",
      "text/plain": [
       "<Figure size 432x288 with 1 Axes>"
      ]
     },
     "metadata": {
      "needs_background": "light"
     },
     "output_type": "display_data"
    }
   ],
   "source": [
    "plt.figure()\n",
    "sns.distplot(fraudes_true['step'],label='fraudes',color='red',bins=743)\n",
    "sns.distplot(fraudes_false['step'],label='pas fraudes',color='blue',bins=743)\n",
    "plt.legend()\n"
   ]
  },
  {
   "cell_type": "markdown",
   "metadata": {},
   "source": [
    "les fraudes sont réparties globalement uniformément tout au long du mois (en valeur absolue du moins; nous tracerons plus tard un graphe qui represente le taux de fraude en fonction de step)"
   ]
  },
  {
   "cell_type": "markdown",
   "metadata": {},
   "source": [
    "### 3) fraudes/amount"
   ]
  },
  {
   "cell_type": "code",
   "execution_count": 26,
   "metadata": {},
   "outputs": [
    {
     "data": {
      "text/plain": [
       "<matplotlib.legend.Legend at 0x294516a54f0>"
      ]
     },
     "execution_count": 26,
     "metadata": {},
     "output_type": "execute_result"
    },
    {
     "data": {
      "image/png": "[encoded data removed]",
      "text/plain": [
       "<Figure size 432x288 with 1 Axes>"
      ]
     },
     "metadata": {
      "needs_background": "light"
     },
     "output_type": "display_data"
    }
   ],
   "source": [
    "plt.figure()\n",
    "sns.distplot(fraudes_true['amount'],label='fraudes',color='red',bins=744)\n",
    "sns.distplot(fraudes_false['amount'],label='pas fraudes',color='blue',bins=744)\n",
    "plt.legend()"
   ]
  },
  {
   "cell_type": "markdown",
   "metadata": {},
   "source": [
    "Ce genre de graphe est difficile à lire à cause des valeurs extremes"
   ]
  },
  {
   "cell_type": "markdown",
   "metadata": {},
   "source": [
    " **les variables quantitatives sont dures à observer sur un graphiques (très assymétriques)\n",
    " on essaye donc de tirer des informations en créant de nouveaux datasets plus réduit en mettant un seuil minimal \n",
    "pour les variables quantitatives: On pourra ensuite voir le pourcentage de fraudes en fonction du seuil imposé**"
   ]
  },
  {
   "cell_type": "markdown",
   "metadata": {},
   "source": [
    "### 3) fraudes/amount (révisé)"
   ]
  },
  {
   "cell_type": "code",
   "execution_count": 43,
   "metadata": {
    "scrolled": false
   },
   "outputs": [
    {
     "data": {
      "text/plain": [
       "Text(0, 0.5, 'pourcentage de fraude')"
      ]
     },
     "execution_count": 43,
     "metadata": {},
     "output_type": "execute_result"
    },
    {
     "data": {
      "image/png": "[encoded data removed]",
      "text/plain": [
       "<Figure size 432x288 with 1 Axes>"
      ]
     },
     "metadata": {
      "needs_background": "light"
     },
     "output_type": "display_data"
    }
   ],
   "source": [
    "proportion_de_fraude=np.array([])\n",
    "\n",
    "for i in range(0,10000000,10000):\n",
    "    data=fraudes[fraudes['amount']>i]\n",
    "    proportion_de_fraude=np.append(proportion_de_fraude,data['isFraud'].value_counts(normalize=True)[1])\n",
    "\n",
    "plt.figure()\n",
    "plt.plot(proportion_de_fraude)\n",
    "plt.xlabel('amount')\n",
    "plt.ylabel('pourcentage de fraude')"
   ]
  },
  {
   "cell_type": "markdown",
   "metadata": {},
   "source": [
    "**( pour toutes les courbes qui suivent il faut multiplier l'axe des abcisses par 10000 pour obtenir le seuil minimal imposé)**"
   ]
  },
  {
   "cell_type": "markdown",
   "metadata": {},
   "source": [
    "**Ces graphiques représentent les taux de fraudes pour  les transactions dont la variable representé par chaque graphes est au dessus du seuil imposé. Les seuils minimaux vont de 0 à 10 millions ( pas de 10 000). Les valeurs au dela de 10 millions sont trop peu nombreuses pour que l'on puisse retrouver un nombre satisfaisant de données pour calculer un taux de fraude representatif ( on ne fait donc pas augmenter plus le seuil)**"
   ]
  },
  {
   "cell_type": "markdown",
   "metadata": {},
   "source": [
    "Pour la courbe fraude/amount, on constate que le taux de fraude augmente linéairement en fonction du montant jusqu'à environ 5 millions, puis se met à baisser."
   ]
  },
  {
   "cell_type": "markdown",
   "metadata": {},
   "source": [
    "### 4) fraudes/oldbalanceOrg"
   ]
  },
  {
   "cell_type": "code",
   "execution_count": 42,
   "metadata": {
    "scrolled": true
   },
   "outputs": [
    {
     "data": {
      "text/plain": [
       "Text(0, 0.5, 'pourcentage de fraude')"
      ]
     },
     "execution_count": 42,
     "metadata": {},
     "output_type": "execute_result"
    },
    {
     "data": {
      "image/png": "[encoded data removed]",
      "text/plain": [
       "<Figure size 432x288 with 1 Axes>"
      ]
     },
     "metadata": {
      "needs_background": "light"
     },
     "output_type": "display_data"
    }
   ],
   "source": [
    "proportion_de_fraude2=np.array([])\n",
    "\n",
    "for i in range(0,10000000,10000):\n",
    "    data=fraudes[fraudes['oldbalanceOrg']>i]\n",
    "    proportion_de_fraude2=np.append(proportion_de_fraude2,data['isFraud'].value_counts(normalize=True)[1])\n",
    "\n",
    "plt.figure()\n",
    "plt.plot(proportion_de_fraude2)\n",
    "plt.xlabel('oldbalanceOrg')\n",
    "plt.ylabel('pourcentage de fraude')"
   ]
  },
  {
   "cell_type": "markdown",
   "metadata": {},
   "source": [
    "On constate que les petits comptes sont davantages origines des fraudes que les gros comptes"
   ]
  },
  {
   "cell_type": "markdown",
   "metadata": {},
   "source": [
    "### 5) fraudes/newbalanceOrig"
   ]
  },
  {
   "cell_type": "code",
   "execution_count": 41,
   "metadata": {
    "scrolled": false
   },
   "outputs": [
    {
     "data": {
      "text/plain": [
       "Text(0, 0.5, 'pourcentage de fraude')"
      ]
     },
     "execution_count": 41,
     "metadata": {},
     "output_type": "execute_result"
    },
    {
     "data": {
      "image/png": "[encoded data removed]",
      "text/plain": [
       "<Figure size 432x288 with 1 Axes>"
      ]
     },
     "metadata": {
      "needs_background": "light"
     },
     "output_type": "display_data"
    }
   ],
   "source": [
    "proportion_de_fraude3=np.array([])\n",
    "\n",
    "for i in range(0,10000000,10000):\n",
    "    data=fraudes[fraudes['newbalanceOrig']>i]\n",
    "    proportion_de_fraude3=np.append(proportion_de_fraude3,data['isFraud'].value_counts(normalize=True)[1])\n",
    "\n",
    "plt.figure()\n",
    "plt.plot(proportion_de_fraude3)\n",
    "plt.xlabel('newbalanceOrig')\n",
    "plt.ylabel('pourcentage de fraude')"
   ]
  },
  {
   "cell_type": "markdown",
   "metadata": {},
   "source": [
    "Plus l'envoyeur possède d'argent apres la transaction, plus il y a de chances qu'il s'agisse d'une fraudes"
   ]
  },
  {
   "cell_type": "markdown",
   "metadata": {},
   "source": [
    "### 6) fraudes/oldbalanceDest"
   ]
  },
  {
   "cell_type": "code",
   "execution_count": 40,
   "metadata": {
    "scrolled": false
   },
   "outputs": [
    {
     "data": {
      "text/plain": [
       "Text(0, 0.5, 'pourcentage de fraude')"
      ]
     },
     "execution_count": 40,
     "metadata": {},
     "output_type": "execute_result"
    },
    {
     "data": {
      "image/png": "[encoded data removed]",
      "text/plain": [
       "<Figure size 432x288 with 1 Axes>"
      ]
     },
     "metadata": {
      "needs_background": "light"
     },
     "output_type": "display_data"
    }
   ],
   "source": [
    "proportion_de_fraude4=np.array([])\n",
    "\n",
    "for i in range(0,10000000,10000):\n",
    "    data=fraudes[fraudes['oldbalanceDest']>i]\n",
    "    proportion_de_fraude4=np.append(proportion_de_fraude4,data['isFraud'].value_counts(normalize=True)[1])\n",
    "\n",
    "plt.figure()\n",
    "plt.plot(proportion_de_fraude4)\n",
    "plt.xlabel('oldbalanceDest')\n",
    "plt.ylabel('pourcentage de fraude')"
   ]
  },
  {
   "cell_type": "markdown",
   "metadata": {},
   "source": [
    "Les très petits destinataires sont davantages l'objets de fraudes que les autres. Une certaine tendance se dessine tout de même pour les autres destinataires, qui montre que plus ils possèdent d'argent plus il y a de chances qu'ils soient l'objet de fraudes"
   ]
  },
  {
   "cell_type": "markdown",
   "metadata": {},
   "source": [
    "### 7) fraudes/newbalanceDest"
   ]
  },
  {
   "cell_type": "code",
   "execution_count": 39,
   "metadata": {
    "scrolled": false
   },
   "outputs": [
    {
     "data": {
      "text/plain": [
       "Text(0, 0.5, 'pourcentage de fraude')"
      ]
     },
     "execution_count": 39,
     "metadata": {},
     "output_type": "execute_result"
    },
    {
     "data": {
      "image/png": "[encoded data removed]",
      "text/plain": [
       "<Figure size 432x288 with 1 Axes>"
      ]
     },
     "metadata": {
      "needs_background": "light"
     },
     "output_type": "display_data"
    }
   ],
   "source": [
    "proportion_de_fraude5=np.array([])\n",
    "\n",
    "for i in range(0,10000000,10000):\n",
    "    data=fraudes[fraudes['newbalanceDest']>i]\n",
    "    proportion_de_fraude5=np.append(proportion_de_fraude5,data['isFraud'].value_counts(normalize=True)[1])\n",
    "\n",
    "plt.figure()\n",
    "plt.plot(proportion_de_fraude5)\n",
    "plt.xlabel('newbalanceDest')\n",
    "plt.ylabel('pourcentage de fraude')"
   ]
  },
  {
   "cell_type": "markdown",
   "metadata": {},
   "source": [
    "Plus le receveur est riche apres transaction, plus il y a de chance que cette transaction soit une fraude."
   ]
  },
  {
   "cell_type": "markdown",
   "metadata": {},
   "source": [
    "### 8) fraudes/isflaggedfraud"
   ]
  },
  {
   "cell_type": "code",
   "execution_count": 32,
   "metadata": {
    "scrolled": true
   },
   "outputs": [
    {
     "data": {
      "text/html": [
       "<div>\n",
       "<style scoped>\n",
       "    .dataframe tbody tr th:only-of-type {\n",
       "        vertical-align: middle;\n",
       "    }\n",
       "\n",
       "    .dataframe tbody tr th {\n",
       "        vertical-align: top;\n",
       "    }\n",
       "\n",
       "    .dataframe thead th {\n",
       "        text-align: right;\n",
       "    }\n",
       "</style>\n",
       "<table border=\"1\" class=\"dataframe\">\n",
       "  <thead>\n",
       "    <tr style=\"text-align: right;\">\n",
       "      <th></th>\n",
       "      <th>step</th>\n",
       "      <th>type</th>\n",
       "      <th>amount</th>\n",
       "      <th>nameOrig</th>\n",
       "      <th>oldbalanceOrg</th>\n",
       "      <th>newbalanceOrig</th>\n",
       "      <th>nameDest</th>\n",
       "      <th>oldbalanceDest</th>\n",
       "      <th>newbalanceDest</th>\n",
       "      <th>isFraud</th>\n",
       "      <th>isFlaggedFraud</th>\n",
       "    </tr>\n",
       "  </thead>\n",
       "  <tbody>\n",
       "    <tr>\n",
       "      <th>2736446</th>\n",
       "      <td>212</td>\n",
       "      <td>TRANSFER</td>\n",
       "      <td>4953893.08</td>\n",
       "      <td>C728984460</td>\n",
       "      <td>4953893.08</td>\n",
       "      <td>4953893.08</td>\n",
       "      <td>C639921569</td>\n",
       "      <td>0.0</td>\n",
       "      <td>0.0</td>\n",
       "      <td>1</td>\n",
       "      <td>1</td>\n",
       "    </tr>\n",
       "    <tr>\n",
       "      <th>3247297</th>\n",
       "      <td>250</td>\n",
       "      <td>TRANSFER</td>\n",
       "      <td>1343002.08</td>\n",
       "      <td>C1100582606</td>\n",
       "      <td>1343002.08</td>\n",
       "      <td>1343002.08</td>\n",
       "      <td>C1147517658</td>\n",
       "      <td>0.0</td>\n",
       "      <td>0.0</td>\n",
       "      <td>1</td>\n",
       "      <td>1</td>\n",
       "    </tr>\n",
       "    <tr>\n",
       "      <th>3760288</th>\n",
       "      <td>279</td>\n",
       "      <td>TRANSFER</td>\n",
       "      <td>536624.41</td>\n",
       "      <td>C1035541766</td>\n",
       "      <td>536624.41</td>\n",
       "      <td>536624.41</td>\n",
       "      <td>C1100697970</td>\n",
       "      <td>0.0</td>\n",
       "      <td>0.0</td>\n",
       "      <td>1</td>\n",
       "      <td>1</td>\n",
       "    </tr>\n",
       "    <tr>\n",
       "      <th>5563713</th>\n",
       "      <td>387</td>\n",
       "      <td>TRANSFER</td>\n",
       "      <td>4892193.09</td>\n",
       "      <td>C908544136</td>\n",
       "      <td>4892193.09</td>\n",
       "      <td>4892193.09</td>\n",
       "      <td>C891140444</td>\n",
       "      <td>0.0</td>\n",
       "      <td>0.0</td>\n",
       "      <td>1</td>\n",
       "      <td>1</td>\n",
       "    </tr>\n",
       "    <tr>\n",
       "      <th>5996407</th>\n",
       "      <td>425</td>\n",
       "      <td>TRANSFER</td>\n",
       "      <td>10000000.00</td>\n",
       "      <td>C689608084</td>\n",
       "      <td>19585040.37</td>\n",
       "      <td>19585040.37</td>\n",
       "      <td>C1392803603</td>\n",
       "      <td>0.0</td>\n",
       "      <td>0.0</td>\n",
       "      <td>1</td>\n",
       "      <td>1</td>\n",
       "    </tr>\n",
       "    <tr>\n",
       "      <th>5996409</th>\n",
       "      <td>425</td>\n",
       "      <td>TRANSFER</td>\n",
       "      <td>9585040.37</td>\n",
       "      <td>C452586515</td>\n",
       "      <td>19585040.37</td>\n",
       "      <td>19585040.37</td>\n",
       "      <td>C1109166882</td>\n",
       "      <td>0.0</td>\n",
       "      <td>0.0</td>\n",
       "      <td>1</td>\n",
       "      <td>1</td>\n",
       "    </tr>\n",
       "    <tr>\n",
       "      <th>6168499</th>\n",
       "      <td>554</td>\n",
       "      <td>TRANSFER</td>\n",
       "      <td>3576297.10</td>\n",
       "      <td>C193696150</td>\n",
       "      <td>3576297.10</td>\n",
       "      <td>3576297.10</td>\n",
       "      <td>C484597480</td>\n",
       "      <td>0.0</td>\n",
       "      <td>0.0</td>\n",
       "      <td>1</td>\n",
       "      <td>1</td>\n",
       "    </tr>\n",
       "    <tr>\n",
       "      <th>6205439</th>\n",
       "      <td>586</td>\n",
       "      <td>TRANSFER</td>\n",
       "      <td>353874.22</td>\n",
       "      <td>C1684585475</td>\n",
       "      <td>353874.22</td>\n",
       "      <td>353874.22</td>\n",
       "      <td>C1770418982</td>\n",
       "      <td>0.0</td>\n",
       "      <td>0.0</td>\n",
       "      <td>1</td>\n",
       "      <td>1</td>\n",
       "    </tr>\n",
       "    <tr>\n",
       "      <th>6266413</th>\n",
       "      <td>617</td>\n",
       "      <td>TRANSFER</td>\n",
       "      <td>2542664.27</td>\n",
       "      <td>C786455622</td>\n",
       "      <td>2542664.27</td>\n",
       "      <td>2542664.27</td>\n",
       "      <td>C661958277</td>\n",
       "      <td>0.0</td>\n",
       "      <td>0.0</td>\n",
       "      <td>1</td>\n",
       "      <td>1</td>\n",
       "    </tr>\n",
       "    <tr>\n",
       "      <th>6281482</th>\n",
       "      <td>646</td>\n",
       "      <td>TRANSFER</td>\n",
       "      <td>10000000.00</td>\n",
       "      <td>C19004745</td>\n",
       "      <td>10399045.08</td>\n",
       "      <td>10399045.08</td>\n",
       "      <td>C1806199534</td>\n",
       "      <td>0.0</td>\n",
       "      <td>0.0</td>\n",
       "      <td>1</td>\n",
       "      <td>1</td>\n",
       "    </tr>\n",
       "    <tr>\n",
       "      <th>6281484</th>\n",
       "      <td>646</td>\n",
       "      <td>TRANSFER</td>\n",
       "      <td>399045.08</td>\n",
       "      <td>C724693370</td>\n",
       "      <td>10399045.08</td>\n",
       "      <td>10399045.08</td>\n",
       "      <td>C1909486199</td>\n",
       "      <td>0.0</td>\n",
       "      <td>0.0</td>\n",
       "      <td>1</td>\n",
       "      <td>1</td>\n",
       "    </tr>\n",
       "    <tr>\n",
       "      <th>6296014</th>\n",
       "      <td>671</td>\n",
       "      <td>TRANSFER</td>\n",
       "      <td>3441041.46</td>\n",
       "      <td>C917414431</td>\n",
       "      <td>3441041.46</td>\n",
       "      <td>3441041.46</td>\n",
       "      <td>C1082139865</td>\n",
       "      <td>0.0</td>\n",
       "      <td>0.0</td>\n",
       "      <td>1</td>\n",
       "      <td>1</td>\n",
       "    </tr>\n",
       "    <tr>\n",
       "      <th>6351225</th>\n",
       "      <td>702</td>\n",
       "      <td>TRANSFER</td>\n",
       "      <td>3171085.59</td>\n",
       "      <td>C1892216157</td>\n",
       "      <td>3171085.59</td>\n",
       "      <td>3171085.59</td>\n",
       "      <td>C1308068787</td>\n",
       "      <td>0.0</td>\n",
       "      <td>0.0</td>\n",
       "      <td>1</td>\n",
       "      <td>1</td>\n",
       "    </tr>\n",
       "    <tr>\n",
       "      <th>6362460</th>\n",
       "      <td>730</td>\n",
       "      <td>TRANSFER</td>\n",
       "      <td>10000000.00</td>\n",
       "      <td>C2140038573</td>\n",
       "      <td>17316255.05</td>\n",
       "      <td>17316255.05</td>\n",
       "      <td>C1395467927</td>\n",
       "      <td>0.0</td>\n",
       "      <td>0.0</td>\n",
       "      <td>1</td>\n",
       "      <td>1</td>\n",
       "    </tr>\n",
       "    <tr>\n",
       "      <th>6362462</th>\n",
       "      <td>730</td>\n",
       "      <td>TRANSFER</td>\n",
       "      <td>7316255.05</td>\n",
       "      <td>C1869569059</td>\n",
       "      <td>17316255.05</td>\n",
       "      <td>17316255.05</td>\n",
       "      <td>C1861208726</td>\n",
       "      <td>0.0</td>\n",
       "      <td>0.0</td>\n",
       "      <td>1</td>\n",
       "      <td>1</td>\n",
       "    </tr>\n",
       "    <tr>\n",
       "      <th>6362584</th>\n",
       "      <td>741</td>\n",
       "      <td>TRANSFER</td>\n",
       "      <td>5674547.89</td>\n",
       "      <td>C992223106</td>\n",
       "      <td>5674547.89</td>\n",
       "      <td>5674547.89</td>\n",
       "      <td>C1366804249</td>\n",
       "      <td>0.0</td>\n",
       "      <td>0.0</td>\n",
       "      <td>1</td>\n",
       "      <td>1</td>\n",
       "    </tr>\n",
       "  </tbody>\n",
       "</table>\n",
       "</div>"
      ],
      "text/plain": [
       "         step      type       amount     nameOrig  oldbalanceOrg  \\\n",
       "2736446   212  TRANSFER   4953893.08   C728984460     4953893.08   \n",
       "3247297   250  TRANSFER   1343002.08  C1100582606     1343002.08   \n",
       "3760288   279  TRANSFER    536624.41  C1035541766      536624.41   \n",
       "5563713   387  TRANSFER   4892193.09   C908544136     4892193.09   \n",
       "5996407   425  TRANSFER  10000000.00   C689608084    19585040.37   \n",
       "5996409   425  TRANSFER   9585040.37   C452586515    19585040.37   \n",
       "6168499   554  TRANSFER   3576297.10   C193696150     3576297.10   \n",
       "6205439   586  TRANSFER    353874.22  C1684585475      353874.22   \n",
       "6266413   617  TRANSFER   2542664.27   C786455622     2542664.27   \n",
       "6281482   646  TRANSFER  10000000.00    C19004745    10399045.08   \n",
       "6281484   646  TRANSFER    399045.08   C724693370    10399045.08   \n",
       "6296014   671  TRANSFER   3441041.46   C917414431     3441041.46   \n",
       "6351225   702  TRANSFER   3171085.59  C1892216157     3171085.59   \n",
       "6362460   730  TRANSFER  10000000.00  C2140038573    17316255.05   \n",
       "6362462   730  TRANSFER   7316255.05  C1869569059    17316255.05   \n",
       "6362584   741  TRANSFER   5674547.89   C992223106     5674547.89   \n",
       "\n",
       "         newbalanceOrig     nameDest  oldbalanceDest  newbalanceDest  isFraud  \\\n",
       "2736446      4953893.08   C639921569             0.0             0.0        1   \n",
       "3247297      1343002.08  C1147517658             0.0             0.0        1   \n",
       "3760288       536624.41  C1100697970             0.0             0.0        1   \n",
       "5563713      4892193.09   C891140444             0.0             0.0        1   \n",
       "5996407     19585040.37  C1392803603             0.0             0.0        1   \n",
       "5996409     19585040.37  C1109166882             0.0             0.0        1   \n",
       "6168499      3576297.10   C484597480             0.0             0.0        1   \n",
       "6205439       353874.22  C1770418982             0.0             0.0        1   \n",
       "6266413      2542664.27   C661958277             0.0             0.0        1   \n",
       "6281482     10399045.08  C1806199534             0.0             0.0        1   \n",
       "6281484     10399045.08  C1909486199             0.0             0.0        1   \n",
       "6296014      3441041.46  C1082139865             0.0             0.0        1   \n",
       "6351225      3171085.59  C1308068787             0.0             0.0        1   \n",
       "6362460     17316255.05  C1395467927             0.0             0.0        1   \n",
       "6362462     17316255.05  C1861208726             0.0             0.0        1   \n",
       "6362584      5674547.89  C1366804249             0.0             0.0        1   \n",
       "\n",
       "         isFlaggedFraud  \n",
       "2736446               1  \n",
       "3247297               1  \n",
       "3760288               1  \n",
       "5563713               1  \n",
       "5996407               1  \n",
       "5996409               1  \n",
       "6168499               1  \n",
       "6205439               1  \n",
       "6266413               1  \n",
       "6281482               1  \n",
       "6281484               1  \n",
       "6296014               1  \n",
       "6351225               1  \n",
       "6362460               1  \n",
       "6362462               1  \n",
       "6362584               1  "
      ]
     },
     "execution_count": 32,
     "metadata": {},
     "output_type": "execute_result"
    }
   ],
   "source": [
    "fraudes[fraudes[\"isFlaggedFraud\"]==1]"
   ]
  },
  {
   "cell_type": "markdown",
   "metadata": {},
   "source": [
    "Quand une transaction est labellisé comme une fraude, il s'agit toujours d'une fraude (réel) et d'un transfert."
   ]
  },
  {
   "cell_type": "markdown",
   "metadata": {},
   "source": [
    "### Récap\n",
    "- le nombre de transaction prend la forme de piques a certaines heures et peut être quasi nuls à d'autres moments\n",
    "- seuls les types transferts et cash out peuvent être des fraudes\n",
    "- On peut aussi constater qu'il ya proportionnelement plus de fraudes dans les transferts que dans les cash-out\n",
    "- il sembletait que + le montant de la transaction augmente +le nb de fraudes augmente, puis la proportion se met à baisser autour de 5 millions\n",
    "- les variables de nameOrig ne se repetent que très rarement, la colonne n'est pas utile\n",
    "- il semblerait que les comptes d'origines (oldbalanceOrg) plus pauvres soient pas plus victimes de fraudes que ceux qui sont plus riches ( decroissance exponentiel)\n",
    "- plus le receveur est riche apres la transaction plus il y de chances qu'il y ait fraude\n",
    "- lorsque le receveur est 'pauvre' avant la transaction, il y a plus de chance qu'il s'agisse d'une fraude ( décroissance exponentielle, puis tendance à remonter mais tendance assez faible)\n",
    "- la relation nombre de transaction reçu par le destinataire/pourcentage de fraude varie différemment selon le nombre de transaction (diminue jusqu'à 35, puis remonte jusqu'à 75, puis redescend...)\n",
    "- isFlaggedFraud ne prend la valeur 1 que 16 fois, mais lorsqu'elle prend cette valeur alors 'isFraud' vaut toujours 1 (+ ce sont toujours des transferts)"
   ]
  },
  {
   "cell_type": "markdown",
   "metadata": {},
   "source": [
    " ## III) Analyse Bivariée: Variables/Variables"
   ]
  },
  {
   "cell_type": "markdown",
   "metadata": {},
   "source": [
    "Intéressons-nous plus en détail aux relations entre d'autres variables"
   ]
  },
  {
   "cell_type": "markdown",
   "metadata": {},
   "source": [
    "### 1) corrélation entre variables quantitatives"
   ]
  },
  {
   "cell_type": "markdown",
   "metadata": {},
   "source": [
    " Regardons si il est intéressant de garder toutes les variables quantitatives"
   ]
  },
  {
   "cell_type": "code",
   "execution_count": 33,
   "metadata": {
    "scrolled": false
   },
   "outputs": [
    {
     "data": {
      "text/html": [
       "<div>\n",
       "<style scoped>\n",
       "    .dataframe tbody tr th:only-of-type {\n",
       "        vertical-align: middle;\n",
       "    }\n",
       "\n",
       "    .dataframe tbody tr th {\n",
       "        vertical-align: top;\n",
       "    }\n",
       "\n",
       "    .dataframe thead th {\n",
       "        text-align: right;\n",
       "    }\n",
       "</style>\n",
       "<table border=\"1\" class=\"dataframe\">\n",
       "  <thead>\n",
       "    <tr style=\"text-align: right;\">\n",
       "      <th></th>\n",
       "      <th>amount</th>\n",
       "      <th>oldbalanceOrg</th>\n",
       "      <th>newbalanceOrig</th>\n",
       "      <th>oldbalanceDest</th>\n",
       "      <th>newbalanceDest</th>\n",
       "    </tr>\n",
       "  </thead>\n",
       "  <tbody>\n",
       "    <tr>\n",
       "      <th>amount</th>\n",
       "      <td>1.000000</td>\n",
       "      <td>-0.002762</td>\n",
       "      <td>-0.007861</td>\n",
       "      <td>0.294137</td>\n",
       "      <td>0.459304</td>\n",
       "    </tr>\n",
       "    <tr>\n",
       "      <th>oldbalanceOrg</th>\n",
       "      <td>-0.002762</td>\n",
       "      <td>1.000000</td>\n",
       "      <td>0.998803</td>\n",
       "      <td>0.066243</td>\n",
       "      <td>0.042029</td>\n",
       "    </tr>\n",
       "    <tr>\n",
       "      <th>newbalanceOrig</th>\n",
       "      <td>-0.007861</td>\n",
       "      <td>0.998803</td>\n",
       "      <td>1.000000</td>\n",
       "      <td>0.067812</td>\n",
       "      <td>0.041837</td>\n",
       "    </tr>\n",
       "    <tr>\n",
       "      <th>oldbalanceDest</th>\n",
       "      <td>0.294137</td>\n",
       "      <td>0.066243</td>\n",
       "      <td>0.067812</td>\n",
       "      <td>1.000000</td>\n",
       "      <td>0.976569</td>\n",
       "    </tr>\n",
       "    <tr>\n",
       "      <th>newbalanceDest</th>\n",
       "      <td>0.459304</td>\n",
       "      <td>0.042029</td>\n",
       "      <td>0.041837</td>\n",
       "      <td>0.976569</td>\n",
       "      <td>1.000000</td>\n",
       "    </tr>\n",
       "  </tbody>\n",
       "</table>\n",
       "</div>"
      ],
      "text/plain": [
       "                  amount  oldbalanceOrg  newbalanceOrig  oldbalanceDest  \\\n",
       "amount          1.000000      -0.002762       -0.007861        0.294137   \n",
       "oldbalanceOrg  -0.002762       1.000000        0.998803        0.066243   \n",
       "newbalanceOrig -0.007861       0.998803        1.000000        0.067812   \n",
       "oldbalanceDest  0.294137       0.066243        0.067812        1.000000   \n",
       "newbalanceDest  0.459304       0.042029        0.041837        0.976569   \n",
       "\n",
       "                newbalanceDest  \n",
       "amount                0.459304  \n",
       "oldbalanceOrg         0.042029  \n",
       "newbalanceOrig        0.041837  \n",
       "oldbalanceDest        0.976569  \n",
       "newbalanceDest        1.000000  "
      ]
     },
     "execution_count": 33,
     "metadata": {},
     "output_type": "execute_result"
    },
    {
     "data": {
      "image/png": "[encoded data removed]",
      "text/plain": [
       "<Figure size 432x288 with 2 Axes>"
      ]
     },
     "metadata": {
      "needs_background": "light"
     },
     "output_type": "display_data"
    }
   ],
   "source": [
    "variables_float=fraudes.select_dtypes('float').columns\n",
    "sns.heatmap(fraudes[variables_float].corr(),annot=True)\n",
    "fraudes[variables_float].corr()"
   ]
  },
  {
   "cell_type": "markdown",
   "metadata": {},
   "source": [
    "Tres grosse corrélation lineaire entre les 'old balance' et 'newbalance' ( pour le destinataire et l'envoyeur), il n'est sans doute pas nécessaire de garder les 4"
   ]
  },
  {
   "cell_type": "markdown",
   "metadata": {},
   "source": [
    "### 2) type/amount"
   ]
  },
  {
   "cell_type": "code",
   "execution_count": 34,
   "metadata": {
    "scrolled": false
   },
   "outputs": [
    {
     "data": {
      "text/plain": [
       "<matplotlib.axes._subplots.AxesSubplot at 0x2945727a310>"
      ]
     },
     "execution_count": 34,
     "metadata": {},
     "output_type": "execute_result"
    },
    {
     "data": {
      "image/png": "[encoded data removed]",
      "text/plain": [
       "<Figure size 432x288 with 1 Axes>"
      ]
     },
     "metadata": {
      "needs_background": "light"
     },
     "output_type": "display_data"
    }
   ],
   "source": [
    "plt.figure()\n",
    "sns.barplot(x='type', y='amount',data=fraudes)"
   ]
  },
  {
   "cell_type": "markdown",
   "metadata": {},
   "source": [
    "les transactions sous forment de 'transfer' representent plus d'argent que les 'cash_out'"
   ]
  },
  {
   "cell_type": "markdown",
   "metadata": {},
   "source": [
    "### 3) step/type"
   ]
  },
  {
   "cell_type": "markdown",
   "metadata": {},
   "source": [
    "Nous allons créer un dataset avec uniquement des 'transfer' et un autre avec uniquement des 'cash_out'"
   ]
  },
  {
   "cell_type": "code",
   "execution_count": 35,
   "metadata": {},
   "outputs": [],
   "source": [
    "fraudes_transfert=fraudes['type']=='TRANSFER'\n",
    "index_transfert=fraudes_transfert[fraudes_transfert==True].index\n",
    "transfert=fraudes.loc[index_transfert,:]\n",
    "\n",
    "fraudes_cash_out=fraudes['type']=='CASH_OUT'\n",
    "index_cash_out=fraudes_cash_out[fraudes_cash_out==True].index\n",
    "cash_out=fraudes.loc[index_cash_out,:]"
   ]
  },
  {
   "cell_type": "code",
   "execution_count": 36,
   "metadata": {
    "scrolled": false
   },
   "outputs": [
    {
     "data": {
      "text/plain": [
       "<matplotlib.legend.Legend at 0x2945730ba00>"
      ]
     },
     "execution_count": 36,
     "metadata": {},
     "output_type": "execute_result"
    },
    {
     "data": {
      "image/png": "[encoded data removed]",
      "text/plain": [
       "<Figure size 432x288 with 1 Axes>"
      ]
     },
     "metadata": {
      "needs_background": "light"
     },
     "output_type": "display_data"
    }
   ],
   "source": [
    "plt.figure()\n",
    "sns.distplot(cash_out['step'],bins=743,color='blue',label='cash_out')\n",
    "sns.distplot(transfert['step'],bins=743,color='orange',label='transfert')\n",
    "plt.legend()"
   ]
  },
  {
   "cell_type": "markdown",
   "metadata": {},
   "source": [
    "Les courbes des cash_out et transfert ressemblent beaucoup à la courbe du dataset complet, on ne peut donc pas en conclure qu'il y a plus de cash_out que de transferts à certains moment du mois "
   ]
  },
  {
   "cell_type": "markdown",
   "metadata": {},
   "source": [
    "### 4) Analyse plus poussée de la colonne step"
   ]
  },
  {
   "cell_type": "markdown",
   "metadata": {},
   "source": [
    "Nous allons créer de nouvelles variables temporelles 'jours' et 'heures'"
   ]
  },
  {
   "cell_type": "markdown",
   "metadata": {},
   "source": [
    "#### par heures"
   ]
  },
  {
   "cell_type": "code",
   "execution_count": 37,
   "metadata": {
    "scrolled": false
   },
   "outputs": [
    {
     "data": {
      "text/plain": [
       "<matplotlib.axes._subplots.AxesSubplot at 0x29468148f10>"
      ]
     },
     "execution_count": 37,
     "metadata": {},
     "output_type": "execute_result"
    },
    {
     "data": {
      "image/png": "[encoded data removed]",
      "text/plain": [
       "<Figure size 432x288 with 1 Axes>"
      ]
     },
     "metadata": {
      "needs_background": "light"
     },
     "output_type": "display_data"
    }
   ],
   "source": [
    "heures=fraudes.step %24\n",
    "fraudes['heures']=heures\n",
    "fraudes_true=fraudes[fraudes['isFraud']==1]\n",
    "taux_fraudes_heures=fraudes_true['heures'].value_counts()/fraudes['heures'].value_counts()\n",
    "sns.barplot(x=taux_fraudes_heures.index,y=taux_fraudes_heures)"
   ]
  },
  {
   "cell_type": "markdown",
   "metadata": {},
   "source": [
    "On constate que le taux de fraude augmentent considérablement à certaines heures de la journée ( la nuit?), la variable 'heure' nous donne une information très importante pour la prédiction des fraudes. Nous pourrions donc remplacer 'step' par cette dernière."
   ]
  },
  {
   "cell_type": "markdown",
   "metadata": {},
   "source": [
    "#### par jours"
   ]
  },
  {
   "cell_type": "code",
   "execution_count": 38,
   "metadata": {
    "scrolled": true
   },
   "outputs": [
    {
     "data": {
      "text/plain": [
       "<matplotlib.axes._subplots.AxesSubplot at 0x2947c885e50>"
      ]
     },
     "execution_count": 38,
     "metadata": {},
     "output_type": "execute_result"
    },
    {
     "data": {
      "image/png": "[encoded data removed]",
      "text/plain": [
       "<Figure size 432x288 with 1 Axes>"
      ]
     },
     "metadata": {
      "needs_background": "light"
     },
     "output_type": "display_data"
    },
    {
     "data": {
      "image/png": "[encoded data removed]",
      "text/plain": [
       "<Figure size 432x288 with 1 Axes>"
      ]
     },
     "metadata": {
      "needs_background": "light"
     },
     "output_type": "display_data"
    }
   ],
   "source": [
    "jours=fraudes.step //24\n",
    "fraudes['jours']=jours\n",
    "fraudes_true=fraudes[fraudes['isFraud']==1]\n",
    "taux_fraudes_jours=fraudes_true['jours'].value_counts()/fraudes['jours'].value_counts()\n",
    "plt.figure()\n",
    "sns.barplot(x=taux_fraudes_jours.index,y=taux_fraudes_jours)\n",
    "plt.figure()\n",
    "sns.barplot(x=fraudes_true['jours'].value_counts().index,y=fraudes_true['jours'].value_counts())"
   ]
  },
  {
   "cell_type": "markdown",
   "metadata": {},
   "source": [
    "Certains jours ont un taux plus élevé que d'autres (2-4, 17-20, 25-27), par contre toutes les transactions du dernier jours\n",
    "sont des fraudes. On met en évidence un gros problème dans nos données, qu'il faudra sans doute traiter.\n",
    "Pour cette même raison, nous ne pouvons pas rajoute une colonne jour à notre dataset"
   ]
  },
  {
   "cell_type": "markdown",
   "metadata": {},
   "source": [
    "## IV) Modifications proposé et autres questionnements sur le dataset suite à l'EDA\n",
    "\n",
    "Récapitulons les modifications que nos analyses suggèrent\n",
    "\n",
    "- ajout d'une colonne heure-->enlever step\n",
    "-  enlever les colonnes newBalanceOrig et newBalanceDest \n",
    "- enlever les lignes qui ne sont ni des transferts ni des cash_out (jamais de fraudes)\n",
    "- enlever isFlaggedFraud\n",
    "-  enlever nameDest et nameOrig\n",
    "\n",
    "- besoin de réequilibrer nos données --> essayer d'appliquer un algorithme type SMOTE...\n",
    "- encoder 'type'\n",
    "- standardiser nos variables continues\n",
    "\n",
    "- que faire des transactions du 30 du mois?"
   ]
  }
 ],
 "metadata": {
  "kernelspec": {
   "display_name": "Python 3",
   "language": "python",
   "name": "python3"
  },
  "language_info": {
   "codemirror_mode": {
    "name": "ipython",
    "version": 3
   },
   "file_extension": ".py",
   "mimetype": "text/x-python",
   "name": "python",
   "nbconvert_exporter": "python",
   "pygments_lexer": "ipython3",
   "version": "3.8.3"
  }
 },
 "nbformat": 4,
 "nbformat_minor": 5
}
